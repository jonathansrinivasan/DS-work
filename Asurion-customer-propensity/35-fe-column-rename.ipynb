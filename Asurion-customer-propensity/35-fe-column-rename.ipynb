{
 "cells": [
  {
   "cell_type": "code",
   "execution_count": 1,
   "id": "d20eaab9",
   "metadata": {},
   "outputs": [],
   "source": [
    "import pandas as pd"
   ]
  },
  {
   "cell_type": "code",
   "execution_count": 2,
   "id": "a6f10dd4",
   "metadata": {},
   "outputs": [
    {
     "name": "stdout",
     "output_type": "stream",
     "text": [
      "/workspace/asurion_f22_muby\n"
     ]
    }
   ],
   "source": [
    "%cd .."
   ]
  },
  {
   "cell_type": "code",
   "execution_count": 3,
   "id": "9ab3edec",
   "metadata": {},
   "outputs": [],
   "source": [
    "df_encoded = pd.read_csv(\"fe_data/total_encoded_tabular.csv\")"
   ]
  },
  {
   "cell_type": "code",
   "execution_count": 4,
   "id": "e82c87a6",
   "metadata": {},
   "outputs": [
    {
     "name": "stdout",
     "output_type": "stream",
     "text": [
      "<class 'pandas.core.frame.DataFrame'>\n",
      "RangeIndex: 1211571 entries, 0 to 1211570\n",
      "Data columns (total 46 columns):\n",
      " #   Column                      Non-Null Count    Dtype  \n",
      "---  ------                      --------------    -----  \n",
      " 0   id                          1211571 non-null  object \n",
      " 1   quality_sale                1211571 non-null  int64  \n",
      " 2   accepted_flg                1211571 non-null  int64  \n",
      " 3   seven_day_churn             105425 non-null   float64\n",
      " 4   thirty_day_churn            105425 non-null   float64\n",
      " 5   ninety_day_churn            105425 non-null   float64\n",
      " 6   clndr_dt_cst                1211571 non-null  object \n",
      " 7   start_dt                    1211571 non-null  object \n",
      " 8   lines                       1211571 non-null  int64  \n",
      " 9   previous_tech_support_call  1211571 non-null  int64  \n",
      " 10  account_tenure              1211571 non-null  int64  \n",
      " 11  past_yr_claim_count         1211571 non-null  int64  \n",
      " 12  num_decline                 1211571 non-null  int64  \n",
      " 13  exp                         1211571 non-null  int64  \n",
      " 14  product_type                1211571 non-null  object \n",
      " 15  pmake                       1211571 non-null  object \n",
      " 16  claritas_hh_count           1211571 non-null  int64  \n",
      " 17  technodoption_class         1211571 non-null  object \n",
      " 18  hh_income                   1211571 non-null  object \n",
      " 19  age_class                   1211571 non-null  object \n",
      " 20  hh_education                1211571 non-null  object \n",
      " 21  hh_composition              1211571 non-null  object \n",
      " 22  hh_tenure                   1211571 non-null  object \n",
      " 23  urbanicity                  1211571 non-null  object \n",
      " 24  median_income               1211571 non-null  int64  \n",
      " 25  total_population            1211571 non-null  int64  \n",
      " 26  perc_female                 1211571 non-null  int64  \n",
      " 27  perc_under18                1211571 non-null  int64  \n",
      " 28  perc_over65                 1211571 non-null  int64  \n",
      " 29  perc_white                  1211571 non-null  int64  \n",
      " 30  perc_black                  1211571 non-null  int64  \n",
      " 31  population_density          1211571 non-null  int64  \n",
      " 32  zipcode                     1088003 non-null  float64\n",
      " 33  county                      1087872 non-null  object \n",
      " 34  state                       1087821 non-null  object \n",
      " 35  state_code                  1087821 non-null  object \n",
      " 36  latitude                    1087872 non-null  float64\n",
      " 37  longitude                   1087872 non-null  float64\n",
      " 38  month                       1211571 non-null  object \n",
      " 39  hh_income_code              1211571 non-null  int64  \n",
      " 40  day_of_week                 1211571 non-null  object \n",
      " 41  time_of_day                 1211571 non-null  int64  \n",
      " 42  zipcode_avg_sales           1088003 non-null  float64\n",
      " 43  zipcode_neg_sales           1088003 non-null  float64\n",
      " 44  zipcode_pos_sales           1088003 non-null  float64\n",
      " 45  zipcode_total_sales         1088003 non-null  float64\n",
      "dtypes: float64(10), int64(19), object(17)\n",
      "memory usage: 425.2+ MB\n"
     ]
    }
   ],
   "source": [
    "df_encoded.info()"
   ]
  },
  {
   "cell_type": "code",
   "execution_count": 5,
   "id": "20e85b04",
   "metadata": {},
   "outputs": [
    {
     "name": "stdout",
     "output_type": "stream",
     "text": [
      "<class 'pandas.core.frame.DataFrame'>\n",
      "RangeIndex: 1211571 entries, 0 to 1211570\n",
      "Data columns (total 46 columns):\n",
      " #   Column                      Non-Null Count    Dtype  \n",
      "---  ------                      --------------    -----  \n",
      " 0   id                          1211571 non-null  object \n",
      " 1   quality_sale                1211571 non-null  int64  \n",
      " 2   accepted_flg                1211571 non-null  int64  \n",
      " 3   seven_day_churn             105425 non-null   float64\n",
      " 4   thirty_day_churn            105425 non-null   float64\n",
      " 5   ninety_day_churn            105425 non-null   float64\n",
      " 6   clndr_dt_cst                1211571 non-null  object \n",
      " 7   start_dt                    1211571 non-null  object \n",
      " 8   lines                       1211571 non-null  int64  \n",
      " 9   previous_tech_support_call  1211571 non-null  int64  \n",
      " 10  account_tenure              1211571 non-null  int64  \n",
      " 11  past_yr_claim_count         1211571 non-null  int64  \n",
      " 12  num_decline                 1211571 non-null  int64  \n",
      " 13  exp                         1211571 non-null  int64  \n",
      " 14  product_type                1211571 non-null  object \n",
      " 15  pmake                       1211571 non-null  object \n",
      " 16  claritas_hh_count           1211571 non-null  int64  \n",
      " 17  technodoption_class         1211571 non-null  object \n",
      " 18  hh_income                   1211571 non-null  object \n",
      " 19  age_class                   1211571 non-null  object \n",
      " 20  hh_education                1211571 non-null  object \n",
      " 21  hh_composition              1211571 non-null  object \n",
      " 22  hh_tenure                   1211571 non-null  object \n",
      " 23  urbanicity                  1211571 non-null  object \n",
      " 24  median_income               1211571 non-null  int64  \n",
      " 25  total_population            1211571 non-null  int64  \n",
      " 26  perc_female                 1211571 non-null  int64  \n",
      " 27  perc_under18                1211571 non-null  int64  \n",
      " 28  perc_over65                 1211571 non-null  int64  \n",
      " 29  perc_white                  1211571 non-null  int64  \n",
      " 30  perc_black                  1211571 non-null  int64  \n",
      " 31  population_density          1211571 non-null  int64  \n",
      " 32  zipcode                     1088003 non-null  float64\n",
      " 33  county                      1087872 non-null  object \n",
      " 34  state                       1087821 non-null  object \n",
      " 35  state_code                  1087821 non-null  object \n",
      " 36  latitude                    1087872 non-null  float64\n",
      " 37  longitude                   1087872 non-null  float64\n",
      " 38  month                       1211571 non-null  object \n",
      " 39  hh_income_code              1211571 non-null  int64  \n",
      " 40  day_of_week                 1211571 non-null  object \n",
      " 41  time_of_day                 1211571 non-null  int64  \n",
      " 42  zipcode_accepted_prop       1088003 non-null  float64\n",
      " 43  zipcode_rejected_offers     1088003 non-null  float64\n",
      " 44  zipcode_accepted_offers     1088003 non-null  float64\n",
      " 45  zipcode_total_offers        1088003 non-null  float64\n",
      "dtypes: float64(10), int64(19), object(17)\n",
      "memory usage: 425.2+ MB\n"
     ]
    }
   ],
   "source": [
    "df_encoded = df_encoded.rename(columns = {\"zipcode_total_sales\":\"zipcode_total_offers\",\n",
    "                                          \"zipcode_neg_sales\":\"zipcode_rejected_offers\",\n",
    "                                          \"zipcode_pos_sales\":\"zipcode_accepted_offers\",\n",
    "                                          \"zipcode_avg_sales\":\"zipcode_accepted_prop\"})\n",
    "df_encoded.info()"
   ]
  },
  {
   "cell_type": "code",
   "execution_count": 6,
   "id": "2d3e375b",
   "metadata": {},
   "outputs": [],
   "source": [
    "df_encoded.to_csv(\"fe_data/total_encoded_tabular.csv\")"
   ]
  },
  {
   "cell_type": "code",
   "execution_count": 7,
   "id": "f3769752",
   "metadata": {},
   "outputs": [],
   "source": [
    "def month_storage(df, month):\n",
    "    month_data = df[df[\"month\"] == month]\n",
    "    month_data.to_csv(\"fe_data/tabular_\" + month + \"_encoded.csv\")"
   ]
  },
  {
   "cell_type": "code",
   "execution_count": 8,
   "id": "d24c0497",
   "metadata": {},
   "outputs": [],
   "source": [
    "month_storage(df_encoded, \"march\")\n",
    "month_storage(df_encoded, \"april\")\n",
    "month_storage(df_encoded, \"may\")\n",
    "month_storage(df_encoded, \"june\")\n",
    "month_storage(df_encoded, \"july\")"
   ]
  },
  {
   "cell_type": "code",
   "execution_count": null,
   "id": "c8479705",
   "metadata": {},
   "outputs": [],
   "source": []
  }
 ],
 "metadata": {
  "kernelspec": {
   "display_name": "Python 3 (ipykernel)",
   "language": "python",
   "name": "python3"
  },
  "language_info": {
   "codemirror_mode": {
    "name": "ipython",
    "version": 3
   },
   "file_extension": ".py",
   "mimetype": "text/x-python",
   "name": "python",
   "nbconvert_exporter": "python",
   "pygments_lexer": "ipython3",
   "version": "3.8.13"
  }
 },
 "nbformat": 4,
 "nbformat_minor": 5
}
