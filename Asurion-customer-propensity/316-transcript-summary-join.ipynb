{
 "cells": [
  {
   "cell_type": "code",
   "execution_count": 1,
   "id": "f4ac6825",
   "metadata": {},
   "outputs": [],
   "source": [
    "import pandas as pd"
   ]
  },
  {
   "cell_type": "code",
   "execution_count": 2,
   "id": "968a5cab",
   "metadata": {},
   "outputs": [
    {
     "name": "stdout",
     "output_type": "stream",
     "text": [
      "/workspace/asurion_f22_muby/parallel_summary_data\n"
     ]
    }
   ],
   "source": [
    "%cd parallel_summary_data/"
   ]
  },
  {
   "cell_type": "code",
   "execution_count": 3,
   "id": "66335a67",
   "metadata": {},
   "outputs": [],
   "source": [
    "df_total = pd.DataFrame()"
   ]
  },
  {
   "cell_type": "code",
   "execution_count": 4,
   "id": "66f51d06",
   "metadata": {},
   "outputs": [],
   "source": [
    "import os\n",
    "data_list = os.listdir()\n",
    "for data in data_list:\n",
    "    if \".csv\" in data:\n",
    "        df = pd.read_csv(data)\n",
    "        df_total = pd.concat([df_total,df], axis = 0)"
   ]
  },
  {
   "cell_type": "code",
   "execution_count": 5,
   "id": "3c7d5e62",
   "metadata": {},
   "outputs": [
    {
     "name": "stdout",
     "output_type": "stream",
     "text": [
      "/workspace/asurion_f22_muby\n"
     ]
    }
   ],
   "source": [
    "%cd .."
   ]
  },
  {
   "cell_type": "code",
   "execution_count": 6,
   "id": "d522d3ff",
   "metadata": {},
   "outputs": [
    {
     "name": "stdout",
     "output_type": "stream",
     "text": [
      "/workspace/asurion_f22_muby/parallel_jon\n"
     ]
    }
   ],
   "source": [
    "%cd parallel_jon/"
   ]
  },
  {
   "cell_type": "code",
   "execution_count": 7,
   "id": "aa9ff086",
   "metadata": {},
   "outputs": [],
   "source": [
    "data_list = os.listdir()\n",
    "for data in data_list:\n",
    "    if \".csv\" in data:\n",
    "        df = pd.read_csv(data)\n",
    "        df_total = pd.concat([df_total,df], axis = 0)"
   ]
  },
  {
   "cell_type": "code",
   "execution_count": 8,
   "id": "bdcb3697",
   "metadata": {},
   "outputs": [
    {
     "name": "stdout",
     "output_type": "stream",
     "text": [
      "/workspace/asurion_f22_muby\n"
     ]
    }
   ],
   "source": [
    "%cd .."
   ]
  },
  {
   "cell_type": "code",
   "execution_count": 9,
   "id": "65146da0",
   "metadata": {},
   "outputs": [
    {
     "name": "stdout",
     "output_type": "stream",
     "text": [
      "/workspace/asurion_f22_muby/parallel_jingyuan\n"
     ]
    }
   ],
   "source": [
    "%cd parallel_jingyuan/"
   ]
  },
  {
   "cell_type": "code",
   "execution_count": 10,
   "id": "68b66219",
   "metadata": {},
   "outputs": [],
   "source": [
    "data_list = os.listdir()\n",
    "for data in data_list:\n",
    "    if \".csv\" in data:\n",
    "        df = pd.read_csv(data)\n",
    "        df_total = pd.concat([df_total,df], axis = 0)"
   ]
  },
  {
   "cell_type": "code",
   "execution_count": 11,
   "id": "f17f0453",
   "metadata": {},
   "outputs": [
    {
     "name": "stdout",
     "output_type": "stream",
     "text": [
      "/workspace/asurion_f22_muby\n"
     ]
    }
   ],
   "source": [
    "%cd .."
   ]
  },
  {
   "cell_type": "code",
   "execution_count": 12,
   "id": "8aa44725",
   "metadata": {},
   "outputs": [
    {
     "name": "stdout",
     "output_type": "stream",
     "text": [
      "/workspace/asurion_f22_muby/parallel_tinglei\n"
     ]
    }
   ],
   "source": [
    "%cd parallel_tinglei/"
   ]
  },
  {
   "cell_type": "code",
   "execution_count": 13,
   "id": "254f1a5c",
   "metadata": {},
   "outputs": [],
   "source": [
    "data_list = os.listdir()\n",
    "for data in data_list:\n",
    "    if \".csv\" in data:\n",
    "        df = pd.read_csv(data)\n",
    "        df_total = pd.concat([df_total,df], axis = 0)"
   ]
  },
  {
   "cell_type": "code",
   "execution_count": 14,
   "id": "342f41d8",
   "metadata": {},
   "outputs": [
    {
     "name": "stdout",
     "output_type": "stream",
     "text": [
      "/workspace/asurion_f22_muby\n"
     ]
    }
   ],
   "source": [
    "cd .."
   ]
  },
  {
   "cell_type": "code",
   "execution_count": 15,
   "id": "484ddcf8",
   "metadata": {},
   "outputs": [],
   "source": [
    "df_total = df_total[[\"id\",\"summary\"]].reset_index(drop = True)"
   ]
  },
  {
   "cell_type": "code",
   "execution_count": 16,
   "id": "e989044f",
   "metadata": {},
   "outputs": [
    {
     "data": {
      "text/plain": [
       "1262643"
      ]
     },
     "execution_count": 16,
     "metadata": {},
     "output_type": "execute_result"
    }
   ],
   "source": [
    "len(df_total[\"id\"].unique())"
   ]
  },
  {
   "cell_type": "code",
   "execution_count": 17,
   "id": "9cc0837b",
   "metadata": {},
   "outputs": [
    {
     "data": {
      "text/plain": [
       "1262703"
      ]
     },
     "execution_count": 17,
     "metadata": {},
     "output_type": "execute_result"
    }
   ],
   "source": [
    "len(df_total[\"id\"])"
   ]
  },
  {
   "cell_type": "code",
   "execution_count": 18,
   "id": "d6fd162e",
   "metadata": {},
   "outputs": [
    {
     "data": {
      "text/plain": [
       "1262648"
      ]
     },
     "execution_count": 18,
     "metadata": {},
     "output_type": "execute_result"
    }
   ],
   "source": [
    "df_total = df_total.drop_duplicates()\n",
    "len(df_total[\"id\"])"
   ]
  },
  {
   "cell_type": "code",
   "execution_count": 19,
   "id": "54bde43b",
   "metadata": {},
   "outputs": [
    {
     "data": {
      "text/plain": [
       "1262643"
      ]
     },
     "execution_count": 19,
     "metadata": {},
     "output_type": "execute_result"
    }
   ],
   "source": [
    "df_total = df_total.drop_duplicates(subset = [\"id\"], keep = \"first\")\n",
    "len(df_total[\"id\"])"
   ]
  },
  {
   "cell_type": "code",
   "execution_count": 20,
   "id": "0a3ee5b5",
   "metadata": {},
   "outputs": [],
   "source": [
    "df_transcript = pd.read_csv(\"fe_data_v2/transcript_data_use/transcript_chunked.csv\")"
   ]
  },
  {
   "cell_type": "code",
   "execution_count": 21,
   "id": "0c9303d7",
   "metadata": {},
   "outputs": [],
   "source": [
    "df_transcript = df_transcript[[\"id\",\"month\"]]"
   ]
  },
  {
   "cell_type": "code",
   "execution_count": 22,
   "id": "c1f6f558",
   "metadata": {},
   "outputs": [],
   "source": [
    "df_transcript_train = df_transcript[df_transcript[\"month\"] != \"july\"]\n",
    "df_transcript_test = df_transcript[df_transcript[\"month\"] == \"july\"]"
   ]
  },
  {
   "cell_type": "code",
   "execution_count": 23,
   "id": "6630ebfd",
   "metadata": {},
   "outputs": [],
   "source": [
    "df_train = df_total.merge(df_transcript_train, on = \"id\", how = \"inner\")"
   ]
  },
  {
   "cell_type": "code",
   "execution_count": 24,
   "id": "6bdc7842",
   "metadata": {},
   "outputs": [],
   "source": [
    "df_test = df_total.merge(df_transcript_test, on = \"id\", how = \"inner\")"
   ]
  },
  {
   "cell_type": "code",
   "execution_count": 25,
   "id": "8300c3cb",
   "metadata": {},
   "outputs": [
    {
     "data": {
      "text/html": [
       "<div>\n",
       "<style scoped>\n",
       "    .dataframe tbody tr th:only-of-type {\n",
       "        vertical-align: middle;\n",
       "    }\n",
       "\n",
       "    .dataframe tbody tr th {\n",
       "        vertical-align: top;\n",
       "    }\n",
       "\n",
       "    .dataframe thead th {\n",
       "        text-align: right;\n",
       "    }\n",
       "</style>\n",
       "<table border=\"1\" class=\"dataframe\">\n",
       "  <thead>\n",
       "    <tr style=\"text-align: right;\">\n",
       "      <th></th>\n",
       "      <th>id</th>\n",
       "      <th>month</th>\n",
       "      <th>summary</th>\n",
       "    </tr>\n",
       "  </thead>\n",
       "  <tbody>\n",
       "    <tr>\n",
       "      <th>0</th>\n",
       "      <td>9c9c8cbbf52ba2b2776dcdd67b4ed818aa2e58afe2dfe5...</td>\n",
       "      <td>march</td>\n",
       "      <td>My name is [ NAME ]. Can I have your first and...</td>\n",
       "    </tr>\n",
       "    <tr>\n",
       "      <th>1</th>\n",
       "      <td>2fbf39157eff2bc6dfbda73a54e8a6e0df7d4ed420a523...</td>\n",
       "      <td>march</td>\n",
       "      <td>Nicole Block's phone has not been working prop...</td>\n",
       "    </tr>\n",
       "    <tr>\n",
       "      <th>2</th>\n",
       "      <td>280ee0983b9216e200bf6d56341185404a580d941a8e0a...</td>\n",
       "      <td>march</td>\n",
       "      <td>My name is [ NAME ] [ STATE ]. I'm philadelphi...</td>\n",
       "    </tr>\n",
       "    <tr>\n",
       "      <th>3</th>\n",
       "      <td>1458a71ce99096dac52deb8a1e66b6deffe7a89b33c030...</td>\n",
       "      <td>march</td>\n",
       "      <td>Vince, this is Tech Coach. Can you please prov...</td>\n",
       "    </tr>\n",
       "    <tr>\n",
       "      <th>4</th>\n",
       "      <td>237d3574f5623a2a2d98ffdc9266d6c36aec59b5528d2f...</td>\n",
       "      <td>march</td>\n",
       "      <td>Phone number for the device is is gonna be [ N...</td>\n",
       "    </tr>\n",
       "  </tbody>\n",
       "</table>\n",
       "</div>"
      ],
      "text/plain": [
       "                                                  id  month  \\\n",
       "0  9c9c8cbbf52ba2b2776dcdd67b4ed818aa2e58afe2dfe5...  march   \n",
       "1  2fbf39157eff2bc6dfbda73a54e8a6e0df7d4ed420a523...  march   \n",
       "2  280ee0983b9216e200bf6d56341185404a580d941a8e0a...  march   \n",
       "3  1458a71ce99096dac52deb8a1e66b6deffe7a89b33c030...  march   \n",
       "4  237d3574f5623a2a2d98ffdc9266d6c36aec59b5528d2f...  march   \n",
       "\n",
       "                                             summary  \n",
       "0  My name is [ NAME ]. Can I have your first and...  \n",
       "1  Nicole Block's phone has not been working prop...  \n",
       "2  My name is [ NAME ] [ STATE ]. I'm philadelphi...  \n",
       "3  Vince, this is Tech Coach. Can you please prov...  \n",
       "4  Phone number for the device is is gonna be [ N...  "
      ]
     },
     "execution_count": 25,
     "metadata": {},
     "output_type": "execute_result"
    }
   ],
   "source": [
    "df_train = df_train[[\"id\", \"month\", \"summary\"]]\n",
    "df_train.head()"
   ]
  },
  {
   "cell_type": "code",
   "execution_count": 26,
   "id": "5d81caab",
   "metadata": {},
   "outputs": [
    {
     "data": {
      "text/html": [
       "<div>\n",
       "<style scoped>\n",
       "    .dataframe tbody tr th:only-of-type {\n",
       "        vertical-align: middle;\n",
       "    }\n",
       "\n",
       "    .dataframe tbody tr th {\n",
       "        vertical-align: top;\n",
       "    }\n",
       "\n",
       "    .dataframe thead th {\n",
       "        text-align: right;\n",
       "    }\n",
       "</style>\n",
       "<table border=\"1\" class=\"dataframe\">\n",
       "  <thead>\n",
       "    <tr style=\"text-align: right;\">\n",
       "      <th></th>\n",
       "      <th>id</th>\n",
       "      <th>month</th>\n",
       "      <th>summary</th>\n",
       "    </tr>\n",
       "  </thead>\n",
       "  <tbody>\n",
       "    <tr>\n",
       "      <th>0</th>\n",
       "      <td>4ea0f36550494fca16e9cde513b6981a0b276dc09b8dd9...</td>\n",
       "      <td>july</td>\n",
       "      <td>The call was answered by maria, a coach at [ C...</td>\n",
       "    </tr>\n",
       "    <tr>\n",
       "      <th>1</th>\n",
       "      <td>281a94c5a1b46b125f590644613579e36304ae9cbaf75a...</td>\n",
       "      <td>july</td>\n",
       "      <td>Maureen Survey's new phone is not letting her ...</td>\n",
       "    </tr>\n",
       "    <tr>\n",
       "      <th>2</th>\n",
       "      <td>a44023139d02e9c8670acbfeeee97d4e158196771d09f7...</td>\n",
       "      <td>july</td>\n",
       "      <td>David Lucky calls Tech Coach to report a probl...</td>\n",
       "    </tr>\n",
       "    <tr>\n",
       "      <th>3</th>\n",
       "      <td>1336eca614e19d8e1540b8120062504a9d3f728609dcc1...</td>\n",
       "      <td>july</td>\n",
       "      <td>Simpson: I'm going into my ticket mastercard a...</td>\n",
       "    </tr>\n",
       "    <tr>\n",
       "      <th>4</th>\n",
       "      <td>5188a2fd5ca86d4e9a40ea308ea7f938fce1bf06484dfa...</td>\n",
       "      <td>july</td>\n",
       "      <td>The phone is on a Wifi connection. The number ...</td>\n",
       "    </tr>\n",
       "  </tbody>\n",
       "</table>\n",
       "</div>"
      ],
      "text/plain": [
       "                                                  id month  \\\n",
       "0  4ea0f36550494fca16e9cde513b6981a0b276dc09b8dd9...  july   \n",
       "1  281a94c5a1b46b125f590644613579e36304ae9cbaf75a...  july   \n",
       "2  a44023139d02e9c8670acbfeeee97d4e158196771d09f7...  july   \n",
       "3  1336eca614e19d8e1540b8120062504a9d3f728609dcc1...  july   \n",
       "4  5188a2fd5ca86d4e9a40ea308ea7f938fce1bf06484dfa...  july   \n",
       "\n",
       "                                             summary  \n",
       "0  The call was answered by maria, a coach at [ C...  \n",
       "1  Maureen Survey's new phone is not letting her ...  \n",
       "2  David Lucky calls Tech Coach to report a probl...  \n",
       "3  Simpson: I'm going into my ticket mastercard a...  \n",
       "4  The phone is on a Wifi connection. The number ...  "
      ]
     },
     "execution_count": 26,
     "metadata": {},
     "output_type": "execute_result"
    }
   ],
   "source": [
    "df_test = df_test[[\"id\", \"month\", \"summary\"]]\n",
    "df_test.head()"
   ]
  },
  {
   "cell_type": "code",
   "execution_count": 27,
   "id": "f38d4fac",
   "metadata": {},
   "outputs": [],
   "source": [
    "df_total_summary =  df_total.merge(df_transcript, on = \"id\", how = \"inner\")"
   ]
  },
  {
   "cell_type": "code",
   "execution_count": 28,
   "id": "db368387",
   "metadata": {},
   "outputs": [
    {
     "data": {
      "text/html": [
       "<div>\n",
       "<style scoped>\n",
       "    .dataframe tbody tr th:only-of-type {\n",
       "        vertical-align: middle;\n",
       "    }\n",
       "\n",
       "    .dataframe tbody tr th {\n",
       "        vertical-align: top;\n",
       "    }\n",
       "\n",
       "    .dataframe thead th {\n",
       "        text-align: right;\n",
       "    }\n",
       "</style>\n",
       "<table border=\"1\" class=\"dataframe\">\n",
       "  <thead>\n",
       "    <tr style=\"text-align: right;\">\n",
       "      <th></th>\n",
       "      <th>id</th>\n",
       "      <th>month</th>\n",
       "      <th>summary</th>\n",
       "    </tr>\n",
       "  </thead>\n",
       "  <tbody>\n",
       "    <tr>\n",
       "      <th>0</th>\n",
       "      <td>9c9c8cbbf52ba2b2776dcdd67b4ed818aa2e58afe2dfe5...</td>\n",
       "      <td>march</td>\n",
       "      <td>My name is [ NAME ]. Can I have your first and...</td>\n",
       "    </tr>\n",
       "    <tr>\n",
       "      <th>1</th>\n",
       "      <td>2fbf39157eff2bc6dfbda73a54e8a6e0df7d4ed420a523...</td>\n",
       "      <td>march</td>\n",
       "      <td>Nicole Block's phone has not been working prop...</td>\n",
       "    </tr>\n",
       "    <tr>\n",
       "      <th>2</th>\n",
       "      <td>280ee0983b9216e200bf6d56341185404a580d941a8e0a...</td>\n",
       "      <td>march</td>\n",
       "      <td>My name is [ NAME ] [ STATE ]. I'm philadelphi...</td>\n",
       "    </tr>\n",
       "    <tr>\n",
       "      <th>3</th>\n",
       "      <td>1458a71ce99096dac52deb8a1e66b6deffe7a89b33c030...</td>\n",
       "      <td>march</td>\n",
       "      <td>Vince, this is Tech Coach. Can you please prov...</td>\n",
       "    </tr>\n",
       "    <tr>\n",
       "      <th>4</th>\n",
       "      <td>237d3574f5623a2a2d98ffdc9266d6c36aec59b5528d2f...</td>\n",
       "      <td>march</td>\n",
       "      <td>Phone number for the device is is gonna be [ N...</td>\n",
       "    </tr>\n",
       "  </tbody>\n",
       "</table>\n",
       "</div>"
      ],
      "text/plain": [
       "                                                  id  month  \\\n",
       "0  9c9c8cbbf52ba2b2776dcdd67b4ed818aa2e58afe2dfe5...  march   \n",
       "1  2fbf39157eff2bc6dfbda73a54e8a6e0df7d4ed420a523...  march   \n",
       "2  280ee0983b9216e200bf6d56341185404a580d941a8e0a...  march   \n",
       "3  1458a71ce99096dac52deb8a1e66b6deffe7a89b33c030...  march   \n",
       "4  237d3574f5623a2a2d98ffdc9266d6c36aec59b5528d2f...  march   \n",
       "\n",
       "                                             summary  \n",
       "0  My name is [ NAME ]. Can I have your first and...  \n",
       "1  Nicole Block's phone has not been working prop...  \n",
       "2  My name is [ NAME ] [ STATE ]. I'm philadelphi...  \n",
       "3  Vince, this is Tech Coach. Can you please prov...  \n",
       "4  Phone number for the device is is gonna be [ N...  "
      ]
     },
     "execution_count": 28,
     "metadata": {},
     "output_type": "execute_result"
    }
   ],
   "source": [
    "df_total_summary = df_total_summary[[\"id\", \"month\", \"summary\"]]\n",
    "df_total_summary.head()"
   ]
  },
  {
   "cell_type": "code",
   "execution_count": 29,
   "id": "9bdaa9f7",
   "metadata": {},
   "outputs": [
    {
     "data": {
      "text/plain": [
       "1262643"
      ]
     },
     "execution_count": 29,
     "metadata": {},
     "output_type": "execute_result"
    }
   ],
   "source": [
    "len(df_total_summary)"
   ]
  },
  {
   "cell_type": "code",
   "execution_count": 30,
   "id": "221d7198",
   "metadata": {},
   "outputs": [],
   "source": [
    "df_total_summary.to_csv(\"fe_data_v2/transcript_data_use/transcript_summary.csv\", index = False)"
   ]
  },
  {
   "cell_type": "code",
   "execution_count": null,
   "id": "7f099d6f",
   "metadata": {},
   "outputs": [],
   "source": []
  }
 ],
 "metadata": {
  "kernelspec": {
   "display_name": "Python 3 (ipykernel)",
   "language": "python",
   "name": "python3"
  },
  "language_info": {
   "codemirror_mode": {
    "name": "ipython",
    "version": 3
   },
   "file_extension": ".py",
   "mimetype": "text/x-python",
   "name": "python",
   "nbconvert_exporter": "python",
   "pygments_lexer": "ipython3",
   "version": "3.8.13"
  }
 },
 "nbformat": 4,
 "nbformat_minor": 5
}
