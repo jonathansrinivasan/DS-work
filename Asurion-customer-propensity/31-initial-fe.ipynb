{
 "cells": [
  {
   "cell_type": "markdown",
   "id": "777150f8",
   "metadata": {},
   "source": [
    "# Initial Feature Engineering"
   ]
  },
  {
   "cell_type": "code",
   "execution_count": 1,
   "id": "952d140f",
   "metadata": {},
   "outputs": [],
   "source": [
    "import pandas as pd\n",
    "import janitor"
   ]
  },
  {
   "cell_type": "code",
   "execution_count": 2,
   "id": "bd128f9f",
   "metadata": {},
   "outputs": [
    {
     "name": "stdout",
     "output_type": "stream",
     "text": [
      "/workspace/asurion_f22_muby\n"
     ]
    }
   ],
   "source": [
    "%cd .."
   ]
  },
  {
   "cell_type": "markdown",
   "id": "5a030e0f",
   "metadata": {},
   "source": [
    "### Checking out March Info"
   ]
  },
  {
   "cell_type": "code",
   "execution_count": 3,
   "id": "d185af04",
   "metadata": {},
   "outputs": [],
   "source": [
    "march_encoded = pd.read_csv(\"data/tabular_march_encoded.csv\")"
   ]
  },
  {
   "cell_type": "code",
   "execution_count": 4,
   "id": "940ef8f9",
   "metadata": {},
   "outputs": [],
   "source": [
    "march_collated = pd.read_csv(\"data/transcript_march_collated_encoded.csv\")"
   ]
  },
  {
   "cell_type": "code",
   "execution_count": 5,
   "id": "f726646a",
   "metadata": {},
   "outputs": [],
   "source": [
    "march_encoded = march_encoded.drop(\"Unnamed: 0\", axis = 1)\n",
    "march_collated = march_collated.drop(\"Unnamed: 0\", axis = 1)"
   ]
  },
  {
   "cell_type": "code",
   "execution_count": 6,
   "id": "1f7cc1f0",
   "metadata": {},
   "outputs": [
    {
     "name": "stdout",
     "output_type": "stream",
     "text": [
      "<class 'pandas.core.frame.DataFrame'>\n",
      "RangeIndex: 218862 entries, 0 to 218861\n",
      "Data columns (total 34 columns):\n",
      " #   Column                      Non-Null Count   Dtype  \n",
      "---  ------                      --------------   -----  \n",
      " 0   quality_sale                218862 non-null  int64  \n",
      " 1   accepted_flg                218862 non-null  int64  \n",
      " 2   accepted_flg.1              218862 non-null  int64  \n",
      " 3   seven_day_churn             20899 non-null   float64\n",
      " 4   thirty_day_churn            20899 non-null   float64\n",
      " 5   ninety_day_churn            20899 non-null   float64\n",
      " 6   clndr_dt_cst                218862 non-null  object \n",
      " 7   start_dt                    218862 non-null  object \n",
      " 8   lines                       218862 non-null  float64\n",
      " 9   previous_tech_support_call  218862 non-null  int64  \n",
      " 10  account_tenure              218862 non-null  float64\n",
      " 11  past_yr_claim_count         218862 non-null  int64  \n",
      " 12  num_decline                 218862 non-null  float64\n",
      " 13  exp                         218862 non-null  int64  \n",
      " 14  product_type                218862 non-null  object \n",
      " 15  pmake                       218862 non-null  object \n",
      " 16  claritas_hh_count           218862 non-null  float64\n",
      " 17  technodoption_class         218862 non-null  object \n",
      " 18  hh_income                   218862 non-null  object \n",
      " 19  age_class                   218862 non-null  object \n",
      " 20  hh_education                218862 non-null  object \n",
      " 21  hh_composition              218862 non-null  object \n",
      " 22  hh_tenure                   218862 non-null  object \n",
      " 23  urbanicity                  218862 non-null  object \n",
      " 24  median_income               218862 non-null  int64  \n",
      " 25  total_population            218862 non-null  int64  \n",
      " 26  perc_female                 218862 non-null  int64  \n",
      " 27  perc_under18                218862 non-null  int64  \n",
      " 28  perc_over65                 218862 non-null  int64  \n",
      " 29  perc_white                  218862 non-null  int64  \n",
      " 30  perc_black                  218862 non-null  int64  \n",
      " 31  population_density          218862 non-null  int64  \n",
      " 32  zipcode                     198425 non-null  float64\n",
      " 33  ID                          218862 non-null  object \n",
      "dtypes: float64(8), int64(14), object(12)\n",
      "memory usage: 56.8+ MB\n"
     ]
    }
   ],
   "source": [
    "march_encoded.info()"
   ]
  },
  {
   "cell_type": "code",
   "execution_count": 7,
   "id": "6a82c0dd",
   "metadata": {},
   "outputs": [
    {
     "data": {
      "text/html": [
       "<div>\n",
       "<style scoped>\n",
       "    .dataframe tbody tr th:only-of-type {\n",
       "        vertical-align: middle;\n",
       "    }\n",
       "\n",
       "    .dataframe tbody tr th {\n",
       "        vertical-align: top;\n",
       "    }\n",
       "\n",
       "    .dataframe thead th {\n",
       "        text-align: right;\n",
       "    }\n",
       "</style>\n",
       "<table border=\"1\" class=\"dataframe\">\n",
       "  <thead>\n",
       "    <tr style=\"text-align: right;\">\n",
       "      <th></th>\n",
       "      <th>quality_sale</th>\n",
       "      <th>accepted_flg</th>\n",
       "      <th>accepted_flg.1</th>\n",
       "      <th>seven_day_churn</th>\n",
       "      <th>thirty_day_churn</th>\n",
       "      <th>ninety_day_churn</th>\n",
       "      <th>clndr_dt_cst</th>\n",
       "      <th>start_dt</th>\n",
       "      <th>lines</th>\n",
       "      <th>previous_tech_support_call</th>\n",
       "      <th>account_tenure</th>\n",
       "      <th>past_yr_claim_count</th>\n",
       "      <th>num_decline</th>\n",
       "      <th>exp</th>\n",
       "      <th>product_type</th>\n",
       "    </tr>\n",
       "  </thead>\n",
       "  <tbody>\n",
       "    <tr>\n",
       "      <th>0</th>\n",
       "      <td>0</td>\n",
       "      <td>0</td>\n",
       "      <td>0</td>\n",
       "      <td>NaN</td>\n",
       "      <td>NaN</td>\n",
       "      <td>NaN</td>\n",
       "      <td>2022-03-21</td>\n",
       "      <td>2022-03-21 20:44:17.405</td>\n",
       "      <td>2.0</td>\n",
       "      <td>15</td>\n",
       "      <td>1286.0</td>\n",
       "      <td>2</td>\n",
       "      <td>3.0</td>\n",
       "      <td>1</td>\n",
       "      <td>SD</td>\n",
       "    </tr>\n",
       "    <tr>\n",
       "      <th>1</th>\n",
       "      <td>0</td>\n",
       "      <td>0</td>\n",
       "      <td>0</td>\n",
       "      <td>NaN</td>\n",
       "      <td>NaN</td>\n",
       "      <td>NaN</td>\n",
       "      <td>2022-03-03</td>\n",
       "      <td>2022-03-03 21:16:27.713</td>\n",
       "      <td>1.0</td>\n",
       "      <td>10</td>\n",
       "      <td>216.0</td>\n",
       "      <td>5</td>\n",
       "      <td>13.0</td>\n",
       "      <td>1</td>\n",
       "      <td>SD</td>\n",
       "    </tr>\n",
       "    <tr>\n",
       "      <th>2</th>\n",
       "      <td>0</td>\n",
       "      <td>0</td>\n",
       "      <td>0</td>\n",
       "      <td>NaN</td>\n",
       "      <td>NaN</td>\n",
       "      <td>NaN</td>\n",
       "      <td>2022-03-16</td>\n",
       "      <td>2022-03-16 13:59:15.707</td>\n",
       "      <td>5.0</td>\n",
       "      <td>30</td>\n",
       "      <td>6559.0</td>\n",
       "      <td>0</td>\n",
       "      <td>11.0</td>\n",
       "      <td>1</td>\n",
       "      <td>MD</td>\n",
       "    </tr>\n",
       "    <tr>\n",
       "      <th>3</th>\n",
       "      <td>0</td>\n",
       "      <td>0</td>\n",
       "      <td>0</td>\n",
       "      <td>NaN</td>\n",
       "      <td>NaN</td>\n",
       "      <td>NaN</td>\n",
       "      <td>2022-03-01</td>\n",
       "      <td>2022-03-01 12:33:55.917</td>\n",
       "      <td>5.0</td>\n",
       "      <td>1</td>\n",
       "      <td>3944.0</td>\n",
       "      <td>0</td>\n",
       "      <td>0.0</td>\n",
       "      <td>1</td>\n",
       "      <td>MD</td>\n",
       "    </tr>\n",
       "    <tr>\n",
       "      <th>4</th>\n",
       "      <td>1</td>\n",
       "      <td>1</td>\n",
       "      <td>1</td>\n",
       "      <td>0.0</td>\n",
       "      <td>0.0</td>\n",
       "      <td>0.0</td>\n",
       "      <td>2022-03-01</td>\n",
       "      <td>2022-03-01 12:22:15.780</td>\n",
       "      <td>2.0</td>\n",
       "      <td>4</td>\n",
       "      <td>689.0</td>\n",
       "      <td>1</td>\n",
       "      <td>8.0</td>\n",
       "      <td>1</td>\n",
       "      <td>SD</td>\n",
       "    </tr>\n",
       "  </tbody>\n",
       "</table>\n",
       "</div>"
      ],
      "text/plain": [
       "   quality_sale  accepted_flg  accepted_flg.1  seven_day_churn  \\\n",
       "0             0             0               0              NaN   \n",
       "1             0             0               0              NaN   \n",
       "2             0             0               0              NaN   \n",
       "3             0             0               0              NaN   \n",
       "4             1             1               1              0.0   \n",
       "\n",
       "   thirty_day_churn  ninety_day_churn clndr_dt_cst                 start_dt  \\\n",
       "0               NaN               NaN   2022-03-21  2022-03-21 20:44:17.405   \n",
       "1               NaN               NaN   2022-03-03  2022-03-03 21:16:27.713   \n",
       "2               NaN               NaN   2022-03-16  2022-03-16 13:59:15.707   \n",
       "3               NaN               NaN   2022-03-01  2022-03-01 12:33:55.917   \n",
       "4               0.0               0.0   2022-03-01  2022-03-01 12:22:15.780   \n",
       "\n",
       "   lines  previous_tech_support_call  account_tenure  past_yr_claim_count  \\\n",
       "0    2.0                          15          1286.0                    2   \n",
       "1    1.0                          10           216.0                    5   \n",
       "2    5.0                          30          6559.0                    0   \n",
       "3    5.0                           1          3944.0                    0   \n",
       "4    2.0                           4           689.0                    1   \n",
       "\n",
       "   num_decline  exp product_type  \n",
       "0          3.0    1           SD  \n",
       "1         13.0    1           SD  \n",
       "2         11.0    1           MD  \n",
       "3          0.0    1           MD  \n",
       "4          8.0    1           SD  "
      ]
     },
     "execution_count": 7,
     "metadata": {},
     "output_type": "execute_result"
    }
   ],
   "source": [
    "march_encoded.iloc[:,:15].head()"
   ]
  },
  {
   "cell_type": "code",
   "execution_count": 8,
   "id": "93537c72",
   "metadata": {},
   "outputs": [
    {
     "name": "stdout",
     "output_type": "stream",
     "text": [
      "<class 'pandas.core.frame.DataFrame'>\n",
      "RangeIndex: 250713 entries, 0 to 250712\n",
      "Data columns (total 4 columns):\n",
      " #   Column                            Non-Null Count   Dtype \n",
      "---  ------                            --------------   ----- \n",
      " 0   ID                                250713 non-null  object\n",
      " 1   sales_offer_date                  250713 non-null  object\n",
      " 2   accepted_flg                      250713 non-null  bool  \n",
      " 3   encrypted_collated_transcription  249688 non-null  object\n",
      "dtypes: bool(1), object(3)\n",
      "memory usage: 6.0+ MB\n"
     ]
    }
   ],
   "source": [
    "march_collated.info()"
   ]
  },
  {
   "cell_type": "code",
   "execution_count": 9,
   "id": "1cc2e782",
   "metadata": {},
   "outputs": [
    {
     "data": {
      "text/html": [
       "<div>\n",
       "<style scoped>\n",
       "    .dataframe tbody tr th:only-of-type {\n",
       "        vertical-align: middle;\n",
       "    }\n",
       "\n",
       "    .dataframe tbody tr th {\n",
       "        vertical-align: top;\n",
       "    }\n",
       "\n",
       "    .dataframe thead th {\n",
       "        text-align: right;\n",
       "    }\n",
       "</style>\n",
       "<table border=\"1\" class=\"dataframe\">\n",
       "  <thead>\n",
       "    <tr style=\"text-align: right;\">\n",
       "      <th></th>\n",
       "      <th>ID</th>\n",
       "      <th>sales_offer_date</th>\n",
       "      <th>accepted_flg</th>\n",
       "      <th>encrypted_collated_transcription</th>\n",
       "    </tr>\n",
       "  </thead>\n",
       "  <tbody>\n",
       "    <tr>\n",
       "      <th>0</th>\n",
       "      <td>e5e4ee3c3c0e9ac72561334e6eb23cc233b1bcd0a0063d...</td>\n",
       "      <td>2022-03-26</td>\n",
       "      <td>False</td>\n",
       "      <td>ok Thank for calling [CLIENT] Tech Hello? Hi. ...</td>\n",
       "    </tr>\n",
       "    <tr>\n",
       "      <th>1</th>\n",
       "      <td>ae6128d8d240d28edbcb7eb27256780cf662a2be1aec8c...</td>\n",
       "      <td>2022-03-02</td>\n",
       "      <td>False</td>\n",
       "      <td>on on Oh, My name is [NAME]. May I please have...</td>\n",
       "    </tr>\n",
       "    <tr>\n",
       "      <th>2</th>\n",
       "      <td>4899f9acdb70b0246b2d0ac2871dbcea8267e57b060154...</td>\n",
       "      <td>2022-03-12</td>\n",
       "      <td>False</td>\n",
       "      <td>Hello. We for calling [CLIENT] Tech Coach. My ...</td>\n",
       "    </tr>\n",
       "    <tr>\n",
       "      <th>3</th>\n",
       "      <td>0589751e11caac0eac815faf84f1a366d70b86b78324a2...</td>\n",
       "      <td>2022-03-20</td>\n",
       "      <td>False</td>\n",
       "      <td>Hello. Thank you so much for contacting [CLIEN...</td>\n",
       "    </tr>\n",
       "    <tr>\n",
       "      <th>4</th>\n",
       "      <td>6c4790cb02e4f556d73436f79268d5c99de50a9acec40e...</td>\n",
       "      <td>2022-03-15</td>\n",
       "      <td>False</td>\n",
       "      <td>Thank you very much Hello? can I can you hear ...</td>\n",
       "    </tr>\n",
       "  </tbody>\n",
       "</table>\n",
       "</div>"
      ],
      "text/plain": [
       "                                                  ID sales_offer_date  \\\n",
       "0  e5e4ee3c3c0e9ac72561334e6eb23cc233b1bcd0a0063d...       2022-03-26   \n",
       "1  ae6128d8d240d28edbcb7eb27256780cf662a2be1aec8c...       2022-03-02   \n",
       "2  4899f9acdb70b0246b2d0ac2871dbcea8267e57b060154...       2022-03-12   \n",
       "3  0589751e11caac0eac815faf84f1a366d70b86b78324a2...       2022-03-20   \n",
       "4  6c4790cb02e4f556d73436f79268d5c99de50a9acec40e...       2022-03-15   \n",
       "\n",
       "   accepted_flg                   encrypted_collated_transcription  \n",
       "0         False  ok Thank for calling [CLIENT] Tech Hello? Hi. ...  \n",
       "1         False  on on Oh, My name is [NAME]. May I please have...  \n",
       "2         False  Hello. We for calling [CLIENT] Tech Coach. My ...  \n",
       "3         False  Hello. Thank you so much for contacting [CLIEN...  \n",
       "4         False  Thank you very much Hello? can I can you hear ...  "
      ]
     },
     "execution_count": 9,
     "metadata": {},
     "output_type": "execute_result"
    }
   ],
   "source": [
    "march_collated.head()"
   ]
  },
  {
   "cell_type": "markdown",
   "id": "fa027eb5",
   "metadata": {},
   "source": [
    "### Data Transformation"
   ]
  },
  {
   "cell_type": "code",
   "execution_count": 10,
   "id": "58c0b497",
   "metadata": {},
   "outputs": [],
   "source": [
    "march_encoded[\"clndr_dt_cst\"] = pd.to_datetime(march_encoded[\"clndr_dt_cst\"], format = \"%Y-%m-%d\")"
   ]
  },
  {
   "cell_type": "code",
   "execution_count": 11,
   "id": "1f95a3f5",
   "metadata": {},
   "outputs": [],
   "source": [
    "march_encoded[\"start_dt\"] = pd.to_datetime(march_encoded[\"start_dt\"], format = \"%Y-%m-%d\")"
   ]
  },
  {
   "cell_type": "code",
   "execution_count": 12,
   "id": "ebc21c2e",
   "metadata": {},
   "outputs": [],
   "source": [
    "march_encoded[\"claritas_hh_count\"] = march_encoded[\"claritas_hh_count\"].astype(int)"
   ]
  },
  {
   "cell_type": "code",
   "execution_count": 13,
   "id": "597105b9",
   "metadata": {},
   "outputs": [],
   "source": [
    "march_encoded[\"zipcode\"] = march_encoded[\"zipcode\"].astype('Int64')"
   ]
  },
  {
   "cell_type": "code",
   "execution_count": 14,
   "id": "c1e40d6f",
   "metadata": {},
   "outputs": [],
   "source": [
    "columns_to_int = ['seven_day_churn', 'thirty_day_churn','ninety_day_churn', 'lines', 'account_tenure',\n",
    "                  'num_decline', 'claritas_hh_count','zipcode']"
   ]
  },
  {
   "cell_type": "code",
   "execution_count": 15,
   "id": "19247aba",
   "metadata": {},
   "outputs": [],
   "source": [
    "def float_to_int(month, columns):\n",
    "    month_encoded = pd.read_csv(\"data/tabular_\" + month + \"_encoded.csv\")\n",
    "    for i in range(len(columns)):\n",
    "        month_encoded[columns[i]] = month_encoded[columns[i]].astype('Int64')\n",
    "    month_encoded[\"month\"] = month\n",
    "    month_encoded = month_encoded.drop(\"Unnamed: 0\", axis = 1)\n",
    "    return month_encoded"
   ]
  },
  {
   "cell_type": "code",
   "execution_count": 16,
   "id": "ea11be40",
   "metadata": {},
   "outputs": [],
   "source": [
    "march_encoded = float_to_int(\"march\",columns_to_int)\n",
    "april_encoded = float_to_int(\"april\",columns_to_int)\n",
    "may_encoded = float_to_int(\"may\",columns_to_int)\n",
    "june_encoded = float_to_int(\"june\",columns_to_int)\n",
    "july_encoded = float_to_int(\"july\",columns_to_int)"
   ]
  },
  {
   "cell_type": "code",
   "execution_count": 17,
   "id": "ec7d3665",
   "metadata": {},
   "outputs": [
    {
     "data": {
      "text/html": [
       "<div>\n",
       "<style scoped>\n",
       "    .dataframe tbody tr th:only-of-type {\n",
       "        vertical-align: middle;\n",
       "    }\n",
       "\n",
       "    .dataframe tbody tr th {\n",
       "        vertical-align: top;\n",
       "    }\n",
       "\n",
       "    .dataframe thead th {\n",
       "        text-align: right;\n",
       "    }\n",
       "</style>\n",
       "<table border=\"1\" class=\"dataframe\">\n",
       "  <thead>\n",
       "    <tr style=\"text-align: right;\">\n",
       "      <th></th>\n",
       "      <th>quality_sale</th>\n",
       "      <th>accepted_flg</th>\n",
       "      <th>accepted_flg.1</th>\n",
       "      <th>seven_day_churn</th>\n",
       "      <th>thirty_day_churn</th>\n",
       "      <th>ninety_day_churn</th>\n",
       "      <th>clndr_dt_cst</th>\n",
       "      <th>start_dt</th>\n",
       "      <th>lines</th>\n",
       "      <th>previous_tech_support_call</th>\n",
       "      <th>...</th>\n",
       "      <th>total_population</th>\n",
       "      <th>perc_female</th>\n",
       "      <th>perc_under18</th>\n",
       "      <th>perc_over65</th>\n",
       "      <th>perc_white</th>\n",
       "      <th>perc_black</th>\n",
       "      <th>population_density</th>\n",
       "      <th>zipcode</th>\n",
       "      <th>ID</th>\n",
       "      <th>month</th>\n",
       "    </tr>\n",
       "  </thead>\n",
       "  <tbody>\n",
       "    <tr>\n",
       "      <th>0</th>\n",
       "      <td>0</td>\n",
       "      <td>0</td>\n",
       "      <td>0</td>\n",
       "      <td>&lt;NA&gt;</td>\n",
       "      <td>&lt;NA&gt;</td>\n",
       "      <td>&lt;NA&gt;</td>\n",
       "      <td>2022-07-11</td>\n",
       "      <td>2022-07-11 12:38:10.094</td>\n",
       "      <td>2</td>\n",
       "      <td>12</td>\n",
       "      <td>...</td>\n",
       "      <td>335</td>\n",
       "      <td>49</td>\n",
       "      <td>13</td>\n",
       "      <td>27</td>\n",
       "      <td>76</td>\n",
       "      <td>0</td>\n",
       "      <td>4</td>\n",
       "      <td>97622</td>\n",
       "      <td>c27e6b798c0ae161fad4a807f097dd233a52c7b8d72c77...</td>\n",
       "      <td>july</td>\n",
       "    </tr>\n",
       "    <tr>\n",
       "      <th>1</th>\n",
       "      <td>0</td>\n",
       "      <td>0</td>\n",
       "      <td>0</td>\n",
       "      <td>&lt;NA&gt;</td>\n",
       "      <td>&lt;NA&gt;</td>\n",
       "      <td>&lt;NA&gt;</td>\n",
       "      <td>2022-07-24</td>\n",
       "      <td>2022-07-24 16:50:45.577</td>\n",
       "      <td>2</td>\n",
       "      <td>2</td>\n",
       "      <td>...</td>\n",
       "      <td>1951</td>\n",
       "      <td>48</td>\n",
       "      <td>24</td>\n",
       "      <td>20</td>\n",
       "      <td>96</td>\n",
       "      <td>0</td>\n",
       "      <td>68</td>\n",
       "      <td>17024</td>\n",
       "      <td>014e36dbd494b72676d8010717e95f167cf79eb38943f4...</td>\n",
       "      <td>july</td>\n",
       "    </tr>\n",
       "    <tr>\n",
       "      <th>2</th>\n",
       "      <td>0</td>\n",
       "      <td>0</td>\n",
       "      <td>0</td>\n",
       "      <td>&lt;NA&gt;</td>\n",
       "      <td>&lt;NA&gt;</td>\n",
       "      <td>&lt;NA&gt;</td>\n",
       "      <td>2022-07-14</td>\n",
       "      <td>2022-07-14 17:02:14.742</td>\n",
       "      <td>2</td>\n",
       "      <td>22</td>\n",
       "      <td>...</td>\n",
       "      <td>0</td>\n",
       "      <td>0</td>\n",
       "      <td>0</td>\n",
       "      <td>0</td>\n",
       "      <td>0</td>\n",
       "      <td>0</td>\n",
       "      <td>0</td>\n",
       "      <td>40588</td>\n",
       "      <td>786b36083b6a9e68355e1690228f866b085138e39619c3...</td>\n",
       "      <td>july</td>\n",
       "    </tr>\n",
       "    <tr>\n",
       "      <th>3</th>\n",
       "      <td>0</td>\n",
       "      <td>0</td>\n",
       "      <td>0</td>\n",
       "      <td>&lt;NA&gt;</td>\n",
       "      <td>&lt;NA&gt;</td>\n",
       "      <td>&lt;NA&gt;</td>\n",
       "      <td>2022-07-15</td>\n",
       "      <td>2022-07-15 11:10:53.124</td>\n",
       "      <td>1</td>\n",
       "      <td>9</td>\n",
       "      <td>...</td>\n",
       "      <td>53416</td>\n",
       "      <td>49</td>\n",
       "      <td>20</td>\n",
       "      <td>13</td>\n",
       "      <td>72</td>\n",
       "      <td>4</td>\n",
       "      <td>8950</td>\n",
       "      <td>2151</td>\n",
       "      <td>516a88db61db9e38baac3f782fdebe4f1bf05777d6f6e4...</td>\n",
       "      <td>july</td>\n",
       "    </tr>\n",
       "    <tr>\n",
       "      <th>4</th>\n",
       "      <td>0</td>\n",
       "      <td>0</td>\n",
       "      <td>0</td>\n",
       "      <td>&lt;NA&gt;</td>\n",
       "      <td>&lt;NA&gt;</td>\n",
       "      <td>&lt;NA&gt;</td>\n",
       "      <td>2022-07-14</td>\n",
       "      <td>2022-07-14 17:44:22.004</td>\n",
       "      <td>2</td>\n",
       "      <td>1</td>\n",
       "      <td>...</td>\n",
       "      <td>12590</td>\n",
       "      <td>49</td>\n",
       "      <td>19</td>\n",
       "      <td>9</td>\n",
       "      <td>41</td>\n",
       "      <td>49</td>\n",
       "      <td>5293</td>\n",
       "      <td>43205</td>\n",
       "      <td>b414065cf1c4faa6688ab996bc7a4e4dedbbbcf79945d5...</td>\n",
       "      <td>july</td>\n",
       "    </tr>\n",
       "  </tbody>\n",
       "</table>\n",
       "<p>5 rows × 35 columns</p>\n",
       "</div>"
      ],
      "text/plain": [
       "   quality_sale  accepted_flg  accepted_flg.1  seven_day_churn  \\\n",
       "0             0             0               0             <NA>   \n",
       "1             0             0               0             <NA>   \n",
       "2             0             0               0             <NA>   \n",
       "3             0             0               0             <NA>   \n",
       "4             0             0               0             <NA>   \n",
       "\n",
       "   thirty_day_churn  ninety_day_churn clndr_dt_cst                 start_dt  \\\n",
       "0              <NA>              <NA>   2022-07-11  2022-07-11 12:38:10.094   \n",
       "1              <NA>              <NA>   2022-07-24  2022-07-24 16:50:45.577   \n",
       "2              <NA>              <NA>   2022-07-14  2022-07-14 17:02:14.742   \n",
       "3              <NA>              <NA>   2022-07-15  2022-07-15 11:10:53.124   \n",
       "4              <NA>              <NA>   2022-07-14  2022-07-14 17:44:22.004   \n",
       "\n",
       "   lines  previous_tech_support_call  ...  total_population  perc_female  \\\n",
       "0      2                          12  ...               335           49   \n",
       "1      2                           2  ...              1951           48   \n",
       "2      2                          22  ...                 0            0   \n",
       "3      1                           9  ...             53416           49   \n",
       "4      2                           1  ...             12590           49   \n",
       "\n",
       "   perc_under18  perc_over65 perc_white perc_black  population_density  \\\n",
       "0            13           27         76          0                   4   \n",
       "1            24           20         96          0                  68   \n",
       "2             0            0          0          0                   0   \n",
       "3            20           13         72          4                8950   \n",
       "4            19            9         41         49                5293   \n",
       "\n",
       "  zipcode                                                 ID month  \n",
       "0   97622  c27e6b798c0ae161fad4a807f097dd233a52c7b8d72c77...  july  \n",
       "1   17024  014e36dbd494b72676d8010717e95f167cf79eb38943f4...  july  \n",
       "2   40588  786b36083b6a9e68355e1690228f866b085138e39619c3...  july  \n",
       "3    2151  516a88db61db9e38baac3f782fdebe4f1bf05777d6f6e4...  july  \n",
       "4   43205  b414065cf1c4faa6688ab996bc7a4e4dedbbbcf79945d5...  july  \n",
       "\n",
       "[5 rows x 35 columns]"
      ]
     },
     "execution_count": 17,
     "metadata": {},
     "output_type": "execute_result"
    }
   ],
   "source": [
    "july_encoded.head()"
   ]
  },
  {
   "cell_type": "markdown",
   "id": "27c6964f",
   "metadata": {},
   "source": [
    "### Adding zipcode information to data sets"
   ]
  },
  {
   "cell_type": "code",
   "execution_count": 18,
   "id": "e8b32105",
   "metadata": {},
   "outputs": [],
   "source": [
    "zip_code = pd.read_table(\"data/US.txt\")"
   ]
  },
  {
   "cell_type": "code",
   "execution_count": 19,
   "id": "3b7b25fe",
   "metadata": {},
   "outputs": [],
   "source": [
    "zip_code = zip_code.drop([\"Country\",\"admin_name1\",\"admin_code1\",\"admin_name2\",\"admin_code2\"], axis = 1)"
   ]
  },
  {
   "cell_type": "code",
   "execution_count": 20,
   "id": "18788418",
   "metadata": {},
   "outputs": [],
   "source": [
    "zip_code[\"Zipcode\"] = zip_code[\"Zipcode\"].astype(\"Int64\")"
   ]
  },
  {
   "cell_type": "code",
   "execution_count": 21,
   "id": "1b6a9da7",
   "metadata": {},
   "outputs": [],
   "source": [
    "def zip_code_adder(month_encoded):\n",
    "    month_encoded = zip_code.merge(month_encoded, how = \"right\", left_on = \"Zipcode\", right_on = \"zipcode\")\n",
    "    month_encoded = month_encoded.drop(\"Zipcode\", axis = 1)\n",
    "    month_encoded = month_encoded.clean_names()\n",
    "    return month_encoded"
   ]
  },
  {
   "cell_type": "code",
   "execution_count": 22,
   "id": "4295654a",
   "metadata": {},
   "outputs": [],
   "source": [
    "march_encoded = zip_code_adder(march_encoded)\n",
    "april_encoded = zip_code_adder(april_encoded)\n",
    "may_encoded = zip_code_adder(may_encoded)\n",
    "june_encoded = zip_code_adder(june_encoded)\n",
    "july_encoded = zip_code_adder(july_encoded)"
   ]
  },
  {
   "cell_type": "markdown",
   "id": "4596e875",
   "metadata": {},
   "source": [
    "### Saving all encoded datasets to fe_data folder"
   ]
  },
  {
   "cell_type": "code",
   "execution_count": 23,
   "id": "83d3f454",
   "metadata": {},
   "outputs": [],
   "source": [
    "march_encoded.to_csv(\"fe_data/tabular_march_encoded.csv\", index = False)\n",
    "april_encoded.to_csv(\"fe_data/tabular_april_encoded.csv\", index = False)\n",
    "may_encoded.to_csv(\"fe_data/tabular_may_encoded.csv\", index = False)\n",
    "june_encoded.to_csv(\"fe_data/tabular_june_encoded.csv\", index = False)\n",
    "july_encoded.to_csv(\"fe_data/tabular_july_encoded.csv\", index = False)"
   ]
  },
  {
   "cell_type": "markdown",
   "id": "fd5def98",
   "metadata": {},
   "source": [
    "### Unique ID comparison"
   ]
  },
  {
   "cell_type": "markdown",
   "id": "8433dada",
   "metadata": {},
   "source": [
    "#### Concatenating all tabular datasets"
   ]
  },
  {
   "cell_type": "code",
   "execution_count": 24,
   "id": "0877b657",
   "metadata": {},
   "outputs": [
    {
     "name": "stdout",
     "output_type": "stream",
     "text": [
      "<class 'pandas.core.frame.DataFrame'>\n",
      "Int64Index: 1211571 entries, 0 to 258458\n",
      "Data columns (total 41 columns):\n",
      " #   Column                      Non-Null Count    Dtype  \n",
      "---  ------                      --------------    -----  \n",
      " 0   county                      1087872 non-null  object \n",
      " 1   state                       1087821 non-null  object \n",
      " 2   state_code                  1087821 non-null  object \n",
      " 3   latitude                    1087872 non-null  float64\n",
      " 4   longitude                   1087872 non-null  float64\n",
      " 5   lat_long_source             1087794 non-null  float64\n",
      " 6   quality_sale                1211571 non-null  int64  \n",
      " 7   accepted_flg                1211571 non-null  int64  \n",
      " 8   accepted_flg_1              1211571 non-null  int64  \n",
      " 9   seven_day_churn             105425 non-null   Int64  \n",
      " 10  thirty_day_churn            105425 non-null   Int64  \n",
      " 11  ninety_day_churn            105425 non-null   Int64  \n",
      " 12  clndr_dt_cst                1211571 non-null  object \n",
      " 13  start_dt                    1211571 non-null  object \n",
      " 14  lines                       1211571 non-null  Int64  \n",
      " 15  previous_tech_support_call  1211571 non-null  int64  \n",
      " 16  account_tenure              1211571 non-null  Int64  \n",
      " 17  past_yr_claim_count         1211571 non-null  int64  \n",
      " 18  num_decline                 1211571 non-null  Int64  \n",
      " 19  exp                         1211571 non-null  int64  \n",
      " 20  product_type                1211571 non-null  object \n",
      " 21  pmake                       1211571 non-null  object \n",
      " 22  claritas_hh_count           1211571 non-null  Int64  \n",
      " 23  technodoption_class         1211571 non-null  object \n",
      " 24  hh_income                   1211571 non-null  object \n",
      " 25  age_class                   1211571 non-null  object \n",
      " 26  hh_education                1211571 non-null  object \n",
      " 27  hh_composition              1211571 non-null  object \n",
      " 28  hh_tenure                   1211571 non-null  object \n",
      " 29  urbanicity                  1211571 non-null  object \n",
      " 30  median_income               1211571 non-null  int64  \n",
      " 31  total_population            1211571 non-null  int64  \n",
      " 32  perc_female                 1211571 non-null  int64  \n",
      " 33  perc_under18                1211571 non-null  int64  \n",
      " 34  perc_over65                 1211571 non-null  int64  \n",
      " 35  perc_white                  1211571 non-null  int64  \n",
      " 36  perc_black                  1211571 non-null  int64  \n",
      " 37  population_density          1211571 non-null  int64  \n",
      " 38  zipcode                     1088003 non-null  Int64  \n",
      " 39  id                          1211571 non-null  object \n",
      " 40  month                       1211571 non-null  object \n",
      "dtypes: Int64(8), float64(3), int64(14), object(16)\n",
      "memory usage: 397.5+ MB\n"
     ]
    }
   ],
   "source": [
    "### Concatenating all datasets\n",
    "total_encoded_tabular = pd.concat([march_encoded, april_encoded, may_encoded, june_encoded, july_encoded], axis = 0)\n",
    "total_encoded_tabular.info()"
   ]
  },
  {
   "cell_type": "code",
   "execution_count": 25,
   "id": "64dfcde6",
   "metadata": {},
   "outputs": [],
   "source": [
    "total_encoded_tabular.to_csv(\"fe_data/total_encoded_tabular.csv\", index = False)"
   ]
  },
  {
   "cell_type": "markdown",
   "id": "ea4dab5b",
   "metadata": {},
   "source": [
    "#### Feature enineering for all transcript datasets"
   ]
  },
  {
   "cell_type": "code",
   "execution_count": 26,
   "id": "e50643f1",
   "metadata": {},
   "outputs": [],
   "source": [
    "march_collated = pd.read_csv(\"data/transcript_march_collated_encoded.csv\")\n",
    "april_collated = pd.read_csv(\"data/transcript_april_collated_encoded.csv\")\n",
    "may_collated = pd.read_csv(\"data/transcript_may_collated_encoded.csv\")\n",
    "june_collated = pd.read_csv(\"data/transcript_june_collated_encoded.csv\")\n",
    "july_collated = pd.read_csv(\"data/transcript_july_collated_encoded.csv\")"
   ]
  },
  {
   "cell_type": "code",
   "execution_count": 27,
   "id": "bfc9ec2a",
   "metadata": {},
   "outputs": [],
   "source": [
    "def transform_transcript(data, month):\n",
    "    data = data.drop(\"Unnamed: 0\", axis = 1)\n",
    "    data[\"month\"] = month\n",
    "    data[\"sales_offer_date\"] = pd.to_datetime(data[\"sales_offer_date\"], format = \"%Y-%m-%d\")\n",
    "    data = data.clean_names()\n",
    "    return data"
   ]
  },
  {
   "cell_type": "code",
   "execution_count": 28,
   "id": "e18e6141",
   "metadata": {},
   "outputs": [],
   "source": [
    "march_collated = transform_transcript(march_collated, \"march\")\n",
    "april_collated = transform_transcript(april_collated, \"april\")\n",
    "may_collated = transform_transcript(may_collated, \"may\")\n",
    "june_collated = transform_transcript(june_collated, \"june\")\n",
    "july_collated = transform_transcript(july_collated, \"july\")"
   ]
  },
  {
   "cell_type": "code",
   "execution_count": 29,
   "id": "22f05f9f",
   "metadata": {},
   "outputs": [],
   "source": [
    "total_collated_transcripts = pd.concat([march_collated, april_collated, may_collated, june_collated, july_collated], axis = 0)"
   ]
  },
  {
   "cell_type": "code",
   "execution_count": 30,
   "id": "8bc5b9d7",
   "metadata": {},
   "outputs": [
    {
     "data": {
      "text/html": [
       "<div>\n",
       "<style scoped>\n",
       "    .dataframe tbody tr th:only-of-type {\n",
       "        vertical-align: middle;\n",
       "    }\n",
       "\n",
       "    .dataframe tbody tr th {\n",
       "        vertical-align: top;\n",
       "    }\n",
       "\n",
       "    .dataframe thead th {\n",
       "        text-align: right;\n",
       "    }\n",
       "</style>\n",
       "<table border=\"1\" class=\"dataframe\">\n",
       "  <thead>\n",
       "    <tr style=\"text-align: right;\">\n",
       "      <th></th>\n",
       "      <th>id</th>\n",
       "      <th>sales_offer_date</th>\n",
       "      <th>accepted_flg</th>\n",
       "      <th>encrypted_collated_transcription</th>\n",
       "      <th>month</th>\n",
       "    </tr>\n",
       "  </thead>\n",
       "  <tbody>\n",
       "    <tr>\n",
       "      <th>0</th>\n",
       "      <td>e5e4ee3c3c0e9ac72561334e6eb23cc233b1bcd0a0063d...</td>\n",
       "      <td>2022-03-26</td>\n",
       "      <td>False</td>\n",
       "      <td>ok Thank for calling [CLIENT] Tech Hello? Hi. ...</td>\n",
       "      <td>march</td>\n",
       "    </tr>\n",
       "    <tr>\n",
       "      <th>1</th>\n",
       "      <td>ae6128d8d240d28edbcb7eb27256780cf662a2be1aec8c...</td>\n",
       "      <td>2022-03-02</td>\n",
       "      <td>False</td>\n",
       "      <td>on on Oh, My name is [NAME]. May I please have...</td>\n",
       "      <td>march</td>\n",
       "    </tr>\n",
       "    <tr>\n",
       "      <th>2</th>\n",
       "      <td>4899f9acdb70b0246b2d0ac2871dbcea8267e57b060154...</td>\n",
       "      <td>2022-03-12</td>\n",
       "      <td>False</td>\n",
       "      <td>Hello. We for calling [CLIENT] Tech Coach. My ...</td>\n",
       "      <td>march</td>\n",
       "    </tr>\n",
       "    <tr>\n",
       "      <th>3</th>\n",
       "      <td>0589751e11caac0eac815faf84f1a366d70b86b78324a2...</td>\n",
       "      <td>2022-03-20</td>\n",
       "      <td>False</td>\n",
       "      <td>Hello. Thank you so much for contacting [CLIEN...</td>\n",
       "      <td>march</td>\n",
       "    </tr>\n",
       "    <tr>\n",
       "      <th>4</th>\n",
       "      <td>6c4790cb02e4f556d73436f79268d5c99de50a9acec40e...</td>\n",
       "      <td>2022-03-15</td>\n",
       "      <td>False</td>\n",
       "      <td>Thank you very much Hello? can I can you hear ...</td>\n",
       "      <td>march</td>\n",
       "    </tr>\n",
       "    <tr>\n",
       "      <th>...</th>\n",
       "      <td>...</td>\n",
       "      <td>...</td>\n",
       "      <td>...</td>\n",
       "      <td>...</td>\n",
       "      <td>...</td>\n",
       "    </tr>\n",
       "    <tr>\n",
       "      <th>218208</th>\n",
       "      <td>1132edb1fb0857248acc345a8355f9c33974048c46567b...</td>\n",
       "      <td>2022-07-26</td>\n",
       "      <td>False</td>\n",
       "      <td>Now, what's your name again? Thank you for cal...</td>\n",
       "      <td>july</td>\n",
       "    </tr>\n",
       "    <tr>\n",
       "      <th>218209</th>\n",
       "      <td>4b37a72831104c4de7372422490b9d3cf77c90f355ae46...</td>\n",
       "      <td>2022-07-27</td>\n",
       "      <td>False</td>\n",
       "      <td>thank. Sheila, s h e i l a you For calling [CL...</td>\n",
       "      <td>july</td>\n",
       "    </tr>\n",
       "    <tr>\n",
       "      <th>218210</th>\n",
       "      <td>90e30877e48b9c4f111f109863906902be003b64658603...</td>\n",
       "      <td>2022-07-06</td>\n",
       "      <td>False</td>\n",
       "      <td>Thanks for calling the [CLIENT] tech Coach. My...</td>\n",
       "      <td>july</td>\n",
       "    </tr>\n",
       "    <tr>\n",
       "      <th>218211</th>\n",
       "      <td>78800620081f05ec1b09fea35329001c9b543c3761f714...</td>\n",
       "      <td>2022-07-30</td>\n",
       "      <td>False</td>\n",
       "      <td>Thank you for calling the [CLIENT] ten Section...</td>\n",
       "      <td>july</td>\n",
       "    </tr>\n",
       "    <tr>\n",
       "      <th>218212</th>\n",
       "      <td>3003204202c90354445da650621f500baa26ebcf2e1962...</td>\n",
       "      <td>2022-07-22</td>\n",
       "      <td>False</td>\n",
       "      <td>NaN</td>\n",
       "      <td>july</td>\n",
       "    </tr>\n",
       "  </tbody>\n",
       "</table>\n",
       "<p>1262644 rows × 5 columns</p>\n",
       "</div>"
      ],
      "text/plain": [
       "                                                       id sales_offer_date  \\\n",
       "0       e5e4ee3c3c0e9ac72561334e6eb23cc233b1bcd0a0063d...       2022-03-26   \n",
       "1       ae6128d8d240d28edbcb7eb27256780cf662a2be1aec8c...       2022-03-02   \n",
       "2       4899f9acdb70b0246b2d0ac2871dbcea8267e57b060154...       2022-03-12   \n",
       "3       0589751e11caac0eac815faf84f1a366d70b86b78324a2...       2022-03-20   \n",
       "4       6c4790cb02e4f556d73436f79268d5c99de50a9acec40e...       2022-03-15   \n",
       "...                                                   ...              ...   \n",
       "218208  1132edb1fb0857248acc345a8355f9c33974048c46567b...       2022-07-26   \n",
       "218209  4b37a72831104c4de7372422490b9d3cf77c90f355ae46...       2022-07-27   \n",
       "218210  90e30877e48b9c4f111f109863906902be003b64658603...       2022-07-06   \n",
       "218211  78800620081f05ec1b09fea35329001c9b543c3761f714...       2022-07-30   \n",
       "218212  3003204202c90354445da650621f500baa26ebcf2e1962...       2022-07-22   \n",
       "\n",
       "        accepted_flg                   encrypted_collated_transcription  month  \n",
       "0              False  ok Thank for calling [CLIENT] Tech Hello? Hi. ...  march  \n",
       "1              False  on on Oh, My name is [NAME]. May I please have...  march  \n",
       "2              False  Hello. We for calling [CLIENT] Tech Coach. My ...  march  \n",
       "3              False  Hello. Thank you so much for contacting [CLIEN...  march  \n",
       "4              False  Thank you very much Hello? can I can you hear ...  march  \n",
       "...              ...                                                ...    ...  \n",
       "218208         False  Now, what's your name again? Thank you for cal...   july  \n",
       "218209         False  thank. Sheila, s h e i l a you For calling [CL...   july  \n",
       "218210         False  Thanks for calling the [CLIENT] tech Coach. My...   july  \n",
       "218211         False  Thank you for calling the [CLIENT] ten Section...   july  \n",
       "218212         False                                                NaN   july  \n",
       "\n",
       "[1262644 rows x 5 columns]"
      ]
     },
     "execution_count": 30,
     "metadata": {},
     "output_type": "execute_result"
    }
   ],
   "source": [
    "total_collated_transcripts"
   ]
  },
  {
   "cell_type": "code",
   "execution_count": 31,
   "id": "abb54b4b",
   "metadata": {},
   "outputs": [],
   "source": [
    "total_collated_transcripts.to_csv(\"fe_data/total_collated_transcripts.csv\", index = False)"
   ]
  },
  {
   "cell_type": "code",
   "execution_count": 32,
   "id": "7fbc969c",
   "metadata": {},
   "outputs": [],
   "source": [
    "march_collated.to_csv(\"fe_data/transcript_march_collated_encoded.csv\")\n",
    "april_collated.to_csv(\"fe_data/transcript_april_collated_encoded.csv\")\n",
    "may_collated.to_csv(\"fe_data/transcript_may_collated_encoded.csv\")\n",
    "june_collated.to_csv(\"fe_data/transcript_june_collated_encoded.csv\")\n",
    "july_collated.to_csv(\"fe_data/transcript_july_collated_encoded.csv\")"
   ]
  },
  {
   "cell_type": "markdown",
   "id": "71999b6a",
   "metadata": {},
   "source": [
    "### New ID proportions"
   ]
  },
  {
   "cell_type": "code",
   "execution_count": 33,
   "id": "34577726",
   "metadata": {},
   "outputs": [],
   "source": [
    "id_tabular = total_encoded_tabular[\"id\"].unique()\n",
    "id_transcript = total_collated_transcripts[\"id\"].unique()\n",
    "id_intersection = list(set(id_tabular).intersection(id_transcript))"
   ]
  },
  {
   "cell_type": "code",
   "execution_count": 34,
   "id": "1b01d7ec",
   "metadata": {},
   "outputs": [
    {
     "name": "stdout",
     "output_type": "stream",
     "text": [
      "78.45 percent of the tabular encoded data were retained.\n"
     ]
    }
   ],
   "source": [
    "encoded_retained = len(id_intersection)/len(id_tabular)\n",
    "print(\"%.2f percent of the tabular encoded data were retained.\"%(encoded_retained*100))"
   ]
  },
  {
   "cell_type": "code",
   "execution_count": 35,
   "id": "c42edc92",
   "metadata": {},
   "outputs": [
    {
     "name": "stdout",
     "output_type": "stream",
     "text": [
      "75.28 percent of the transcript collated data were retained.\n"
     ]
    }
   ],
   "source": [
    "collated_retained = len(id_intersection)/len(id_transcript)\n",
    "print(\"%.2f percent of the transcript collated data were retained.\"%(collated_retained*100))"
   ]
  },
  {
   "cell_type": "code",
   "execution_count": null,
   "id": "f10e2987",
   "metadata": {},
   "outputs": [],
   "source": []
  }
 ],
 "metadata": {
  "kernelspec": {
   "display_name": "Python 3 (ipykernel)",
   "language": "python",
   "name": "python3"
  },
  "language_info": {
   "codemirror_mode": {
    "name": "ipython",
    "version": 3
   },
   "file_extension": ".py",
   "mimetype": "text/x-python",
   "name": "python",
   "nbconvert_exporter": "python",
   "pygments_lexer": "ipython3",
   "version": "3.8.13"
  }
 },
 "nbformat": 4,
 "nbformat_minor": 5
}
