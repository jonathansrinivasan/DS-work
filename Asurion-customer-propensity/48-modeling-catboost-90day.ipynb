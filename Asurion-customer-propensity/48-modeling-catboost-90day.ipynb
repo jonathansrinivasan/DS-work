{
 "cells": [
  {
   "cell_type": "markdown",
   "id": "0453794c",
   "metadata": {},
   "source": [
    "Catboost - 90 day churn"
   ]
  },
  {
   "cell_type": "code",
   "execution_count": 1,
   "id": "03c694b6",
   "metadata": {},
   "outputs": [
    {
     "name": "stdout",
     "output_type": "stream",
     "text": [
      "Looking in indexes: https://pypi.org/simple, https://pypi.ngc.nvidia.com\n",
      "Requirement already satisfied: tensorflow in /opt/conda/lib/python3.8/site-packages (2.10.0)\n",
      "Requirement already satisfied: six>=1.12.0 in /opt/conda/lib/python3.8/site-packages (from tensorflow) (1.16.0)\n",
      "Requirement already satisfied: h5py>=2.9.0 in /opt/conda/lib/python3.8/site-packages (from tensorflow) (3.7.0)\n",
      "Requirement already satisfied: packaging in /opt/conda/lib/python3.8/site-packages (from tensorflow) (21.3)\n",
      "Requirement already satisfied: typing-extensions>=3.6.6 in /opt/conda/lib/python3.8/site-packages (from tensorflow) (4.2.0)\n",
      "Requirement already satisfied: termcolor>=1.1.0 in /opt/conda/lib/python3.8/site-packages (from tensorflow) (2.1.0)\n",
      "Requirement already satisfied: gast<=0.4.0,>=0.2.1 in /opt/conda/lib/python3.8/site-packages (from tensorflow) (0.4.0)\n",
      "Requirement already satisfied: setuptools in /opt/conda/lib/python3.8/site-packages (from tensorflow) (59.5.0)\n",
      "Requirement already satisfied: tensorboard<2.11,>=2.10 in /opt/conda/lib/python3.8/site-packages (from tensorflow) (2.10.1)\n",
      "Requirement already satisfied: flatbuffers>=2.0 in /opt/conda/lib/python3.8/site-packages (from tensorflow) (22.10.26)\n",
      "Requirement already satisfied: grpcio<2.0,>=1.24.3 in /opt/conda/lib/python3.8/site-packages (from tensorflow) (1.46.3)\n",
      "Requirement already satisfied: opt-einsum>=2.3.2 in /opt/conda/lib/python3.8/site-packages (from tensorflow) (3.3.0)\n",
      "Requirement already satisfied: libclang>=13.0.0 in /opt/conda/lib/python3.8/site-packages (from tensorflow) (14.0.6)\n",
      "Requirement already satisfied: numpy>=1.20 in /opt/conda/lib/python3.8/site-packages (from tensorflow) (1.22.4)\n",
      "Requirement already satisfied: astunparse>=1.6.0 in /opt/conda/lib/python3.8/site-packages (from tensorflow) (1.6.3)\n",
      "Requirement already satisfied: absl-py>=1.0.0 in /opt/conda/lib/python3.8/site-packages (from tensorflow) (1.1.0)\n",
      "Requirement already satisfied: wrapt>=1.11.0 in /opt/conda/lib/python3.8/site-packages (from tensorflow) (1.14.1)\n",
      "Requirement already satisfied: google-pasta>=0.1.1 in /opt/conda/lib/python3.8/site-packages (from tensorflow) (0.2.0)\n",
      "Requirement already satisfied: protobuf<3.20,>=3.9.2 in /opt/conda/lib/python3.8/site-packages (from tensorflow) (3.19.4)\n",
      "Requirement already satisfied: tensorflow-estimator<2.11,>=2.10.0 in /opt/conda/lib/python3.8/site-packages (from tensorflow) (2.10.0)\n",
      "Requirement already satisfied: keras<2.11,>=2.10.0 in /opt/conda/lib/python3.8/site-packages (from tensorflow) (2.10.0)\n",
      "Requirement already satisfied: tensorflow-io-gcs-filesystem>=0.23.1 in /opt/conda/lib/python3.8/site-packages (from tensorflow) (0.27.0)\n",
      "Requirement already satisfied: keras-preprocessing>=1.1.1 in /opt/conda/lib/python3.8/site-packages (from tensorflow) (1.1.2)\n",
      "Requirement already satisfied: wheel<1.0,>=0.23.0 in /opt/conda/lib/python3.8/site-packages (from astunparse>=1.6.0->tensorflow) (0.37.1)\n",
      "Requirement already satisfied: tensorboard-plugin-wit>=1.6.0 in /opt/conda/lib/python3.8/site-packages (from tensorboard<2.11,>=2.10->tensorflow) (1.8.1)\n",
      "Requirement already satisfied: requests<3,>=2.21.0 in /opt/conda/lib/python3.8/site-packages (from tensorboard<2.11,>=2.10->tensorflow) (2.27.1)\n",
      "Requirement already satisfied: tensorboard-data-server<0.7.0,>=0.6.0 in /opt/conda/lib/python3.8/site-packages (from tensorboard<2.11,>=2.10->tensorflow) (0.6.1)\n",
      "Requirement already satisfied: google-auth-oauthlib<0.5,>=0.4.1 in /opt/conda/lib/python3.8/site-packages (from tensorboard<2.11,>=2.10->tensorflow) (0.4.6)\n",
      "Requirement already satisfied: markdown>=2.6.8 in /opt/conda/lib/python3.8/site-packages (from tensorboard<2.11,>=2.10->tensorflow) (3.3.7)\n",
      "Requirement already satisfied: werkzeug>=1.0.1 in /opt/conda/lib/python3.8/site-packages (from tensorboard<2.11,>=2.10->tensorflow) (2.1.2)\n",
      "Requirement already satisfied: google-auth<3,>=1.6.3 in /opt/conda/lib/python3.8/site-packages (from tensorboard<2.11,>=2.10->tensorflow) (2.7.0)\n",
      "Requirement already satisfied: pyasn1-modules>=0.2.1 in /opt/conda/lib/python3.8/site-packages (from google-auth<3,>=1.6.3->tensorboard<2.11,>=2.10->tensorflow) (0.2.8)\n",
      "Requirement already satisfied: rsa<5,>=3.1.4 in /opt/conda/lib/python3.8/site-packages (from google-auth<3,>=1.6.3->tensorboard<2.11,>=2.10->tensorflow) (4.8)\n",
      "Requirement already satisfied: cachetools<6.0,>=2.0.0 in /opt/conda/lib/python3.8/site-packages (from google-auth<3,>=1.6.3->tensorboard<2.11,>=2.10->tensorflow) (5.2.0)\n",
      "Requirement already satisfied: requests-oauthlib>=0.7.0 in /opt/conda/lib/python3.8/site-packages (from google-auth-oauthlib<0.5,>=0.4.1->tensorboard<2.11,>=2.10->tensorflow) (1.3.1)\n",
      "Requirement already satisfied: importlib-metadata>=4.4 in /opt/conda/lib/python3.8/site-packages (from markdown>=2.6.8->tensorboard<2.11,>=2.10->tensorflow) (4.11.4)\n",
      "Requirement already satisfied: zipp>=0.5 in /opt/conda/lib/python3.8/site-packages (from importlib-metadata>=4.4->markdown>=2.6.8->tensorboard<2.11,>=2.10->tensorflow) (3.8.0)\n",
      "Requirement already satisfied: pyasn1<0.5.0,>=0.4.6 in /opt/conda/lib/python3.8/site-packages (from pyasn1-modules>=0.2.1->google-auth<3,>=1.6.3->tensorboard<2.11,>=2.10->tensorflow) (0.4.8)\n",
      "Requirement already satisfied: urllib3<1.27,>=1.21.1 in /opt/conda/lib/python3.8/site-packages (from requests<3,>=2.21.0->tensorboard<2.11,>=2.10->tensorflow) (1.26.9)\n",
      "Requirement already satisfied: charset-normalizer~=2.0.0 in /opt/conda/lib/python3.8/site-packages (from requests<3,>=2.21.0->tensorboard<2.11,>=2.10->tensorflow) (2.0.12)\n",
      "Requirement already satisfied: certifi>=2017.4.17 in /opt/conda/lib/python3.8/site-packages (from requests<3,>=2.21.0->tensorboard<2.11,>=2.10->tensorflow) (2022.5.18.1)\n",
      "Requirement already satisfied: idna<4,>=2.5 in /opt/conda/lib/python3.8/site-packages (from requests<3,>=2.21.0->tensorboard<2.11,>=2.10->tensorflow) (3.3)\n",
      "Requirement already satisfied: oauthlib>=3.0.0 in /opt/conda/lib/python3.8/site-packages (from requests-oauthlib>=0.7.0->google-auth-oauthlib<0.5,>=0.4.1->tensorboard<2.11,>=2.10->tensorflow) (3.2.0)\n",
      "Requirement already satisfied: pyparsing!=3.0.5,>=2.0.2 in /opt/conda/lib/python3.8/site-packages (from packaging->tensorflow) (3.0.9)\n",
      "\u001b[33mWARNING: Running pip as the 'root' user can result in broken permissions and conflicting behaviour with the system package manager. It is recommended to use a virtual environment instead: https://pip.pypa.io/warnings/venv\u001b[0m\n"
     ]
    }
   ],
   "source": [
    "!pip install tensorflow"
   ]
  },
  {
   "cell_type": "code",
   "execution_count": 2,
   "id": "d0c094fe",
   "metadata": {},
   "outputs": [
    {
     "name": "stderr",
     "output_type": "stream",
     "text": [
      "2022-11-10 01:45:06.851139: I tensorflow/core/platform/cpu_feature_guard.cc:193] This TensorFlow binary is optimized with oneAPI Deep Neural Network Library (oneDNN) to use the following CPU instructions in performance-critical operations:  AVX2 FMA\n",
      "To enable them in other operations, rebuild TensorFlow with the appropriate compiler flags.\n",
      "2022-11-10 01:45:06.997166: E tensorflow/stream_executor/cuda/cuda_blas.cc:2981] Unable to register cuBLAS factory: Attempting to register factory for plugin cuBLAS when one has already been registered\n",
      "2022-11-10 01:45:07.659498: W tensorflow/stream_executor/platform/default/dso_loader.cc:64] Could not load dynamic library 'libnvinfer.so.7'; dlerror: libnvinfer.so.7: cannot open shared object file: No such file or directory; LD_LIBRARY_PATH: /usr/local/cuda/compat/lib.real:/opt/conda/lib/python3.8/site-packages/torch/lib:/opt/conda/lib/python3.8/site-packages/torch_tensorrt/lib:/usr/local/cuda/compat/lib:/usr/local/nvidia/lib:/usr/local/nvidia/lib64\n",
      "2022-11-10 01:45:07.659577: W tensorflow/stream_executor/platform/default/dso_loader.cc:64] Could not load dynamic library 'libnvinfer_plugin.so.7'; dlerror: libnvinfer_plugin.so.7: cannot open shared object file: No such file or directory; LD_LIBRARY_PATH: /usr/local/cuda/compat/lib.real:/opt/conda/lib/python3.8/site-packages/torch/lib:/opt/conda/lib/python3.8/site-packages/torch_tensorrt/lib:/usr/local/cuda/compat/lib:/usr/local/nvidia/lib:/usr/local/nvidia/lib64\n",
      "2022-11-10 01:45:07.659582: W tensorflow/compiler/tf2tensorrt/utils/py_utils.cc:38] TF-TRT Warning: Cannot dlopen some TensorRT libraries. If you would like to use Nvidia GPU with TensorRT, please make sure the missing libraries mentioned above are installed properly.\n"
     ]
    },
    {
     "name": "stdout",
     "output_type": "stream",
     "text": [
      "['/device:CPU:0', '/device:GPU:0', '/device:GPU:1', '/device:GPU:2', '/device:GPU:3', '/device:GPU:4', '/device:GPU:5', '/device:GPU:6', '/device:GPU:7']\n"
     ]
    },
    {
     "name": "stderr",
     "output_type": "stream",
     "text": [
      "2022-11-10 01:45:08.582103: I tensorflow/core/platform/cpu_feature_guard.cc:193] This TensorFlow binary is optimized with oneAPI Deep Neural Network Library (oneDNN) to use the following CPU instructions in performance-critical operations:  AVX2 FMA\n",
      "To enable them in other operations, rebuild TensorFlow with the appropriate compiler flags.\n",
      "2022-11-10 01:45:12.649935: I tensorflow/core/common_runtime/gpu/gpu_device.cc:1616] Created device /device:GPU:0 with 38407 MB memory:  -> device: 0, name: A100-SXM4-40GB, pci bus id: 0000:07:00.0, compute capability: 8.0\n",
      "2022-11-10 01:45:12.651941: I tensorflow/core/common_runtime/gpu/gpu_device.cc:1616] Created device /device:GPU:1 with 38407 MB memory:  -> device: 1, name: A100-SXM4-40GB, pci bus id: 0000:0f:00.0, compute capability: 8.0\n",
      "2022-11-10 01:45:12.653774: I tensorflow/core/common_runtime/gpu/gpu_device.cc:1616] Created device /device:GPU:2 with 38407 MB memory:  -> device: 2, name: A100-SXM4-40GB, pci bus id: 0000:47:00.0, compute capability: 8.0\n",
      "2022-11-10 01:45:12.655432: I tensorflow/core/common_runtime/gpu/gpu_device.cc:1616] Created device /device:GPU:3 with 38407 MB memory:  -> device: 3, name: A100-SXM4-40GB, pci bus id: 0000:4e:00.0, compute capability: 8.0\n",
      "2022-11-10 01:45:12.657073: I tensorflow/core/common_runtime/gpu/gpu_device.cc:1616] Created device /device:GPU:4 with 38407 MB memory:  -> device: 4, name: A100-SXM4-40GB, pci bus id: 0000:87:00.0, compute capability: 8.0\n",
      "2022-11-10 01:45:12.658749: I tensorflow/core/common_runtime/gpu/gpu_device.cc:1616] Created device /device:GPU:5 with 38407 MB memory:  -> device: 5, name: A100-SXM4-40GB, pci bus id: 0000:90:00.0, compute capability: 8.0\n",
      "2022-11-10 01:45:12.660383: I tensorflow/core/common_runtime/gpu/gpu_device.cc:1616] Created device /device:GPU:6 with 38407 MB memory:  -> device: 6, name: A100-SXM4-40GB, pci bus id: 0000:b7:00.0, compute capability: 8.0\n",
      "2022-11-10 01:45:12.662014: I tensorflow/core/common_runtime/gpu/gpu_device.cc:1616] Created device /device:GPU:7 with 38407 MB memory:  -> device: 7, name: A100-SXM4-40GB, pci bus id: 0000:bd:00.0, compute capability: 8.0\n"
     ]
    }
   ],
   "source": [
    "from tensorflow.python.client import device_lib\n",
    "\n",
    "def get_available_devices():\n",
    "    local_device_protos = device_lib.list_local_devices()\n",
    "    return [x.name for x in local_device_protos]\n",
    "\n",
    "print(get_available_devices())"
   ]
  },
  {
   "cell_type": "code",
   "execution_count": 3,
   "id": "541b4b6b",
   "metadata": {},
   "outputs": [
    {
     "name": "stdout",
     "output_type": "stream",
     "text": [
      "Looking in indexes: https://pypi.org/simple, https://pypi.ngc.nvidia.com\n",
      "Requirement already satisfied: catboost in /opt/conda/lib/python3.8/site-packages (1.1.1)\n",
      "Requirement already satisfied: scipy in /opt/conda/lib/python3.8/site-packages (from catboost) (1.6.3)\n",
      "Requirement already satisfied: six in /opt/conda/lib/python3.8/site-packages (from catboost) (1.16.0)\n",
      "Requirement already satisfied: numpy>=1.16.0 in /opt/conda/lib/python3.8/site-packages (from catboost) (1.22.4)\n",
      "Requirement already satisfied: matplotlib in /opt/conda/lib/python3.8/site-packages (from catboost) (3.5.2)\n",
      "Requirement already satisfied: pandas>=0.24.0 in /opt/conda/lib/python3.8/site-packages (from catboost) (1.3.5)\n",
      "Requirement already satisfied: plotly in /opt/conda/lib/python3.8/site-packages (from catboost) (5.11.0)\n",
      "Requirement already satisfied: graphviz in /opt/conda/lib/python3.8/site-packages (from catboost) (0.20.1)\n",
      "Requirement already satisfied: python-dateutil>=2.7.3 in /opt/conda/lib/python3.8/site-packages (from pandas>=0.24.0->catboost) (2.8.2)\n",
      "Requirement already satisfied: pytz>=2017.3 in /opt/conda/lib/python3.8/site-packages (from pandas>=0.24.0->catboost) (2022.1)\n",
      "Requirement already satisfied: fonttools>=4.22.0 in /opt/conda/lib/python3.8/site-packages (from matplotlib->catboost) (4.33.3)\n",
      "Requirement already satisfied: pyparsing>=2.2.1 in /opt/conda/lib/python3.8/site-packages (from matplotlib->catboost) (3.0.9)\n",
      "Requirement already satisfied: pillow>=6.2.0 in /opt/conda/lib/python3.8/site-packages (from matplotlib->catboost) (9.0.1)\n",
      "Requirement already satisfied: cycler>=0.10 in /opt/conda/lib/python3.8/site-packages (from matplotlib->catboost) (0.11.0)\n",
      "Requirement already satisfied: kiwisolver>=1.0.1 in /opt/conda/lib/python3.8/site-packages (from matplotlib->catboost) (1.4.3)\n",
      "Requirement already satisfied: packaging>=20.0 in /opt/conda/lib/python3.8/site-packages (from matplotlib->catboost) (21.3)\n",
      "Requirement already satisfied: tenacity>=6.2.0 in /opt/conda/lib/python3.8/site-packages (from plotly->catboost) (8.1.0)\n",
      "\u001b[33mWARNING: Running pip as the 'root' user can result in broken permissions and conflicting behaviour with the system package manager. It is recommended to use a virtual environment instead: https://pip.pypa.io/warnings/venv\u001b[0m\n"
     ]
    }
   ],
   "source": [
    "!pip install catboost"
   ]
  },
  {
   "cell_type": "code",
   "execution_count": 4,
   "id": "bc9d6bb7",
   "metadata": {},
   "outputs": [],
   "source": [
    "import pandas as pd\n",
    "import numpy as np\n",
    "# import seaborn\n",
    "import matplotlib.pyplot as plt\n",
    "%matplotlib inline\n",
    "\n",
    "import pickle\n",
    "import joblib\n",
    "import time\n",
    "\n",
    "from catboost import CatBoostClassifier\n",
    "\n",
    "import xgboost as xgb\n",
    "from sklearn.model_selection import train_test_split, GridSearchCV\n",
    "from xgboost import XGBClassifier, plot_importance\n",
    "from sklearn import config_context\n",
    "from sklearn.metrics import classification_report, confusion_matrix, ConfusionMatrixDisplay\n",
    "from sklearn.metrics import accuracy_score, mean_squared_error\n",
    "from sklearn.preprocessing import MinMaxScaler\n",
    "from sklearn.pipeline import Pipeline\n",
    "from sklearn.compose import ColumnTransformer\n",
    "from sklearn.preprocessing import OneHotEncoder\n",
    "from sklearn.model_selection import train_test_split \n",
    "from sklearn.model_selection import cross_val_predict \n",
    "from sklearn.model_selection import cross_val_score \n",
    "from sklearn.feature_selection import RFECV\n",
    "from sklearn.metrics import precision_score, f1_score, recall_score, confusion_matrix, accuracy_score, roc_auc_score\n",
    "\n",
    "pd.set_option('display.max_columns', None)\n",
    "pd.set_option('display.max_rows', 500)\n",
    "pd.set_option('display.float_format', '{:.2f}'.format)\n",
    "\n",
    "!pip install ipywidgets\n",
    "!pip install catboost\n",
    "import ipywidgets\n",
    "import catboost as cb\n",
    "from catboost import CatBoostClassifier\n",
    "from sklearn.metrics import auc, roc_auc_score, roc_curve\n",
    "\n",
    "import warnings\n",
    "warnings.filterwarnings('ignore')"
   ]
  },
  {
   "cell_type": "code",
   "execution_count": 5,
   "id": "2e30186a",
   "metadata": {},
   "outputs": [
    {
     "name": "stdout",
     "output_type": "stream",
     "text": [
      "/workspace/asurion_f22\n"
     ]
    }
   ],
   "source": [
    "%cd .."
   ]
  },
  {
   "cell_type": "code",
   "execution_count": 6,
   "id": "6bb2ee29",
   "metadata": {},
   "outputs": [],
   "source": [
    "test = pd.read_csv('fe_data/90_day_churn_data/test_90d_encoded.csv')"
   ]
  },
  {
   "cell_type": "code",
   "execution_count": 7,
   "id": "9fcb463f",
   "metadata": {},
   "outputs": [
    {
     "data": {
      "text/plain": [
       "19718"
      ]
     },
     "execution_count": 7,
     "metadata": {},
     "output_type": "execute_result"
    }
   ],
   "source": [
    "len(test)"
   ]
  },
  {
   "cell_type": "code",
   "execution_count": 8,
   "id": "87774ef1",
   "metadata": {},
   "outputs": [
    {
     "data": {
      "text/html": [
       "<div>\n",
       "<style scoped>\n",
       "    .dataframe tbody tr th:only-of-type {\n",
       "        vertical-align: middle;\n",
       "    }\n",
       "\n",
       "    .dataframe tbody tr th {\n",
       "        vertical-align: top;\n",
       "    }\n",
       "\n",
       "    .dataframe thead th {\n",
       "        text-align: right;\n",
       "    }\n",
       "</style>\n",
       "<table border=\"1\" class=\"dataframe\">\n",
       "  <thead>\n",
       "    <tr style=\"text-align: right;\">\n",
       "      <th></th>\n",
       "      <th>id</th>\n",
       "      <th>quality_sale</th>\n",
       "      <th>ninety_day_churn</th>\n",
       "      <th>clndr_dt_cst</th>\n",
       "      <th>start_dt</th>\n",
       "      <th>lines</th>\n",
       "      <th>previous_tech_support_call</th>\n",
       "      <th>account_tenure</th>\n",
       "      <th>past_yr_claim_count</th>\n",
       "      <th>num_decline</th>\n",
       "      <th>exp</th>\n",
       "      <th>product_type</th>\n",
       "      <th>pmake</th>\n",
       "      <th>claritas_hh_count</th>\n",
       "      <th>technodoption_class</th>\n",
       "      <th>hh_income</th>\n",
       "      <th>age_class</th>\n",
       "      <th>hh_education</th>\n",
       "      <th>hh_composition</th>\n",
       "      <th>hh_tenure</th>\n",
       "      <th>urbanicity</th>\n",
       "      <th>median_income</th>\n",
       "      <th>total_population</th>\n",
       "      <th>perc_female</th>\n",
       "      <th>perc_under18</th>\n",
       "      <th>perc_over65</th>\n",
       "      <th>perc_white</th>\n",
       "      <th>perc_black</th>\n",
       "      <th>population_density</th>\n",
       "      <th>zipcode</th>\n",
       "      <th>county</th>\n",
       "      <th>state</th>\n",
       "      <th>state_code</th>\n",
       "      <th>latitude</th>\n",
       "      <th>longitude</th>\n",
       "      <th>month</th>\n",
       "      <th>hh_income_code</th>\n",
       "      <th>day_of_week</th>\n",
       "      <th>time_of_day</th>\n",
       "      <th>zipcode_accepted_prop</th>\n",
       "      <th>zipcode_rejected_offers</th>\n",
       "      <th>zipcode_accepted_offers</th>\n",
       "      <th>zipcode_total_offers</th>\n",
       "    </tr>\n",
       "  </thead>\n",
       "  <tbody>\n",
       "    <tr>\n",
       "      <th>0</th>\n",
       "      <td>317874eac956ff7012276c7afd08c2730a125245715fd6...</td>\n",
       "      <td>1</td>\n",
       "      <td>0.00</td>\n",
       "      <td>2022-07-06 00:00:00.000</td>\n",
       "      <td>2022-07-06 14:44:27.442</td>\n",
       "      <td>2</td>\n",
       "      <td>1</td>\n",
       "      <td>156</td>\n",
       "      <td>2</td>\n",
       "      <td>0</td>\n",
       "      <td>1</td>\n",
       "      <td>SD</td>\n",
       "      <td>android</td>\n",
       "      <td>2382862</td>\n",
       "      <td>Mid-Tech</td>\n",
       "      <td>2 Upscale</td>\n",
       "      <td>3 Older</td>\n",
       "      <td>1 Graduate Plus</td>\n",
       "      <td>5 w/o Kids</td>\n",
       "      <td>1 Homeowners</td>\n",
       "      <td>5 Rural</td>\n",
       "      <td>32174</td>\n",
       "      <td>7651</td>\n",
       "      <td>54</td>\n",
       "      <td>22</td>\n",
       "      <td>17</td>\n",
       "      <td>11</td>\n",
       "      <td>23</td>\n",
       "      <td>73</td>\n",
       "      <td>28383.00</td>\n",
       "      <td>Rowland</td>\n",
       "      <td>North Carolina</td>\n",
       "      <td>NC</td>\n",
       "      <td>34.59</td>\n",
       "      <td>-79.26</td>\n",
       "      <td>july</td>\n",
       "      <td>2</td>\n",
       "      <td>Wednesday</td>\n",
       "      <td>14</td>\n",
       "      <td>0.14</td>\n",
       "      <td>42.00</td>\n",
       "      <td>7.00</td>\n",
       "      <td>49.00</td>\n",
       "    </tr>\n",
       "    <tr>\n",
       "      <th>1</th>\n",
       "      <td>22bc3339395ce4596ec639654dbec6c6c7f8559b80f828...</td>\n",
       "      <td>1</td>\n",
       "      <td>0.00</td>\n",
       "      <td>2022-07-11 00:00:00.000</td>\n",
       "      <td>2022-07-11 14:10:11.794</td>\n",
       "      <td>8</td>\n",
       "      <td>5</td>\n",
       "      <td>2049</td>\n",
       "      <td>0</td>\n",
       "      <td>9</td>\n",
       "      <td>1</td>\n",
       "      <td>MD</td>\n",
       "      <td>android</td>\n",
       "      <td>2599576</td>\n",
       "      <td>Low-Tech</td>\n",
       "      <td>6 Downscale</td>\n",
       "      <td>3 Older</td>\n",
       "      <td>4 High School</td>\n",
       "      <td>4 Mostly w/o Kids</td>\n",
       "      <td>5 Renters</td>\n",
       "      <td>7 Metro Mix</td>\n",
       "      <td>56187</td>\n",
       "      <td>35206</td>\n",
       "      <td>52</td>\n",
       "      <td>22</td>\n",
       "      <td>14</td>\n",
       "      <td>43</td>\n",
       "      <td>50</td>\n",
       "      <td>1011</td>\n",
       "      <td>29209.00</td>\n",
       "      <td>Columbia</td>\n",
       "      <td>South Carolina</td>\n",
       "      <td>SC</td>\n",
       "      <td>33.97</td>\n",
       "      <td>-80.94</td>\n",
       "      <td>july</td>\n",
       "      <td>6</td>\n",
       "      <td>Monday</td>\n",
       "      <td>14</td>\n",
       "      <td>0.14</td>\n",
       "      <td>114.00</td>\n",
       "      <td>19.00</td>\n",
       "      <td>133.00</td>\n",
       "    </tr>\n",
       "    <tr>\n",
       "      <th>2</th>\n",
       "      <td>3af4175c07e6d614d87cf494c8c82a64f254e959f9d90b...</td>\n",
       "      <td>1</td>\n",
       "      <td>0.00</td>\n",
       "      <td>2022-07-15 00:00:00.000</td>\n",
       "      <td>2022-07-15 10:20:57.256</td>\n",
       "      <td>1</td>\n",
       "      <td>1</td>\n",
       "      <td>297</td>\n",
       "      <td>1</td>\n",
       "      <td>2</td>\n",
       "      <td>1</td>\n",
       "      <td>SD</td>\n",
       "      <td>android</td>\n",
       "      <td>0</td>\n",
       "      <td>Unknown</td>\n",
       "      <td>Unknown</td>\n",
       "      <td>Unknown</td>\n",
       "      <td>Unknown</td>\n",
       "      <td>Unknown</td>\n",
       "      <td>Unknown</td>\n",
       "      <td>Unknown</td>\n",
       "      <td>66949</td>\n",
       "      <td>45958</td>\n",
       "      <td>53</td>\n",
       "      <td>21</td>\n",
       "      <td>17</td>\n",
       "      <td>70</td>\n",
       "      <td>10</td>\n",
       "      <td>3302</td>\n",
       "      <td>74133.00</td>\n",
       "      <td>Tulsa</td>\n",
       "      <td>Oklahoma</td>\n",
       "      <td>OK</td>\n",
       "      <td>36.05</td>\n",
       "      <td>-95.88</td>\n",
       "      <td>july</td>\n",
       "      <td>8</td>\n",
       "      <td>Friday</td>\n",
       "      <td>10</td>\n",
       "      <td>0.10</td>\n",
       "      <td>56.00</td>\n",
       "      <td>6.00</td>\n",
       "      <td>62.00</td>\n",
       "    </tr>\n",
       "    <tr>\n",
       "      <th>3</th>\n",
       "      <td>e435c44b5da45891633ebf793580e1083a87891326c46a...</td>\n",
       "      <td>1</td>\n",
       "      <td>0.00</td>\n",
       "      <td>2022-07-06 00:00:00.000</td>\n",
       "      <td>2022-07-06 14:37:15.232</td>\n",
       "      <td>2</td>\n",
       "      <td>8</td>\n",
       "      <td>1964</td>\n",
       "      <td>1</td>\n",
       "      <td>5</td>\n",
       "      <td>1</td>\n",
       "      <td>SD</td>\n",
       "      <td>android</td>\n",
       "      <td>1762649</td>\n",
       "      <td>Mid-Tech</td>\n",
       "      <td>7 Low Income</td>\n",
       "      <td>1 Younger</td>\n",
       "      <td>4 High School</td>\n",
       "      <td>1 w/ Kids</td>\n",
       "      <td>4 Mostly Renters</td>\n",
       "      <td>7 Metro Mix</td>\n",
       "      <td>81776</td>\n",
       "      <td>26823</td>\n",
       "      <td>50</td>\n",
       "      <td>20</td>\n",
       "      <td>15</td>\n",
       "      <td>83</td>\n",
       "      <td>1</td>\n",
       "      <td>2004</td>\n",
       "      <td>98372.00</td>\n",
       "      <td>Puyallup</td>\n",
       "      <td>Washington</td>\n",
       "      <td>WA</td>\n",
       "      <td>47.20</td>\n",
       "      <td>-122.27</td>\n",
       "      <td>july</td>\n",
       "      <td>7</td>\n",
       "      <td>Wednesday</td>\n",
       "      <td>14</td>\n",
       "      <td>0.10</td>\n",
       "      <td>53.00</td>\n",
       "      <td>6.00</td>\n",
       "      <td>59.00</td>\n",
       "    </tr>\n",
       "    <tr>\n",
       "      <th>4</th>\n",
       "      <td>9862f30eb37672ac8858d9c63422992df77c4883c30f2e...</td>\n",
       "      <td>1</td>\n",
       "      <td>0.00</td>\n",
       "      <td>2022-07-07 00:00:00.000</td>\n",
       "      <td>2022-07-07 15:25:41.181</td>\n",
       "      <td>1</td>\n",
       "      <td>1</td>\n",
       "      <td>805</td>\n",
       "      <td>1</td>\n",
       "      <td>0</td>\n",
       "      <td>1</td>\n",
       "      <td>SD</td>\n",
       "      <td>android</td>\n",
       "      <td>1709645</td>\n",
       "      <td>High-Tech</td>\n",
       "      <td>4 Midscale</td>\n",
       "      <td>1 Younger</td>\n",
       "      <td>4 High School</td>\n",
       "      <td>1 w/ Kids</td>\n",
       "      <td>3 Mix</td>\n",
       "      <td>5 Rural</td>\n",
       "      <td>32000</td>\n",
       "      <td>6893</td>\n",
       "      <td>42</td>\n",
       "      <td>16</td>\n",
       "      <td>17</td>\n",
       "      <td>34</td>\n",
       "      <td>61</td>\n",
       "      <td>55</td>\n",
       "      <td>23868.00</td>\n",
       "      <td>Lawrenceville</td>\n",
       "      <td>Virginia</td>\n",
       "      <td>VA</td>\n",
       "      <td>36.73</td>\n",
       "      <td>-77.81</td>\n",
       "      <td>july</td>\n",
       "      <td>4</td>\n",
       "      <td>Thursday</td>\n",
       "      <td>15</td>\n",
       "      <td>0.13</td>\n",
       "      <td>40.00</td>\n",
       "      <td>6.00</td>\n",
       "      <td>46.00</td>\n",
       "    </tr>\n",
       "    <tr>\n",
       "      <th>...</th>\n",
       "      <td>...</td>\n",
       "      <td>...</td>\n",
       "      <td>...</td>\n",
       "      <td>...</td>\n",
       "      <td>...</td>\n",
       "      <td>...</td>\n",
       "      <td>...</td>\n",
       "      <td>...</td>\n",
       "      <td>...</td>\n",
       "      <td>...</td>\n",
       "      <td>...</td>\n",
       "      <td>...</td>\n",
       "      <td>...</td>\n",
       "      <td>...</td>\n",
       "      <td>...</td>\n",
       "      <td>...</td>\n",
       "      <td>...</td>\n",
       "      <td>...</td>\n",
       "      <td>...</td>\n",
       "      <td>...</td>\n",
       "      <td>...</td>\n",
       "      <td>...</td>\n",
       "      <td>...</td>\n",
       "      <td>...</td>\n",
       "      <td>...</td>\n",
       "      <td>...</td>\n",
       "      <td>...</td>\n",
       "      <td>...</td>\n",
       "      <td>...</td>\n",
       "      <td>...</td>\n",
       "      <td>...</td>\n",
       "      <td>...</td>\n",
       "      <td>...</td>\n",
       "      <td>...</td>\n",
       "      <td>...</td>\n",
       "      <td>...</td>\n",
       "      <td>...</td>\n",
       "      <td>...</td>\n",
       "      <td>...</td>\n",
       "      <td>...</td>\n",
       "      <td>...</td>\n",
       "      <td>...</td>\n",
       "      <td>...</td>\n",
       "    </tr>\n",
       "    <tr>\n",
       "      <th>19713</th>\n",
       "      <td>3e220e529b83c032b08f5cb3207e2ff91b5c297686158f...</td>\n",
       "      <td>1</td>\n",
       "      <td>1.00</td>\n",
       "      <td>2022-07-07 00:00:00.000</td>\n",
       "      <td>2022-07-07 18:36:11.049</td>\n",
       "      <td>1</td>\n",
       "      <td>2</td>\n",
       "      <td>4698</td>\n",
       "      <td>0</td>\n",
       "      <td>0</td>\n",
       "      <td>0</td>\n",
       "      <td>SD</td>\n",
       "      <td>other</td>\n",
       "      <td>0</td>\n",
       "      <td>Unknown</td>\n",
       "      <td>Unknown</td>\n",
       "      <td>Unknown</td>\n",
       "      <td>Unknown</td>\n",
       "      <td>Unknown</td>\n",
       "      <td>Unknown</td>\n",
       "      <td>Unknown</td>\n",
       "      <td>0</td>\n",
       "      <td>0</td>\n",
       "      <td>0</td>\n",
       "      <td>0</td>\n",
       "      <td>0</td>\n",
       "      <td>0</td>\n",
       "      <td>0</td>\n",
       "      <td>0</td>\n",
       "      <td>36072.00</td>\n",
       "      <td>Eufaula</td>\n",
       "      <td>Alabama</td>\n",
       "      <td>AL</td>\n",
       "      <td>31.89</td>\n",
       "      <td>-85.15</td>\n",
       "      <td>july</td>\n",
       "      <td>8</td>\n",
       "      <td>Thursday</td>\n",
       "      <td>18</td>\n",
       "      <td>1.00</td>\n",
       "      <td>0.00</td>\n",
       "      <td>1.00</td>\n",
       "      <td>1.00</td>\n",
       "    </tr>\n",
       "    <tr>\n",
       "      <th>19714</th>\n",
       "      <td>f89873ec5ca10b4f4ea7d9b5c93829803887926b9daec8...</td>\n",
       "      <td>1</td>\n",
       "      <td>1.00</td>\n",
       "      <td>2022-07-28 00:00:00.000</td>\n",
       "      <td>2022-07-28 07:52:24.471</td>\n",
       "      <td>5</td>\n",
       "      <td>5</td>\n",
       "      <td>4126</td>\n",
       "      <td>1</td>\n",
       "      <td>3</td>\n",
       "      <td>0</td>\n",
       "      <td>MD</td>\n",
       "      <td>other</td>\n",
       "      <td>1709645</td>\n",
       "      <td>High-Tech</td>\n",
       "      <td>4 Midscale</td>\n",
       "      <td>1 Younger</td>\n",
       "      <td>4 High School</td>\n",
       "      <td>1 w/ Kids</td>\n",
       "      <td>3 Mix</td>\n",
       "      <td>5 Rural</td>\n",
       "      <td>49706</td>\n",
       "      <td>3975</td>\n",
       "      <td>54</td>\n",
       "      <td>23</td>\n",
       "      <td>21</td>\n",
       "      <td>83</td>\n",
       "      <td>4</td>\n",
       "      <td>46</td>\n",
       "      <td>28756.00</td>\n",
       "      <td>Mill Spring</td>\n",
       "      <td>North Carolina</td>\n",
       "      <td>NC</td>\n",
       "      <td>35.33</td>\n",
       "      <td>-82.16</td>\n",
       "      <td>july</td>\n",
       "      <td>4</td>\n",
       "      <td>Thursday</td>\n",
       "      <td>7</td>\n",
       "      <td>0.00</td>\n",
       "      <td>22.00</td>\n",
       "      <td>0.00</td>\n",
       "      <td>22.00</td>\n",
       "    </tr>\n",
       "    <tr>\n",
       "      <th>19715</th>\n",
       "      <td>381f00671cc75757e16e75b11880a3b43b41175c0a2306...</td>\n",
       "      <td>1</td>\n",
       "      <td>0.00</td>\n",
       "      <td>2022-07-21 00:00:00.000</td>\n",
       "      <td>2022-07-21 11:19:42.098</td>\n",
       "      <td>1</td>\n",
       "      <td>1</td>\n",
       "      <td>269</td>\n",
       "      <td>0</td>\n",
       "      <td>4</td>\n",
       "      <td>0</td>\n",
       "      <td>SD</td>\n",
       "      <td>other</td>\n",
       "      <td>2410425</td>\n",
       "      <td>High-Tech</td>\n",
       "      <td>3 Upper Midscale</td>\n",
       "      <td>1 Younger</td>\n",
       "      <td>2 College Graduate</td>\n",
       "      <td>5 w/o Kids</td>\n",
       "      <td>1 Homeowners</td>\n",
       "      <td>7 Metro Mix</td>\n",
       "      <td>68949</td>\n",
       "      <td>29416</td>\n",
       "      <td>51</td>\n",
       "      <td>22</td>\n",
       "      <td>16</td>\n",
       "      <td>71</td>\n",
       "      <td>11</td>\n",
       "      <td>1819</td>\n",
       "      <td>12303.00</td>\n",
       "      <td>Schenectady</td>\n",
       "      <td>New York</td>\n",
       "      <td>NY</td>\n",
       "      <td>42.78</td>\n",
       "      <td>-73.94</td>\n",
       "      <td>july</td>\n",
       "      <td>3</td>\n",
       "      <td>Thursday</td>\n",
       "      <td>11</td>\n",
       "      <td>0.05</td>\n",
       "      <td>73.00</td>\n",
       "      <td>4.00</td>\n",
       "      <td>77.00</td>\n",
       "    </tr>\n",
       "    <tr>\n",
       "      <th>19716</th>\n",
       "      <td>562cbb9e5b568e5b1e12093bce7c561d976314a959b98a...</td>\n",
       "      <td>1</td>\n",
       "      <td>0.00</td>\n",
       "      <td>2022-07-14 00:00:00.000</td>\n",
       "      <td>2022-07-14 16:03:05.390</td>\n",
       "      <td>4</td>\n",
       "      <td>1</td>\n",
       "      <td>2894</td>\n",
       "      <td>0</td>\n",
       "      <td>0</td>\n",
       "      <td>0</td>\n",
       "      <td>MD</td>\n",
       "      <td>other</td>\n",
       "      <td>2680613</td>\n",
       "      <td>Mid-Tech</td>\n",
       "      <td>3 Upper Midscale</td>\n",
       "      <td>3 Older</td>\n",
       "      <td>3 Some College</td>\n",
       "      <td>4 Mostly w/o Kids</td>\n",
       "      <td>2 Mostly Owners</td>\n",
       "      <td>5 Rural</td>\n",
       "      <td>82560</td>\n",
       "      <td>16309</td>\n",
       "      <td>49</td>\n",
       "      <td>30</td>\n",
       "      <td>7</td>\n",
       "      <td>72</td>\n",
       "      <td>5</td>\n",
       "      <td>157</td>\n",
       "      <td>77447.00</td>\n",
       "      <td>Hockley</td>\n",
       "      <td>Texas</td>\n",
       "      <td>TX</td>\n",
       "      <td>30.07</td>\n",
       "      <td>-95.81</td>\n",
       "      <td>july</td>\n",
       "      <td>3</td>\n",
       "      <td>Thursday</td>\n",
       "      <td>16</td>\n",
       "      <td>0.13</td>\n",
       "      <td>58.00</td>\n",
       "      <td>9.00</td>\n",
       "      <td>67.00</td>\n",
       "    </tr>\n",
       "    <tr>\n",
       "      <th>19717</th>\n",
       "      <td>bed85bfdbd02f078a984e37353307414d42baf40eb7a1b...</td>\n",
       "      <td>0</td>\n",
       "      <td>1.00</td>\n",
       "      <td>2022-07-06 00:00:00.000</td>\n",
       "      <td>2022-07-06 10:21:06.384</td>\n",
       "      <td>0</td>\n",
       "      <td>1</td>\n",
       "      <td>4634</td>\n",
       "      <td>0</td>\n",
       "      <td>0</td>\n",
       "      <td>0</td>\n",
       "      <td>SD</td>\n",
       "      <td>other</td>\n",
       "      <td>2653449</td>\n",
       "      <td>Mid-Tech</td>\n",
       "      <td>1 Wealthy</td>\n",
       "      <td>3 Older</td>\n",
       "      <td>1 Graduate Plus</td>\n",
       "      <td>5 w/o Kids</td>\n",
       "      <td>2 Mostly Owners</td>\n",
       "      <td>7 Metro Mix</td>\n",
       "      <td>63064</td>\n",
       "      <td>29451</td>\n",
       "      <td>49</td>\n",
       "      <td>20</td>\n",
       "      <td>16</td>\n",
       "      <td>89</td>\n",
       "      <td>5</td>\n",
       "      <td>312</td>\n",
       "      <td>24073.00</td>\n",
       "      <td>Christiansburg</td>\n",
       "      <td>Virginia</td>\n",
       "      <td>VA</td>\n",
       "      <td>37.14</td>\n",
       "      <td>-80.42</td>\n",
       "      <td>july</td>\n",
       "      <td>1</td>\n",
       "      <td>Wednesday</td>\n",
       "      <td>10</td>\n",
       "      <td>0.04</td>\n",
       "      <td>70.00</td>\n",
       "      <td>3.00</td>\n",
       "      <td>73.00</td>\n",
       "    </tr>\n",
       "  </tbody>\n",
       "</table>\n",
       "<p>19718 rows × 43 columns</p>\n",
       "</div>"
      ],
      "text/plain": [
       "                                                      id  quality_sale  \\\n",
       "0      317874eac956ff7012276c7afd08c2730a125245715fd6...             1   \n",
       "1      22bc3339395ce4596ec639654dbec6c6c7f8559b80f828...             1   \n",
       "2      3af4175c07e6d614d87cf494c8c82a64f254e959f9d90b...             1   \n",
       "3      e435c44b5da45891633ebf793580e1083a87891326c46a...             1   \n",
       "4      9862f30eb37672ac8858d9c63422992df77c4883c30f2e...             1   \n",
       "...                                                  ...           ...   \n",
       "19713  3e220e529b83c032b08f5cb3207e2ff91b5c297686158f...             1   \n",
       "19714  f89873ec5ca10b4f4ea7d9b5c93829803887926b9daec8...             1   \n",
       "19715  381f00671cc75757e16e75b11880a3b43b41175c0a2306...             1   \n",
       "19716  562cbb9e5b568e5b1e12093bce7c561d976314a959b98a...             1   \n",
       "19717  bed85bfdbd02f078a984e37353307414d42baf40eb7a1b...             0   \n",
       "\n",
       "       ninety_day_churn             clndr_dt_cst                 start_dt  \\\n",
       "0                  0.00  2022-07-06 00:00:00.000  2022-07-06 14:44:27.442   \n",
       "1                  0.00  2022-07-11 00:00:00.000  2022-07-11 14:10:11.794   \n",
       "2                  0.00  2022-07-15 00:00:00.000  2022-07-15 10:20:57.256   \n",
       "3                  0.00  2022-07-06 00:00:00.000  2022-07-06 14:37:15.232   \n",
       "4                  0.00  2022-07-07 00:00:00.000  2022-07-07 15:25:41.181   \n",
       "...                 ...                      ...                      ...   \n",
       "19713              1.00  2022-07-07 00:00:00.000  2022-07-07 18:36:11.049   \n",
       "19714              1.00  2022-07-28 00:00:00.000  2022-07-28 07:52:24.471   \n",
       "19715              0.00  2022-07-21 00:00:00.000  2022-07-21 11:19:42.098   \n",
       "19716              0.00  2022-07-14 00:00:00.000  2022-07-14 16:03:05.390   \n",
       "19717              1.00  2022-07-06 00:00:00.000  2022-07-06 10:21:06.384   \n",
       "\n",
       "       lines  previous_tech_support_call  account_tenure  past_yr_claim_count  \\\n",
       "0          2                           1             156                    2   \n",
       "1          8                           5            2049                    0   \n",
       "2          1                           1             297                    1   \n",
       "3          2                           8            1964                    1   \n",
       "4          1                           1             805                    1   \n",
       "...      ...                         ...             ...                  ...   \n",
       "19713      1                           2            4698                    0   \n",
       "19714      5                           5            4126                    1   \n",
       "19715      1                           1             269                    0   \n",
       "19716      4                           1            2894                    0   \n",
       "19717      0                           1            4634                    0   \n",
       "\n",
       "       num_decline  exp product_type    pmake  claritas_hh_count  \\\n",
       "0                0    1           SD  android            2382862   \n",
       "1                9    1           MD  android            2599576   \n",
       "2                2    1           SD  android                  0   \n",
       "3                5    1           SD  android            1762649   \n",
       "4                0    1           SD  android            1709645   \n",
       "...            ...  ...          ...      ...                ...   \n",
       "19713            0    0           SD    other                  0   \n",
       "19714            3    0           MD    other            1709645   \n",
       "19715            4    0           SD    other            2410425   \n",
       "19716            0    0           MD    other            2680613   \n",
       "19717            0    0           SD    other            2653449   \n",
       "\n",
       "      technodoption_class         hh_income  age_class        hh_education  \\\n",
       "0                Mid-Tech         2 Upscale    3 Older     1 Graduate Plus   \n",
       "1                Low-Tech       6 Downscale    3 Older       4 High School   \n",
       "2                 Unknown           Unknown    Unknown             Unknown   \n",
       "3                Mid-Tech      7 Low Income  1 Younger       4 High School   \n",
       "4               High-Tech        4 Midscale  1 Younger       4 High School   \n",
       "...                   ...               ...        ...                 ...   \n",
       "19713             Unknown           Unknown    Unknown             Unknown   \n",
       "19714           High-Tech        4 Midscale  1 Younger       4 High School   \n",
       "19715           High-Tech  3 Upper Midscale  1 Younger  2 College Graduate   \n",
       "19716            Mid-Tech  3 Upper Midscale    3 Older      3 Some College   \n",
       "19717            Mid-Tech         1 Wealthy    3 Older     1 Graduate Plus   \n",
       "\n",
       "          hh_composition         hh_tenure   urbanicity  median_income  \\\n",
       "0             5 w/o Kids      1 Homeowners      5 Rural          32174   \n",
       "1      4 Mostly w/o Kids         5 Renters  7 Metro Mix          56187   \n",
       "2                Unknown           Unknown      Unknown          66949   \n",
       "3              1 w/ Kids  4 Mostly Renters  7 Metro Mix          81776   \n",
       "4              1 w/ Kids             3 Mix      5 Rural          32000   \n",
       "...                  ...               ...          ...            ...   \n",
       "19713            Unknown           Unknown      Unknown              0   \n",
       "19714          1 w/ Kids             3 Mix      5 Rural          49706   \n",
       "19715         5 w/o Kids      1 Homeowners  7 Metro Mix          68949   \n",
       "19716  4 Mostly w/o Kids   2 Mostly Owners      5 Rural          82560   \n",
       "19717         5 w/o Kids   2 Mostly Owners  7 Metro Mix          63064   \n",
       "\n",
       "       total_population  perc_female  perc_under18  perc_over65  perc_white  \\\n",
       "0                  7651           54            22           17          11   \n",
       "1                 35206           52            22           14          43   \n",
       "2                 45958           53            21           17          70   \n",
       "3                 26823           50            20           15          83   \n",
       "4                  6893           42            16           17          34   \n",
       "...                 ...          ...           ...          ...         ...   \n",
       "19713                 0            0             0            0           0   \n",
       "19714              3975           54            23           21          83   \n",
       "19715             29416           51            22           16          71   \n",
       "19716             16309           49            30            7          72   \n",
       "19717             29451           49            20           16          89   \n",
       "\n",
       "       perc_black  population_density  zipcode          county  \\\n",
       "0              23                  73 28383.00         Rowland   \n",
       "1              50                1011 29209.00        Columbia   \n",
       "2              10                3302 74133.00           Tulsa   \n",
       "3               1                2004 98372.00        Puyallup   \n",
       "4              61                  55 23868.00   Lawrenceville   \n",
       "...           ...                 ...      ...             ...   \n",
       "19713           0                   0 36072.00         Eufaula   \n",
       "19714           4                  46 28756.00     Mill Spring   \n",
       "19715          11                1819 12303.00     Schenectady   \n",
       "19716           5                 157 77447.00         Hockley   \n",
       "19717           5                 312 24073.00  Christiansburg   \n",
       "\n",
       "                state state_code  latitude  longitude month  hh_income_code  \\\n",
       "0      North Carolina         NC     34.59     -79.26  july               2   \n",
       "1      South Carolina         SC     33.97     -80.94  july               6   \n",
       "2            Oklahoma         OK     36.05     -95.88  july               8   \n",
       "3          Washington         WA     47.20    -122.27  july               7   \n",
       "4            Virginia         VA     36.73     -77.81  july               4   \n",
       "...               ...        ...       ...        ...   ...             ...   \n",
       "19713         Alabama         AL     31.89     -85.15  july               8   \n",
       "19714  North Carolina         NC     35.33     -82.16  july               4   \n",
       "19715        New York         NY     42.78     -73.94  july               3   \n",
       "19716           Texas         TX     30.07     -95.81  july               3   \n",
       "19717        Virginia         VA     37.14     -80.42  july               1   \n",
       "\n",
       "      day_of_week  time_of_day  zipcode_accepted_prop  \\\n",
       "0       Wednesday           14                   0.14   \n",
       "1          Monday           14                   0.14   \n",
       "2          Friday           10                   0.10   \n",
       "3       Wednesday           14                   0.10   \n",
       "4        Thursday           15                   0.13   \n",
       "...           ...          ...                    ...   \n",
       "19713    Thursday           18                   1.00   \n",
       "19714    Thursday            7                   0.00   \n",
       "19715    Thursday           11                   0.05   \n",
       "19716    Thursday           16                   0.13   \n",
       "19717   Wednesday           10                   0.04   \n",
       "\n",
       "       zipcode_rejected_offers  zipcode_accepted_offers  zipcode_total_offers  \n",
       "0                        42.00                     7.00                 49.00  \n",
       "1                       114.00                    19.00                133.00  \n",
       "2                        56.00                     6.00                 62.00  \n",
       "3                        53.00                     6.00                 59.00  \n",
       "4                        40.00                     6.00                 46.00  \n",
       "...                        ...                      ...                   ...  \n",
       "19713                     0.00                     1.00                  1.00  \n",
       "19714                    22.00                     0.00                 22.00  \n",
       "19715                    73.00                     4.00                 77.00  \n",
       "19716                    58.00                     9.00                 67.00  \n",
       "19717                    70.00                     3.00                 73.00  \n",
       "\n",
       "[19718 rows x 43 columns]"
      ]
     },
     "execution_count": 8,
     "metadata": {},
     "output_type": "execute_result"
    }
   ],
   "source": [
    "test"
   ]
  },
  {
   "cell_type": "code",
   "execution_count": 9,
   "id": "8df5ee94",
   "metadata": {},
   "outputs": [
    {
     "data": {
      "text/plain": [
       "Index(['id', 'quality_sale', 'ninety_day_churn', 'clndr_dt_cst', 'start_dt',\n",
       "       'lines', 'previous_tech_support_call', 'account_tenure',\n",
       "       'past_yr_claim_count', 'num_decline', 'exp', 'product_type', 'pmake',\n",
       "       'claritas_hh_count', 'technodoption_class', 'hh_income', 'age_class',\n",
       "       'hh_education', 'hh_composition', 'hh_tenure', 'urbanicity',\n",
       "       'median_income', 'total_population', 'perc_female', 'perc_under18',\n",
       "       'perc_over65', 'perc_white', 'perc_black', 'population_density',\n",
       "       'zipcode', 'county', 'state', 'state_code', 'latitude', 'longitude',\n",
       "       'month', 'hh_income_code', 'day_of_week', 'time_of_day',\n",
       "       'zipcode_accepted_prop', 'zipcode_rejected_offers',\n",
       "       'zipcode_accepted_offers', 'zipcode_total_offers'],\n",
       "      dtype='object')"
      ]
     },
     "execution_count": 9,
     "metadata": {},
     "output_type": "execute_result"
    }
   ],
   "source": [
    "test.columns"
   ]
  },
  {
   "cell_type": "code",
   "execution_count": 10,
   "id": "66e01c3b",
   "metadata": {},
   "outputs": [],
   "source": [
    "dcols = ['quality_sale', 'clndr_dt_cst', 'start_dt', 'zipcode', 'county', 'state', \n",
    "         'state_code', 'latitude', 'longitude', 'month','hh_income_code']"
   ]
  },
  {
   "cell_type": "code",
   "execution_count": 11,
   "id": "26e5673f",
   "metadata": {},
   "outputs": [],
   "source": [
    "test.drop(columns = dcols, inplace = True)\n",
    "test = test[(test['zipcode_accepted_prop'].isnull()==False)& (test['zipcode_rejected_offers'].isnull()==False)& \n",
    "            (test['zipcode_accepted_offers'].isnull()==False)&(test['zipcode_total_offers'].isnull()==False)]"
   ]
  },
  {
   "cell_type": "code",
   "execution_count": 12,
   "id": "e378d153",
   "metadata": {},
   "outputs": [
    {
     "data": {
      "text/plain": [
       "18316"
      ]
     },
     "execution_count": 12,
     "metadata": {},
     "output_type": "execute_result"
    }
   ],
   "source": [
    "len(test)"
   ]
  },
  {
   "cell_type": "code",
   "execution_count": 13,
   "id": "78d9108f",
   "metadata": {},
   "outputs": [
    {
     "name": "stdout",
     "output_type": "stream",
     "text": [
      "<class 'pandas.core.frame.DataFrame'>\n",
      "Int64Index: 18316 entries, 0 to 19717\n",
      "Data columns (total 32 columns):\n",
      " #   Column                      Non-Null Count  Dtype  \n",
      "---  ------                      --------------  -----  \n",
      " 0   id                          18316 non-null  object \n",
      " 1   ninety_day_churn            18316 non-null  float64\n",
      " 2   lines                       18316 non-null  int64  \n",
      " 3   previous_tech_support_call  18316 non-null  int64  \n",
      " 4   account_tenure              18316 non-null  int64  \n",
      " 5   past_yr_claim_count         18316 non-null  int64  \n",
      " 6   num_decline                 18316 non-null  int64  \n",
      " 7   exp                         18316 non-null  int64  \n",
      " 8   product_type                18316 non-null  object \n",
      " 9   pmake                       18316 non-null  object \n",
      " 10  claritas_hh_count           18316 non-null  int64  \n",
      " 11  technodoption_class         18316 non-null  object \n",
      " 12  hh_income                   18316 non-null  object \n",
      " 13  age_class                   18316 non-null  object \n",
      " 14  hh_education                18316 non-null  object \n",
      " 15  hh_composition              18316 non-null  object \n",
      " 16  hh_tenure                   18316 non-null  object \n",
      " 17  urbanicity                  18316 non-null  object \n",
      " 18  median_income               18316 non-null  int64  \n",
      " 19  total_population            18316 non-null  int64  \n",
      " 20  perc_female                 18316 non-null  int64  \n",
      " 21  perc_under18                18316 non-null  int64  \n",
      " 22  perc_over65                 18316 non-null  int64  \n",
      " 23  perc_white                  18316 non-null  int64  \n",
      " 24  perc_black                  18316 non-null  int64  \n",
      " 25  population_density          18316 non-null  int64  \n",
      " 26  day_of_week                 18316 non-null  object \n",
      " 27  time_of_day                 18316 non-null  int64  \n",
      " 28  zipcode_accepted_prop       18316 non-null  float64\n",
      " 29  zipcode_rejected_offers     18316 non-null  float64\n",
      " 30  zipcode_accepted_offers     18316 non-null  float64\n",
      " 31  zipcode_total_offers        18316 non-null  float64\n",
      "dtypes: float64(5), int64(16), object(11)\n",
      "memory usage: 4.6+ MB\n"
     ]
    }
   ],
   "source": [
    "test.info()"
   ]
  },
  {
   "cell_type": "code",
   "execution_count": 14,
   "id": "9073a6de",
   "metadata": {},
   "outputs": [],
   "source": [
    "train = pd.read_csv('fe_data/90_day_churn_data/train_90d_encoded.csv')"
   ]
  },
  {
   "cell_type": "code",
   "execution_count": 15,
   "id": "4ac074dd",
   "metadata": {},
   "outputs": [
    {
     "data": {
      "text/plain": [
       "85707"
      ]
     },
     "execution_count": 15,
     "metadata": {},
     "output_type": "execute_result"
    }
   ],
   "source": [
    "len(train)"
   ]
  },
  {
   "cell_type": "code",
   "execution_count": 16,
   "id": "b883790b",
   "metadata": {},
   "outputs": [
    {
     "data": {
      "text/plain": [
       "85707"
      ]
     },
     "execution_count": 16,
     "metadata": {},
     "output_type": "execute_result"
    }
   ],
   "source": [
    "len(train)"
   ]
  },
  {
   "cell_type": "code",
   "execution_count": 17,
   "id": "fbbd6b82",
   "metadata": {},
   "outputs": [
    {
     "name": "stdout",
     "output_type": "stream",
     "text": [
      "<class 'pandas.core.frame.DataFrame'>\n",
      "RangeIndex: 85707 entries, 0 to 85706\n",
      "Data columns (total 43 columns):\n",
      " #   Column                      Non-Null Count  Dtype  \n",
      "---  ------                      --------------  -----  \n",
      " 0   id                          85707 non-null  object \n",
      " 1   quality_sale                85707 non-null  int64  \n",
      " 2   ninety_day_churn            85707 non-null  float64\n",
      " 3   clndr_dt_cst                85707 non-null  object \n",
      " 4   start_dt                    85707 non-null  object \n",
      " 5   lines                       85707 non-null  int64  \n",
      " 6   previous_tech_support_call  85707 non-null  int64  \n",
      " 7   account_tenure              85707 non-null  int64  \n",
      " 8   past_yr_claim_count         85707 non-null  int64  \n",
      " 9   num_decline                 85707 non-null  int64  \n",
      " 10  exp                         85707 non-null  int64  \n",
      " 11  product_type                85707 non-null  object \n",
      " 12  pmake                       85707 non-null  object \n",
      " 13  claritas_hh_count           85707 non-null  int64  \n",
      " 14  technodoption_class         85707 non-null  object \n",
      " 15  hh_income                   85707 non-null  object \n",
      " 16  age_class                   85707 non-null  object \n",
      " 17  hh_education                85707 non-null  object \n",
      " 18  hh_composition              85707 non-null  object \n",
      " 19  hh_tenure                   85707 non-null  object \n",
      " 20  urbanicity                  85707 non-null  object \n",
      " 21  median_income               85707 non-null  int64  \n",
      " 22  total_population            85707 non-null  int64  \n",
      " 23  perc_female                 85707 non-null  int64  \n",
      " 24  perc_under18                85707 non-null  int64  \n",
      " 25  perc_over65                 85707 non-null  int64  \n",
      " 26  perc_white                  85707 non-null  int64  \n",
      " 27  perc_black                  85707 non-null  int64  \n",
      " 28  population_density          85707 non-null  int64  \n",
      " 29  zipcode                     84339 non-null  float64\n",
      " 30  county                      84334 non-null  object \n",
      " 31  state                       84330 non-null  object \n",
      " 32  state_code                  84330 non-null  object \n",
      " 33  latitude                    84334 non-null  float64\n",
      " 34  longitude                   84334 non-null  float64\n",
      " 35  month                       85707 non-null  object \n",
      " 36  hh_income_code              85707 non-null  int64  \n",
      " 37  day_of_week                 85707 non-null  object \n",
      " 38  time_of_day                 85707 non-null  int64  \n",
      " 39  zipcode_accepted_prop       84339 non-null  float64\n",
      " 40  zipcode_rejected_offers     84339 non-null  float64\n",
      " 41  zipcode_accepted_offers     84339 non-null  float64\n",
      " 42  zipcode_total_offers        84339 non-null  float64\n",
      "dtypes: float64(8), int64(18), object(17)\n",
      "memory usage: 28.1+ MB\n"
     ]
    }
   ],
   "source": [
    "train.info()"
   ]
  },
  {
   "cell_type": "code",
   "execution_count": 18,
   "id": "e2b345f3",
   "metadata": {},
   "outputs": [
    {
     "data": {
      "text/html": [
       "<div>\n",
       "<style scoped>\n",
       "    .dataframe tbody tr th:only-of-type {\n",
       "        vertical-align: middle;\n",
       "    }\n",
       "\n",
       "    .dataframe tbody tr th {\n",
       "        vertical-align: top;\n",
       "    }\n",
       "\n",
       "    .dataframe thead th {\n",
       "        text-align: right;\n",
       "    }\n",
       "</style>\n",
       "<table border=\"1\" class=\"dataframe\">\n",
       "  <thead>\n",
       "    <tr style=\"text-align: right;\">\n",
       "      <th></th>\n",
       "      <th>id</th>\n",
       "      <th>quality_sale</th>\n",
       "      <th>ninety_day_churn</th>\n",
       "      <th>clndr_dt_cst</th>\n",
       "      <th>start_dt</th>\n",
       "      <th>lines</th>\n",
       "      <th>previous_tech_support_call</th>\n",
       "      <th>account_tenure</th>\n",
       "      <th>past_yr_claim_count</th>\n",
       "      <th>num_decline</th>\n",
       "      <th>exp</th>\n",
       "      <th>product_type</th>\n",
       "      <th>pmake</th>\n",
       "      <th>claritas_hh_count</th>\n",
       "      <th>technodoption_class</th>\n",
       "      <th>hh_income</th>\n",
       "      <th>age_class</th>\n",
       "      <th>hh_education</th>\n",
       "      <th>hh_composition</th>\n",
       "      <th>hh_tenure</th>\n",
       "      <th>urbanicity</th>\n",
       "      <th>median_income</th>\n",
       "      <th>total_population</th>\n",
       "      <th>perc_female</th>\n",
       "      <th>perc_under18</th>\n",
       "      <th>perc_over65</th>\n",
       "      <th>perc_white</th>\n",
       "      <th>perc_black</th>\n",
       "      <th>population_density</th>\n",
       "      <th>zipcode</th>\n",
       "      <th>county</th>\n",
       "      <th>state</th>\n",
       "      <th>state_code</th>\n",
       "      <th>latitude</th>\n",
       "      <th>longitude</th>\n",
       "      <th>month</th>\n",
       "      <th>hh_income_code</th>\n",
       "      <th>day_of_week</th>\n",
       "      <th>time_of_day</th>\n",
       "      <th>zipcode_accepted_prop</th>\n",
       "      <th>zipcode_rejected_offers</th>\n",
       "      <th>zipcode_accepted_offers</th>\n",
       "      <th>zipcode_total_offers</th>\n",
       "    </tr>\n",
       "  </thead>\n",
       "  <tbody>\n",
       "    <tr>\n",
       "      <th>0</th>\n",
       "      <td>68943556bf63277816d843ffb129e23ffe60bc5b982603...</td>\n",
       "      <td>1</td>\n",
       "      <td>0.00</td>\n",
       "      <td>2022-03-01 00:00:00.000</td>\n",
       "      <td>2022-03-01 12:22:15.780</td>\n",
       "      <td>2</td>\n",
       "      <td>4</td>\n",
       "      <td>689</td>\n",
       "      <td>1</td>\n",
       "      <td>8</td>\n",
       "      <td>1</td>\n",
       "      <td>SD</td>\n",
       "      <td>android</td>\n",
       "      <td>1715961</td>\n",
       "      <td>High-Tech</td>\n",
       "      <td>4 Midscale</td>\n",
       "      <td>1 Younger</td>\n",
       "      <td>3 Some College</td>\n",
       "      <td>1 w/ Kids</td>\n",
       "      <td>5 Renters</td>\n",
       "      <td>7 Metro Mix</td>\n",
       "      <td>49842</td>\n",
       "      <td>34512</td>\n",
       "      <td>48</td>\n",
       "      <td>27</td>\n",
       "      <td>9</td>\n",
       "      <td>74</td>\n",
       "      <td>11</td>\n",
       "      <td>1894</td>\n",
       "      <td>77301.00</td>\n",
       "      <td>Conroe</td>\n",
       "      <td>Texas</td>\n",
       "      <td>TX</td>\n",
       "      <td>30.31</td>\n",
       "      <td>-95.45</td>\n",
       "      <td>march</td>\n",
       "      <td>4</td>\n",
       "      <td>Tuesday</td>\n",
       "      <td>12</td>\n",
       "      <td>0.19</td>\n",
       "      <td>57.00</td>\n",
       "      <td>13.00</td>\n",
       "      <td>70.00</td>\n",
       "    </tr>\n",
       "    <tr>\n",
       "      <th>1</th>\n",
       "      <td>6c09cf1d3246c800ba864c7eaced4b1e7a38b09f90ebc3...</td>\n",
       "      <td>1</td>\n",
       "      <td>0.00</td>\n",
       "      <td>2022-03-17 00:00:00.000</td>\n",
       "      <td>2022-03-17 15:29:30.018</td>\n",
       "      <td>2</td>\n",
       "      <td>1</td>\n",
       "      <td>72</td>\n",
       "      <td>0</td>\n",
       "      <td>0</td>\n",
       "      <td>1</td>\n",
       "      <td>SD</td>\n",
       "      <td>android</td>\n",
       "      <td>3161699</td>\n",
       "      <td>Mid-Tech</td>\n",
       "      <td>4 Midscale</td>\n",
       "      <td>1 Younger</td>\n",
       "      <td>3 Some College</td>\n",
       "      <td>5 w/o Kids</td>\n",
       "      <td>4 Mostly Renters</td>\n",
       "      <td>7 Metro Mix</td>\n",
       "      <td>71662</td>\n",
       "      <td>41592</td>\n",
       "      <td>50</td>\n",
       "      <td>12</td>\n",
       "      <td>17</td>\n",
       "      <td>84</td>\n",
       "      <td>1</td>\n",
       "      <td>5533</td>\n",
       "      <td>85251.00</td>\n",
       "      <td>Scottsdale</td>\n",
       "      <td>Arizona</td>\n",
       "      <td>AZ</td>\n",
       "      <td>33.49</td>\n",
       "      <td>-111.92</td>\n",
       "      <td>march</td>\n",
       "      <td>4</td>\n",
       "      <td>Thursday</td>\n",
       "      <td>15</td>\n",
       "      <td>0.09</td>\n",
       "      <td>125.00</td>\n",
       "      <td>12.00</td>\n",
       "      <td>137.00</td>\n",
       "    </tr>\n",
       "    <tr>\n",
       "      <th>2</th>\n",
       "      <td>5221cde1976fcd8a4d0d6fb059e04ed6d9b6450b68020d...</td>\n",
       "      <td>1</td>\n",
       "      <td>0.00</td>\n",
       "      <td>2022-03-07 00:00:00.000</td>\n",
       "      <td>2022-03-07 09:11:47.002</td>\n",
       "      <td>2</td>\n",
       "      <td>1</td>\n",
       "      <td>237</td>\n",
       "      <td>0</td>\n",
       "      <td>0</td>\n",
       "      <td>1</td>\n",
       "      <td>SD</td>\n",
       "      <td>android</td>\n",
       "      <td>2444705</td>\n",
       "      <td>Mid-Tech</td>\n",
       "      <td>2 Upscale</td>\n",
       "      <td>3 Older</td>\n",
       "      <td>1 Graduate Plus</td>\n",
       "      <td>5 w/o Kids</td>\n",
       "      <td>2 Mostly Owners</td>\n",
       "      <td>8 Mix</td>\n",
       "      <td>73514</td>\n",
       "      <td>41147</td>\n",
       "      <td>47</td>\n",
       "      <td>21</td>\n",
       "      <td>13</td>\n",
       "      <td>58</td>\n",
       "      <td>4</td>\n",
       "      <td>4466</td>\n",
       "      <td>7032.00</td>\n",
       "      <td>Kearny</td>\n",
       "      <td>New Jersey</td>\n",
       "      <td>NJ</td>\n",
       "      <td>40.76</td>\n",
       "      <td>-74.15</td>\n",
       "      <td>march</td>\n",
       "      <td>2</td>\n",
       "      <td>Monday</td>\n",
       "      <td>9</td>\n",
       "      <td>0.13</td>\n",
       "      <td>90.00</td>\n",
       "      <td>13.00</td>\n",
       "      <td>103.00</td>\n",
       "    </tr>\n",
       "    <tr>\n",
       "      <th>3</th>\n",
       "      <td>a68e921aeb079a7c79de714f566802dedde074721d40a4...</td>\n",
       "      <td>0</td>\n",
       "      <td>1.00</td>\n",
       "      <td>2022-03-04 00:00:00.000</td>\n",
       "      <td>2022-03-04 15:00:09.566</td>\n",
       "      <td>2</td>\n",
       "      <td>2</td>\n",
       "      <td>3062</td>\n",
       "      <td>2</td>\n",
       "      <td>0</td>\n",
       "      <td>1</td>\n",
       "      <td>SD</td>\n",
       "      <td>android</td>\n",
       "      <td>0</td>\n",
       "      <td>Unknown</td>\n",
       "      <td>Unknown</td>\n",
       "      <td>Unknown</td>\n",
       "      <td>Unknown</td>\n",
       "      <td>Unknown</td>\n",
       "      <td>Unknown</td>\n",
       "      <td>Unknown</td>\n",
       "      <td>35982</td>\n",
       "      <td>485</td>\n",
       "      <td>39</td>\n",
       "      <td>0</td>\n",
       "      <td>48</td>\n",
       "      <td>99</td>\n",
       "      <td>0</td>\n",
       "      <td>8</td>\n",
       "      <td>3812.00</td>\n",
       "      <td>Bartlett</td>\n",
       "      <td>New Hampshire</td>\n",
       "      <td>NH</td>\n",
       "      <td>44.08</td>\n",
       "      <td>-71.29</td>\n",
       "      <td>march</td>\n",
       "      <td>8</td>\n",
       "      <td>Friday</td>\n",
       "      <td>15</td>\n",
       "      <td>0.00</td>\n",
       "      <td>1.00</td>\n",
       "      <td>0.00</td>\n",
       "      <td>1.00</td>\n",
       "    </tr>\n",
       "    <tr>\n",
       "      <th>4</th>\n",
       "      <td>b9b75e5295e70045ba4f1c4d0b5de77b6e03df31f200bc...</td>\n",
       "      <td>1</td>\n",
       "      <td>0.00</td>\n",
       "      <td>2022-03-04 00:00:00.000</td>\n",
       "      <td>2022-03-04 11:56:31.079</td>\n",
       "      <td>1</td>\n",
       "      <td>2</td>\n",
       "      <td>2585</td>\n",
       "      <td>0</td>\n",
       "      <td>1</td>\n",
       "      <td>1</td>\n",
       "      <td>SD</td>\n",
       "      <td>android</td>\n",
       "      <td>2843065</td>\n",
       "      <td>Low-Tech</td>\n",
       "      <td>3 Upper Midscale</td>\n",
       "      <td>4 Mature</td>\n",
       "      <td>1 Graduate Plus</td>\n",
       "      <td>5 w/o Kids</td>\n",
       "      <td>2 Mostly Owners</td>\n",
       "      <td>8 Mix</td>\n",
       "      <td>89029</td>\n",
       "      <td>34659</td>\n",
       "      <td>52</td>\n",
       "      <td>17</td>\n",
       "      <td>21</td>\n",
       "      <td>81</td>\n",
       "      <td>1</td>\n",
       "      <td>4462</td>\n",
       "      <td>92672.00</td>\n",
       "      <td>San Clemente</td>\n",
       "      <td>California</td>\n",
       "      <td>CA</td>\n",
       "      <td>33.44</td>\n",
       "      <td>-117.62</td>\n",
       "      <td>march</td>\n",
       "      <td>3</td>\n",
       "      <td>Friday</td>\n",
       "      <td>11</td>\n",
       "      <td>0.08</td>\n",
       "      <td>129.00</td>\n",
       "      <td>11.00</td>\n",
       "      <td>140.00</td>\n",
       "    </tr>\n",
       "  </tbody>\n",
       "</table>\n",
       "</div>"
      ],
      "text/plain": [
       "                                                  id  quality_sale  \\\n",
       "0  68943556bf63277816d843ffb129e23ffe60bc5b982603...             1   \n",
       "1  6c09cf1d3246c800ba864c7eaced4b1e7a38b09f90ebc3...             1   \n",
       "2  5221cde1976fcd8a4d0d6fb059e04ed6d9b6450b68020d...             1   \n",
       "3  a68e921aeb079a7c79de714f566802dedde074721d40a4...             0   \n",
       "4  b9b75e5295e70045ba4f1c4d0b5de77b6e03df31f200bc...             1   \n",
       "\n",
       "   ninety_day_churn             clndr_dt_cst                 start_dt  lines  \\\n",
       "0              0.00  2022-03-01 00:00:00.000  2022-03-01 12:22:15.780      2   \n",
       "1              0.00  2022-03-17 00:00:00.000  2022-03-17 15:29:30.018      2   \n",
       "2              0.00  2022-03-07 00:00:00.000  2022-03-07 09:11:47.002      2   \n",
       "3              1.00  2022-03-04 00:00:00.000  2022-03-04 15:00:09.566      2   \n",
       "4              0.00  2022-03-04 00:00:00.000  2022-03-04 11:56:31.079      1   \n",
       "\n",
       "   previous_tech_support_call  account_tenure  past_yr_claim_count  \\\n",
       "0                           4             689                    1   \n",
       "1                           1              72                    0   \n",
       "2                           1             237                    0   \n",
       "3                           2            3062                    2   \n",
       "4                           2            2585                    0   \n",
       "\n",
       "   num_decline  exp product_type    pmake  claritas_hh_count  \\\n",
       "0            8    1           SD  android            1715961   \n",
       "1            0    1           SD  android            3161699   \n",
       "2            0    1           SD  android            2444705   \n",
       "3            0    1           SD  android                  0   \n",
       "4            1    1           SD  android            2843065   \n",
       "\n",
       "  technodoption_class         hh_income  age_class     hh_education  \\\n",
       "0           High-Tech        4 Midscale  1 Younger   3 Some College   \n",
       "1            Mid-Tech        4 Midscale  1 Younger   3 Some College   \n",
       "2            Mid-Tech         2 Upscale    3 Older  1 Graduate Plus   \n",
       "3             Unknown           Unknown    Unknown          Unknown   \n",
       "4            Low-Tech  3 Upper Midscale   4 Mature  1 Graduate Plus   \n",
       "\n",
       "  hh_composition         hh_tenure   urbanicity  median_income  \\\n",
       "0      1 w/ Kids         5 Renters  7 Metro Mix          49842   \n",
       "1     5 w/o Kids  4 Mostly Renters  7 Metro Mix          71662   \n",
       "2     5 w/o Kids   2 Mostly Owners        8 Mix          73514   \n",
       "3        Unknown           Unknown      Unknown          35982   \n",
       "4     5 w/o Kids   2 Mostly Owners        8 Mix          89029   \n",
       "\n",
       "   total_population  perc_female  perc_under18  perc_over65  perc_white  \\\n",
       "0             34512           48            27            9          74   \n",
       "1             41592           50            12           17          84   \n",
       "2             41147           47            21           13          58   \n",
       "3               485           39             0           48          99   \n",
       "4             34659           52            17           21          81   \n",
       "\n",
       "   perc_black  population_density  zipcode        county          state  \\\n",
       "0          11                1894 77301.00        Conroe          Texas   \n",
       "1           1                5533 85251.00    Scottsdale        Arizona   \n",
       "2           4                4466  7032.00        Kearny     New Jersey   \n",
       "3           0                   8  3812.00      Bartlett  New Hampshire   \n",
       "4           1                4462 92672.00  San Clemente     California   \n",
       "\n",
       "  state_code  latitude  longitude  month  hh_income_code day_of_week  \\\n",
       "0         TX     30.31     -95.45  march               4     Tuesday   \n",
       "1         AZ     33.49    -111.92  march               4    Thursday   \n",
       "2         NJ     40.76     -74.15  march               2      Monday   \n",
       "3         NH     44.08     -71.29  march               8      Friday   \n",
       "4         CA     33.44    -117.62  march               3      Friday   \n",
       "\n",
       "   time_of_day  zipcode_accepted_prop  zipcode_rejected_offers  \\\n",
       "0           12                   0.19                    57.00   \n",
       "1           15                   0.09                   125.00   \n",
       "2            9                   0.13                    90.00   \n",
       "3           15                   0.00                     1.00   \n",
       "4           11                   0.08                   129.00   \n",
       "\n",
       "   zipcode_accepted_offers  zipcode_total_offers  \n",
       "0                    13.00                 70.00  \n",
       "1                    12.00                137.00  \n",
       "2                    13.00                103.00  \n",
       "3                     0.00                  1.00  \n",
       "4                    11.00                140.00  "
      ]
     },
     "execution_count": 18,
     "metadata": {},
     "output_type": "execute_result"
    }
   ],
   "source": [
    "train.head()"
   ]
  },
  {
   "cell_type": "code",
   "execution_count": 19,
   "id": "5fad22ba",
   "metadata": {},
   "outputs": [
    {
     "data": {
      "text/plain": [
       "85707"
      ]
     },
     "execution_count": 19,
     "metadata": {},
     "output_type": "execute_result"
    }
   ],
   "source": [
    "len(train)"
   ]
  },
  {
   "cell_type": "code",
   "execution_count": 20,
   "id": "41b1f41e",
   "metadata": {},
   "outputs": [],
   "source": [
    "train.drop(columns = dcols, inplace = True)\n",
    "train = train[(train['zipcode_accepted_prop'].isnull()==False)& (train['zipcode_rejected_offers'].isnull()==False)& \n",
    "            (train['zipcode_accepted_offers'].isnull()==False)&(train['zipcode_total_offers'].isnull()==False)]"
   ]
  },
  {
   "cell_type": "code",
   "execution_count": 21,
   "id": "98b9baf4",
   "metadata": {},
   "outputs": [
    {
     "data": {
      "text/plain": [
       "84339"
      ]
     },
     "execution_count": 21,
     "metadata": {},
     "output_type": "execute_result"
    }
   ],
   "source": [
    "len(train)"
   ]
  },
  {
   "cell_type": "code",
   "execution_count": 22,
   "id": "faa3f060",
   "metadata": {},
   "outputs": [
    {
     "data": {
      "text/plain": [
       "Index(['id', 'ninety_day_churn', 'lines', 'previous_tech_support_call',\n",
       "       'account_tenure', 'past_yr_claim_count', 'num_decline', 'exp',\n",
       "       'product_type', 'pmake', 'claritas_hh_count', 'technodoption_class',\n",
       "       'hh_income', 'age_class', 'hh_education', 'hh_composition', 'hh_tenure',\n",
       "       'urbanicity', 'median_income', 'total_population', 'perc_female',\n",
       "       'perc_under18', 'perc_over65', 'perc_white', 'perc_black',\n",
       "       'population_density', 'day_of_week', 'time_of_day',\n",
       "       'zipcode_accepted_prop', 'zipcode_rejected_offers',\n",
       "       'zipcode_accepted_offers', 'zipcode_total_offers'],\n",
       "      dtype='object')"
      ]
     },
     "execution_count": 22,
     "metadata": {},
     "output_type": "execute_result"
    }
   ],
   "source": [
    "train.columns"
   ]
  },
  {
   "cell_type": "code",
   "execution_count": 23,
   "id": "e096610c",
   "metadata": {},
   "outputs": [
    {
     "data": {
      "text/plain": [
       "Index(['id', 'ninety_day_churn', 'lines', 'previous_tech_support_call',\n",
       "       'account_tenure', 'past_yr_claim_count', 'num_decline', 'exp',\n",
       "       'product_type', 'pmake', 'claritas_hh_count', 'technodoption_class',\n",
       "       'hh_income', 'age_class', 'hh_education', 'hh_composition', 'hh_tenure',\n",
       "       'urbanicity', 'median_income', 'total_population', 'perc_female',\n",
       "       'perc_under18', 'perc_over65', 'perc_white', 'perc_black',\n",
       "       'population_density', 'day_of_week', 'time_of_day',\n",
       "       'zipcode_accepted_prop', 'zipcode_rejected_offers',\n",
       "       'zipcode_accepted_offers', 'zipcode_total_offers'],\n",
       "      dtype='object')"
      ]
     },
     "execution_count": 23,
     "metadata": {},
     "output_type": "execute_result"
    }
   ],
   "source": [
    "test.columns"
   ]
  },
  {
   "cell_type": "code",
   "execution_count": 24,
   "id": "528a3b21",
   "metadata": {},
   "outputs": [],
   "source": [
    "def transform_xy(dat):\n",
    "    X_ori = dat[[\n",
    "#         'emplid','cvp_call_id',\n",
    "                 'lines', 'previous_tech_support_call','account_tenure', 'past_yr_claim_count', \n",
    "                'num_decline', 'exp', \n",
    "#                  'churn',\n",
    "                 'product_type', 'pmake', \n",
    "                 'claritas_hh_count',\n",
    "                 'technodoption_class', 'hh_income', 'age_class', 'hh_education',\n",
    "                 'hh_composition', 'hh_tenure', 'urbanicity','median_income', 'total_population', \n",
    "                 'perc_female', 'perc_under18',\n",
    "                'perc_over65', 'perc_white', 'perc_black', 'population_density', 'day_of_week', 'time_of_day',\n",
    "       'zipcode_accepted_prop', 'zipcode_rejected_offers',\n",
    "       'zipcode_accepted_offers', 'zipcode_total_offers']]\n",
    "    y = dat[['ninety_day_churn']]\n",
    "   \n",
    "    X_ori.loc[X_ori.lines.isnull(), 'lines'] = 0\n",
    "    X_ori.exp = X_ori.exp.apply(int)\n",
    "    X_ori.num_decline = X_ori.num_decline.apply(float)\n",
    "    X_ori.loc[X_ori.account_tenure.isnull(), 'account_tenure'] = 0\n",
    "    X_ori.loc[X_ori.claritas_hh_count.isnull(), 'claritas_hh_count'] = 0\n",
    "    X_ori.loc[X_ori.exp.isnull(), 'exp'] = 'Unknown'\n",
    "    X_ori.loc[X_ori.product_type.isnull(), 'product_type'] = 'Unknown'\n",
    "    X_ori.loc[X_ori.pmake.isnull(), 'pmake'] = 'Unknown'\n",
    "    X_ori.loc[X_ori.technodoption_class.isnull(), 'technodoption_class'] = 'Unknown'\n",
    "    X_ori.loc[X_ori.hh_income.isnull(), 'hh_income'] = 'Unknown'\n",
    "    X_ori.loc[X_ori.age_class.isnull(), 'age_class'] = 'Unknown'\n",
    "    X_ori.loc[X_ori.hh_education.isnull(), 'hh_education'] = 'Unknown'\n",
    "    X_ori.loc[X_ori.hh_composition.isnull(), 'hh_composition'] = 'Unknown'\n",
    "    X_ori.loc[X_ori.hh_tenure.isnull(), 'hh_tenure'] = 'Unknown'\n",
    "    X_ori.loc[X_ori.urbanicity.isnull(), 'urbanicity'] = 'Unknown'\n",
    "    X_ori.loc[X_ori.day_of_week.isnull(), 'day_of_week'] = 'Unknown'\n",
    "    X_ori.loc[X_ori.time_of_day.isnull(), 'time_of_day'] = 'Unknown'\n",
    "    X_ori.loc[X_ori.zipcode_accepted_prop.isnull(), 'zipcode_accepted_prop'] = 0\n",
    "    X_ori.loc[X_ori.zipcode_rejected_offers.isnull(), 'zipcode_rejected_offers'] = 0\n",
    "    X_ori.loc[X_ori.zipcode_accepted_offers.isnull(), 'zipcode_accepted_offers'] = 0\n",
    "    X_ori.loc[X_ori.zipcode_total_offers.isnull(), 'zipcode_total_offers'] = 0\n",
    "\n",
    "    return X_ori,y"
   ]
  },
  {
   "cell_type": "code",
   "execution_count": 25,
   "id": "7a57092c",
   "metadata": {},
   "outputs": [],
   "source": [
    "X,y = transform_xy(train)\n",
    "x_hold_out, y_hold_out = transform_xy(test)"
   ]
  },
  {
   "cell_type": "code",
   "execution_count": 26,
   "id": "f39f2454",
   "metadata": {},
   "outputs": [],
   "source": [
    "X['lines'] = X['lines'].astype(np.int) \n",
    "X['previous_tech_support_call'] = X['previous_tech_support_call'].astype('category')\n",
    "X['num_decline'] = X['num_decline'].astype(np.int) \n",
    "X['past_yr_claim_count'] = X['past_yr_claim_count'].astype(np.int) \n",
    "X['exp'] = X['exp'].astype('category') \n",
    "X['account_tenure'] = X['account_tenure'].astype(np.int) \n",
    "X['pmake'] = X['pmake'].astype('category')\n",
    "X['technodoption_class'] = X['technodoption_class'].astype('category')\n",
    "X['claritas_hh_count'] = X['claritas_hh_count'].astype('category')\n",
    "X['hh_income'] = X['hh_income'].astype('category')\n",
    "X['age_class'] = X['age_class'].astype('category')\n",
    "X['hh_education'] = X['hh_education'].astype('category')\n",
    "X['hh_composition'] = X['hh_composition'].astype('category')\n",
    "X['hh_tenure'] = X['hh_tenure'].astype('category')\n",
    "X['urbanicity'] = X['urbanicity'].astype('category')\n",
    "X['product_type'] = X['product_type'].astype('category')\n",
    "X['day_of_week'] = X['day_of_week'].astype('category')\n",
    "X['time_of_day'] = X['time_of_day'].astype('category')\n",
    "X['zipcode_accepted_prop'] = (X['zipcode_accepted_prop']*100).astype(np.int)\n",
    "X['zipcode_rejected_offers'] = X['zipcode_rejected_offers'].astype(np.int)\n",
    "X['zipcode_accepted_offers'] = X['zipcode_accepted_offers'].astype(np.int)\n",
    "X['zipcode_total_offers'] = X['zipcode_total_offers'].astype(np.int)\n",
    "\n",
    "\n",
    "X['median_income'] = X['median_income'].astype(np.int)\n",
    "X['total_population'] = X['total_population'].astype(np.int)\n",
    "X['perc_female'] = X['perc_female'].astype(np.int)\n",
    "X['perc_under18'] = X['perc_under18'].astype(np.int)\n",
    "X['perc_over65'] = X['perc_over65'].astype(np.int)\n",
    "X['perc_white'] = X['perc_white'].astype(np.int)\n",
    "X['perc_black'] = X['perc_black'].astype(np.int)\n",
    "X['population_density'] = X['population_density'].astype(np.int)"
   ]
  },
  {
   "cell_type": "code",
   "execution_count": 27,
   "id": "1c731740",
   "metadata": {},
   "outputs": [],
   "source": [
    "x_hold_out['lines'] = x_hold_out['lines'].astype(np.int) \n",
    "x_hold_out['previous_tech_support_call'] = x_hold_out['previous_tech_support_call'].astype('category')\n",
    "x_hold_out['num_decline'] = x_hold_out['num_decline'].astype(np.int) \n",
    "x_hold_out['past_yr_claim_count'] = x_hold_out['past_yr_claim_count'].astype(np.int) \n",
    "x_hold_out['exp'] = x_hold_out['exp'].astype('category') \n",
    "x_hold_out['account_tenure'] = x_hold_out['account_tenure'].astype(np.int) \n",
    "x_hold_out['pmake'] = x_hold_out['pmake'].astype('category')\n",
    "x_hold_out['technodoption_class'] = x_hold_out['technodoption_class'].astype('category')\n",
    "x_hold_out['claritas_hh_count'] = x_hold_out['claritas_hh_count'].astype('category')\n",
    "x_hold_out['hh_income'] = x_hold_out['hh_income'].astype('category')\n",
    "x_hold_out['age_class'] = x_hold_out['age_class'].astype('category')\n",
    "x_hold_out['hh_education'] = x_hold_out['hh_education'].astype('category')\n",
    "x_hold_out['hh_composition'] = x_hold_out['hh_composition'].astype('category')\n",
    "x_hold_out['hh_tenure'] = x_hold_out['hh_tenure'].astype('category')\n",
    "x_hold_out['urbanicity'] = x_hold_out['urbanicity'].astype('category')\n",
    "x_hold_out['product_type'] = x_hold_out['product_type'].astype('category')\n",
    "x_hold_out['day_of_week'] = x_hold_out['day_of_week'].astype('category')\n",
    "x_hold_out['time_of_day'] = x_hold_out['time_of_day'].astype('category')\n",
    "x_hold_out['zipcode_accepted_prop'] = (x_hold_out['zipcode_accepted_prop']*100).astype(np.int)\n",
    "x_hold_out['zipcode_rejected_offers'] = x_hold_out['zipcode_rejected_offers'].astype(np.int)\n",
    "x_hold_out['zipcode_accepted_offers'] = x_hold_out['zipcode_accepted_offers'].astype(np.int)\n",
    "x_hold_out['zipcode_total_offers'] = x_hold_out['zipcode_total_offers'].astype(np.int)\n",
    "\n",
    "\n",
    "x_hold_out['median_income'] = x_hold_out['median_income'].astype(np.int)\n",
    "x_hold_out['total_population'] = x_hold_out['total_population'].astype(np.int)\n",
    "x_hold_out['perc_female'] = x_hold_out['perc_female'].astype(np.int)\n",
    "x_hold_out['perc_under18'] = x_hold_out['perc_under18'].astype(np.int)\n",
    "x_hold_out['perc_over65'] = x_hold_out['perc_over65'].astype(np.int)\n",
    "x_hold_out['perc_white'] = x_hold_out['perc_white'].astype(np.int)\n",
    "x_hold_out['perc_black'] = x_hold_out['perc_black'].astype(np.int)\n",
    "x_hold_out['population_density'] = x_hold_out['population_density'].astype(np.int)"
   ]
  },
  {
   "cell_type": "code",
   "execution_count": 28,
   "id": "b35275a8",
   "metadata": {},
   "outputs": [
    {
     "data": {
      "text/plain": [
       "18316"
      ]
     },
     "execution_count": 28,
     "metadata": {},
     "output_type": "execute_result"
    }
   ],
   "source": [
    "len(x_hold_out)"
   ]
  },
  {
   "cell_type": "code",
   "execution_count": 29,
   "id": "8fc20764",
   "metadata": {},
   "outputs": [
    {
     "data": {
      "text/plain": [
       "84339"
      ]
     },
     "execution_count": 29,
     "metadata": {},
     "output_type": "execute_result"
    }
   ],
   "source": [
    "len(X)"
   ]
  },
  {
   "cell_type": "code",
   "execution_count": 30,
   "id": "73d55665",
   "metadata": {},
   "outputs": [
    {
     "data": {
      "text/plain": [
       "84339"
      ]
     },
     "execution_count": 30,
     "metadata": {},
     "output_type": "execute_result"
    }
   ],
   "source": [
    "len(y)"
   ]
  },
  {
   "cell_type": "code",
   "execution_count": 31,
   "id": "5ba8f980",
   "metadata": {},
   "outputs": [
    {
     "data": {
      "text/plain": [
       "pandas.core.frame.DataFrame"
      ]
     },
     "execution_count": 31,
     "metadata": {},
     "output_type": "execute_result"
    }
   ],
   "source": [
    "type(train)"
   ]
  },
  {
   "cell_type": "code",
   "execution_count": 32,
   "id": "1ce2d63e",
   "metadata": {},
   "outputs": [
    {
     "data": {
      "text/plain": [
       "pandas.core.frame.DataFrame"
      ]
     },
     "execution_count": 32,
     "metadata": {},
     "output_type": "execute_result"
    }
   ],
   "source": [
    "type(test)"
   ]
  },
  {
   "cell_type": "code",
   "execution_count": 33,
   "id": "c504583c",
   "metadata": {},
   "outputs": [
    {
     "data": {
      "text/plain": [
       "18316"
      ]
     },
     "execution_count": 33,
     "metadata": {},
     "output_type": "execute_result"
    }
   ],
   "source": [
    "len(test)"
   ]
  },
  {
   "cell_type": "code",
   "execution_count": 34,
   "id": "1019884f",
   "metadata": {},
   "outputs": [
    {
     "data": {
      "text/plain": [
       "18316"
      ]
     },
     "execution_count": 34,
     "metadata": {},
     "output_type": "execute_result"
    }
   ],
   "source": [
    "len(x_hold_out)"
   ]
  },
  {
   "cell_type": "code",
   "execution_count": 35,
   "id": "b210882f",
   "metadata": {},
   "outputs": [
    {
     "data": {
      "text/plain": [
       "18316"
      ]
     },
     "execution_count": 35,
     "metadata": {},
     "output_type": "execute_result"
    }
   ],
   "source": [
    "len(y_hold_out)"
   ]
  },
  {
   "cell_type": "code",
   "execution_count": 36,
   "id": "ee576ab9",
   "metadata": {},
   "outputs": [],
   "source": [
    "Xf_train, Xf_test, y_train, y_test = train_test_split(X,y, test_size = 0.3, stratify=y['ninety_day_churn'])"
   ]
  },
  {
   "cell_type": "code",
   "execution_count": 37,
   "id": "99515356",
   "metadata": {},
   "outputs": [
    {
     "data": {
      "text/plain": [
       "ninety_day_churn\n",
       "0.00                41631\n",
       "1.00                17406\n",
       "dtype: int64"
      ]
     },
     "execution_count": 37,
     "metadata": {},
     "output_type": "execute_result"
    }
   ],
   "source": [
    "y_train.value_counts()"
   ]
  },
  {
   "cell_type": "code",
   "execution_count": 38,
   "id": "0f3729c2",
   "metadata": {},
   "outputs": [
    {
     "data": {
      "text/plain": [
       "ninety_day_churn\n",
       "0.00                13427\n",
       "1.00                 4889\n",
       "dtype: int64"
      ]
     },
     "execution_count": 38,
     "metadata": {},
     "output_type": "execute_result"
    }
   ],
   "source": [
    "y_hold_out.value_counts()"
   ]
  },
  {
   "cell_type": "code",
   "execution_count": 40,
   "id": "7a25fb54",
   "metadata": {},
   "outputs": [
    {
     "data": {
      "text/plain": [
       "Index(['lines', 'previous_tech_support_call', 'account_tenure',\n",
       "       'past_yr_claim_count', 'num_decline', 'exp', 'product_type', 'pmake',\n",
       "       'claritas_hh_count', 'technodoption_class', 'hh_income', 'age_class',\n",
       "       'hh_education', 'hh_composition', 'hh_tenure', 'urbanicity',\n",
       "       'median_income', 'total_population', 'perc_female', 'perc_under18',\n",
       "       'perc_over65', 'perc_white', 'perc_black', 'population_density',\n",
       "       'day_of_week', 'time_of_day', 'zipcode_accepted_prop',\n",
       "       'zipcode_rejected_offers', 'zipcode_accepted_offers',\n",
       "       'zipcode_total_offers'],\n",
       "      dtype='object')"
      ]
     },
     "execution_count": 40,
     "metadata": {},
     "output_type": "execute_result"
    }
   ],
   "source": [
    "Xf_train.columns"
   ]
  },
  {
   "cell_type": "code",
   "execution_count": 41,
   "id": "d21066ab",
   "metadata": {},
   "outputs": [
    {
     "data": {
      "text/plain": [
       "ninety_day_churn\n",
       "0.00                41631\n",
       "1.00                17406\n",
       "dtype: int64"
      ]
     },
     "execution_count": 41,
     "metadata": {},
     "output_type": "execute_result"
    }
   ],
   "source": [
    "y_train.value_counts()"
   ]
  },
  {
   "cell_type": "code",
   "execution_count": 42,
   "id": "63796050",
   "metadata": {},
   "outputs": [
    {
     "data": {
      "text/plain": [
       "<bound method NDFrame.head of        ninety_day_churn\n",
       "73622              1.00\n",
       "67214              0.00\n",
       "65587              0.00\n",
       "30952              0.00\n",
       "14252              0.00\n",
       "...                 ...\n",
       "84619              0.00\n",
       "13572              1.00\n",
       "50574              0.00\n",
       "62780              0.00\n",
       "37680              0.00\n",
       "\n",
       "[59037 rows x 1 columns]>"
      ]
     },
     "execution_count": 42,
     "metadata": {},
     "output_type": "execute_result"
    }
   ],
   "source": [
    "y_train.head"
   ]
  },
  {
   "cell_type": "code",
   "execution_count": 43,
   "id": "b205c7e2",
   "metadata": {},
   "outputs": [
    {
     "data": {
      "text/plain": [
       "2.3917614615649776"
      ]
     },
     "execution_count": 43,
     "metadata": {},
     "output_type": "execute_result"
    }
   ],
   "source": [
    "spw = (y_train['ninety_day_churn'] == 0.00).sum()/(y_train['ninety_day_churn'] == 1.00).sum()\n",
    "spw"
   ]
  },
  {
   "cell_type": "code",
   "execution_count": 44,
   "id": "6f5429af",
   "metadata": {},
   "outputs": [
    {
     "data": {
      "text/plain": [
       "(18316, 30)"
      ]
     },
     "execution_count": 44,
     "metadata": {},
     "output_type": "execute_result"
    }
   ],
   "source": [
    "x_hold_out.shape"
   ]
  },
  {
   "cell_type": "code",
   "execution_count": 45,
   "id": "c2e2311c",
   "metadata": {},
   "outputs": [],
   "source": [
    "train_census_dataset = cb.Pool(Xf_train,y_train, \n",
    "                        cat_features=np.where(Xf_train.dtypes != np.int)[0])                                                      \n",
    "test_census_dataset = cb.Pool(Xf_test, y_test,           \n",
    "                       cat_features=np.where(Xf_test.dtypes != np.int)[0])"
   ]
  },
  {
   "cell_type": "code",
   "execution_count": 46,
   "id": "c8f5d39a",
   "metadata": {},
   "outputs": [],
   "source": [
    "holdout_census_dataset = cb.Pool(x_hold_out, y_hold_out,           \n",
    "                       cat_features=np.where(x_hold_out.dtypes != np.int)[0])"
   ]
  },
  {
   "cell_type": "code",
   "execution_count": 47,
   "id": "db803dfe",
   "metadata": {},
   "outputs": [],
   "source": [
    "from catboost import CatBoostClassifier"
   ]
  },
  {
   "cell_type": "code",
   "execution_count": 48,
   "id": "12c9058e",
   "metadata": {},
   "outputs": [
    {
     "data": {
      "application/vnd.jupyter.widget-view+json": {
       "model_id": "183d02820a644775aa9857f98a1b6fbe",
       "version_major": 2,
       "version_minor": 0
      },
      "text/plain": [
       "MetricVisualizer(layout=Layout(align_self='stretch', height='500px'))"
      ]
     },
     "metadata": {},
     "output_type": "display_data"
    },
    {
     "data": {
      "text/plain": [
       "<catboost.core.CatBoostClassifier at 0x7f6c9aa44fd0>"
      ]
     },
     "execution_count": 48,
     "metadata": {},
     "output_type": "execute_result"
    }
   ],
   "source": [
    "#initiate model\n",
    "cat_model_census = CatBoostClassifier(\n",
    "    cat_features = np.where(Xf_train.dtypes != np.int)[0],\n",
    "    scale_pos_weight=spw,\n",
    "    max_depth = 5,\n",
    "    learning_rate = 0.05\n",
    ")\n",
    "#train\n",
    "cat_model_census.fit(train_census_dataset, \n",
    "       eval_set=test_census_dataset,\n",
    "      plot=True, silent= True)"
   ]
  },
  {
   "cell_type": "code",
   "execution_count": 49,
   "id": "39e57ce9",
   "metadata": {},
   "outputs": [
    {
     "data": {
      "text/plain": [
       "ninety_day_churn\n",
       "0.00                13427\n",
       "1.00                 4889\n",
       "dtype: int64"
      ]
     },
     "execution_count": 49,
     "metadata": {},
     "output_type": "execute_result"
    }
   ],
   "source": [
    "y_hold_out.value_counts()\n",
    "#26%"
   ]
  },
  {
   "cell_type": "code",
   "execution_count": 50,
   "id": "56fb209c",
   "metadata": {},
   "outputs": [
    {
     "name": "stdout",
     "output_type": "stream",
     "text": [
      "catboost_holdoutset \n",
      " recall: 0.45346696665984865 \n",
      " precision 0.3244548514561686 \n",
      " [[8811 4616]\n",
      " [2672 2217]] \n",
      " f1 score: 0.378263095034977 \n",
      " tn:8811, fp:4616, fn:2672, tp:2217 \n",
      "\n"
     ]
    }
   ],
   "source": [
    "pred_census = cat_model_census.predict_proba(holdout_census_dataset)\n",
    "threshold=0.5\n",
    "predicted_cat_census = (pred_census[:,1] >= threshold).astype('int')\n",
    "tn, fp, fn, tp = confusion_matrix(y_hold_out, predicted_cat_census).ravel()\n",
    "print(\"catboost_holdoutset\",'\\n',\n",
    "    \"recall:\",recall_score(y_hold_out, predicted_cat_census),'\\n',\n",
    "     'precision',precision_score(y_hold_out, predicted_cat_census),'\\n',\n",
    "     confusion_matrix(y_hold_out, predicted_cat_census),'\\n',\n",
    "     'f1 score:',f1_score(y_hold_out, predicted_cat_census),'\\n',\n",
    "     'tn:{}, fp:{}, fn:{}, tp:{}'.format(tn, fp, fn, tp),'\\n')"
   ]
  },
  {
   "cell_type": "code",
   "execution_count": 51,
   "id": "7217d6fa",
   "metadata": {},
   "outputs": [
    {
     "data": {
      "text/plain": [
       "ninety_day_churn\n",
       "0.00                17842\n",
       "1.00                 7460\n",
       "dtype: int64"
      ]
     },
     "execution_count": 51,
     "metadata": {},
     "output_type": "execute_result"
    }
   ],
   "source": [
    "y_test.value_counts()\n",
    "#29% "
   ]
  },
  {
   "cell_type": "code",
   "execution_count": 57,
   "id": "e88c36f2",
   "metadata": {},
   "outputs": [
    {
     "name": "stdout",
     "output_type": "stream",
     "text": [
      "catboost_testset \n",
      " recall: 0.5198391420911528 \n",
      " precision 0.4355835111760081 \n",
      " [[12817  5025]\n",
      " [ 3582  3878]] \n",
      " f1 score: 0.4739962109637597 \n",
      " tn:12817, fp:5025, fn:3582, tp:3878 \n",
      "\n"
     ]
    }
   ],
   "source": [
    "pred_census = cat_model_census.predict_proba(test_census_dataset)\n",
    "threshold=0.5\n",
    "predicted_cat_census = (pred_census[:,1] >= threshold).astype('int')\n",
    "tn, fp, fn, tp = confusion_matrix(y_test, predicted_cat_census).ravel()\n",
    "print(\"catboost_testset\",'\\n',\n",
    "    \"recall:\",recall_score(y_test, predicted_cat_census),'\\n',\n",
    "     'precision',precision_score(y_test, predicted_cat_census),'\\n',\n",
    "     confusion_matrix(y_test, predicted_cat_census),'\\n',\n",
    "     'f1 score:',f1_score(y_test, predicted_cat_census),'\\n',\n",
    "     'tn:{}, fp:{}, fn:{}, tp:{}'.format(tn, fp, fn, tp),'\\n')"
   ]
  },
  {
   "cell_type": "code",
   "execution_count": 53,
   "id": "43007bb1",
   "metadata": {},
   "outputs": [
    {
     "data": {
      "text/html": [
       "<div>\n",
       "<style scoped>\n",
       "    .dataframe tbody tr th:only-of-type {\n",
       "        vertical-align: middle;\n",
       "    }\n",
       "\n",
       "    .dataframe tbody tr th {\n",
       "        vertical-align: top;\n",
       "    }\n",
       "\n",
       "    .dataframe thead th {\n",
       "        text-align: right;\n",
       "    }\n",
       "</style>\n",
       "<table border=\"1\" class=\"dataframe\">\n",
       "  <thead>\n",
       "    <tr style=\"text-align: right;\">\n",
       "      <th></th>\n",
       "      <th>vip</th>\n",
       "      <th>feature_importances_mag</th>\n",
       "      <th>feature_importances_sign</th>\n",
       "    </tr>\n",
       "    <tr>\n",
       "      <th>feat_names</th>\n",
       "      <th></th>\n",
       "      <th></th>\n",
       "      <th></th>\n",
       "    </tr>\n",
       "  </thead>\n",
       "  <tbody>\n",
       "    <tr>\n",
       "      <th>lines</th>\n",
       "      <td>14.57</td>\n",
       "      <td>14.57</td>\n",
       "      <td>1.00</td>\n",
       "    </tr>\n",
       "    <tr>\n",
       "      <th>zipcode_accepted_offers</th>\n",
       "      <td>9.28</td>\n",
       "      <td>9.28</td>\n",
       "      <td>1.00</td>\n",
       "    </tr>\n",
       "    <tr>\n",
       "      <th>account_tenure</th>\n",
       "      <td>7.25</td>\n",
       "      <td>7.25</td>\n",
       "      <td>1.00</td>\n",
       "    </tr>\n",
       "    <tr>\n",
       "      <th>zipcode_accepted_prop</th>\n",
       "      <td>6.96</td>\n",
       "      <td>6.96</td>\n",
       "      <td>1.00</td>\n",
       "    </tr>\n",
       "    <tr>\n",
       "      <th>median_income</th>\n",
       "      <td>5.39</td>\n",
       "      <td>5.39</td>\n",
       "      <td>1.00</td>\n",
       "    </tr>\n",
       "    <tr>\n",
       "      <th>previous_tech_support_call</th>\n",
       "      <td>5.09</td>\n",
       "      <td>5.09</td>\n",
       "      <td>1.00</td>\n",
       "    </tr>\n",
       "    <tr>\n",
       "      <th>population_density</th>\n",
       "      <td>4.25</td>\n",
       "      <td>4.25</td>\n",
       "      <td>1.00</td>\n",
       "    </tr>\n",
       "    <tr>\n",
       "      <th>num_decline</th>\n",
       "      <td>4.03</td>\n",
       "      <td>4.03</td>\n",
       "      <td>1.00</td>\n",
       "    </tr>\n",
       "    <tr>\n",
       "      <th>total_population</th>\n",
       "      <td>3.38</td>\n",
       "      <td>3.38</td>\n",
       "      <td>1.00</td>\n",
       "    </tr>\n",
       "    <tr>\n",
       "      <th>pmake</th>\n",
       "      <td>3.34</td>\n",
       "      <td>3.34</td>\n",
       "      <td>1.00</td>\n",
       "    </tr>\n",
       "    <tr>\n",
       "      <th>perc_black</th>\n",
       "      <td>3.17</td>\n",
       "      <td>3.17</td>\n",
       "      <td>1.00</td>\n",
       "    </tr>\n",
       "    <tr>\n",
       "      <th>perc_white</th>\n",
       "      <td>2.71</td>\n",
       "      <td>2.71</td>\n",
       "      <td>1.00</td>\n",
       "    </tr>\n",
       "    <tr>\n",
       "      <th>zipcode_total_offers</th>\n",
       "      <td>2.60</td>\n",
       "      <td>2.60</td>\n",
       "      <td>1.00</td>\n",
       "    </tr>\n",
       "    <tr>\n",
       "      <th>perc_over65</th>\n",
       "      <td>2.51</td>\n",
       "      <td>2.51</td>\n",
       "      <td>1.00</td>\n",
       "    </tr>\n",
       "    <tr>\n",
       "      <th>zipcode_rejected_offers</th>\n",
       "      <td>2.49</td>\n",
       "      <td>2.49</td>\n",
       "      <td>1.00</td>\n",
       "    </tr>\n",
       "  </tbody>\n",
       "</table>\n",
       "</div>"
      ],
      "text/plain": [
       "                             vip  feature_importances_mag  \\\n",
       "feat_names                                                  \n",
       "lines                      14.57                    14.57   \n",
       "zipcode_accepted_offers     9.28                     9.28   \n",
       "account_tenure              7.25                     7.25   \n",
       "zipcode_accepted_prop       6.96                     6.96   \n",
       "median_income               5.39                     5.39   \n",
       "previous_tech_support_call  5.09                     5.09   \n",
       "population_density          4.25                     4.25   \n",
       "num_decline                 4.03                     4.03   \n",
       "total_population            3.38                     3.38   \n",
       "pmake                       3.34                     3.34   \n",
       "perc_black                  3.17                     3.17   \n",
       "perc_white                  2.71                     2.71   \n",
       "zipcode_total_offers        2.60                     2.60   \n",
       "perc_over65                 2.51                     2.51   \n",
       "zipcode_rejected_offers     2.49                     2.49   \n",
       "\n",
       "                            feature_importances_sign  \n",
       "feat_names                                            \n",
       "lines                                           1.00  \n",
       "zipcode_accepted_offers                         1.00  \n",
       "account_tenure                                  1.00  \n",
       "zipcode_accepted_prop                           1.00  \n",
       "median_income                                   1.00  \n",
       "previous_tech_support_call                      1.00  \n",
       "population_density                              1.00  \n",
       "num_decline                                     1.00  \n",
       "total_population                                1.00  \n",
       "pmake                                           1.00  \n",
       "perc_black                                      1.00  \n",
       "perc_white                                      1.00  \n",
       "zipcode_total_offers                            1.00  \n",
       "perc_over65                                     1.00  \n",
       "zipcode_rejected_offers                         1.00  "
      ]
     },
     "execution_count": 53,
     "metadata": {},
     "output_type": "execute_result"
    }
   ],
   "source": [
    "vip = cat_model_census.feature_importances_\n",
    "\n",
    "#create df with vip info\n",
    "feature_importances_info = pd.DataFrame({'feat_names':Xf_train.columns, 'vip': vip})\n",
    "\n",
    "#get sign and magnitude information\n",
    "feature_importances_info = feature_importances_info.assign(feature_importances_mag = abs(feature_importances_info['vip']),\n",
    "                             feature_importances_sign = np.sign(feature_importances_info['vip']))\n",
    "feature_importances_info = feature_importances_info.set_index('feat_names').sort_values(by='feature_importances_mag', ascending=False)\n",
    "feature_importances_info.head(15)"
   ]
  },
  {
   "cell_type": "code",
   "execution_count": 54,
   "id": "af056d7c",
   "metadata": {},
   "outputs": [
    {
     "name": "stdout",
     "output_type": "stream",
     "text": [
      "Looking in indexes: https://pypi.org/simple, https://pypi.ngc.nvidia.com\n",
      "Requirement already satisfied: seaborn in /opt/conda/lib/python3.8/site-packages (0.12.1)\n",
      "Requirement already satisfied: pandas>=0.25 in /opt/conda/lib/python3.8/site-packages (from seaborn) (1.3.5)\n",
      "Requirement already satisfied: matplotlib!=3.6.1,>=3.1 in /opt/conda/lib/python3.8/site-packages (from seaborn) (3.5.2)\n",
      "Requirement already satisfied: numpy>=1.17 in /opt/conda/lib/python3.8/site-packages (from seaborn) (1.22.4)\n",
      "Requirement already satisfied: packaging>=20.0 in /opt/conda/lib/python3.8/site-packages (from matplotlib!=3.6.1,>=3.1->seaborn) (21.3)\n",
      "Requirement already satisfied: pillow>=6.2.0 in /opt/conda/lib/python3.8/site-packages (from matplotlib!=3.6.1,>=3.1->seaborn) (9.0.1)\n",
      "Requirement already satisfied: kiwisolver>=1.0.1 in /opt/conda/lib/python3.8/site-packages (from matplotlib!=3.6.1,>=3.1->seaborn) (1.4.3)\n",
      "Requirement already satisfied: fonttools>=4.22.0 in /opt/conda/lib/python3.8/site-packages (from matplotlib!=3.6.1,>=3.1->seaborn) (4.33.3)\n",
      "Requirement already satisfied: python-dateutil>=2.7 in /opt/conda/lib/python3.8/site-packages (from matplotlib!=3.6.1,>=3.1->seaborn) (2.8.2)\n",
      "Requirement already satisfied: pyparsing>=2.2.1 in /opt/conda/lib/python3.8/site-packages (from matplotlib!=3.6.1,>=3.1->seaborn) (3.0.9)\n",
      "Requirement already satisfied: cycler>=0.10 in /opt/conda/lib/python3.8/site-packages (from matplotlib!=3.6.1,>=3.1->seaborn) (0.11.0)\n",
      "Requirement already satisfied: pytz>=2017.3 in /opt/conda/lib/python3.8/site-packages (from pandas>=0.25->seaborn) (2022.1)\n",
      "Requirement already satisfied: six>=1.5 in /opt/conda/lib/python3.8/site-packages (from python-dateutil>=2.7->matplotlib!=3.6.1,>=3.1->seaborn) (1.16.0)\n",
      "\u001b[33mWARNING: Running pip as the 'root' user can result in broken permissions and conflicting behaviour with the system package manager. It is recommended to use a virtual environment instead: https://pip.pypa.io/warnings/venv\u001b[0m\n"
     ]
    }
   ],
   "source": [
    "!pip install seaborn"
   ]
  },
  {
   "cell_type": "code",
   "execution_count": 55,
   "id": "07023523",
   "metadata": {},
   "outputs": [
    {
     "data": {
      "image/png": "[encoded data removed]",
      "text/plain": [
       "<Figure size 432x288 with 1 Axes>"
      ]
     },
     "metadata": {
      "needs_background": "light"
     },
     "output_type": "display_data"
    }
   ],
   "source": [
    "import seaborn as sns\n",
    "sns.barplot(y=feature_importances_info.index[:10], x='feature_importances_mag', hue='feature_importances_sign', \n",
    "            data=feature_importances_info[:10], orient='h', dodge=False);"
   ]
  },
  {
   "cell_type": "code",
   "execution_count": 56,
   "id": "ec65e273",
   "metadata": {},
   "outputs": [
    {
     "data": {
      "image/png": "[encoded data removed]",
      "text/plain": [
       "<Figure size 1152x576 with 2 Axes>"
      ]
     },
     "metadata": {
      "needs_background": "light"
     },
     "output_type": "display_data"
    }
   ],
   "source": [
    "plt.figure(figsize = (16,8))\n",
    "cor = train.corr()\n",
    "sns.heatmap(cor, annot = True, cmap = \"viridis\")\n",
    "plt.show()"
   ]
  },
  {
   "cell_type": "code",
   "execution_count": null,
   "id": "e31c6311",
   "metadata": {},
   "outputs": [],
   "source": []
  },
  {
   "cell_type": "code",
   "execution_count": null,
   "id": "9a1d6158",
   "metadata": {},
   "outputs": [],
   "source": []
  }
 ],
 "metadata": {
  "kernelspec": {
   "display_name": "Python 3 (ipykernel)",
   "language": "python",
   "name": "python3"
  },
  "language_info": {
   "codemirror_mode": {
    "name": "ipython",
    "version": 3
   },
   "file_extension": ".py",
   "mimetype": "text/x-python",
   "name": "python",
   "nbconvert_exporter": "python",
   "pygments_lexer": "ipython3",
   "version": "3.8.13"
  }
 },
 "nbformat": 4,
 "nbformat_minor": 5
}
