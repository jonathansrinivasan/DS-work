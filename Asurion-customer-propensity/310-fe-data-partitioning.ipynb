{
 "cells": [
  {
   "cell_type": "markdown",
   "id": "5b3287bf",
   "metadata": {},
   "source": [
    "# Data Partitioning"
   ]
  },
  {
   "cell_type": "code",
   "execution_count": 1,
   "id": "34166bb7",
   "metadata": {},
   "outputs": [],
   "source": [
    "import pandas as pd"
   ]
  },
  {
   "cell_type": "code",
   "execution_count": 2,
   "id": "5693b9bc",
   "metadata": {},
   "outputs": [
    {
     "name": "stdout",
     "output_type": "stream",
     "text": [
      "/workspace/asurion_f22_muby\n"
     ]
    }
   ],
   "source": [
    "%cd .."
   ]
  },
  {
   "cell_type": "code",
   "execution_count": 3,
   "id": "a3770866",
   "metadata": {},
   "outputs": [
    {
     "name": "stdout",
     "output_type": "stream",
     "text": [
      "/workspace/asurion_f22_muby/fe_data_v2\n"
     ]
    }
   ],
   "source": [
    "%cd fe_data_v2"
   ]
  },
  {
   "cell_type": "code",
   "execution_count": 4,
   "id": "414a40de",
   "metadata": {},
   "outputs": [],
   "source": [
    "df_train = pd.read_csv(\"total_sale_data/train_encoded_zipcode.csv\")\n",
    "df_test = pd.read_csv(\"total_sale_data/test_encoded_zipcode.csv\")"
   ]
  },
  {
   "cell_type": "code",
   "execution_count": 5,
   "id": "7d13433d",
   "metadata": {},
   "outputs": [
    {
     "data": {
      "text/plain": [
       "Index(['id', 'quality_sale', 'accepted_flg', 'seven_day_churn',\n",
       "       'thirty_day_churn', 'ninety_day_churn', 'clndr_dt_cst', 'start_dt',\n",
       "       'lines', 'previous_tech_support_call', 'account_tenure',\n",
       "       'past_yr_claim_count', 'num_decline', 'exp', 'product_type', 'pmake',\n",
       "       'claritas_hh_count', 'technodoption_class', 'hh_income', 'age_class',\n",
       "       'hh_education', 'hh_composition', 'hh_tenure', 'urbanicity',\n",
       "       'median_income', 'total_population', 'perc_female', 'perc_under18',\n",
       "       'perc_over65', 'perc_white', 'perc_black', 'population_density',\n",
       "       'zipcode', 'county', 'state', 'state_code', 'latitude', 'longitude',\n",
       "       'month', 'hh_income_code', 'day_of_week', 'time_of_day',\n",
       "       'zipcode_accepted_prop', 'zipcode_rejected_offers',\n",
       "       'zipcode_accepted_offers', 'zipcode_total_offers'],\n",
       "      dtype='object')"
      ]
     },
     "execution_count": 5,
     "metadata": {},
     "output_type": "execute_result"
    }
   ],
   "source": [
    "df_train.columns"
   ]
  },
  {
   "cell_type": "markdown",
   "id": "0236c263",
   "metadata": {},
   "source": [
    "### Quality Sale Data Creation"
   ]
  },
  {
   "cell_type": "code",
   "execution_count": 6,
   "id": "38585f6a",
   "metadata": {},
   "outputs": [],
   "source": [
    "df_train_sale = df_train.drop(['seven_day_churn','thirty_day_churn', 'ninety_day_churn'], axis = 1)\n",
    "df_test_sale = df_test.drop(['seven_day_churn','thirty_day_churn', 'ninety_day_churn'], axis = 1)"
   ]
  },
  {
   "cell_type": "code",
   "execution_count": 7,
   "id": "62726a19",
   "metadata": {},
   "outputs": [],
   "source": [
    "df_train_sale.to_csv(\"sale_data/train_sale_encoded.csv\", index = False)\n",
    "df_test_sale.to_csv(\"sale_data/test_sale_encoded.csv\", index = False)"
   ]
  },
  {
   "cell_type": "markdown",
   "id": "79ef28b5",
   "metadata": {},
   "source": [
    "### Data Examination"
   ]
  },
  {
   "cell_type": "code",
   "execution_count": 8,
   "id": "74aba18b",
   "metadata": {},
   "outputs": [
    {
     "data": {
      "text/plain": [
       "0.0    60530\n",
       "1.0    25177\n",
       "Name: ninety_day_churn, dtype: int64"
      ]
     },
     "execution_count": 8,
     "metadata": {},
     "output_type": "execute_result"
    }
   ],
   "source": [
    "df_train[\"ninety_day_churn\"].value_counts()"
   ]
  },
  {
   "cell_type": "code",
   "execution_count": 9,
   "id": "4efaf39d",
   "metadata": {},
   "outputs": [
    {
     "data": {
      "text/html": [
       "<div>\n",
       "<style scoped>\n",
       "    .dataframe tbody tr th:only-of-type {\n",
       "        vertical-align: middle;\n",
       "    }\n",
       "\n",
       "    .dataframe tbody tr th {\n",
       "        vertical-align: top;\n",
       "    }\n",
       "\n",
       "    .dataframe thead th {\n",
       "        text-align: right;\n",
       "    }\n",
       "</style>\n",
       "<table border=\"1\" class=\"dataframe\">\n",
       "  <thead>\n",
       "    <tr style=\"text-align: right;\">\n",
       "      <th></th>\n",
       "      <th>id</th>\n",
       "      <th>quality_sale</th>\n",
       "      <th>accepted_flg</th>\n",
       "      <th>seven_day_churn</th>\n",
       "      <th>thirty_day_churn</th>\n",
       "      <th>ninety_day_churn</th>\n",
       "      <th>clndr_dt_cst</th>\n",
       "      <th>start_dt</th>\n",
       "      <th>lines</th>\n",
       "      <th>previous_tech_support_call</th>\n",
       "      <th>...</th>\n",
       "      <th>latitude</th>\n",
       "      <th>longitude</th>\n",
       "      <th>month</th>\n",
       "      <th>hh_income_code</th>\n",
       "      <th>day_of_week</th>\n",
       "      <th>time_of_day</th>\n",
       "      <th>zipcode_accepted_prop</th>\n",
       "      <th>zipcode_rejected_offers</th>\n",
       "      <th>zipcode_accepted_offers</th>\n",
       "      <th>zipcode_total_offers</th>\n",
       "    </tr>\n",
       "  </thead>\n",
       "  <tbody>\n",
       "    <tr>\n",
       "      <th>4</th>\n",
       "      <td>68943556bf63277816d843ffb129e23ffe60bc5b982603...</td>\n",
       "      <td>1</td>\n",
       "      <td>1</td>\n",
       "      <td>0.0</td>\n",
       "      <td>0.0</td>\n",
       "      <td>0.0</td>\n",
       "      <td>2022-03-01 00:00:00.000</td>\n",
       "      <td>2022-03-01 12:22:15.780</td>\n",
       "      <td>2</td>\n",
       "      <td>4</td>\n",
       "      <td>...</td>\n",
       "      <td>30.3125</td>\n",
       "      <td>-95.4527</td>\n",
       "      <td>march</td>\n",
       "      <td>4</td>\n",
       "      <td>Tuesday</td>\n",
       "      <td>12</td>\n",
       "      <td>0.185714</td>\n",
       "      <td>57.0</td>\n",
       "      <td>13.0</td>\n",
       "      <td>70.0</td>\n",
       "    </tr>\n",
       "    <tr>\n",
       "      <th>15</th>\n",
       "      <td>6c09cf1d3246c800ba864c7eaced4b1e7a38b09f90ebc3...</td>\n",
       "      <td>1</td>\n",
       "      <td>1</td>\n",
       "      <td>0.0</td>\n",
       "      <td>0.0</td>\n",
       "      <td>0.0</td>\n",
       "      <td>2022-03-17 00:00:00.000</td>\n",
       "      <td>2022-03-17 15:29:30.018</td>\n",
       "      <td>2</td>\n",
       "      <td>1</td>\n",
       "      <td>...</td>\n",
       "      <td>33.4936</td>\n",
       "      <td>-111.9167</td>\n",
       "      <td>march</td>\n",
       "      <td>4</td>\n",
       "      <td>Thursday</td>\n",
       "      <td>15</td>\n",
       "      <td>0.087591</td>\n",
       "      <td>125.0</td>\n",
       "      <td>12.0</td>\n",
       "      <td>137.0</td>\n",
       "    </tr>\n",
       "    <tr>\n",
       "      <th>17</th>\n",
       "      <td>5221cde1976fcd8a4d0d6fb059e04ed6d9b6450b68020d...</td>\n",
       "      <td>1</td>\n",
       "      <td>1</td>\n",
       "      <td>0.0</td>\n",
       "      <td>0.0</td>\n",
       "      <td>0.0</td>\n",
       "      <td>2022-03-07 00:00:00.000</td>\n",
       "      <td>2022-03-07 09:11:47.002</td>\n",
       "      <td>2</td>\n",
       "      <td>1</td>\n",
       "      <td>...</td>\n",
       "      <td>40.7647</td>\n",
       "      <td>-74.1471</td>\n",
       "      <td>march</td>\n",
       "      <td>2</td>\n",
       "      <td>Monday</td>\n",
       "      <td>9</td>\n",
       "      <td>0.126214</td>\n",
       "      <td>90.0</td>\n",
       "      <td>13.0</td>\n",
       "      <td>103.0</td>\n",
       "    </tr>\n",
       "    <tr>\n",
       "      <th>38</th>\n",
       "      <td>b9b75e5295e70045ba4f1c4d0b5de77b6e03df31f200bc...</td>\n",
       "      <td>1</td>\n",
       "      <td>1</td>\n",
       "      <td>0.0</td>\n",
       "      <td>0.0</td>\n",
       "      <td>0.0</td>\n",
       "      <td>2022-03-04 00:00:00.000</td>\n",
       "      <td>2022-03-04 11:56:31.079</td>\n",
       "      <td>1</td>\n",
       "      <td>2</td>\n",
       "      <td>...</td>\n",
       "      <td>33.4361</td>\n",
       "      <td>-117.6231</td>\n",
       "      <td>march</td>\n",
       "      <td>3</td>\n",
       "      <td>Friday</td>\n",
       "      <td>11</td>\n",
       "      <td>0.078571</td>\n",
       "      <td>129.0</td>\n",
       "      <td>11.0</td>\n",
       "      <td>140.0</td>\n",
       "    </tr>\n",
       "    <tr>\n",
       "      <th>40</th>\n",
       "      <td>1ab34db9bd93ff9ca21cf6e21102fe22f95721249ea5c4...</td>\n",
       "      <td>1</td>\n",
       "      <td>1</td>\n",
       "      <td>0.0</td>\n",
       "      <td>0.0</td>\n",
       "      <td>0.0</td>\n",
       "      <td>2022-03-14 00:00:00.000</td>\n",
       "      <td>2022-03-14 09:05:13.530</td>\n",
       "      <td>2</td>\n",
       "      <td>6</td>\n",
       "      <td>...</td>\n",
       "      <td>35.3183</td>\n",
       "      <td>-80.7476</td>\n",
       "      <td>march</td>\n",
       "      <td>3</td>\n",
       "      <td>Monday</td>\n",
       "      <td>9</td>\n",
       "      <td>0.104478</td>\n",
       "      <td>120.0</td>\n",
       "      <td>14.0</td>\n",
       "      <td>134.0</td>\n",
       "    </tr>\n",
       "  </tbody>\n",
       "</table>\n",
       "<p>5 rows × 46 columns</p>\n",
       "</div>"
      ],
      "text/plain": [
       "                                                   id  quality_sale  \\\n",
       "4   68943556bf63277816d843ffb129e23ffe60bc5b982603...             1   \n",
       "15  6c09cf1d3246c800ba864c7eaced4b1e7a38b09f90ebc3...             1   \n",
       "17  5221cde1976fcd8a4d0d6fb059e04ed6d9b6450b68020d...             1   \n",
       "38  b9b75e5295e70045ba4f1c4d0b5de77b6e03df31f200bc...             1   \n",
       "40  1ab34db9bd93ff9ca21cf6e21102fe22f95721249ea5c4...             1   \n",
       "\n",
       "    accepted_flg  seven_day_churn  thirty_day_churn  ninety_day_churn  \\\n",
       "4              1              0.0               0.0               0.0   \n",
       "15             1              0.0               0.0               0.0   \n",
       "17             1              0.0               0.0               0.0   \n",
       "38             1              0.0               0.0               0.0   \n",
       "40             1              0.0               0.0               0.0   \n",
       "\n",
       "               clndr_dt_cst                 start_dt  lines  \\\n",
       "4   2022-03-01 00:00:00.000  2022-03-01 12:22:15.780      2   \n",
       "15  2022-03-17 00:00:00.000  2022-03-17 15:29:30.018      2   \n",
       "17  2022-03-07 00:00:00.000  2022-03-07 09:11:47.002      2   \n",
       "38  2022-03-04 00:00:00.000  2022-03-04 11:56:31.079      1   \n",
       "40  2022-03-14 00:00:00.000  2022-03-14 09:05:13.530      2   \n",
       "\n",
       "    previous_tech_support_call  ...  latitude  longitude  month  \\\n",
       "4                            4  ...   30.3125   -95.4527  march   \n",
       "15                           1  ...   33.4936  -111.9167  march   \n",
       "17                           1  ...   40.7647   -74.1471  march   \n",
       "38                           2  ...   33.4361  -117.6231  march   \n",
       "40                           6  ...   35.3183   -80.7476  march   \n",
       "\n",
       "    hh_income_code day_of_week time_of_day  zipcode_accepted_prop  \\\n",
       "4                4     Tuesday          12               0.185714   \n",
       "15               4    Thursday          15               0.087591   \n",
       "17               2      Monday           9               0.126214   \n",
       "38               3      Friday          11               0.078571   \n",
       "40               3      Monday           9               0.104478   \n",
       "\n",
       "   zipcode_rejected_offers zipcode_accepted_offers zipcode_total_offers  \n",
       "4                     57.0                    13.0                 70.0  \n",
       "15                   125.0                    12.0                137.0  \n",
       "17                    90.0                    13.0                103.0  \n",
       "38                   129.0                    11.0                140.0  \n",
       "40                   120.0                    14.0                134.0  \n",
       "\n",
       "[5 rows x 46 columns]"
      ]
     },
     "execution_count": 9,
     "metadata": {},
     "output_type": "execute_result"
    }
   ],
   "source": [
    "df_train[(df_train[\"accepted_flg\"] == 1) & (df_train[\"seven_day_churn\"] == 0)].head()"
   ]
  },
  {
   "cell_type": "code",
   "execution_count": 10,
   "id": "f55a89d9",
   "metadata": {},
   "outputs": [
    {
     "data": {
      "text/html": [
       "<div>\n",
       "<style scoped>\n",
       "    .dataframe tbody tr th:only-of-type {\n",
       "        vertical-align: middle;\n",
       "    }\n",
       "\n",
       "    .dataframe tbody tr th {\n",
       "        vertical-align: top;\n",
       "    }\n",
       "\n",
       "    .dataframe thead th {\n",
       "        text-align: right;\n",
       "    }\n",
       "</style>\n",
       "<table border=\"1\" class=\"dataframe\">\n",
       "  <thead>\n",
       "    <tr style=\"text-align: right;\">\n",
       "      <th></th>\n",
       "      <th>id</th>\n",
       "      <th>quality_sale</th>\n",
       "      <th>accepted_flg</th>\n",
       "      <th>seven_day_churn</th>\n",
       "      <th>thirty_day_churn</th>\n",
       "      <th>ninety_day_churn</th>\n",
       "      <th>clndr_dt_cst</th>\n",
       "      <th>start_dt</th>\n",
       "      <th>lines</th>\n",
       "      <th>previous_tech_support_call</th>\n",
       "      <th>...</th>\n",
       "      <th>latitude</th>\n",
       "      <th>longitude</th>\n",
       "      <th>month</th>\n",
       "      <th>hh_income_code</th>\n",
       "      <th>day_of_week</th>\n",
       "      <th>time_of_day</th>\n",
       "      <th>zipcode_accepted_prop</th>\n",
       "      <th>zipcode_rejected_offers</th>\n",
       "      <th>zipcode_accepted_offers</th>\n",
       "      <th>zipcode_total_offers</th>\n",
       "    </tr>\n",
       "  </thead>\n",
       "  <tbody>\n",
       "    <tr>\n",
       "      <th>33</th>\n",
       "      <td>a68e921aeb079a7c79de714f566802dedde074721d40a4...</td>\n",
       "      <td>0</td>\n",
       "      <td>1</td>\n",
       "      <td>1.0</td>\n",
       "      <td>1.0</td>\n",
       "      <td>1.0</td>\n",
       "      <td>2022-03-04 00:00:00.000</td>\n",
       "      <td>2022-03-04 15:00:09.566</td>\n",
       "      <td>2</td>\n",
       "      <td>2</td>\n",
       "      <td>...</td>\n",
       "      <td>44.0802</td>\n",
       "      <td>-71.2920</td>\n",
       "      <td>march</td>\n",
       "      <td>8</td>\n",
       "      <td>Friday</td>\n",
       "      <td>15</td>\n",
       "      <td>0.000000</td>\n",
       "      <td>1.0</td>\n",
       "      <td>0.0</td>\n",
       "      <td>1.0</td>\n",
       "    </tr>\n",
       "    <tr>\n",
       "      <th>39</th>\n",
       "      <td>8712f00a6411ea6edf727bb2920143fdd4d7ffd3e80cc6...</td>\n",
       "      <td>0</td>\n",
       "      <td>1</td>\n",
       "      <td>1.0</td>\n",
       "      <td>1.0</td>\n",
       "      <td>1.0</td>\n",
       "      <td>2022-03-13 00:00:00.000</td>\n",
       "      <td>2022-03-13 11:34:13.263</td>\n",
       "      <td>2</td>\n",
       "      <td>1</td>\n",
       "      <td>...</td>\n",
       "      <td>36.1232</td>\n",
       "      <td>-115.0902</td>\n",
       "      <td>march</td>\n",
       "      <td>4</td>\n",
       "      <td>Sunday</td>\n",
       "      <td>11</td>\n",
       "      <td>0.107843</td>\n",
       "      <td>91.0</td>\n",
       "      <td>11.0</td>\n",
       "      <td>102.0</td>\n",
       "    </tr>\n",
       "    <tr>\n",
       "      <th>53</th>\n",
       "      <td>516d5e6cf5efea7bfac3a524528f655835d0c3ba32b7f4...</td>\n",
       "      <td>0</td>\n",
       "      <td>1</td>\n",
       "      <td>1.0</td>\n",
       "      <td>1.0</td>\n",
       "      <td>1.0</td>\n",
       "      <td>2022-03-01 00:00:00.000</td>\n",
       "      <td>2022-03-01 07:30:59.292</td>\n",
       "      <td>7</td>\n",
       "      <td>5</td>\n",
       "      <td>...</td>\n",
       "      <td>41.1166</td>\n",
       "      <td>-87.8696</td>\n",
       "      <td>march</td>\n",
       "      <td>4</td>\n",
       "      <td>Tuesday</td>\n",
       "      <td>7</td>\n",
       "      <td>0.064220</td>\n",
       "      <td>102.0</td>\n",
       "      <td>7.0</td>\n",
       "      <td>109.0</td>\n",
       "    </tr>\n",
       "    <tr>\n",
       "      <th>74</th>\n",
       "      <td>b081fb97eeb31440870afd2282111a12fadca146608142...</td>\n",
       "      <td>0</td>\n",
       "      <td>1</td>\n",
       "      <td>1.0</td>\n",
       "      <td>1.0</td>\n",
       "      <td>1.0</td>\n",
       "      <td>2022-03-06 00:00:00.000</td>\n",
       "      <td>2022-03-06 11:51:53.801</td>\n",
       "      <td>8</td>\n",
       "      <td>5</td>\n",
       "      <td>...</td>\n",
       "      <td>36.7352</td>\n",
       "      <td>-76.2384</td>\n",
       "      <td>march</td>\n",
       "      <td>1</td>\n",
       "      <td>Sunday</td>\n",
       "      <td>11</td>\n",
       "      <td>0.070866</td>\n",
       "      <td>236.0</td>\n",
       "      <td>18.0</td>\n",
       "      <td>254.0</td>\n",
       "    </tr>\n",
       "    <tr>\n",
       "      <th>250</th>\n",
       "      <td>04121def50be397cb0b8c9c8fe2ee0d8636137c05d4142...</td>\n",
       "      <td>0</td>\n",
       "      <td>1</td>\n",
       "      <td>1.0</td>\n",
       "      <td>1.0</td>\n",
       "      <td>1.0</td>\n",
       "      <td>2022-03-12 00:00:00.000</td>\n",
       "      <td>2022-03-12 08:34:56.052</td>\n",
       "      <td>1</td>\n",
       "      <td>2</td>\n",
       "      <td>...</td>\n",
       "      <td>39.4655</td>\n",
       "      <td>-74.9653</td>\n",
       "      <td>march</td>\n",
       "      <td>5</td>\n",
       "      <td>Saturday</td>\n",
       "      <td>8</td>\n",
       "      <td>0.081967</td>\n",
       "      <td>56.0</td>\n",
       "      <td>5.0</td>\n",
       "      <td>61.0</td>\n",
       "    </tr>\n",
       "  </tbody>\n",
       "</table>\n",
       "<p>5 rows × 46 columns</p>\n",
       "</div>"
      ],
      "text/plain": [
       "                                                    id  quality_sale  \\\n",
       "33   a68e921aeb079a7c79de714f566802dedde074721d40a4...             0   \n",
       "39   8712f00a6411ea6edf727bb2920143fdd4d7ffd3e80cc6...             0   \n",
       "53   516d5e6cf5efea7bfac3a524528f655835d0c3ba32b7f4...             0   \n",
       "74   b081fb97eeb31440870afd2282111a12fadca146608142...             0   \n",
       "250  04121def50be397cb0b8c9c8fe2ee0d8636137c05d4142...             0   \n",
       "\n",
       "     accepted_flg  seven_day_churn  thirty_day_churn  ninety_day_churn  \\\n",
       "33              1              1.0               1.0               1.0   \n",
       "39              1              1.0               1.0               1.0   \n",
       "53              1              1.0               1.0               1.0   \n",
       "74              1              1.0               1.0               1.0   \n",
       "250             1              1.0               1.0               1.0   \n",
       "\n",
       "                clndr_dt_cst                 start_dt  lines  \\\n",
       "33   2022-03-04 00:00:00.000  2022-03-04 15:00:09.566      2   \n",
       "39   2022-03-13 00:00:00.000  2022-03-13 11:34:13.263      2   \n",
       "53   2022-03-01 00:00:00.000  2022-03-01 07:30:59.292      7   \n",
       "74   2022-03-06 00:00:00.000  2022-03-06 11:51:53.801      8   \n",
       "250  2022-03-12 00:00:00.000  2022-03-12 08:34:56.052      1   \n",
       "\n",
       "     previous_tech_support_call  ...  latitude  longitude  month  \\\n",
       "33                            2  ...   44.0802   -71.2920  march   \n",
       "39                            1  ...   36.1232  -115.0902  march   \n",
       "53                            5  ...   41.1166   -87.8696  march   \n",
       "74                            5  ...   36.7352   -76.2384  march   \n",
       "250                           2  ...   39.4655   -74.9653  march   \n",
       "\n",
       "     hh_income_code day_of_week time_of_day  zipcode_accepted_prop  \\\n",
       "33                8      Friday          15               0.000000   \n",
       "39                4      Sunday          11               0.107843   \n",
       "53                4     Tuesday           7               0.064220   \n",
       "74                1      Sunday          11               0.070866   \n",
       "250               5    Saturday           8               0.081967   \n",
       "\n",
       "    zipcode_rejected_offers zipcode_accepted_offers zipcode_total_offers  \n",
       "33                      1.0                     0.0                  1.0  \n",
       "39                     91.0                    11.0                102.0  \n",
       "53                    102.0                     7.0                109.0  \n",
       "74                    236.0                    18.0                254.0  \n",
       "250                    56.0                     5.0                 61.0  \n",
       "\n",
       "[5 rows x 46 columns]"
      ]
     },
     "execution_count": 10,
     "metadata": {},
     "output_type": "execute_result"
    }
   ],
   "source": [
    "df_train[(df_train[\"accepted_flg\"] == 1)& (df_train[\"seven_day_churn\"] == 1)].head()"
   ]
  },
  {
   "cell_type": "code",
   "execution_count": 11,
   "id": "e656fcbb",
   "metadata": {},
   "outputs": [
    {
     "data": {
      "text/html": [
       "<div>\n",
       "<style scoped>\n",
       "    .dataframe tbody tr th:only-of-type {\n",
       "        vertical-align: middle;\n",
       "    }\n",
       "\n",
       "    .dataframe tbody tr th {\n",
       "        vertical-align: top;\n",
       "    }\n",
       "\n",
       "    .dataframe thead th {\n",
       "        text-align: right;\n",
       "    }\n",
       "</style>\n",
       "<table border=\"1\" class=\"dataframe\">\n",
       "  <thead>\n",
       "    <tr style=\"text-align: right;\">\n",
       "      <th></th>\n",
       "      <th>id</th>\n",
       "      <th>quality_sale</th>\n",
       "      <th>accepted_flg</th>\n",
       "      <th>seven_day_churn</th>\n",
       "      <th>thirty_day_churn</th>\n",
       "      <th>ninety_day_churn</th>\n",
       "      <th>clndr_dt_cst</th>\n",
       "      <th>start_dt</th>\n",
       "      <th>lines</th>\n",
       "      <th>previous_tech_support_call</th>\n",
       "      <th>...</th>\n",
       "      <th>latitude</th>\n",
       "      <th>longitude</th>\n",
       "      <th>month</th>\n",
       "      <th>hh_income_code</th>\n",
       "      <th>day_of_week</th>\n",
       "      <th>time_of_day</th>\n",
       "      <th>zipcode_accepted_prop</th>\n",
       "      <th>zipcode_rejected_offers</th>\n",
       "      <th>zipcode_accepted_offers</th>\n",
       "      <th>zipcode_total_offers</th>\n",
       "    </tr>\n",
       "  </thead>\n",
       "  <tbody>\n",
       "  </tbody>\n",
       "</table>\n",
       "<p>0 rows × 46 columns</p>\n",
       "</div>"
      ],
      "text/plain": [
       "Empty DataFrame\n",
       "Columns: [id, quality_sale, accepted_flg, seven_day_churn, thirty_day_churn, ninety_day_churn, clndr_dt_cst, start_dt, lines, previous_tech_support_call, account_tenure, past_yr_claim_count, num_decline, exp, product_type, pmake, claritas_hh_count, technodoption_class, hh_income, age_class, hh_education, hh_composition, hh_tenure, urbanicity, median_income, total_population, perc_female, perc_under18, perc_over65, perc_white, perc_black, population_density, zipcode, county, state, state_code, latitude, longitude, month, hh_income_code, day_of_week, time_of_day, zipcode_accepted_prop, zipcode_rejected_offers, zipcode_accepted_offers, zipcode_total_offers]\n",
       "Index: []\n",
       "\n",
       "[0 rows x 46 columns]"
      ]
     },
     "execution_count": 11,
     "metadata": {},
     "output_type": "execute_result"
    }
   ],
   "source": [
    "df_train[(df_train[\"accepted_flg\"] == 0)& (df_train[\"ninety_day_churn\"] == 1)].head()"
   ]
  },
  {
   "cell_type": "markdown",
   "id": "6436499b",
   "metadata": {},
   "source": [
    "### 7-day Churn Data Creation"
   ]
  },
  {
   "cell_type": "code",
   "execution_count": 12,
   "id": "e139ea79",
   "metadata": {},
   "outputs": [],
   "source": [
    "df_7d_train = df_train[(df_train['seven_day_churn'].notnull()) & (df_train[\"accepted_flg\"] == 1)].drop(['accepted_flg','thirty_day_churn', 'ninety_day_churn'], axis = 1).reset_index(drop=True)\n",
    "df_7d_test = df_test[(df_test['seven_day_churn'].notnull()) & (df_test[\"accepted_flg\"] == 1)].drop(['accepted_flg','thirty_day_churn', 'ninety_day_churn'], axis = 1).reset_index(drop=True)"
   ]
  },
  {
   "cell_type": "code",
   "execution_count": 13,
   "id": "ed788d8a",
   "metadata": {},
   "outputs": [],
   "source": [
    "df_7d_train.to_csv(\"7_day_churn_data/train_7d_encoded.csv\", index = False)\n",
    "df_7d_test.to_csv(\"7_day_churn_data/test_7d_encoded.csv\", index = False)"
   ]
  },
  {
   "cell_type": "markdown",
   "id": "e43fa84e",
   "metadata": {},
   "source": [
    "### 30-day Churn Data Creation"
   ]
  },
  {
   "cell_type": "code",
   "execution_count": 14,
   "id": "5dc6c211",
   "metadata": {},
   "outputs": [],
   "source": [
    "df_30d_train = df_train[(df_train['seven_day_churn'].notnull()) & (df_train[\"accepted_flg\"] == 1)].drop(['accepted_flg','seven_day_churn', 'ninety_day_churn'], axis = 1).reset_index(drop=True)\n",
    "df_30d_test = df_test[(df_test['seven_day_churn'].notnull()) & (df_test[\"accepted_flg\"] == 1)].drop(['accepted_flg','seven_day_churn', 'ninety_day_churn'], axis = 1).reset_index(drop=True)"
   ]
  },
  {
   "cell_type": "code",
   "execution_count": 15,
   "id": "4aebde96",
   "metadata": {},
   "outputs": [],
   "source": [
    "df_30d_train.to_csv(\"30_day_churn_data/train_30d_encoded.csv\", index = False)\n",
    "df_30d_test.to_csv(\"30_day_churn_data/test_30d_encoded.csv\", index = False)"
   ]
  },
  {
   "cell_type": "markdown",
   "id": "1fb5c656",
   "metadata": {},
   "source": [
    "### 90-day Churn Data Creation"
   ]
  },
  {
   "cell_type": "code",
   "execution_count": 16,
   "id": "e035f48a",
   "metadata": {},
   "outputs": [],
   "source": [
    "df_90d_train = df_train[(df_train['seven_day_churn'].notnull()) & (df_train[\"accepted_flg\"] == 1)].drop(['accepted_flg','thirty_day_churn', 'seven_day_churn'], axis = 1).reset_index(drop=True)\n",
    "df_90d_test = df_test[(df_test['seven_day_churn'].notnull()) & (df_test[\"accepted_flg\"] == 1)].drop(['accepted_flg','thirty_day_churn', 'seven_day_churn'], axis = 1).reset_index(drop=True)"
   ]
  },
  {
   "cell_type": "code",
   "execution_count": 17,
   "id": "f0037900",
   "metadata": {},
   "outputs": [],
   "source": [
    "df_90d_train.to_csv(\"90_day_churn_data/train_90d_encoded.csv\", index = False)\n",
    "df_90d_test.to_csv(\"90_day_churn_data/test_90d_encoded.csv\", index = False)"
   ]
  },
  {
   "cell_type": "code",
   "execution_count": 18,
   "id": "6c01dca4",
   "metadata": {},
   "outputs": [
    {
     "data": {
      "text/html": [
       "<div>\n",
       "<style scoped>\n",
       "    .dataframe tbody tr th:only-of-type {\n",
       "        vertical-align: middle;\n",
       "    }\n",
       "\n",
       "    .dataframe tbody tr th {\n",
       "        vertical-align: top;\n",
       "    }\n",
       "\n",
       "    .dataframe thead th {\n",
       "        text-align: right;\n",
       "    }\n",
       "</style>\n",
       "<table border=\"1\" class=\"dataframe\">\n",
       "  <thead>\n",
       "    <tr style=\"text-align: right;\">\n",
       "      <th></th>\n",
       "      <th>id</th>\n",
       "      <th>quality_sale</th>\n",
       "      <th>ninety_day_churn</th>\n",
       "      <th>clndr_dt_cst</th>\n",
       "      <th>start_dt</th>\n",
       "      <th>lines</th>\n",
       "      <th>previous_tech_support_call</th>\n",
       "      <th>account_tenure</th>\n",
       "      <th>past_yr_claim_count</th>\n",
       "      <th>num_decline</th>\n",
       "      <th>...</th>\n",
       "      <th>latitude</th>\n",
       "      <th>longitude</th>\n",
       "      <th>month</th>\n",
       "      <th>hh_income_code</th>\n",
       "      <th>day_of_week</th>\n",
       "      <th>time_of_day</th>\n",
       "      <th>zipcode_accepted_prop</th>\n",
       "      <th>zipcode_rejected_offers</th>\n",
       "      <th>zipcode_accepted_offers</th>\n",
       "      <th>zipcode_total_offers</th>\n",
       "    </tr>\n",
       "  </thead>\n",
       "  <tbody>\n",
       "    <tr>\n",
       "      <th>0</th>\n",
       "      <td>68943556bf63277816d843ffb129e23ffe60bc5b982603...</td>\n",
       "      <td>1</td>\n",
       "      <td>0.0</td>\n",
       "      <td>2022-03-01 00:00:00.000</td>\n",
       "      <td>2022-03-01 12:22:15.780</td>\n",
       "      <td>2</td>\n",
       "      <td>4</td>\n",
       "      <td>689</td>\n",
       "      <td>1</td>\n",
       "      <td>8</td>\n",
       "      <td>...</td>\n",
       "      <td>30.3125</td>\n",
       "      <td>-95.4527</td>\n",
       "      <td>march</td>\n",
       "      <td>4</td>\n",
       "      <td>Tuesday</td>\n",
       "      <td>12</td>\n",
       "      <td>0.185714</td>\n",
       "      <td>57.0</td>\n",
       "      <td>13.0</td>\n",
       "      <td>70.0</td>\n",
       "    </tr>\n",
       "    <tr>\n",
       "      <th>1</th>\n",
       "      <td>6c09cf1d3246c800ba864c7eaced4b1e7a38b09f90ebc3...</td>\n",
       "      <td>1</td>\n",
       "      <td>0.0</td>\n",
       "      <td>2022-03-17 00:00:00.000</td>\n",
       "      <td>2022-03-17 15:29:30.018</td>\n",
       "      <td>2</td>\n",
       "      <td>1</td>\n",
       "      <td>72</td>\n",
       "      <td>0</td>\n",
       "      <td>0</td>\n",
       "      <td>...</td>\n",
       "      <td>33.4936</td>\n",
       "      <td>-111.9167</td>\n",
       "      <td>march</td>\n",
       "      <td>4</td>\n",
       "      <td>Thursday</td>\n",
       "      <td>15</td>\n",
       "      <td>0.087591</td>\n",
       "      <td>125.0</td>\n",
       "      <td>12.0</td>\n",
       "      <td>137.0</td>\n",
       "    </tr>\n",
       "    <tr>\n",
       "      <th>2</th>\n",
       "      <td>5221cde1976fcd8a4d0d6fb059e04ed6d9b6450b68020d...</td>\n",
       "      <td>1</td>\n",
       "      <td>0.0</td>\n",
       "      <td>2022-03-07 00:00:00.000</td>\n",
       "      <td>2022-03-07 09:11:47.002</td>\n",
       "      <td>2</td>\n",
       "      <td>1</td>\n",
       "      <td>237</td>\n",
       "      <td>0</td>\n",
       "      <td>0</td>\n",
       "      <td>...</td>\n",
       "      <td>40.7647</td>\n",
       "      <td>-74.1471</td>\n",
       "      <td>march</td>\n",
       "      <td>2</td>\n",
       "      <td>Monday</td>\n",
       "      <td>9</td>\n",
       "      <td>0.126214</td>\n",
       "      <td>90.0</td>\n",
       "      <td>13.0</td>\n",
       "      <td>103.0</td>\n",
       "    </tr>\n",
       "    <tr>\n",
       "      <th>3</th>\n",
       "      <td>a68e921aeb079a7c79de714f566802dedde074721d40a4...</td>\n",
       "      <td>0</td>\n",
       "      <td>1.0</td>\n",
       "      <td>2022-03-04 00:00:00.000</td>\n",
       "      <td>2022-03-04 15:00:09.566</td>\n",
       "      <td>2</td>\n",
       "      <td>2</td>\n",
       "      <td>3062</td>\n",
       "      <td>2</td>\n",
       "      <td>0</td>\n",
       "      <td>...</td>\n",
       "      <td>44.0802</td>\n",
       "      <td>-71.2920</td>\n",
       "      <td>march</td>\n",
       "      <td>8</td>\n",
       "      <td>Friday</td>\n",
       "      <td>15</td>\n",
       "      <td>0.000000</td>\n",
       "      <td>1.0</td>\n",
       "      <td>0.0</td>\n",
       "      <td>1.0</td>\n",
       "    </tr>\n",
       "    <tr>\n",
       "      <th>4</th>\n",
       "      <td>b9b75e5295e70045ba4f1c4d0b5de77b6e03df31f200bc...</td>\n",
       "      <td>1</td>\n",
       "      <td>0.0</td>\n",
       "      <td>2022-03-04 00:00:00.000</td>\n",
       "      <td>2022-03-04 11:56:31.079</td>\n",
       "      <td>1</td>\n",
       "      <td>2</td>\n",
       "      <td>2585</td>\n",
       "      <td>0</td>\n",
       "      <td>1</td>\n",
       "      <td>...</td>\n",
       "      <td>33.4361</td>\n",
       "      <td>-117.6231</td>\n",
       "      <td>march</td>\n",
       "      <td>3</td>\n",
       "      <td>Friday</td>\n",
       "      <td>11</td>\n",
       "      <td>0.078571</td>\n",
       "      <td>129.0</td>\n",
       "      <td>11.0</td>\n",
       "      <td>140.0</td>\n",
       "    </tr>\n",
       "  </tbody>\n",
       "</table>\n",
       "<p>5 rows × 43 columns</p>\n",
       "</div>"
      ],
      "text/plain": [
       "                                                  id  quality_sale  \\\n",
       "0  68943556bf63277816d843ffb129e23ffe60bc5b982603...             1   \n",
       "1  6c09cf1d3246c800ba864c7eaced4b1e7a38b09f90ebc3...             1   \n",
       "2  5221cde1976fcd8a4d0d6fb059e04ed6d9b6450b68020d...             1   \n",
       "3  a68e921aeb079a7c79de714f566802dedde074721d40a4...             0   \n",
       "4  b9b75e5295e70045ba4f1c4d0b5de77b6e03df31f200bc...             1   \n",
       "\n",
       "   ninety_day_churn             clndr_dt_cst                 start_dt  lines  \\\n",
       "0               0.0  2022-03-01 00:00:00.000  2022-03-01 12:22:15.780      2   \n",
       "1               0.0  2022-03-17 00:00:00.000  2022-03-17 15:29:30.018      2   \n",
       "2               0.0  2022-03-07 00:00:00.000  2022-03-07 09:11:47.002      2   \n",
       "3               1.0  2022-03-04 00:00:00.000  2022-03-04 15:00:09.566      2   \n",
       "4               0.0  2022-03-04 00:00:00.000  2022-03-04 11:56:31.079      1   \n",
       "\n",
       "   previous_tech_support_call  account_tenure  past_yr_claim_count  \\\n",
       "0                           4             689                    1   \n",
       "1                           1              72                    0   \n",
       "2                           1             237                    0   \n",
       "3                           2            3062                    2   \n",
       "4                           2            2585                    0   \n",
       "\n",
       "   num_decline  ...  latitude longitude  month  hh_income_code day_of_week  \\\n",
       "0            8  ...   30.3125  -95.4527  march               4     Tuesday   \n",
       "1            0  ...   33.4936 -111.9167  march               4    Thursday   \n",
       "2            0  ...   40.7647  -74.1471  march               2      Monday   \n",
       "3            0  ...   44.0802  -71.2920  march               8      Friday   \n",
       "4            1  ...   33.4361 -117.6231  march               3      Friday   \n",
       "\n",
       "  time_of_day zipcode_accepted_prop zipcode_rejected_offers  \\\n",
       "0          12              0.185714                    57.0   \n",
       "1          15              0.087591                   125.0   \n",
       "2           9              0.126214                    90.0   \n",
       "3          15              0.000000                     1.0   \n",
       "4          11              0.078571                   129.0   \n",
       "\n",
       "  zipcode_accepted_offers zipcode_total_offers  \n",
       "0                    13.0                 70.0  \n",
       "1                    12.0                137.0  \n",
       "2                    13.0                103.0  \n",
       "3                     0.0                  1.0  \n",
       "4                    11.0                140.0  \n",
       "\n",
       "[5 rows x 43 columns]"
      ]
     },
     "execution_count": 18,
     "metadata": {},
     "output_type": "execute_result"
    }
   ],
   "source": [
    "df_90d_train.head()"
   ]
  },
  {
   "cell_type": "markdown",
   "id": "fdda8a6b",
   "metadata": {},
   "source": [
    "#### Fill NA values"
   ]
  },
  {
   "cell_type": "code",
   "execution_count": 19,
   "id": "f55cd4cb",
   "metadata": {},
   "outputs": [],
   "source": [
    "df_30d_train[\"thirty_day_churn\"] = df_30d_train[\"thirty_day_churn\"].fillna(1)\n",
    "df_30d_test[\"thirty_day_churn\"] = df_30d_train[\"thirty_day_churn\"].fillna(1)\n",
    "df_90d_train[\"ninety_day_churn\"] = df_90d_train[\"ninety_day_churn\"].fillna(1) \n",
    "df_90d_test[\"ninety_day_churn\"] = df_90d_test[\"ninety_day_churn\"].fillna(1)"
   ]
  },
  {
   "cell_type": "markdown",
   "id": "05896895",
   "metadata": {},
   "source": [
    "#### Functional Check"
   ]
  },
  {
   "cell_type": "code",
   "execution_count": 27,
   "id": "552e53c6",
   "metadata": {},
   "outputs": [],
   "source": [
    "def data_info(df, col):\n",
    "    print(\"churn -0: %d\"%len(df[(df[col] == 0)]))\n",
    "    print(\"churn -1: %d\"%len(df[(df[col] == 1)]))\n",
    "    print(\"Total: %d\"%len(df))\n",
    "    #print(\"quality-1 churn -0: %d\"%len(df[(df[col] == 0)]))\n",
    "    #print(\"quality-1 churn -1: %d\"%len(df[(df[col] == 1)]))"
   ]
  },
  {
   "cell_type": "code",
   "execution_count": 28,
   "id": "fadf9d8f",
   "metadata": {},
   "outputs": [
    {
     "name": "stdout",
     "output_type": "stream",
     "text": [
      "churn -0: 80556\n",
      "churn -1: 5151\n",
      "Total: 85707\n"
     ]
    }
   ],
   "source": [
    "data_info(df_7d_train, \"seven_day_churn\")"
   ]
  },
  {
   "cell_type": "code",
   "execution_count": 29,
   "id": "218c0bbf",
   "metadata": {},
   "outputs": [
    {
     "name": "stdout",
     "output_type": "stream",
     "text": [
      "churn -0: 18350\n",
      "churn -1: 1368\n",
      "Total: 19718\n"
     ]
    }
   ],
   "source": [
    "data_info(df_7d_test, \"seven_day_churn\")"
   ]
  },
  {
   "cell_type": "code",
   "execution_count": 30,
   "id": "f9a9938e",
   "metadata": {},
   "outputs": [
    {
     "name": "stdout",
     "output_type": "stream",
     "text": [
      "churn -0: 72272\n",
      "churn -1: 13435\n",
      "Total: 85707\n"
     ]
    }
   ],
   "source": [
    "data_info(df_30d_train, \"thirty_day_churn\")"
   ]
  },
  {
   "cell_type": "code",
   "execution_count": 31,
   "id": "e14a9dd9",
   "metadata": {},
   "outputs": [
    {
     "name": "stdout",
     "output_type": "stream",
     "text": [
      "churn -0: 16403\n",
      "churn -1: 3315\n",
      "Total: 19718\n"
     ]
    }
   ],
   "source": [
    "data_info(df_30d_test, \"thirty_day_churn\")"
   ]
  },
  {
   "cell_type": "code",
   "execution_count": 32,
   "id": "3646b30c",
   "metadata": {},
   "outputs": [
    {
     "name": "stdout",
     "output_type": "stream",
     "text": [
      "churn -0: 60530\n",
      "churn -1: 25177\n",
      "Total: 85707\n"
     ]
    }
   ],
   "source": [
    "data_info(df_90d_train, \"ninety_day_churn\")"
   ]
  },
  {
   "cell_type": "code",
   "execution_count": 33,
   "id": "ce642503",
   "metadata": {},
   "outputs": [
    {
     "name": "stdout",
     "output_type": "stream",
     "text": [
      "churn -0: 14384\n",
      "churn -1: 5334\n",
      "Total: 19718\n"
     ]
    }
   ],
   "source": [
    "data_info(df_90d_test, \"ninety_day_churn\")"
   ]
  }
 ],
 "metadata": {
  "kernelspec": {
   "display_name": "Python 3 (ipykernel)",
   "language": "python",
   "name": "python3"
  },
  "language_info": {
   "codemirror_mode": {
    "name": "ipython",
    "version": 3
   },
   "file_extension": ".py",
   "mimetype": "text/x-python",
   "name": "python",
   "nbconvert_exporter": "python",
   "pygments_lexer": "ipython3",
   "version": "3.8.13"
  }
 },
 "nbformat": 4,
 "nbformat_minor": 5
}
