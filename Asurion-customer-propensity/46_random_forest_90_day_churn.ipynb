{
 "cells": [
  {
   "cell_type": "code",
   "execution_count": 1,
   "id": "7518d1cd",
   "metadata": {},
   "outputs": [
    {
     "name": "stdout",
     "output_type": "stream",
     "text": [
      "30_day_churn.ipynb       feature_importances_ninety_day_churn_rf.csv\n",
      "\u001b[0m\u001b[01;34m30_day_churn_data\u001b[0m/       feature_importances_thirty_day_churn_rf.csv\n",
      "\u001b[01;34m7_day_churn_data\u001b[0m/        random_forest_classifier_final.pkl\n",
      "90_day_churn.ipynb       rf_ninety_day_churn.pkl\n",
      "\u001b[01;34m90_day_churn_data\u001b[0m/       rf_thirty_day_churn.pkl\n",
      "Untitled.ipynb           \u001b[01;34msale_data\u001b[0m/\n",
      "Untitled1.ipynb          \u001b[01;34mtotal_data\u001b[0m/\n",
      "feature_importances.csv  \u001b[01;34mtranscript_data_use\u001b[0m/\n"
     ]
    }
   ],
   "source": [
    "%ls"
   ]
  },
  {
   "cell_type": "code",
   "execution_count": 2,
   "id": "aee36f93",
   "metadata": {},
   "outputs": [
    {
     "data": {
      "text/plain": [
       "'/workspace/asurion_f22_wut/fe_data_v2'"
      ]
     },
     "execution_count": 2,
     "metadata": {},
     "output_type": "execute_result"
    }
   ],
   "source": [
    "%pwd"
   ]
  },
  {
   "cell_type": "code",
   "execution_count": 3,
   "id": "d5fcf6bf",
   "metadata": {},
   "outputs": [
    {
     "name": "stdout",
     "output_type": "stream",
     "text": [
      "/workspace/asurion_f22_wut\n"
     ]
    }
   ],
   "source": [
    "%cd .."
   ]
  },
  {
   "cell_type": "code",
   "execution_count": 4,
   "id": "8160f335",
   "metadata": {},
   "outputs": [
    {
     "name": "stdout",
     "output_type": "stream",
     "text": [
      "/workspace/asurion_f22_wut/fe_data_v3/90_day_churn_data\n"
     ]
    }
   ],
   "source": [
    "%cd fe_data_v3/90_day_churn_data"
   ]
  },
  {
   "cell_type": "code",
   "execution_count": 5,
   "id": "2d78e32c",
   "metadata": {},
   "outputs": [
    {
     "name": "stdout",
     "output_type": "stream",
     "text": [
      "test_90d_encoded.csv  train_90d_encoded.csv\n"
     ]
    }
   ],
   "source": [
    "%ls"
   ]
  },
  {
   "cell_type": "code",
   "execution_count": null,
   "id": "fa6b2218",
   "metadata": {},
   "outputs": [],
   "source": []
  },
  {
   "cell_type": "code",
   "execution_count": 6,
   "id": "d66c0057",
   "metadata": {},
   "outputs": [],
   "source": [
    "import pandas as pd\n",
    "import numpy as np\n",
    "# import seaborn\n",
    "import matplotlib.pyplot as plt\n",
    "%matplotlib inline\n",
    "\n",
    "import pickle\n",
    "import joblib\n",
    "import time\n",
    "\n",
    "import xgboost as xgb\n",
    "from sklearn.model_selection import train_test_split, GridSearchCV\n",
    "from sklearn.ensemble import RandomForestClassifier\n",
    "from sklearn import config_context\n",
    "from sklearn.metrics import classification_report, confusion_matrix, ConfusionMatrixDisplay\n",
    "from sklearn.metrics import accuracy_score, mean_squared_error\n",
    "from sklearn.preprocessing import MinMaxScaler\n",
    "from sklearn.pipeline import Pipeline\n",
    "from sklearn.compose import ColumnTransformer\n",
    "from sklearn.preprocessing import OneHotEncoder\n",
    "from sklearn.model_selection import train_test_split \n",
    "from sklearn.model_selection import cross_val_predict \n",
    "from sklearn.model_selection import cross_val_score \n",
    "from sklearn.feature_selection import RFECV\n",
    "from sklearn.metrics import precision_score, f1_score, recall_score, confusion_matrix, accuracy_score, roc_auc_score\n",
    "\n",
    "pd.set_option('display.max_columns', None)\n",
    "pd.set_option('display.max_rows', 500)\n",
    "pd.set_option('display.float_format', '{:.2f}'.format)\n",
    "\n",
    "import warnings\n",
    "warnings.filterwarnings('ignore')"
   ]
  },
  {
   "cell_type": "code",
   "execution_count": 7,
   "id": "1745407d",
   "metadata": {},
   "outputs": [],
   "source": [
    "train_df = pd.read_csv('train_90d_encoded.csv', index_col='id')"
   ]
  },
  {
   "cell_type": "code",
   "execution_count": 8,
   "id": "adf43524",
   "metadata": {},
   "outputs": [],
   "source": [
    "test_df = pd.read_csv('test_90d_encoded.csv', index_col='id')"
   ]
  },
  {
   "cell_type": "code",
   "execution_count": 9,
   "id": "4c6a086d",
   "metadata": {},
   "outputs": [],
   "source": [
    "cols = ['quality_sale', 'clndr_dt_cst', 'start_dt', 'zipcode', 'county', 'state', \n",
    "         'state_code', 'latitude', 'longitude', 'hh_income_code', 'month']"
   ]
  },
  {
   "cell_type": "code",
   "execution_count": 10,
   "id": "bb20937c",
   "metadata": {},
   "outputs": [],
   "source": [
    "test_df.drop(columns = cols, inplace = True)\n",
    "test_df = test_df[(test_df['zipcode_accepted_prop'].isnull()==False)& (test_df['zipcode_rejected_offers'].isnull()==False)& \n",
    "            (test_df['zipcode_accepted_offers'].isnull()==False)&(test_df['zipcode_total_offers'].isnull()==False)]"
   ]
  },
  {
   "cell_type": "code",
   "execution_count": 11,
   "id": "0d2b74ef",
   "metadata": {},
   "outputs": [
    {
     "name": "stdout",
     "output_type": "stream",
     "text": [
      "<class 'pandas.core.frame.DataFrame'>\n",
      "Index: 18316 entries, 317874eac956ff7012276c7afd08c2730a125245715fd635a866b148 to bed85bfdbd02f078a984e37353307414d42baf40eb7a1b34569c1bd6\n",
      "Data columns (total 31 columns):\n",
      " #   Column                      Non-Null Count  Dtype  \n",
      "---  ------                      --------------  -----  \n",
      " 0   ninety_day_churn            18316 non-null  float64\n",
      " 1   lines                       18316 non-null  int64  \n",
      " 2   previous_tech_support_call  18316 non-null  int64  \n",
      " 3   account_tenure              18316 non-null  int64  \n",
      " 4   past_yr_claim_count         18316 non-null  int64  \n",
      " 5   num_decline                 18316 non-null  int64  \n",
      " 6   exp                         18316 non-null  int64  \n",
      " 7   product_type                18316 non-null  object \n",
      " 8   pmake                       18316 non-null  object \n",
      " 9   claritas_hh_count           18316 non-null  int64  \n",
      " 10  technodoption_class         18316 non-null  object \n",
      " 11  hh_income                   18316 non-null  object \n",
      " 12  age_class                   18316 non-null  object \n",
      " 13  hh_education                18316 non-null  object \n",
      " 14  hh_composition              18316 non-null  object \n",
      " 15  hh_tenure                   18316 non-null  object \n",
      " 16  urbanicity                  18316 non-null  object \n",
      " 17  median_income               18316 non-null  int64  \n",
      " 18  total_population            18316 non-null  int64  \n",
      " 19  perc_female                 18316 non-null  int64  \n",
      " 20  perc_under18                18316 non-null  int64  \n",
      " 21  perc_over65                 18316 non-null  int64  \n",
      " 22  perc_white                  18316 non-null  int64  \n",
      " 23  perc_black                  18316 non-null  int64  \n",
      " 24  population_density          18316 non-null  int64  \n",
      " 25  day_of_week                 18316 non-null  object \n",
      " 26  time_of_day                 18316 non-null  int64  \n",
      " 27  zipcode_accepted_prop       18316 non-null  float64\n",
      " 28  zipcode_rejected_offers     18316 non-null  float64\n",
      " 29  zipcode_accepted_offers     18316 non-null  float64\n",
      " 30  zipcode_total_offers        18316 non-null  float64\n",
      "dtypes: float64(5), int64(16), object(10)\n",
      "memory usage: 4.5+ MB\n"
     ]
    }
   ],
   "source": [
    "test_df.info()"
   ]
  },
  {
   "cell_type": "code",
   "execution_count": 12,
   "id": "4a1b449a",
   "metadata": {},
   "outputs": [
    {
     "data": {
      "text/plain": [
       "(array([0., 1.]), array([13427,  4889]))"
      ]
     },
     "execution_count": 12,
     "metadata": {},
     "output_type": "execute_result"
    }
   ],
   "source": [
    "np.unique(test_df['ninety_day_churn'], return_counts = True)"
   ]
  },
  {
   "cell_type": "code",
   "execution_count": 13,
   "id": "550be156",
   "metadata": {},
   "outputs": [],
   "source": [
    "train_df.drop(columns = cols, inplace = True)\n",
    "train_df = train_df[(train_df['zipcode_accepted_prop'].isnull()==False)& (train_df['zipcode_rejected_offers'].isnull()==False)& \n",
    "            (train_df['zipcode_accepted_offers'].isnull()==False)&(train_df['zipcode_total_offers'].isnull()==False)]"
   ]
  },
  {
   "cell_type": "code",
   "execution_count": 14,
   "id": "885f2558",
   "metadata": {},
   "outputs": [
    {
     "name": "stdout",
     "output_type": "stream",
     "text": [
      "<class 'pandas.core.frame.DataFrame'>\n",
      "Index: 84339 entries, 68943556bf63277816d843ffb129e23ffe60bc5b982603ec9519659a to 4644f9d78e15ade04ac732eedd8944c2e918e81b288f0cadd481abbd\n",
      "Data columns (total 31 columns):\n",
      " #   Column                      Non-Null Count  Dtype  \n",
      "---  ------                      --------------  -----  \n",
      " 0   ninety_day_churn            84339 non-null  float64\n",
      " 1   lines                       84339 non-null  int64  \n",
      " 2   previous_tech_support_call  84339 non-null  int64  \n",
      " 3   account_tenure              84339 non-null  int64  \n",
      " 4   past_yr_claim_count         84339 non-null  int64  \n",
      " 5   num_decline                 84339 non-null  int64  \n",
      " 6   exp                         84339 non-null  int64  \n",
      " 7   product_type                84339 non-null  object \n",
      " 8   pmake                       84339 non-null  object \n",
      " 9   claritas_hh_count           84339 non-null  int64  \n",
      " 10  technodoption_class         84339 non-null  object \n",
      " 11  hh_income                   84339 non-null  object \n",
      " 12  age_class                   84339 non-null  object \n",
      " 13  hh_education                84339 non-null  object \n",
      " 14  hh_composition              84339 non-null  object \n",
      " 15  hh_tenure                   84339 non-null  object \n",
      " 16  urbanicity                  84339 non-null  object \n",
      " 17  median_income               84339 non-null  int64  \n",
      " 18  total_population            84339 non-null  int64  \n",
      " 19  perc_female                 84339 non-null  int64  \n",
      " 20  perc_under18                84339 non-null  int64  \n",
      " 21  perc_over65                 84339 non-null  int64  \n",
      " 22  perc_white                  84339 non-null  int64  \n",
      " 23  perc_black                  84339 non-null  int64  \n",
      " 24  population_density          84339 non-null  int64  \n",
      " 25  day_of_week                 84339 non-null  object \n",
      " 26  time_of_day                 84339 non-null  int64  \n",
      " 27  zipcode_accepted_prop       84339 non-null  float64\n",
      " 28  zipcode_rejected_offers     84339 non-null  float64\n",
      " 29  zipcode_accepted_offers     84339 non-null  float64\n",
      " 30  zipcode_total_offers        84339 non-null  float64\n",
      "dtypes: float64(5), int64(16), object(10)\n",
      "memory usage: 20.6+ MB\n"
     ]
    }
   ],
   "source": [
    "train_df.info()"
   ]
  },
  {
   "cell_type": "code",
   "execution_count": 15,
   "id": "5bc0ae2f",
   "metadata": {},
   "outputs": [
    {
     "data": {
      "text/plain": [
       "(array([0., 1.]), array([59473, 24866]))"
      ]
     },
     "execution_count": 15,
     "metadata": {},
     "output_type": "execute_result"
    }
   ],
   "source": [
    "np.unique(train_df['ninety_day_churn'], return_counts = True)"
   ]
  },
  {
   "cell_type": "code",
   "execution_count": 16,
   "id": "38d9a3d5",
   "metadata": {},
   "outputs": [
    {
     "data": {
      "text/plain": [
       "30"
      ]
     },
     "execution_count": 16,
     "metadata": {},
     "output_type": "execute_result"
    }
   ],
   "source": [
    "num_list = ['lines', 'previous_tech_support_call', 'account_tenure', 'past_yr_claim_count', 'num_decline', \n",
    "            'claritas_hh_count', 'median_income', 'total_population', 'perc_female', 'perc_under18',\n",
    "            'perc_over65', 'perc_white', 'perc_black', 'population_density',\n",
    "            'zipcode_accepted_prop', 'zipcode_rejected_offers', 'zipcode_accepted_offers', 'zipcode_total_offers']\n",
    "cat_list = ['exp', 'product_type', 'pmake', 'technodoption_class', 'hh_income', 'age_class', 'hh_education', \n",
    "            'hh_composition', 'hh_tenure', 'urbanicity', 'day_of_week', 'time_of_day']\n",
    "len(num_list+cat_list)"
   ]
  },
  {
   "cell_type": "code",
   "execution_count": 17,
   "id": "7d16545c",
   "metadata": {},
   "outputs": [],
   "source": [
    "class_column = 'ninety_day_churn'\n",
    "random_seed = 20\n",
    "data = train_df.copy()\n",
    "X_train, X_test, y_train, y_test = train_test_split(data.drop(columns=class_column), data[class_column],\n",
    "                                                   test_size=0.25, random_state=random_seed,stratify=data[class_column]\n",
    "                                                   )"
   ]
  },
  {
   "cell_type": "code",
   "execution_count": 18,
   "id": "1b85bc8e",
   "metadata": {},
   "outputs": [],
   "source": [
    "onehot = OneHotEncoder(handle_unknown='ignore')\n",
    "minmax = MinMaxScaler()\n",
    "ct = ColumnTransformer([(\"onehot\", onehot, cat_list),(\"minmax\", minmax, num_list)])\n",
    "pipeline = Pipeline([(\"col\", ct), (\"mdl\", RandomForestClassifier(class_weight='balanced'))])"
   ]
  },
  {
   "cell_type": "code",
   "execution_count": 19,
   "id": "ee071a1d",
   "metadata": {},
   "outputs": [
    {
     "name": "stdout",
     "output_type": "stream",
     "text": [
      "Fitting 5 folds for each of 256 candidates, totalling 1280 fits\n",
      "best score for grid search: 0.49868470943988746\n"
     ]
    },
    {
     "data": {
      "text/plain": [
       "{'mdl__max_depth': 2,\n",
       " 'mdl__min_samples_leaf': 7,\n",
       " 'mdl__min_samples_split': 16,\n",
       " 'mdl__n_estimators': 10}"
      ]
     },
     "metadata": {},
     "output_type": "display_data"
    },
    {
     "name": "stdout",
     "output_type": "stream",
     "text": [
      "Timer: 140.27187705039978 seconds\n"
     ]
    }
   ],
   "source": [
    "tuning_grid = {'mdl__n_estimators' : [10,20,30,40],\n",
    "               'mdl__max_depth' : [2,3,4,5],\n",
    "               'mdl__min_samples_split': [5,8,11,16],\n",
    "               'mdl__min_samples_leaf': [1,3,5,7]\n",
    "               \n",
    "                }\n",
    "grid_search = GridSearchCV(pipeline, param_grid = tuning_grid, cv = 5, return_train_score=True,  verbose = 1, \n",
    "                      n_jobs = -1, scoring = 'recall')\n",
    "start=time.time()\n",
    "grid_search.fit(X_train, y_train)\n",
    "print('best score for grid search:', grid_search.best_score_)\n",
    "\n",
    "display(grid_search.best_params_)\n",
    "print('Timer:', time.time()-start, 'seconds')\n",
    "random_forest_classifier = grid_search.best_estimator_"
   ]
  },
  {
   "cell_type": "code",
   "execution_count": 20,
   "id": "54d66ae4",
   "metadata": {},
   "outputs": [],
   "source": [
    "preds = random_forest_classifier.predict_proba(X_test)"
   ]
  },
  {
   "cell_type": "code",
   "execution_count": 21,
   "id": "ebb6db28",
   "metadata": {},
   "outputs": [
    {
     "name": "stdout",
     "output_type": "stream",
     "text": [
      "[[0.49449887 0.50550113]\n",
      " [0.53009181 0.46990819]\n",
      " [0.40000928 0.59999072]\n",
      " ...\n",
      " [0.49354959 0.50645041]\n",
      " [0.5060834  0.4939166 ]\n",
      " [0.4101842  0.5898158 ]]\n"
     ]
    }
   ],
   "source": [
    "print(preds)"
   ]
  },
  {
   "cell_type": "code",
   "execution_count": 22,
   "id": "0431e02e",
   "metadata": {},
   "outputs": [
    {
     "name": "stdout",
     "output_type": "stream",
     "text": [
      "random_forest \n",
      " recall: 0.41724304326845746 \n",
      " precision: 0.407989933941491 \n",
      " f1score: 0.41256461232604374 \n",
      " tn:11104, fp:3764, fn:3623, tp:2594 \n",
      "\n"
     ]
    }
   ],
   "source": [
    "threshold=0.5\n",
    "predictions = (preds[:,1] >= threshold).astype('int')\n",
    "#print(np.unique(predictions, return_counts = True))\n",
    "#print(np.unique(y_pred, return_counts = True))\n",
    "#print(y_test)\n",
    "tn, fp, fn, tp = confusion_matrix(y_test, predictions).ravel()\n",
    "print(\"random_forest\",'\\n',\n",
    "      \"recall:\",recall_score(y_test, predictions),'\\n',\n",
    "      \"precision:\",precision_score(y_test, predictions),'\\n',\n",
    "      \"f1score:\",f1_score(y_test, predictions),'\\n',\n",
    "      'tn:{}, fp:{}, fn:{}, tp:{}'.format(tn, fp, fn, tp),'\\n')"
   ]
  },
  {
   "cell_type": "code",
   "execution_count": 23,
   "id": "fb391686",
   "metadata": {},
   "outputs": [
    {
     "data": {
      "text/plain": [
       "['rf_ninety_day_churn.pkl']"
      ]
     },
     "execution_count": 23,
     "metadata": {},
     "output_type": "execute_result"
    }
   ],
   "source": [
    "joblib.dump(random_forest_classifier, 'rf_ninety_day_churn.pkl')"
   ]
  },
  {
   "cell_type": "code",
   "execution_count": 24,
   "id": "42e8451c",
   "metadata": {},
   "outputs": [],
   "source": [
    "x = test_df.drop(columns=class_column)\n",
    "y = test_df[class_column]"
   ]
  },
  {
   "cell_type": "code",
   "execution_count": 25,
   "id": "eff543e6",
   "metadata": {},
   "outputs": [],
   "source": [
    "rf_model = joblib.load('rf_ninety_day_churn.pkl')"
   ]
  },
  {
   "cell_type": "code",
   "execution_count": 26,
   "id": "3646b3ae",
   "metadata": {},
   "outputs": [
    {
     "data": {
      "text/plain": [
       "{'x0': 'exp',\n",
       " 'x1': 'product_type',\n",
       " 'x2': 'pmake',\n",
       " 'x3': 'technodoption_class',\n",
       " 'x4': 'hh_income',\n",
       " 'x5': 'age_class',\n",
       " 'x6': 'hh_education',\n",
       " 'x7': 'hh_composition',\n",
       " 'x8': 'hh_tenure',\n",
       " 'x9': 'urbanicity',\n",
       " 'x10': 'day_of_week',\n",
       " 'x11': 'time_of_day'}"
      ]
     },
     "execution_count": 26,
     "metadata": {},
     "output_type": "execute_result"
    }
   ],
   "source": [
    "d = dict(zip([\"x\"+str(i) for i in range(len(cat_list))], cat_list))\n",
    "d"
   ]
  },
  {
   "cell_type": "code",
   "execution_count": 27,
   "id": "4bc9deb1",
   "metadata": {},
   "outputs": [],
   "source": [
    "preds = rf_model.predict_proba(x)"
   ]
  },
  {
   "cell_type": "code",
   "execution_count": 28,
   "id": "c67f5f03",
   "metadata": {},
   "outputs": [
    {
     "name": "stdout",
     "output_type": "stream",
     "text": [
      "random_forest_test_july \n",
      " recall: 0.35078748210267946 \n",
      " precision: 0.32425789374172814 \n",
      " f1score: 0.33700137551581844 \n",
      " tn:9853, fp:3574, fn:3174, tp:1715 \n",
      "\n"
     ]
    }
   ],
   "source": [
    "threshold=0.5\n",
    "predictions = (preds[:,1] >= threshold).astype('int')\n",
    "tn, fp, fn, tp = confusion_matrix(y, predictions).ravel()\n",
    "print(\"random_forest_test_july\",'\\n',\n",
    "      \"recall:\",recall_score(y, predictions),'\\n',\n",
    "      \"precision:\",precision_score(y, predictions),'\\n',\n",
    "      \"f1score:\",f1_score(y, predictions),'\\n',\n",
    "      'tn:{}, fp:{}, fn:{}, tp:{}'.format(tn, fp, fn, tp),'\\n')"
   ]
  },
  {
   "cell_type": "code",
   "execution_count": 29,
   "id": "d4ba9c21",
   "metadata": {},
   "outputs": [
    {
     "name": "stdout",
     "output_type": "stream",
     "text": [
      "random_forest_test_july \n",
      " recall: 0.057271425649417056 \n",
      " precision: 0.3819918144611187 \n",
      " f1score: 0.09960868018498754 \n",
      " tn:12974, fp:453, fn:4609, tp:280 \n",
      "\n"
     ]
    }
   ],
   "source": [
    "threshold=0.55\n",
    "predictions = (preds[:,1] >= threshold).astype('int')\n",
    "tn, fp, fn, tp = confusion_matrix(y, predictions).ravel()\n",
    "print(\"random_forest_test_july\",'\\n',\n",
    "      \"recall:\",recall_score(y, predictions),'\\n',\n",
    "      \"precision:\",precision_score(y, predictions),'\\n',\n",
    "      \"f1score:\",f1_score(y, predictions),'\\n',\n",
    "      'tn:{}, fp:{}, fn:{}, tp:{}'.format(tn, fp, fn, tp),'\\n')"
   ]
  },
  {
   "cell_type": "code",
   "execution_count": 30,
   "id": "253af8aa",
   "metadata": {},
   "outputs": [
    {
     "name": "stdout",
     "output_type": "stream",
     "text": [
      "random_forest_test_july \n",
      " recall: 0.008386173041521783 \n",
      " precision: 0.4823529411764706 \n",
      " f1score: 0.01648572577402493 \n",
      " tn:13383, fp:44, fn:4848, tp:41 \n",
      "\n"
     ]
    }
   ],
   "source": [
    "threshold=0.60\n",
    "predictions = (preds[:,1] >= threshold).astype('int')\n",
    "tn, fp, fn, tp = confusion_matrix(y, predictions).ravel()\n",
    "print(\"random_forest_test_july\",'\\n',\n",
    "      \"recall:\",recall_score(y, predictions),'\\n',\n",
    "      \"precision:\",precision_score(y, predictions),'\\n',\n",
    "      \"f1score:\",f1_score(y, predictions),'\\n',\n",
    "      'tn:{}, fp:{}, fn:{}, tp:{}'.format(tn, fp, fn, tp),'\\n')"
   ]
  },
  {
   "cell_type": "code",
   "execution_count": 31,
   "id": "db2b6b03",
   "metadata": {},
   "outputs": [
    {
     "name": "stdout",
     "output_type": "stream",
     "text": [
      "random_forest_test_july \n",
      " recall: 1.0 \n",
      " precision: 0.26692509281502513 \n",
      " f1score: 0.42137470372764496 \n",
      " tn:0, fp:13427, fn:0, tp:4889 \n",
      "\n"
     ]
    }
   ],
   "source": [
    "threshold=0.45\n",
    "predictions = (preds[:,1] >= threshold).astype('int')\n",
    "tn, fp, fn, tp = confusion_matrix(y, predictions).ravel()\n",
    "print(\"random_forest_test_july\",'\\n',\n",
    "      \"recall:\",recall_score(y, predictions),'\\n',\n",
    "      \"precision:\",precision_score(y, predictions),'\\n',\n",
    "      \"f1score:\",f1_score(y, predictions),'\\n',\n",
    "      'tn:{}, fp:{}, fn:{}, tp:{}'.format(tn, fp, fn, tp),'\\n')"
   ]
  },
  {
   "cell_type": "code",
   "execution_count": 32,
   "id": "a5fc01fc",
   "metadata": {},
   "outputs": [
    {
     "name": "stdout",
     "output_type": "stream",
     "text": [
      "random_forest_test_july \n",
      " recall: 1.0 \n",
      " precision: 0.26692509281502513 \n",
      " f1score: 0.42137470372764496 \n",
      " tn:0, fp:13427, fn:0, tp:4889 \n",
      "\n"
     ]
    }
   ],
   "source": [
    "threshold=0.40\n",
    "predictions = (preds[:,1] >= threshold).astype('int')\n",
    "tn, fp, fn, tp = confusion_matrix(y, predictions).ravel()\n",
    "print(\"random_forest_test_july\",'\\n',\n",
    "      \"recall:\",recall_score(y, predictions),'\\n',\n",
    "      \"precision:\",precision_score(y, predictions),'\\n',\n",
    "      \"f1score:\",f1_score(y, predictions),'\\n',\n",
    "      'tn:{}, fp:{}, fn:{}, tp:{}'.format(tn, fp, fn, tp),'\\n')"
   ]
  },
  {
   "cell_type": "code",
   "execution_count": 33,
   "id": "f8eb5930",
   "metadata": {},
   "outputs": [
    {
     "data": {
      "text/html": [
       "<div>\n",
       "<style scoped>\n",
       "    .dataframe tbody tr th:only-of-type {\n",
       "        vertical-align: middle;\n",
       "    }\n",
       "\n",
       "    .dataframe tbody tr th {\n",
       "        vertical-align: top;\n",
       "    }\n",
       "\n",
       "    .dataframe thead th {\n",
       "        text-align: right;\n",
       "    }\n",
       "</style>\n",
       "<table border=\"1\" class=\"dataframe\">\n",
       "  <thead>\n",
       "    <tr style=\"text-align: right;\">\n",
       "      <th></th>\n",
       "      <th>vip</th>\n",
       "      <th>feature_importances_mag</th>\n",
       "      <th>feature_importances_sign</th>\n",
       "    </tr>\n",
       "    <tr>\n",
       "      <th>feat_names</th>\n",
       "      <th></th>\n",
       "      <th></th>\n",
       "      <th></th>\n",
       "    </tr>\n",
       "  </thead>\n",
       "  <tbody>\n",
       "    <tr>\n",
       "      <th>lines</th>\n",
       "      <td>0.19</td>\n",
       "      <td>0.19</td>\n",
       "      <td>1.00</td>\n",
       "    </tr>\n",
       "    <tr>\n",
       "      <th>zipcode_accepted_prop</th>\n",
       "      <td>0.16</td>\n",
       "      <td>0.16</td>\n",
       "      <td>1.00</td>\n",
       "    </tr>\n",
       "    <tr>\n",
       "      <th>account_tenure</th>\n",
       "      <td>0.16</td>\n",
       "      <td>0.16</td>\n",
       "      <td>1.00</td>\n",
       "    </tr>\n",
       "    <tr>\n",
       "      <th>x1_MD</th>\n",
       "      <td>0.12</td>\n",
       "      <td>0.12</td>\n",
       "      <td>1.00</td>\n",
       "    </tr>\n",
       "    <tr>\n",
       "      <th>x0_1</th>\n",
       "      <td>0.07</td>\n",
       "      <td>0.07</td>\n",
       "      <td>1.00</td>\n",
       "    </tr>\n",
       "    <tr>\n",
       "      <th>num_decline</th>\n",
       "      <td>0.05</td>\n",
       "      <td>0.05</td>\n",
       "      <td>1.00</td>\n",
       "    </tr>\n",
       "    <tr>\n",
       "      <th>x2_other</th>\n",
       "      <td>0.05</td>\n",
       "      <td>0.05</td>\n",
       "      <td>1.00</td>\n",
       "    </tr>\n",
       "    <tr>\n",
       "      <th>x8_5 Renters</th>\n",
       "      <td>0.05</td>\n",
       "      <td>0.05</td>\n",
       "      <td>1.00</td>\n",
       "    </tr>\n",
       "    <tr>\n",
       "      <th>past_yr_claim_count</th>\n",
       "      <td>0.04</td>\n",
       "      <td>0.04</td>\n",
       "      <td>1.00</td>\n",
       "    </tr>\n",
       "    <tr>\n",
       "      <th>x3_Low-Tech</th>\n",
       "      <td>0.03</td>\n",
       "      <td>0.03</td>\n",
       "      <td>1.00</td>\n",
       "    </tr>\n",
       "  </tbody>\n",
       "</table>\n",
       "</div>"
      ],
      "text/plain": [
       "                       vip  feature_importances_mag  feature_importances_sign\n",
       "feat_names                                                                   \n",
       "lines                 0.19                     0.19                      1.00\n",
       "zipcode_accepted_prop 0.16                     0.16                      1.00\n",
       "account_tenure        0.16                     0.16                      1.00\n",
       "x1_MD                 0.12                     0.12                      1.00\n",
       "x0_1                  0.07                     0.07                      1.00\n",
       "num_decline           0.05                     0.05                      1.00\n",
       "x2_other              0.05                     0.05                      1.00\n",
       "x8_5 Renters          0.05                     0.05                      1.00\n",
       "past_yr_claim_count   0.04                     0.04                      1.00\n",
       "x3_Low-Tech           0.03                     0.03                      1.00"
      ]
     },
     "execution_count": 33,
     "metadata": {},
     "output_type": "execute_result"
    }
   ],
   "source": [
    "vip = random_forest_classifier.steps[1][1].feature_importances_\n",
    "\n",
    "#create df with vip info\n",
    "feature_importances_info = pd.DataFrame({'feat_names':list(random_forest_classifier.steps[0][1].transformers_[0][1].get_feature_names())+num_list, 'vip': vip})\n",
    "\n",
    "#get sign and magnitude information\n",
    "feature_importances_info = feature_importances_info.assign(feature_importances_mag = abs(feature_importances_info['vip']),\n",
    "                             feature_importances_sign = np.sign(feature_importances_info['vip']))\n",
    "feature_importances_info = feature_importances_info.set_index('feat_names').sort_values(by='feature_importances_mag', ascending=False)\n",
    "feature_importances_info.head(10)"
   ]
  },
  {
   "cell_type": "code",
   "execution_count": 34,
   "id": "367c193b",
   "metadata": {},
   "outputs": [],
   "source": [
    "feature_importances_info.to_csv('feature_importances_ninety_day_churn_rf.csv')"
   ]
  },
  {
   "cell_type": "code",
   "execution_count": 35,
   "id": "97a60b93",
   "metadata": {},
   "outputs": [
    {
     "name": "stdout",
     "output_type": "stream",
     "text": [
      "Looking in indexes: https://pypi.org/simple, https://pypi.ngc.nvidia.com\n",
      "Requirement already satisfied: seaborn in /opt/conda/lib/python3.8/site-packages (0.12.1)\n",
      "Requirement already satisfied: pandas>=0.25 in /opt/conda/lib/python3.8/site-packages (from seaborn) (1.3.5)\n",
      "Requirement already satisfied: numpy>=1.17 in /opt/conda/lib/python3.8/site-packages (from seaborn) (1.22.4)\n",
      "Requirement already satisfied: matplotlib!=3.6.1,>=3.1 in /opt/conda/lib/python3.8/site-packages (from seaborn) (3.5.2)\n",
      "Requirement already satisfied: kiwisolver>=1.0.1 in /opt/conda/lib/python3.8/site-packages (from matplotlib!=3.6.1,>=3.1->seaborn) (1.4.3)\n",
      "Requirement already satisfied: cycler>=0.10 in /opt/conda/lib/python3.8/site-packages (from matplotlib!=3.6.1,>=3.1->seaborn) (0.11.0)\n",
      "Requirement already satisfied: python-dateutil>=2.7 in /opt/conda/lib/python3.8/site-packages (from matplotlib!=3.6.1,>=3.1->seaborn) (2.8.2)\n",
      "Requirement already satisfied: pillow>=6.2.0 in /opt/conda/lib/python3.8/site-packages (from matplotlib!=3.6.1,>=3.1->seaborn) (9.0.1)\n",
      "Requirement already satisfied: packaging>=20.0 in /opt/conda/lib/python3.8/site-packages (from matplotlib!=3.6.1,>=3.1->seaborn) (21.3)\n",
      "Requirement already satisfied: pyparsing>=2.2.1 in /opt/conda/lib/python3.8/site-packages (from matplotlib!=3.6.1,>=3.1->seaborn) (3.0.9)\n",
      "Requirement already satisfied: fonttools>=4.22.0 in /opt/conda/lib/python3.8/site-packages (from matplotlib!=3.6.1,>=3.1->seaborn) (4.33.3)\n",
      "Requirement already satisfied: pytz>=2017.3 in /opt/conda/lib/python3.8/site-packages (from pandas>=0.25->seaborn) (2022.1)\n",
      "Requirement already satisfied: six>=1.5 in /opt/conda/lib/python3.8/site-packages (from python-dateutil>=2.7->matplotlib!=3.6.1,>=3.1->seaborn) (1.16.0)\n",
      "\u001b[33mWARNING: Running pip as the 'root' user can result in broken permissions and conflicting behaviour with the system package manager. It is recommended to use a virtual environment instead: https://pip.pypa.io/warnings/venv\u001b[0m\n"
     ]
    }
   ],
   "source": [
    "!pip install seaborn"
   ]
  },
  {
   "cell_type": "code",
   "execution_count": 36,
   "id": "97f23c2f",
   "metadata": {},
   "outputs": [
    {
     "data": {
      "image/png": "[encoded data removed]",
      "text/plain": [
       "<Figure size 432x288 with 1 Axes>"
      ]
     },
     "metadata": {
      "needs_background": "light"
     },
     "output_type": "display_data"
    }
   ],
   "source": [
    "import seaborn as sns\n",
    "sns.barplot(y=feature_importances_info.index[:10], x='feature_importances_mag', hue='feature_importances_sign', \n",
    "            data=feature_importances_info[:10], orient='h', dodge=False);"
   ]
  },
  {
   "cell_type": "code",
   "execution_count": 37,
   "id": "6cb87623",
   "metadata": {},
   "outputs": [
    {
     "data": {
      "image/png": "[encoded data removed]",
      "text/plain": [
       "<Figure size 1152x576 with 2 Axes>"
      ]
     },
     "metadata": {
      "needs_background": "light"
     },
     "output_type": "display_data"
    }
   ],
   "source": [
    "plt.figure(figsize = (16,8))\n",
    "matrix = train_df.corr().round(2)\n",
    "mask = np.triu(np.ones_like(matrix, dtype=bool))\n",
    "sns.heatmap(matrix, annot=True, vmax=1, vmin=-1, center=0, cmap='vlag', mask=mask)\n",
    "plt.show()"
   ]
  },
  {
   "cell_type": "code",
   "execution_count": null,
   "id": "08ab17a2",
   "metadata": {},
   "outputs": [],
   "source": []
  }
 ],
 "metadata": {
  "kernelspec": {
   "display_name": "Python 3 (ipykernel)",
   "language": "python",
   "name": "python3"
  },
  "language_info": {
   "codemirror_mode": {
    "name": "ipython",
    "version": 3
   },
   "file_extension": ".py",
   "mimetype": "text/x-python",
   "name": "python",
   "nbconvert_exporter": "python",
   "pygments_lexer": "ipython3",
   "version": "3.8.13"
  }
 },
 "nbformat": 4,
 "nbformat_minor": 5
}
