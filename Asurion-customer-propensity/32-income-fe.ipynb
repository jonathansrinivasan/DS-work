{
 "cells": [
  {
   "cell_type": "code",
   "execution_count": 1,
   "id": "ffe8a00b",
   "metadata": {},
   "outputs": [],
   "source": [
    "import pandas as pd\n",
    "import seaborn as sns"
   ]
  },
  {
   "cell_type": "code",
   "execution_count": 2,
   "id": "c2cde2c1",
   "metadata": {},
   "outputs": [
    {
     "name": "stdout",
     "output_type": "stream",
     "text": [
      "/workspace/asurion_f22_muby\n"
     ]
    }
   ],
   "source": [
    "%cd .."
   ]
  },
  {
   "cell_type": "code",
   "execution_count": 3,
   "id": "812d9734",
   "metadata": {},
   "outputs": [],
   "source": [
    "march_encoded = pd.read_csv(\"fe_data/tabular_march_encoded.csv\")"
   ]
  },
  {
   "cell_type": "code",
   "execution_count": 4,
   "id": "b2a02ac2",
   "metadata": {},
   "outputs": [
    {
     "name": "stdout",
     "output_type": "stream",
     "text": [
      "<class 'pandas.core.frame.DataFrame'>\n",
      "RangeIndex: 218864 entries, 0 to 218863\n",
      "Data columns (total 41 columns):\n",
      " #   Column                      Non-Null Count   Dtype  \n",
      "---  ------                      --------------   -----  \n",
      " 0   county                      198397 non-null  object \n",
      " 1   state                       198390 non-null  object \n",
      " 2   state_code                  198390 non-null  object \n",
      " 3   latitude                    198397 non-null  float64\n",
      " 4   longitude                   198397 non-null  float64\n",
      " 5   lat_long_source             198382 non-null  float64\n",
      " 6   quality_sale                218864 non-null  int64  \n",
      " 7   accepted_flg                218864 non-null  int64  \n",
      " 8   accepted_flg_1              218864 non-null  int64  \n",
      " 9   seven_day_churn             20899 non-null   float64\n",
      " 10  thirty_day_churn            20899 non-null   float64\n",
      " 11  ninety_day_churn            20899 non-null   float64\n",
      " 12  clndr_dt_cst                218864 non-null  object \n",
      " 13  start_dt                    218864 non-null  object \n",
      " 14  lines                       218864 non-null  int64  \n",
      " 15  previous_tech_support_call  218864 non-null  int64  \n",
      " 16  account_tenure              218864 non-null  int64  \n",
      " 17  past_yr_claim_count         218864 non-null  int64  \n",
      " 18  num_decline                 218864 non-null  int64  \n",
      " 19  exp                         218864 non-null  int64  \n",
      " 20  product_type                218864 non-null  object \n",
      " 21  pmake                       218864 non-null  object \n",
      " 22  claritas_hh_count           218864 non-null  int64  \n",
      " 23  technodoption_class         218864 non-null  object \n",
      " 24  hh_income                   218864 non-null  object \n",
      " 25  age_class                   218864 non-null  object \n",
      " 26  hh_education                218864 non-null  object \n",
      " 27  hh_composition              218864 non-null  object \n",
      " 28  hh_tenure                   218864 non-null  object \n",
      " 29  urbanicity                  218864 non-null  object \n",
      " 30  median_income               218864 non-null  int64  \n",
      " 31  total_population            218864 non-null  int64  \n",
      " 32  perc_female                 218864 non-null  int64  \n",
      " 33  perc_under18                218864 non-null  int64  \n",
      " 34  perc_over65                 218864 non-null  int64  \n",
      " 35  perc_white                  218864 non-null  int64  \n",
      " 36  perc_black                  218864 non-null  int64  \n",
      " 37  population_density          218864 non-null  int64  \n",
      " 38  zipcode                     198427 non-null  float64\n",
      " 39  id                          218864 non-null  object \n",
      " 40  month                       218864 non-null  object \n",
      "dtypes: float64(7), int64(18), object(16)\n",
      "memory usage: 68.5+ MB\n"
     ]
    }
   ],
   "source": [
    "march_encoded.info()"
   ]
  },
  {
   "cell_type": "code",
   "execution_count": 5,
   "id": "dd3975ae",
   "metadata": {},
   "outputs": [
    {
     "data": {
      "text/plain": [
       "Unknown             53796\n",
       "3 Upper Midscale    43173\n",
       "1 Wealthy           38011\n",
       "4 Midscale          29673\n",
       "2 Upscale           23560\n",
       "5 Lower Midscale    14158\n",
       "6 Downscale         10835\n",
       "7 Low Income         5658\n",
       "Name: hh_income, dtype: int64"
      ]
     },
     "execution_count": 5,
     "metadata": {},
     "output_type": "execute_result"
    }
   ],
   "source": [
    "march_encoded['hh_income'].value_counts()"
   ]
  },
  {
   "cell_type": "code",
   "execution_count": 6,
   "id": "790f53ac",
   "metadata": {},
   "outputs": [],
   "source": [
    "march_encoded['hh_income_code'] = march_encoded['hh_income'].replace(['1 Wealthy', '2 Upscale', '3 Upper Midscale', '4 Midscale', '5 Lower Midscale', '6 Downscale', '7 Low Income', 'Unknown'], [1, 2, 3, 4, 5, 6, 7, 8])"
   ]
  },
  {
   "cell_type": "code",
   "execution_count": 7,
   "id": "d3af473a",
   "metadata": {},
   "outputs": [
    {
     "data": {
      "text/plain": [
       "8    53796\n",
       "3    43173\n",
       "1    38011\n",
       "4    29673\n",
       "2    23560\n",
       "5    14158\n",
       "6    10835\n",
       "7     5658\n",
       "Name: hh_income_code, dtype: int64"
      ]
     },
     "execution_count": 7,
     "metadata": {},
     "output_type": "execute_result"
    }
   ],
   "source": [
    "march_encoded['hh_income_code'].value_counts()"
   ]
  },
  {
   "cell_type": "code",
   "execution_count": 8,
   "id": "b905e036",
   "metadata": {},
   "outputs": [],
   "source": [
    "april_encoded = pd.read_csv(\"fe_data/tabular_april_encoded.csv\")"
   ]
  },
  {
   "cell_type": "code",
   "execution_count": 9,
   "id": "bfcbb93c",
   "metadata": {},
   "outputs": [],
   "source": [
    "april_encoded['hh_income_code'] = april_encoded['hh_income'].replace(['1 Wealthy', '2 Upscale', '3 Upper Midscale', '4 Midscale', '5 Lower Midscale', '6 Downscale', '7 Low Income', 'Unknown'], [1, 2, 3, 4, 5, 6, 7, 8])"
   ]
  },
  {
   "cell_type": "code",
   "execution_count": 10,
   "id": "b1149d13",
   "metadata": {},
   "outputs": [
    {
     "data": {
      "text/plain": [
       "8    55580\n",
       "3    44350\n",
       "1    38595\n",
       "4    30449\n",
       "2    23706\n",
       "5    14349\n",
       "6    10785\n",
       "7     5719\n",
       "Name: hh_income_code, dtype: int64"
      ]
     },
     "execution_count": 10,
     "metadata": {},
     "output_type": "execute_result"
    }
   ],
   "source": [
    "april_encoded['hh_income_code'].value_counts()"
   ]
  },
  {
   "cell_type": "code",
   "execution_count": 11,
   "id": "642a089f",
   "metadata": {},
   "outputs": [],
   "source": [
    "june_encoded = pd.read_csv(\"fe_data/tabular_june_encoded.csv\")"
   ]
  },
  {
   "cell_type": "code",
   "execution_count": 12,
   "id": "3e4ecc99",
   "metadata": {},
   "outputs": [],
   "source": [
    "june_encoded['hh_income_code'] = june_encoded['hh_income'].replace(['1 Wealthy', '2 Upscale', '3 Upper Midscale', '4 Midscale', '5 Lower Midscale', '6 Downscale', '7 Low Income', 'Unknown'], [1, 2, 3, 4, 5, 6, 7, 8])"
   ]
  },
  {
   "cell_type": "code",
   "execution_count": 13,
   "id": "121c5756",
   "metadata": {},
   "outputs": [
    {
     "data": {
      "text/plain": [
       "8    68323\n",
       "3    51527\n",
       "1    45489\n",
       "4    34986\n",
       "2    28255\n",
       "5    16904\n",
       "6    12693\n",
       "7     6219\n",
       "Name: hh_income_code, dtype: int64"
      ]
     },
     "execution_count": 13,
     "metadata": {},
     "output_type": "execute_result"
    }
   ],
   "source": [
    "june_encoded['hh_income_code'].value_counts()"
   ]
  },
  {
   "cell_type": "code",
   "execution_count": 14,
   "id": "413027d6",
   "metadata": {},
   "outputs": [],
   "source": [
    "may_encoded = pd.read_csv(\"fe_data/tabular_may_encoded.csv\")"
   ]
  },
  {
   "cell_type": "code",
   "execution_count": 15,
   "id": "191b7b43",
   "metadata": {},
   "outputs": [],
   "source": [
    "may_encoded['hh_income_code'] = may_encoded['hh_income'].replace(['1 Wealthy', '2 Upscale', '3 Upper Midscale', '4 Midscale', '5 Lower Midscale', '6 Downscale', '7 Low Income', 'Unknown'], [1, 2, 3, 4, 5, 6, 7, 8])"
   ]
  },
  {
   "cell_type": "code",
   "execution_count": 16,
   "id": "39c575ef",
   "metadata": {},
   "outputs": [
    {
     "data": {
      "text/plain": [
       "8    61844\n",
       "3    48830\n",
       "1    40189\n",
       "4    34213\n",
       "2    25179\n",
       "5    16643\n",
       "6    12604\n",
       "7     6817\n",
       "Name: hh_income_code, dtype: int64"
      ]
     },
     "execution_count": 16,
     "metadata": {},
     "output_type": "execute_result"
    }
   ],
   "source": [
    "may_encoded['hh_income_code'].value_counts()"
   ]
  },
  {
   "cell_type": "code",
   "execution_count": 17,
   "id": "9742cd99",
   "metadata": {},
   "outputs": [],
   "source": [
    "july_encoded = pd.read_csv(\"fe_data/tabular_july_encoded.csv\")"
   ]
  },
  {
   "cell_type": "code",
   "execution_count": 18,
   "id": "800e0f5d",
   "metadata": {},
   "outputs": [],
   "source": [
    "july_encoded['hh_income_code'] = july_encoded['hh_income'].replace(['1 Wealthy', '2 Upscale', '3 Upper Midscale', '4 Midscale', '5 Lower Midscale', '6 Downscale', '7 Low Income', 'Unknown'], [1, 2, 3, 4, 5, 6, 7, 8])"
   ]
  },
  {
   "cell_type": "code",
   "execution_count": 19,
   "id": "b0f2bc96",
   "metadata": {},
   "outputs": [
    {
     "data": {
      "text/plain": [
       "8    64848\n",
       "3    51104\n",
       "1    44377\n",
       "4    34649\n",
       "2    28177\n",
       "5    16829\n",
       "6    12464\n",
       "7     6011\n",
       "Name: hh_income_code, dtype: int64"
      ]
     },
     "execution_count": 19,
     "metadata": {},
     "output_type": "execute_result"
    }
   ],
   "source": [
    "july_encoded['hh_income_code'].value_counts()"
   ]
  },
  {
   "cell_type": "code",
   "execution_count": 20,
   "id": "e781d04a",
   "metadata": {},
   "outputs": [],
   "source": [
    "march_encoded.to_csv(\"fe_data/tabular_march_encoded.csv\", index = False)\n",
    "april_encoded.to_csv(\"fe_data/tabular_april_encoded.csv\", index = False)\n",
    "may_encoded.to_csv(\"fe_data/tabular_may_encoded.csv\", index = False)\n",
    "june_encoded.to_csv(\"fe_data/tabular_june_encoded.csv\", index = False)\n",
    "july_encoded.to_csv(\"fe_data/tabular_july_encoded.csv\", index = False)"
   ]
  },
  {
   "cell_type": "code",
   "execution_count": 21,
   "id": "cd1798ee",
   "metadata": {},
   "outputs": [],
   "source": [
    "total_encoded_tabular = pd.concat([march_encoded, april_encoded, may_encoded, june_encoded, july_encoded], axis = 0)"
   ]
  },
  {
   "cell_type": "code",
   "execution_count": 22,
   "id": "a5a75171",
   "metadata": {},
   "outputs": [],
   "source": [
    "total_encoded_tabular.to_csv(\"fe_data/total_encoded_tabular.csv\", index = False)"
   ]
  },
  {
   "cell_type": "code",
   "execution_count": null,
   "id": "083a9622",
   "metadata": {},
   "outputs": [],
   "source": []
  }
 ],
 "metadata": {
  "kernelspec": {
   "display_name": "Python 3 (ipykernel)",
   "language": "python",
   "name": "python3"
  },
  "language_info": {
   "codemirror_mode": {
    "name": "ipython",
    "version": 3
   },
   "file_extension": ".py",
   "mimetype": "text/x-python",
   "name": "python",
   "nbconvert_exporter": "python",
   "pygments_lexer": "ipython3",
   "version": "3.8.13"
  }
 },
 "nbformat": 4,
 "nbformat_minor": 5
}
