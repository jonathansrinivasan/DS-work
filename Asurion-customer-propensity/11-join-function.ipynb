{
 "cells": [
  {
   "cell_type": "code",
   "execution_count": 1,
   "id": "0d0b351e",
   "metadata": {},
   "outputs": [],
   "source": [
    "import pandas as pd"
   ]
  },
  {
   "cell_type": "code",
   "execution_count": 2,
   "id": "28597b93",
   "metadata": {},
   "outputs": [
    {
     "name": "stdout",
     "output_type": "stream",
     "text": [
      "/workspace/asurion_f22\n"
     ]
    }
   ],
   "source": [
    "%cd .."
   ]
  },
  {
   "cell_type": "code",
   "execution_count": 4,
   "id": "903c8ebd",
   "metadata": {},
   "outputs": [],
   "source": [
    "march_encoded = pd.read_csv(\"data/tabular_march_encoded.csv\")\n",
    "march_collated = pd.read_csv(\"data/transcript_march_collated_encoded.csv\")"
   ]
  },
  {
   "cell_type": "code",
   "execution_count": 5,
   "id": "857b62b0",
   "metadata": {},
   "outputs": [],
   "source": [
    "def join_func(df1, df2, col):\n",
    "    df_j = df1.merge(df2, on = col, how = \"inner\")\n",
    "    return df_j"
   ]
  },
  {
   "cell_type": "code",
   "execution_count": 6,
   "id": "068317a5",
   "metadata": {},
   "outputs": [],
   "source": [
    "march_total = join_func(march_encoded, march_collated, \"ID\")"
   ]
  },
  {
   "cell_type": "code",
   "execution_count": 16,
   "id": "74ca5c4c",
   "metadata": {},
   "outputs": [
    {
     "name": "stdout",
     "output_type": "stream",
     "text": [
      "85.63 percent of the tabular march encoded data were retained.\n"
     ]
    }
   ],
   "source": [
    "encoded_retained = len(march_total)/len(march_encoded)\n",
    "print(\"%.2f percent of the tabular march encoded data were retained.\"%(encoded_retained*100))"
   ]
  },
  {
   "cell_type": "code",
   "execution_count": 17,
   "id": "d6c1cc86",
   "metadata": {},
   "outputs": [
    {
     "name": "stdout",
     "output_type": "stream",
     "text": [
      "72.14 percent of the transcript march collated data were retained.\n"
     ]
    }
   ],
   "source": [
    "collated_retained = len(march_total)/len(march_collated)\n",
    "print(\"%.2f percent of the transcript march collated data were retained.\"%(collated_retained*100))"
   ]
  },
  {
   "cell_type": "code",
   "execution_count": null,
   "id": "20279d93",
   "metadata": {},
   "outputs": [],
   "source": []
  }
 ],
 "metadata": {
  "kernelspec": {
   "display_name": "Python 3 (ipykernel)",
   "language": "python",
   "name": "python3"
  },
  "language_info": {
   "codemirror_mode": {
    "name": "ipython",
    "version": 3
   },
   "file_extension": ".py",
   "mimetype": "text/x-python",
   "name": "python",
   "nbconvert_exporter": "python",
   "pygments_lexer": "ipython3",
   "version": "3.8.13"
  }
 },
 "nbformat": 4,
 "nbformat_minor": 5
}
