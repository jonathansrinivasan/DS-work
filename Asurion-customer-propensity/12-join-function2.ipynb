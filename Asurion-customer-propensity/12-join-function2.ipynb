{
 "cells": [
  {
   "cell_type": "code",
   "execution_count": 1,
   "id": "ab1d9e8e",
   "metadata": {},
   "outputs": [],
   "source": [
    "import pandas as pd"
   ]
  },
  {
   "cell_type": "code",
   "execution_count": 2,
   "id": "eddc9a94",
   "metadata": {},
   "outputs": [
    {
     "name": "stdout",
     "output_type": "stream",
     "text": [
      "/workspace/asurion_f22_muby\n"
     ]
    }
   ],
   "source": [
    "%cd .."
   ]
  },
  {
   "cell_type": "code",
   "execution_count": 3,
   "id": "2828eb74",
   "metadata": {},
   "outputs": [],
   "source": [
    "total_transcripts = pd.read_csv(\"fe_data/total_collated_transcripts.csv\")"
   ]
  },
  {
   "cell_type": "code",
   "execution_count": 4,
   "id": "209568b7",
   "metadata": {},
   "outputs": [],
   "source": [
    "total_tabular = pd.read_csv(\"fe_data/total_encoded_tabular.csv\")"
   ]
  },
  {
   "cell_type": "code",
   "execution_count": 5,
   "id": "33ce4fd5",
   "metadata": {},
   "outputs": [],
   "source": [
    "total_combined = total_tabular.merge(total_transcripts, how = \"inner\", on = [\"id\",\"month\"])"
   ]
  },
  {
   "cell_type": "code",
   "execution_count": 6,
   "id": "32aaaace",
   "metadata": {},
   "outputs": [
    {
     "name": "stdout",
     "output_type": "stream",
     "text": [
      "<class 'pandas.core.frame.DataFrame'>\n",
      "Int64Index: 950465 entries, 0 to 950464\n",
      "Data columns (total 49 columns):\n",
      " #   Column                            Non-Null Count   Dtype  \n",
      "---  ------                            --------------   -----  \n",
      " 0   id                                950465 non-null  object \n",
      " 1   quality_sale                      950465 non-null  int64  \n",
      " 2   accepted_flg_x                    950465 non-null  int64  \n",
      " 3   seven_day_churn                   86143 non-null   float64\n",
      " 4   thirty_day_churn                  86143 non-null   float64\n",
      " 5   ninety_day_churn                  86143 non-null   float64\n",
      " 6   clndr_dt_cst                      950465 non-null  object \n",
      " 7   start_dt                          950465 non-null  object \n",
      " 8   lines                             950465 non-null  int64  \n",
      " 9   previous_tech_support_call        950465 non-null  int64  \n",
      " 10  account_tenure                    950465 non-null  int64  \n",
      " 11  past_yr_claim_count               950465 non-null  int64  \n",
      " 12  num_decline                       950465 non-null  int64  \n",
      " 13  exp                               950465 non-null  int64  \n",
      " 14  product_type                      950465 non-null  object \n",
      " 15  pmake                             950465 non-null  object \n",
      " 16  claritas_hh_count                 950465 non-null  int64  \n",
      " 17  technodoption_class               950465 non-null  object \n",
      " 18  hh_income                         950465 non-null  object \n",
      " 19  age_class                         950465 non-null  object \n",
      " 20  hh_education                      950465 non-null  object \n",
      " 21  hh_composition                    950465 non-null  object \n",
      " 22  hh_tenure                         950465 non-null  object \n",
      " 23  urbanicity                        950465 non-null  object \n",
      " 24  median_income                     950465 non-null  int64  \n",
      " 25  total_population                  950465 non-null  int64  \n",
      " 26  perc_female                       950465 non-null  int64  \n",
      " 27  perc_under18                      950465 non-null  int64  \n",
      " 28  perc_over65                       950465 non-null  int64  \n",
      " 29  perc_white                        950465 non-null  int64  \n",
      " 30  perc_black                        950465 non-null  int64  \n",
      " 31  population_density                950465 non-null  int64  \n",
      " 32  zipcode                           853623 non-null  float64\n",
      " 33  county                            853526 non-null  object \n",
      " 34  state                             853490 non-null  object \n",
      " 35  state_code                        853490 non-null  object \n",
      " 36  latitude                          853526 non-null  float64\n",
      " 37  longitude                         853526 non-null  float64\n",
      " 38  month                             950465 non-null  object \n",
      " 39  hh_income_code                    950465 non-null  int64  \n",
      " 40  day_of_week                       950465 non-null  object \n",
      " 41  time_of_day                       950465 non-null  int64  \n",
      " 42  zipcode_accepted_prop             853623 non-null  float64\n",
      " 43  zipcode_rejected_offers           853623 non-null  float64\n",
      " 44  zipcode_accepted_offers           853623 non-null  float64\n",
      " 45  zipcode_total_offers              853623 non-null  float64\n",
      " 46  sales_offer_date                  950465 non-null  object \n",
      " 47  accepted_flg_y                    950465 non-null  bool   \n",
      " 48  encrypted_collated_transcription  947763 non-null  object \n",
      "dtypes: bool(1), float64(10), int64(19), object(19)\n",
      "memory usage: 356.2+ MB\n"
     ]
    }
   ],
   "source": [
    "total_combined.info()"
   ]
  },
  {
   "cell_type": "code",
   "execution_count": 10,
   "id": "c9ec3a39",
   "metadata": {},
   "outputs": [],
   "source": [
    "total_combined = total_combined.drop([\"accepted_flg_y\"], axis = 1)\n",
    "total_combined = total_combined.rename({\"accepted_flg_x\":\"accepted_flg\"})"
   ]
  },
  {
   "cell_type": "code",
   "execution_count": 11,
   "id": "2935da4d",
   "metadata": {},
   "outputs": [
    {
     "name": "stdout",
     "output_type": "stream",
     "text": [
      "<class 'pandas.core.frame.DataFrame'>\n",
      "Int64Index: 950465 entries, 0 to 950464\n",
      "Data columns (total 48 columns):\n",
      " #   Column                            Non-Null Count   Dtype  \n",
      "---  ------                            --------------   -----  \n",
      " 0   id                                950465 non-null  object \n",
      " 1   quality_sale                      950465 non-null  int64  \n",
      " 2   accepted_flg_x                    950465 non-null  int64  \n",
      " 3   seven_day_churn                   86143 non-null   float64\n",
      " 4   thirty_day_churn                  86143 non-null   float64\n",
      " 5   ninety_day_churn                  86143 non-null   float64\n",
      " 6   clndr_dt_cst                      950465 non-null  object \n",
      " 7   start_dt                          950465 non-null  object \n",
      " 8   lines                             950465 non-null  int64  \n",
      " 9   previous_tech_support_call        950465 non-null  int64  \n",
      " 10  account_tenure                    950465 non-null  int64  \n",
      " 11  past_yr_claim_count               950465 non-null  int64  \n",
      " 12  num_decline                       950465 non-null  int64  \n",
      " 13  exp                               950465 non-null  int64  \n",
      " 14  product_type                      950465 non-null  object \n",
      " 15  pmake                             950465 non-null  object \n",
      " 16  claritas_hh_count                 950465 non-null  int64  \n",
      " 17  technodoption_class               950465 non-null  object \n",
      " 18  hh_income                         950465 non-null  object \n",
      " 19  age_class                         950465 non-null  object \n",
      " 20  hh_education                      950465 non-null  object \n",
      " 21  hh_composition                    950465 non-null  object \n",
      " 22  hh_tenure                         950465 non-null  object \n",
      " 23  urbanicity                        950465 non-null  object \n",
      " 24  median_income                     950465 non-null  int64  \n",
      " 25  total_population                  950465 non-null  int64  \n",
      " 26  perc_female                       950465 non-null  int64  \n",
      " 27  perc_under18                      950465 non-null  int64  \n",
      " 28  perc_over65                       950465 non-null  int64  \n",
      " 29  perc_white                        950465 non-null  int64  \n",
      " 30  perc_black                        950465 non-null  int64  \n",
      " 31  population_density                950465 non-null  int64  \n",
      " 32  zipcode                           853623 non-null  float64\n",
      " 33  county                            853526 non-null  object \n",
      " 34  state                             853490 non-null  object \n",
      " 35  state_code                        853490 non-null  object \n",
      " 36  latitude                          853526 non-null  float64\n",
      " 37  longitude                         853526 non-null  float64\n",
      " 38  month                             950465 non-null  object \n",
      " 39  hh_income_code                    950465 non-null  int64  \n",
      " 40  day_of_week                       950465 non-null  object \n",
      " 41  time_of_day                       950465 non-null  int64  \n",
      " 42  zipcode_accepted_prop             853623 non-null  float64\n",
      " 43  zipcode_rejected_offers           853623 non-null  float64\n",
      " 44  zipcode_accepted_offers           853623 non-null  float64\n",
      " 45  zipcode_total_offers              853623 non-null  float64\n",
      " 46  sales_offer_date                  950465 non-null  object \n",
      " 47  encrypted_collated_transcription  947763 non-null  object \n",
      "dtypes: float64(10), int64(19), object(19)\n",
      "memory usage: 355.3+ MB\n"
     ]
    }
   ],
   "source": [
    "total_combined.info()"
   ]
  },
  {
   "cell_type": "code",
   "execution_count": 12,
   "id": "dc4a09a6",
   "metadata": {},
   "outputs": [],
   "source": [
    "total_combined.to_csv(\"fe_data/total_merged_asurion.csv\", index = False)"
   ]
  },
  {
   "cell_type": "code",
   "execution_count": null,
   "id": "813e229a",
   "metadata": {},
   "outputs": [],
   "source": []
  }
 ],
 "metadata": {
  "kernelspec": {
   "display_name": "Python 3 (ipykernel)",
   "language": "python",
   "name": "python3"
  },
  "language_info": {
   "codemirror_mode": {
    "name": "ipython",
    "version": 3
   },
   "file_extension": ".py",
   "mimetype": "text/x-python",
   "name": "python",
   "nbconvert_exporter": "python",
   "pygments_lexer": "ipython3",
   "version": "3.8.13"
  }
 },
 "nbformat": 4,
 "nbformat_minor": 5
}
