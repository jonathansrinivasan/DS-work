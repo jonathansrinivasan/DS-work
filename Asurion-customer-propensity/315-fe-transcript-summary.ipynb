{
 "cells": [
  {
   "cell_type": "code",
   "execution_count": 1,
   "id": "61287399",
   "metadata": {},
   "outputs": [
    {
     "name": "stdout",
     "output_type": "stream",
     "text": [
      "Looking in indexes: https://pypi.org/simple, https://pypi.ngc.nvidia.com\n",
      "Requirement already satisfied: transformers in /opt/conda/lib/python3.8/site-packages (4.23.1)\n",
      "Requirement already satisfied: regex!=2019.12.17 in /opt/conda/lib/python3.8/site-packages (from transformers) (2022.6.2)\n",
      "Requirement already satisfied: tqdm>=4.27 in /opt/conda/lib/python3.8/site-packages (from transformers) (4.64.0)\n",
      "Requirement already satisfied: huggingface-hub<1.0,>=0.10.0 in /opt/conda/lib/python3.8/site-packages (from transformers) (0.10.1)\n",
      "Requirement already satisfied: packaging>=20.0 in /opt/conda/lib/python3.8/site-packages (from transformers) (21.3)\n",
      "Requirement already satisfied: requests in /opt/conda/lib/python3.8/site-packages (from transformers) (2.27.1)\n",
      "Requirement already satisfied: pyyaml>=5.1 in /opt/conda/lib/python3.8/site-packages (from transformers) (6.0)\n",
      "Requirement already satisfied: tokenizers!=0.11.3,<0.14,>=0.11.1 in /opt/conda/lib/python3.8/site-packages (from transformers) (0.13.1)\n",
      "Requirement already satisfied: filelock in /opt/conda/lib/python3.8/site-packages (from transformers) (3.7.1)\n",
      "Requirement already satisfied: numpy>=1.17 in /opt/conda/lib/python3.8/site-packages (from transformers) (1.22.4)\n",
      "Requirement already satisfied: typing-extensions>=3.7.4.3 in /opt/conda/lib/python3.8/site-packages (from huggingface-hub<1.0,>=0.10.0->transformers) (4.2.0)\n",
      "Requirement already satisfied: pyparsing!=3.0.5,>=2.0.2 in /opt/conda/lib/python3.8/site-packages (from packaging>=20.0->transformers) (3.0.9)\n",
      "Requirement already satisfied: idna<4,>=2.5 in /opt/conda/lib/python3.8/site-packages (from requests->transformers) (3.3)\n",
      "Requirement already satisfied: charset-normalizer~=2.0.0 in /opt/conda/lib/python3.8/site-packages (from requests->transformers) (2.0.12)\n",
      "Requirement already satisfied: certifi>=2017.4.17 in /opt/conda/lib/python3.8/site-packages (from requests->transformers) (2022.5.18.1)\n",
      "Requirement already satisfied: urllib3<1.27,>=1.21.1 in /opt/conda/lib/python3.8/site-packages (from requests->transformers) (1.26.9)\n",
      "\u001b[33mWARNING: Running pip as the 'root' user can result in broken permissions and conflicting behaviour with the system package manager. It is recommended to use a virtual environment instead: https://pip.pypa.io/warnings/venv\u001b[0m\n"
     ]
    }
   ],
   "source": [
    "!pip install transformers"
   ]
  },
  {
   "cell_type": "code",
   "execution_count": 2,
   "id": "11503afc",
   "metadata": {},
   "outputs": [
    {
     "name": "stdout",
     "output_type": "stream",
     "text": [
      "Looking in indexes: https://pypi.org/simple, https://pypi.ngc.nvidia.com\n",
      "Requirement already satisfied: tensorflow-gpu in /opt/conda/lib/python3.8/site-packages (2.10.0)\n",
      "Requirement already satisfied: libclang>=13.0.0 in /opt/conda/lib/python3.8/site-packages (from tensorflow-gpu) (14.0.6)\n",
      "Requirement already satisfied: termcolor>=1.1.0 in /opt/conda/lib/python3.8/site-packages (from tensorflow-gpu) (2.1.0)\n",
      "Requirement already satisfied: packaging in /opt/conda/lib/python3.8/site-packages (from tensorflow-gpu) (21.3)\n",
      "Requirement already satisfied: flatbuffers>=2.0 in /opt/conda/lib/python3.8/site-packages (from tensorflow-gpu) (22.10.26)\n",
      "Requirement already satisfied: wrapt>=1.11.0 in /opt/conda/lib/python3.8/site-packages (from tensorflow-gpu) (1.14.1)\n",
      "Requirement already satisfied: numpy>=1.20 in /opt/conda/lib/python3.8/site-packages (from tensorflow-gpu) (1.22.4)\n",
      "Requirement already satisfied: keras<2.11,>=2.10.0 in /opt/conda/lib/python3.8/site-packages (from tensorflow-gpu) (2.10.0)\n",
      "Requirement already satisfied: tensorflow-estimator<2.11,>=2.10.0 in /opt/conda/lib/python3.8/site-packages (from tensorflow-gpu) (2.10.0)\n",
      "Requirement already satisfied: grpcio<2.0,>=1.24.3 in /opt/conda/lib/python3.8/site-packages (from tensorflow-gpu) (1.46.3)\n",
      "Requirement already satisfied: tensorboard<2.11,>=2.10 in /opt/conda/lib/python3.8/site-packages (from tensorflow-gpu) (2.10.1)\n",
      "Requirement already satisfied: astunparse>=1.6.0 in /opt/conda/lib/python3.8/site-packages (from tensorflow-gpu) (1.6.3)\n",
      "Requirement already satisfied: tensorflow-io-gcs-filesystem>=0.23.1 in /opt/conda/lib/python3.8/site-packages (from tensorflow-gpu) (0.27.0)\n",
      "Requirement already satisfied: google-pasta>=0.1.1 in /opt/conda/lib/python3.8/site-packages (from tensorflow-gpu) (0.2.0)\n",
      "Requirement already satisfied: keras-preprocessing>=1.1.1 in /opt/conda/lib/python3.8/site-packages (from tensorflow-gpu) (1.1.2)\n",
      "Requirement already satisfied: setuptools in /opt/conda/lib/python3.8/site-packages (from tensorflow-gpu) (59.5.0)\n",
      "Requirement already satisfied: six>=1.12.0 in /opt/conda/lib/python3.8/site-packages (from tensorflow-gpu) (1.16.0)\n",
      "Requirement already satisfied: h5py>=2.9.0 in /opt/conda/lib/python3.8/site-packages (from tensorflow-gpu) (3.7.0)\n",
      "Requirement already satisfied: typing-extensions>=3.6.6 in /opt/conda/lib/python3.8/site-packages (from tensorflow-gpu) (4.2.0)\n",
      "Requirement already satisfied: opt-einsum>=2.3.2 in /opt/conda/lib/python3.8/site-packages (from tensorflow-gpu) (3.3.0)\n",
      "Requirement already satisfied: protobuf<3.20,>=3.9.2 in /opt/conda/lib/python3.8/site-packages (from tensorflow-gpu) (3.19.4)\n",
      "Requirement already satisfied: absl-py>=1.0.0 in /opt/conda/lib/python3.8/site-packages (from tensorflow-gpu) (1.1.0)\n",
      "Requirement already satisfied: gast<=0.4.0,>=0.2.1 in /opt/conda/lib/python3.8/site-packages (from tensorflow-gpu) (0.4.0)\n",
      "Requirement already satisfied: wheel<1.0,>=0.23.0 in /opt/conda/lib/python3.8/site-packages (from astunparse>=1.6.0->tensorflow-gpu) (0.37.1)\n",
      "Requirement already satisfied: requests<3,>=2.21.0 in /opt/conda/lib/python3.8/site-packages (from tensorboard<2.11,>=2.10->tensorflow-gpu) (2.27.1)\n",
      "Requirement already satisfied: google-auth-oauthlib<0.5,>=0.4.1 in /opt/conda/lib/python3.8/site-packages (from tensorboard<2.11,>=2.10->tensorflow-gpu) (0.4.6)\n",
      "Requirement already satisfied: werkzeug>=1.0.1 in /opt/conda/lib/python3.8/site-packages (from tensorboard<2.11,>=2.10->tensorflow-gpu) (2.1.2)\n",
      "Requirement already satisfied: google-auth<3,>=1.6.3 in /opt/conda/lib/python3.8/site-packages (from tensorboard<2.11,>=2.10->tensorflow-gpu) (2.7.0)\n",
      "Requirement already satisfied: tensorboard-plugin-wit>=1.6.0 in /opt/conda/lib/python3.8/site-packages (from tensorboard<2.11,>=2.10->tensorflow-gpu) (1.8.1)\n",
      "Requirement already satisfied: tensorboard-data-server<0.7.0,>=0.6.0 in /opt/conda/lib/python3.8/site-packages (from tensorboard<2.11,>=2.10->tensorflow-gpu) (0.6.1)\n",
      "Requirement already satisfied: markdown>=2.6.8 in /opt/conda/lib/python3.8/site-packages (from tensorboard<2.11,>=2.10->tensorflow-gpu) (3.3.7)\n",
      "Requirement already satisfied: rsa<5,>=3.1.4 in /opt/conda/lib/python3.8/site-packages (from google-auth<3,>=1.6.3->tensorboard<2.11,>=2.10->tensorflow-gpu) (4.8)\n",
      "Requirement already satisfied: cachetools<6.0,>=2.0.0 in /opt/conda/lib/python3.8/site-packages (from google-auth<3,>=1.6.3->tensorboard<2.11,>=2.10->tensorflow-gpu) (5.2.0)\n",
      "Requirement already satisfied: pyasn1-modules>=0.2.1 in /opt/conda/lib/python3.8/site-packages (from google-auth<3,>=1.6.3->tensorboard<2.11,>=2.10->tensorflow-gpu) (0.2.8)\n",
      "Requirement already satisfied: requests-oauthlib>=0.7.0 in /opt/conda/lib/python3.8/site-packages (from google-auth-oauthlib<0.5,>=0.4.1->tensorboard<2.11,>=2.10->tensorflow-gpu) (1.3.1)\n",
      "Requirement already satisfied: importlib-metadata>=4.4 in /opt/conda/lib/python3.8/site-packages (from markdown>=2.6.8->tensorboard<2.11,>=2.10->tensorflow-gpu) (4.11.4)\n",
      "Requirement already satisfied: zipp>=0.5 in /opt/conda/lib/python3.8/site-packages (from importlib-metadata>=4.4->markdown>=2.6.8->tensorboard<2.11,>=2.10->tensorflow-gpu) (3.8.0)\n",
      "Requirement already satisfied: pyasn1<0.5.0,>=0.4.6 in /opt/conda/lib/python3.8/site-packages (from pyasn1-modules>=0.2.1->google-auth<3,>=1.6.3->tensorboard<2.11,>=2.10->tensorflow-gpu) (0.4.8)\n",
      "Requirement already satisfied: idna<4,>=2.5 in /opt/conda/lib/python3.8/site-packages (from requests<3,>=2.21.0->tensorboard<2.11,>=2.10->tensorflow-gpu) (3.3)\n",
      "Requirement already satisfied: certifi>=2017.4.17 in /opt/conda/lib/python3.8/site-packages (from requests<3,>=2.21.0->tensorboard<2.11,>=2.10->tensorflow-gpu) (2022.5.18.1)\n",
      "Requirement already satisfied: charset-normalizer~=2.0.0 in /opt/conda/lib/python3.8/site-packages (from requests<3,>=2.21.0->tensorboard<2.11,>=2.10->tensorflow-gpu) (2.0.12)\n",
      "Requirement already satisfied: urllib3<1.27,>=1.21.1 in /opt/conda/lib/python3.8/site-packages (from requests<3,>=2.21.0->tensorboard<2.11,>=2.10->tensorflow-gpu) (1.26.9)\n",
      "Requirement already satisfied: oauthlib>=3.0.0 in /opt/conda/lib/python3.8/site-packages (from requests-oauthlib>=0.7.0->google-auth-oauthlib<0.5,>=0.4.1->tensorboard<2.11,>=2.10->tensorflow-gpu) (3.2.0)\n",
      "Requirement already satisfied: pyparsing!=3.0.5,>=2.0.2 in /opt/conda/lib/python3.8/site-packages (from packaging->tensorflow-gpu) (3.0.9)\n",
      "\u001b[33mWARNING: Running pip as the 'root' user can result in broken permissions and conflicting behaviour with the system package manager. It is recommended to use a virtual environment instead: https://pip.pypa.io/warnings/venv\u001b[0m\n"
     ]
    }
   ],
   "source": [
    "!pip install tensorflow-gpu"
   ]
  },
  {
   "cell_type": "code",
   "execution_count": 3,
   "id": "b5c4ab94",
   "metadata": {},
   "outputs": [
    {
     "name": "stderr",
     "output_type": "stream",
     "text": [
      "2022-10-31 14:19:18.336674: I tensorflow/core/platform/cpu_feature_guard.cc:193] This TensorFlow binary is optimized with oneAPI Deep Neural Network Library (oneDNN) to use the following CPU instructions in performance-critical operations:  AVX2 FMA\n",
      "To enable them in other operations, rebuild TensorFlow with the appropriate compiler flags.\n",
      "2022-10-31 14:19:18.502936: E tensorflow/stream_executor/cuda/cuda_blas.cc:2981] Unable to register cuBLAS factory: Attempting to register factory for plugin cuBLAS when one has already been registered\n",
      "2022-10-31 14:19:19.099549: W tensorflow/stream_executor/platform/default/dso_loader.cc:64] Could not load dynamic library 'libnvinfer.so.7'; dlerror: libnvinfer.so.7: cannot open shared object file: No such file or directory; LD_LIBRARY_PATH: /usr/local/cuda/compat/lib.real:/opt/conda/lib/python3.8/site-packages/torch/lib:/opt/conda/lib/python3.8/site-packages/torch_tensorrt/lib:/usr/local/cuda/compat/lib:/usr/local/nvidia/lib:/usr/local/nvidia/lib64\n",
      "2022-10-31 14:19:19.099628: W tensorflow/stream_executor/platform/default/dso_loader.cc:64] Could not load dynamic library 'libnvinfer_plugin.so.7'; dlerror: libnvinfer_plugin.so.7: cannot open shared object file: No such file or directory; LD_LIBRARY_PATH: /usr/local/cuda/compat/lib.real:/opt/conda/lib/python3.8/site-packages/torch/lib:/opt/conda/lib/python3.8/site-packages/torch_tensorrt/lib:/usr/local/cuda/compat/lib:/usr/local/nvidia/lib:/usr/local/nvidia/lib64\n",
      "2022-10-31 14:19:19.099634: W tensorflow/compiler/tf2tensorrt/utils/py_utils.cc:38] TF-TRT Warning: Cannot dlopen some TensorRT libraries. If you would like to use Nvidia GPU with TensorRT, please make sure the missing libraries mentioned above are installed properly.\n"
     ]
    },
    {
     "name": "stdout",
     "output_type": "stream",
     "text": [
      "['/device:CPU:0', '/device:GPU:0', '/device:GPU:1', '/device:GPU:2', '/device:GPU:3', '/device:GPU:4', '/device:GPU:5', '/device:GPU:6', '/device:GPU:7']\n"
     ]
    },
    {
     "name": "stderr",
     "output_type": "stream",
     "text": [
      "2022-10-31 14:19:20.009593: I tensorflow/core/platform/cpu_feature_guard.cc:193] This TensorFlow binary is optimized with oneAPI Deep Neural Network Library (oneDNN) to use the following CPU instructions in performance-critical operations:  AVX2 FMA\n",
      "To enable them in other operations, rebuild TensorFlow with the appropriate compiler flags.\n",
      "2022-10-31 14:19:23.985581: I tensorflow/core/common_runtime/gpu/gpu_device.cc:1616] Created device /device:GPU:0 with 35440 MB memory:  -> device: 0, name: A100-SXM4-40GB, pci bus id: 0000:07:00.0, compute capability: 8.0\n",
      "2022-10-31 14:19:23.987570: I tensorflow/core/common_runtime/gpu/gpu_device.cc:1616] Created device /device:GPU:1 with 35440 MB memory:  -> device: 1, name: A100-SXM4-40GB, pci bus id: 0000:0f:00.0, compute capability: 8.0\n",
      "2022-10-31 14:19:23.989268: I tensorflow/core/common_runtime/gpu/gpu_device.cc:1616] Created device /device:GPU:2 with 35440 MB memory:  -> device: 2, name: A100-SXM4-40GB, pci bus id: 0000:47:00.0, compute capability: 8.0\n",
      "2022-10-31 14:19:23.990957: I tensorflow/core/common_runtime/gpu/gpu_device.cc:1616] Created device /device:GPU:3 with 35440 MB memory:  -> device: 3, name: A100-SXM4-40GB, pci bus id: 0000:4e:00.0, compute capability: 8.0\n",
      "2022-10-31 14:19:23.992849: I tensorflow/core/common_runtime/gpu/gpu_device.cc:1616] Created device /device:GPU:4 with 35440 MB memory:  -> device: 4, name: A100-SXM4-40GB, pci bus id: 0000:87:00.0, compute capability: 8.0\n",
      "2022-10-31 14:19:23.994528: I tensorflow/core/common_runtime/gpu/gpu_device.cc:1616] Created device /device:GPU:5 with 35440 MB memory:  -> device: 5, name: A100-SXM4-40GB, pci bus id: 0000:90:00.0, compute capability: 8.0\n",
      "2022-10-31 14:19:23.996138: I tensorflow/core/common_runtime/gpu/gpu_device.cc:1616] Created device /device:GPU:6 with 35440 MB memory:  -> device: 6, name: A100-SXM4-40GB, pci bus id: 0000:b7:00.0, compute capability: 8.0\n",
      "2022-10-31 14:19:23.997796: I tensorflow/core/common_runtime/gpu/gpu_device.cc:1616] Created device /device:GPU:7 with 35440 MB memory:  -> device: 7, name: A100-SXM4-40GB, pci bus id: 0000:bd:00.0, compute capability: 8.0\n"
     ]
    }
   ],
   "source": [
    "from tensorflow.python.client import device_lib\n",
    "\n",
    "def get_available_devices():\n",
    "    local_device_protos = device_lib.list_local_devices()\n",
    "    return [x.name for x in local_device_protos]\n",
    "\n",
    "print(get_available_devices())"
   ]
  },
  {
   "cell_type": "code",
   "execution_count": 4,
   "id": "fddb2f69",
   "metadata": {},
   "outputs": [
    {
     "name": "stdout",
     "output_type": "stream",
     "text": [
      "Looking in indexes: https://pypi.org/simple, https://pypi.ngc.nvidia.com\n",
      "Requirement already satisfied: sentencepiece in /opt/conda/lib/python3.8/site-packages (0.1.97)\n",
      "\u001b[33mWARNING: Running pip as the 'root' user can result in broken permissions and conflicting behaviour with the system package manager. It is recommended to use a virtual environment instead: https://pip.pypa.io/warnings/venv\u001b[0m\n"
     ]
    }
   ],
   "source": [
    "!pip install sentencepiece"
   ]
  },
  {
   "cell_type": "code",
   "execution_count": 5,
   "id": "24ffbff0",
   "metadata": {},
   "outputs": [
    {
     "name": "stdout",
     "output_type": "stream",
     "text": [
      "Looking in indexes: https://pypi.org/simple, https://pypi.ngc.nvidia.com\n",
      "Requirement already satisfied: seaborn in /opt/conda/lib/python3.8/site-packages (0.12.1)\n",
      "Requirement already satisfied: matplotlib!=3.6.1,>=3.1 in /opt/conda/lib/python3.8/site-packages (from seaborn) (3.5.2)\n",
      "Requirement already satisfied: numpy>=1.17 in /opt/conda/lib/python3.8/site-packages (from seaborn) (1.22.4)\n",
      "Requirement already satisfied: pandas>=0.25 in /opt/conda/lib/python3.8/site-packages (from seaborn) (1.3.5)\n",
      "Requirement already satisfied: pillow>=6.2.0 in /opt/conda/lib/python3.8/site-packages (from matplotlib!=3.6.1,>=3.1->seaborn) (9.0.1)\n",
      "Requirement already satisfied: cycler>=0.10 in /opt/conda/lib/python3.8/site-packages (from matplotlib!=3.6.1,>=3.1->seaborn) (0.11.0)\n",
      "Requirement already satisfied: python-dateutil>=2.7 in /opt/conda/lib/python3.8/site-packages (from matplotlib!=3.6.1,>=3.1->seaborn) (2.8.2)\n",
      "Requirement already satisfied: kiwisolver>=1.0.1 in /opt/conda/lib/python3.8/site-packages (from matplotlib!=3.6.1,>=3.1->seaborn) (1.4.3)\n",
      "Requirement already satisfied: fonttools>=4.22.0 in /opt/conda/lib/python3.8/site-packages (from matplotlib!=3.6.1,>=3.1->seaborn) (4.33.3)\n",
      "Requirement already satisfied: packaging>=20.0 in /opt/conda/lib/python3.8/site-packages (from matplotlib!=3.6.1,>=3.1->seaborn) (21.3)\n",
      "Requirement already satisfied: pyparsing>=2.2.1 in /opt/conda/lib/python3.8/site-packages (from matplotlib!=3.6.1,>=3.1->seaborn) (3.0.9)\n",
      "Requirement already satisfied: pytz>=2017.3 in /opt/conda/lib/python3.8/site-packages (from pandas>=0.25->seaborn) (2022.1)\n",
      "Requirement already satisfied: six>=1.5 in /opt/conda/lib/python3.8/site-packages (from python-dateutil>=2.7->matplotlib!=3.6.1,>=3.1->seaborn) (1.16.0)\n",
      "\u001b[33mWARNING: Running pip as the 'root' user can result in broken permissions and conflicting behaviour with the system package manager. It is recommended to use a virtual environment instead: https://pip.pypa.io/warnings/venv\u001b[0m\n"
     ]
    }
   ],
   "source": [
    "!pip install seaborn"
   ]
  },
  {
   "cell_type": "code",
   "execution_count": 6,
   "id": "2b4b2696",
   "metadata": {},
   "outputs": [
    {
     "name": "stdout",
     "output_type": "stream",
     "text": [
      "Looking in indexes: https://pypi.org/simple, https://pypi.ngc.nvidia.com\n",
      "Requirement already satisfied: tqdm in /opt/conda/lib/python3.8/site-packages (4.64.0)\n",
      "\u001b[33mWARNING: Running pip as the 'root' user can result in broken permissions and conflicting behaviour with the system package manager. It is recommended to use a virtual environment instead: https://pip.pypa.io/warnings/venv\u001b[0m\n"
     ]
    }
   ],
   "source": [
    "!pip install tqdm"
   ]
  },
  {
   "cell_type": "code",
   "execution_count": 7,
   "id": "d8bb92e5",
   "metadata": {},
   "outputs": [],
   "source": [
    "import pandas as pd\n",
    "import numpy as np\n",
    "from transformers import pipeline\n",
    "from tqdm import tqdm\n",
    "from transformers import PegasusForConditionalGeneration, PegasusTokenizer\n",
    "import time\n",
    "from transformers import AdamW, AutoTokenizer, AutoModelForSequenceClassification\n",
    "from transformers import DataCollatorWithPadding\n",
    "from transformers import AutoTokenizer, AutoModelForSequenceClassification, TrainingArguments, Trainer"
   ]
  },
  {
   "cell_type": "code",
   "execution_count": 8,
   "id": "eee3bb20",
   "metadata": {},
   "outputs": [
    {
     "name": "stdout",
     "output_type": "stream",
     "text": [
      "Looking in indexes: https://pypi.org/simple, https://pypi.ngc.nvidia.com\n",
      "Requirement already satisfied: ipywidgets in /opt/conda/lib/python3.8/site-packages (8.0.2)\n",
      "Requirement already satisfied: ipykernel>=4.5.1 in /opt/conda/lib/python3.8/site-packages (from ipywidgets) (6.14.0)\n",
      "Requirement already satisfied: ipython>=6.1.0 in /opt/conda/lib/python3.8/site-packages (from ipywidgets) (8.4.0)\n",
      "Requirement already satisfied: traitlets>=4.3.1 in /opt/conda/lib/python3.8/site-packages (from ipywidgets) (5.2.2.post1)\n",
      "Requirement already satisfied: jupyterlab-widgets~=3.0 in /opt/conda/lib/python3.8/site-packages (from ipywidgets) (3.0.3)\n",
      "Requirement already satisfied: widgetsnbextension~=4.0 in /opt/conda/lib/python3.8/site-packages (from ipywidgets) (4.0.3)\n",
      "Requirement already satisfied: debugpy>=1.0 in /opt/conda/lib/python3.8/site-packages (from ipykernel>=4.5.1->ipywidgets) (1.6.0)\n",
      "Requirement already satisfied: nest-asyncio in /opt/conda/lib/python3.8/site-packages (from ipykernel>=4.5.1->ipywidgets) (1.5.5)\n",
      "Requirement already satisfied: psutil in /opt/conda/lib/python3.8/site-packages (from ipykernel>=4.5.1->ipywidgets) (5.9.1)\n",
      "Requirement already satisfied: tornado>=6.1 in /opt/conda/lib/python3.8/site-packages (from ipykernel>=4.5.1->ipywidgets) (6.1)\n",
      "Requirement already satisfied: packaging in /opt/conda/lib/python3.8/site-packages (from ipykernel>=4.5.1->ipywidgets) (21.3)\n",
      "Requirement already satisfied: matplotlib-inline>=0.1 in /opt/conda/lib/python3.8/site-packages (from ipykernel>=4.5.1->ipywidgets) (0.1.3)\n",
      "Requirement already satisfied: jupyter-client>=6.1.12 in /opt/conda/lib/python3.8/site-packages (from ipykernel>=4.5.1->ipywidgets) (7.3.4)\n",
      "Requirement already satisfied: setuptools>=18.5 in /opt/conda/lib/python3.8/site-packages (from ipython>=6.1.0->ipywidgets) (59.5.0)\n",
      "Requirement already satisfied: decorator in /opt/conda/lib/python3.8/site-packages (from ipython>=6.1.0->ipywidgets) (5.1.1)\n",
      "Requirement already satisfied: jedi>=0.16 in /opt/conda/lib/python3.8/site-packages (from ipython>=6.1.0->ipywidgets) (0.18.1)\n",
      "Requirement already satisfied: backcall in /opt/conda/lib/python3.8/site-packages (from ipython>=6.1.0->ipywidgets) (0.2.0)\n",
      "Requirement already satisfied: pickleshare in /opt/conda/lib/python3.8/site-packages (from ipython>=6.1.0->ipywidgets) (0.7.5)\n",
      "Requirement already satisfied: pygments>=2.4.0 in /opt/conda/lib/python3.8/site-packages (from ipython>=6.1.0->ipywidgets) (2.12.0)\n",
      "Requirement already satisfied: prompt-toolkit!=3.0.0,!=3.0.1,<3.1.0,>=2.0.0 in /opt/conda/lib/python3.8/site-packages (from ipython>=6.1.0->ipywidgets) (3.0.29)\n",
      "Requirement already satisfied: pexpect>4.3 in /opt/conda/lib/python3.8/site-packages (from ipython>=6.1.0->ipywidgets) (4.8.0)\n",
      "Requirement already satisfied: stack-data in /opt/conda/lib/python3.8/site-packages (from ipython>=6.1.0->ipywidgets) (0.2.0)\n",
      "Requirement already satisfied: parso<0.9.0,>=0.8.0 in /opt/conda/lib/python3.8/site-packages (from jedi>=0.16->ipython>=6.1.0->ipywidgets) (0.8.3)\n",
      "Requirement already satisfied: python-dateutil>=2.8.2 in /opt/conda/lib/python3.8/site-packages (from jupyter-client>=6.1.12->ipykernel>=4.5.1->ipywidgets) (2.8.2)\n",
      "Requirement already satisfied: entrypoints in /opt/conda/lib/python3.8/site-packages (from jupyter-client>=6.1.12->ipykernel>=4.5.1->ipywidgets) (0.4)\n",
      "Requirement already satisfied: jupyter-core>=4.9.2 in /opt/conda/lib/python3.8/site-packages (from jupyter-client>=6.1.12->ipykernel>=4.5.1->ipywidgets) (4.10.0)\n",
      "Requirement already satisfied: pyzmq>=23.0 in /opt/conda/lib/python3.8/site-packages (from jupyter-client>=6.1.12->ipykernel>=4.5.1->ipywidgets) (23.1.0)\n",
      "Requirement already satisfied: ptyprocess>=0.5 in /opt/conda/lib/python3.8/site-packages (from pexpect>4.3->ipython>=6.1.0->ipywidgets) (0.7.0)\n",
      "Requirement already satisfied: wcwidth in /opt/conda/lib/python3.8/site-packages (from prompt-toolkit!=3.0.0,!=3.0.1,<3.1.0,>=2.0.0->ipython>=6.1.0->ipywidgets) (0.2.5)\n",
      "Requirement already satisfied: six>=1.5 in /opt/conda/lib/python3.8/site-packages (from python-dateutil>=2.8.2->jupyter-client>=6.1.12->ipykernel>=4.5.1->ipywidgets) (1.16.0)\n",
      "Requirement already satisfied: pyparsing!=3.0.5,>=2.0.2 in /opt/conda/lib/python3.8/site-packages (from packaging->ipykernel>=4.5.1->ipywidgets) (3.0.9)\n",
      "Requirement already satisfied: asttokens in /opt/conda/lib/python3.8/site-packages (from stack-data->ipython>=6.1.0->ipywidgets) (2.0.5)\n",
      "Requirement already satisfied: pure-eval in /opt/conda/lib/python3.8/site-packages (from stack-data->ipython>=6.1.0->ipywidgets) (0.2.2)\n",
      "Requirement already satisfied: executing in /opt/conda/lib/python3.8/site-packages (from stack-data->ipython>=6.1.0->ipywidgets) (0.8.3)\n",
      "\u001b[33mWARNING: Running pip as the 'root' user can result in broken permissions and conflicting behaviour with the system package manager. It is recommended to use a virtual environment instead: https://pip.pypa.io/warnings/venv\u001b[0m\n"
     ]
    }
   ],
   "source": [
    "!pip install ipywidgets"
   ]
  },
  {
   "cell_type": "code",
   "execution_count": 9,
   "id": "c327adf8",
   "metadata": {},
   "outputs": [
    {
     "name": "stdout",
     "output_type": "stream",
     "text": [
      "Enabling notebook extension jupyter-js-widgets/extension...\n",
      "      - Validating: \u001b[32mOK\u001b[0m\n"
     ]
    }
   ],
   "source": [
    "!jupyter nbextension enable --py widgetsnbextension"
   ]
  },
  {
   "cell_type": "code",
   "execution_count": 10,
   "id": "195918e2",
   "metadata": {},
   "outputs": [],
   "source": [
    "import ast"
   ]
  },
  {
   "cell_type": "code",
   "execution_count": 11,
   "id": "0c4b0c50",
   "metadata": {},
   "outputs": [
    {
     "name": "stdout",
     "output_type": "stream",
     "text": [
      "/workspace/asurion_f22_muby\n"
     ]
    }
   ],
   "source": [
    "%cd .."
   ]
  },
  {
   "cell_type": "code",
   "execution_count": 12,
   "id": "10405167",
   "metadata": {},
   "outputs": [],
   "source": [
    "transcript = pd.read_csv(\"fe_data_v2/transcript_data_use/mock_.csv\") # replace mock_transcript.csv with transcript_chunked.csv\n",
    "transcript[\"encrypted_collated_transcription\"] = transcript[\"encrypted_collated_transcription\"].astype(str)"
   ]
  },
  {
   "cell_type": "code",
   "execution_count": 13,
   "id": "7e0a2a0a",
   "metadata": {},
   "outputs": [
    {
     "name": "stdout",
     "output_type": "stream",
     "text": [
      "<class 'pandas.core.frame.DataFrame'>\n",
      "RangeIndex: 1000 entries, 0 to 999\n",
      "Data columns (total 6 columns):\n",
      " #   Column                            Non-Null Count  Dtype \n",
      "---  ------                            --------------  ----- \n",
      " 0   id                                1000 non-null   object\n",
      " 1   sales_offer_date                  1000 non-null   object\n",
      " 2   accepted_flg                      1000 non-null   bool  \n",
      " 3   encrypted_collated_transcription  1000 non-null   object\n",
      " 4   month                             1000 non-null   object\n",
      " 5   chunked                           1000 non-null   object\n",
      "dtypes: bool(1), object(5)\n",
      "memory usage: 40.2+ KB\n"
     ]
    }
   ],
   "source": [
    "transcript.info()"
   ]
  },
  {
   "cell_type": "code",
   "execution_count": 14,
   "id": "eae448f7",
   "metadata": {},
   "outputs": [
    {
     "data": {
      "text/plain": [
       "[\"ok Thank for calling [ CLIENT ] Tech Hello? Hi. It's Christie Ferguson. Speaking. May I have your first and last name, please? Hi there, Christie. What's the phone number calling about? I'm calling about mobile, um, data use constantly anymore. Ok. Well, sorry here they have the issues with regards your Mobile data about, Christie. What's the phone number you're calling about? Seven [ NUMBER ] [ NUMBER ] [ NUMBER ] [ NUMBER ] [ NUMBER ] [ NUMBER ] [ NUMBER ] [ NUMBER ] seven Thank you so much. Ok. Let me just pull up your account here, Chris. so Could be able to run a network test and then uh later on let's make sure that all of the security pictures activated onto your account. So if could be able to maximize the uh, functionality see every phone. About the way Christie, uh, you mentioned and that you're having troubles when it comes to your cellular data Can you tell me since when it started happening? been going on and off for probably a couple weeks, but if it's not Probably. know, one thing it's another yeah it's been, the past month Um. Probably and I'm on four at all times and Mhmm. used to always be m [ DIGIT ] g and, uh, the service is just worse all the time so I'm I'm ready to Drop by T - mobile and switch companies today, but I thought i call one last time and ask it what the problem is cause you're sure not dropping your rates. Mhmm. you know, bad service. I don't know what happened, but it's it's definitely bad. And i've Yeah. had your service for years in this exact same area I'm a realtor, not acceptable. Yeah. We really appreciate your back when it comes to uh, the services that you're getting, but, yeah.\",\n",
       " \"Well, when it comes to the, options of getting you like, a different plan we'll, uh we can talk about, uh, I'm not after a different claim. I'm asked good uh, that later on with Bye bye. Yep. service I don't need a different plan. Right? I mean, I have the best of the best. I just need good service and I don't have it right now. Alrighty. Yeah Let me take a look what seems to be like the problem so that At least I could be able to explain to you. By the way, Chris, can you provide me your uh four digit account and so I could be able * Mhmm. pull up your account Ok. Thank you. Alright. There we go. It's that great figure here. It's so what I'm gonna do. I'm just gonna go ahead and run a network test and then we'll let you know what I could be able to see here. Alright? Does you've mentioned that has been kept Excuse. couple weeks already that you're having this issue. So, ok me take a look what seems to be like the problem. I just did this with somebody probably two weeks ago, but here I am again. So Mhmm. Mm. Um, back then, by the way, when the uh troubleshoot your issue you, um, Does it somehow at least improve the bit for it still the same? after you have talked to the technical support guy. seemed to be better you there at least I wasn't getting in intermittent. service all the time. Ok. And you are using this Correct. galaxy notes then Right? Ok. Hold on. I'm also Mm. Ok. getting ready to? upgrade my phone but that shouldn't be anything to do with what this is. I'm guessing that Pin? Yeah.\",\n",
       " \"Um cause, um, actually, I'm trying to run network test here in my end and then it appears should be I can see the indicator that your area is under network for management. So normally, during this time, um, there's a network upgrade supposedly around the area. that's affecting like the current connection they you have that's why you're having uh issues where the comes to cellular our data So most of the time your network management, uh, data might be temporarily slow but you mentioned that has been a couple of weeks already since, uh, has been happening right Right. Mkay. Let me take a look hold on. Alright. I'm gonna try to you to the network and then we're gonna retry it again. Are you calling from the phone right now that you're having issues with? Yes. It's seeing what phone I have. Hold on. I'll try to resend you to the network after the network test. that. I'm doing here will be done and then we're gonna access your network again. Alright? Ok. What about your phone calls and then your text messages Are you also having issues I have trouble the text today. It just kept saying failed, but that was Mm - mm. you know, one period of time right around the time the internet was not so great and Hmm. sent mini text since before and not a problem. Uh how's the all your quality of your phone call if you don't mind me asking? Fine. find as all. So sometimes text just fell as well. Thank you for giving me those information. I'm gonna document those onto the account I could be button and call on a ticket. is right now based on what i could see is that the, uh, places is still under their network management, and doesn't tell me like what will be like the estimated task from up until when this will be his, um, this is actually the affecting like the mobile data out your area.\",\n",
       " \"So let me just take a look because regardless how and it times to troubleshoot your phone, say, for example, we, uh, the network reset from your phone stuff from the settings as long as the arrow done they never manage but it is Happened considered like, uh, a bit uh, of a network upgraded around the area. Once the, uh, never stable around the area. being caused better network management well, then it will relieve like like, uh, some of your service system and mainly has something to do with regards or uh, mobile data. That's why your intent is seems to be slow. But, uh, what about this time, uh, let's try to hold on. Like one second here. I'll give me like two to three minutes and then we're gonna reach out to, uh, access the internet. Let's see if this time it will be like a little bit better. other than your phone, by the way, are you also using like, a different? or uh do you have like, other devices will that use at home? No. Ok. I see here you have been, uh, No. I'm not at home. offer about [ CLIENT ] home device protect last quick any particular reason you said no to this? Could that what? Uh, can see that you have been offered [ CLIENT ] of device protect last week. this one actually allows it to get the premium security. features they have onto your phone, which you currently have onto to your uh, protection plan. which is that the digital of Secure having [ CLIENT ] home device Uh, activated onto your account allows it's send lack like the premium feature which is identity theft And then, um, a Wifi protection plus you could be able to send level twenty four seven tech support extended to your other, uh home eligible devices such as your other, uh portable electronics. Did they mention anything about [ CLIENT ] Home device protect before to you last week when you called No. But I don't wanna do with that today. I'm just one thing at a time it's circulating to deal with any of it, so.\"]"
      ]
     },
     "execution_count": 14,
     "metadata": {},
     "output_type": "execute_result"
    }
   ],
   "source": [
    "list_of_sentence = transcript[\"chunked\"].map(ast.literal_eval)\n",
    "list_of_sentence[0]"
   ]
  },
  {
   "cell_type": "code",
   "execution_count": 15,
   "id": "97874168",
   "metadata": {},
   "outputs": [
    {
     "data": {
      "text/plain": [
       "[\"ok Thank for calling [ CLIENT ] Tech Hello? Hi. It's Christie Ferguson. Speaking. May I have your first and last name, please? Hi there, Christie. What's the phone number calling about? I'm calling about mobile, um, data use constantly anymore. Ok. Well, sorry here they have the issues with regards your Mobile data about, Christie. What's the phone number you're calling about? Seven [ NUMBER ] [ NUMBER ] [ NUMBER ] [ NUMBER ] [ NUMBER ] [ NUMBER ] [ NUMBER ] [ NUMBER ] seven Thank you so much. Ok. Let me just pull up your account here, Chris. so Could be able to run a network test and then uh later on let's make sure that all of the security pictures activated onto your account. So if could be able to maximize the uh, functionality see every phone. About the way Christie, uh, you mentioned and that you're having troubles when it comes to your cellular data Can you tell me since when it started happening? been going on and off for probably a couple weeks, but if it's not Probably. know, one thing it's another yeah it's been, the past month Um. Probably and I'm on four at all times and Mhmm. used to always be m [ DIGIT ] g and, uh, the service is just worse all the time so I'm I'm ready to Drop by T - mobile and switch companies today, but I thought i call one last time and ask it what the problem is cause you're sure not dropping your rates. Mhmm. you know, bad service. I don't know what happened, but it's it's definitely bad. And i've Yeah. had your service for years in this exact same area I'm a realtor, not acceptable. Yeah. We really appreciate your back when it comes to uh, the services that you're getting, but, yeah.\",\n",
       " \"Well, when it comes to the, options of getting you like, a different plan we'll, uh we can talk about, uh, I'm not after a different claim. I'm asked good uh, that later on with Bye bye. Yep. service I don't need a different plan. Right? I mean, I have the best of the best. I just need good service and I don't have it right now. Alrighty. Yeah Let me take a look what seems to be like the problem so that At least I could be able to explain to you. By the way, Chris, can you provide me your uh four digit account and so I could be able * Mhmm. pull up your account Ok. Thank you. Alright. There we go. It's that great figure here. It's so what I'm gonna do. I'm just gonna go ahead and run a network test and then we'll let you know what I could be able to see here. Alright? Does you've mentioned that has been kept Excuse. couple weeks already that you're having this issue. So, ok me take a look what seems to be like the problem. I just did this with somebody probably two weeks ago, but here I am again. So Mhmm. Mm. Um, back then, by the way, when the uh troubleshoot your issue you, um, Does it somehow at least improve the bit for it still the same? after you have talked to the technical support guy. seemed to be better you there at least I wasn't getting in intermittent. service all the time. Ok. And you are using this Correct. galaxy notes then Right? Ok. Hold on. I'm also Mm. Ok. getting ready to? upgrade my phone but that shouldn't be anything to do with what this is. I'm guessing that Pin? Yeah.\",\n",
       " \"Um cause, um, actually, I'm trying to run network test here in my end and then it appears should be I can see the indicator that your area is under network for management. So normally, during this time, um, there's a network upgrade supposedly around the area. that's affecting like the current connection they you have that's why you're having uh issues where the comes to cellular our data So most of the time your network management, uh, data might be temporarily slow but you mentioned that has been a couple of weeks already since, uh, has been happening right Right. Mkay. Let me take a look hold on. Alright. I'm gonna try to you to the network and then we're gonna retry it again. Are you calling from the phone right now that you're having issues with? Yes. It's seeing what phone I have. Hold on. I'll try to resend you to the network after the network test. that. I'm doing here will be done and then we're gonna access your network again. Alright? Ok. What about your phone calls and then your text messages Are you also having issues I have trouble the text today. It just kept saying failed, but that was Mm - mm. you know, one period of time right around the time the internet was not so great and Hmm. sent mini text since before and not a problem. Uh how's the all your quality of your phone call if you don't mind me asking? Fine. find as all. So sometimes text just fell as well. Thank you for giving me those information. I'm gonna document those onto the account I could be button and call on a ticket. is right now based on what i could see is that the, uh, places is still under their network management, and doesn't tell me like what will be like the estimated task from up until when this will be his, um, this is actually the affecting like the mobile data out your area.\",\n",
       " \"So let me just take a look because regardless how and it times to troubleshoot your phone, say, for example, we, uh, the network reset from your phone stuff from the settings as long as the arrow done they never manage but it is Happened considered like, uh, a bit uh, of a network upgraded around the area. Once the, uh, never stable around the area. being caused better network management well, then it will relieve like like, uh, some of your service system and mainly has something to do with regards or uh, mobile data. That's why your intent is seems to be slow. But, uh, what about this time, uh, let's try to hold on. Like one second here. I'll give me like two to three minutes and then we're gonna reach out to, uh, access the internet. Let's see if this time it will be like a little bit better. other than your phone, by the way, are you also using like, a different? or uh do you have like, other devices will that use at home? No. Ok. I see here you have been, uh, No. I'm not at home. offer about [ CLIENT ] home device protect last quick any particular reason you said no to this? Could that what? Uh, can see that you have been offered [ CLIENT ] of device protect last week. this one actually allows it to get the premium security. features they have onto your phone, which you currently have onto to your uh, protection plan. which is that the digital of Secure having [ CLIENT ] home device Uh, activated onto your account allows it's send lack like the premium feature which is identity theft And then, um, a Wifi protection plus you could be able to send level twenty four seven tech support extended to your other, uh home eligible devices such as your other, uh portable electronics. Did they mention anything about [ CLIENT ] Home device protect before to you last week when you called No. But I don't wanna do with that today. I'm just one thing at a time it's circulating to deal with any of it, so.\"]"
      ]
     },
     "execution_count": 15,
     "metadata": {},
     "output_type": "execute_result"
    }
   ],
   "source": [
    "transcript[\"chunked\"] = transcript[\"chunked\"].map(ast.literal_eval)\n",
    "transcript[\"chunked\"][0]"
   ]
  },
  {
   "cell_type": "code",
   "execution_count": 16,
   "id": "91f33fa3",
   "metadata": {},
   "outputs": [
    {
     "name": "stderr",
     "output_type": "stream",
     "text": [
      "100%|█████████████████████████████████████████████████████████████████████████████| 1000/1000 [00:00<00:00, 5508.50it/s]\n"
     ]
    },
    {
     "data": {
      "text/html": [
       "<div>\n",
       "<style scoped>\n",
       "    .dataframe tbody tr th:only-of-type {\n",
       "        vertical-align: middle;\n",
       "    }\n",
       "\n",
       "    .dataframe tbody tr th {\n",
       "        vertical-align: top;\n",
       "    }\n",
       "\n",
       "    .dataframe thead th {\n",
       "        text-align: right;\n",
       "    }\n",
       "</style>\n",
       "<table border=\"1\" class=\"dataframe\">\n",
       "  <thead>\n",
       "    <tr style=\"text-align: right;\">\n",
       "      <th></th>\n",
       "      <th>id</th>\n",
       "      <th>sales_offer_date</th>\n",
       "      <th>accepted_flg</th>\n",
       "      <th>encrypted_collated_transcription</th>\n",
       "      <th>month</th>\n",
       "      <th>chunked</th>\n",
       "      <th>chunk_length</th>\n",
       "    </tr>\n",
       "  </thead>\n",
       "  <tbody>\n",
       "    <tr>\n",
       "      <th>0</th>\n",
       "      <td>e5e4ee3c3c0e9ac72561334e6eb23cc233b1bcd0a0063d...</td>\n",
       "      <td>2022-03-26</td>\n",
       "      <td>False</td>\n",
       "      <td>ok Thank for calling [CLIENT] Tech Hello? Hi. ...</td>\n",
       "      <td>march</td>\n",
       "      <td>[ok Thank for calling [ CLIENT ] Tech Hello? H...</td>\n",
       "      <td>4.0</td>\n",
       "    </tr>\n",
       "    <tr>\n",
       "      <th>1</th>\n",
       "      <td>ae6128d8d240d28edbcb7eb27256780cf662a2be1aec8c...</td>\n",
       "      <td>2022-03-02</td>\n",
       "      <td>False</td>\n",
       "      <td>on on Oh, My name is [NAME]. May I please have...</td>\n",
       "      <td>march</td>\n",
       "      <td>[on on Oh, My name is [ NAME ]. May I please h...</td>\n",
       "      <td>4.0</td>\n",
       "    </tr>\n",
       "    <tr>\n",
       "      <th>2</th>\n",
       "      <td>4899f9acdb70b0246b2d0ac2871dbcea8267e57b060154...</td>\n",
       "      <td>2022-03-12</td>\n",
       "      <td>False</td>\n",
       "      <td>Hello. We for calling [CLIENT] Tech Coach. My ...</td>\n",
       "      <td>march</td>\n",
       "      <td>[Hello. We for calling [ CLIENT ] Tech Coach. ...</td>\n",
       "      <td>2.0</td>\n",
       "    </tr>\n",
       "    <tr>\n",
       "      <th>3</th>\n",
       "      <td>0589751e11caac0eac815faf84f1a366d70b86b78324a2...</td>\n",
       "      <td>2022-03-20</td>\n",
       "      <td>False</td>\n",
       "      <td>Hello. Thank you so much for contacting [CLIEN...</td>\n",
       "      <td>march</td>\n",
       "      <td>[Hello. Thank you so much for contacting [ CLI...</td>\n",
       "      <td>4.0</td>\n",
       "    </tr>\n",
       "    <tr>\n",
       "      <th>4</th>\n",
       "      <td>6c4790cb02e4f556d73436f79268d5c99de50a9acec40e...</td>\n",
       "      <td>2022-03-15</td>\n",
       "      <td>False</td>\n",
       "      <td>Thank you very much Hello? can I can you hear ...</td>\n",
       "      <td>march</td>\n",
       "      <td>[Thank you very much Hello? can I can you hear...</td>\n",
       "      <td>5.0</td>\n",
       "    </tr>\n",
       "  </tbody>\n",
       "</table>\n",
       "</div>"
      ],
      "text/plain": [
       "                                                  id sales_offer_date  \\\n",
       "0  e5e4ee3c3c0e9ac72561334e6eb23cc233b1bcd0a0063d...       2022-03-26   \n",
       "1  ae6128d8d240d28edbcb7eb27256780cf662a2be1aec8c...       2022-03-02   \n",
       "2  4899f9acdb70b0246b2d0ac2871dbcea8267e57b060154...       2022-03-12   \n",
       "3  0589751e11caac0eac815faf84f1a366d70b86b78324a2...       2022-03-20   \n",
       "4  6c4790cb02e4f556d73436f79268d5c99de50a9acec40e...       2022-03-15   \n",
       "\n",
       "   accepted_flg                   encrypted_collated_transcription  month  \\\n",
       "0         False  ok Thank for calling [CLIENT] Tech Hello? Hi. ...  march   \n",
       "1         False  on on Oh, My name is [NAME]. May I please have...  march   \n",
       "2         False  Hello. We for calling [CLIENT] Tech Coach. My ...  march   \n",
       "3         False  Hello. Thank you so much for contacting [CLIEN...  march   \n",
       "4         False  Thank you very much Hello? can I can you hear ...  march   \n",
       "\n",
       "                                             chunked  chunk_length  \n",
       "0  [ok Thank for calling [ CLIENT ] Tech Hello? H...           4.0  \n",
       "1  [on on Oh, My name is [ NAME ]. May I please h...           4.0  \n",
       "2  [Hello. We for calling [ CLIENT ] Tech Coach. ...           2.0  \n",
       "3  [Hello. Thank you so much for contacting [ CLI...           4.0  \n",
       "4  [Thank you very much Hello? can I can you hear...           5.0  "
      ]
     },
     "execution_count": 16,
     "metadata": {},
     "output_type": "execute_result"
    }
   ],
   "source": [
    "for i in tqdm(range(len(transcript))):\n",
    "    transcript.loc[i,\"chunk_length\"] = len(transcript.loc[i,\"chunked\"])\n",
    "transcript.head()"
   ]
  },
  {
   "cell_type": "code",
   "execution_count": 17,
   "id": "2943671a",
   "metadata": {},
   "outputs": [],
   "source": [
    "transcript[\"chunk_length\"] = transcript[\"chunk_length\"].astype(int)"
   ]
  },
  {
   "cell_type": "code",
   "execution_count": 18,
   "id": "9861a6ba",
   "metadata": {},
   "outputs": [],
   "source": [
    "#pipe = pipeline(\"summarization\", model=\"facebook/bart-large-cnn\", device = 3\n",
    "#from transformers import AutoModelForSeq2SeqLM\n",
    "#max_memory_mapping = {0: \"8GB\", 1: \"8GB\"}\n",
    "#model = AutoModelForSeq2SeqLM.from_pretrained(\"facebook/bart-large-cnn\", device_map=\"auto\", load_in_8bit=True, max_memory=max_memory_mapping)"
   ]
  },
  {
   "cell_type": "code",
   "execution_count": 19,
   "id": "92007baa",
   "metadata": {},
   "outputs": [
    {
     "data": {
      "application/json": {
       "ascii": false,
       "bar_format": null,
       "colour": null,
       "elapsed": 0.014334440231323242,
       "initial": 0,
       "n": 0,
       "ncols": null,
       "nrows": 30,
       "postfix": null,
       "prefix": "Downloading",
       "rate": null,
       "total": 1585,
       "unit": "B",
       "unit_divisor": 1000,
       "unit_scale": true
      },
      "application/vnd.jupyter.widget-view+json": {
       "model_id": "6ad7de26c43c49d791f97e7e93c271df",
       "version_major": 2,
       "version_minor": 0
      },
      "text/plain": [
       "Downloading:   0%|          | 0.00/1.58k [00:00<?, ?B/s]"
      ]
     },
     "metadata": {},
     "output_type": "display_data"
    },
    {
     "data": {
      "application/json": {
       "ascii": false,
       "bar_format": null,
       "colour": null,
       "elapsed": 0.01365041732788086,
       "initial": 0,
       "n": 0,
       "ncols": null,
       "nrows": 30,
       "postfix": null,
       "prefix": "Downloading",
       "rate": null,
       "total": 1625270765,
       "unit": "B",
       "unit_divisor": 1000,
       "unit_scale": true
      },
      "application/vnd.jupyter.widget-view+json": {
       "model_id": "8f32078173c74c9483b4a80b81a0d090",
       "version_major": 2,
       "version_minor": 0
      },
      "text/plain": [
       "Downloading:   0%|          | 0.00/1.63G [00:00<?, ?B/s]"
      ]
     },
     "metadata": {},
     "output_type": "display_data"
    },
    {
     "data": {
      "application/json": {
       "ascii": false,
       "bar_format": null,
       "colour": null,
       "elapsed": 0.017698049545288086,
       "initial": 0,
       "n": 0,
       "ncols": null,
       "nrows": 30,
       "postfix": null,
       "prefix": "Downloading",
       "rate": null,
       "total": 898823,
       "unit": "B",
       "unit_divisor": 1000,
       "unit_scale": true
      },
      "application/vnd.jupyter.widget-view+json": {
       "model_id": "455673dd22cb4d8486a09d3b1d1c5ad6",
       "version_major": 2,
       "version_minor": 0
      },
      "text/plain": [
       "Downloading:   0%|          | 0.00/899k [00:00<?, ?B/s]"
      ]
     },
     "metadata": {},
     "output_type": "display_data"
    },
    {
     "data": {
      "application/json": {
       "ascii": false,
       "bar_format": null,
       "colour": null,
       "elapsed": 0.015974044799804688,
       "initial": 0,
       "n": 0,
       "ncols": null,
       "nrows": 30,
       "postfix": null,
       "prefix": "Downloading",
       "rate": null,
       "total": 456318,
       "unit": "B",
       "unit_divisor": 1000,
       "unit_scale": true
      },
      "application/vnd.jupyter.widget-view+json": {
       "model_id": "430c851c1a944218b2108f44ebebba80",
       "version_major": 2,
       "version_minor": 0
      },
      "text/plain": [
       "Downloading:   0%|          | 0.00/456k [00:00<?, ?B/s]"
      ]
     },
     "metadata": {},
     "output_type": "display_data"
    },
    {
     "data": {
      "application/json": {
       "ascii": false,
       "bar_format": null,
       "colour": null,
       "elapsed": 0.013396263122558594,
       "initial": 0,
       "n": 0,
       "ncols": null,
       "nrows": 30,
       "postfix": null,
       "prefix": "Downloading",
       "rate": null,
       "total": 1355863,
       "unit": "B",
       "unit_divisor": 1000,
       "unit_scale": true
      },
      "application/vnd.jupyter.widget-view+json": {
       "model_id": "e34e6f511fc94142b4b20c68befe80b0",
       "version_major": 2,
       "version_minor": 0
      },
      "text/plain": [
       "Downloading:   0%|          | 0.00/1.36M [00:00<?, ?B/s]"
      ]
     },
     "metadata": {},
     "output_type": "display_data"
    }
   ],
   "source": [
    "pipe = pipeline(\"summarization\", model=\"facebook/bart-large-cnn\", device = 3, framework = \"pt\", num_workers = 16)\n",
    "#pipe = pipeline(\"summarization\", model=\"t5-base\", tokenizer=\"t5-base\", framework=\"tf\", device = 2)"
   ]
  },
  {
   "cell_type": "code",
   "execution_count": 20,
   "id": "d5554c6c",
   "metadata": {},
   "outputs": [
    {
     "data": {
      "text/plain": [
       "5706"
      ]
     },
     "execution_count": 20,
     "metadata": {},
     "output_type": "execute_result"
    }
   ],
   "source": [
    "new_list = []\n",
    "for i in range(len(list_of_sentence)):\n",
    "    new_list.extend(list_of_sentence[i])\n",
    "len(new_list)"
   ]
  },
  {
   "cell_type": "code",
   "execution_count": 21,
   "id": "22ef8441",
   "metadata": {},
   "outputs": [],
   "source": [
    "#pipe_list = []\n",
    "#for i in tqdm(range(len(list_of_sentence))):\n",
    "#    pipe_out = pipe(list_of_sentence[i], batch_size = 256)\n",
    "#    pipe_list.append(pipe_out)\n",
    "#len(pipe_list)"
   ]
  },
  {
   "cell_type": "code",
   "execution_count": null,
   "id": "1a6b9ae2",
   "metadata": {},
   "outputs": [],
   "source": [
    "start=time.time()\n",
    "pipe_list = []\n",
    "n = len(new_list)\n",
    "for out in tqdm(pipe(new_list, batch_size = 64), total=n):\n",
    "    pipe_list.append(out)"
   ]
  },
  {
   "cell_type": "code",
   "execution_count": null,
   "id": "de835a72",
   "metadata": {},
   "outputs": [],
   "source": [
    "print(round(time.time()-start, 2), 'seconds')"
   ]
  },
  {
   "cell_type": "code",
   "execution_count": null,
   "id": "a3af90e4",
   "metadata": {},
   "outputs": [],
   "source": [
    "len(pipe_list)"
   ]
  },
  {
   "cell_type": "code",
   "execution_count": null,
   "id": "1e8f7899",
   "metadata": {},
   "outputs": [],
   "source": [
    "length = list(transcript[\"chunk_length\"])"
   ]
  },
  {
   "cell_type": "code",
   "execution_count": null,
   "id": "84c8e6c2",
   "metadata": {},
   "outputs": [],
   "source": [
    "list_of_summary = []\n",
    "num_init = 0\n",
    "num_final = 0\n",
    "for i in range(len(length)):\n",
    "    num_init = num_final\n",
    "    num_final = num_init + int(length[i])\n",
    "    list_of_summary.append(pipe_list[num_init:num_final])"
   ]
  },
  {
   "cell_type": "code",
   "execution_count": null,
   "id": "8ffe66c8",
   "metadata": {},
   "outputs": [],
   "source": [
    "#tqdm.pandas()\n",
    "#pipe_list = transcript[\"chunked\"].progress_apply(lambda x: pipe(x, batch_size = 2048))"
   ]
  },
  {
   "cell_type": "code",
   "execution_count": null,
   "id": "b066c4ee",
   "metadata": {},
   "outputs": [],
   "source": [
    "final_list = []\n",
    "for i in tqdm(range(len(list_of_summary))):\n",
    "    sentence_list = []\n",
    "    pipe_num = list_of_summary[i]\n",
    "    for j in range(len(pipe_num)):\n",
    "        sentence_list.append(pipe_num[j][\"summary_text\"])\n",
    "    final_list.append(sentence_list)"
   ]
  },
  {
   "cell_type": "code",
   "execution_count": null,
   "id": "0acdc286",
   "metadata": {},
   "outputs": [],
   "source": [
    "def concatenate_sentence(chunked_list):\n",
    "    summary = \"\"\n",
    "    for i in range(len(chunked_list)):\n",
    "        summary += chunked_list[i]\n",
    "    return summary"
   ]
  },
  {
   "cell_type": "code",
   "execution_count": null,
   "id": "9209f91e",
   "metadata": {},
   "outputs": [],
   "source": [
    "summary_lists = []\n",
    "for i in tqdm(range(len(final_list))):\n",
    "    summary_lists.append(concatenate_sentence(final_list[i]))"
   ]
  },
  {
   "cell_type": "code",
   "execution_count": null,
   "id": "82677d7a",
   "metadata": {},
   "outputs": [],
   "source": [
    "transcript[\"summary\"] = summary_lists"
   ]
  },
  {
   "cell_type": "code",
   "execution_count": null,
   "id": "328f4647",
   "metadata": {},
   "outputs": [],
   "source": [
    "string = transcript[\"summary\"][999]\n",
    "print(string)"
   ]
  },
  {
   "cell_type": "code",
   "execution_count": null,
   "id": "f9186ec6",
   "metadata": {},
   "outputs": [],
   "source": [
    "transcript.to_csv(\"fe_data_v2/transcript_data_use/mock_transcript_summary.csv\", index = False) \n",
    "# I used transcript_data_use/ as the directory for storing my files. You can create a new folder with a naming of your choice\n",
    "# And I used mock_transcript_summary.csv as my file name. You can use a nomenclature suitable for parallelizing like data 1, data 2 ...\n",
    "# since you will be breaking the data into chunks for different notebooks."
   ]
  },
  {
   "cell_type": "code",
   "execution_count": null,
   "id": "f19664e8",
   "metadata": {},
   "outputs": [],
   "source": []
  }
 ],
 "metadata": {
  "kernelspec": {
   "display_name": "Python 3 (ipykernel)",
   "language": "python",
   "name": "python3"
  },
  "language_info": {
   "codemirror_mode": {
    "name": "ipython",
    "version": 3
   },
   "file_extension": ".py",
   "mimetype": "text/x-python",
   "name": "python",
   "nbconvert_exporter": "python",
   "pygments_lexer": "ipython3",
   "version": "3.8.13"
  }
 },
 "nbformat": 4,
 "nbformat_minor": 5
}
