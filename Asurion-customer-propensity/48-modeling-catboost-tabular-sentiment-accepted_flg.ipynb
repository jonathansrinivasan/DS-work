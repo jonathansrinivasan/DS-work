{
 "cells": [
  {
   "cell_type": "markdown",
   "id": "e1660d2d",
   "metadata": {},
   "source": [
    "Catboost - tabular - sentiment"
   ]
  },
  {
   "cell_type": "code",
   "execution_count": 1,
   "id": "f3741108",
   "metadata": {},
   "outputs": [
    {
     "name": "stdout",
     "output_type": "stream",
     "text": [
      "Looking in indexes: https://pypi.org/simple, https://pypi.ngc.nvidia.com\n",
      "Requirement already satisfied: tensorflow in /opt/conda/lib/python3.8/site-packages (2.10.0)\n",
      "Requirement already satisfied: packaging in /opt/conda/lib/python3.8/site-packages (from tensorflow) (21.3)\n",
      "Requirement already satisfied: six>=1.12.0 in /opt/conda/lib/python3.8/site-packages (from tensorflow) (1.16.0)\n",
      "Requirement already satisfied: tensorflow-estimator<2.11,>=2.10.0 in /opt/conda/lib/python3.8/site-packages (from tensorflow) (2.10.0)\n",
      "Requirement already satisfied: keras<2.11,>=2.10.0 in /opt/conda/lib/python3.8/site-packages (from tensorflow) (2.10.0)\n",
      "Requirement already satisfied: flatbuffers>=2.0 in /opt/conda/lib/python3.8/site-packages (from tensorflow) (22.10.26)\n",
      "Requirement already satisfied: keras-preprocessing>=1.1.1 in /opt/conda/lib/python3.8/site-packages (from tensorflow) (1.1.2)\n",
      "Requirement already satisfied: grpcio<2.0,>=1.24.3 in /opt/conda/lib/python3.8/site-packages (from tensorflow) (1.46.3)\n",
      "Requirement already satisfied: libclang>=13.0.0 in /opt/conda/lib/python3.8/site-packages (from tensorflow) (14.0.6)\n",
      "Requirement already satisfied: numpy>=1.20 in /opt/conda/lib/python3.8/site-packages (from tensorflow) (1.22.4)\n",
      "Requirement already satisfied: google-pasta>=0.1.1 in /opt/conda/lib/python3.8/site-packages (from tensorflow) (0.2.0)\n",
      "Requirement already satisfied: protobuf<3.20,>=3.9.2 in /opt/conda/lib/python3.8/site-packages (from tensorflow) (3.19.4)\n",
      "Requirement already satisfied: wrapt>=1.11.0 in /opt/conda/lib/python3.8/site-packages (from tensorflow) (1.14.1)\n",
      "Requirement already satisfied: setuptools in /opt/conda/lib/python3.8/site-packages (from tensorflow) (59.5.0)\n",
      "Requirement already satisfied: tensorflow-io-gcs-filesystem>=0.23.1 in /opt/conda/lib/python3.8/site-packages (from tensorflow) (0.27.0)\n",
      "Requirement already satisfied: gast<=0.4.0,>=0.2.1 in /opt/conda/lib/python3.8/site-packages (from tensorflow) (0.4.0)\n",
      "Requirement already satisfied: absl-py>=1.0.0 in /opt/conda/lib/python3.8/site-packages (from tensorflow) (1.1.0)\n",
      "Requirement already satisfied: opt-einsum>=2.3.2 in /opt/conda/lib/python3.8/site-packages (from tensorflow) (3.3.0)\n",
      "Requirement already satisfied: h5py>=2.9.0 in /opt/conda/lib/python3.8/site-packages (from tensorflow) (3.7.0)\n",
      "Requirement already satisfied: termcolor>=1.1.0 in /opt/conda/lib/python3.8/site-packages (from tensorflow) (2.1.0)\n",
      "Requirement already satisfied: tensorboard<2.11,>=2.10 in /opt/conda/lib/python3.8/site-packages (from tensorflow) (2.10.1)\n",
      "Requirement already satisfied: astunparse>=1.6.0 in /opt/conda/lib/python3.8/site-packages (from tensorflow) (1.6.3)\n",
      "Requirement already satisfied: typing-extensions>=3.6.6 in /opt/conda/lib/python3.8/site-packages (from tensorflow) (4.2.0)\n",
      "Requirement already satisfied: wheel<1.0,>=0.23.0 in /opt/conda/lib/python3.8/site-packages (from astunparse>=1.6.0->tensorflow) (0.37.1)\n",
      "Requirement already satisfied: requests<3,>=2.21.0 in /opt/conda/lib/python3.8/site-packages (from tensorboard<2.11,>=2.10->tensorflow) (2.27.1)\n",
      "Requirement already satisfied: google-auth<3,>=1.6.3 in /opt/conda/lib/python3.8/site-packages (from tensorboard<2.11,>=2.10->tensorflow) (2.7.0)\n",
      "Requirement already satisfied: werkzeug>=1.0.1 in /opt/conda/lib/python3.8/site-packages (from tensorboard<2.11,>=2.10->tensorflow) (2.1.2)\n",
      "Requirement already satisfied: markdown>=2.6.8 in /opt/conda/lib/python3.8/site-packages (from tensorboard<2.11,>=2.10->tensorflow) (3.3.7)\n",
      "Requirement already satisfied: tensorboard-plugin-wit>=1.6.0 in /opt/conda/lib/python3.8/site-packages (from tensorboard<2.11,>=2.10->tensorflow) (1.8.1)\n",
      "Requirement already satisfied: tensorboard-data-server<0.7.0,>=0.6.0 in /opt/conda/lib/python3.8/site-packages (from tensorboard<2.11,>=2.10->tensorflow) (0.6.1)\n",
      "Requirement already satisfied: google-auth-oauthlib<0.5,>=0.4.1 in /opt/conda/lib/python3.8/site-packages (from tensorboard<2.11,>=2.10->tensorflow) (0.4.6)\n",
      "Requirement already satisfied: rsa<5,>=3.1.4 in /opt/conda/lib/python3.8/site-packages (from google-auth<3,>=1.6.3->tensorboard<2.11,>=2.10->tensorflow) (4.8)\n",
      "Requirement already satisfied: cachetools<6.0,>=2.0.0 in /opt/conda/lib/python3.8/site-packages (from google-auth<3,>=1.6.3->tensorboard<2.11,>=2.10->tensorflow) (5.2.0)\n",
      "Requirement already satisfied: pyasn1-modules>=0.2.1 in /opt/conda/lib/python3.8/site-packages (from google-auth<3,>=1.6.3->tensorboard<2.11,>=2.10->tensorflow) (0.2.8)\n",
      "Requirement already satisfied: requests-oauthlib>=0.7.0 in /opt/conda/lib/python3.8/site-packages (from google-auth-oauthlib<0.5,>=0.4.1->tensorboard<2.11,>=2.10->tensorflow) (1.3.1)\n",
      "Requirement already satisfied: importlib-metadata>=4.4 in /opt/conda/lib/python3.8/site-packages (from markdown>=2.6.8->tensorboard<2.11,>=2.10->tensorflow) (4.11.4)\n",
      "Requirement already satisfied: zipp>=0.5 in /opt/conda/lib/python3.8/site-packages (from importlib-metadata>=4.4->markdown>=2.6.8->tensorboard<2.11,>=2.10->tensorflow) (3.8.0)\n",
      "Requirement already satisfied: pyasn1<0.5.0,>=0.4.6 in /opt/conda/lib/python3.8/site-packages (from pyasn1-modules>=0.2.1->google-auth<3,>=1.6.3->tensorboard<2.11,>=2.10->tensorflow) (0.4.8)\n",
      "Requirement already satisfied: certifi>=2017.4.17 in /opt/conda/lib/python3.8/site-packages (from requests<3,>=2.21.0->tensorboard<2.11,>=2.10->tensorflow) (2022.5.18.1)\n",
      "Requirement already satisfied: idna<4,>=2.5 in /opt/conda/lib/python3.8/site-packages (from requests<3,>=2.21.0->tensorboard<2.11,>=2.10->tensorflow) (3.3)\n",
      "Requirement already satisfied: urllib3<1.27,>=1.21.1 in /opt/conda/lib/python3.8/site-packages (from requests<3,>=2.21.0->tensorboard<2.11,>=2.10->tensorflow) (1.26.9)\n",
      "Requirement already satisfied: charset-normalizer~=2.0.0 in /opt/conda/lib/python3.8/site-packages (from requests<3,>=2.21.0->tensorboard<2.11,>=2.10->tensorflow) (2.0.12)\n",
      "Requirement already satisfied: oauthlib>=3.0.0 in /opt/conda/lib/python3.8/site-packages (from requests-oauthlib>=0.7.0->google-auth-oauthlib<0.5,>=0.4.1->tensorboard<2.11,>=2.10->tensorflow) (3.2.0)\n",
      "Requirement already satisfied: pyparsing!=3.0.5,>=2.0.2 in /opt/conda/lib/python3.8/site-packages (from packaging->tensorflow) (3.0.9)\n",
      "\u001b[33mWARNING: Running pip as the 'root' user can result in broken permissions and conflicting behaviour with the system package manager. It is recommended to use a virtual environment instead: https://pip.pypa.io/warnings/venv\u001b[0m\n"
     ]
    }
   ],
   "source": [
    "!pip install tensorflow"
   ]
  },
  {
   "cell_type": "code",
   "execution_count": 2,
   "id": "ad9a2891",
   "metadata": {},
   "outputs": [
    {
     "name": "stderr",
     "output_type": "stream",
     "text": [
      "2022-11-10 04:08:17.234784: I tensorflow/core/platform/cpu_feature_guard.cc:193] This TensorFlow binary is optimized with oneAPI Deep Neural Network Library (oneDNN) to use the following CPU instructions in performance-critical operations:  AVX2 FMA\n",
      "To enable them in other operations, rebuild TensorFlow with the appropriate compiler flags.\n",
      "2022-11-10 04:08:17.433326: E tensorflow/stream_executor/cuda/cuda_blas.cc:2981] Unable to register cuBLAS factory: Attempting to register factory for plugin cuBLAS when one has already been registered\n",
      "2022-11-10 04:08:18.081409: W tensorflow/stream_executor/platform/default/dso_loader.cc:64] Could not load dynamic library 'libnvinfer.so.7'; dlerror: libnvinfer.so.7: cannot open shared object file: No such file or directory; LD_LIBRARY_PATH: /usr/local/cuda/compat/lib.real:/opt/conda/lib/python3.8/site-packages/torch/lib:/opt/conda/lib/python3.8/site-packages/torch_tensorrt/lib:/usr/local/cuda/compat/lib:/usr/local/nvidia/lib:/usr/local/nvidia/lib64\n",
      "2022-11-10 04:08:18.081492: W tensorflow/stream_executor/platform/default/dso_loader.cc:64] Could not load dynamic library 'libnvinfer_plugin.so.7'; dlerror: libnvinfer_plugin.so.7: cannot open shared object file: No such file or directory; LD_LIBRARY_PATH: /usr/local/cuda/compat/lib.real:/opt/conda/lib/python3.8/site-packages/torch/lib:/opt/conda/lib/python3.8/site-packages/torch_tensorrt/lib:/usr/local/cuda/compat/lib:/usr/local/nvidia/lib:/usr/local/nvidia/lib64\n",
      "2022-11-10 04:08:18.081498: W tensorflow/compiler/tf2tensorrt/utils/py_utils.cc:38] TF-TRT Warning: Cannot dlopen some TensorRT libraries. If you would like to use Nvidia GPU with TensorRT, please make sure the missing libraries mentioned above are installed properly.\n"
     ]
    },
    {
     "name": "stdout",
     "output_type": "stream",
     "text": [
      "['/device:CPU:0', '/device:GPU:0', '/device:GPU:1', '/device:GPU:2', '/device:GPU:3', '/device:GPU:4', '/device:GPU:5', '/device:GPU:6', '/device:GPU:7']\n"
     ]
    },
    {
     "name": "stderr",
     "output_type": "stream",
     "text": [
      "2022-11-10 04:08:19.075938: I tensorflow/core/platform/cpu_feature_guard.cc:193] This TensorFlow binary is optimized with oneAPI Deep Neural Network Library (oneDNN) to use the following CPU instructions in performance-critical operations:  AVX2 FMA\n",
      "To enable them in other operations, rebuild TensorFlow with the appropriate compiler flags.\n",
      "2022-11-10 04:08:23.690341: I tensorflow/core/common_runtime/gpu/gpu_device.cc:1616] Created device /device:GPU:0 with 27480 MB memory:  -> device: 0, name: A100-SXM4-40GB, pci bus id: 0000:07:00.0, compute capability: 8.0\n",
      "2022-11-10 04:08:23.692626: I tensorflow/core/common_runtime/gpu/gpu_device.cc:1616] Created device /device:GPU:1 with 33659 MB memory:  -> device: 1, name: A100-SXM4-40GB, pci bus id: 0000:0f:00.0, compute capability: 8.0\n",
      "2022-11-10 04:08:23.694760: I tensorflow/core/common_runtime/gpu/gpu_device.cc:1616] Created device /device:GPU:2 with 33659 MB memory:  -> device: 2, name: A100-SXM4-40GB, pci bus id: 0000:47:00.0, compute capability: 8.0\n",
      "2022-11-10 04:08:23.696694: I tensorflow/core/common_runtime/gpu/gpu_device.cc:1616] Created device /device:GPU:3 with 33659 MB memory:  -> device: 3, name: A100-SXM4-40GB, pci bus id: 0000:4e:00.0, compute capability: 8.0\n",
      "2022-11-10 04:08:23.698627: I tensorflow/core/common_runtime/gpu/gpu_device.cc:1616] Created device /device:GPU:4 with 33659 MB memory:  -> device: 4, name: A100-SXM4-40GB, pci bus id: 0000:87:00.0, compute capability: 8.0\n",
      "2022-11-10 04:08:23.700577: I tensorflow/core/common_runtime/gpu/gpu_device.cc:1616] Created device /device:GPU:5 with 33659 MB memory:  -> device: 5, name: A100-SXM4-40GB, pci bus id: 0000:90:00.0, compute capability: 8.0\n",
      "2022-11-10 04:08:23.709765: I tensorflow/core/common_runtime/gpu/gpu_device.cc:1616] Created device /device:GPU:6 with 33659 MB memory:  -> device: 6, name: A100-SXM4-40GB, pci bus id: 0000:b7:00.0, compute capability: 8.0\n",
      "2022-11-10 04:08:23.711680: I tensorflow/core/common_runtime/gpu/gpu_device.cc:1616] Created device /device:GPU:7 with 33659 MB memory:  -> device: 7, name: A100-SXM4-40GB, pci bus id: 0000:bd:00.0, compute capability: 8.0\n"
     ]
    }
   ],
   "source": [
    "from tensorflow.python.client import device_lib\n",
    "\n",
    "def get_available_devices():\n",
    "    local_device_protos = device_lib.list_local_devices()\n",
    "    return [x.name for x in local_device_protos]\n",
    "\n",
    "print(get_available_devices())"
   ]
  },
  {
   "cell_type": "code",
   "execution_count": 3,
   "id": "bf624747",
   "metadata": {},
   "outputs": [
    {
     "name": "stdout",
     "output_type": "stream",
     "text": [
      "Looking in indexes: https://pypi.org/simple, https://pypi.ngc.nvidia.com\n",
      "Requirement already satisfied: catboost in /opt/conda/lib/python3.8/site-packages (1.1.1)\n",
      "Requirement already satisfied: numpy>=1.16.0 in /opt/conda/lib/python3.8/site-packages (from catboost) (1.22.4)\n",
      "Requirement already satisfied: pandas>=0.24.0 in /opt/conda/lib/python3.8/site-packages (from catboost) (1.3.5)\n",
      "Requirement already satisfied: graphviz in /opt/conda/lib/python3.8/site-packages (from catboost) (0.20.1)\n",
      "Requirement already satisfied: scipy in /opt/conda/lib/python3.8/site-packages (from catboost) (1.6.3)\n",
      "Requirement already satisfied: six in /opt/conda/lib/python3.8/site-packages (from catboost) (1.16.0)\n",
      "Requirement already satisfied: matplotlib in /opt/conda/lib/python3.8/site-packages (from catboost) (3.5.2)\n",
      "Requirement already satisfied: plotly in /opt/conda/lib/python3.8/site-packages (from catboost) (5.11.0)\n",
      "Requirement already satisfied: python-dateutil>=2.7.3 in /opt/conda/lib/python3.8/site-packages (from pandas>=0.24.0->catboost) (2.8.2)\n",
      "Requirement already satisfied: pytz>=2017.3 in /opt/conda/lib/python3.8/site-packages (from pandas>=0.24.0->catboost) (2022.1)\n",
      "Requirement already satisfied: cycler>=0.10 in /opt/conda/lib/python3.8/site-packages (from matplotlib->catboost) (0.11.0)\n",
      "Requirement already satisfied: pyparsing>=2.2.1 in /opt/conda/lib/python3.8/site-packages (from matplotlib->catboost) (3.0.9)\n",
      "Requirement already satisfied: packaging>=20.0 in /opt/conda/lib/python3.8/site-packages (from matplotlib->catboost) (21.3)\n",
      "Requirement already satisfied: kiwisolver>=1.0.1 in /opt/conda/lib/python3.8/site-packages (from matplotlib->catboost) (1.4.3)\n",
      "Requirement already satisfied: fonttools>=4.22.0 in /opt/conda/lib/python3.8/site-packages (from matplotlib->catboost) (4.33.3)\n",
      "Requirement already satisfied: pillow>=6.2.0 in /opt/conda/lib/python3.8/site-packages (from matplotlib->catboost) (9.0.1)\n",
      "Requirement already satisfied: tenacity>=6.2.0 in /opt/conda/lib/python3.8/site-packages (from plotly->catboost) (8.1.0)\n",
      "\u001b[33mWARNING: Running pip as the 'root' user can result in broken permissions and conflicting behaviour with the system package manager. It is recommended to use a virtual environment instead: https://pip.pypa.io/warnings/venv\u001b[0m\n"
     ]
    }
   ],
   "source": [
    "!pip install catboost"
   ]
  },
  {
   "cell_type": "code",
   "execution_count": 4,
   "id": "f43d0e8f",
   "metadata": {},
   "outputs": [
    {
     "name": "stdout",
     "output_type": "stream",
     "text": [
      "Looking in indexes: https://pypi.org/simple, https://pypi.ngc.nvidia.com\n",
      "Requirement already satisfied: ipywidgets in /opt/conda/lib/python3.8/site-packages (8.0.2)\n",
      "Requirement already satisfied: widgetsnbextension~=4.0 in /opt/conda/lib/python3.8/site-packages (from ipywidgets) (4.0.3)\n",
      "Requirement already satisfied: traitlets>=4.3.1 in /opt/conda/lib/python3.8/site-packages (from ipywidgets) (5.2.2.post1)\n",
      "Requirement already satisfied: ipykernel>=4.5.1 in /opt/conda/lib/python3.8/site-packages (from ipywidgets) (6.14.0)\n",
      "Requirement already satisfied: jupyterlab-widgets~=3.0 in /opt/conda/lib/python3.8/site-packages (from ipywidgets) (3.0.3)\n",
      "Requirement already satisfied: ipython>=6.1.0 in /opt/conda/lib/python3.8/site-packages (from ipywidgets) (8.4.0)\n",
      "Requirement already satisfied: jupyter-client>=6.1.12 in /opt/conda/lib/python3.8/site-packages (from ipykernel>=4.5.1->ipywidgets) (7.3.4)\n",
      "Requirement already satisfied: matplotlib-inline>=0.1 in /opt/conda/lib/python3.8/site-packages (from ipykernel>=4.5.1->ipywidgets) (0.1.3)\n",
      "Requirement already satisfied: tornado>=6.1 in /opt/conda/lib/python3.8/site-packages (from ipykernel>=4.5.1->ipywidgets) (6.1)\n",
      "Requirement already satisfied: packaging in /opt/conda/lib/python3.8/site-packages (from ipykernel>=4.5.1->ipywidgets) (21.3)\n",
      "Requirement already satisfied: debugpy>=1.0 in /opt/conda/lib/python3.8/site-packages (from ipykernel>=4.5.1->ipywidgets) (1.6.0)\n",
      "Requirement already satisfied: nest-asyncio in /opt/conda/lib/python3.8/site-packages (from ipykernel>=4.5.1->ipywidgets) (1.5.5)\n",
      "Requirement already satisfied: psutil in /opt/conda/lib/python3.8/site-packages (from ipykernel>=4.5.1->ipywidgets) (5.9.1)\n",
      "Requirement already satisfied: jedi>=0.16 in /opt/conda/lib/python3.8/site-packages (from ipython>=6.1.0->ipywidgets) (0.18.1)\n",
      "Requirement already satisfied: pexpect>4.3 in /opt/conda/lib/python3.8/site-packages (from ipython>=6.1.0->ipywidgets) (4.8.0)\n",
      "Requirement already satisfied: stack-data in /opt/conda/lib/python3.8/site-packages (from ipython>=6.1.0->ipywidgets) (0.2.0)\n",
      "Requirement already satisfied: pickleshare in /opt/conda/lib/python3.8/site-packages (from ipython>=6.1.0->ipywidgets) (0.7.5)\n",
      "Requirement already satisfied: decorator in /opt/conda/lib/python3.8/site-packages (from ipython>=6.1.0->ipywidgets) (5.1.1)\n",
      "Requirement already satisfied: backcall in /opt/conda/lib/python3.8/site-packages (from ipython>=6.1.0->ipywidgets) (0.2.0)\n",
      "Requirement already satisfied: pygments>=2.4.0 in /opt/conda/lib/python3.8/site-packages (from ipython>=6.1.0->ipywidgets) (2.12.0)\n",
      "Requirement already satisfied: prompt-toolkit!=3.0.0,!=3.0.1,<3.1.0,>=2.0.0 in /opt/conda/lib/python3.8/site-packages (from ipython>=6.1.0->ipywidgets) (3.0.29)\n",
      "Requirement already satisfied: setuptools>=18.5 in /opt/conda/lib/python3.8/site-packages (from ipython>=6.1.0->ipywidgets) (59.5.0)\n",
      "Requirement already satisfied: parso<0.9.0,>=0.8.0 in /opt/conda/lib/python3.8/site-packages (from jedi>=0.16->ipython>=6.1.0->ipywidgets) (0.8.3)\n",
      "Requirement already satisfied: jupyter-core>=4.9.2 in /opt/conda/lib/python3.8/site-packages (from jupyter-client>=6.1.12->ipykernel>=4.5.1->ipywidgets) (4.10.0)\n",
      "Requirement already satisfied: pyzmq>=23.0 in /opt/conda/lib/python3.8/site-packages (from jupyter-client>=6.1.12->ipykernel>=4.5.1->ipywidgets) (23.1.0)\n",
      "Requirement already satisfied: entrypoints in /opt/conda/lib/python3.8/site-packages (from jupyter-client>=6.1.12->ipykernel>=4.5.1->ipywidgets) (0.4)\n",
      "Requirement already satisfied: python-dateutil>=2.8.2 in /opt/conda/lib/python3.8/site-packages (from jupyter-client>=6.1.12->ipykernel>=4.5.1->ipywidgets) (2.8.2)\n",
      "Requirement already satisfied: ptyprocess>=0.5 in /opt/conda/lib/python3.8/site-packages (from pexpect>4.3->ipython>=6.1.0->ipywidgets) (0.7.0)\n",
      "Requirement already satisfied: wcwidth in /opt/conda/lib/python3.8/site-packages (from prompt-toolkit!=3.0.0,!=3.0.1,<3.1.0,>=2.0.0->ipython>=6.1.0->ipywidgets) (0.2.5)\n",
      "Requirement already satisfied: six>=1.5 in /opt/conda/lib/python3.8/site-packages (from python-dateutil>=2.8.2->jupyter-client>=6.1.12->ipykernel>=4.5.1->ipywidgets) (1.16.0)\n",
      "Requirement already satisfied: pyparsing!=3.0.5,>=2.0.2 in /opt/conda/lib/python3.8/site-packages (from packaging->ipykernel>=4.5.1->ipywidgets) (3.0.9)\n",
      "Requirement already satisfied: asttokens in /opt/conda/lib/python3.8/site-packages (from stack-data->ipython>=6.1.0->ipywidgets) (2.0.5)\n",
      "Requirement already satisfied: pure-eval in /opt/conda/lib/python3.8/site-packages (from stack-data->ipython>=6.1.0->ipywidgets) (0.2.2)\n",
      "Requirement already satisfied: executing in /opt/conda/lib/python3.8/site-packages (from stack-data->ipython>=6.1.0->ipywidgets) (0.8.3)\n",
      "\u001b[33mWARNING: Running pip as the 'root' user can result in broken permissions and conflicting behaviour with the system package manager. It is recommended to use a virtual environment instead: https://pip.pypa.io/warnings/venv\u001b[0m\n",
      "Looking in indexes: https://pypi.org/simple, https://pypi.ngc.nvidia.com\n",
      "Requirement already satisfied: catboost in /opt/conda/lib/python3.8/site-packages (1.1.1)\n",
      "Requirement already satisfied: numpy>=1.16.0 in /opt/conda/lib/python3.8/site-packages (from catboost) (1.22.4)\n",
      "Requirement already satisfied: graphviz in /opt/conda/lib/python3.8/site-packages (from catboost) (0.20.1)\n",
      "Requirement already satisfied: matplotlib in /opt/conda/lib/python3.8/site-packages (from catboost) (3.5.2)\n",
      "Requirement already satisfied: scipy in /opt/conda/lib/python3.8/site-packages (from catboost) (1.6.3)\n",
      "Requirement already satisfied: pandas>=0.24.0 in /opt/conda/lib/python3.8/site-packages (from catboost) (1.3.5)\n",
      "Requirement already satisfied: plotly in /opt/conda/lib/python3.8/site-packages (from catboost) (5.11.0)\n",
      "Requirement already satisfied: six in /opt/conda/lib/python3.8/site-packages (from catboost) (1.16.0)\n",
      "Requirement already satisfied: python-dateutil>=2.7.3 in /opt/conda/lib/python3.8/site-packages (from pandas>=0.24.0->catboost) (2.8.2)\n",
      "Requirement already satisfied: pytz>=2017.3 in /opt/conda/lib/python3.8/site-packages (from pandas>=0.24.0->catboost) (2022.1)\n",
      "Requirement already satisfied: fonttools>=4.22.0 in /opt/conda/lib/python3.8/site-packages (from matplotlib->catboost) (4.33.3)\n",
      "Requirement already satisfied: cycler>=0.10 in /opt/conda/lib/python3.8/site-packages (from matplotlib->catboost) (0.11.0)\n",
      "Requirement already satisfied: packaging>=20.0 in /opt/conda/lib/python3.8/site-packages (from matplotlib->catboost) (21.3)\n",
      "Requirement already satisfied: pillow>=6.2.0 in /opt/conda/lib/python3.8/site-packages (from matplotlib->catboost) (9.0.1)\n",
      "Requirement already satisfied: pyparsing>=2.2.1 in /opt/conda/lib/python3.8/site-packages (from matplotlib->catboost) (3.0.9)\n",
      "Requirement already satisfied: kiwisolver>=1.0.1 in /opt/conda/lib/python3.8/site-packages (from matplotlib->catboost) (1.4.3)\n",
      "Requirement already satisfied: tenacity>=6.2.0 in /opt/conda/lib/python3.8/site-packages (from plotly->catboost) (8.1.0)\n",
      "\u001b[33mWARNING: Running pip as the 'root' user can result in broken permissions and conflicting behaviour with the system package manager. It is recommended to use a virtual environment instead: https://pip.pypa.io/warnings/venv\u001b[0m\n"
     ]
    }
   ],
   "source": [
    "import pandas as pd\n",
    "import numpy as np\n",
    "# import seaborn\n",
    "import matplotlib.pyplot as plt\n",
    "%matplotlib inline\n",
    "\n",
    "import pickle\n",
    "import joblib\n",
    "import time\n",
    "\n",
    "from catboost import CatBoostClassifier\n",
    "\n",
    "import xgboost as xgb\n",
    "from sklearn.model_selection import train_test_split, GridSearchCV\n",
    "from xgboost import XGBClassifier, plot_importance\n",
    "from sklearn import config_context\n",
    "from sklearn.metrics import classification_report, confusion_matrix, ConfusionMatrixDisplay\n",
    "from sklearn.metrics import accuracy_score, mean_squared_error\n",
    "from sklearn.preprocessing import MinMaxScaler\n",
    "from sklearn.pipeline import Pipeline\n",
    "from sklearn.compose import ColumnTransformer\n",
    "from sklearn.preprocessing import OneHotEncoder\n",
    "from sklearn.model_selection import train_test_split \n",
    "from sklearn.model_selection import cross_val_predict \n",
    "from sklearn.model_selection import cross_val_score \n",
    "from sklearn.feature_selection import RFECV\n",
    "from sklearn.metrics import precision_score, f1_score, recall_score, confusion_matrix, accuracy_score, roc_auc_score\n",
    "\n",
    "pd.set_option('display.max_columns', None)\n",
    "pd.set_option('display.max_rows', 500)\n",
    "pd.set_option('display.float_format', '{:.2f}'.format)\n",
    "\n",
    "!pip install ipywidgets\n",
    "!pip install catboost\n",
    "import ipywidgets\n",
    "import catboost as cb\n",
    "from catboost import CatBoostClassifier\n",
    "from sklearn.metrics import auc, roc_auc_score, roc_curve\n",
    "\n",
    "import warnings\n",
    "warnings.filterwarnings('ignore')"
   ]
  },
  {
   "cell_type": "code",
   "execution_count": 5,
   "id": "ac938500",
   "metadata": {},
   "outputs": [
    {
     "name": "stdout",
     "output_type": "stream",
     "text": [
      "/workspace/asurion_f22\n"
     ]
    }
   ],
   "source": [
    "%cd .."
   ]
  },
  {
   "cell_type": "code",
   "execution_count": 6,
   "id": "d7359a8e",
   "metadata": {},
   "outputs": [],
   "source": [
    "test = pd.read_csv('fe_data/fe_data_v2/total_sale_data/test_encoded_zipcode.csv', index_col='id')"
   ]
  },
  {
   "cell_type": "code",
   "execution_count": 7,
   "id": "044e5ae8",
   "metadata": {},
   "outputs": [],
   "source": [
    "sen_test = pd.read_csv('fe_data/sentiment_data/sentiment_test.csv')"
   ]
  },
  {
   "cell_type": "code",
   "execution_count": 8,
   "id": "c306af74",
   "metadata": {},
   "outputs": [
    {
     "data": {
      "text/plain": [
       "258459"
      ]
     },
     "execution_count": 8,
     "metadata": {},
     "output_type": "execute_result"
    }
   ],
   "source": [
    "len(test)"
   ]
  },
  {
   "cell_type": "code",
   "execution_count": 9,
   "id": "ad16a0b6",
   "metadata": {},
   "outputs": [
    {
     "data": {
      "text/plain": [
       "Index(['quality_sale', 'accepted_flg', 'seven_day_churn', 'thirty_day_churn',\n",
       "       'ninety_day_churn', 'clndr_dt_cst', 'start_dt', 'lines',\n",
       "       'previous_tech_support_call', 'account_tenure', 'past_yr_claim_count',\n",
       "       'num_decline', 'exp', 'product_type', 'pmake', 'claritas_hh_count',\n",
       "       'technodoption_class', 'hh_income', 'age_class', 'hh_education',\n",
       "       'hh_composition', 'hh_tenure', 'urbanicity', 'median_income',\n",
       "       'total_population', 'perc_female', 'perc_under18', 'perc_over65',\n",
       "       'perc_white', 'perc_black', 'population_density', 'zipcode', 'county',\n",
       "       'state', 'state_code', 'latitude', 'longitude', 'month',\n",
       "       'hh_income_code', 'day_of_week', 'time_of_day', 'zipcode_accepted_prop',\n",
       "       'zipcode_rejected_offers', 'zipcode_accepted_offers',\n",
       "       'zipcode_total_offers'],\n",
       "      dtype='object')"
      ]
     },
     "execution_count": 9,
     "metadata": {},
     "output_type": "execute_result"
    }
   ],
   "source": [
    "test.columns"
   ]
  },
  {
   "cell_type": "code",
   "execution_count": 10,
   "id": "17c9294a",
   "metadata": {},
   "outputs": [],
   "source": [
    "dcols = ['quality_sale', 'clndr_dt_cst', 'start_dt', 'zipcode', 'county', 'state', \n",
    "         'state_code', 'latitude', 'longitude', 'month','hh_income_code']"
   ]
  },
  {
   "cell_type": "code",
   "execution_count": 11,
   "id": "6673a83f",
   "metadata": {},
   "outputs": [],
   "source": [
    "test.drop(columns = dcols, inplace = True)\n",
    "test = test[(test['zipcode_accepted_prop'].isnull()==False)& (test['zipcode_rejected_offers'].isnull()==False)& \n",
    "            (test['zipcode_accepted_offers'].isnull()==False)&(test['zipcode_total_offers'].isnull()==False)]"
   ]
  },
  {
   "cell_type": "code",
   "execution_count": 12,
   "id": "e23c35b6",
   "metadata": {},
   "outputs": [],
   "source": [
    "test = test.merge(sen_test, on='id', how='inner')"
   ]
  },
  {
   "cell_type": "code",
   "execution_count": 13,
   "id": "b3bac6de",
   "metadata": {},
   "outputs": [
    {
     "data": {
      "text/plain": [
       "144064"
      ]
     },
     "execution_count": 13,
     "metadata": {},
     "output_type": "execute_result"
    }
   ],
   "source": [
    "len(test)"
   ]
  },
  {
   "cell_type": "code",
   "execution_count": 14,
   "id": "d18fb452",
   "metadata": {},
   "outputs": [
    {
     "name": "stdout",
     "output_type": "stream",
     "text": [
      "<class 'pandas.core.frame.DataFrame'>\n",
      "Int64Index: 144064 entries, 0 to 144063\n",
      "Data columns (total 36 columns):\n",
      " #   Column                      Non-Null Count   Dtype  \n",
      "---  ------                      --------------   -----  \n",
      " 0   id                          144064 non-null  object \n",
      " 1   accepted_flg                144064 non-null  int64  \n",
      " 2   seven_day_churn             12942 non-null   float64\n",
      " 3   thirty_day_churn            12942 non-null   float64\n",
      " 4   ninety_day_churn            12942 non-null   float64\n",
      " 5   lines                       144064 non-null  int64  \n",
      " 6   previous_tech_support_call  144064 non-null  int64  \n",
      " 7   account_tenure              144064 non-null  int64  \n",
      " 8   past_yr_claim_count         144064 non-null  int64  \n",
      " 9   num_decline                 144064 non-null  int64  \n",
      " 10  exp                         144064 non-null  int64  \n",
      " 11  product_type                144064 non-null  object \n",
      " 12  pmake                       144064 non-null  object \n",
      " 13  claritas_hh_count           144064 non-null  int64  \n",
      " 14  technodoption_class         144064 non-null  object \n",
      " 15  hh_income                   144064 non-null  object \n",
      " 16  age_class                   144064 non-null  object \n",
      " 17  hh_education                144064 non-null  object \n",
      " 18  hh_composition              144064 non-null  object \n",
      " 19  hh_tenure                   144064 non-null  object \n",
      " 20  urbanicity                  144064 non-null  object \n",
      " 21  median_income               144064 non-null  int64  \n",
      " 22  total_population            144064 non-null  int64  \n",
      " 23  perc_female                 144064 non-null  int64  \n",
      " 24  perc_under18                144064 non-null  int64  \n",
      " 25  perc_over65                 144064 non-null  int64  \n",
      " 26  perc_white                  144064 non-null  int64  \n",
      " 27  perc_black                  144064 non-null  int64  \n",
      " 28  population_density          144064 non-null  int64  \n",
      " 29  day_of_week                 144064 non-null  object \n",
      " 30  time_of_day                 144064 non-null  int64  \n",
      " 31  zipcode_accepted_prop       144064 non-null  float64\n",
      " 32  zipcode_rejected_offers     144064 non-null  float64\n",
      " 33  zipcode_accepted_offers     144064 non-null  float64\n",
      " 34  zipcode_total_offers        144064 non-null  float64\n",
      " 35  sentiment                   144064 non-null  object \n",
      "dtypes: float64(7), int64(17), object(12)\n",
      "memory usage: 40.7+ MB\n"
     ]
    }
   ],
   "source": [
    "test.info()"
   ]
  },
  {
   "cell_type": "code",
   "execution_count": 15,
   "id": "005014cc",
   "metadata": {},
   "outputs": [],
   "source": [
    "train = pd.read_csv('fe_data/fe_data_v2/total_sale_data/train_encoded_zipcode.csv', index_col='id')"
   ]
  },
  {
   "cell_type": "code",
   "execution_count": 16,
   "id": "b7f35366",
   "metadata": {},
   "outputs": [],
   "source": [
    "sen_train = pd.read_csv('fe_data/sentiment_data/sentiment_train.csv')"
   ]
  },
  {
   "cell_type": "code",
   "execution_count": 17,
   "id": "8742b582",
   "metadata": {},
   "outputs": [
    {
     "data": {
      "text/plain": [
       "953112"
      ]
     },
     "execution_count": 17,
     "metadata": {},
     "output_type": "execute_result"
    }
   ],
   "source": [
    "len(train)"
   ]
  },
  {
   "cell_type": "code",
   "execution_count": 18,
   "id": "cf887551",
   "metadata": {},
   "outputs": [
    {
     "data": {
      "text/plain": [
       "953112"
      ]
     },
     "execution_count": 18,
     "metadata": {},
     "output_type": "execute_result"
    }
   ],
   "source": [
    "len(train)"
   ]
  },
  {
   "cell_type": "code",
   "execution_count": 19,
   "id": "ac540762",
   "metadata": {},
   "outputs": [
    {
     "name": "stdout",
     "output_type": "stream",
     "text": [
      "<class 'pandas.core.frame.DataFrame'>\n",
      "Index: 953112 entries, c90ce3eaafffd07a32cb9cf4d153aef6f524b29aeef447ba3200efdb to 66b4c3759f378f38589395fd0353856239da965077903f31b30e87fc\n",
      "Data columns (total 45 columns):\n",
      " #   Column                      Non-Null Count   Dtype  \n",
      "---  ------                      --------------   -----  \n",
      " 0   quality_sale                953112 non-null  int64  \n",
      " 1   accepted_flg                953112 non-null  int64  \n",
      " 2   seven_day_churn             85707 non-null   float64\n",
      " 3   thirty_day_churn            85707 non-null   float64\n",
      " 4   ninety_day_churn            85707 non-null   float64\n",
      " 5   clndr_dt_cst                953112 non-null  object \n",
      " 6   start_dt                    953112 non-null  object \n",
      " 7   lines                       953112 non-null  int64  \n",
      " 8   previous_tech_support_call  953112 non-null  int64  \n",
      " 9   account_tenure              953112 non-null  int64  \n",
      " 10  past_yr_claim_count         953112 non-null  int64  \n",
      " 11  num_decline                 953112 non-null  int64  \n",
      " 12  exp                         953112 non-null  int64  \n",
      " 13  product_type                953112 non-null  object \n",
      " 14  pmake                       953112 non-null  object \n",
      " 15  claritas_hh_count           953112 non-null  int64  \n",
      " 16  technodoption_class         953112 non-null  object \n",
      " 17  hh_income                   953112 non-null  object \n",
      " 18  age_class                   953112 non-null  object \n",
      " 19  hh_education                953112 non-null  object \n",
      " 20  hh_composition              953112 non-null  object \n",
      " 21  hh_tenure                   953112 non-null  object \n",
      " 22  urbanicity                  953112 non-null  object \n",
      " 23  median_income               953112 non-null  int64  \n",
      " 24  total_population            953112 non-null  int64  \n",
      " 25  perc_female                 953112 non-null  int64  \n",
      " 26  perc_under18                953112 non-null  int64  \n",
      " 27  perc_over65                 953112 non-null  int64  \n",
      " 28  perc_white                  953112 non-null  int64  \n",
      " 29  perc_black                  953112 non-null  int64  \n",
      " 30  population_density          953112 non-null  int64  \n",
      " 31  zipcode                     863505 non-null  float64\n",
      " 32  county                      863394 non-null  object \n",
      " 33  state                       863358 non-null  object \n",
      " 34  state_code                  863358 non-null  object \n",
      " 35  latitude                    863394 non-null  float64\n",
      " 36  longitude                   863394 non-null  float64\n",
      " 37  month                       953112 non-null  object \n",
      " 38  hh_income_code              953112 non-null  int64  \n",
      " 39  day_of_week                 953112 non-null  object \n",
      " 40  time_of_day                 953112 non-null  int64  \n",
      " 41  zipcode_accepted_prop       863505 non-null  float64\n",
      " 42  zipcode_rejected_offers     863505 non-null  float64\n",
      " 43  zipcode_accepted_offers     863505 non-null  float64\n",
      " 44  zipcode_total_offers        863505 non-null  float64\n",
      "dtypes: float64(10), int64(19), object(16)\n",
      "memory usage: 334.5+ MB\n"
     ]
    }
   ],
   "source": [
    "train.info()"
   ]
  },
  {
   "cell_type": "code",
   "execution_count": 20,
   "id": "edffce2d",
   "metadata": {},
   "outputs": [
    {
     "data": {
      "text/html": [
       "<div>\n",
       "<style scoped>\n",
       "    .dataframe tbody tr th:only-of-type {\n",
       "        vertical-align: middle;\n",
       "    }\n",
       "\n",
       "    .dataframe tbody tr th {\n",
       "        vertical-align: top;\n",
       "    }\n",
       "\n",
       "    .dataframe thead th {\n",
       "        text-align: right;\n",
       "    }\n",
       "</style>\n",
       "<table border=\"1\" class=\"dataframe\">\n",
       "  <thead>\n",
       "    <tr style=\"text-align: right;\">\n",
       "      <th></th>\n",
       "      <th>quality_sale</th>\n",
       "      <th>accepted_flg</th>\n",
       "      <th>seven_day_churn</th>\n",
       "      <th>thirty_day_churn</th>\n",
       "      <th>ninety_day_churn</th>\n",
       "      <th>clndr_dt_cst</th>\n",
       "      <th>start_dt</th>\n",
       "      <th>lines</th>\n",
       "      <th>previous_tech_support_call</th>\n",
       "      <th>account_tenure</th>\n",
       "      <th>past_yr_claim_count</th>\n",
       "      <th>num_decline</th>\n",
       "      <th>exp</th>\n",
       "      <th>product_type</th>\n",
       "      <th>pmake</th>\n",
       "      <th>claritas_hh_count</th>\n",
       "      <th>technodoption_class</th>\n",
       "      <th>hh_income</th>\n",
       "      <th>age_class</th>\n",
       "      <th>hh_education</th>\n",
       "      <th>hh_composition</th>\n",
       "      <th>hh_tenure</th>\n",
       "      <th>urbanicity</th>\n",
       "      <th>median_income</th>\n",
       "      <th>total_population</th>\n",
       "      <th>perc_female</th>\n",
       "      <th>perc_under18</th>\n",
       "      <th>perc_over65</th>\n",
       "      <th>perc_white</th>\n",
       "      <th>perc_black</th>\n",
       "      <th>population_density</th>\n",
       "      <th>zipcode</th>\n",
       "      <th>county</th>\n",
       "      <th>state</th>\n",
       "      <th>state_code</th>\n",
       "      <th>latitude</th>\n",
       "      <th>longitude</th>\n",
       "      <th>month</th>\n",
       "      <th>hh_income_code</th>\n",
       "      <th>day_of_week</th>\n",
       "      <th>time_of_day</th>\n",
       "      <th>zipcode_accepted_prop</th>\n",
       "      <th>zipcode_rejected_offers</th>\n",
       "      <th>zipcode_accepted_offers</th>\n",
       "      <th>zipcode_total_offers</th>\n",
       "    </tr>\n",
       "    <tr>\n",
       "      <th>id</th>\n",
       "      <th></th>\n",
       "      <th></th>\n",
       "      <th></th>\n",
       "      <th></th>\n",
       "      <th></th>\n",
       "      <th></th>\n",
       "      <th></th>\n",
       "      <th></th>\n",
       "      <th></th>\n",
       "      <th></th>\n",
       "      <th></th>\n",
       "      <th></th>\n",
       "      <th></th>\n",
       "      <th></th>\n",
       "      <th></th>\n",
       "      <th></th>\n",
       "      <th></th>\n",
       "      <th></th>\n",
       "      <th></th>\n",
       "      <th></th>\n",
       "      <th></th>\n",
       "      <th></th>\n",
       "      <th></th>\n",
       "      <th></th>\n",
       "      <th></th>\n",
       "      <th></th>\n",
       "      <th></th>\n",
       "      <th></th>\n",
       "      <th></th>\n",
       "      <th></th>\n",
       "      <th></th>\n",
       "      <th></th>\n",
       "      <th></th>\n",
       "      <th></th>\n",
       "      <th></th>\n",
       "      <th></th>\n",
       "      <th></th>\n",
       "      <th></th>\n",
       "      <th></th>\n",
       "      <th></th>\n",
       "      <th></th>\n",
       "      <th></th>\n",
       "      <th></th>\n",
       "      <th></th>\n",
       "      <th></th>\n",
       "    </tr>\n",
       "  </thead>\n",
       "  <tbody>\n",
       "    <tr>\n",
       "      <th>c90ce3eaafffd07a32cb9cf4d153aef6f524b29aeef447ba3200efdb</th>\n",
       "      <td>0</td>\n",
       "      <td>0</td>\n",
       "      <td>NaN</td>\n",
       "      <td>NaN</td>\n",
       "      <td>NaN</td>\n",
       "      <td>2022-03-21 00:00:00.000</td>\n",
       "      <td>2022-03-21 20:44:17.405</td>\n",
       "      <td>2</td>\n",
       "      <td>15</td>\n",
       "      <td>1286</td>\n",
       "      <td>2</td>\n",
       "      <td>3</td>\n",
       "      <td>1</td>\n",
       "      <td>SD</td>\n",
       "      <td>android</td>\n",
       "      <td>2576615</td>\n",
       "      <td>Mid-Tech</td>\n",
       "      <td>1 Wealthy</td>\n",
       "      <td>3 Older</td>\n",
       "      <td>1 Graduate Plus</td>\n",
       "      <td>5 w/o Kids</td>\n",
       "      <td>1 Homeowners</td>\n",
       "      <td>7 Metro Mix</td>\n",
       "      <td>134658</td>\n",
       "      <td>13596</td>\n",
       "      <td>47</td>\n",
       "      <td>13</td>\n",
       "      <td>37</td>\n",
       "      <td>91</td>\n",
       "      <td>0</td>\n",
       "      <td>0</td>\n",
       "      <td>85266.00</td>\n",
       "      <td>Scottsdale</td>\n",
       "      <td>Arizona</td>\n",
       "      <td>AZ</td>\n",
       "      <td>33.77</td>\n",
       "      <td>-111.92</td>\n",
       "      <td>march</td>\n",
       "      <td>1</td>\n",
       "      <td>Monday</td>\n",
       "      <td>20</td>\n",
       "      <td>0.05</td>\n",
       "      <td>55.00</td>\n",
       "      <td>3.00</td>\n",
       "      <td>58.00</td>\n",
       "    </tr>\n",
       "    <tr>\n",
       "      <th>91aa94d54079b20e2a18b09c070d0304b3df9c7272e9fc75470cb2ff</th>\n",
       "      <td>0</td>\n",
       "      <td>0</td>\n",
       "      <td>NaN</td>\n",
       "      <td>NaN</td>\n",
       "      <td>NaN</td>\n",
       "      <td>2022-03-03 00:00:00.000</td>\n",
       "      <td>2022-03-03 21:16:27.713</td>\n",
       "      <td>1</td>\n",
       "      <td>10</td>\n",
       "      <td>216</td>\n",
       "      <td>5</td>\n",
       "      <td>13</td>\n",
       "      <td>1</td>\n",
       "      <td>SD</td>\n",
       "      <td>android</td>\n",
       "      <td>2507965</td>\n",
       "      <td>High-Tech</td>\n",
       "      <td>3 Upper Midscale</td>\n",
       "      <td>2 Middle Age</td>\n",
       "      <td>2 College Graduate</td>\n",
       "      <td>1 w/ Kids</td>\n",
       "      <td>1 Homeowners</td>\n",
       "      <td>8 Mix</td>\n",
       "      <td>56714</td>\n",
       "      <td>30122</td>\n",
       "      <td>52</td>\n",
       "      <td>24</td>\n",
       "      <td>16</td>\n",
       "      <td>57</td>\n",
       "      <td>34</td>\n",
       "      <td>616</td>\n",
       "      <td>21801.00</td>\n",
       "      <td>Salisbury</td>\n",
       "      <td>Maryland</td>\n",
       "      <td>MD</td>\n",
       "      <td>38.38</td>\n",
       "      <td>-75.63</td>\n",
       "      <td>march</td>\n",
       "      <td>3</td>\n",
       "      <td>Thursday</td>\n",
       "      <td>21</td>\n",
       "      <td>0.10</td>\n",
       "      <td>110.00</td>\n",
       "      <td>12.00</td>\n",
       "      <td>122.00</td>\n",
       "    </tr>\n",
       "    <tr>\n",
       "      <th>eb269842f94437bfd7e3a5a1f30d7b9a84a842afd8a153e8788c0d45</th>\n",
       "      <td>0</td>\n",
       "      <td>0</td>\n",
       "      <td>NaN</td>\n",
       "      <td>NaN</td>\n",
       "      <td>NaN</td>\n",
       "      <td>2022-03-16 00:00:00.000</td>\n",
       "      <td>2022-03-16 13:59:15.707</td>\n",
       "      <td>5</td>\n",
       "      <td>30</td>\n",
       "      <td>6559</td>\n",
       "      <td>0</td>\n",
       "      <td>11</td>\n",
       "      <td>1</td>\n",
       "      <td>MD</td>\n",
       "      <td>android</td>\n",
       "      <td>2576615</td>\n",
       "      <td>Mid-Tech</td>\n",
       "      <td>1 Wealthy</td>\n",
       "      <td>3 Older</td>\n",
       "      <td>1 Graduate Plus</td>\n",
       "      <td>5 w/o Kids</td>\n",
       "      <td>1 Homeowners</td>\n",
       "      <td>7 Metro Mix</td>\n",
       "      <td>130557</td>\n",
       "      <td>33039</td>\n",
       "      <td>49</td>\n",
       "      <td>28</td>\n",
       "      <td>9</td>\n",
       "      <td>64</td>\n",
       "      <td>6</td>\n",
       "      <td>2232</td>\n",
       "      <td>91354.00</td>\n",
       "      <td>Valencia</td>\n",
       "      <td>California</td>\n",
       "      <td>CA</td>\n",
       "      <td>34.45</td>\n",
       "      <td>-118.54</td>\n",
       "      <td>march</td>\n",
       "      <td>1</td>\n",
       "      <td>Wednesday</td>\n",
       "      <td>13</td>\n",
       "      <td>0.06</td>\n",
       "      <td>103.00</td>\n",
       "      <td>7.00</td>\n",
       "      <td>110.00</td>\n",
       "    </tr>\n",
       "    <tr>\n",
       "      <th>fc05f45119a8a4b830a3463bfc8a7113b2807c88e7d2da0320e559df</th>\n",
       "      <td>0</td>\n",
       "      <td>0</td>\n",
       "      <td>NaN</td>\n",
       "      <td>NaN</td>\n",
       "      <td>NaN</td>\n",
       "      <td>2022-03-01 00:00:00.000</td>\n",
       "      <td>2022-03-01 12:33:55.917</td>\n",
       "      <td>5</td>\n",
       "      <td>1</td>\n",
       "      <td>3944</td>\n",
       "      <td>0</td>\n",
       "      <td>0</td>\n",
       "      <td>1</td>\n",
       "      <td>MD</td>\n",
       "      <td>android</td>\n",
       "      <td>2576615</td>\n",
       "      <td>Mid-Tech</td>\n",
       "      <td>1 Wealthy</td>\n",
       "      <td>3 Older</td>\n",
       "      <td>1 Graduate Plus</td>\n",
       "      <td>5 w/o Kids</td>\n",
       "      <td>1 Homeowners</td>\n",
       "      <td>7 Metro Mix</td>\n",
       "      <td>116157</td>\n",
       "      <td>51830</td>\n",
       "      <td>50</td>\n",
       "      <td>19</td>\n",
       "      <td>21</td>\n",
       "      <td>20</td>\n",
       "      <td>0</td>\n",
       "      <td>1507</td>\n",
       "      <td>96744.00</td>\n",
       "      <td>Kaneohe</td>\n",
       "      <td>Hawaii</td>\n",
       "      <td>HI</td>\n",
       "      <td>21.42</td>\n",
       "      <td>-157.81</td>\n",
       "      <td>march</td>\n",
       "      <td>1</td>\n",
       "      <td>Tuesday</td>\n",
       "      <td>12</td>\n",
       "      <td>0.10</td>\n",
       "      <td>78.00</td>\n",
       "      <td>9.00</td>\n",
       "      <td>87.00</td>\n",
       "    </tr>\n",
       "    <tr>\n",
       "      <th>68943556bf63277816d843ffb129e23ffe60bc5b982603ec9519659a</th>\n",
       "      <td>1</td>\n",
       "      <td>1</td>\n",
       "      <td>0.00</td>\n",
       "      <td>0.00</td>\n",
       "      <td>0.00</td>\n",
       "      <td>2022-03-01 00:00:00.000</td>\n",
       "      <td>2022-03-01 12:22:15.780</td>\n",
       "      <td>2</td>\n",
       "      <td>4</td>\n",
       "      <td>689</td>\n",
       "      <td>1</td>\n",
       "      <td>8</td>\n",
       "      <td>1</td>\n",
       "      <td>SD</td>\n",
       "      <td>android</td>\n",
       "      <td>1715961</td>\n",
       "      <td>High-Tech</td>\n",
       "      <td>4 Midscale</td>\n",
       "      <td>1 Younger</td>\n",
       "      <td>3 Some College</td>\n",
       "      <td>1 w/ Kids</td>\n",
       "      <td>5 Renters</td>\n",
       "      <td>7 Metro Mix</td>\n",
       "      <td>49842</td>\n",
       "      <td>34512</td>\n",
       "      <td>48</td>\n",
       "      <td>27</td>\n",
       "      <td>9</td>\n",
       "      <td>74</td>\n",
       "      <td>11</td>\n",
       "      <td>1894</td>\n",
       "      <td>77301.00</td>\n",
       "      <td>Conroe</td>\n",
       "      <td>Texas</td>\n",
       "      <td>TX</td>\n",
       "      <td>30.31</td>\n",
       "      <td>-95.45</td>\n",
       "      <td>march</td>\n",
       "      <td>4</td>\n",
       "      <td>Tuesday</td>\n",
       "      <td>12</td>\n",
       "      <td>0.19</td>\n",
       "      <td>57.00</td>\n",
       "      <td>13.00</td>\n",
       "      <td>70.00</td>\n",
       "    </tr>\n",
       "  </tbody>\n",
       "</table>\n",
       "</div>"
      ],
      "text/plain": [
       "                                                    quality_sale  \\\n",
       "id                                                                 \n",
       "c90ce3eaafffd07a32cb9cf4d153aef6f524b29aeef447b...             0   \n",
       "91aa94d54079b20e2a18b09c070d0304b3df9c7272e9fc7...             0   \n",
       "eb269842f94437bfd7e3a5a1f30d7b9a84a842afd8a153e...             0   \n",
       "fc05f45119a8a4b830a3463bfc8a7113b2807c88e7d2da0...             0   \n",
       "68943556bf63277816d843ffb129e23ffe60bc5b982603e...             1   \n",
       "\n",
       "                                                    accepted_flg  \\\n",
       "id                                                                 \n",
       "c90ce3eaafffd07a32cb9cf4d153aef6f524b29aeef447b...             0   \n",
       "91aa94d54079b20e2a18b09c070d0304b3df9c7272e9fc7...             0   \n",
       "eb269842f94437bfd7e3a5a1f30d7b9a84a842afd8a153e...             0   \n",
       "fc05f45119a8a4b830a3463bfc8a7113b2807c88e7d2da0...             0   \n",
       "68943556bf63277816d843ffb129e23ffe60bc5b982603e...             1   \n",
       "\n",
       "                                                    seven_day_churn  \\\n",
       "id                                                                    \n",
       "c90ce3eaafffd07a32cb9cf4d153aef6f524b29aeef447b...              NaN   \n",
       "91aa94d54079b20e2a18b09c070d0304b3df9c7272e9fc7...              NaN   \n",
       "eb269842f94437bfd7e3a5a1f30d7b9a84a842afd8a153e...              NaN   \n",
       "fc05f45119a8a4b830a3463bfc8a7113b2807c88e7d2da0...              NaN   \n",
       "68943556bf63277816d843ffb129e23ffe60bc5b982603e...             0.00   \n",
       "\n",
       "                                                    thirty_day_churn  \\\n",
       "id                                                                     \n",
       "c90ce3eaafffd07a32cb9cf4d153aef6f524b29aeef447b...               NaN   \n",
       "91aa94d54079b20e2a18b09c070d0304b3df9c7272e9fc7...               NaN   \n",
       "eb269842f94437bfd7e3a5a1f30d7b9a84a842afd8a153e...               NaN   \n",
       "fc05f45119a8a4b830a3463bfc8a7113b2807c88e7d2da0...               NaN   \n",
       "68943556bf63277816d843ffb129e23ffe60bc5b982603e...              0.00   \n",
       "\n",
       "                                                    ninety_day_churn  \\\n",
       "id                                                                     \n",
       "c90ce3eaafffd07a32cb9cf4d153aef6f524b29aeef447b...               NaN   \n",
       "91aa94d54079b20e2a18b09c070d0304b3df9c7272e9fc7...               NaN   \n",
       "eb269842f94437bfd7e3a5a1f30d7b9a84a842afd8a153e...               NaN   \n",
       "fc05f45119a8a4b830a3463bfc8a7113b2807c88e7d2da0...               NaN   \n",
       "68943556bf63277816d843ffb129e23ffe60bc5b982603e...              0.00   \n",
       "\n",
       "                                                               clndr_dt_cst  \\\n",
       "id                                                                            \n",
       "c90ce3eaafffd07a32cb9cf4d153aef6f524b29aeef447b...  2022-03-21 00:00:00.000   \n",
       "91aa94d54079b20e2a18b09c070d0304b3df9c7272e9fc7...  2022-03-03 00:00:00.000   \n",
       "eb269842f94437bfd7e3a5a1f30d7b9a84a842afd8a153e...  2022-03-16 00:00:00.000   \n",
       "fc05f45119a8a4b830a3463bfc8a7113b2807c88e7d2da0...  2022-03-01 00:00:00.000   \n",
       "68943556bf63277816d843ffb129e23ffe60bc5b982603e...  2022-03-01 00:00:00.000   \n",
       "\n",
       "                                                                   start_dt  \\\n",
       "id                                                                            \n",
       "c90ce3eaafffd07a32cb9cf4d153aef6f524b29aeef447b...  2022-03-21 20:44:17.405   \n",
       "91aa94d54079b20e2a18b09c070d0304b3df9c7272e9fc7...  2022-03-03 21:16:27.713   \n",
       "eb269842f94437bfd7e3a5a1f30d7b9a84a842afd8a153e...  2022-03-16 13:59:15.707   \n",
       "fc05f45119a8a4b830a3463bfc8a7113b2807c88e7d2da0...  2022-03-01 12:33:55.917   \n",
       "68943556bf63277816d843ffb129e23ffe60bc5b982603e...  2022-03-01 12:22:15.780   \n",
       "\n",
       "                                                    lines  \\\n",
       "id                                                          \n",
       "c90ce3eaafffd07a32cb9cf4d153aef6f524b29aeef447b...      2   \n",
       "91aa94d54079b20e2a18b09c070d0304b3df9c7272e9fc7...      1   \n",
       "eb269842f94437bfd7e3a5a1f30d7b9a84a842afd8a153e...      5   \n",
       "fc05f45119a8a4b830a3463bfc8a7113b2807c88e7d2da0...      5   \n",
       "68943556bf63277816d843ffb129e23ffe60bc5b982603e...      2   \n",
       "\n",
       "                                                    previous_tech_support_call  \\\n",
       "id                                                                               \n",
       "c90ce3eaafffd07a32cb9cf4d153aef6f524b29aeef447b...                          15   \n",
       "91aa94d54079b20e2a18b09c070d0304b3df9c7272e9fc7...                          10   \n",
       "eb269842f94437bfd7e3a5a1f30d7b9a84a842afd8a153e...                          30   \n",
       "fc05f45119a8a4b830a3463bfc8a7113b2807c88e7d2da0...                           1   \n",
       "68943556bf63277816d843ffb129e23ffe60bc5b982603e...                           4   \n",
       "\n",
       "                                                    account_tenure  \\\n",
       "id                                                                   \n",
       "c90ce3eaafffd07a32cb9cf4d153aef6f524b29aeef447b...            1286   \n",
       "91aa94d54079b20e2a18b09c070d0304b3df9c7272e9fc7...             216   \n",
       "eb269842f94437bfd7e3a5a1f30d7b9a84a842afd8a153e...            6559   \n",
       "fc05f45119a8a4b830a3463bfc8a7113b2807c88e7d2da0...            3944   \n",
       "68943556bf63277816d843ffb129e23ffe60bc5b982603e...             689   \n",
       "\n",
       "                                                    past_yr_claim_count  \\\n",
       "id                                                                        \n",
       "c90ce3eaafffd07a32cb9cf4d153aef6f524b29aeef447b...                    2   \n",
       "91aa94d54079b20e2a18b09c070d0304b3df9c7272e9fc7...                    5   \n",
       "eb269842f94437bfd7e3a5a1f30d7b9a84a842afd8a153e...                    0   \n",
       "fc05f45119a8a4b830a3463bfc8a7113b2807c88e7d2da0...                    0   \n",
       "68943556bf63277816d843ffb129e23ffe60bc5b982603e...                    1   \n",
       "\n",
       "                                                    num_decline  exp  \\\n",
       "id                                                                     \n",
       "c90ce3eaafffd07a32cb9cf4d153aef6f524b29aeef447b...            3    1   \n",
       "91aa94d54079b20e2a18b09c070d0304b3df9c7272e9fc7...           13    1   \n",
       "eb269842f94437bfd7e3a5a1f30d7b9a84a842afd8a153e...           11    1   \n",
       "fc05f45119a8a4b830a3463bfc8a7113b2807c88e7d2da0...            0    1   \n",
       "68943556bf63277816d843ffb129e23ffe60bc5b982603e...            8    1   \n",
       "\n",
       "                                                   product_type    pmake  \\\n",
       "id                                                                         \n",
       "c90ce3eaafffd07a32cb9cf4d153aef6f524b29aeef447b...           SD  android   \n",
       "91aa94d54079b20e2a18b09c070d0304b3df9c7272e9fc7...           SD  android   \n",
       "eb269842f94437bfd7e3a5a1f30d7b9a84a842afd8a153e...           MD  android   \n",
       "fc05f45119a8a4b830a3463bfc8a7113b2807c88e7d2da0...           MD  android   \n",
       "68943556bf63277816d843ffb129e23ffe60bc5b982603e...           SD  android   \n",
       "\n",
       "                                                    claritas_hh_count  \\\n",
       "id                                                                      \n",
       "c90ce3eaafffd07a32cb9cf4d153aef6f524b29aeef447b...            2576615   \n",
       "91aa94d54079b20e2a18b09c070d0304b3df9c7272e9fc7...            2507965   \n",
       "eb269842f94437bfd7e3a5a1f30d7b9a84a842afd8a153e...            2576615   \n",
       "fc05f45119a8a4b830a3463bfc8a7113b2807c88e7d2da0...            2576615   \n",
       "68943556bf63277816d843ffb129e23ffe60bc5b982603e...            1715961   \n",
       "\n",
       "                                                   technodoption_class  \\\n",
       "id                                                                       \n",
       "c90ce3eaafffd07a32cb9cf4d153aef6f524b29aeef447b...            Mid-Tech   \n",
       "91aa94d54079b20e2a18b09c070d0304b3df9c7272e9fc7...           High-Tech   \n",
       "eb269842f94437bfd7e3a5a1f30d7b9a84a842afd8a153e...            Mid-Tech   \n",
       "fc05f45119a8a4b830a3463bfc8a7113b2807c88e7d2da0...            Mid-Tech   \n",
       "68943556bf63277816d843ffb129e23ffe60bc5b982603e...           High-Tech   \n",
       "\n",
       "                                                           hh_income  \\\n",
       "id                                                                     \n",
       "c90ce3eaafffd07a32cb9cf4d153aef6f524b29aeef447b...         1 Wealthy   \n",
       "91aa94d54079b20e2a18b09c070d0304b3df9c7272e9fc7...  3 Upper Midscale   \n",
       "eb269842f94437bfd7e3a5a1f30d7b9a84a842afd8a153e...         1 Wealthy   \n",
       "fc05f45119a8a4b830a3463bfc8a7113b2807c88e7d2da0...         1 Wealthy   \n",
       "68943556bf63277816d843ffb129e23ffe60bc5b982603e...        4 Midscale   \n",
       "\n",
       "                                                       age_class  \\\n",
       "id                                                                 \n",
       "c90ce3eaafffd07a32cb9cf4d153aef6f524b29aeef447b...       3 Older   \n",
       "91aa94d54079b20e2a18b09c070d0304b3df9c7272e9fc7...  2 Middle Age   \n",
       "eb269842f94437bfd7e3a5a1f30d7b9a84a842afd8a153e...       3 Older   \n",
       "fc05f45119a8a4b830a3463bfc8a7113b2807c88e7d2da0...       3 Older   \n",
       "68943556bf63277816d843ffb129e23ffe60bc5b982603e...     1 Younger   \n",
       "\n",
       "                                                          hh_education  \\\n",
       "id                                                                       \n",
       "c90ce3eaafffd07a32cb9cf4d153aef6f524b29aeef447b...     1 Graduate Plus   \n",
       "91aa94d54079b20e2a18b09c070d0304b3df9c7272e9fc7...  2 College Graduate   \n",
       "eb269842f94437bfd7e3a5a1f30d7b9a84a842afd8a153e...     1 Graduate Plus   \n",
       "fc05f45119a8a4b830a3463bfc8a7113b2807c88e7d2da0...     1 Graduate Plus   \n",
       "68943556bf63277816d843ffb129e23ffe60bc5b982603e...      3 Some College   \n",
       "\n",
       "                                                   hh_composition  \\\n",
       "id                                                                  \n",
       "c90ce3eaafffd07a32cb9cf4d153aef6f524b29aeef447b...     5 w/o Kids   \n",
       "91aa94d54079b20e2a18b09c070d0304b3df9c7272e9fc7...      1 w/ Kids   \n",
       "eb269842f94437bfd7e3a5a1f30d7b9a84a842afd8a153e...     5 w/o Kids   \n",
       "fc05f45119a8a4b830a3463bfc8a7113b2807c88e7d2da0...     5 w/o Kids   \n",
       "68943556bf63277816d843ffb129e23ffe60bc5b982603e...      1 w/ Kids   \n",
       "\n",
       "                                                       hh_tenure   urbanicity  \\\n",
       "id                                                                              \n",
       "c90ce3eaafffd07a32cb9cf4d153aef6f524b29aeef447b...  1 Homeowners  7 Metro Mix   \n",
       "91aa94d54079b20e2a18b09c070d0304b3df9c7272e9fc7...  1 Homeowners        8 Mix   \n",
       "eb269842f94437bfd7e3a5a1f30d7b9a84a842afd8a153e...  1 Homeowners  7 Metro Mix   \n",
       "fc05f45119a8a4b830a3463bfc8a7113b2807c88e7d2da0...  1 Homeowners  7 Metro Mix   \n",
       "68943556bf63277816d843ffb129e23ffe60bc5b982603e...     5 Renters  7 Metro Mix   \n",
       "\n",
       "                                                    median_income  \\\n",
       "id                                                                  \n",
       "c90ce3eaafffd07a32cb9cf4d153aef6f524b29aeef447b...         134658   \n",
       "91aa94d54079b20e2a18b09c070d0304b3df9c7272e9fc7...          56714   \n",
       "eb269842f94437bfd7e3a5a1f30d7b9a84a842afd8a153e...         130557   \n",
       "fc05f45119a8a4b830a3463bfc8a7113b2807c88e7d2da0...         116157   \n",
       "68943556bf63277816d843ffb129e23ffe60bc5b982603e...          49842   \n",
       "\n",
       "                                                    total_population  \\\n",
       "id                                                                     \n",
       "c90ce3eaafffd07a32cb9cf4d153aef6f524b29aeef447b...             13596   \n",
       "91aa94d54079b20e2a18b09c070d0304b3df9c7272e9fc7...             30122   \n",
       "eb269842f94437bfd7e3a5a1f30d7b9a84a842afd8a153e...             33039   \n",
       "fc05f45119a8a4b830a3463bfc8a7113b2807c88e7d2da0...             51830   \n",
       "68943556bf63277816d843ffb129e23ffe60bc5b982603e...             34512   \n",
       "\n",
       "                                                    perc_female  perc_under18  \\\n",
       "id                                                                              \n",
       "c90ce3eaafffd07a32cb9cf4d153aef6f524b29aeef447b...           47            13   \n",
       "91aa94d54079b20e2a18b09c070d0304b3df9c7272e9fc7...           52            24   \n",
       "eb269842f94437bfd7e3a5a1f30d7b9a84a842afd8a153e...           49            28   \n",
       "fc05f45119a8a4b830a3463bfc8a7113b2807c88e7d2da0...           50            19   \n",
       "68943556bf63277816d843ffb129e23ffe60bc5b982603e...           48            27   \n",
       "\n",
       "                                                    perc_over65  perc_white  \\\n",
       "id                                                                            \n",
       "c90ce3eaafffd07a32cb9cf4d153aef6f524b29aeef447b...           37          91   \n",
       "91aa94d54079b20e2a18b09c070d0304b3df9c7272e9fc7...           16          57   \n",
       "eb269842f94437bfd7e3a5a1f30d7b9a84a842afd8a153e...            9          64   \n",
       "fc05f45119a8a4b830a3463bfc8a7113b2807c88e7d2da0...           21          20   \n",
       "68943556bf63277816d843ffb129e23ffe60bc5b982603e...            9          74   \n",
       "\n",
       "                                                    perc_black  \\\n",
       "id                                                               \n",
       "c90ce3eaafffd07a32cb9cf4d153aef6f524b29aeef447b...           0   \n",
       "91aa94d54079b20e2a18b09c070d0304b3df9c7272e9fc7...          34   \n",
       "eb269842f94437bfd7e3a5a1f30d7b9a84a842afd8a153e...           6   \n",
       "fc05f45119a8a4b830a3463bfc8a7113b2807c88e7d2da0...           0   \n",
       "68943556bf63277816d843ffb129e23ffe60bc5b982603e...          11   \n",
       "\n",
       "                                                    population_density  \\\n",
       "id                                                                       \n",
       "c90ce3eaafffd07a32cb9cf4d153aef6f524b29aeef447b...                   0   \n",
       "91aa94d54079b20e2a18b09c070d0304b3df9c7272e9fc7...                 616   \n",
       "eb269842f94437bfd7e3a5a1f30d7b9a84a842afd8a153e...                2232   \n",
       "fc05f45119a8a4b830a3463bfc8a7113b2807c88e7d2da0...                1507   \n",
       "68943556bf63277816d843ffb129e23ffe60bc5b982603e...                1894   \n",
       "\n",
       "                                                    zipcode      county  \\\n",
       "id                                                                        \n",
       "c90ce3eaafffd07a32cb9cf4d153aef6f524b29aeef447b... 85266.00  Scottsdale   \n",
       "91aa94d54079b20e2a18b09c070d0304b3df9c7272e9fc7... 21801.00   Salisbury   \n",
       "eb269842f94437bfd7e3a5a1f30d7b9a84a842afd8a153e... 91354.00    Valencia   \n",
       "fc05f45119a8a4b830a3463bfc8a7113b2807c88e7d2da0... 96744.00     Kaneohe   \n",
       "68943556bf63277816d843ffb129e23ffe60bc5b982603e... 77301.00      Conroe   \n",
       "\n",
       "                                                         state state_code  \\\n",
       "id                                                                          \n",
       "c90ce3eaafffd07a32cb9cf4d153aef6f524b29aeef447b...     Arizona         AZ   \n",
       "91aa94d54079b20e2a18b09c070d0304b3df9c7272e9fc7...    Maryland         MD   \n",
       "eb269842f94437bfd7e3a5a1f30d7b9a84a842afd8a153e...  California         CA   \n",
       "fc05f45119a8a4b830a3463bfc8a7113b2807c88e7d2da0...      Hawaii         HI   \n",
       "68943556bf63277816d843ffb129e23ffe60bc5b982603e...       Texas         TX   \n",
       "\n",
       "                                                    latitude  longitude  \\\n",
       "id                                                                        \n",
       "c90ce3eaafffd07a32cb9cf4d153aef6f524b29aeef447b...     33.77    -111.92   \n",
       "91aa94d54079b20e2a18b09c070d0304b3df9c7272e9fc7...     38.38     -75.63   \n",
       "eb269842f94437bfd7e3a5a1f30d7b9a84a842afd8a153e...     34.45    -118.54   \n",
       "fc05f45119a8a4b830a3463bfc8a7113b2807c88e7d2da0...     21.42    -157.81   \n",
       "68943556bf63277816d843ffb129e23ffe60bc5b982603e...     30.31     -95.45   \n",
       "\n",
       "                                                    month  hh_income_code  \\\n",
       "id                                                                          \n",
       "c90ce3eaafffd07a32cb9cf4d153aef6f524b29aeef447b...  march               1   \n",
       "91aa94d54079b20e2a18b09c070d0304b3df9c7272e9fc7...  march               3   \n",
       "eb269842f94437bfd7e3a5a1f30d7b9a84a842afd8a153e...  march               1   \n",
       "fc05f45119a8a4b830a3463bfc8a7113b2807c88e7d2da0...  march               1   \n",
       "68943556bf63277816d843ffb129e23ffe60bc5b982603e...  march               4   \n",
       "\n",
       "                                                   day_of_week  time_of_day  \\\n",
       "id                                                                            \n",
       "c90ce3eaafffd07a32cb9cf4d153aef6f524b29aeef447b...      Monday           20   \n",
       "91aa94d54079b20e2a18b09c070d0304b3df9c7272e9fc7...    Thursday           21   \n",
       "eb269842f94437bfd7e3a5a1f30d7b9a84a842afd8a153e...   Wednesday           13   \n",
       "fc05f45119a8a4b830a3463bfc8a7113b2807c88e7d2da0...     Tuesday           12   \n",
       "68943556bf63277816d843ffb129e23ffe60bc5b982603e...     Tuesday           12   \n",
       "\n",
       "                                                    zipcode_accepted_prop  \\\n",
       "id                                                                          \n",
       "c90ce3eaafffd07a32cb9cf4d153aef6f524b29aeef447b...                   0.05   \n",
       "91aa94d54079b20e2a18b09c070d0304b3df9c7272e9fc7...                   0.10   \n",
       "eb269842f94437bfd7e3a5a1f30d7b9a84a842afd8a153e...                   0.06   \n",
       "fc05f45119a8a4b830a3463bfc8a7113b2807c88e7d2da0...                   0.10   \n",
       "68943556bf63277816d843ffb129e23ffe60bc5b982603e...                   0.19   \n",
       "\n",
       "                                                    zipcode_rejected_offers  \\\n",
       "id                                                                            \n",
       "c90ce3eaafffd07a32cb9cf4d153aef6f524b29aeef447b...                    55.00   \n",
       "91aa94d54079b20e2a18b09c070d0304b3df9c7272e9fc7...                   110.00   \n",
       "eb269842f94437bfd7e3a5a1f30d7b9a84a842afd8a153e...                   103.00   \n",
       "fc05f45119a8a4b830a3463bfc8a7113b2807c88e7d2da0...                    78.00   \n",
       "68943556bf63277816d843ffb129e23ffe60bc5b982603e...                    57.00   \n",
       "\n",
       "                                                    zipcode_accepted_offers  \\\n",
       "id                                                                            \n",
       "c90ce3eaafffd07a32cb9cf4d153aef6f524b29aeef447b...                     3.00   \n",
       "91aa94d54079b20e2a18b09c070d0304b3df9c7272e9fc7...                    12.00   \n",
       "eb269842f94437bfd7e3a5a1f30d7b9a84a842afd8a153e...                     7.00   \n",
       "fc05f45119a8a4b830a3463bfc8a7113b2807c88e7d2da0...                     9.00   \n",
       "68943556bf63277816d843ffb129e23ffe60bc5b982603e...                    13.00   \n",
       "\n",
       "                                                    zipcode_total_offers  \n",
       "id                                                                        \n",
       "c90ce3eaafffd07a32cb9cf4d153aef6f524b29aeef447b...                 58.00  \n",
       "91aa94d54079b20e2a18b09c070d0304b3df9c7272e9fc7...                122.00  \n",
       "eb269842f94437bfd7e3a5a1f30d7b9a84a842afd8a153e...                110.00  \n",
       "fc05f45119a8a4b830a3463bfc8a7113b2807c88e7d2da0...                 87.00  \n",
       "68943556bf63277816d843ffb129e23ffe60bc5b982603e...                 70.00  "
      ]
     },
     "execution_count": 20,
     "metadata": {},
     "output_type": "execute_result"
    }
   ],
   "source": [
    "train.head()"
   ]
  },
  {
   "cell_type": "code",
   "execution_count": 21,
   "id": "6b993193",
   "metadata": {},
   "outputs": [
    {
     "data": {
      "text/plain": [
       "953112"
      ]
     },
     "execution_count": 21,
     "metadata": {},
     "output_type": "execute_result"
    }
   ],
   "source": [
    "len(train)"
   ]
  },
  {
   "cell_type": "code",
   "execution_count": 22,
   "id": "55de03ba",
   "metadata": {},
   "outputs": [],
   "source": [
    "train.drop(columns = dcols, inplace = True)\n",
    "train = train[(train['zipcode_accepted_prop'].isnull()==False)& (train['zipcode_rejected_offers'].isnull()==False)& \n",
    "            (train['zipcode_accepted_offers'].isnull()==False)&(train['zipcode_total_offers'].isnull()==False)]"
   ]
  },
  {
   "cell_type": "code",
   "execution_count": 23,
   "id": "8faacb0c",
   "metadata": {},
   "outputs": [],
   "source": [
    "train = train.merge(sen_train, on='id', how='inner')"
   ]
  },
  {
   "cell_type": "code",
   "execution_count": 24,
   "id": "06ce6055",
   "metadata": {},
   "outputs": [
    {
     "data": {
      "text/plain": [
       "708693"
      ]
     },
     "execution_count": 24,
     "metadata": {},
     "output_type": "execute_result"
    }
   ],
   "source": [
    "len(train)"
   ]
  },
  {
   "cell_type": "code",
   "execution_count": 25,
   "id": "d6e03bdd",
   "metadata": {},
   "outputs": [
    {
     "data": {
      "text/plain": [
       "Index(['id', 'accepted_flg', 'seven_day_churn', 'thirty_day_churn',\n",
       "       'ninety_day_churn', 'lines', 'previous_tech_support_call',\n",
       "       'account_tenure', 'past_yr_claim_count', 'num_decline', 'exp',\n",
       "       'product_type', 'pmake', 'claritas_hh_count', 'technodoption_class',\n",
       "       'hh_income', 'age_class', 'hh_education', 'hh_composition', 'hh_tenure',\n",
       "       'urbanicity', 'median_income', 'total_population', 'perc_female',\n",
       "       'perc_under18', 'perc_over65', 'perc_white', 'perc_black',\n",
       "       'population_density', 'day_of_week', 'time_of_day',\n",
       "       'zipcode_accepted_prop', 'zipcode_rejected_offers',\n",
       "       'zipcode_accepted_offers', 'zipcode_total_offers', 'sentiment'],\n",
       "      dtype='object')"
      ]
     },
     "execution_count": 25,
     "metadata": {},
     "output_type": "execute_result"
    }
   ],
   "source": [
    "train.columns"
   ]
  },
  {
   "cell_type": "code",
   "execution_count": 26,
   "id": "de3ab744",
   "metadata": {},
   "outputs": [
    {
     "data": {
      "text/plain": [
       "Index(['id', 'accepted_flg', 'seven_day_churn', 'thirty_day_churn',\n",
       "       'ninety_day_churn', 'lines', 'previous_tech_support_call',\n",
       "       'account_tenure', 'past_yr_claim_count', 'num_decline', 'exp',\n",
       "       'product_type', 'pmake', 'claritas_hh_count', 'technodoption_class',\n",
       "       'hh_income', 'age_class', 'hh_education', 'hh_composition', 'hh_tenure',\n",
       "       'urbanicity', 'median_income', 'total_population', 'perc_female',\n",
       "       'perc_under18', 'perc_over65', 'perc_white', 'perc_black',\n",
       "       'population_density', 'day_of_week', 'time_of_day',\n",
       "       'zipcode_accepted_prop', 'zipcode_rejected_offers',\n",
       "       'zipcode_accepted_offers', 'zipcode_total_offers', 'sentiment'],\n",
       "      dtype='object')"
      ]
     },
     "execution_count": 26,
     "metadata": {},
     "output_type": "execute_result"
    }
   ],
   "source": [
    "test.columns"
   ]
  },
  {
   "cell_type": "code",
   "execution_count": 27,
   "id": "05f4b88c",
   "metadata": {},
   "outputs": [
    {
     "name": "stdout",
     "output_type": "stream",
     "text": [
      "<class 'pandas.core.frame.DataFrame'>\n",
      "Int64Index: 144064 entries, 0 to 144063\n",
      "Data columns (total 36 columns):\n",
      " #   Column                      Non-Null Count   Dtype  \n",
      "---  ------                      --------------   -----  \n",
      " 0   id                          144064 non-null  object \n",
      " 1   accepted_flg                144064 non-null  int64  \n",
      " 2   seven_day_churn             12942 non-null   float64\n",
      " 3   thirty_day_churn            12942 non-null   float64\n",
      " 4   ninety_day_churn            12942 non-null   float64\n",
      " 5   lines                       144064 non-null  int64  \n",
      " 6   previous_tech_support_call  144064 non-null  int64  \n",
      " 7   account_tenure              144064 non-null  int64  \n",
      " 8   past_yr_claim_count         144064 non-null  int64  \n",
      " 9   num_decline                 144064 non-null  int64  \n",
      " 10  exp                         144064 non-null  int64  \n",
      " 11  product_type                144064 non-null  object \n",
      " 12  pmake                       144064 non-null  object \n",
      " 13  claritas_hh_count           144064 non-null  int64  \n",
      " 14  technodoption_class         144064 non-null  object \n",
      " 15  hh_income                   144064 non-null  object \n",
      " 16  age_class                   144064 non-null  object \n",
      " 17  hh_education                144064 non-null  object \n",
      " 18  hh_composition              144064 non-null  object \n",
      " 19  hh_tenure                   144064 non-null  object \n",
      " 20  urbanicity                  144064 non-null  object \n",
      " 21  median_income               144064 non-null  int64  \n",
      " 22  total_population            144064 non-null  int64  \n",
      " 23  perc_female                 144064 non-null  int64  \n",
      " 24  perc_under18                144064 non-null  int64  \n",
      " 25  perc_over65                 144064 non-null  int64  \n",
      " 26  perc_white                  144064 non-null  int64  \n",
      " 27  perc_black                  144064 non-null  int64  \n",
      " 28  population_density          144064 non-null  int64  \n",
      " 29  day_of_week                 144064 non-null  object \n",
      " 30  time_of_day                 144064 non-null  int64  \n",
      " 31  zipcode_accepted_prop       144064 non-null  float64\n",
      " 32  zipcode_rejected_offers     144064 non-null  float64\n",
      " 33  zipcode_accepted_offers     144064 non-null  float64\n",
      " 34  zipcode_total_offers        144064 non-null  float64\n",
      " 35  sentiment                   144064 non-null  object \n",
      "dtypes: float64(7), int64(17), object(12)\n",
      "memory usage: 40.7+ MB\n"
     ]
    }
   ],
   "source": [
    "test[\"previous_tech_support_call\"] = test[\"previous_tech_support_call\"].astype(int)\n",
    "test[\"num_decline\"] = test[\"num_decline\"].astype(int)\n",
    "test[\"exp\"] = test[\"exp\"].astype(int)\n",
    "test[\"claritas_hh_count\"] = test[\"claritas_hh_count\"].astype(int)\n",
    "test[\"time_of_day\"] = test[\"time_of_day\"].astype(int)\n",
    "test.info()"
   ]
  },
  {
   "cell_type": "code",
   "execution_count": 28,
   "id": "e61d0191",
   "metadata": {},
   "outputs": [],
   "source": [
    "def transform_xy(dat):\n",
    "    X_ori = dat[[\n",
    "#         'emplid','cvp_call_id',\n",
    "                 'lines', 'previous_tech_support_call','account_tenure', 'past_yr_claim_count', \n",
    "                'num_decline', 'exp', \n",
    "#                  'churn',\n",
    "                 'product_type', 'pmake', \n",
    "                 'claritas_hh_count',\n",
    "                 'technodoption_class', 'hh_income', 'age_class', 'hh_education',\n",
    "                 'hh_composition', 'hh_tenure', 'urbanicity','median_income', 'total_population', \n",
    "                 'perc_female', 'perc_under18',\n",
    "                'perc_over65', 'perc_white', 'perc_black', 'population_density', 'day_of_week', 'time_of_day',\n",
    "       'zipcode_accepted_prop', 'zipcode_rejected_offers',\n",
    "       'zipcode_accepted_offers', 'zipcode_total_offers', 'sentiment']]\n",
    "    y = dat[['accepted_flg']]\n",
    "   \n",
    "    X_ori.loc[X_ori.lines.isnull(), 'lines'] = 0\n",
    "    X_ori.exp = X_ori.exp.apply(int)\n",
    "    X_ori.num_decline = X_ori.num_decline.apply(float)\n",
    "    X_ori.loc[X_ori.account_tenure.isnull(), 'account_tenure'] = 0\n",
    "    X_ori.loc[X_ori.claritas_hh_count.isnull(), 'claritas_hh_count'] = 0\n",
    "    X_ori.loc[X_ori.exp.isnull(), 'exp'] = 'Unknown'\n",
    "    X_ori.loc[X_ori.product_type.isnull(), 'product_type'] = 'Unknown'\n",
    "    X_ori.loc[X_ori.pmake.isnull(), 'pmake'] = 'Unknown'\n",
    "    X_ori.loc[X_ori.technodoption_class.isnull(), 'technodoption_class'] = 'Unknown'\n",
    "    X_ori.loc[X_ori.hh_income.isnull(), 'hh_income'] = 'Unknown'\n",
    "    X_ori.loc[X_ori.age_class.isnull(), 'age_class'] = 'Unknown'\n",
    "    X_ori.loc[X_ori.hh_education.isnull(), 'hh_education'] = 'Unknown'\n",
    "    X_ori.loc[X_ori.hh_composition.isnull(), 'hh_composition'] = 'Unknown'\n",
    "    X_ori.loc[X_ori.hh_tenure.isnull(), 'hh_tenure'] = 'Unknown'\n",
    "    X_ori.loc[X_ori.urbanicity.isnull(), 'urbanicity'] = 'Unknown'\n",
    "    X_ori.loc[X_ori.day_of_week.isnull(), 'day_of_week'] = 'Unknown'\n",
    "    X_ori.loc[X_ori.time_of_day.isnull(), 'time_of_day'] = 'Unknown'\n",
    "    X_ori.loc[X_ori.zipcode_accepted_prop.isnull(), 'zipcode_accepted_prop'] = 0\n",
    "    X_ori.loc[X_ori.zipcode_rejected_offers.isnull(), 'zipcode_rejected_offers'] = 0\n",
    "    X_ori.loc[X_ori.zipcode_accepted_offers.isnull(), 'zipcode_accepted_offers'] = 0\n",
    "    X_ori.loc[X_ori.zipcode_total_offers.isnull(), 'zipcode_total_offers'] = 0\n",
    "    X_ori.loc[X_ori.median_income.isnull(), 'median_income'] = 0\n",
    "    X_ori.loc[X_ori.total_population.isnull(), 'total_population'] = 0\n",
    "    X_ori.loc[X_ori.perc_female.isnull(), 'perc_female'] = 0\n",
    "    X_ori.loc[X_ori.perc_under18.isnull(), 'perc_under18'] = 0\n",
    "    X_ori.loc[X_ori.perc_over65.isnull(), 'perc_over65'] = 0\n",
    "    X_ori.loc[X_ori.perc_white.isnull(), 'perc_white'] = 0\n",
    "    X_ori.loc[X_ori.perc_black.isnull(), 'perc_black'] = 0\n",
    "    X_ori.loc[X_ori.population_density.isnull(), 'population_density'] = 0\n",
    "    X_ori.loc[X_ori.previous_tech_support_call.isnull(), 'previous_tech_support_call'] = \"Unknown\"\n",
    "    X_ori.loc[X_ori.sentiment.isnull(), 'sentiment'] = \"Unknown\"\n",
    "    \n",
    "\n",
    "    return X_ori,y"
   ]
  },
  {
   "cell_type": "code",
   "execution_count": 29,
   "id": "fce85429",
   "metadata": {},
   "outputs": [],
   "source": [
    "X,y = transform_xy(train)\n",
    "x_hold_out, y_hold_out = transform_xy(test)"
   ]
  },
  {
   "cell_type": "code",
   "execution_count": 30,
   "id": "7e3f946a",
   "metadata": {},
   "outputs": [],
   "source": [
    "X['lines'] = X['lines'].astype(np.int) \n",
    "X['previous_tech_support_call'] = X['previous_tech_support_call'].astype('category')\n",
    "X['num_decline'] = X['num_decline'].astype(np.int) \n",
    "X['past_yr_claim_count'] = X['past_yr_claim_count'].astype(np.int) \n",
    "X['exp'] = X['exp'].astype('category') \n",
    "X['account_tenure'] = X['account_tenure'].astype(np.int) \n",
    "X['pmake'] = X['pmake'].astype('category')\n",
    "X['technodoption_class'] = X['technodoption_class'].astype('category')\n",
    "X['claritas_hh_count'] = X['claritas_hh_count'].astype('category')\n",
    "X['hh_income'] = X['hh_income'].astype('category')\n",
    "X['age_class'] = X['age_class'].astype('category')\n",
    "X['hh_education'] = X['hh_education'].astype('category')\n",
    "X['hh_composition'] = X['hh_composition'].astype('category')\n",
    "X['hh_tenure'] = X['hh_tenure'].astype('category')\n",
    "X['urbanicity'] = X['urbanicity'].astype('category')\n",
    "X['product_type'] = X['product_type'].astype('category')\n",
    "X['day_of_week'] = X['day_of_week'].astype('category')\n",
    "X['time_of_day'] = X['time_of_day'].astype('category')\n",
    "X['zipcode_accepted_prop'] = (X['zipcode_accepted_prop']*100).astype(np.int)\n",
    "X['zipcode_rejected_offers'] = X['zipcode_rejected_offers'].astype(np.int)\n",
    "X['zipcode_accepted_offers'] = X['zipcode_accepted_offers'].astype(np.int)\n",
    "X['zipcode_total_offers'] = X['zipcode_total_offers'].astype(np.int)\n",
    "\n",
    "\n",
    "X['median_income'] = X['median_income'].astype(np.int)\n",
    "X['total_population'] = X['total_population'].astype(np.int)\n",
    "X['perc_female'] = X['perc_female'].astype(np.int)\n",
    "X['perc_under18'] = X['perc_under18'].astype(np.int)\n",
    "X['perc_over65'] = X['perc_over65'].astype(np.int)\n",
    "X['perc_white'] = X['perc_white'].astype(np.int)\n",
    "X['perc_black'] = X['perc_black'].astype(np.int)\n",
    "X['population_density'] = X['population_density'].astype(np.int)\n",
    "X['sentiment'] = X['sentiment'].astype('category')"
   ]
  },
  {
   "cell_type": "code",
   "execution_count": 31,
   "id": "b2713706",
   "metadata": {},
   "outputs": [],
   "source": [
    "x_hold_out['lines'] = x_hold_out['lines'].astype(np.int) \n",
    "x_hold_out['previous_tech_support_call'] = x_hold_out['previous_tech_support_call'].astype('category')\n",
    "x_hold_out['num_decline'] = x_hold_out['num_decline'].astype(np.int) \n",
    "x_hold_out['past_yr_claim_count'] = x_hold_out['past_yr_claim_count'].astype(np.int) \n",
    "x_hold_out['exp'] = x_hold_out['exp'].astype('category') \n",
    "x_hold_out['account_tenure'] = x_hold_out['account_tenure'].astype(np.int) \n",
    "x_hold_out['pmake'] = x_hold_out['pmake'].astype('category')\n",
    "x_hold_out['technodoption_class'] = x_hold_out['technodoption_class'].astype('category')\n",
    "x_hold_out['claritas_hh_count'] = x_hold_out['claritas_hh_count'].astype('category')\n",
    "x_hold_out['hh_income'] = x_hold_out['hh_income'].astype('category')\n",
    "x_hold_out['age_class'] = x_hold_out['age_class'].astype('category')\n",
    "x_hold_out['hh_education'] = x_hold_out['hh_education'].astype('category')\n",
    "x_hold_out['hh_composition'] = x_hold_out['hh_composition'].astype('category')\n",
    "x_hold_out['hh_tenure'] = x_hold_out['hh_tenure'].astype('category')\n",
    "x_hold_out['urbanicity'] = x_hold_out['urbanicity'].astype('category')\n",
    "x_hold_out['product_type'] = x_hold_out['product_type'].astype('category')\n",
    "x_hold_out['day_of_week'] = x_hold_out['day_of_week'].astype('category')\n",
    "x_hold_out['time_of_day'] = x_hold_out['time_of_day'].astype('category')\n",
    "x_hold_out['zipcode_accepted_prop'] = (x_hold_out['zipcode_accepted_prop']*100).astype(np.int)\n",
    "x_hold_out['zipcode_rejected_offers'] = x_hold_out['zipcode_rejected_offers'].astype(np.int)\n",
    "x_hold_out['zipcode_accepted_offers'] = x_hold_out['zipcode_accepted_offers'].astype(np.int)\n",
    "x_hold_out['zipcode_total_offers'] = x_hold_out['zipcode_total_offers'].astype(np.int)\n",
    "\n",
    "\n",
    "x_hold_out['median_income'] = x_hold_out['median_income'].astype(np.int)\n",
    "x_hold_out['total_population'] = x_hold_out['total_population'].astype(np.int)\n",
    "x_hold_out['perc_female'] = x_hold_out['perc_female'].astype(np.int)\n",
    "x_hold_out['perc_under18'] = x_hold_out['perc_under18'].astype(np.int)\n",
    "x_hold_out['perc_over65'] = x_hold_out['perc_over65'].astype(np.int)\n",
    "x_hold_out['perc_white'] = x_hold_out['perc_white'].astype(np.int)\n",
    "x_hold_out['perc_black'] = x_hold_out['perc_black'].astype(np.int)\n",
    "x_hold_out['population_density'] = x_hold_out['population_density'].astype(np.int)\n",
    "x_hold_out['sentiment'] = x_hold_out['sentiment'].astype('category')"
   ]
  },
  {
   "cell_type": "code",
   "execution_count": 32,
   "id": "aebe5869",
   "metadata": {},
   "outputs": [
    {
     "data": {
      "text/html": [
       "<div>\n",
       "<style scoped>\n",
       "    .dataframe tbody tr th:only-of-type {\n",
       "        vertical-align: middle;\n",
       "    }\n",
       "\n",
       "    .dataframe tbody tr th {\n",
       "        vertical-align: top;\n",
       "    }\n",
       "\n",
       "    .dataframe thead th {\n",
       "        text-align: right;\n",
       "    }\n",
       "</style>\n",
       "<table border=\"1\" class=\"dataframe\">\n",
       "  <thead>\n",
       "    <tr style=\"text-align: right;\">\n",
       "      <th></th>\n",
       "      <th>lines</th>\n",
       "      <th>previous_tech_support_call</th>\n",
       "      <th>account_tenure</th>\n",
       "      <th>past_yr_claim_count</th>\n",
       "      <th>num_decline</th>\n",
       "      <th>exp</th>\n",
       "      <th>product_type</th>\n",
       "      <th>pmake</th>\n",
       "      <th>claritas_hh_count</th>\n",
       "      <th>technodoption_class</th>\n",
       "      <th>hh_income</th>\n",
       "      <th>age_class</th>\n",
       "      <th>hh_education</th>\n",
       "      <th>hh_composition</th>\n",
       "      <th>hh_tenure</th>\n",
       "      <th>urbanicity</th>\n",
       "      <th>median_income</th>\n",
       "      <th>total_population</th>\n",
       "      <th>perc_female</th>\n",
       "      <th>perc_under18</th>\n",
       "      <th>perc_over65</th>\n",
       "      <th>perc_white</th>\n",
       "      <th>perc_black</th>\n",
       "      <th>population_density</th>\n",
       "      <th>day_of_week</th>\n",
       "      <th>time_of_day</th>\n",
       "      <th>zipcode_accepted_prop</th>\n",
       "      <th>zipcode_rejected_offers</th>\n",
       "      <th>zipcode_accepted_offers</th>\n",
       "      <th>zipcode_total_offers</th>\n",
       "      <th>sentiment</th>\n",
       "    </tr>\n",
       "  </thead>\n",
       "  <tbody>\n",
       "    <tr>\n",
       "      <th>0</th>\n",
       "      <td>1</td>\n",
       "      <td>10</td>\n",
       "      <td>216</td>\n",
       "      <td>5</td>\n",
       "      <td>13</td>\n",
       "      <td>1</td>\n",
       "      <td>SD</td>\n",
       "      <td>android</td>\n",
       "      <td>2507965</td>\n",
       "      <td>High-Tech</td>\n",
       "      <td>3 Upper Midscale</td>\n",
       "      <td>2 Middle Age</td>\n",
       "      <td>2 College Graduate</td>\n",
       "      <td>1 w/ Kids</td>\n",
       "      <td>1 Homeowners</td>\n",
       "      <td>8 Mix</td>\n",
       "      <td>56714</td>\n",
       "      <td>30122</td>\n",
       "      <td>52</td>\n",
       "      <td>24</td>\n",
       "      <td>16</td>\n",
       "      <td>57</td>\n",
       "      <td>34</td>\n",
       "      <td>616</td>\n",
       "      <td>Thursday</td>\n",
       "      <td>21</td>\n",
       "      <td>9</td>\n",
       "      <td>110</td>\n",
       "      <td>12</td>\n",
       "      <td>122</td>\n",
       "      <td>negative</td>\n",
       "    </tr>\n",
       "    <tr>\n",
       "      <th>1</th>\n",
       "      <td>5</td>\n",
       "      <td>30</td>\n",
       "      <td>6559</td>\n",
       "      <td>0</td>\n",
       "      <td>11</td>\n",
       "      <td>1</td>\n",
       "      <td>MD</td>\n",
       "      <td>android</td>\n",
       "      <td>2576615</td>\n",
       "      <td>Mid-Tech</td>\n",
       "      <td>1 Wealthy</td>\n",
       "      <td>3 Older</td>\n",
       "      <td>1 Graduate Plus</td>\n",
       "      <td>5 w/o Kids</td>\n",
       "      <td>1 Homeowners</td>\n",
       "      <td>7 Metro Mix</td>\n",
       "      <td>130557</td>\n",
       "      <td>33039</td>\n",
       "      <td>49</td>\n",
       "      <td>28</td>\n",
       "      <td>9</td>\n",
       "      <td>64</td>\n",
       "      <td>6</td>\n",
       "      <td>2232</td>\n",
       "      <td>Wednesday</td>\n",
       "      <td>13</td>\n",
       "      <td>6</td>\n",
       "      <td>103</td>\n",
       "      <td>7</td>\n",
       "      <td>110</td>\n",
       "      <td>positive</td>\n",
       "    </tr>\n",
       "    <tr>\n",
       "      <th>2</th>\n",
       "      <td>5</td>\n",
       "      <td>1</td>\n",
       "      <td>3944</td>\n",
       "      <td>0</td>\n",
       "      <td>0</td>\n",
       "      <td>1</td>\n",
       "      <td>MD</td>\n",
       "      <td>android</td>\n",
       "      <td>2576615</td>\n",
       "      <td>Mid-Tech</td>\n",
       "      <td>1 Wealthy</td>\n",
       "      <td>3 Older</td>\n",
       "      <td>1 Graduate Plus</td>\n",
       "      <td>5 w/o Kids</td>\n",
       "      <td>1 Homeowners</td>\n",
       "      <td>7 Metro Mix</td>\n",
       "      <td>116157</td>\n",
       "      <td>51830</td>\n",
       "      <td>50</td>\n",
       "      <td>19</td>\n",
       "      <td>21</td>\n",
       "      <td>20</td>\n",
       "      <td>0</td>\n",
       "      <td>1507</td>\n",
       "      <td>Tuesday</td>\n",
       "      <td>12</td>\n",
       "      <td>10</td>\n",
       "      <td>78</td>\n",
       "      <td>9</td>\n",
       "      <td>87</td>\n",
       "      <td>neutral</td>\n",
       "    </tr>\n",
       "    <tr>\n",
       "      <th>3</th>\n",
       "      <td>2</td>\n",
       "      <td>4</td>\n",
       "      <td>689</td>\n",
       "      <td>1</td>\n",
       "      <td>8</td>\n",
       "      <td>1</td>\n",
       "      <td>SD</td>\n",
       "      <td>android</td>\n",
       "      <td>1715961</td>\n",
       "      <td>High-Tech</td>\n",
       "      <td>4 Midscale</td>\n",
       "      <td>1 Younger</td>\n",
       "      <td>3 Some College</td>\n",
       "      <td>1 w/ Kids</td>\n",
       "      <td>5 Renters</td>\n",
       "      <td>7 Metro Mix</td>\n",
       "      <td>49842</td>\n",
       "      <td>34512</td>\n",
       "      <td>48</td>\n",
       "      <td>27</td>\n",
       "      <td>9</td>\n",
       "      <td>74</td>\n",
       "      <td>11</td>\n",
       "      <td>1894</td>\n",
       "      <td>Tuesday</td>\n",
       "      <td>12</td>\n",
       "      <td>18</td>\n",
       "      <td>57</td>\n",
       "      <td>13</td>\n",
       "      <td>70</td>\n",
       "      <td>positive</td>\n",
       "    </tr>\n",
       "    <tr>\n",
       "      <th>4</th>\n",
       "      <td>5</td>\n",
       "      <td>2</td>\n",
       "      <td>1369</td>\n",
       "      <td>0</td>\n",
       "      <td>5</td>\n",
       "      <td>1</td>\n",
       "      <td>MD</td>\n",
       "      <td>android</td>\n",
       "      <td>2693700</td>\n",
       "      <td>Mid-Tech</td>\n",
       "      <td>3 Upper Midscale</td>\n",
       "      <td>3 Older</td>\n",
       "      <td>2 College Graduate</td>\n",
       "      <td>5 w/o Kids</td>\n",
       "      <td>2 Mostly Owners</td>\n",
       "      <td>7 Metro Mix</td>\n",
       "      <td>100645</td>\n",
       "      <td>36460</td>\n",
       "      <td>48</td>\n",
       "      <td>20</td>\n",
       "      <td>15</td>\n",
       "      <td>81</td>\n",
       "      <td>0</td>\n",
       "      <td>225</td>\n",
       "      <td>Monday</td>\n",
       "      <td>16</td>\n",
       "      <td>6</td>\n",
       "      <td>140</td>\n",
       "      <td>10</td>\n",
       "      <td>150</td>\n",
       "      <td>positive</td>\n",
       "    </tr>\n",
       "  </tbody>\n",
       "</table>\n",
       "</div>"
      ],
      "text/plain": [
       "   lines previous_tech_support_call  account_tenure  past_yr_claim_count  \\\n",
       "0      1                         10             216                    5   \n",
       "1      5                         30            6559                    0   \n",
       "2      5                          1            3944                    0   \n",
       "3      2                          4             689                    1   \n",
       "4      5                          2            1369                    0   \n",
       "\n",
       "   num_decline exp product_type    pmake claritas_hh_count  \\\n",
       "0           13   1           SD  android           2507965   \n",
       "1           11   1           MD  android           2576615   \n",
       "2            0   1           MD  android           2576615   \n",
       "3            8   1           SD  android           1715961   \n",
       "4            5   1           MD  android           2693700   \n",
       "\n",
       "  technodoption_class         hh_income     age_class        hh_education  \\\n",
       "0           High-Tech  3 Upper Midscale  2 Middle Age  2 College Graduate   \n",
       "1            Mid-Tech         1 Wealthy       3 Older     1 Graduate Plus   \n",
       "2            Mid-Tech         1 Wealthy       3 Older     1 Graduate Plus   \n",
       "3           High-Tech        4 Midscale     1 Younger      3 Some College   \n",
       "4            Mid-Tech  3 Upper Midscale       3 Older  2 College Graduate   \n",
       "\n",
       "  hh_composition        hh_tenure   urbanicity  median_income  \\\n",
       "0      1 w/ Kids     1 Homeowners        8 Mix          56714   \n",
       "1     5 w/o Kids     1 Homeowners  7 Metro Mix         130557   \n",
       "2     5 w/o Kids     1 Homeowners  7 Metro Mix         116157   \n",
       "3      1 w/ Kids        5 Renters  7 Metro Mix          49842   \n",
       "4     5 w/o Kids  2 Mostly Owners  7 Metro Mix         100645   \n",
       "\n",
       "   total_population  perc_female  perc_under18  perc_over65  perc_white  \\\n",
       "0             30122           52            24           16          57   \n",
       "1             33039           49            28            9          64   \n",
       "2             51830           50            19           21          20   \n",
       "3             34512           48            27            9          74   \n",
       "4             36460           48            20           15          81   \n",
       "\n",
       "   perc_black  population_density day_of_week time_of_day  \\\n",
       "0          34                 616    Thursday          21   \n",
       "1           6                2232   Wednesday          13   \n",
       "2           0                1507     Tuesday          12   \n",
       "3          11                1894     Tuesday          12   \n",
       "4           0                 225      Monday          16   \n",
       "\n",
       "   zipcode_accepted_prop  zipcode_rejected_offers  zipcode_accepted_offers  \\\n",
       "0                      9                      110                       12   \n",
       "1                      6                      103                        7   \n",
       "2                     10                       78                        9   \n",
       "3                     18                       57                       13   \n",
       "4                      6                      140                       10   \n",
       "\n",
       "   zipcode_total_offers sentiment  \n",
       "0                   122  negative  \n",
       "1                   110  positive  \n",
       "2                    87   neutral  \n",
       "3                    70  positive  \n",
       "4                   150  positive  "
      ]
     },
     "execution_count": 32,
     "metadata": {},
     "output_type": "execute_result"
    }
   ],
   "source": [
    "X.head()"
   ]
  },
  {
   "cell_type": "code",
   "execution_count": 33,
   "id": "b3a4b388",
   "metadata": {},
   "outputs": [
    {
     "data": {
      "text/plain": [
       "144064"
      ]
     },
     "execution_count": 33,
     "metadata": {},
     "output_type": "execute_result"
    }
   ],
   "source": [
    "len(x_hold_out)"
   ]
  },
  {
   "cell_type": "code",
   "execution_count": 34,
   "id": "e7867dcc",
   "metadata": {},
   "outputs": [
    {
     "data": {
      "text/plain": [
       "708693"
      ]
     },
     "execution_count": 34,
     "metadata": {},
     "output_type": "execute_result"
    }
   ],
   "source": [
    "len(X)"
   ]
  },
  {
   "cell_type": "code",
   "execution_count": 35,
   "id": "c45f15a3",
   "metadata": {},
   "outputs": [
    {
     "data": {
      "text/plain": [
       "708693"
      ]
     },
     "execution_count": 35,
     "metadata": {},
     "output_type": "execute_result"
    }
   ],
   "source": [
    "len(y)"
   ]
  },
  {
   "cell_type": "code",
   "execution_count": 36,
   "id": "0a66ef9f",
   "metadata": {},
   "outputs": [
    {
     "data": {
      "text/plain": [
       "pandas.core.frame.DataFrame"
      ]
     },
     "execution_count": 36,
     "metadata": {},
     "output_type": "execute_result"
    }
   ],
   "source": [
    "type(train)"
   ]
  },
  {
   "cell_type": "code",
   "execution_count": 37,
   "id": "85678d6e",
   "metadata": {},
   "outputs": [
    {
     "data": {
      "text/plain": [
       "pandas.core.frame.DataFrame"
      ]
     },
     "execution_count": 37,
     "metadata": {},
     "output_type": "execute_result"
    }
   ],
   "source": [
    "type(test)"
   ]
  },
  {
   "cell_type": "code",
   "execution_count": 38,
   "id": "9ee3b1c4",
   "metadata": {},
   "outputs": [
    {
     "data": {
      "text/plain": [
       "144064"
      ]
     },
     "execution_count": 38,
     "metadata": {},
     "output_type": "execute_result"
    }
   ],
   "source": [
    "len(test)"
   ]
  },
  {
   "cell_type": "code",
   "execution_count": 39,
   "id": "fd27ec43",
   "metadata": {},
   "outputs": [
    {
     "data": {
      "text/plain": [
       "144064"
      ]
     },
     "execution_count": 39,
     "metadata": {},
     "output_type": "execute_result"
    }
   ],
   "source": [
    "len(x_hold_out)"
   ]
  },
  {
   "cell_type": "code",
   "execution_count": 40,
   "id": "20530ac7",
   "metadata": {},
   "outputs": [
    {
     "data": {
      "text/plain": [
       "144064"
      ]
     },
     "execution_count": 40,
     "metadata": {},
     "output_type": "execute_result"
    }
   ],
   "source": [
    "len(y_hold_out)"
   ]
  },
  {
   "cell_type": "code",
   "execution_count": 41,
   "id": "7901e65d",
   "metadata": {},
   "outputs": [
    {
     "name": "stdout",
     "output_type": "stream",
     "text": [
      "<class 'pandas.core.frame.DataFrame'>\n",
      "Int64Index: 708693 entries, 0 to 708692\n",
      "Data columns (total 31 columns):\n",
      " #   Column                      Non-Null Count   Dtype   \n",
      "---  ------                      --------------   -----   \n",
      " 0   lines                       708693 non-null  int64   \n",
      " 1   previous_tech_support_call  708693 non-null  category\n",
      " 2   account_tenure              708693 non-null  int64   \n",
      " 3   past_yr_claim_count         708693 non-null  int64   \n",
      " 4   num_decline                 708693 non-null  int64   \n",
      " 5   exp                         708693 non-null  category\n",
      " 6   product_type                708693 non-null  category\n",
      " 7   pmake                       708693 non-null  category\n",
      " 8   claritas_hh_count           708693 non-null  category\n",
      " 9   technodoption_class         708693 non-null  category\n",
      " 10  hh_income                   708693 non-null  category\n",
      " 11  age_class                   708693 non-null  category\n",
      " 12  hh_education                708693 non-null  category\n",
      " 13  hh_composition              708693 non-null  category\n",
      " 14  hh_tenure                   708693 non-null  category\n",
      " 15  urbanicity                  708693 non-null  category\n",
      " 16  median_income               708693 non-null  int64   \n",
      " 17  total_population            708693 non-null  int64   \n",
      " 18  perc_female                 708693 non-null  int64   \n",
      " 19  perc_under18                708693 non-null  int64   \n",
      " 20  perc_over65                 708693 non-null  int64   \n",
      " 21  perc_white                  708693 non-null  int64   \n",
      " 22  perc_black                  708693 non-null  int64   \n",
      " 23  population_density          708693 non-null  int64   \n",
      " 24  day_of_week                 708693 non-null  category\n",
      " 25  time_of_day                 708693 non-null  category\n",
      " 26  zipcode_accepted_prop       708693 non-null  int64   \n",
      " 27  zipcode_rejected_offers     708693 non-null  int64   \n",
      " 28  zipcode_accepted_offers     708693 non-null  int64   \n",
      " 29  zipcode_total_offers        708693 non-null  int64   \n",
      " 30  sentiment                   708693 non-null  category\n",
      "dtypes: category(15), int64(16)\n",
      "memory usage: 102.7 MB\n"
     ]
    }
   ],
   "source": [
    "X.info()"
   ]
  },
  {
   "cell_type": "code",
   "execution_count": 42,
   "id": "9dd8ac88",
   "metadata": {},
   "outputs": [
    {
     "name": "stdout",
     "output_type": "stream",
     "text": [
      "<class 'pandas.core.frame.DataFrame'>\n",
      "Int64Index: 144064 entries, 0 to 144063\n",
      "Data columns (total 31 columns):\n",
      " #   Column                      Non-Null Count   Dtype   \n",
      "---  ------                      --------------   -----   \n",
      " 0   lines                       144064 non-null  int64   \n",
      " 1   previous_tech_support_call  144064 non-null  category\n",
      " 2   account_tenure              144064 non-null  int64   \n",
      " 3   past_yr_claim_count         144064 non-null  int64   \n",
      " 4   num_decline                 144064 non-null  int64   \n",
      " 5   exp                         144064 non-null  category\n",
      " 6   product_type                144064 non-null  category\n",
      " 7   pmake                       144064 non-null  category\n",
      " 8   claritas_hh_count           144064 non-null  category\n",
      " 9   technodoption_class         144064 non-null  category\n",
      " 10  hh_income                   144064 non-null  category\n",
      " 11  age_class                   144064 non-null  category\n",
      " 12  hh_education                144064 non-null  category\n",
      " 13  hh_composition              144064 non-null  category\n",
      " 14  hh_tenure                   144064 non-null  category\n",
      " 15  urbanicity                  144064 non-null  category\n",
      " 16  median_income               144064 non-null  int64   \n",
      " 17  total_population            144064 non-null  int64   \n",
      " 18  perc_female                 144064 non-null  int64   \n",
      " 19  perc_under18                144064 non-null  int64   \n",
      " 20  perc_over65                 144064 non-null  int64   \n",
      " 21  perc_white                  144064 non-null  int64   \n",
      " 22  perc_black                  144064 non-null  int64   \n",
      " 23  population_density          144064 non-null  int64   \n",
      " 24  day_of_week                 144064 non-null  category\n",
      " 25  time_of_day                 144064 non-null  category\n",
      " 26  zipcode_accepted_prop       144064 non-null  int64   \n",
      " 27  zipcode_rejected_offers     144064 non-null  int64   \n",
      " 28  zipcode_accepted_offers     144064 non-null  int64   \n",
      " 29  zipcode_total_offers        144064 non-null  int64   \n",
      " 30  sentiment                   144064 non-null  category\n",
      "dtypes: category(15), int64(16)\n",
      "memory usage: 20.9 MB\n"
     ]
    }
   ],
   "source": [
    "x_hold_out.info()"
   ]
  },
  {
   "cell_type": "code",
   "execution_count": 43,
   "id": "23930aa3",
   "metadata": {},
   "outputs": [],
   "source": [
    "Xf_train, Xf_test, y_train, y_test = train_test_split(X,y, test_size = 0.3, stratify=y['accepted_flg'])"
   ]
  },
  {
   "cell_type": "code",
   "execution_count": 44,
   "id": "b82adce0",
   "metadata": {},
   "outputs": [
    {
     "data": {
      "text/plain": [
       "Index(['lines', 'previous_tech_support_call', 'account_tenure',\n",
       "       'past_yr_claim_count', 'num_decline', 'exp', 'product_type', 'pmake',\n",
       "       'claritas_hh_count', 'technodoption_class', 'hh_income', 'age_class',\n",
       "       'hh_education', 'hh_composition', 'hh_tenure', 'urbanicity',\n",
       "       'median_income', 'total_population', 'perc_female', 'perc_under18',\n",
       "       'perc_over65', 'perc_white', 'perc_black', 'population_density',\n",
       "       'day_of_week', 'time_of_day', 'zipcode_accepted_prop',\n",
       "       'zipcode_rejected_offers', 'zipcode_accepted_offers',\n",
       "       'zipcode_total_offers', 'sentiment'],\n",
       "      dtype='object')"
      ]
     },
     "execution_count": 44,
     "metadata": {},
     "output_type": "execute_result"
    }
   ],
   "source": [
    "Xf_train.columns"
   ]
  },
  {
   "cell_type": "code",
   "execution_count": 45,
   "id": "df7f2d99",
   "metadata": {},
   "outputs": [
    {
     "data": {
      "text/plain": [
       "Index(['lines', 'previous_tech_support_call', 'account_tenure',\n",
       "       'past_yr_claim_count', 'num_decline', 'exp', 'product_type', 'pmake',\n",
       "       'claritas_hh_count', 'technodoption_class', 'hh_income', 'age_class',\n",
       "       'hh_education', 'hh_composition', 'hh_tenure', 'urbanicity',\n",
       "       'median_income', 'total_population', 'perc_female', 'perc_under18',\n",
       "       'perc_over65', 'perc_white', 'perc_black', 'population_density',\n",
       "       'day_of_week', 'time_of_day', 'zipcode_accepted_prop',\n",
       "       'zipcode_rejected_offers', 'zipcode_accepted_offers',\n",
       "       'zipcode_total_offers', 'sentiment'],\n",
       "      dtype='object')"
      ]
     },
     "execution_count": 45,
     "metadata": {},
     "output_type": "execute_result"
    }
   ],
   "source": [
    "Xf_test.columns"
   ]
  },
  {
   "cell_type": "code",
   "execution_count": 46,
   "id": "d5c0e117",
   "metadata": {},
   "outputs": [
    {
     "data": {
      "text/plain": [
       "accepted_flg\n",
       "0               445486\n",
       "1                50599\n",
       "dtype: int64"
      ]
     },
     "execution_count": 46,
     "metadata": {},
     "output_type": "execute_result"
    }
   ],
   "source": [
    "y_train.value_counts()"
   ]
  },
  {
   "cell_type": "code",
   "execution_count": 47,
   "id": "fcb08391",
   "metadata": {},
   "outputs": [],
   "source": [
    "train_census_dataset = cb.Pool(Xf_train,y_train, \n",
    "                        cat_features=np.where(Xf_train.dtypes != np.int)[0])                                                      \n",
    "test_census_dataset = cb.Pool(Xf_test, y_test,           \n",
    "                       cat_features=np.where(Xf_test.dtypes != np.int)[0])"
   ]
  },
  {
   "cell_type": "code",
   "execution_count": 48,
   "id": "5b0f71aa",
   "metadata": {},
   "outputs": [],
   "source": [
    "holdout_census_dataset = cb.Pool(x_hold_out, y_hold_out,           \n",
    "                       cat_features=np.where(x_hold_out.dtypes != np.int)[0])"
   ]
  },
  {
   "cell_type": "code",
   "execution_count": 49,
   "id": "aa6c65c3",
   "metadata": {},
   "outputs": [
    {
     "data": {
      "text/plain": [
       "8.804245143184648"
      ]
     },
     "execution_count": 49,
     "metadata": {},
     "output_type": "execute_result"
    }
   ],
   "source": [
    "spw = (y_train['accepted_flg'] == 0.00).sum()/(y_train['accepted_flg'] == 1.00).sum()\n",
    "spw"
   ]
  },
  {
   "cell_type": "code",
   "execution_count": 50,
   "id": "432c0237",
   "metadata": {},
   "outputs": [],
   "source": [
    "from catboost import CatBoostClassifier"
   ]
  },
  {
   "cell_type": "code",
   "execution_count": 51,
   "id": "5064d8f1",
   "metadata": {},
   "outputs": [
    {
     "data": {
      "application/vnd.jupyter.widget-view+json": {
       "model_id": "a156ac59649149ffbfa9c23ccdbafd63",
       "version_major": 2,
       "version_minor": 0
      },
      "text/plain": [
       "MetricVisualizer(layout=Layout(align_self='stretch', height='500px'))"
      ]
     },
     "metadata": {},
     "output_type": "display_data"
    },
    {
     "data": {
      "text/plain": [
       "<catboost.core.CatBoostClassifier at 0x7f4f092ddd90>"
      ]
     },
     "execution_count": 51,
     "metadata": {},
     "output_type": "execute_result"
    }
   ],
   "source": [
    "#initiate model\n",
    "cat_model_census = CatBoostClassifier(\n",
    "    cat_features = np.where(Xf_train.dtypes != np.int)[0],\n",
    "    scale_pos_weight=spw,\n",
    "    max_depth = 7,\n",
    "    learning_rate = 0.05\n",
    ")\n",
    "#train\n",
    "cat_model_census.fit(train_census_dataset, \n",
    "       eval_set=test_census_dataset,\n",
    "      plot=True, silent= True)"
   ]
  },
  {
   "cell_type": "code",
   "execution_count": 52,
   "id": "bc461ad5",
   "metadata": {},
   "outputs": [
    {
     "name": "stdout",
     "output_type": "stream",
     "text": [
      "catboost_holdout_set \n",
      " recall: 0.541850555471009 \n",
      " precision 0.12787085420819191 \n",
      " [[82354 48568]\n",
      " [ 6021  7121]] \n",
      " f1 score: 0.20691258299312812 \n",
      " tn:82354, fp:48568, fn:6021, tp:7121 \n",
      "\n"
     ]
    }
   ],
   "source": [
    "pred_census = cat_model_census.predict_proba(holdout_census_dataset)\n",
    "threshold=0.5\n",
    "predicted_cat_census = (pred_census[:,1] >= threshold).astype('int')\n",
    "tn, fp, fn, tp = confusion_matrix(y_hold_out, predicted_cat_census).ravel()\n",
    "print(\"catboost_holdout_set\",'\\n',\n",
    "    \"recall:\",recall_score(y_hold_out, predicted_cat_census),'\\n',\n",
    "     'precision',precision_score(y_hold_out, predicted_cat_census),'\\n',\n",
    "     confusion_matrix(y_hold_out, predicted_cat_census),'\\n',\n",
    "     'f1 score:',f1_score(y_hold_out, predicted_cat_census),'\\n',\n",
    "     'tn:{}, fp:{}, fn:{}, tp:{}'.format(tn, fp, fn, tp),'\\n')"
   ]
  },
  {
   "cell_type": "code",
   "execution_count": 53,
   "id": "e0d047e0",
   "metadata": {},
   "outputs": [
    {
     "name": "stdout",
     "output_type": "stream",
     "text": [
      "catboost_testset \n",
      " recall: 0.6891860733225732 \n",
      " precision 0.17418008904221347 \n",
      " [[120066  70857]\n",
      " [  6740  14945]] \n",
      " f1 score: 0.27808013992389774 \n",
      " tn:120066, fp:70857, fn:6740, tp:14945 \n",
      "\n"
     ]
    }
   ],
   "source": [
    "pred_census = cat_model_census.predict_proba(test_census_dataset)\n",
    "threshold=0.5\n",
    "predicted_cat_census = (pred_census[:,1] >= threshold).astype('int')\n",
    "tn, fp, fn, tp = confusion_matrix(y_test, predicted_cat_census).ravel()\n",
    "print(\"catboost_testset\",'\\n',\n",
    "    \"recall:\",recall_score(y_test, predicted_cat_census),'\\n',\n",
    "     'precision',precision_score(y_test, predicted_cat_census),'\\n',\n",
    "     confusion_matrix(y_test, predicted_cat_census),'\\n',\n",
    "     'f1 score:',f1_score(y_test, predicted_cat_census),'\\n',\n",
    "     'tn:{}, fp:{}, fn:{}, tp:{}'.format(tn, fp, fn, tp),'\\n')"
   ]
  },
  {
   "cell_type": "code",
   "execution_count": 54,
   "id": "a60aae3a",
   "metadata": {},
   "outputs": [
    {
     "data": {
      "text/html": [
       "<div>\n",
       "<style scoped>\n",
       "    .dataframe tbody tr th:only-of-type {\n",
       "        vertical-align: middle;\n",
       "    }\n",
       "\n",
       "    .dataframe tbody tr th {\n",
       "        vertical-align: top;\n",
       "    }\n",
       "\n",
       "    .dataframe thead th {\n",
       "        text-align: right;\n",
       "    }\n",
       "</style>\n",
       "<table border=\"1\" class=\"dataframe\">\n",
       "  <thead>\n",
       "    <tr style=\"text-align: right;\">\n",
       "      <th></th>\n",
       "      <th>vip</th>\n",
       "      <th>feature_importances_mag</th>\n",
       "      <th>feature_importances_sign</th>\n",
       "    </tr>\n",
       "    <tr>\n",
       "      <th>feat_names</th>\n",
       "      <th></th>\n",
       "      <th></th>\n",
       "      <th></th>\n",
       "    </tr>\n",
       "  </thead>\n",
       "  <tbody>\n",
       "    <tr>\n",
       "      <th>lines</th>\n",
       "      <td>14.79</td>\n",
       "      <td>14.79</td>\n",
       "      <td>1.00</td>\n",
       "    </tr>\n",
       "    <tr>\n",
       "      <th>zipcode_accepted_prop</th>\n",
       "      <td>12.83</td>\n",
       "      <td>12.83</td>\n",
       "      <td>1.00</td>\n",
       "    </tr>\n",
       "    <tr>\n",
       "      <th>num_decline</th>\n",
       "      <td>7.70</td>\n",
       "      <td>7.70</td>\n",
       "      <td>1.00</td>\n",
       "    </tr>\n",
       "    <tr>\n",
       "      <th>zipcode_accepted_offers</th>\n",
       "      <td>7.00</td>\n",
       "      <td>7.00</td>\n",
       "      <td>1.00</td>\n",
       "    </tr>\n",
       "    <tr>\n",
       "      <th>product_type</th>\n",
       "      <td>7.00</td>\n",
       "      <td>7.00</td>\n",
       "      <td>1.00</td>\n",
       "    </tr>\n",
       "    <tr>\n",
       "      <th>account_tenure</th>\n",
       "      <td>5.91</td>\n",
       "      <td>5.91</td>\n",
       "      <td>1.00</td>\n",
       "    </tr>\n",
       "    <tr>\n",
       "      <th>previous_tech_support_call</th>\n",
       "      <td>4.29</td>\n",
       "      <td>4.29</td>\n",
       "      <td>1.00</td>\n",
       "    </tr>\n",
       "    <tr>\n",
       "      <th>median_income</th>\n",
       "      <td>3.01</td>\n",
       "      <td>3.01</td>\n",
       "      <td>1.00</td>\n",
       "    </tr>\n",
       "    <tr>\n",
       "      <th>technodoption_class</th>\n",
       "      <td>2.58</td>\n",
       "      <td>2.58</td>\n",
       "      <td>1.00</td>\n",
       "    </tr>\n",
       "    <tr>\n",
       "      <th>hh_education</th>\n",
       "      <td>2.49</td>\n",
       "      <td>2.49</td>\n",
       "      <td>1.00</td>\n",
       "    </tr>\n",
       "    <tr>\n",
       "      <th>zipcode_rejected_offers</th>\n",
       "      <td>2.29</td>\n",
       "      <td>2.29</td>\n",
       "      <td>1.00</td>\n",
       "    </tr>\n",
       "    <tr>\n",
       "      <th>population_density</th>\n",
       "      <td>2.21</td>\n",
       "      <td>2.21</td>\n",
       "      <td>1.00</td>\n",
       "    </tr>\n",
       "    <tr>\n",
       "      <th>time_of_day</th>\n",
       "      <td>2.09</td>\n",
       "      <td>2.09</td>\n",
       "      <td>1.00</td>\n",
       "    </tr>\n",
       "    <tr>\n",
       "      <th>past_yr_claim_count</th>\n",
       "      <td>2.09</td>\n",
       "      <td>2.09</td>\n",
       "      <td>1.00</td>\n",
       "    </tr>\n",
       "    <tr>\n",
       "      <th>perc_white</th>\n",
       "      <td>1.91</td>\n",
       "      <td>1.91</td>\n",
       "      <td>1.00</td>\n",
       "    </tr>\n",
       "  </tbody>\n",
       "</table>\n",
       "</div>"
      ],
      "text/plain": [
       "                             vip  feature_importances_mag  \\\n",
       "feat_names                                                  \n",
       "lines                      14.79                    14.79   \n",
       "zipcode_accepted_prop      12.83                    12.83   \n",
       "num_decline                 7.70                     7.70   \n",
       "zipcode_accepted_offers     7.00                     7.00   \n",
       "product_type                7.00                     7.00   \n",
       "account_tenure              5.91                     5.91   \n",
       "previous_tech_support_call  4.29                     4.29   \n",
       "median_income               3.01                     3.01   \n",
       "technodoption_class         2.58                     2.58   \n",
       "hh_education                2.49                     2.49   \n",
       "zipcode_rejected_offers     2.29                     2.29   \n",
       "population_density          2.21                     2.21   \n",
       "time_of_day                 2.09                     2.09   \n",
       "past_yr_claim_count         2.09                     2.09   \n",
       "perc_white                  1.91                     1.91   \n",
       "\n",
       "                            feature_importances_sign  \n",
       "feat_names                                            \n",
       "lines                                           1.00  \n",
       "zipcode_accepted_prop                           1.00  \n",
       "num_decline                                     1.00  \n",
       "zipcode_accepted_offers                         1.00  \n",
       "product_type                                    1.00  \n",
       "account_tenure                                  1.00  \n",
       "previous_tech_support_call                      1.00  \n",
       "median_income                                   1.00  \n",
       "technodoption_class                             1.00  \n",
       "hh_education                                    1.00  \n",
       "zipcode_rejected_offers                         1.00  \n",
       "population_density                              1.00  \n",
       "time_of_day                                     1.00  \n",
       "past_yr_claim_count                             1.00  \n",
       "perc_white                                      1.00  "
      ]
     },
     "execution_count": 54,
     "metadata": {},
     "output_type": "execute_result"
    }
   ],
   "source": [
    "vip = cat_model_census.feature_importances_\n",
    "\n",
    "#create df with vip info\n",
    "feature_importances_info = pd.DataFrame({'feat_names':Xf_train.columns, 'vip': vip})\n",
    "\n",
    "#get sign and magnitude information\n",
    "feature_importances_info = feature_importances_info.assign(feature_importances_mag = abs(feature_importances_info['vip']),\n",
    "                             feature_importances_sign = np.sign(feature_importances_info['vip']))\n",
    "feature_importances_info = feature_importances_info.set_index('feat_names').sort_values(by='feature_importances_mag', ascending=False)\n",
    "feature_importances_info.head(15)"
   ]
  },
  {
   "cell_type": "code",
   "execution_count": 55,
   "id": "002c8de7",
   "metadata": {},
   "outputs": [
    {
     "name": "stdout",
     "output_type": "stream",
     "text": [
      "Looking in indexes: https://pypi.org/simple, https://pypi.ngc.nvidia.com\n",
      "Requirement already satisfied: seaborn in /opt/conda/lib/python3.8/site-packages (0.12.1)\n",
      "Requirement already satisfied: matplotlib!=3.6.1,>=3.1 in /opt/conda/lib/python3.8/site-packages (from seaborn) (3.5.2)\n",
      "Requirement already satisfied: pandas>=0.25 in /opt/conda/lib/python3.8/site-packages (from seaborn) (1.3.5)\n",
      "Requirement already satisfied: numpy>=1.17 in /opt/conda/lib/python3.8/site-packages (from seaborn) (1.22.4)\n",
      "Requirement already satisfied: kiwisolver>=1.0.1 in /opt/conda/lib/python3.8/site-packages (from matplotlib!=3.6.1,>=3.1->seaborn) (1.4.3)\n",
      "Requirement already satisfied: pyparsing>=2.2.1 in /opt/conda/lib/python3.8/site-packages (from matplotlib!=3.6.1,>=3.1->seaborn) (3.0.9)\n",
      "Requirement already satisfied: pillow>=6.2.0 in /opt/conda/lib/python3.8/site-packages (from matplotlib!=3.6.1,>=3.1->seaborn) (9.0.1)\n",
      "Requirement already satisfied: fonttools>=4.22.0 in /opt/conda/lib/python3.8/site-packages (from matplotlib!=3.6.1,>=3.1->seaborn) (4.33.3)\n",
      "Requirement already satisfied: packaging>=20.0 in /opt/conda/lib/python3.8/site-packages (from matplotlib!=3.6.1,>=3.1->seaborn) (21.3)\n",
      "Requirement already satisfied: cycler>=0.10 in /opt/conda/lib/python3.8/site-packages (from matplotlib!=3.6.1,>=3.1->seaborn) (0.11.0)\n",
      "Requirement already satisfied: python-dateutil>=2.7 in /opt/conda/lib/python3.8/site-packages (from matplotlib!=3.6.1,>=3.1->seaborn) (2.8.2)\n",
      "Requirement already satisfied: pytz>=2017.3 in /opt/conda/lib/python3.8/site-packages (from pandas>=0.25->seaborn) (2022.1)\n",
      "Requirement already satisfied: six>=1.5 in /opt/conda/lib/python3.8/site-packages (from python-dateutil>=2.7->matplotlib!=3.6.1,>=3.1->seaborn) (1.16.0)\n",
      "\u001b[33mWARNING: Running pip as the 'root' user can result in broken permissions and conflicting behaviour with the system package manager. It is recommended to use a virtual environment instead: https://pip.pypa.io/warnings/venv\u001b[0m\n"
     ]
    }
   ],
   "source": [
    "!pip install seaborn"
   ]
  },
  {
   "cell_type": "code",
   "execution_count": 56,
   "id": "02b652c9",
   "metadata": {},
   "outputs": [
    {
     "data": {
      "image/png": "[encoded data removed]",
      "text/plain": [
       "<Figure size 432x288 with 1 Axes>"
      ]
     },
     "metadata": {
      "needs_background": "light"
     },
     "output_type": "display_data"
    }
   ],
   "source": [
    "import seaborn as sns\n",
    "sns.barplot(y=feature_importances_info.index[:10], x='feature_importances_mag', hue='feature_importances_sign', \n",
    "            data=feature_importances_info[:10], orient='h', dodge=False);"
   ]
  },
  {
   "cell_type": "code",
   "execution_count": 57,
   "id": "f24e2637",
   "metadata": {},
   "outputs": [
    {
     "data": {
      "image/png": "[encoded data removed]",
      "text/plain": [
       "<Figure size 1152x576 with 2 Axes>"
      ]
     },
     "metadata": {
      "needs_background": "light"
     },
     "output_type": "display_data"
    }
   ],
   "source": [
    "plt.figure(figsize = (16,8))\n",
    "cor = train.corr()\n",
    "sns.heatmap(cor, annot = True, cmap = \"viridis\")\n",
    "plt.show()"
   ]
  },
  {
   "cell_type": "code",
   "execution_count": null,
   "id": "964e3289",
   "metadata": {},
   "outputs": [],
   "source": []
  },
  {
   "cell_type": "code",
   "execution_count": null,
   "id": "df0e5b22",
   "metadata": {},
   "outputs": [],
   "source": []
  }
 ],
 "metadata": {
  "kernelspec": {
   "display_name": "Python 3 (ipykernel)",
   "language": "python",
   "name": "python3"
  },
  "language_info": {
   "codemirror_mode": {
    "name": "ipython",
    "version": 3
   },
   "file_extension": ".py",
   "mimetype": "text/x-python",
   "name": "python",
   "nbconvert_exporter": "python",
   "pygments_lexer": "ipython3",
   "version": "3.8.13"
  }
 },
 "nbformat": 4,
 "nbformat_minor": 5
}
