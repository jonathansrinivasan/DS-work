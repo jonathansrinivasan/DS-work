{
 "cells": [
  {
   "cell_type": "markdown",
   "id": "0eee22c9",
   "metadata": {},
   "source": [
    "# Feature Engineering newer columns into data"
   ]
  },
  {
   "cell_type": "code",
   "execution_count": 1,
   "id": "a5c257da",
   "metadata": {},
   "outputs": [
    {
     "name": "stdout",
     "output_type": "stream",
     "text": [
      "Looking in indexes: https://pypi.org/simple, https://pypi.ngc.nvidia.com\n",
      "Requirement already satisfied: seaborn in /opt/conda/lib/python3.8/site-packages (0.12.1)\n",
      "Requirement already satisfied: matplotlib!=3.6.1,>=3.1 in /opt/conda/lib/python3.8/site-packages (from seaborn) (3.5.2)\n",
      "Requirement already satisfied: numpy>=1.17 in /opt/conda/lib/python3.8/site-packages (from seaborn) (1.22.4)\n",
      "Requirement already satisfied: pandas>=0.25 in /opt/conda/lib/python3.8/site-packages (from seaborn) (1.3.5)\n",
      "Requirement already satisfied: pillow>=6.2.0 in /opt/conda/lib/python3.8/site-packages (from matplotlib!=3.6.1,>=3.1->seaborn) (9.0.1)\n",
      "Requirement already satisfied: kiwisolver>=1.0.1 in /opt/conda/lib/python3.8/site-packages (from matplotlib!=3.6.1,>=3.1->seaborn) (1.4.3)\n",
      "Requirement already satisfied: packaging>=20.0 in /opt/conda/lib/python3.8/site-packages (from matplotlib!=3.6.1,>=3.1->seaborn) (21.3)\n",
      "Requirement already satisfied: pyparsing>=2.2.1 in /opt/conda/lib/python3.8/site-packages (from matplotlib!=3.6.1,>=3.1->seaborn) (3.0.9)\n",
      "Requirement already satisfied: python-dateutil>=2.7 in /opt/conda/lib/python3.8/site-packages (from matplotlib!=3.6.1,>=3.1->seaborn) (2.8.2)\n",
      "Requirement already satisfied: fonttools>=4.22.0 in /opt/conda/lib/python3.8/site-packages (from matplotlib!=3.6.1,>=3.1->seaborn) (4.33.3)\n",
      "Requirement already satisfied: cycler>=0.10 in /opt/conda/lib/python3.8/site-packages (from matplotlib!=3.6.1,>=3.1->seaborn) (0.11.0)\n",
      "Requirement already satisfied: pytz>=2017.3 in /opt/conda/lib/python3.8/site-packages (from pandas>=0.25->seaborn) (2022.1)\n",
      "Requirement already satisfied: six>=1.5 in /opt/conda/lib/python3.8/site-packages (from python-dateutil>=2.7->matplotlib!=3.6.1,>=3.1->seaborn) (1.16.0)\n",
      "\u001b[33mWARNING: Running pip as the 'root' user can result in broken permissions and conflicting behaviour with the system package manager. It is recommended to use a virtual environment instead: https://pip.pypa.io/warnings/venv\u001b[0m\n"
     ]
    }
   ],
   "source": [
    "!pip install seaborn"
   ]
  },
  {
   "cell_type": "code",
   "execution_count": 2,
   "id": "24481fc1",
   "metadata": {},
   "outputs": [],
   "source": [
    "import pandas as pd\n",
    "import seaborn as sns; sns.set_style(\"dark\")\n",
    "import matplotlib.pyplot as plt\n",
    "%matplotlib inline"
   ]
  },
  {
   "cell_type": "markdown",
   "id": "c571399c",
   "metadata": {},
   "source": [
    "## Training Set"
   ]
  },
  {
   "cell_type": "code",
   "execution_count": 3,
   "id": "b155fd3f",
   "metadata": {},
   "outputs": [
    {
     "name": "stdout",
     "output_type": "stream",
     "text": [
      "/workspace/asurion_f22_muby\n"
     ]
    }
   ],
   "source": [
    "%cd .."
   ]
  },
  {
   "cell_type": "code",
   "execution_count": 4,
   "id": "9da73a5b",
   "metadata": {},
   "outputs": [
    {
     "data": {
      "text/html": [
       "<div>\n",
       "<style scoped>\n",
       "    .dataframe tbody tr th:only-of-type {\n",
       "        vertical-align: middle;\n",
       "    }\n",
       "\n",
       "    .dataframe tbody tr th {\n",
       "        vertical-align: top;\n",
       "    }\n",
       "\n",
       "    .dataframe thead th {\n",
       "        text-align: right;\n",
       "    }\n",
       "</style>\n",
       "<table border=\"1\" class=\"dataframe\">\n",
       "  <thead>\n",
       "    <tr style=\"text-align: right;\">\n",
       "      <th></th>\n",
       "      <th>id</th>\n",
       "      <th>sales_offer_date</th>\n",
       "      <th>accepted_flg</th>\n",
       "      <th>encrypted_collated_transcription</th>\n",
       "      <th>month</th>\n",
       "      <th>length</th>\n",
       "      <th>length_3rd</th>\n",
       "      <th>first_3rd</th>\n",
       "      <th>second_3rd</th>\n",
       "      <th>third_3rd</th>\n",
       "    </tr>\n",
       "  </thead>\n",
       "  <tbody>\n",
       "    <tr>\n",
       "      <th>0</th>\n",
       "      <td>e5e4ee3c3c0e9ac72561334e6eb23cc233b1bcd0a0063d...</td>\n",
       "      <td>2022-03-26</td>\n",
       "      <td>False</td>\n",
       "      <td>ok Thank for calling [CLIENT] Tech Hello? Hi. ...</td>\n",
       "      <td>march</td>\n",
       "      <td>7054</td>\n",
       "      <td>2351</td>\n",
       "      <td>ok Thank for calling [CLIENT] Tech Hello? Hi. ...</td>\n",
       "      <td>et you know what I could be able to see here. ...</td>\n",
       "      <td>see is that the, uh, places is still under th...</td>\n",
       "    </tr>\n",
       "    <tr>\n",
       "      <th>1</th>\n",
       "      <td>ae6128d8d240d28edbcb7eb27256780cf662a2be1aec8c...</td>\n",
       "      <td>2022-03-02</td>\n",
       "      <td>False</td>\n",
       "      <td>on on Oh, My name is [NAME]. May I please have...</td>\n",
       "      <td>march</td>\n",
       "      <td>7467</td>\n",
       "      <td>2489</td>\n",
       "      <td>on on Oh, My name is [NAME]. May I please have...</td>\n",
       "      <td>y got all of that Well, their account for hack...</td>\n",
       "      <td>I they're setting up their Myverizon account, ...</td>\n",
       "    </tr>\n",
       "    <tr>\n",
       "      <th>2</th>\n",
       "      <td>4899f9acdb70b0246b2d0ac2871dbcea8267e57b060154...</td>\n",
       "      <td>2022-03-12</td>\n",
       "      <td>False</td>\n",
       "      <td>Hello. We for calling [CLIENT] Tech Coach. My ...</td>\n",
       "      <td>march</td>\n",
       "      <td>3953</td>\n",
       "      <td>1317</td>\n",
       "      <td>Hello. We for calling [CLIENT] Tech Coach. My ...</td>\n",
       "      <td>know, do I hit. get through the put me throug...</td>\n",
       "      <td>t to Oh, I can I just another phone sir maybe,...</td>\n",
       "    </tr>\n",
       "    <tr>\n",
       "      <th>3</th>\n",
       "      <td>0589751e11caac0eac815faf84f1a366d70b86b78324a2...</td>\n",
       "      <td>2022-03-20</td>\n",
       "      <td>False</td>\n",
       "      <td>Hello. Thank you so much for contacting [CLIEN...</td>\n",
       "      <td>march</td>\n",
       "      <td>6998</td>\n",
       "      <td>2332</td>\n",
       "      <td>Hello. Thank you so much for contacting [CLIEN...</td>\n",
       "      <td>et it many times. Good there is what we call a...</td>\n",
       "      <td>ing issues being able to send text messages, t...</td>\n",
       "    </tr>\n",
       "    <tr>\n",
       "      <th>4</th>\n",
       "      <td>6c4790cb02e4f556d73436f79268d5c99de50a9acec40e...</td>\n",
       "      <td>2022-03-15</td>\n",
       "      <td>False</td>\n",
       "      <td>Thank you very much Hello? can I can you hear ...</td>\n",
       "      <td>march</td>\n",
       "      <td>7550</td>\n",
       "      <td>2516</td>\n",
       "      <td>Thank you very much Hello? can I can you hear ...</td>\n",
       "      <td>something happened with the features. I had to...</td>\n",
       "      <td>hold. uh ok. rode um. Man. um. woo Well? thank...</td>\n",
       "    </tr>\n",
       "  </tbody>\n",
       "</table>\n",
       "</div>"
      ],
      "text/plain": [
       "                                                  id sales_offer_date  \\\n",
       "0  e5e4ee3c3c0e9ac72561334e6eb23cc233b1bcd0a0063d...       2022-03-26   \n",
       "1  ae6128d8d240d28edbcb7eb27256780cf662a2be1aec8c...       2022-03-02   \n",
       "2  4899f9acdb70b0246b2d0ac2871dbcea8267e57b060154...       2022-03-12   \n",
       "3  0589751e11caac0eac815faf84f1a366d70b86b78324a2...       2022-03-20   \n",
       "4  6c4790cb02e4f556d73436f79268d5c99de50a9acec40e...       2022-03-15   \n",
       "\n",
       "   accepted_flg                   encrypted_collated_transcription  month  \\\n",
       "0         False  ok Thank for calling [CLIENT] Tech Hello? Hi. ...  march   \n",
       "1         False  on on Oh, My name is [NAME]. May I please have...  march   \n",
       "2         False  Hello. We for calling [CLIENT] Tech Coach. My ...  march   \n",
       "3         False  Hello. Thank you so much for contacting [CLIEN...  march   \n",
       "4         False  Thank you very much Hello? can I can you hear ...  march   \n",
       "\n",
       "   length  length_3rd                                          first_3rd  \\\n",
       "0    7054        2351  ok Thank for calling [CLIENT] Tech Hello? Hi. ...   \n",
       "1    7467        2489  on on Oh, My name is [NAME]. May I please have...   \n",
       "2    3953        1317  Hello. We for calling [CLIENT] Tech Coach. My ...   \n",
       "3    6998        2332  Hello. Thank you so much for contacting [CLIEN...   \n",
       "4    7550        2516  Thank you very much Hello? can I can you hear ...   \n",
       "\n",
       "                                          second_3rd  \\\n",
       "0  et you know what I could be able to see here. ...   \n",
       "1  y got all of that Well, their account for hack...   \n",
       "2   know, do I hit. get through the put me throug...   \n",
       "3  et it many times. Good there is what we call a...   \n",
       "4  something happened with the features. I had to...   \n",
       "\n",
       "                                           third_3rd  \n",
       "0   see is that the, uh, places is still under th...  \n",
       "1  I they're setting up their Myverizon account, ...  \n",
       "2  t to Oh, I can I just another phone sir maybe,...  \n",
       "3  ing issues being able to send text messages, t...  \n",
       "4  hold. uh ok. rode um. Man. um. woo Well? thank...  "
      ]
     },
     "execution_count": 4,
     "metadata": {},
     "output_type": "execute_result"
    }
   ],
   "source": [
    "df_transcript_train = pd.read_csv(\"fe_data_v2/transcript_data/transcript_train_data.csv\")\n",
    "df_transcript_train.head()"
   ]
  },
  {
   "cell_type": "markdown",
   "id": "d180a7c6",
   "metadata": {},
   "source": [
    "### Dealing with Emotion of first third of conversation"
   ]
  },
  {
   "cell_type": "code",
   "execution_count": 5,
   "id": "2a136b81",
   "metadata": {},
   "outputs": [
    {
     "name": "stdout",
     "output_type": "stream",
     "text": [
      "/workspace/asurion_f22_muby/parallel_data_first\n"
     ]
    }
   ],
   "source": [
    "%cd parallel_data_first/"
   ]
  },
  {
   "cell_type": "code",
   "execution_count": 6,
   "id": "5a89e187",
   "metadata": {},
   "outputs": [],
   "source": [
    "import os\n",
    "data_list = os.listdir()\n",
    "df_first = pd.DataFrame()\n",
    "for data in data_list:\n",
    "    if \".csv\" in data:\n",
    "        df = pd.read_csv(data)\n",
    "        df = df[[\"id\", \"emotion_1st\"]]\n",
    "        df_first = pd.concat([df_first,df], axis = 0)"
   ]
  },
  {
   "cell_type": "code",
   "execution_count": 7,
   "id": "014ff155",
   "metadata": {},
   "outputs": [
    {
     "name": "stdout",
     "output_type": "stream",
     "text": [
      "/workspace/asurion_f22_muby\n"
     ]
    }
   ],
   "source": [
    "%cd .."
   ]
  },
  {
   "cell_type": "code",
   "execution_count": 8,
   "id": "df2811b9",
   "metadata": {},
   "outputs": [],
   "source": [
    "df_transcript_train = df_transcript_train.merge(df_first, how = \"inner\", on = \"id\")"
   ]
  },
  {
   "cell_type": "code",
   "execution_count": 9,
   "id": "f2d757b8",
   "metadata": {},
   "outputs": [
    {
     "data": {
      "text/plain": [
       "1044431"
      ]
     },
     "execution_count": 9,
     "metadata": {},
     "output_type": "execute_result"
    }
   ],
   "source": [
    "len(df_transcript_train)"
   ]
  },
  {
   "cell_type": "code",
   "execution_count": 10,
   "id": "f788611b",
   "metadata": {},
   "outputs": [
    {
     "data": {
      "text/html": [
       "<div>\n",
       "<style scoped>\n",
       "    .dataframe tbody tr th:only-of-type {\n",
       "        vertical-align: middle;\n",
       "    }\n",
       "\n",
       "    .dataframe tbody tr th {\n",
       "        vertical-align: top;\n",
       "    }\n",
       "\n",
       "    .dataframe thead th {\n",
       "        text-align: right;\n",
       "    }\n",
       "</style>\n",
       "<table border=\"1\" class=\"dataframe\">\n",
       "  <thead>\n",
       "    <tr style=\"text-align: right;\">\n",
       "      <th></th>\n",
       "      <th>id</th>\n",
       "      <th>sales_offer_date</th>\n",
       "      <th>accepted_flg</th>\n",
       "      <th>encrypted_collated_transcription</th>\n",
       "      <th>month</th>\n",
       "      <th>length</th>\n",
       "      <th>length_3rd</th>\n",
       "      <th>first_3rd</th>\n",
       "      <th>second_3rd</th>\n",
       "      <th>third_3rd</th>\n",
       "      <th>emotion_1st</th>\n",
       "    </tr>\n",
       "  </thead>\n",
       "  <tbody>\n",
       "    <tr>\n",
       "      <th>0</th>\n",
       "      <td>e5e4ee3c3c0e9ac72561334e6eb23cc233b1bcd0a0063d...</td>\n",
       "      <td>2022-03-26</td>\n",
       "      <td>False</td>\n",
       "      <td>ok Thank for calling [CLIENT] Tech Hello? Hi. ...</td>\n",
       "      <td>march</td>\n",
       "      <td>7054</td>\n",
       "      <td>2351</td>\n",
       "      <td>ok Thank for calling [CLIENT] Tech Hello? Hi. ...</td>\n",
       "      <td>et you know what I could be able to see here. ...</td>\n",
       "      <td>see is that the, uh, places is still under th...</td>\n",
       "      <td>sadness</td>\n",
       "    </tr>\n",
       "    <tr>\n",
       "      <th>1</th>\n",
       "      <td>ae6128d8d240d28edbcb7eb27256780cf662a2be1aec8c...</td>\n",
       "      <td>2022-03-02</td>\n",
       "      <td>False</td>\n",
       "      <td>on on Oh, My name is [NAME]. May I please have...</td>\n",
       "      <td>march</td>\n",
       "      <td>7467</td>\n",
       "      <td>2489</td>\n",
       "      <td>on on Oh, My name is [NAME]. May I please have...</td>\n",
       "      <td>y got all of that Well, their account for hack...</td>\n",
       "      <td>I they're setting up their Myverizon account, ...</td>\n",
       "      <td>neutral</td>\n",
       "    </tr>\n",
       "    <tr>\n",
       "      <th>2</th>\n",
       "      <td>4899f9acdb70b0246b2d0ac2871dbcea8267e57b060154...</td>\n",
       "      <td>2022-03-12</td>\n",
       "      <td>False</td>\n",
       "      <td>Hello. We for calling [CLIENT] Tech Coach. My ...</td>\n",
       "      <td>march</td>\n",
       "      <td>3953</td>\n",
       "      <td>1317</td>\n",
       "      <td>Hello. We for calling [CLIENT] Tech Coach. My ...</td>\n",
       "      <td>know, do I hit. get through the put me throug...</td>\n",
       "      <td>t to Oh, I can I just another phone sir maybe,...</td>\n",
       "      <td>neutral</td>\n",
       "    </tr>\n",
       "    <tr>\n",
       "      <th>3</th>\n",
       "      <td>0589751e11caac0eac815faf84f1a366d70b86b78324a2...</td>\n",
       "      <td>2022-03-20</td>\n",
       "      <td>False</td>\n",
       "      <td>Hello. Thank you so much for contacting [CLIEN...</td>\n",
       "      <td>march</td>\n",
       "      <td>6998</td>\n",
       "      <td>2332</td>\n",
       "      <td>Hello. Thank you so much for contacting [CLIEN...</td>\n",
       "      <td>et it many times. Good there is what we call a...</td>\n",
       "      <td>ing issues being able to send text messages, t...</td>\n",
       "      <td>neutral</td>\n",
       "    </tr>\n",
       "    <tr>\n",
       "      <th>4</th>\n",
       "      <td>6c4790cb02e4f556d73436f79268d5c99de50a9acec40e...</td>\n",
       "      <td>2022-03-15</td>\n",
       "      <td>False</td>\n",
       "      <td>Thank you very much Hello? can I can you hear ...</td>\n",
       "      <td>march</td>\n",
       "      <td>7550</td>\n",
       "      <td>2516</td>\n",
       "      <td>Thank you very much Hello? can I can you hear ...</td>\n",
       "      <td>something happened with the features. I had to...</td>\n",
       "      <td>hold. uh ok. rode um. Man. um. woo Well? thank...</td>\n",
       "      <td>neutral</td>\n",
       "    </tr>\n",
       "  </tbody>\n",
       "</table>\n",
       "</div>"
      ],
      "text/plain": [
       "                                                  id sales_offer_date  \\\n",
       "0  e5e4ee3c3c0e9ac72561334e6eb23cc233b1bcd0a0063d...       2022-03-26   \n",
       "1  ae6128d8d240d28edbcb7eb27256780cf662a2be1aec8c...       2022-03-02   \n",
       "2  4899f9acdb70b0246b2d0ac2871dbcea8267e57b060154...       2022-03-12   \n",
       "3  0589751e11caac0eac815faf84f1a366d70b86b78324a2...       2022-03-20   \n",
       "4  6c4790cb02e4f556d73436f79268d5c99de50a9acec40e...       2022-03-15   \n",
       "\n",
       "   accepted_flg                   encrypted_collated_transcription  month  \\\n",
       "0         False  ok Thank for calling [CLIENT] Tech Hello? Hi. ...  march   \n",
       "1         False  on on Oh, My name is [NAME]. May I please have...  march   \n",
       "2         False  Hello. We for calling [CLIENT] Tech Coach. My ...  march   \n",
       "3         False  Hello. Thank you so much for contacting [CLIEN...  march   \n",
       "4         False  Thank you very much Hello? can I can you hear ...  march   \n",
       "\n",
       "   length  length_3rd                                          first_3rd  \\\n",
       "0    7054        2351  ok Thank for calling [CLIENT] Tech Hello? Hi. ...   \n",
       "1    7467        2489  on on Oh, My name is [NAME]. May I please have...   \n",
       "2    3953        1317  Hello. We for calling [CLIENT] Tech Coach. My ...   \n",
       "3    6998        2332  Hello. Thank you so much for contacting [CLIEN...   \n",
       "4    7550        2516  Thank you very much Hello? can I can you hear ...   \n",
       "\n",
       "                                          second_3rd  \\\n",
       "0  et you know what I could be able to see here. ...   \n",
       "1  y got all of that Well, their account for hack...   \n",
       "2   know, do I hit. get through the put me throug...   \n",
       "3  et it many times. Good there is what we call a...   \n",
       "4  something happened with the features. I had to...   \n",
       "\n",
       "                                           third_3rd emotion_1st  \n",
       "0   see is that the, uh, places is still under th...     sadness  \n",
       "1  I they're setting up their Myverizon account, ...     neutral  \n",
       "2  t to Oh, I can I just another phone sir maybe,...     neutral  \n",
       "3  ing issues being able to send text messages, t...     neutral  \n",
       "4  hold. uh ok. rode um. Man. um. woo Well? thank...     neutral  "
      ]
     },
     "execution_count": 10,
     "metadata": {},
     "output_type": "execute_result"
    }
   ],
   "source": [
    "df_transcript_train.head()"
   ]
  },
  {
   "cell_type": "code",
   "execution_count": 11,
   "id": "80140d61",
   "metadata": {},
   "outputs": [
    {
     "name": "stdout",
     "output_type": "stream",
     "text": [
      "Counter({'neutral': 490622, 'sadness': 345296, 'happiness': 139748, 'anger': 68765})\n"
     ]
    },
    {
     "data": {
      "image/png": "[encoded data removed]",
      "text/plain": [
       "<Figure size 432x288 with 1 Axes>"
      ]
     },
     "metadata": {
      "needs_background": "light"
     },
     "output_type": "display_data"
    }
   ],
   "source": [
    "from collections import Counter\n",
    "\n",
    "#print(Counter(convo_emotion_2nd))\n",
    "\n",
    "#c = Counter(sample_list) \n",
    "#print(c[\"a\"])\n",
    "convo_emotion_1st = df_transcript_train[\"emotion_1st\"]\n",
    "print(Counter(convo_emotion_1st))\n",
    "b = Counter(convo_emotion_1st)\n",
    "x = list(b.keys())\n",
    "y = list(b.values())\n",
    "sns.barplot(x = x, y = y, color = \"blue\")\n",
    "plt.title(\"1st emotion - Train\")\n",
    "plt.show();"
   ]
  },
  {
   "cell_type": "code",
   "execution_count": 12,
   "id": "495e1144",
   "metadata": {},
   "outputs": [
    {
     "data": {
      "text/plain": [
       "1044431"
      ]
     },
     "execution_count": 12,
     "metadata": {},
     "output_type": "execute_result"
    }
   ],
   "source": [
    "len(df_transcript_train[\"id\"].unique())"
   ]
  },
  {
   "cell_type": "markdown",
   "id": "0e6ee66e",
   "metadata": {},
   "source": [
    "### Dealing with second third of conversation"
   ]
  },
  {
   "cell_type": "code",
   "execution_count": 13,
   "id": "1ccf3306",
   "metadata": {},
   "outputs": [
    {
     "name": "stdout",
     "output_type": "stream",
     "text": [
      "/workspace/asurion_f22_muby/parallel_data_second\n"
     ]
    }
   ],
   "source": [
    "%cd parallel_data_second/"
   ]
  },
  {
   "cell_type": "code",
   "execution_count": 14,
   "id": "deb8f8a7",
   "metadata": {},
   "outputs": [],
   "source": [
    "import os\n",
    "data_list = os.listdir()\n",
    "df_second = pd.DataFrame()\n",
    "for data in data_list:\n",
    "    if \".csv\" in data:\n",
    "        df = pd.read_csv(data)\n",
    "        df = df[[\"id\", \"emotion_2nd\"]]\n",
    "        df_second = pd.concat([df_second,df], axis = 0)"
   ]
  },
  {
   "cell_type": "code",
   "execution_count": 15,
   "id": "aabeeb18",
   "metadata": {},
   "outputs": [],
   "source": [
    "df_transcript_train = df_transcript_train.merge(df_second, how = \"inner\", on = \"id\")"
   ]
  },
  {
   "cell_type": "code",
   "execution_count": 16,
   "id": "0a1f5b2d",
   "metadata": {},
   "outputs": [
    {
     "name": "stdout",
     "output_type": "stream",
     "text": [
      "Counter({'neutral': 587373, 'sadness': 250018, 'happiness': 128881, 'anger': 78159})\n"
     ]
    },
    {
     "data": {
      "image/png": "[encoded data removed]",
      "text/plain": [
       "<Figure size 432x288 with 1 Axes>"
      ]
     },
     "metadata": {
      "needs_background": "light"
     },
     "output_type": "display_data"
    }
   ],
   "source": [
    "from collections import Counter\n",
    "\n",
    "#print(Counter(convo_emotion_2nd))\n",
    "\n",
    "#c = Counter(sample_list) \n",
    "#print(c[\"a\"])\n",
    "convo_emotion_2nd = df_transcript_train[\"emotion_2nd\"]\n",
    "print(Counter(convo_emotion_2nd))\n",
    "b = Counter(convo_emotion_2nd)\n",
    "x = list(b.keys())\n",
    "y = list(b.values())\n",
    "sns.barplot(x = x, y = y, color = \"blue\")\n",
    "plt.title(\"2nd emotion - Train\")\n",
    "plt.show();"
   ]
  },
  {
   "cell_type": "code",
   "execution_count": 17,
   "id": "40ba2a3a",
   "metadata": {},
   "outputs": [
    {
     "data": {
      "text/html": [
       "<div>\n",
       "<style scoped>\n",
       "    .dataframe tbody tr th:only-of-type {\n",
       "        vertical-align: middle;\n",
       "    }\n",
       "\n",
       "    .dataframe tbody tr th {\n",
       "        vertical-align: top;\n",
       "    }\n",
       "\n",
       "    .dataframe thead th {\n",
       "        text-align: right;\n",
       "    }\n",
       "</style>\n",
       "<table border=\"1\" class=\"dataframe\">\n",
       "  <thead>\n",
       "    <tr style=\"text-align: right;\">\n",
       "      <th></th>\n",
       "      <th>id</th>\n",
       "      <th>sales_offer_date</th>\n",
       "      <th>accepted_flg</th>\n",
       "      <th>encrypted_collated_transcription</th>\n",
       "      <th>month</th>\n",
       "      <th>length</th>\n",
       "      <th>length_3rd</th>\n",
       "      <th>first_3rd</th>\n",
       "      <th>second_3rd</th>\n",
       "      <th>third_3rd</th>\n",
       "      <th>emotion_1st</th>\n",
       "      <th>emotion_2nd</th>\n",
       "    </tr>\n",
       "  </thead>\n",
       "  <tbody>\n",
       "    <tr>\n",
       "      <th>0</th>\n",
       "      <td>e5e4ee3c3c0e9ac72561334e6eb23cc233b1bcd0a0063d...</td>\n",
       "      <td>2022-03-26</td>\n",
       "      <td>False</td>\n",
       "      <td>ok Thank for calling [CLIENT] Tech Hello? Hi. ...</td>\n",
       "      <td>march</td>\n",
       "      <td>7054</td>\n",
       "      <td>2351</td>\n",
       "      <td>ok Thank for calling [CLIENT] Tech Hello? Hi. ...</td>\n",
       "      <td>et you know what I could be able to see here. ...</td>\n",
       "      <td>see is that the, uh, places is still under th...</td>\n",
       "      <td>sadness</td>\n",
       "      <td>neutral</td>\n",
       "    </tr>\n",
       "    <tr>\n",
       "      <th>1</th>\n",
       "      <td>ae6128d8d240d28edbcb7eb27256780cf662a2be1aec8c...</td>\n",
       "      <td>2022-03-02</td>\n",
       "      <td>False</td>\n",
       "      <td>on on Oh, My name is [NAME]. May I please have...</td>\n",
       "      <td>march</td>\n",
       "      <td>7467</td>\n",
       "      <td>2489</td>\n",
       "      <td>on on Oh, My name is [NAME]. May I please have...</td>\n",
       "      <td>y got all of that Well, their account for hack...</td>\n",
       "      <td>I they're setting up their Myverizon account, ...</td>\n",
       "      <td>neutral</td>\n",
       "      <td>neutral</td>\n",
       "    </tr>\n",
       "    <tr>\n",
       "      <th>2</th>\n",
       "      <td>4899f9acdb70b0246b2d0ac2871dbcea8267e57b060154...</td>\n",
       "      <td>2022-03-12</td>\n",
       "      <td>False</td>\n",
       "      <td>Hello. We for calling [CLIENT] Tech Coach. My ...</td>\n",
       "      <td>march</td>\n",
       "      <td>3953</td>\n",
       "      <td>1317</td>\n",
       "      <td>Hello. We for calling [CLIENT] Tech Coach. My ...</td>\n",
       "      <td>know, do I hit. get through the put me throug...</td>\n",
       "      <td>t to Oh, I can I just another phone sir maybe,...</td>\n",
       "      <td>neutral</td>\n",
       "      <td>neutral</td>\n",
       "    </tr>\n",
       "    <tr>\n",
       "      <th>3</th>\n",
       "      <td>0589751e11caac0eac815faf84f1a366d70b86b78324a2...</td>\n",
       "      <td>2022-03-20</td>\n",
       "      <td>False</td>\n",
       "      <td>Hello. Thank you so much for contacting [CLIEN...</td>\n",
       "      <td>march</td>\n",
       "      <td>6998</td>\n",
       "      <td>2332</td>\n",
       "      <td>Hello. Thank you so much for contacting [CLIEN...</td>\n",
       "      <td>et it many times. Good there is what we call a...</td>\n",
       "      <td>ing issues being able to send text messages, t...</td>\n",
       "      <td>neutral</td>\n",
       "      <td>sadness</td>\n",
       "    </tr>\n",
       "    <tr>\n",
       "      <th>4</th>\n",
       "      <td>6c4790cb02e4f556d73436f79268d5c99de50a9acec40e...</td>\n",
       "      <td>2022-03-15</td>\n",
       "      <td>False</td>\n",
       "      <td>Thank you very much Hello? can I can you hear ...</td>\n",
       "      <td>march</td>\n",
       "      <td>7550</td>\n",
       "      <td>2516</td>\n",
       "      <td>Thank you very much Hello? can I can you hear ...</td>\n",
       "      <td>something happened with the features. I had to...</td>\n",
       "      <td>hold. uh ok. rode um. Man. um. woo Well? thank...</td>\n",
       "      <td>neutral</td>\n",
       "      <td>anger</td>\n",
       "    </tr>\n",
       "  </tbody>\n",
       "</table>\n",
       "</div>"
      ],
      "text/plain": [
       "                                                  id sales_offer_date  \\\n",
       "0  e5e4ee3c3c0e9ac72561334e6eb23cc233b1bcd0a0063d...       2022-03-26   \n",
       "1  ae6128d8d240d28edbcb7eb27256780cf662a2be1aec8c...       2022-03-02   \n",
       "2  4899f9acdb70b0246b2d0ac2871dbcea8267e57b060154...       2022-03-12   \n",
       "3  0589751e11caac0eac815faf84f1a366d70b86b78324a2...       2022-03-20   \n",
       "4  6c4790cb02e4f556d73436f79268d5c99de50a9acec40e...       2022-03-15   \n",
       "\n",
       "   accepted_flg                   encrypted_collated_transcription  month  \\\n",
       "0         False  ok Thank for calling [CLIENT] Tech Hello? Hi. ...  march   \n",
       "1         False  on on Oh, My name is [NAME]. May I please have...  march   \n",
       "2         False  Hello. We for calling [CLIENT] Tech Coach. My ...  march   \n",
       "3         False  Hello. Thank you so much for contacting [CLIEN...  march   \n",
       "4         False  Thank you very much Hello? can I can you hear ...  march   \n",
       "\n",
       "   length  length_3rd                                          first_3rd  \\\n",
       "0    7054        2351  ok Thank for calling [CLIENT] Tech Hello? Hi. ...   \n",
       "1    7467        2489  on on Oh, My name is [NAME]. May I please have...   \n",
       "2    3953        1317  Hello. We for calling [CLIENT] Tech Coach. My ...   \n",
       "3    6998        2332  Hello. Thank you so much for contacting [CLIEN...   \n",
       "4    7550        2516  Thank you very much Hello? can I can you hear ...   \n",
       "\n",
       "                                          second_3rd  \\\n",
       "0  et you know what I could be able to see here. ...   \n",
       "1  y got all of that Well, their account for hack...   \n",
       "2   know, do I hit. get through the put me throug...   \n",
       "3  et it many times. Good there is what we call a...   \n",
       "4  something happened with the features. I had to...   \n",
       "\n",
       "                                           third_3rd emotion_1st emotion_2nd  \n",
       "0   see is that the, uh, places is still under th...     sadness     neutral  \n",
       "1  I they're setting up their Myverizon account, ...     neutral     neutral  \n",
       "2  t to Oh, I can I just another phone sir maybe,...     neutral     neutral  \n",
       "3  ing issues being able to send text messages, t...     neutral     sadness  \n",
       "4  hold. uh ok. rode um. Man. um. woo Well? thank...     neutral       anger  "
      ]
     },
     "execution_count": 17,
     "metadata": {},
     "output_type": "execute_result"
    }
   ],
   "source": [
    "df_transcript_train.head()"
   ]
  },
  {
   "cell_type": "code",
   "execution_count": 18,
   "id": "b16386e7",
   "metadata": {},
   "outputs": [
    {
     "name": "stdout",
     "output_type": "stream",
     "text": [
      "/workspace/asurion_f22_muby\n"
     ]
    }
   ],
   "source": [
    "%cd .."
   ]
  },
  {
   "cell_type": "markdown",
   "id": "b23c2337",
   "metadata": {},
   "source": [
    "### Dealing with third third of conversation"
   ]
  },
  {
   "cell_type": "code",
   "execution_count": 19,
   "id": "42c9c91d",
   "metadata": {},
   "outputs": [
    {
     "name": "stdout",
     "output_type": "stream",
     "text": [
      "/workspace/asurion_f22_muby/parallel_data_third\n"
     ]
    }
   ],
   "source": [
    "%cd parallel_data_third/"
   ]
  },
  {
   "cell_type": "code",
   "execution_count": 20,
   "id": "52324cb8",
   "metadata": {},
   "outputs": [],
   "source": [
    "import os\n",
    "data_list = os.listdir()\n",
    "df_third = pd.DataFrame()\n",
    "for data in data_list:\n",
    "    if \".csv\" in data:\n",
    "        df = pd.read_csv(data)\n",
    "        df = df[[\"id\", \"emotion_3rd\"]]\n",
    "        df_third = pd.concat([df_third,df], axis = 0)"
   ]
  },
  {
   "cell_type": "code",
   "execution_count": 21,
   "id": "cc24fe0a",
   "metadata": {},
   "outputs": [],
   "source": [
    "df_transcript_train = df_transcript_train.merge(df_third, how = \"inner\", on = \"id\")"
   ]
  },
  {
   "cell_type": "code",
   "execution_count": 22,
   "id": "2273e68c",
   "metadata": {},
   "outputs": [
    {
     "name": "stdout",
     "output_type": "stream",
     "text": [
      "Counter({'neutral': 616305, 'happiness': 181012, 'sadness': 179142, 'anger': 67972})\n"
     ]
    },
    {
     "data": {
      "image/png": "[encoded data removed]",
      "text/plain": [
       "<Figure size 432x288 with 1 Axes>"
      ]
     },
     "metadata": {
      "needs_background": "light"
     },
     "output_type": "display_data"
    }
   ],
   "source": [
    "from collections import Counter\n",
    "\n",
    "#print(Counter(convo_emotion_2nd))\n",
    "\n",
    "#c = Counter(sample_list) \n",
    "#print(c[\"a\"])\n",
    "convo_emotion_3rd = df_transcript_train[\"emotion_3rd\"]\n",
    "print(Counter(convo_emotion_3rd))\n",
    "b = Counter(convo_emotion_3rd)\n",
    "x = list(b.keys())\n",
    "y = list(b.values())\n",
    "sns.barplot(x = x, y = y, color = \"blue\")\n",
    "plt.title(\"3rd emotion - Train\")\n",
    "plt.show()"
   ]
  },
  {
   "cell_type": "code",
   "execution_count": 23,
   "id": "a9ea350d",
   "metadata": {},
   "outputs": [
    {
     "data": {
      "text/html": [
       "<div>\n",
       "<style scoped>\n",
       "    .dataframe tbody tr th:only-of-type {\n",
       "        vertical-align: middle;\n",
       "    }\n",
       "\n",
       "    .dataframe tbody tr th {\n",
       "        vertical-align: top;\n",
       "    }\n",
       "\n",
       "    .dataframe thead th {\n",
       "        text-align: right;\n",
       "    }\n",
       "</style>\n",
       "<table border=\"1\" class=\"dataframe\">\n",
       "  <thead>\n",
       "    <tr style=\"text-align: right;\">\n",
       "      <th></th>\n",
       "      <th>id</th>\n",
       "      <th>sales_offer_date</th>\n",
       "      <th>accepted_flg</th>\n",
       "      <th>encrypted_collated_transcription</th>\n",
       "      <th>month</th>\n",
       "      <th>length</th>\n",
       "      <th>length_3rd</th>\n",
       "      <th>first_3rd</th>\n",
       "      <th>second_3rd</th>\n",
       "      <th>third_3rd</th>\n",
       "      <th>emotion_1st</th>\n",
       "      <th>emotion_2nd</th>\n",
       "      <th>emotion_3rd</th>\n",
       "    </tr>\n",
       "  </thead>\n",
       "  <tbody>\n",
       "    <tr>\n",
       "      <th>0</th>\n",
       "      <td>e5e4ee3c3c0e9ac72561334e6eb23cc233b1bcd0a0063d...</td>\n",
       "      <td>2022-03-26</td>\n",
       "      <td>False</td>\n",
       "      <td>ok Thank for calling [CLIENT] Tech Hello? Hi. ...</td>\n",
       "      <td>march</td>\n",
       "      <td>7054</td>\n",
       "      <td>2351</td>\n",
       "      <td>ok Thank for calling [CLIENT] Tech Hello? Hi. ...</td>\n",
       "      <td>et you know what I could be able to see here. ...</td>\n",
       "      <td>see is that the, uh, places is still under th...</td>\n",
       "      <td>sadness</td>\n",
       "      <td>neutral</td>\n",
       "      <td>anger</td>\n",
       "    </tr>\n",
       "    <tr>\n",
       "      <th>1</th>\n",
       "      <td>ae6128d8d240d28edbcb7eb27256780cf662a2be1aec8c...</td>\n",
       "      <td>2022-03-02</td>\n",
       "      <td>False</td>\n",
       "      <td>on on Oh, My name is [NAME]. May I please have...</td>\n",
       "      <td>march</td>\n",
       "      <td>7467</td>\n",
       "      <td>2489</td>\n",
       "      <td>on on Oh, My name is [NAME]. May I please have...</td>\n",
       "      <td>y got all of that Well, their account for hack...</td>\n",
       "      <td>I they're setting up their Myverizon account, ...</td>\n",
       "      <td>neutral</td>\n",
       "      <td>neutral</td>\n",
       "      <td>neutral</td>\n",
       "    </tr>\n",
       "    <tr>\n",
       "      <th>2</th>\n",
       "      <td>4899f9acdb70b0246b2d0ac2871dbcea8267e57b060154...</td>\n",
       "      <td>2022-03-12</td>\n",
       "      <td>False</td>\n",
       "      <td>Hello. We for calling [CLIENT] Tech Coach. My ...</td>\n",
       "      <td>march</td>\n",
       "      <td>3953</td>\n",
       "      <td>1317</td>\n",
       "      <td>Hello. We for calling [CLIENT] Tech Coach. My ...</td>\n",
       "      <td>know, do I hit. get through the put me throug...</td>\n",
       "      <td>t to Oh, I can I just another phone sir maybe,...</td>\n",
       "      <td>neutral</td>\n",
       "      <td>neutral</td>\n",
       "      <td>neutral</td>\n",
       "    </tr>\n",
       "    <tr>\n",
       "      <th>3</th>\n",
       "      <td>0589751e11caac0eac815faf84f1a366d70b86b78324a2...</td>\n",
       "      <td>2022-03-20</td>\n",
       "      <td>False</td>\n",
       "      <td>Hello. Thank you so much for contacting [CLIEN...</td>\n",
       "      <td>march</td>\n",
       "      <td>6998</td>\n",
       "      <td>2332</td>\n",
       "      <td>Hello. Thank you so much for contacting [CLIEN...</td>\n",
       "      <td>et it many times. Good there is what we call a...</td>\n",
       "      <td>ing issues being able to send text messages, t...</td>\n",
       "      <td>neutral</td>\n",
       "      <td>sadness</td>\n",
       "      <td>sadness</td>\n",
       "    </tr>\n",
       "    <tr>\n",
       "      <th>4</th>\n",
       "      <td>6c4790cb02e4f556d73436f79268d5c99de50a9acec40e...</td>\n",
       "      <td>2022-03-15</td>\n",
       "      <td>False</td>\n",
       "      <td>Thank you very much Hello? can I can you hear ...</td>\n",
       "      <td>march</td>\n",
       "      <td>7550</td>\n",
       "      <td>2516</td>\n",
       "      <td>Thank you very much Hello? can I can you hear ...</td>\n",
       "      <td>something happened with the features. I had to...</td>\n",
       "      <td>hold. uh ok. rode um. Man. um. woo Well? thank...</td>\n",
       "      <td>neutral</td>\n",
       "      <td>anger</td>\n",
       "      <td>neutral</td>\n",
       "    </tr>\n",
       "  </tbody>\n",
       "</table>\n",
       "</div>"
      ],
      "text/plain": [
       "                                                  id sales_offer_date  \\\n",
       "0  e5e4ee3c3c0e9ac72561334e6eb23cc233b1bcd0a0063d...       2022-03-26   \n",
       "1  ae6128d8d240d28edbcb7eb27256780cf662a2be1aec8c...       2022-03-02   \n",
       "2  4899f9acdb70b0246b2d0ac2871dbcea8267e57b060154...       2022-03-12   \n",
       "3  0589751e11caac0eac815faf84f1a366d70b86b78324a2...       2022-03-20   \n",
       "4  6c4790cb02e4f556d73436f79268d5c99de50a9acec40e...       2022-03-15   \n",
       "\n",
       "   accepted_flg                   encrypted_collated_transcription  month  \\\n",
       "0         False  ok Thank for calling [CLIENT] Tech Hello? Hi. ...  march   \n",
       "1         False  on on Oh, My name is [NAME]. May I please have...  march   \n",
       "2         False  Hello. We for calling [CLIENT] Tech Coach. My ...  march   \n",
       "3         False  Hello. Thank you so much for contacting [CLIEN...  march   \n",
       "4         False  Thank you very much Hello? can I can you hear ...  march   \n",
       "\n",
       "   length  length_3rd                                          first_3rd  \\\n",
       "0    7054        2351  ok Thank for calling [CLIENT] Tech Hello? Hi. ...   \n",
       "1    7467        2489  on on Oh, My name is [NAME]. May I please have...   \n",
       "2    3953        1317  Hello. We for calling [CLIENT] Tech Coach. My ...   \n",
       "3    6998        2332  Hello. Thank you so much for contacting [CLIEN...   \n",
       "4    7550        2516  Thank you very much Hello? can I can you hear ...   \n",
       "\n",
       "                                          second_3rd  \\\n",
       "0  et you know what I could be able to see here. ...   \n",
       "1  y got all of that Well, their account for hack...   \n",
       "2   know, do I hit. get through the put me throug...   \n",
       "3  et it many times. Good there is what we call a...   \n",
       "4  something happened with the features. I had to...   \n",
       "\n",
       "                                           third_3rd emotion_1st emotion_2nd  \\\n",
       "0   see is that the, uh, places is still under th...     sadness     neutral   \n",
       "1  I they're setting up their Myverizon account, ...     neutral     neutral   \n",
       "2  t to Oh, I can I just another phone sir maybe,...     neutral     neutral   \n",
       "3  ing issues being able to send text messages, t...     neutral     sadness   \n",
       "4  hold. uh ok. rode um. Man. um. woo Well? thank...     neutral       anger   \n",
       "\n",
       "  emotion_3rd  \n",
       "0       anger  \n",
       "1     neutral  \n",
       "2     neutral  \n",
       "3     sadness  \n",
       "4     neutral  "
      ]
     },
     "execution_count": 23,
     "metadata": {},
     "output_type": "execute_result"
    }
   ],
   "source": [
    "df_transcript_train.head()"
   ]
  },
  {
   "cell_type": "code",
   "execution_count": 24,
   "id": "cf89c9f7",
   "metadata": {},
   "outputs": [
    {
     "name": "stdout",
     "output_type": "stream",
     "text": [
      "/workspace/asurion_f22_muby\n"
     ]
    }
   ],
   "source": [
    "%cd .."
   ]
  },
  {
   "cell_type": "markdown",
   "id": "2ce21550",
   "metadata": {},
   "source": [
    "### Testing Data"
   ]
  },
  {
   "cell_type": "code",
   "execution_count": 25,
   "id": "34dfbd94",
   "metadata": {},
   "outputs": [],
   "source": [
    "df_transcript_test = pd.read_csv(\"fe_data_v2/transcript_data/transcript_test_data.csv\")"
   ]
  },
  {
   "cell_type": "code",
   "execution_count": 26,
   "id": "e4c84537",
   "metadata": {},
   "outputs": [
    {
     "name": "stdout",
     "output_type": "stream",
     "text": [
      "/workspace/asurion_f22_muby/parallel_data_test\n"
     ]
    }
   ],
   "source": [
    "%cd parallel_data_test/"
   ]
  },
  {
   "cell_type": "code",
   "execution_count": 27,
   "id": "a67e23fa",
   "metadata": {},
   "outputs": [],
   "source": [
    "df_test_emotion1 = pd.read_csv(\"test_1.csv\")\n",
    "df_first = df_test_emotion1[[\"id\",\"emotion_1st\"]]\n",
    "df_test_emotion2 = pd.read_csv(\"test_2.csv\")\n",
    "df_second = df_test_emotion2[[\"id\",\"emotion_2nd\"]]\n",
    "df_test_emotion3 = pd.read_csv(\"test_3.csv\")\n",
    "df_third = df_test_emotion3[[\"id\",\"emotion_3rd\"]]"
   ]
  },
  {
   "cell_type": "code",
   "execution_count": 28,
   "id": "b75a1147",
   "metadata": {},
   "outputs": [],
   "source": [
    "df_transcript_test = df_transcript_test.merge(df_first, on = \"id\", how = \"inner\")\n",
    "df_transcript_test = df_transcript_test.merge(df_second, on = \"id\", how = \"inner\")\n",
    "df_transcript_test = df_transcript_test.merge(df_third, on = \"id\", how = \"inner\")"
   ]
  },
  {
   "cell_type": "code",
   "execution_count": 29,
   "id": "cda71e82",
   "metadata": {},
   "outputs": [
    {
     "data": {
      "text/html": [
       "<div>\n",
       "<style scoped>\n",
       "    .dataframe tbody tr th:only-of-type {\n",
       "        vertical-align: middle;\n",
       "    }\n",
       "\n",
       "    .dataframe tbody tr th {\n",
       "        vertical-align: top;\n",
       "    }\n",
       "\n",
       "    .dataframe thead th {\n",
       "        text-align: right;\n",
       "    }\n",
       "</style>\n",
       "<table border=\"1\" class=\"dataframe\">\n",
       "  <thead>\n",
       "    <tr style=\"text-align: right;\">\n",
       "      <th></th>\n",
       "      <th>id</th>\n",
       "      <th>sales_offer_date</th>\n",
       "      <th>accepted_flg</th>\n",
       "      <th>encrypted_collated_transcription</th>\n",
       "      <th>month</th>\n",
       "      <th>length</th>\n",
       "      <th>length_3rd</th>\n",
       "      <th>first_3rd</th>\n",
       "      <th>second_3rd</th>\n",
       "      <th>third_3rd</th>\n",
       "      <th>emotion_1st</th>\n",
       "      <th>emotion_2nd</th>\n",
       "      <th>emotion_3rd</th>\n",
       "    </tr>\n",
       "  </thead>\n",
       "  <tbody>\n",
       "    <tr>\n",
       "      <th>0</th>\n",
       "      <td>4ea0f36550494fca16e9cde513b6981a0b276dc09b8dd9...</td>\n",
       "      <td>2022-07-15</td>\n",
       "      <td>False</td>\n",
       "      <td>hi Thank for calling [CLIENT] coach [CLIENT]. ...</td>\n",
       "      <td>july</td>\n",
       "      <td>19202</td>\n",
       "      <td>6400</td>\n",
       "      <td>hi Thank for calling [CLIENT] coach [CLIENT]. ...</td>\n",
       "      <td>r the eleven pro max of the stock issue. but l...</td>\n",
       "      <td>. However as per Ok. checking here gives it's ...</td>\n",
       "      <td>sadness</td>\n",
       "      <td>neutral</td>\n",
       "      <td>happiness</td>\n",
       "    </tr>\n",
       "    <tr>\n",
       "      <th>1</th>\n",
       "      <td>281a94c5a1b46b125f590644613579e36304ae9cbaf75a...</td>\n",
       "      <td>2022-07-04</td>\n",
       "      <td>False</td>\n",
       "      <td>Thank you for calling [CLIENT] Tech Coach. My ...</td>\n",
       "      <td>july</td>\n",
       "      <td>8179</td>\n",
       "      <td>2726</td>\n",
       "      <td>Thank you for calling [CLIENT] Tech Coach. My ...</td>\n",
       "      <td>e go back inside. because I don't know the Wif...</td>\n",
       "      <td>n one of those. Hold on is it's not it's zero ...</td>\n",
       "      <td>neutral</td>\n",
       "      <td>neutral</td>\n",
       "      <td>neutral</td>\n",
       "    </tr>\n",
       "    <tr>\n",
       "      <th>2</th>\n",
       "      <td>a44023139d02e9c8670acbfeeee97d4e158196771d09f7...</td>\n",
       "      <td>2022-07-30</td>\n",
       "      <td>False</td>\n",
       "      <td>Hi. Thank you for calling [CLIENT] Tech Coach....</td>\n",
       "      <td>july</td>\n",
       "      <td>3655</td>\n",
       "      <td>1218</td>\n",
       "      <td>Hi. Thank you for calling [CLIENT] Tech Coach....</td>\n",
       "      <td>in, it starts charging for a minute then stop...</td>\n",
       "      <td>my data from my old phone and it just won't le...</td>\n",
       "      <td>neutral</td>\n",
       "      <td>sadness</td>\n",
       "      <td>sadness</td>\n",
       "    </tr>\n",
       "    <tr>\n",
       "      <th>3</th>\n",
       "      <td>1336eca614e19d8e1540b8120062504a9d3f728609dcc1...</td>\n",
       "      <td>2022-07-21</td>\n",
       "      <td>False</td>\n",
       "      <td>Good afternoon. Thank you for calling [CLIENT]...</td>\n",
       "      <td>july</td>\n",
       "      <td>9055</td>\n",
       "      <td>3018</td>\n",
       "      <td>Good afternoon. Thank you for calling [CLIENT]...</td>\n",
       "      <td>o come up so I can send you that message. Hold...</td>\n",
       "      <td>then I don't want to have you sign out. don't ...</td>\n",
       "      <td>happiness</td>\n",
       "      <td>neutral</td>\n",
       "      <td>anger</td>\n",
       "    </tr>\n",
       "    <tr>\n",
       "      <th>4</th>\n",
       "      <td>5188a2fd5ca86d4e9a40ea308ea7f938fce1bf06484dfa...</td>\n",
       "      <td>2022-07-06</td>\n",
       "      <td>False</td>\n",
       "      <td>Good for your amount of [CLIENT]. tech coach y...</td>\n",
       "      <td>july</td>\n",
       "      <td>2318</td>\n",
       "      <td>772</td>\n",
       "      <td>Good for your amount of [CLIENT]. tech coach y...</td>\n",
       "      <td>i would be sent past. Ok. uh Gmail account? Ok...</td>\n",
       "      <td>de to text to? Your to play your mind. See. ha...</td>\n",
       "      <td>happiness</td>\n",
       "      <td>neutral</td>\n",
       "      <td>neutral</td>\n",
       "    </tr>\n",
       "  </tbody>\n",
       "</table>\n",
       "</div>"
      ],
      "text/plain": [
       "                                                  id sales_offer_date  \\\n",
       "0  4ea0f36550494fca16e9cde513b6981a0b276dc09b8dd9...       2022-07-15   \n",
       "1  281a94c5a1b46b125f590644613579e36304ae9cbaf75a...       2022-07-04   \n",
       "2  a44023139d02e9c8670acbfeeee97d4e158196771d09f7...       2022-07-30   \n",
       "3  1336eca614e19d8e1540b8120062504a9d3f728609dcc1...       2022-07-21   \n",
       "4  5188a2fd5ca86d4e9a40ea308ea7f938fce1bf06484dfa...       2022-07-06   \n",
       "\n",
       "   accepted_flg                   encrypted_collated_transcription month  \\\n",
       "0         False  hi Thank for calling [CLIENT] coach [CLIENT]. ...  july   \n",
       "1         False  Thank you for calling [CLIENT] Tech Coach. My ...  july   \n",
       "2         False  Hi. Thank you for calling [CLIENT] Tech Coach....  july   \n",
       "3         False  Good afternoon. Thank you for calling [CLIENT]...  july   \n",
       "4         False  Good for your amount of [CLIENT]. tech coach y...  july   \n",
       "\n",
       "   length  length_3rd                                          first_3rd  \\\n",
       "0   19202        6400  hi Thank for calling [CLIENT] coach [CLIENT]. ...   \n",
       "1    8179        2726  Thank you for calling [CLIENT] Tech Coach. My ...   \n",
       "2    3655        1218  Hi. Thank you for calling [CLIENT] Tech Coach....   \n",
       "3    9055        3018  Good afternoon. Thank you for calling [CLIENT]...   \n",
       "4    2318         772  Good for your amount of [CLIENT]. tech coach y...   \n",
       "\n",
       "                                          second_3rd  \\\n",
       "0  r the eleven pro max of the stock issue. but l...   \n",
       "1  e go back inside. because I don't know the Wif...   \n",
       "2   in, it starts charging for a minute then stop...   \n",
       "3  o come up so I can send you that message. Hold...   \n",
       "4  i would be sent past. Ok. uh Gmail account? Ok...   \n",
       "\n",
       "                                           third_3rd emotion_1st emotion_2nd  \\\n",
       "0  . However as per Ok. checking here gives it's ...     sadness     neutral   \n",
       "1  n one of those. Hold on is it's not it's zero ...     neutral     neutral   \n",
       "2  my data from my old phone and it just won't le...     neutral     sadness   \n",
       "3  then I don't want to have you sign out. don't ...   happiness     neutral   \n",
       "4  de to text to? Your to play your mind. See. ha...   happiness     neutral   \n",
       "\n",
       "  emotion_3rd  \n",
       "0   happiness  \n",
       "1     neutral  \n",
       "2     sadness  \n",
       "3       anger  \n",
       "4     neutral  "
      ]
     },
     "execution_count": 29,
     "metadata": {},
     "output_type": "execute_result"
    }
   ],
   "source": [
    "df_transcript_test.head()"
   ]
  },
  {
   "cell_type": "code",
   "execution_count": 30,
   "id": "e26aa741",
   "metadata": {},
   "outputs": [
    {
     "data": {
      "text/plain": [
       "218213"
      ]
     },
     "execution_count": 30,
     "metadata": {},
     "output_type": "execute_result"
    }
   ],
   "source": [
    "len(df_transcript_test)"
   ]
  },
  {
   "cell_type": "code",
   "execution_count": 31,
   "id": "e38e98ba",
   "metadata": {},
   "outputs": [
    {
     "name": "stdout",
     "output_type": "stream",
     "text": [
      "Counter({'neutral': 97007, 'sadness': 76769, 'happiness': 29631, 'anger': 14806})\n"
     ]
    },
    {
     "data": {
      "image/png": "[encoded data removed]",
      "text/plain": [
       "<Figure size 432x288 with 1 Axes>"
      ]
     },
     "metadata": {
      "needs_background": "light"
     },
     "output_type": "display_data"
    }
   ],
   "source": [
    "from collections import Counter\n",
    "\n",
    "#print(Counter(convo_emotion_2nd))\n",
    "\n",
    "#c = Counter(sample_list) \n",
    "#print(c[\"a\"])\n",
    "convo_emotion_1st= df_transcript_test[\"emotion_1st\"]\n",
    "print(Counter(convo_emotion_1st))\n",
    "b = Counter(convo_emotion_1st)\n",
    "x = list(b.keys())\n",
    "y = list(b.values())\n",
    "sns.barplot(x = x, y = y, color = \"blue\")\n",
    "plt.title(\"1st emotion - Test\")\n",
    "plt.show();"
   ]
  },
  {
   "cell_type": "code",
   "execution_count": 32,
   "id": "9e960eee",
   "metadata": {},
   "outputs": [
    {
     "name": "stdout",
     "output_type": "stream",
     "text": [
      "Counter({'neutral': 120599, 'sadness': 53557, 'happiness': 27523, 'anger': 16534})\n"
     ]
    },
    {
     "data": {
      "image/png": "[encoded data removed]",
      "text/plain": [
       "<Figure size 432x288 with 1 Axes>"
      ]
     },
     "metadata": {
      "needs_background": "light"
     },
     "output_type": "display_data"
    }
   ],
   "source": [
    "from collections import Counter\n",
    "\n",
    "#print(Counter(convo_emotion_2nd))\n",
    "\n",
    "#c = Counter(sample_list) \n",
    "#print(c[\"a\"])\n",
    "convo_emotion_2nd = df_transcript_test[\"emotion_2nd\"]\n",
    "print(Counter(convo_emotion_2nd))\n",
    "b = Counter(convo_emotion_2nd)\n",
    "x = list(b.keys())\n",
    "y = list(b.values())\n",
    "sns.barplot(x = x, y = y, color = \"blue\")\n",
    "plt.title(\"2nd emotion - Test\")\n",
    "plt.show();"
   ]
  },
  {
   "cell_type": "code",
   "execution_count": 33,
   "id": "0503fdf4",
   "metadata": {},
   "outputs": [
    {
     "name": "stdout",
     "output_type": "stream",
     "text": [
      "Counter({'neutral': 126643, 'happiness': 38738, 'sadness': 38224, 'anger': 14608})\n"
     ]
    },
    {
     "data": {
      "image/png": "[encoded data removed]",
      "text/plain": [
       "<Figure size 432x288 with 1 Axes>"
      ]
     },
     "metadata": {
      "needs_background": "light"
     },
     "output_type": "display_data"
    }
   ],
   "source": [
    "from collections import Counter\n",
    "\n",
    "#print(Counter(convo_emotion_2nd))\n",
    "\n",
    "#c = Counter(sample_list) \n",
    "#print(c[\"a\"])\n",
    "convo_emotion_3rd = df_transcript_test[\"emotion_3rd\"]\n",
    "print(Counter(convo_emotion_3rd))\n",
    "b = Counter(convo_emotion_3rd)\n",
    "x = list(b.keys())\n",
    "y = list(b.values())\n",
    "sns.barplot(x = x, y = y, color = \"blue\")\n",
    "plt.title(\"3rd emotion - Test\")\n",
    "plt.show();"
   ]
  },
  {
   "cell_type": "code",
   "execution_count": 34,
   "id": "958e7ca3",
   "metadata": {},
   "outputs": [
    {
     "name": "stdout",
     "output_type": "stream",
     "text": [
      "/workspace/asurion_f22_muby\n"
     ]
    }
   ],
   "source": [
    "%cd .."
   ]
  },
  {
   "cell_type": "markdown",
   "id": "ec569d02",
   "metadata": {},
   "source": [
    "## Saving new data to transcript folder"
   ]
  },
  {
   "cell_type": "code",
   "execution_count": 36,
   "id": "afb15db4",
   "metadata": {},
   "outputs": [],
   "source": [
    "df_train = df_transcript_train[[\"id\",\"emotion_1st\",\"emotion_2nd\", \"emotion_3rd\"]]\n",
    "df_train.to_csv(\"fe_data_v2/transcript_data_remastered/transcript_train_data.csv\", index = False)"
   ]
  },
  {
   "cell_type": "code",
   "execution_count": 37,
   "id": "f63482a8",
   "metadata": {},
   "outputs": [],
   "source": [
    "df_test = df_transcript_test[[\"id\",\"emotion_1st\",\"emotion_2nd\", \"emotion_3rd\"]]\n",
    "df_test.to_csv(\"fe_data_v2/transcript_data_remastered/transcript_test_data.csv\", index = False)"
   ]
  },
  {
   "cell_type": "code",
   "execution_count": null,
   "id": "ad50e51e",
   "metadata": {},
   "outputs": [],
   "source": []
  }
 ],
 "metadata": {
  "kernelspec": {
   "display_name": "Python 3 (ipykernel)",
   "language": "python",
   "name": "python3"
  },
  "language_info": {
   "codemirror_mode": {
    "name": "ipython",
    "version": 3
   },
   "file_extension": ".py",
   "mimetype": "text/x-python",
   "name": "python",
   "nbconvert_exporter": "python",
   "pygments_lexer": "ipython3",
   "version": "3.8.13"
  }
 },
 "nbformat": 4,
 "nbformat_minor": 5
}
