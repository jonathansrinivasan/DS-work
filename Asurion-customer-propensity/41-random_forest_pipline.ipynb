{
 "cells": [
  {
   "cell_type": "code",
   "execution_count": 3,
   "id": "755befdd",
   "metadata": {},
   "outputs": [
    {
     "name": "stdout",
     "output_type": "stream",
     "text": [
      "\u001b[0m\u001b[01;34mdata\u001b[0m/     \u001b[01;34mfe_data_new\u001b[0m/  random_forest_pipline.ipynb\n",
      "\u001b[01;34mfe_data\u001b[0m/  \u001b[01;34mfe_data_v2\u001b[0m/   random_forest_testing.ipynb\n"
     ]
    }
   ],
   "source": [
    "%ls"
   ]
  },
  {
   "cell_type": "code",
   "execution_count": 4,
   "id": "fbd71f12",
   "metadata": {},
   "outputs": [
    {
     "name": "stdout",
     "output_type": "stream",
     "text": [
      "[Errno 2] No such file or directory: 'asurion_f22_wut'\n",
      "/workspace/asurion_f22_wut\n"
     ]
    }
   ],
   "source": [
    "%cd asurion_f22_wut\n"
   ]
  },
  {
   "cell_type": "code",
   "execution_count": 5,
   "id": "cbae28b3",
   "metadata": {},
   "outputs": [
    {
     "name": "stdout",
     "output_type": "stream",
     "text": [
      "\u001b[0m\u001b[01;34mdata\u001b[0m/     \u001b[01;34mfe_data_new\u001b[0m/  random_forest_pipline.ipynb\n",
      "\u001b[01;34mfe_data\u001b[0m/  \u001b[01;34mfe_data_v2\u001b[0m/   random_forest_testing.ipynb\n"
     ]
    }
   ],
   "source": [
    "%ls"
   ]
  },
  {
   "cell_type": "code",
   "execution_count": 6,
   "id": "6aa2269d",
   "metadata": {},
   "outputs": [
    {
     "name": "stdout",
     "output_type": "stream",
     "text": [
      "/workspace/asurion_f22_wut/fe_data_v2\n"
     ]
    }
   ],
   "source": [
    "%cd fe_data_v2"
   ]
  },
  {
   "cell_type": "code",
   "execution_count": 7,
   "id": "4dcf0ce4",
   "metadata": {},
   "outputs": [
    {
     "name": "stdout",
     "output_type": "stream",
     "text": [
      "\u001b[0m\u001b[01;34m30_day_churn_data\u001b[0m/  \u001b[01;34m90_day_churn_data\u001b[0m/  \u001b[01;34mtotal_data\u001b[0m/\n",
      "\u001b[01;34m7_day_churn_data\u001b[0m/   \u001b[01;34msale_data\u001b[0m/\n"
     ]
    }
   ],
   "source": [
    "%ls"
   ]
  },
  {
   "cell_type": "code",
   "execution_count": 8,
   "id": "ccc8d5a6",
   "metadata": {},
   "outputs": [],
   "source": [
    "import pandas as pd\n",
    "import numpy as np\n",
    "# import seaborn\n",
    "import matplotlib.pyplot as plt\n",
    "%matplotlib inline\n",
    "\n",
    "import pickle\n",
    "import joblib\n",
    "import time\n",
    "\n",
    "import xgboost as xgb\n",
    "from sklearn.model_selection import train_test_split, GridSearchCV\n",
    "from sklearn.ensemble import RandomForestClassifier\n",
    "from sklearn import config_context\n",
    "from sklearn.metrics import classification_report, confusion_matrix, ConfusionMatrixDisplay\n",
    "from sklearn.metrics import accuracy_score, mean_squared_error\n",
    "from sklearn.preprocessing import MinMaxScaler\n",
    "from sklearn.pipeline import Pipeline\n",
    "from sklearn.compose import ColumnTransformer\n",
    "from sklearn.preprocessing import OneHotEncoder\n",
    "from sklearn.model_selection import train_test_split \n",
    "from sklearn.model_selection import cross_val_predict \n",
    "from sklearn.model_selection import cross_val_score \n",
    "from sklearn.feature_selection import RFECV\n",
    "from sklearn.metrics import precision_score, f1_score, recall_score, confusion_matrix, accuracy_score, roc_auc_score\n",
    "\n",
    "pd.set_option('display.max_columns', None)\n",
    "pd.set_option('display.max_rows', 500)\n",
    "pd.set_option('display.float_format', '{:.2f}'.format)\n",
    "\n",
    "import warnings\n",
    "warnings.filterwarnings('ignore')"
   ]
  },
  {
   "cell_type": "code",
   "execution_count": 9,
   "id": "a731d139",
   "metadata": {},
   "outputs": [],
   "source": [
    "df = pd.read_csv('sale_data/test_sale_encoded.csv', index_col='id')"
   ]
  },
  {
   "cell_type": "code",
   "execution_count": 10,
   "id": "b12d0f6b",
   "metadata": {},
   "outputs": [],
   "source": [
    "df_col= ['accepted_flg', 'clndr_dt_cst', 'start_dt', 'zipcode', 'county', 'state', \n",
    "         'state_code', 'latitude', 'longitude', 'hh_income_code', 'month']"
   ]
  },
  {
   "cell_type": "code",
   "execution_count": 11,
   "id": "9ec8f0bf",
   "metadata": {},
   "outputs": [],
   "source": [
    "df.drop(columns = df_col, inplace = True)\n",
    "df = df[(df['zipcode_accepted_prop'].isnull()==False)& (df['zipcode_rejected_offers'].isnull()==False)& \n",
    "            (df['zipcode_accepted_offers'].isnull()==False)&(df['zipcode_total_offers'].isnull()==False)]"
   ]
  },
  {
   "cell_type": "code",
   "execution_count": 12,
   "id": "8277e5d1",
   "metadata": {},
   "outputs": [
    {
     "name": "stdout",
     "output_type": "stream",
     "text": [
      "<class 'pandas.core.frame.DataFrame'>\n",
      "Index: 223145 entries, c27e6b798c0ae161fad4a807f097dd233a52c7b8d72c777799c0bec9 to eabb5d70312e1d7e2e240318f84bab3fd1803639bd43cf7d1d65f712\n",
      "Data columns (total 31 columns):\n",
      " #   Column                      Non-Null Count   Dtype  \n",
      "---  ------                      --------------   -----  \n",
      " 0   quality_sale                223145 non-null  int64  \n",
      " 1   lines                       223145 non-null  int64  \n",
      " 2   previous_tech_support_call  223145 non-null  int64  \n",
      " 3   account_tenure              223145 non-null  int64  \n",
      " 4   past_yr_claim_count         223145 non-null  int64  \n",
      " 5   num_decline                 223145 non-null  int64  \n",
      " 6   exp                         223145 non-null  int64  \n",
      " 7   product_type                223145 non-null  object \n",
      " 8   pmake                       223145 non-null  object \n",
      " 9   claritas_hh_count           223145 non-null  int64  \n",
      " 10  technodoption_class         223145 non-null  object \n",
      " 11  hh_income                   223145 non-null  object \n",
      " 12  age_class                   223145 non-null  object \n",
      " 13  hh_education                223145 non-null  object \n",
      " 14  hh_composition              223145 non-null  object \n",
      " 15  hh_tenure                   223145 non-null  object \n",
      " 16  urbanicity                  223145 non-null  object \n",
      " 17  median_income               223145 non-null  int64  \n",
      " 18  total_population            223145 non-null  int64  \n",
      " 19  perc_female                 223145 non-null  int64  \n",
      " 20  perc_under18                223145 non-null  int64  \n",
      " 21  perc_over65                 223145 non-null  int64  \n",
      " 22  perc_white                  223145 non-null  int64  \n",
      " 23  perc_black                  223145 non-null  int64  \n",
      " 24  population_density          223145 non-null  int64  \n",
      " 25  day_of_week                 223145 non-null  object \n",
      " 26  time_of_day                 223145 non-null  int64  \n",
      " 27  zipcode_accepted_prop       223145 non-null  float64\n",
      " 28  zipcode_rejected_offers     223145 non-null  float64\n",
      " 29  zipcode_accepted_offers     223145 non-null  float64\n",
      " 30  zipcode_total_offers        223145 non-null  float64\n",
      "dtypes: float64(4), int64(17), object(10)\n",
      "memory usage: 54.5+ MB\n"
     ]
    }
   ],
   "source": [
    "df.info()"
   ]
  },
  {
   "cell_type": "code",
   "execution_count": 13,
   "id": "32b2c792",
   "metadata": {},
   "outputs": [],
   "source": [
    "df.to_csv('sale_data/testing.csv')"
   ]
  },
  {
   "cell_type": "code",
   "execution_count": 14,
   "id": "54b516c2",
   "metadata": {},
   "outputs": [],
   "source": [
    "train_df = pd.read_csv('sale_data/train_sale_encoded.csv', index_col='id')"
   ]
  },
  {
   "cell_type": "code",
   "execution_count": 15,
   "id": "571a1975",
   "metadata": {},
   "outputs": [],
   "source": [
    "train_df.drop(columns = df_col, inplace = True)\n",
    "train_df = train_df[(train_df['zipcode_accepted_prop'].isnull()==False)& (train_df['zipcode_rejected_offers'].isnull()==False)& \n",
    "            (train_df['zipcode_accepted_offers'].isnull()==False)&(train_df['zipcode_total_offers'].isnull()==False)]"
   ]
  },
  {
   "cell_type": "code",
   "execution_count": 16,
   "id": "396eed17",
   "metadata": {},
   "outputs": [
    {
     "name": "stdout",
     "output_type": "stream",
     "text": [
      "<class 'pandas.core.frame.DataFrame'>\n",
      "Index: 863505 entries, c90ce3eaafffd07a32cb9cf4d153aef6f524b29aeef447ba3200efdb to 66b4c3759f378f38589395fd0353856239da965077903f31b30e87fc\n",
      "Data columns (total 31 columns):\n",
      " #   Column                      Non-Null Count   Dtype  \n",
      "---  ------                      --------------   -----  \n",
      " 0   quality_sale                863505 non-null  int64  \n",
      " 1   lines                       863505 non-null  int64  \n",
      " 2   previous_tech_support_call  863505 non-null  int64  \n",
      " 3   account_tenure              863505 non-null  int64  \n",
      " 4   past_yr_claim_count         863505 non-null  int64  \n",
      " 5   num_decline                 863505 non-null  int64  \n",
      " 6   exp                         863505 non-null  int64  \n",
      " 7   product_type                863505 non-null  object \n",
      " 8   pmake                       863505 non-null  object \n",
      " 9   claritas_hh_count           863505 non-null  int64  \n",
      " 10  technodoption_class         863505 non-null  object \n",
      " 11  hh_income                   863505 non-null  object \n",
      " 12  age_class                   863505 non-null  object \n",
      " 13  hh_education                863505 non-null  object \n",
      " 14  hh_composition              863505 non-null  object \n",
      " 15  hh_tenure                   863505 non-null  object \n",
      " 16  urbanicity                  863505 non-null  object \n",
      " 17  median_income               863505 non-null  int64  \n",
      " 18  total_population            863505 non-null  int64  \n",
      " 19  perc_female                 863505 non-null  int64  \n",
      " 20  perc_under18                863505 non-null  int64  \n",
      " 21  perc_over65                 863505 non-null  int64  \n",
      " 22  perc_white                  863505 non-null  int64  \n",
      " 23  perc_black                  863505 non-null  int64  \n",
      " 24  population_density          863505 non-null  int64  \n",
      " 25  day_of_week                 863505 non-null  object \n",
      " 26  time_of_day                 863505 non-null  int64  \n",
      " 27  zipcode_accepted_prop       863505 non-null  float64\n",
      " 28  zipcode_rejected_offers     863505 non-null  float64\n",
      " 29  zipcode_accepted_offers     863505 non-null  float64\n",
      " 30  zipcode_total_offers        863505 non-null  float64\n",
      "dtypes: float64(4), int64(17), object(10)\n",
      "memory usage: 210.8+ MB\n"
     ]
    }
   ],
   "source": [
    "train_df.info()"
   ]
  },
  {
   "cell_type": "code",
   "execution_count": 17,
   "id": "e01a3fa7",
   "metadata": {},
   "outputs": [],
   "source": [
    "train_df.to_csv('sale_data/training.csv')"
   ]
  },
  {
   "cell_type": "code",
   "execution_count": 18,
   "id": "90ff2fab",
   "metadata": {},
   "outputs": [
    {
     "data": {
      "text/plain": [
       "(863505, 31)"
      ]
     },
     "execution_count": 18,
     "metadata": {},
     "output_type": "execute_result"
    }
   ],
   "source": [
    "train_df.shape"
   ]
  },
  {
   "cell_type": "code",
   "execution_count": 19,
   "id": "09afba13",
   "metadata": {},
   "outputs": [
    {
     "data": {
      "text/plain": [
       "30"
      ]
     },
     "execution_count": 19,
     "metadata": {},
     "output_type": "execute_result"
    }
   ],
   "source": [
    "num_list = ['lines', 'previous_tech_support_call', 'account_tenure', 'past_yr_claim_count', 'num_decline', \n",
    "            'claritas_hh_count', 'median_income', 'total_population', 'perc_female', 'perc_under18',\n",
    "            'perc_over65', 'perc_white', 'perc_black', 'population_density',\n",
    "            'zipcode_accepted_prop', 'zipcode_rejected_offers', 'zipcode_accepted_offers', 'zipcode_total_offers']\n",
    "cat_list = ['exp', 'product_type', 'pmake', 'technodoption_class', 'hh_income', 'age_class', 'hh_education', \n",
    "            'hh_composition', 'hh_tenure', 'urbanicity', 'day_of_week', 'time_of_day']\n",
    "len(num_list+cat_list)"
   ]
  },
  {
   "cell_type": "code",
   "execution_count": 20,
   "id": "fdabd677",
   "metadata": {},
   "outputs": [],
   "source": [
    "train = pd.read_csv('sale_data/training.csv', index_col='id')\n",
    "test = pd.read_csv('sale_data/testing.csv', index_col='id')"
   ]
  },
  {
   "cell_type": "code",
   "execution_count": 21,
   "id": "bb97ab86",
   "metadata": {},
   "outputs": [
    {
     "data": {
      "text/plain": [
       "Index(['quality_sale', 'lines', 'previous_tech_support_call', 'account_tenure',\n",
       "       'past_yr_claim_count', 'num_decline', 'exp', 'product_type', 'pmake',\n",
       "       'claritas_hh_count', 'technodoption_class', 'hh_income', 'age_class',\n",
       "       'hh_education', 'hh_composition', 'hh_tenure', 'urbanicity',\n",
       "       'median_income', 'total_population', 'perc_female', 'perc_under18',\n",
       "       'perc_over65', 'perc_white', 'perc_black', 'population_density',\n",
       "       'day_of_week', 'time_of_day', 'zipcode_accepted_prop',\n",
       "       'zipcode_rejected_offers', 'zipcode_accepted_offers',\n",
       "       'zipcode_total_offers'],\n",
       "      dtype='object')"
      ]
     },
     "execution_count": 21,
     "metadata": {},
     "output_type": "execute_result"
    }
   ],
   "source": [
    "train.columns"
   ]
  },
  {
   "cell_type": "code",
   "execution_count": 22,
   "id": "cf782093",
   "metadata": {},
   "outputs": [
    {
     "data": {
      "text/plain": [
       "Index(['quality_sale', 'lines', 'previous_tech_support_call', 'account_tenure',\n",
       "       'past_yr_claim_count', 'num_decline', 'exp', 'product_type', 'pmake',\n",
       "       'claritas_hh_count', 'technodoption_class', 'hh_income', 'age_class',\n",
       "       'hh_education', 'hh_composition', 'hh_tenure', 'urbanicity',\n",
       "       'median_income', 'total_population', 'perc_female', 'perc_under18',\n",
       "       'perc_over65', 'perc_white', 'perc_black', 'population_density',\n",
       "       'day_of_week', 'time_of_day', 'zipcode_accepted_prop',\n",
       "       'zipcode_rejected_offers', 'zipcode_accepted_offers',\n",
       "       'zipcode_total_offers'],\n",
       "      dtype='object')"
      ]
     },
     "execution_count": 22,
     "metadata": {},
     "output_type": "execute_result"
    }
   ],
   "source": [
    "test.columns"
   ]
  },
  {
   "cell_type": "code",
   "execution_count": 23,
   "id": "6cb24e07",
   "metadata": {},
   "outputs": [],
   "source": [
    "class_column = 'quality_sale'\n",
    "random_seed = 42\n",
    "data = train.copy()\n",
    "X_train, X_test, y_train, y_test = train_test_split(data.drop(columns=class_column), data[class_column],\n",
    "                                                   test_size=0.3, random_state=random_seed, stratify=data[class_column])"
   ]
  },
  {
   "cell_type": "code",
   "execution_count": 24,
   "id": "7d0d22aa",
   "metadata": {},
   "outputs": [],
   "source": [
    "onehot = OneHotEncoder(handle_unknown='ignore')\n",
    "minmax = MinMaxScaler()\n",
    "ct = ColumnTransformer([(\"onehot\", onehot, cat_list),(\"minmax\", minmax, num_list)])\n",
    "pipeline = Pipeline([(\"col\", ct), (\"mdl\", RandomForestClassifier(class_weight='balanced'))])"
   ]
  },
  {
   "cell_type": "code",
   "execution_count": 35,
   "id": "d7f921e1",
   "metadata": {},
   "outputs": [
    {
     "name": "stdout",
     "output_type": "stream",
     "text": [
      "Fitting 5 folds for each of 27 candidates, totalling 135 fits\n",
      "best score for grid search: 0.7822255485180576\n"
     ]
    },
    {
     "data": {
      "text/plain": [
       "{'mdl__max_depth': 3,\n",
       " 'mdl__min_samples_leaf': 2,\n",
       " 'mdl__min_samples_split': 2,\n",
       " 'mdl__n_estimators': 10}"
      ]
     },
     "metadata": {},
     "output_type": "display_data"
    },
    {
     "name": "stdout",
     "output_type": "stream",
     "text": [
      "Timer: 170.7116858959198 seconds\n"
     ]
    }
   ],
   "source": [
    "tuning_grid = {'mdl__n_estimators' : [10],\n",
    "               'mdl__max_depth' : [2,3,4],\n",
    "               'mdl__min_samples_split': [2,5,10],\n",
    "               'mdl__min_samples_leaf': [1,2,5]\n",
    "                }\n",
    "grid_search = GridSearchCV(pipeline, param_grid = tuning_grid, cv = 5, return_train_score=True,  verbose = 1, \n",
    "                      n_jobs = -1, scoring = 'recall')\n",
    "start=time.time()\n",
    "grid_search.fit(X_train, y_train)\n",
    "print('best score for grid search:', grid_search.best_score_)\n",
    "\n",
    "display(grid_search.best_params_)\n",
    "print('Timer:', time.time()-start, 'seconds')\n",
    "random_forest_classifier = grid_search.best_estimator_"
   ]
  },
  {
   "cell_type": "code",
   "execution_count": 36,
   "id": "580e2a79",
   "metadata": {},
   "outputs": [],
   "source": [
    "#y_pred = random_forest_classifier.predict(X_test)\n",
    "preds = random_forest_classifier.predict_proba(X_test)"
   ]
  },
  {
   "cell_type": "code",
   "execution_count": 37,
   "id": "4f1e9d32",
   "metadata": {},
   "outputs": [
    {
     "name": "stdout",
     "output_type": "stream",
     "text": [
      "[[0.45070278 0.54929722]\n",
      " [0.46328393 0.53671607]\n",
      " [0.62356915 0.37643085]\n",
      " ...\n",
      " [0.46615092 0.53384908]\n",
      " [0.62356915 0.37643085]\n",
      " [0.42662408 0.57337592]]\n"
     ]
    }
   ],
   "source": [
    "print(preds)"
   ]
  },
  {
   "cell_type": "code",
   "execution_count": 38,
   "id": "c493227d",
   "metadata": {},
   "outputs": [
    {
     "name": "stdout",
     "output_type": "stream",
     "text": [
      "random_forest \n",
      " recall: 0.7508681991069952 \n",
      " precision: 0.13847526247169423 \n",
      " f1score: 0.23382793137854452 \n",
      " tn:121869, fp:112995, fn:6026, tp:18162 \n",
      "\n"
     ]
    }
   ],
   "source": [
    "threshold=0.5\n",
    "predictions = (preds[:,1] >= threshold).astype('int')\n",
    "#print(np.unique(predictions, return_counts = True))\n",
    "#print(np.unique(y_pred, return_counts = True))\n",
    "#print(y_test)\n",
    "tn, fp, fn, tp = confusion_matrix(y_test, predictions).ravel()\n",
    "print(\"random_forest\",'\\n',\n",
    "      \"recall:\",recall_score(y_test, predictions),'\\n',\n",
    "      \"precision:\",precision_score(y_test, predictions),'\\n',\n",
    "      \"f1score:\",f1_score(y_test, predictions),'\\n',\n",
    "      'tn:{}, fp:{}, fn:{}, tp:{}'.format(tn, fp, fn, tp),'\\n')"
   ]
  },
  {
   "cell_type": "code",
   "execution_count": 39,
   "id": "23a199e7",
   "metadata": {},
   "outputs": [
    {
     "data": {
      "text/plain": [
       "'/workspace/asurion_f22_wut/fe_data_v2'"
      ]
     },
     "execution_count": 39,
     "metadata": {},
     "output_type": "execute_result"
    }
   ],
   "source": [
    "%pwd"
   ]
  },
  {
   "cell_type": "code",
   "execution_count": 40,
   "id": "d2d8c2fc",
   "metadata": {},
   "outputs": [
    {
     "data": {
      "text/plain": [
       "['random_forest_classifier_final.pkl']"
      ]
     },
     "execution_count": 40,
     "metadata": {},
     "output_type": "execute_result"
    }
   ],
   "source": [
    "joblib.dump(random_forest_classifier, 'random_forest_classifier_final.pkl')"
   ]
  },
  {
   "cell_type": "code",
   "execution_count": 41,
   "id": "93fd6174",
   "metadata": {},
   "outputs": [],
   "source": [
    "x = test.drop(columns=class_column)\n",
    "y = test[class_column]"
   ]
  },
  {
   "cell_type": "code",
   "execution_count": 42,
   "id": "87984428",
   "metadata": {},
   "outputs": [],
   "source": [
    "mymodel = joblib.load('random_forest_classifier_final.pkl')"
   ]
  },
  {
   "cell_type": "code",
   "execution_count": 43,
   "id": "a3379ed1",
   "metadata": {},
   "outputs": [],
   "source": [
    "preds = mymodel.predict_proba(x)"
   ]
  },
  {
   "cell_type": "code",
   "execution_count": 44,
   "id": "ae7c5c4a",
   "metadata": {},
   "outputs": [
    {
     "name": "stdout",
     "output_type": "stream",
     "text": [
      "xgboost_test_july \n",
      " recall: 0.6001727613014685 \n",
      " precision: 0.09421953821396929 \n",
      " f1score: 0.162870470936638 \n",
      " tn:105588, fp:100192, fn:6943, tp:10422 \n",
      "\n"
     ]
    }
   ],
   "source": [
    "threshold=0.5\n",
    "predictions = (preds[:,1] >= threshold).astype('int')\n",
    "tn, fp, fn, tp = confusion_matrix(y, predictions).ravel()\n",
    "print(\"xgboost_test_july\",'\\n',\n",
    "      \"recall:\",recall_score(y, predictions),'\\n',\n",
    "      \"precision:\",precision_score(y, predictions),'\\n',\n",
    "      \"f1score:\",f1_score(y, predictions),'\\n',\n",
    "      'tn:{}, fp:{}, fn:{}, tp:{}'.format(tn, fp, fn, tp),'\\n')"
   ]
  },
  {
   "cell_type": "code",
   "execution_count": 46,
   "id": "2ad33636",
   "metadata": {},
   "outputs": [
    {
     "data": {
      "text/html": [
       "<div>\n",
       "<style scoped>\n",
       "    .dataframe tbody tr th:only-of-type {\n",
       "        vertical-align: middle;\n",
       "    }\n",
       "\n",
       "    .dataframe tbody tr th {\n",
       "        vertical-align: top;\n",
       "    }\n",
       "\n",
       "    .dataframe thead th {\n",
       "        text-align: right;\n",
       "    }\n",
       "</style>\n",
       "<table border=\"1\" class=\"dataframe\">\n",
       "  <thead>\n",
       "    <tr style=\"text-align: right;\">\n",
       "      <th></th>\n",
       "      <th>vip</th>\n",
       "      <th>feature_importances_mag</th>\n",
       "      <th>feature_importances_sign</th>\n",
       "    </tr>\n",
       "    <tr>\n",
       "      <th>feat_names</th>\n",
       "      <th></th>\n",
       "      <th></th>\n",
       "      <th></th>\n",
       "    </tr>\n",
       "  </thead>\n",
       "  <tbody>\n",
       "    <tr>\n",
       "      <th>zipcode_accepted_prop</th>\n",
       "      <td>0.31</td>\n",
       "      <td>0.31</td>\n",
       "      <td>1.00</td>\n",
       "    </tr>\n",
       "    <tr>\n",
       "      <th>zipcode_accepted_offers</th>\n",
       "      <td>0.10</td>\n",
       "      <td>0.10</td>\n",
       "      <td>1.00</td>\n",
       "    </tr>\n",
       "    <tr>\n",
       "      <th>x3_Unknown</th>\n",
       "      <td>0.06</td>\n",
       "      <td>0.06</td>\n",
       "      <td>1.00</td>\n",
       "    </tr>\n",
       "    <tr>\n",
       "      <th>x5_Unknown</th>\n",
       "      <td>0.05</td>\n",
       "      <td>0.05</td>\n",
       "      <td>1.00</td>\n",
       "    </tr>\n",
       "    <tr>\n",
       "      <th>x1_SD</th>\n",
       "      <td>0.05</td>\n",
       "      <td>0.05</td>\n",
       "      <td>1.00</td>\n",
       "    </tr>\n",
       "    <tr>\n",
       "      <th>x6_4 High School</th>\n",
       "      <td>0.04</td>\n",
       "      <td>0.04</td>\n",
       "      <td>1.00</td>\n",
       "    </tr>\n",
       "    <tr>\n",
       "      <th>x4_Unknown</th>\n",
       "      <td>0.04</td>\n",
       "      <td>0.04</td>\n",
       "      <td>1.00</td>\n",
       "    </tr>\n",
       "    <tr>\n",
       "      <th>x6_Unknown</th>\n",
       "      <td>0.03</td>\n",
       "      <td>0.03</td>\n",
       "      <td>1.00</td>\n",
       "    </tr>\n",
       "    <tr>\n",
       "      <th>x8_Unknown</th>\n",
       "      <td>0.03</td>\n",
       "      <td>0.03</td>\n",
       "      <td>1.00</td>\n",
       "    </tr>\n",
       "    <tr>\n",
       "      <th>x1_MD</th>\n",
       "      <td>0.03</td>\n",
       "      <td>0.03</td>\n",
       "      <td>1.00</td>\n",
       "    </tr>\n",
       "  </tbody>\n",
       "</table>\n",
       "</div>"
      ],
      "text/plain": [
       "                         vip  feature_importances_mag  \\\n",
       "feat_names                                              \n",
       "zipcode_accepted_prop   0.31                     0.31   \n",
       "zipcode_accepted_offers 0.10                     0.10   \n",
       "x3_Unknown              0.06                     0.06   \n",
       "x5_Unknown              0.05                     0.05   \n",
       "x1_SD                   0.05                     0.05   \n",
       "x6_4 High School        0.04                     0.04   \n",
       "x4_Unknown              0.04                     0.04   \n",
       "x6_Unknown              0.03                     0.03   \n",
       "x8_Unknown              0.03                     0.03   \n",
       "x1_MD                   0.03                     0.03   \n",
       "\n",
       "                         feature_importances_sign  \n",
       "feat_names                                         \n",
       "zipcode_accepted_prop                        1.00  \n",
       "zipcode_accepted_offers                      1.00  \n",
       "x3_Unknown                                   1.00  \n",
       "x5_Unknown                                   1.00  \n",
       "x1_SD                                        1.00  \n",
       "x6_4 High School                             1.00  \n",
       "x4_Unknown                                   1.00  \n",
       "x6_Unknown                                   1.00  \n",
       "x8_Unknown                                   1.00  \n",
       "x1_MD                                        1.00  "
      ]
     },
     "execution_count": 46,
     "metadata": {},
     "output_type": "execute_result"
    }
   ],
   "source": [
    "#get vip info\n",
    "vip = random_forest_classifier.steps[1][1].feature_importances_\n",
    "\n",
    "#create df with vip info\n",
    "feature_importances_info = pd.DataFrame({'feat_names':list(random_forest_classifier.steps[0][1].transformers_[0][1].get_feature_names())+num_list, 'vip': vip})\n",
    "\n",
    "#get sign and magnitude information\n",
    "feature_importances_info = feature_importances_info.assign(feature_importances_mag = abs(feature_importances_info['vip']),\n",
    "                             feature_importances_sign = np.sign(feature_importances_info['vip']))\n",
    "feature_importances_info = feature_importances_info.set_index('feat_names').sort_values(by='feature_importances_mag', ascending=False)\n",
    "feature_importances_info.head(10)"
   ]
  },
  {
   "cell_type": "code",
   "execution_count": 47,
   "id": "9336447d",
   "metadata": {},
   "outputs": [],
   "source": [
    "feature_importances_info.to_csv('feature_importances.csv')"
   ]
  },
  {
   "cell_type": "code",
   "execution_count": 48,
   "id": "749fd944",
   "metadata": {},
   "outputs": [
    {
     "name": "stdout",
     "output_type": "stream",
     "text": [
      "Looking in indexes: https://pypi.org/simple, https://pypi.ngc.nvidia.com\n",
      "Collecting seaborn\n",
      "  Downloading seaborn-0.12.0-py3-none-any.whl (285 kB)\n",
      "\u001b[K     |████████████████████████████████| 285 kB 4.2 MB/s eta 0:00:01\n",
      "\u001b[?25hRequirement already satisfied: pandas>=0.25 in /opt/conda/lib/python3.8/site-packages (from seaborn) (1.3.5)\n",
      "Requirement already satisfied: numpy>=1.17 in /opt/conda/lib/python3.8/site-packages (from seaborn) (1.22.4)\n",
      "Requirement already satisfied: matplotlib>=3.1 in /opt/conda/lib/python3.8/site-packages (from seaborn) (3.5.2)\n",
      "Requirement already satisfied: pillow>=6.2.0 in /opt/conda/lib/python3.8/site-packages (from matplotlib>=3.1->seaborn) (9.0.1)\n",
      "Requirement already satisfied: fonttools>=4.22.0 in /opt/conda/lib/python3.8/site-packages (from matplotlib>=3.1->seaborn) (4.33.3)\n",
      "Requirement already satisfied: python-dateutil>=2.7 in /opt/conda/lib/python3.8/site-packages (from matplotlib>=3.1->seaborn) (2.8.2)\n",
      "Requirement already satisfied: kiwisolver>=1.0.1 in /opt/conda/lib/python3.8/site-packages (from matplotlib>=3.1->seaborn) (1.4.3)\n",
      "Requirement already satisfied: pyparsing>=2.2.1 in /opt/conda/lib/python3.8/site-packages (from matplotlib>=3.1->seaborn) (3.0.9)\n",
      "Requirement already satisfied: cycler>=0.10 in /opt/conda/lib/python3.8/site-packages (from matplotlib>=3.1->seaborn) (0.11.0)\n",
      "Requirement already satisfied: packaging>=20.0 in /opt/conda/lib/python3.8/site-packages (from matplotlib>=3.1->seaborn) (21.3)\n",
      "Requirement already satisfied: pytz>=2017.3 in /opt/conda/lib/python3.8/site-packages (from pandas>=0.25->seaborn) (2022.1)\n",
      "Requirement already satisfied: six>=1.5 in /opt/conda/lib/python3.8/site-packages (from python-dateutil>=2.7->matplotlib>=3.1->seaborn) (1.16.0)\n",
      "Installing collected packages: seaborn\n",
      "Successfully installed seaborn-0.12.0\n",
      "\u001b[33mWARNING: Running pip as the 'root' user can result in broken permissions and conflicting behaviour with the system package manager. It is recommended to use a virtual environment instead: https://pip.pypa.io/warnings/venv\u001b[0m\n"
     ]
    }
   ],
   "source": [
    "!pip install seaborn"
   ]
  },
  {
   "cell_type": "code",
   "execution_count": 49,
   "id": "3d9b1a68",
   "metadata": {},
   "outputs": [
    {
     "data": {
      "image/png": "[encoded data removed]",
      "text/plain": [
       "<Figure size 432x288 with 1 Axes>"
      ]
     },
     "metadata": {
      "needs_background": "light"
     },
     "output_type": "display_data"
    }
   ],
   "source": [
    "import seaborn as sns\n",
    "sns.barplot(y=feature_importances_info.index[:10], x='feature_importances_mag', hue='feature_importances_sign', \n",
    "            data=feature_importances_info[:10], orient='h', dodge=False);"
   ]
  },
  {
   "cell_type": "code",
   "execution_count": null,
   "id": "6f85ac37",
   "metadata": {},
   "outputs": [],
   "source": []
  },
  {
   "cell_type": "code",
   "execution_count": null,
   "id": "e7a49503",
   "metadata": {},
   "outputs": [],
   "source": []
  }
 ],
 "metadata": {
  "kernelspec": {
   "display_name": "Python 3 (ipykernel)",
   "language": "python",
   "name": "python3"
  },
  "language_info": {
   "codemirror_mode": {
    "name": "ipython",
    "version": 3
   },
   "file_extension": ".py",
   "mimetype": "text/x-python",
   "name": "python",
   "nbconvert_exporter": "python",
   "pygments_lexer": "ipython3",
   "version": "3.8.13"
  }
 },
 "nbformat": 4,
 "nbformat_minor": 5
}
