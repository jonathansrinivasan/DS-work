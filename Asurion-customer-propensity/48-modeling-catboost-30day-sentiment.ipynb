{
 "cells": [
  {
   "cell_type": "markdown",
   "id": "6cd0a3e8",
   "metadata": {},
   "source": [
    "Catboost - 30 day churn - sentiment"
   ]
  },
  {
   "cell_type": "code",
   "execution_count": 1,
   "id": "d40a41b9",
   "metadata": {},
   "outputs": [
    {
     "name": "stdout",
     "output_type": "stream",
     "text": [
      "Looking in indexes: https://pypi.org/simple, https://pypi.ngc.nvidia.com\n",
      "Requirement already satisfied: tensorflow in /opt/conda/lib/python3.8/site-packages (2.10.0)\n",
      "Requirement already satisfied: keras-preprocessing>=1.1.1 in /opt/conda/lib/python3.8/site-packages (from tensorflow) (1.1.2)\n",
      "Requirement already satisfied: tensorflow-io-gcs-filesystem>=0.23.1 in /opt/conda/lib/python3.8/site-packages (from tensorflow) (0.27.0)\n",
      "Requirement already satisfied: wrapt>=1.11.0 in /opt/conda/lib/python3.8/site-packages (from tensorflow) (1.14.1)\n",
      "Requirement already satisfied: six>=1.12.0 in /opt/conda/lib/python3.8/site-packages (from tensorflow) (1.16.0)\n",
      "Requirement already satisfied: absl-py>=1.0.0 in /opt/conda/lib/python3.8/site-packages (from tensorflow) (1.1.0)\n",
      "Requirement already satisfied: h5py>=2.9.0 in /opt/conda/lib/python3.8/site-packages (from tensorflow) (3.7.0)\n",
      "Requirement already satisfied: setuptools in /opt/conda/lib/python3.8/site-packages (from tensorflow) (59.5.0)\n",
      "Requirement already satisfied: tensorboard<2.11,>=2.10 in /opt/conda/lib/python3.8/site-packages (from tensorflow) (2.10.1)\n",
      "Requirement already satisfied: flatbuffers>=2.0 in /opt/conda/lib/python3.8/site-packages (from tensorflow) (22.10.26)\n",
      "Requirement already satisfied: google-pasta>=0.1.1 in /opt/conda/lib/python3.8/site-packages (from tensorflow) (0.2.0)\n",
      "Requirement already satisfied: packaging in /opt/conda/lib/python3.8/site-packages (from tensorflow) (21.3)\n",
      "Requirement already satisfied: numpy>=1.20 in /opt/conda/lib/python3.8/site-packages (from tensorflow) (1.22.4)\n",
      "Requirement already satisfied: gast<=0.4.0,>=0.2.1 in /opt/conda/lib/python3.8/site-packages (from tensorflow) (0.4.0)\n",
      "Requirement already satisfied: astunparse>=1.6.0 in /opt/conda/lib/python3.8/site-packages (from tensorflow) (1.6.3)\n",
      "Requirement already satisfied: tensorflow-estimator<2.11,>=2.10.0 in /opt/conda/lib/python3.8/site-packages (from tensorflow) (2.10.0)\n",
      "Requirement already satisfied: grpcio<2.0,>=1.24.3 in /opt/conda/lib/python3.8/site-packages (from tensorflow) (1.46.3)\n",
      "Requirement already satisfied: termcolor>=1.1.0 in /opt/conda/lib/python3.8/site-packages (from tensorflow) (2.1.0)\n",
      "Requirement already satisfied: keras<2.11,>=2.10.0 in /opt/conda/lib/python3.8/site-packages (from tensorflow) (2.10.0)\n",
      "Requirement already satisfied: opt-einsum>=2.3.2 in /opt/conda/lib/python3.8/site-packages (from tensorflow) (3.3.0)\n",
      "Requirement already satisfied: libclang>=13.0.0 in /opt/conda/lib/python3.8/site-packages (from tensorflow) (14.0.6)\n",
      "Requirement already satisfied: protobuf<3.20,>=3.9.2 in /opt/conda/lib/python3.8/site-packages (from tensorflow) (3.19.4)\n",
      "Requirement already satisfied: typing-extensions>=3.6.6 in /opt/conda/lib/python3.8/site-packages (from tensorflow) (4.2.0)\n",
      "Requirement already satisfied: wheel<1.0,>=0.23.0 in /opt/conda/lib/python3.8/site-packages (from astunparse>=1.6.0->tensorflow) (0.37.1)\n",
      "Requirement already satisfied: google-auth<3,>=1.6.3 in /opt/conda/lib/python3.8/site-packages (from tensorboard<2.11,>=2.10->tensorflow) (2.7.0)\n",
      "Requirement already satisfied: tensorboard-data-server<0.7.0,>=0.6.0 in /opt/conda/lib/python3.8/site-packages (from tensorboard<2.11,>=2.10->tensorflow) (0.6.1)\n",
      "Requirement already satisfied: tensorboard-plugin-wit>=1.6.0 in /opt/conda/lib/python3.8/site-packages (from tensorboard<2.11,>=2.10->tensorflow) (1.8.1)\n",
      "Requirement already satisfied: requests<3,>=2.21.0 in /opt/conda/lib/python3.8/site-packages (from tensorboard<2.11,>=2.10->tensorflow) (2.27.1)\n",
      "Requirement already satisfied: werkzeug>=1.0.1 in /opt/conda/lib/python3.8/site-packages (from tensorboard<2.11,>=2.10->tensorflow) (2.1.2)\n",
      "Requirement already satisfied: google-auth-oauthlib<0.5,>=0.4.1 in /opt/conda/lib/python3.8/site-packages (from tensorboard<2.11,>=2.10->tensorflow) (0.4.6)\n",
      "Requirement already satisfied: markdown>=2.6.8 in /opt/conda/lib/python3.8/site-packages (from tensorboard<2.11,>=2.10->tensorflow) (3.3.7)\n",
      "Requirement already satisfied: pyasn1-modules>=0.2.1 in /opt/conda/lib/python3.8/site-packages (from google-auth<3,>=1.6.3->tensorboard<2.11,>=2.10->tensorflow) (0.2.8)\n",
      "Requirement already satisfied: rsa<5,>=3.1.4 in /opt/conda/lib/python3.8/site-packages (from google-auth<3,>=1.6.3->tensorboard<2.11,>=2.10->tensorflow) (4.8)\n",
      "Requirement already satisfied: cachetools<6.0,>=2.0.0 in /opt/conda/lib/python3.8/site-packages (from google-auth<3,>=1.6.3->tensorboard<2.11,>=2.10->tensorflow) (5.2.0)\n",
      "Requirement already satisfied: requests-oauthlib>=0.7.0 in /opt/conda/lib/python3.8/site-packages (from google-auth-oauthlib<0.5,>=0.4.1->tensorboard<2.11,>=2.10->tensorflow) (1.3.1)\n",
      "Requirement already satisfied: importlib-metadata>=4.4 in /opt/conda/lib/python3.8/site-packages (from markdown>=2.6.8->tensorboard<2.11,>=2.10->tensorflow) (4.11.4)\n",
      "Requirement already satisfied: zipp>=0.5 in /opt/conda/lib/python3.8/site-packages (from importlib-metadata>=4.4->markdown>=2.6.8->tensorboard<2.11,>=2.10->tensorflow) (3.8.0)\n",
      "Requirement already satisfied: pyasn1<0.5.0,>=0.4.6 in /opt/conda/lib/python3.8/site-packages (from pyasn1-modules>=0.2.1->google-auth<3,>=1.6.3->tensorboard<2.11,>=2.10->tensorflow) (0.4.8)\n",
      "Requirement already satisfied: idna<4,>=2.5 in /opt/conda/lib/python3.8/site-packages (from requests<3,>=2.21.0->tensorboard<2.11,>=2.10->tensorflow) (3.3)\n",
      "Requirement already satisfied: urllib3<1.27,>=1.21.1 in /opt/conda/lib/python3.8/site-packages (from requests<3,>=2.21.0->tensorboard<2.11,>=2.10->tensorflow) (1.26.9)\n",
      "Requirement already satisfied: certifi>=2017.4.17 in /opt/conda/lib/python3.8/site-packages (from requests<3,>=2.21.0->tensorboard<2.11,>=2.10->tensorflow) (2022.5.18.1)\n",
      "Requirement already satisfied: charset-normalizer~=2.0.0 in /opt/conda/lib/python3.8/site-packages (from requests<3,>=2.21.0->tensorboard<2.11,>=2.10->tensorflow) (2.0.12)\n",
      "Requirement already satisfied: oauthlib>=3.0.0 in /opt/conda/lib/python3.8/site-packages (from requests-oauthlib>=0.7.0->google-auth-oauthlib<0.5,>=0.4.1->tensorboard<2.11,>=2.10->tensorflow) (3.2.0)\n",
      "Requirement already satisfied: pyparsing!=3.0.5,>=2.0.2 in /opt/conda/lib/python3.8/site-packages (from packaging->tensorflow) (3.0.9)\n",
      "\u001b[33mWARNING: Running pip as the 'root' user can result in broken permissions and conflicting behaviour with the system package manager. It is recommended to use a virtual environment instead: https://pip.pypa.io/warnings/venv\u001b[0m\n"
     ]
    }
   ],
   "source": [
    "!pip install tensorflow"
   ]
  },
  {
   "cell_type": "code",
   "execution_count": 2,
   "id": "e0df9e3c",
   "metadata": {},
   "outputs": [
    {
     "name": "stderr",
     "output_type": "stream",
     "text": [
      "2022-11-12 21:45:14.118426: I tensorflow/core/platform/cpu_feature_guard.cc:193] This TensorFlow binary is optimized with oneAPI Deep Neural Network Library (oneDNN) to use the following CPU instructions in performance-critical operations:  AVX2 FMA\n",
      "To enable them in other operations, rebuild TensorFlow with the appropriate compiler flags.\n",
      "2022-11-12 21:45:14.273018: E tensorflow/stream_executor/cuda/cuda_blas.cc:2981] Unable to register cuBLAS factory: Attempting to register factory for plugin cuBLAS when one has already been registered\n",
      "2022-11-12 21:45:14.939846: W tensorflow/stream_executor/platform/default/dso_loader.cc:64] Could not load dynamic library 'libnvinfer.so.7'; dlerror: libnvinfer.so.7: cannot open shared object file: No such file or directory; LD_LIBRARY_PATH: /usr/local/cuda/compat/lib.real:/opt/conda/lib/python3.8/site-packages/torch/lib:/opt/conda/lib/python3.8/site-packages/torch_tensorrt/lib:/usr/local/cuda/compat/lib:/usr/local/nvidia/lib:/usr/local/nvidia/lib64\n",
      "2022-11-12 21:45:14.939928: W tensorflow/stream_executor/platform/default/dso_loader.cc:64] Could not load dynamic library 'libnvinfer_plugin.so.7'; dlerror: libnvinfer_plugin.so.7: cannot open shared object file: No such file or directory; LD_LIBRARY_PATH: /usr/local/cuda/compat/lib.real:/opt/conda/lib/python3.8/site-packages/torch/lib:/opt/conda/lib/python3.8/site-packages/torch_tensorrt/lib:/usr/local/cuda/compat/lib:/usr/local/nvidia/lib:/usr/local/nvidia/lib64\n",
      "2022-11-12 21:45:14.939934: W tensorflow/compiler/tf2tensorrt/utils/py_utils.cc:38] TF-TRT Warning: Cannot dlopen some TensorRT libraries. If you would like to use Nvidia GPU with TensorRT, please make sure the missing libraries mentioned above are installed properly.\n"
     ]
    },
    {
     "name": "stdout",
     "output_type": "stream",
     "text": [
      "['/device:CPU:0', '/device:GPU:0', '/device:GPU:1', '/device:GPU:2', '/device:GPU:3', '/device:GPU:4', '/device:GPU:5', '/device:GPU:6', '/device:GPU:7']\n"
     ]
    },
    {
     "name": "stderr",
     "output_type": "stream",
     "text": [
      "2022-11-12 21:45:15.884373: I tensorflow/core/platform/cpu_feature_guard.cc:193] This TensorFlow binary is optimized with oneAPI Deep Neural Network Library (oneDNN) to use the following CPU instructions in performance-critical operations:  AVX2 FMA\n",
      "To enable them in other operations, rebuild TensorFlow with the appropriate compiler flags.\n",
      "2022-11-12 21:45:20.651223: I tensorflow/core/common_runtime/gpu/gpu_device.cc:1616] Created device /device:GPU:0 with 38407 MB memory:  -> device: 0, name: A100-SXM4-40GB, pci bus id: 0000:07:00.0, compute capability: 8.0\n",
      "2022-11-12 21:45:20.653308: I tensorflow/core/common_runtime/gpu/gpu_device.cc:1616] Created device /device:GPU:1 with 38407 MB memory:  -> device: 1, name: A100-SXM4-40GB, pci bus id: 0000:0f:00.0, compute capability: 8.0\n",
      "2022-11-12 21:45:20.655237: I tensorflow/core/common_runtime/gpu/gpu_device.cc:1616] Created device /device:GPU:2 with 38407 MB memory:  -> device: 2, name: A100-SXM4-40GB, pci bus id: 0000:47:00.0, compute capability: 8.0\n",
      "2022-11-12 21:45:20.656987: I tensorflow/core/common_runtime/gpu/gpu_device.cc:1616] Created device /device:GPU:3 with 38407 MB memory:  -> device: 3, name: A100-SXM4-40GB, pci bus id: 0000:4e:00.0, compute capability: 8.0\n",
      "2022-11-12 21:45:20.658686: I tensorflow/core/common_runtime/gpu/gpu_device.cc:1616] Created device /device:GPU:4 with 38407 MB memory:  -> device: 4, name: A100-SXM4-40GB, pci bus id: 0000:87:00.0, compute capability: 8.0\n",
      "2022-11-12 21:45:20.660444: I tensorflow/core/common_runtime/gpu/gpu_device.cc:1616] Created device /device:GPU:5 with 38407 MB memory:  -> device: 5, name: A100-SXM4-40GB, pci bus id: 0000:90:00.0, compute capability: 8.0\n",
      "2022-11-12 21:45:20.662139: I tensorflow/core/common_runtime/gpu/gpu_device.cc:1616] Created device /device:GPU:6 with 38407 MB memory:  -> device: 6, name: A100-SXM4-40GB, pci bus id: 0000:b7:00.0, compute capability: 8.0\n",
      "2022-11-12 21:45:20.663846: I tensorflow/core/common_runtime/gpu/gpu_device.cc:1616] Created device /device:GPU:7 with 38407 MB memory:  -> device: 7, name: A100-SXM4-40GB, pci bus id: 0000:bd:00.0, compute capability: 8.0\n"
     ]
    }
   ],
   "source": [
    "from tensorflow.python.client import device_lib\n",
    "\n",
    "def get_available_devices():\n",
    "    local_device_protos = device_lib.list_local_devices()\n",
    "    return [x.name for x in local_device_protos]\n",
    "\n",
    "print(get_available_devices())"
   ]
  },
  {
   "cell_type": "code",
   "execution_count": 3,
   "id": "29b7993c",
   "metadata": {},
   "outputs": [
    {
     "name": "stdout",
     "output_type": "stream",
     "text": [
      "Looking in indexes: https://pypi.org/simple, https://pypi.ngc.nvidia.com\n",
      "Requirement already satisfied: catboost in /opt/conda/lib/python3.8/site-packages (1.1.1)\n",
      "Requirement already satisfied: numpy>=1.16.0 in /opt/conda/lib/python3.8/site-packages (from catboost) (1.22.4)\n",
      "Requirement already satisfied: matplotlib in /opt/conda/lib/python3.8/site-packages (from catboost) (3.5.2)\n",
      "Requirement already satisfied: pandas>=0.24.0 in /opt/conda/lib/python3.8/site-packages (from catboost) (1.3.5)\n",
      "Requirement already satisfied: six in /opt/conda/lib/python3.8/site-packages (from catboost) (1.16.0)\n",
      "Requirement already satisfied: plotly in /opt/conda/lib/python3.8/site-packages (from catboost) (5.11.0)\n",
      "Requirement already satisfied: graphviz in /opt/conda/lib/python3.8/site-packages (from catboost) (0.20.1)\n",
      "Requirement already satisfied: scipy in /opt/conda/lib/python3.8/site-packages (from catboost) (1.6.3)\n",
      "Requirement already satisfied: pytz>=2017.3 in /opt/conda/lib/python3.8/site-packages (from pandas>=0.24.0->catboost) (2022.1)\n",
      "Requirement already satisfied: python-dateutil>=2.7.3 in /opt/conda/lib/python3.8/site-packages (from pandas>=0.24.0->catboost) (2.8.2)\n",
      "Requirement already satisfied: cycler>=0.10 in /opt/conda/lib/python3.8/site-packages (from matplotlib->catboost) (0.11.0)\n",
      "Requirement already satisfied: packaging>=20.0 in /opt/conda/lib/python3.8/site-packages (from matplotlib->catboost) (21.3)\n",
      "Requirement already satisfied: fonttools>=4.22.0 in /opt/conda/lib/python3.8/site-packages (from matplotlib->catboost) (4.33.3)\n",
      "Requirement already satisfied: pyparsing>=2.2.1 in /opt/conda/lib/python3.8/site-packages (from matplotlib->catboost) (3.0.9)\n",
      "Requirement already satisfied: pillow>=6.2.0 in /opt/conda/lib/python3.8/site-packages (from matplotlib->catboost) (9.0.1)\n",
      "Requirement already satisfied: kiwisolver>=1.0.1 in /opt/conda/lib/python3.8/site-packages (from matplotlib->catboost) (1.4.3)\n",
      "Requirement already satisfied: tenacity>=6.2.0 in /opt/conda/lib/python3.8/site-packages (from plotly->catboost) (8.1.0)\n",
      "\u001b[33mWARNING: Running pip as the 'root' user can result in broken permissions and conflicting behaviour with the system package manager. It is recommended to use a virtual environment instead: https://pip.pypa.io/warnings/venv\u001b[0m\n"
     ]
    }
   ],
   "source": [
    "!pip install catboost"
   ]
  },
  {
   "cell_type": "code",
   "execution_count": 4,
   "id": "c3d19082",
   "metadata": {},
   "outputs": [
    {
     "name": "stdout",
     "output_type": "stream",
     "text": [
      "Looking in indexes: https://pypi.org/simple, https://pypi.ngc.nvidia.com\n",
      "Requirement already satisfied: ipywidgets in /opt/conda/lib/python3.8/site-packages (8.0.2)\n",
      "Requirement already satisfied: ipython>=6.1.0 in /opt/conda/lib/python3.8/site-packages (from ipywidgets) (8.4.0)\n",
      "Requirement already satisfied: jupyterlab-widgets~=3.0 in /opt/conda/lib/python3.8/site-packages (from ipywidgets) (3.0.3)\n",
      "Requirement already satisfied: widgetsnbextension~=4.0 in /opt/conda/lib/python3.8/site-packages (from ipywidgets) (4.0.3)\n",
      "Requirement already satisfied: ipykernel>=4.5.1 in /opt/conda/lib/python3.8/site-packages (from ipywidgets) (6.14.0)\n",
      "Requirement already satisfied: traitlets>=4.3.1 in /opt/conda/lib/python3.8/site-packages (from ipywidgets) (5.2.2.post1)\n",
      "Requirement already satisfied: matplotlib-inline>=0.1 in /opt/conda/lib/python3.8/site-packages (from ipykernel>=4.5.1->ipywidgets) (0.1.3)\n",
      "Requirement already satisfied: packaging in /opt/conda/lib/python3.8/site-packages (from ipykernel>=4.5.1->ipywidgets) (21.3)\n",
      "Requirement already satisfied: debugpy>=1.0 in /opt/conda/lib/python3.8/site-packages (from ipykernel>=4.5.1->ipywidgets) (1.6.0)\n",
      "Requirement already satisfied: psutil in /opt/conda/lib/python3.8/site-packages (from ipykernel>=4.5.1->ipywidgets) (5.9.1)\n",
      "Requirement already satisfied: jupyter-client>=6.1.12 in /opt/conda/lib/python3.8/site-packages (from ipykernel>=4.5.1->ipywidgets) (7.3.4)\n",
      "Requirement already satisfied: nest-asyncio in /opt/conda/lib/python3.8/site-packages (from ipykernel>=4.5.1->ipywidgets) (1.5.5)\n",
      "Requirement already satisfied: tornado>=6.1 in /opt/conda/lib/python3.8/site-packages (from ipykernel>=4.5.1->ipywidgets) (6.1)\n",
      "Requirement already satisfied: jedi>=0.16 in /opt/conda/lib/python3.8/site-packages (from ipython>=6.1.0->ipywidgets) (0.18.1)\n",
      "Requirement already satisfied: setuptools>=18.5 in /opt/conda/lib/python3.8/site-packages (from ipython>=6.1.0->ipywidgets) (59.5.0)\n",
      "Requirement already satisfied: stack-data in /opt/conda/lib/python3.8/site-packages (from ipython>=6.1.0->ipywidgets) (0.2.0)\n",
      "Requirement already satisfied: decorator in /opt/conda/lib/python3.8/site-packages (from ipython>=6.1.0->ipywidgets) (5.1.1)\n",
      "Requirement already satisfied: pygments>=2.4.0 in /opt/conda/lib/python3.8/site-packages (from ipython>=6.1.0->ipywidgets) (2.12.0)\n",
      "Requirement already satisfied: pexpect>4.3 in /opt/conda/lib/python3.8/site-packages (from ipython>=6.1.0->ipywidgets) (4.8.0)\n",
      "Requirement already satisfied: pickleshare in /opt/conda/lib/python3.8/site-packages (from ipython>=6.1.0->ipywidgets) (0.7.5)\n",
      "Requirement already satisfied: prompt-toolkit!=3.0.0,!=3.0.1,<3.1.0,>=2.0.0 in /opt/conda/lib/python3.8/site-packages (from ipython>=6.1.0->ipywidgets) (3.0.29)\n",
      "Requirement already satisfied: backcall in /opt/conda/lib/python3.8/site-packages (from ipython>=6.1.0->ipywidgets) (0.2.0)\n",
      "Requirement already satisfied: parso<0.9.0,>=0.8.0 in /opt/conda/lib/python3.8/site-packages (from jedi>=0.16->ipython>=6.1.0->ipywidgets) (0.8.3)\n",
      "Requirement already satisfied: entrypoints in /opt/conda/lib/python3.8/site-packages (from jupyter-client>=6.1.12->ipykernel>=4.5.1->ipywidgets) (0.4)\n",
      "Requirement already satisfied: python-dateutil>=2.8.2 in /opt/conda/lib/python3.8/site-packages (from jupyter-client>=6.1.12->ipykernel>=4.5.1->ipywidgets) (2.8.2)\n",
      "Requirement already satisfied: jupyter-core>=4.9.2 in /opt/conda/lib/python3.8/site-packages (from jupyter-client>=6.1.12->ipykernel>=4.5.1->ipywidgets) (4.10.0)\n",
      "Requirement already satisfied: pyzmq>=23.0 in /opt/conda/lib/python3.8/site-packages (from jupyter-client>=6.1.12->ipykernel>=4.5.1->ipywidgets) (23.1.0)\n",
      "Requirement already satisfied: ptyprocess>=0.5 in /opt/conda/lib/python3.8/site-packages (from pexpect>4.3->ipython>=6.1.0->ipywidgets) (0.7.0)\n",
      "Requirement already satisfied: wcwidth in /opt/conda/lib/python3.8/site-packages (from prompt-toolkit!=3.0.0,!=3.0.1,<3.1.0,>=2.0.0->ipython>=6.1.0->ipywidgets) (0.2.5)\n",
      "Requirement already satisfied: six>=1.5 in /opt/conda/lib/python3.8/site-packages (from python-dateutil>=2.8.2->jupyter-client>=6.1.12->ipykernel>=4.5.1->ipywidgets) (1.16.0)\n",
      "Requirement already satisfied: pyparsing!=3.0.5,>=2.0.2 in /opt/conda/lib/python3.8/site-packages (from packaging->ipykernel>=4.5.1->ipywidgets) (3.0.9)\n",
      "Requirement already satisfied: asttokens in /opt/conda/lib/python3.8/site-packages (from stack-data->ipython>=6.1.0->ipywidgets) (2.0.5)\n",
      "Requirement already satisfied: pure-eval in /opt/conda/lib/python3.8/site-packages (from stack-data->ipython>=6.1.0->ipywidgets) (0.2.2)\n",
      "Requirement already satisfied: executing in /opt/conda/lib/python3.8/site-packages (from stack-data->ipython>=6.1.0->ipywidgets) (0.8.3)\n",
      "\u001b[33mWARNING: Running pip as the 'root' user can result in broken permissions and conflicting behaviour with the system package manager. It is recommended to use a virtual environment instead: https://pip.pypa.io/warnings/venv\u001b[0m\n",
      "Looking in indexes: https://pypi.org/simple, https://pypi.ngc.nvidia.com\n",
      "Requirement already satisfied: catboost in /opt/conda/lib/python3.8/site-packages (1.1.1)\n",
      "Requirement already satisfied: matplotlib in /opt/conda/lib/python3.8/site-packages (from catboost) (3.5.2)\n",
      "Requirement already satisfied: plotly in /opt/conda/lib/python3.8/site-packages (from catboost) (5.11.0)\n",
      "Requirement already satisfied: pandas>=0.24.0 in /opt/conda/lib/python3.8/site-packages (from catboost) (1.3.5)\n",
      "Requirement already satisfied: graphviz in /opt/conda/lib/python3.8/site-packages (from catboost) (0.20.1)\n",
      "Requirement already satisfied: scipy in /opt/conda/lib/python3.8/site-packages (from catboost) (1.6.3)\n",
      "Requirement already satisfied: numpy>=1.16.0 in /opt/conda/lib/python3.8/site-packages (from catboost) (1.22.4)\n",
      "Requirement already satisfied: six in /opt/conda/lib/python3.8/site-packages (from catboost) (1.16.0)\n",
      "Requirement already satisfied: python-dateutil>=2.7.3 in /opt/conda/lib/python3.8/site-packages (from pandas>=0.24.0->catboost) (2.8.2)\n",
      "Requirement already satisfied: pytz>=2017.3 in /opt/conda/lib/python3.8/site-packages (from pandas>=0.24.0->catboost) (2022.1)\n",
      "Requirement already satisfied: fonttools>=4.22.0 in /opt/conda/lib/python3.8/site-packages (from matplotlib->catboost) (4.33.3)\n",
      "Requirement already satisfied: pillow>=6.2.0 in /opt/conda/lib/python3.8/site-packages (from matplotlib->catboost) (9.0.1)\n",
      "Requirement already satisfied: cycler>=0.10 in /opt/conda/lib/python3.8/site-packages (from matplotlib->catboost) (0.11.0)\n",
      "Requirement already satisfied: pyparsing>=2.2.1 in /opt/conda/lib/python3.8/site-packages (from matplotlib->catboost) (3.0.9)\n",
      "Requirement already satisfied: packaging>=20.0 in /opt/conda/lib/python3.8/site-packages (from matplotlib->catboost) (21.3)\n",
      "Requirement already satisfied: kiwisolver>=1.0.1 in /opt/conda/lib/python3.8/site-packages (from matplotlib->catboost) (1.4.3)\n",
      "Requirement already satisfied: tenacity>=6.2.0 in /opt/conda/lib/python3.8/site-packages (from plotly->catboost) (8.1.0)\n",
      "\u001b[33mWARNING: Running pip as the 'root' user can result in broken permissions and conflicting behaviour with the system package manager. It is recommended to use a virtual environment instead: https://pip.pypa.io/warnings/venv\u001b[0m\n"
     ]
    }
   ],
   "source": [
    "import pandas as pd\n",
    "import numpy as np\n",
    "# import seaborn\n",
    "import matplotlib.pyplot as plt\n",
    "%matplotlib inline\n",
    "\n",
    "import pickle\n",
    "import joblib\n",
    "import time\n",
    "\n",
    "from catboost import CatBoostClassifier\n",
    "\n",
    "import xgboost as xgb\n",
    "from sklearn.model_selection import train_test_split, GridSearchCV\n",
    "from xgboost import XGBClassifier, plot_importance\n",
    "from sklearn import config_context\n",
    "from sklearn.metrics import classification_report, confusion_matrix, ConfusionMatrixDisplay\n",
    "from sklearn.metrics import accuracy_score, mean_squared_error\n",
    "from sklearn.preprocessing import MinMaxScaler\n",
    "from sklearn.pipeline import Pipeline\n",
    "from sklearn.compose import ColumnTransformer\n",
    "from sklearn.preprocessing import OneHotEncoder\n",
    "from sklearn.model_selection import train_test_split \n",
    "from sklearn.model_selection import cross_val_predict \n",
    "from sklearn.model_selection import cross_val_score \n",
    "from sklearn.feature_selection import RFECV\n",
    "from sklearn.metrics import precision_score, f1_score, recall_score, confusion_matrix, accuracy_score, roc_auc_score\n",
    "\n",
    "pd.set_option('display.max_columns', None)\n",
    "pd.set_option('display.max_rows', 500)\n",
    "pd.set_option('display.float_format', '{:.2f}'.format)\n",
    "\n",
    "!pip install ipywidgets\n",
    "!pip install catboost\n",
    "import ipywidgets\n",
    "import catboost as cb\n",
    "from catboost import CatBoostClassifier\n",
    "from sklearn.metrics import auc, roc_auc_score, roc_curve\n",
    "\n",
    "import warnings\n",
    "warnings.filterwarnings('ignore')"
   ]
  },
  {
   "cell_type": "code",
   "execution_count": 5,
   "id": "cef84eb8",
   "metadata": {},
   "outputs": [
    {
     "name": "stdout",
     "output_type": "stream",
     "text": [
      "/workspace/asurion_f22_muby\n"
     ]
    }
   ],
   "source": [
    "%cd .."
   ]
  },
  {
   "cell_type": "code",
   "execution_count": 6,
   "id": "5ae33dc1",
   "metadata": {},
   "outputs": [],
   "source": [
    "test = pd.read_csv('fe_data_v2/30_day_churn_data/test_30d_encoded.csv')"
   ]
  },
  {
   "cell_type": "code",
   "execution_count": 7,
   "id": "c5788e97",
   "metadata": {},
   "outputs": [],
   "source": [
    "sen_test = pd.read_csv('fe_data_v2/sentiment_data/sentiment_test.csv')"
   ]
  },
  {
   "cell_type": "code",
   "execution_count": 8,
   "id": "95fe0656",
   "metadata": {},
   "outputs": [
    {
     "data": {
      "text/plain": [
       "218213"
      ]
     },
     "execution_count": 8,
     "metadata": {},
     "output_type": "execute_result"
    }
   ],
   "source": [
    "len(sen_test)"
   ]
  },
  {
   "cell_type": "code",
   "execution_count": 9,
   "id": "209fc7cd",
   "metadata": {},
   "outputs": [
    {
     "data": {
      "text/plain": [
       "19718"
      ]
     },
     "execution_count": 9,
     "metadata": {},
     "output_type": "execute_result"
    }
   ],
   "source": [
    "len(test)"
   ]
  },
  {
   "cell_type": "code",
   "execution_count": 10,
   "id": "c6dcc3bd",
   "metadata": {},
   "outputs": [
    {
     "data": {
      "text/plain": [
       "Index(['id', 'quality_sale', 'thirty_day_churn', 'clndr_dt_cst', 'start_dt',\n",
       "       'lines', 'previous_tech_support_call', 'account_tenure',\n",
       "       'past_yr_claim_count', 'num_decline', 'exp', 'product_type', 'pmake',\n",
       "       'claritas_hh_count', 'technodoption_class', 'hh_income', 'age_class',\n",
       "       'hh_education', 'hh_composition', 'hh_tenure', 'urbanicity',\n",
       "       'median_income', 'total_population', 'perc_female', 'perc_under18',\n",
       "       'perc_over65', 'perc_white', 'perc_black', 'population_density',\n",
       "       'zipcode', 'county', 'state', 'state_code', 'latitude', 'longitude',\n",
       "       'month', 'hh_income_code', 'day_of_week', 'time_of_day',\n",
       "       'zipcode_accepted_prop', 'zipcode_rejected_offers',\n",
       "       'zipcode_accepted_offers', 'zipcode_total_offers'],\n",
       "      dtype='object')"
      ]
     },
     "execution_count": 10,
     "metadata": {},
     "output_type": "execute_result"
    }
   ],
   "source": [
    "test.columns"
   ]
  },
  {
   "cell_type": "code",
   "execution_count": 11,
   "id": "4120b4e3",
   "metadata": {},
   "outputs": [],
   "source": [
    "dcols = ['quality_sale', 'clndr_dt_cst', 'start_dt', 'zipcode', 'county', 'state', \n",
    "         'state_code', 'latitude', 'longitude', 'month','hh_income_code']"
   ]
  },
  {
   "cell_type": "code",
   "execution_count": 12,
   "id": "397fb1b5",
   "metadata": {},
   "outputs": [],
   "source": [
    "test.drop(columns = dcols, inplace = True)\n",
    "test = test[(test['zipcode_accepted_prop'].isnull()==False)& (test['zipcode_rejected_offers'].isnull()==False)& \n",
    "            (test['zipcode_accepted_offers'].isnull()==False)&(test['zipcode_total_offers'].isnull()==False)]"
   ]
  },
  {
   "cell_type": "code",
   "execution_count": 13,
   "id": "706469f6",
   "metadata": {},
   "outputs": [
    {
     "data": {
      "text/plain": [
       "218213"
      ]
     },
     "execution_count": 13,
     "metadata": {},
     "output_type": "execute_result"
    }
   ],
   "source": [
    "len(sen_test)"
   ]
  },
  {
   "cell_type": "code",
   "execution_count": 14,
   "id": "85105f00",
   "metadata": {},
   "outputs": [],
   "source": [
    "test = test.merge(sen_test, on='id', how='inner')"
   ]
  },
  {
   "cell_type": "code",
   "execution_count": 15,
   "id": "a015f931",
   "metadata": {},
   "outputs": [
    {
     "data": {
      "text/plain": [
       "12942"
      ]
     },
     "execution_count": 15,
     "metadata": {},
     "output_type": "execute_result"
    }
   ],
   "source": [
    "len(test)"
   ]
  },
  {
   "cell_type": "code",
   "execution_count": 16,
   "id": "6a2ed36a",
   "metadata": {},
   "outputs": [
    {
     "name": "stdout",
     "output_type": "stream",
     "text": [
      "<class 'pandas.core.frame.DataFrame'>\n",
      "Int64Index: 12942 entries, 0 to 12941\n",
      "Data columns (total 33 columns):\n",
      " #   Column                      Non-Null Count  Dtype  \n",
      "---  ------                      --------------  -----  \n",
      " 0   id                          12942 non-null  object \n",
      " 1   thirty_day_churn            12942 non-null  float64\n",
      " 2   lines                       12942 non-null  int64  \n",
      " 3   previous_tech_support_call  12942 non-null  int64  \n",
      " 4   account_tenure              12942 non-null  int64  \n",
      " 5   past_yr_claim_count         12942 non-null  int64  \n",
      " 6   num_decline                 12942 non-null  int64  \n",
      " 7   exp                         12942 non-null  int64  \n",
      " 8   product_type                12942 non-null  object \n",
      " 9   pmake                       12942 non-null  object \n",
      " 10  claritas_hh_count           12942 non-null  int64  \n",
      " 11  technodoption_class         12942 non-null  object \n",
      " 12  hh_income                   12942 non-null  object \n",
      " 13  age_class                   12942 non-null  object \n",
      " 14  hh_education                12942 non-null  object \n",
      " 15  hh_composition              12942 non-null  object \n",
      " 16  hh_tenure                   12942 non-null  object \n",
      " 17  urbanicity                  12942 non-null  object \n",
      " 18  median_income               12942 non-null  int64  \n",
      " 19  total_population            12942 non-null  int64  \n",
      " 20  perc_female                 12942 non-null  int64  \n",
      " 21  perc_under18                12942 non-null  int64  \n",
      " 22  perc_over65                 12942 non-null  int64  \n",
      " 23  perc_white                  12942 non-null  int64  \n",
      " 24  perc_black                  12942 non-null  int64  \n",
      " 25  population_density          12942 non-null  int64  \n",
      " 26  day_of_week                 12942 non-null  object \n",
      " 27  time_of_day                 12942 non-null  int64  \n",
      " 28  zipcode_accepted_prop       12942 non-null  float64\n",
      " 29  zipcode_rejected_offers     12942 non-null  float64\n",
      " 30  zipcode_accepted_offers     12942 non-null  float64\n",
      " 31  zipcode_total_offers        12942 non-null  float64\n",
      " 32  sentiment                   12942 non-null  object \n",
      "dtypes: float64(5), int64(16), object(12)\n",
      "memory usage: 3.4+ MB\n"
     ]
    }
   ],
   "source": [
    "test.info()"
   ]
  },
  {
   "cell_type": "code",
   "execution_count": 17,
   "id": "742e3b1f",
   "metadata": {},
   "outputs": [],
   "source": [
    "train = pd.read_csv('fe_data_v2/30_day_churn_data/train_30d_encoded.csv')"
   ]
  },
  {
   "cell_type": "code",
   "execution_count": 18,
   "id": "95c506ac",
   "metadata": {},
   "outputs": [
    {
     "data": {
      "text/plain": [
       "85707"
      ]
     },
     "execution_count": 18,
     "metadata": {},
     "output_type": "execute_result"
    }
   ],
   "source": [
    "len(train)"
   ]
  },
  {
   "cell_type": "code",
   "execution_count": 19,
   "id": "ee52a10e",
   "metadata": {},
   "outputs": [],
   "source": [
    "sen_train = pd.read_csv('fe_data_v2/sentiment_data/sentiment_train.csv')"
   ]
  },
  {
   "cell_type": "code",
   "execution_count": 20,
   "id": "67381421",
   "metadata": {},
   "outputs": [
    {
     "data": {
      "text/plain": [
       "1044430"
      ]
     },
     "execution_count": 20,
     "metadata": {},
     "output_type": "execute_result"
    }
   ],
   "source": [
    "len(sen_train[\"id\"].unique())"
   ]
  },
  {
   "cell_type": "code",
   "execution_count": 21,
   "id": "780ae4bb",
   "metadata": {},
   "outputs": [],
   "source": [
    "train = train.merge(sen_train, on='id', how='inner')"
   ]
  },
  {
   "cell_type": "code",
   "execution_count": 22,
   "id": "d1ebd9d3",
   "metadata": {},
   "outputs": [
    {
     "data": {
      "text/plain": [
       "72276"
      ]
     },
     "execution_count": 22,
     "metadata": {},
     "output_type": "execute_result"
    }
   ],
   "source": [
    "len(train)"
   ]
  },
  {
   "cell_type": "code",
   "execution_count": 23,
   "id": "bd89183f",
   "metadata": {},
   "outputs": [
    {
     "name": "stdout",
     "output_type": "stream",
     "text": [
      "<class 'pandas.core.frame.DataFrame'>\n",
      "Int64Index: 72276 entries, 0 to 72275\n",
      "Data columns (total 44 columns):\n",
      " #   Column                      Non-Null Count  Dtype  \n",
      "---  ------                      --------------  -----  \n",
      " 0   id                          72276 non-null  object \n",
      " 1   quality_sale                72276 non-null  int64  \n",
      " 2   thirty_day_churn            72276 non-null  float64\n",
      " 3   clndr_dt_cst                72276 non-null  object \n",
      " 4   start_dt                    72276 non-null  object \n",
      " 5   lines                       72276 non-null  int64  \n",
      " 6   previous_tech_support_call  72276 non-null  int64  \n",
      " 7   account_tenure              72276 non-null  int64  \n",
      " 8   past_yr_claim_count         72276 non-null  int64  \n",
      " 9   num_decline                 72276 non-null  int64  \n",
      " 10  exp                         72276 non-null  int64  \n",
      " 11  product_type                72276 non-null  object \n",
      " 12  pmake                       72276 non-null  object \n",
      " 13  claritas_hh_count           72276 non-null  int64  \n",
      " 14  technodoption_class         72276 non-null  object \n",
      " 15  hh_income                   72276 non-null  object \n",
      " 16  age_class                   72276 non-null  object \n",
      " 17  hh_education                72276 non-null  object \n",
      " 18  hh_composition              72276 non-null  object \n",
      " 19  hh_tenure                   72276 non-null  object \n",
      " 20  urbanicity                  72276 non-null  object \n",
      " 21  median_income               72276 non-null  int64  \n",
      " 22  total_population            72276 non-null  int64  \n",
      " 23  perc_female                 72276 non-null  int64  \n",
      " 24  perc_under18                72276 non-null  int64  \n",
      " 25  perc_over65                 72276 non-null  int64  \n",
      " 26  perc_white                  72276 non-null  int64  \n",
      " 27  perc_black                  72276 non-null  int64  \n",
      " 28  population_density          72276 non-null  int64  \n",
      " 29  zipcode                     71103 non-null  float64\n",
      " 30  county                      71099 non-null  object \n",
      " 31  state                       71095 non-null  object \n",
      " 32  state_code                  71095 non-null  object \n",
      " 33  latitude                    71099 non-null  float64\n",
      " 34  longitude                   71099 non-null  float64\n",
      " 35  month                       72276 non-null  object \n",
      " 36  hh_income_code              72276 non-null  int64  \n",
      " 37  day_of_week                 72276 non-null  object \n",
      " 38  time_of_day                 72276 non-null  int64  \n",
      " 39  zipcode_accepted_prop       71103 non-null  float64\n",
      " 40  zipcode_rejected_offers     71103 non-null  float64\n",
      " 41  zipcode_accepted_offers     71103 non-null  float64\n",
      " 42  zipcode_total_offers        71103 non-null  float64\n",
      " 43  sentiment                   72276 non-null  object \n",
      "dtypes: float64(8), int64(18), object(18)\n",
      "memory usage: 24.8+ MB\n"
     ]
    }
   ],
   "source": [
    "train.info()"
   ]
  },
  {
   "cell_type": "code",
   "execution_count": 24,
   "id": "d6d3f7c5",
   "metadata": {},
   "outputs": [
    {
     "data": {
      "text/html": [
       "<div>\n",
       "<style scoped>\n",
       "    .dataframe tbody tr th:only-of-type {\n",
       "        vertical-align: middle;\n",
       "    }\n",
       "\n",
       "    .dataframe tbody tr th {\n",
       "        vertical-align: top;\n",
       "    }\n",
       "\n",
       "    .dataframe thead th {\n",
       "        text-align: right;\n",
       "    }\n",
       "</style>\n",
       "<table border=\"1\" class=\"dataframe\">\n",
       "  <thead>\n",
       "    <tr style=\"text-align: right;\">\n",
       "      <th></th>\n",
       "      <th>id</th>\n",
       "      <th>quality_sale</th>\n",
       "      <th>thirty_day_churn</th>\n",
       "      <th>clndr_dt_cst</th>\n",
       "      <th>start_dt</th>\n",
       "      <th>lines</th>\n",
       "      <th>previous_tech_support_call</th>\n",
       "      <th>account_tenure</th>\n",
       "      <th>past_yr_claim_count</th>\n",
       "      <th>num_decline</th>\n",
       "      <th>exp</th>\n",
       "      <th>product_type</th>\n",
       "      <th>pmake</th>\n",
       "      <th>claritas_hh_count</th>\n",
       "      <th>technodoption_class</th>\n",
       "      <th>hh_income</th>\n",
       "      <th>age_class</th>\n",
       "      <th>hh_education</th>\n",
       "      <th>hh_composition</th>\n",
       "      <th>hh_tenure</th>\n",
       "      <th>urbanicity</th>\n",
       "      <th>median_income</th>\n",
       "      <th>total_population</th>\n",
       "      <th>perc_female</th>\n",
       "      <th>perc_under18</th>\n",
       "      <th>perc_over65</th>\n",
       "      <th>perc_white</th>\n",
       "      <th>perc_black</th>\n",
       "      <th>population_density</th>\n",
       "      <th>zipcode</th>\n",
       "      <th>county</th>\n",
       "      <th>state</th>\n",
       "      <th>state_code</th>\n",
       "      <th>latitude</th>\n",
       "      <th>longitude</th>\n",
       "      <th>month</th>\n",
       "      <th>hh_income_code</th>\n",
       "      <th>day_of_week</th>\n",
       "      <th>time_of_day</th>\n",
       "      <th>zipcode_accepted_prop</th>\n",
       "      <th>zipcode_rejected_offers</th>\n",
       "      <th>zipcode_accepted_offers</th>\n",
       "      <th>zipcode_total_offers</th>\n",
       "      <th>sentiment</th>\n",
       "    </tr>\n",
       "  </thead>\n",
       "  <tbody>\n",
       "    <tr>\n",
       "      <th>0</th>\n",
       "      <td>68943556bf63277816d843ffb129e23ffe60bc5b982603...</td>\n",
       "      <td>1</td>\n",
       "      <td>0.00</td>\n",
       "      <td>2022-03-01 00:00:00.000</td>\n",
       "      <td>2022-03-01 12:22:15.780</td>\n",
       "      <td>2</td>\n",
       "      <td>4</td>\n",
       "      <td>689</td>\n",
       "      <td>1</td>\n",
       "      <td>8</td>\n",
       "      <td>1</td>\n",
       "      <td>SD</td>\n",
       "      <td>android</td>\n",
       "      <td>1715961</td>\n",
       "      <td>High-Tech</td>\n",
       "      <td>4 Midscale</td>\n",
       "      <td>1 Younger</td>\n",
       "      <td>3 Some College</td>\n",
       "      <td>1 w/ Kids</td>\n",
       "      <td>5 Renters</td>\n",
       "      <td>7 Metro Mix</td>\n",
       "      <td>49842</td>\n",
       "      <td>34512</td>\n",
       "      <td>48</td>\n",
       "      <td>27</td>\n",
       "      <td>9</td>\n",
       "      <td>74</td>\n",
       "      <td>11</td>\n",
       "      <td>1894</td>\n",
       "      <td>77301.00</td>\n",
       "      <td>Conroe</td>\n",
       "      <td>Texas</td>\n",
       "      <td>TX</td>\n",
       "      <td>30.31</td>\n",
       "      <td>-95.45</td>\n",
       "      <td>march</td>\n",
       "      <td>4</td>\n",
       "      <td>Tuesday</td>\n",
       "      <td>12</td>\n",
       "      <td>0.19</td>\n",
       "      <td>57.00</td>\n",
       "      <td>13.00</td>\n",
       "      <td>70.00</td>\n",
       "      <td>positive</td>\n",
       "    </tr>\n",
       "    <tr>\n",
       "      <th>1</th>\n",
       "      <td>6c09cf1d3246c800ba864c7eaced4b1e7a38b09f90ebc3...</td>\n",
       "      <td>1</td>\n",
       "      <td>0.00</td>\n",
       "      <td>2022-03-17 00:00:00.000</td>\n",
       "      <td>2022-03-17 15:29:30.018</td>\n",
       "      <td>2</td>\n",
       "      <td>1</td>\n",
       "      <td>72</td>\n",
       "      <td>0</td>\n",
       "      <td>0</td>\n",
       "      <td>1</td>\n",
       "      <td>SD</td>\n",
       "      <td>android</td>\n",
       "      <td>3161699</td>\n",
       "      <td>Mid-Tech</td>\n",
       "      <td>4 Midscale</td>\n",
       "      <td>1 Younger</td>\n",
       "      <td>3 Some College</td>\n",
       "      <td>5 w/o Kids</td>\n",
       "      <td>4 Mostly Renters</td>\n",
       "      <td>7 Metro Mix</td>\n",
       "      <td>71662</td>\n",
       "      <td>41592</td>\n",
       "      <td>50</td>\n",
       "      <td>12</td>\n",
       "      <td>17</td>\n",
       "      <td>84</td>\n",
       "      <td>1</td>\n",
       "      <td>5533</td>\n",
       "      <td>85251.00</td>\n",
       "      <td>Scottsdale</td>\n",
       "      <td>Arizona</td>\n",
       "      <td>AZ</td>\n",
       "      <td>33.49</td>\n",
       "      <td>-111.92</td>\n",
       "      <td>march</td>\n",
       "      <td>4</td>\n",
       "      <td>Thursday</td>\n",
       "      <td>15</td>\n",
       "      <td>0.09</td>\n",
       "      <td>125.00</td>\n",
       "      <td>12.00</td>\n",
       "      <td>137.00</td>\n",
       "      <td>positive</td>\n",
       "    </tr>\n",
       "    <tr>\n",
       "      <th>2</th>\n",
       "      <td>5221cde1976fcd8a4d0d6fb059e04ed6d9b6450b68020d...</td>\n",
       "      <td>1</td>\n",
       "      <td>0.00</td>\n",
       "      <td>2022-03-07 00:00:00.000</td>\n",
       "      <td>2022-03-07 09:11:47.002</td>\n",
       "      <td>2</td>\n",
       "      <td>1</td>\n",
       "      <td>237</td>\n",
       "      <td>0</td>\n",
       "      <td>0</td>\n",
       "      <td>1</td>\n",
       "      <td>SD</td>\n",
       "      <td>android</td>\n",
       "      <td>2444705</td>\n",
       "      <td>Mid-Tech</td>\n",
       "      <td>2 Upscale</td>\n",
       "      <td>3 Older</td>\n",
       "      <td>1 Graduate Plus</td>\n",
       "      <td>5 w/o Kids</td>\n",
       "      <td>2 Mostly Owners</td>\n",
       "      <td>8 Mix</td>\n",
       "      <td>73514</td>\n",
       "      <td>41147</td>\n",
       "      <td>47</td>\n",
       "      <td>21</td>\n",
       "      <td>13</td>\n",
       "      <td>58</td>\n",
       "      <td>4</td>\n",
       "      <td>4466</td>\n",
       "      <td>7032.00</td>\n",
       "      <td>Kearny</td>\n",
       "      <td>New Jersey</td>\n",
       "      <td>NJ</td>\n",
       "      <td>40.76</td>\n",
       "      <td>-74.15</td>\n",
       "      <td>march</td>\n",
       "      <td>2</td>\n",
       "      <td>Monday</td>\n",
       "      <td>9</td>\n",
       "      <td>0.13</td>\n",
       "      <td>90.00</td>\n",
       "      <td>13.00</td>\n",
       "      <td>103.00</td>\n",
       "      <td>neutral</td>\n",
       "    </tr>\n",
       "    <tr>\n",
       "      <th>3</th>\n",
       "      <td>a68e921aeb079a7c79de714f566802dedde074721d40a4...</td>\n",
       "      <td>0</td>\n",
       "      <td>1.00</td>\n",
       "      <td>2022-03-04 00:00:00.000</td>\n",
       "      <td>2022-03-04 15:00:09.566</td>\n",
       "      <td>2</td>\n",
       "      <td>2</td>\n",
       "      <td>3062</td>\n",
       "      <td>2</td>\n",
       "      <td>0</td>\n",
       "      <td>1</td>\n",
       "      <td>SD</td>\n",
       "      <td>android</td>\n",
       "      <td>0</td>\n",
       "      <td>Unknown</td>\n",
       "      <td>Unknown</td>\n",
       "      <td>Unknown</td>\n",
       "      <td>Unknown</td>\n",
       "      <td>Unknown</td>\n",
       "      <td>Unknown</td>\n",
       "      <td>Unknown</td>\n",
       "      <td>35982</td>\n",
       "      <td>485</td>\n",
       "      <td>39</td>\n",
       "      <td>0</td>\n",
       "      <td>48</td>\n",
       "      <td>99</td>\n",
       "      <td>0</td>\n",
       "      <td>8</td>\n",
       "      <td>3812.00</td>\n",
       "      <td>Bartlett</td>\n",
       "      <td>New Hampshire</td>\n",
       "      <td>NH</td>\n",
       "      <td>44.08</td>\n",
       "      <td>-71.29</td>\n",
       "      <td>march</td>\n",
       "      <td>8</td>\n",
       "      <td>Friday</td>\n",
       "      <td>15</td>\n",
       "      <td>0.00</td>\n",
       "      <td>1.00</td>\n",
       "      <td>0.00</td>\n",
       "      <td>1.00</td>\n",
       "      <td>negative</td>\n",
       "    </tr>\n",
       "    <tr>\n",
       "      <th>4</th>\n",
       "      <td>b9b75e5295e70045ba4f1c4d0b5de77b6e03df31f200bc...</td>\n",
       "      <td>1</td>\n",
       "      <td>0.00</td>\n",
       "      <td>2022-03-04 00:00:00.000</td>\n",
       "      <td>2022-03-04 11:56:31.079</td>\n",
       "      <td>1</td>\n",
       "      <td>2</td>\n",
       "      <td>2585</td>\n",
       "      <td>0</td>\n",
       "      <td>1</td>\n",
       "      <td>1</td>\n",
       "      <td>SD</td>\n",
       "      <td>android</td>\n",
       "      <td>2843065</td>\n",
       "      <td>Low-Tech</td>\n",
       "      <td>3 Upper Midscale</td>\n",
       "      <td>4 Mature</td>\n",
       "      <td>1 Graduate Plus</td>\n",
       "      <td>5 w/o Kids</td>\n",
       "      <td>2 Mostly Owners</td>\n",
       "      <td>8 Mix</td>\n",
       "      <td>89029</td>\n",
       "      <td>34659</td>\n",
       "      <td>52</td>\n",
       "      <td>17</td>\n",
       "      <td>21</td>\n",
       "      <td>81</td>\n",
       "      <td>1</td>\n",
       "      <td>4462</td>\n",
       "      <td>92672.00</td>\n",
       "      <td>San Clemente</td>\n",
       "      <td>California</td>\n",
       "      <td>CA</td>\n",
       "      <td>33.44</td>\n",
       "      <td>-117.62</td>\n",
       "      <td>march</td>\n",
       "      <td>3</td>\n",
       "      <td>Friday</td>\n",
       "      <td>11</td>\n",
       "      <td>0.08</td>\n",
       "      <td>129.00</td>\n",
       "      <td>11.00</td>\n",
       "      <td>140.00</td>\n",
       "      <td>negative</td>\n",
       "    </tr>\n",
       "  </tbody>\n",
       "</table>\n",
       "</div>"
      ],
      "text/plain": [
       "                                                  id  quality_sale  \\\n",
       "0  68943556bf63277816d843ffb129e23ffe60bc5b982603...             1   \n",
       "1  6c09cf1d3246c800ba864c7eaced4b1e7a38b09f90ebc3...             1   \n",
       "2  5221cde1976fcd8a4d0d6fb059e04ed6d9b6450b68020d...             1   \n",
       "3  a68e921aeb079a7c79de714f566802dedde074721d40a4...             0   \n",
       "4  b9b75e5295e70045ba4f1c4d0b5de77b6e03df31f200bc...             1   \n",
       "\n",
       "   thirty_day_churn             clndr_dt_cst                 start_dt  lines  \\\n",
       "0              0.00  2022-03-01 00:00:00.000  2022-03-01 12:22:15.780      2   \n",
       "1              0.00  2022-03-17 00:00:00.000  2022-03-17 15:29:30.018      2   \n",
       "2              0.00  2022-03-07 00:00:00.000  2022-03-07 09:11:47.002      2   \n",
       "3              1.00  2022-03-04 00:00:00.000  2022-03-04 15:00:09.566      2   \n",
       "4              0.00  2022-03-04 00:00:00.000  2022-03-04 11:56:31.079      1   \n",
       "\n",
       "   previous_tech_support_call  account_tenure  past_yr_claim_count  \\\n",
       "0                           4             689                    1   \n",
       "1                           1              72                    0   \n",
       "2                           1             237                    0   \n",
       "3                           2            3062                    2   \n",
       "4                           2            2585                    0   \n",
       "\n",
       "   num_decline  exp product_type    pmake  claritas_hh_count  \\\n",
       "0            8    1           SD  android            1715961   \n",
       "1            0    1           SD  android            3161699   \n",
       "2            0    1           SD  android            2444705   \n",
       "3            0    1           SD  android                  0   \n",
       "4            1    1           SD  android            2843065   \n",
       "\n",
       "  technodoption_class         hh_income  age_class     hh_education  \\\n",
       "0           High-Tech        4 Midscale  1 Younger   3 Some College   \n",
       "1            Mid-Tech        4 Midscale  1 Younger   3 Some College   \n",
       "2            Mid-Tech         2 Upscale    3 Older  1 Graduate Plus   \n",
       "3             Unknown           Unknown    Unknown          Unknown   \n",
       "4            Low-Tech  3 Upper Midscale   4 Mature  1 Graduate Plus   \n",
       "\n",
       "  hh_composition         hh_tenure   urbanicity  median_income  \\\n",
       "0      1 w/ Kids         5 Renters  7 Metro Mix          49842   \n",
       "1     5 w/o Kids  4 Mostly Renters  7 Metro Mix          71662   \n",
       "2     5 w/o Kids   2 Mostly Owners        8 Mix          73514   \n",
       "3        Unknown           Unknown      Unknown          35982   \n",
       "4     5 w/o Kids   2 Mostly Owners        8 Mix          89029   \n",
       "\n",
       "   total_population  perc_female  perc_under18  perc_over65  perc_white  \\\n",
       "0             34512           48            27            9          74   \n",
       "1             41592           50            12           17          84   \n",
       "2             41147           47            21           13          58   \n",
       "3               485           39             0           48          99   \n",
       "4             34659           52            17           21          81   \n",
       "\n",
       "   perc_black  population_density  zipcode        county          state  \\\n",
       "0          11                1894 77301.00        Conroe          Texas   \n",
       "1           1                5533 85251.00    Scottsdale        Arizona   \n",
       "2           4                4466  7032.00        Kearny     New Jersey   \n",
       "3           0                   8  3812.00      Bartlett  New Hampshire   \n",
       "4           1                4462 92672.00  San Clemente     California   \n",
       "\n",
       "  state_code  latitude  longitude  month  hh_income_code day_of_week  \\\n",
       "0         TX     30.31     -95.45  march               4     Tuesday   \n",
       "1         AZ     33.49    -111.92  march               4    Thursday   \n",
       "2         NJ     40.76     -74.15  march               2      Monday   \n",
       "3         NH     44.08     -71.29  march               8      Friday   \n",
       "4         CA     33.44    -117.62  march               3      Friday   \n",
       "\n",
       "   time_of_day  zipcode_accepted_prop  zipcode_rejected_offers  \\\n",
       "0           12                   0.19                    57.00   \n",
       "1           15                   0.09                   125.00   \n",
       "2            9                   0.13                    90.00   \n",
       "3           15                   0.00                     1.00   \n",
       "4           11                   0.08                   129.00   \n",
       "\n",
       "   zipcode_accepted_offers  zipcode_total_offers sentiment  \n",
       "0                    13.00                 70.00  positive  \n",
       "1                    12.00                137.00  positive  \n",
       "2                    13.00                103.00   neutral  \n",
       "3                     0.00                  1.00  negative  \n",
       "4                    11.00                140.00  negative  "
      ]
     },
     "execution_count": 24,
     "metadata": {},
     "output_type": "execute_result"
    }
   ],
   "source": [
    "train.head()"
   ]
  },
  {
   "cell_type": "code",
   "execution_count": 25,
   "id": "20c21d14",
   "metadata": {},
   "outputs": [
    {
     "data": {
      "text/plain": [
       "72276"
      ]
     },
     "execution_count": 25,
     "metadata": {},
     "output_type": "execute_result"
    }
   ],
   "source": [
    "len(train)"
   ]
  },
  {
   "cell_type": "code",
   "execution_count": 26,
   "id": "f1c2ebde",
   "metadata": {},
   "outputs": [],
   "source": [
    "train.drop(columns = dcols, inplace = True)\n",
    "train = train[(train['zipcode_accepted_prop'].isnull()==False)& (train['zipcode_rejected_offers'].isnull()==False)& \n",
    "            (train['zipcode_accepted_offers'].isnull()==False)&(train['zipcode_total_offers'].isnull()==False)]"
   ]
  },
  {
   "cell_type": "code",
   "execution_count": 27,
   "id": "e2b2274c",
   "metadata": {},
   "outputs": [
    {
     "data": {
      "text/plain": [
       "71103"
      ]
     },
     "execution_count": 27,
     "metadata": {},
     "output_type": "execute_result"
    }
   ],
   "source": [
    "len(train)"
   ]
  },
  {
   "cell_type": "code",
   "execution_count": 28,
   "id": "8c8a6dc0",
   "metadata": {},
   "outputs": [
    {
     "data": {
      "text/plain": [
       "Index(['id', 'thirty_day_churn', 'lines', 'previous_tech_support_call',\n",
       "       'account_tenure', 'past_yr_claim_count', 'num_decline', 'exp',\n",
       "       'product_type', 'pmake', 'claritas_hh_count', 'technodoption_class',\n",
       "       'hh_income', 'age_class', 'hh_education', 'hh_composition', 'hh_tenure',\n",
       "       'urbanicity', 'median_income', 'total_population', 'perc_female',\n",
       "       'perc_under18', 'perc_over65', 'perc_white', 'perc_black',\n",
       "       'population_density', 'day_of_week', 'time_of_day',\n",
       "       'zipcode_accepted_prop', 'zipcode_rejected_offers',\n",
       "       'zipcode_accepted_offers', 'zipcode_total_offers', 'sentiment'],\n",
       "      dtype='object')"
      ]
     },
     "execution_count": 28,
     "metadata": {},
     "output_type": "execute_result"
    }
   ],
   "source": [
    "train.columns"
   ]
  },
  {
   "cell_type": "code",
   "execution_count": 29,
   "id": "39979a3b",
   "metadata": {},
   "outputs": [
    {
     "data": {
      "text/plain": [
       "Index(['id', 'thirty_day_churn', 'lines', 'previous_tech_support_call',\n",
       "       'account_tenure', 'past_yr_claim_count', 'num_decline', 'exp',\n",
       "       'product_type', 'pmake', 'claritas_hh_count', 'technodoption_class',\n",
       "       'hh_income', 'age_class', 'hh_education', 'hh_composition', 'hh_tenure',\n",
       "       'urbanicity', 'median_income', 'total_population', 'perc_female',\n",
       "       'perc_under18', 'perc_over65', 'perc_white', 'perc_black',\n",
       "       'population_density', 'day_of_week', 'time_of_day',\n",
       "       'zipcode_accepted_prop', 'zipcode_rejected_offers',\n",
       "       'zipcode_accepted_offers', 'zipcode_total_offers', 'sentiment'],\n",
       "      dtype='object')"
      ]
     },
     "execution_count": 29,
     "metadata": {},
     "output_type": "execute_result"
    }
   ],
   "source": [
    "test.columns"
   ]
  },
  {
   "cell_type": "code",
   "execution_count": 30,
   "id": "c63bfe72",
   "metadata": {},
   "outputs": [],
   "source": [
    "def transform_xy(dat):\n",
    "    X_ori = dat[[\n",
    "#         'emplid','cvp_call_id',\n",
    "                 'lines', 'previous_tech_support_call','account_tenure', 'past_yr_claim_count', \n",
    "                'num_decline', 'exp', \n",
    "#                  'churn',\n",
    "                 'product_type', 'pmake', \n",
    "                 'claritas_hh_count',\n",
    "                 'technodoption_class', 'hh_income', 'age_class', 'hh_education',\n",
    "                 'hh_composition', 'hh_tenure', 'urbanicity','median_income', 'total_population', \n",
    "                 'perc_female', 'perc_under18',\n",
    "                'perc_over65', 'perc_white', 'perc_black', 'population_density', 'day_of_week', 'time_of_day',\n",
    "       'zipcode_accepted_prop', 'zipcode_rejected_offers',\n",
    "       'zipcode_accepted_offers', 'zipcode_total_offers', 'sentiment']]\n",
    "    y = dat[['thirty_day_churn']]\n",
    "   \n",
    "    X_ori.loc[X_ori.lines.isnull(), 'lines'] = 0\n",
    "    X_ori.exp = X_ori.exp.apply(int)\n",
    "    X_ori.num_decline = X_ori.num_decline.apply(float)\n",
    "    X_ori.loc[X_ori.account_tenure.isnull(), 'account_tenure'] = 0\n",
    "    X_ori.loc[X_ori.claritas_hh_count.isnull(), 'claritas_hh_count'] = 0\n",
    "    X_ori.loc[X_ori.exp.isnull(), 'exp'] = 'Unknown'\n",
    "    X_ori.loc[X_ori.product_type.isnull(), 'product_type'] = 'Unknown'\n",
    "    X_ori.loc[X_ori.pmake.isnull(), 'pmake'] = 'Unknown'\n",
    "    X_ori.loc[X_ori.technodoption_class.isnull(), 'technodoption_class'] = 'Unknown'\n",
    "    X_ori.loc[X_ori.hh_income.isnull(), 'hh_income'] = 'Unknown'\n",
    "    X_ori.loc[X_ori.age_class.isnull(), 'age_class'] = 'Unknown'\n",
    "    X_ori.loc[X_ori.hh_education.isnull(), 'hh_education'] = 'Unknown'\n",
    "    X_ori.loc[X_ori.hh_composition.isnull(), 'hh_composition'] = 'Unknown'\n",
    "    X_ori.loc[X_ori.hh_tenure.isnull(), 'hh_tenure'] = 'Unknown'\n",
    "    X_ori.loc[X_ori.urbanicity.isnull(), 'urbanicity'] = 'Unknown'\n",
    "    X_ori.loc[X_ori.day_of_week.isnull(), 'day_of_week'] = 'Unknown'\n",
    "    X_ori.loc[X_ori.time_of_day.isnull(), 'time_of_day'] = 'Unknown'\n",
    "    X_ori.loc[X_ori.zipcode_accepted_prop.isnull(), 'zipcode_accepted_prop'] = 0\n",
    "    X_ori.loc[X_ori.zipcode_rejected_offers.isnull(), 'zipcode_rejected_offers'] = 0\n",
    "    X_ori.loc[X_ori.zipcode_accepted_offers.isnull(), 'zipcode_accepted_offers'] = 0\n",
    "    X_ori.loc[X_ori.zipcode_total_offers.isnull(), 'zipcode_total_offers'] = 0\n",
    "    X_ori.loc[X_ori.sentiment.isnull(), 'sentiment'] = \"Unknown\"\n",
    "\n",
    "    return X_ori,y"
   ]
  },
  {
   "cell_type": "code",
   "execution_count": 31,
   "id": "c9e8f33c",
   "metadata": {},
   "outputs": [],
   "source": [
    "X,y = transform_xy(train)\n",
    "x_hold_out, y_hold_out = transform_xy(test)"
   ]
  },
  {
   "cell_type": "code",
   "execution_count": 32,
   "id": "41e64ef5",
   "metadata": {},
   "outputs": [],
   "source": [
    "X['lines'] = X['lines'].astype(np.int) \n",
    "X['previous_tech_support_call'] = X['previous_tech_support_call'].astype('category')\n",
    "X['num_decline'] = X['num_decline'].astype(np.int) \n",
    "X['past_yr_claim_count'] = X['past_yr_claim_count'].astype(np.int) \n",
    "X['exp'] = X['exp'].astype('category') \n",
    "X['account_tenure'] = X['account_tenure'].astype(np.int) \n",
    "X['pmake'] = X['pmake'].astype('category')\n",
    "X['technodoption_class'] = X['technodoption_class'].astype('category')\n",
    "X['claritas_hh_count'] = X['claritas_hh_count'].astype('category')\n",
    "X['hh_income'] = X['hh_income'].astype('category')\n",
    "X['age_class'] = X['age_class'].astype('category')\n",
    "X['hh_education'] = X['hh_education'].astype('category')\n",
    "X['hh_composition'] = X['hh_composition'].astype('category')\n",
    "X['hh_tenure'] = X['hh_tenure'].astype('category')\n",
    "X['urbanicity'] = X['urbanicity'].astype('category')\n",
    "X['product_type'] = X['product_type'].astype('category')\n",
    "X['day_of_week'] = X['day_of_week'].astype('category')\n",
    "X['time_of_day'] = X['time_of_day'].astype('category')\n",
    "X['zipcode_accepted_prop'] = (X['zipcode_accepted_prop']*100).astype(np.int)\n",
    "X['zipcode_rejected_offers'] = X['zipcode_rejected_offers'].astype(np.int)\n",
    "X['zipcode_accepted_offers'] = X['zipcode_accepted_offers'].astype(np.int)\n",
    "X['zipcode_total_offers'] = X['zipcode_total_offers'].astype(np.int)\n",
    "X['sentiment'] = X['sentiment'].astype('category')\n",
    "\n",
    "\n",
    "X['median_income'] = X['median_income'].astype(np.int)\n",
    "X['total_population'] = X['total_population'].astype(np.int)\n",
    "X['perc_female'] = X['perc_female'].astype(np.int)\n",
    "X['perc_under18'] = X['perc_under18'].astype(np.int)\n",
    "X['perc_over65'] = X['perc_over65'].astype(np.int)\n",
    "X['perc_white'] = X['perc_white'].astype(np.int)\n",
    "X['perc_black'] = X['perc_black'].astype(np.int)\n",
    "X['population_density'] = X['population_density'].astype(np.int)"
   ]
  },
  {
   "cell_type": "code",
   "execution_count": 33,
   "id": "4e058d65",
   "metadata": {},
   "outputs": [],
   "source": [
    "x_hold_out['lines'] = x_hold_out['lines'].astype(np.int) \n",
    "x_hold_out['previous_tech_support_call'] = x_hold_out['previous_tech_support_call'].astype('category')\n",
    "x_hold_out['num_decline'] = x_hold_out['num_decline'].astype(np.int) \n",
    "x_hold_out['past_yr_claim_count'] = x_hold_out['past_yr_claim_count'].astype(np.int) \n",
    "x_hold_out['exp'] = x_hold_out['exp'].astype('category') \n",
    "x_hold_out['account_tenure'] = x_hold_out['account_tenure'].astype(np.int) \n",
    "x_hold_out['pmake'] = x_hold_out['pmake'].astype('category')\n",
    "x_hold_out['technodoption_class'] = x_hold_out['technodoption_class'].astype('category')\n",
    "x_hold_out['claritas_hh_count'] = x_hold_out['claritas_hh_count'].astype('category')\n",
    "x_hold_out['hh_income'] = x_hold_out['hh_income'].astype('category')\n",
    "x_hold_out['age_class'] = x_hold_out['age_class'].astype('category')\n",
    "x_hold_out['hh_education'] = x_hold_out['hh_education'].astype('category')\n",
    "x_hold_out['hh_composition'] = x_hold_out['hh_composition'].astype('category')\n",
    "x_hold_out['hh_tenure'] = x_hold_out['hh_tenure'].astype('category')\n",
    "x_hold_out['urbanicity'] = x_hold_out['urbanicity'].astype('category')\n",
    "x_hold_out['product_type'] = x_hold_out['product_type'].astype('category')\n",
    "x_hold_out['day_of_week'] = x_hold_out['day_of_week'].astype('category')\n",
    "x_hold_out['time_of_day'] = x_hold_out['time_of_day'].astype('category')\n",
    "x_hold_out['zipcode_accepted_prop'] = (x_hold_out['zipcode_accepted_prop']*100).astype(np.int)\n",
    "x_hold_out['zipcode_rejected_offers'] = x_hold_out['zipcode_rejected_offers'].astype(np.int)\n",
    "x_hold_out['zipcode_accepted_offers'] = x_hold_out['zipcode_accepted_offers'].astype(np.int)\n",
    "x_hold_out['zipcode_total_offers'] = x_hold_out['zipcode_total_offers'].astype(np.int)\n",
    "x_hold_out['sentiment'] = x_hold_out['sentiment'].astype('category')\n",
    "\n",
    "\n",
    "x_hold_out['median_income'] = x_hold_out['median_income'].astype(np.int)\n",
    "x_hold_out['total_population'] = x_hold_out['total_population'].astype(np.int)\n",
    "x_hold_out['perc_female'] = x_hold_out['perc_female'].astype(np.int)\n",
    "x_hold_out['perc_under18'] = x_hold_out['perc_under18'].astype(np.int)\n",
    "x_hold_out['perc_over65'] = x_hold_out['perc_over65'].astype(np.int)\n",
    "x_hold_out['perc_white'] = x_hold_out['perc_white'].astype(np.int)\n",
    "x_hold_out['perc_black'] = x_hold_out['perc_black'].astype(np.int)\n",
    "x_hold_out['population_density'] = x_hold_out['population_density'].astype(np.int)"
   ]
  },
  {
   "cell_type": "code",
   "execution_count": 34,
   "id": "b51af05c",
   "metadata": {},
   "outputs": [
    {
     "data": {
      "text/plain": [
       "12942"
      ]
     },
     "execution_count": 34,
     "metadata": {},
     "output_type": "execute_result"
    }
   ],
   "source": [
    "len(x_hold_out)"
   ]
  },
  {
   "cell_type": "code",
   "execution_count": 35,
   "id": "6687fb1f",
   "metadata": {},
   "outputs": [
    {
     "data": {
      "text/plain": [
       "71103"
      ]
     },
     "execution_count": 35,
     "metadata": {},
     "output_type": "execute_result"
    }
   ],
   "source": [
    "len(X)"
   ]
  },
  {
   "cell_type": "code",
   "execution_count": 36,
   "id": "db1d563f",
   "metadata": {},
   "outputs": [
    {
     "data": {
      "text/plain": [
       "71103"
      ]
     },
     "execution_count": 36,
     "metadata": {},
     "output_type": "execute_result"
    }
   ],
   "source": [
    "len(y)"
   ]
  },
  {
   "cell_type": "code",
   "execution_count": 37,
   "id": "4afc5145",
   "metadata": {},
   "outputs": [
    {
     "data": {
      "text/plain": [
       "pandas.core.frame.DataFrame"
      ]
     },
     "execution_count": 37,
     "metadata": {},
     "output_type": "execute_result"
    }
   ],
   "source": [
    "type(train)"
   ]
  },
  {
   "cell_type": "code",
   "execution_count": 38,
   "id": "9298fbf5",
   "metadata": {},
   "outputs": [
    {
     "data": {
      "text/plain": [
       "pandas.core.frame.DataFrame"
      ]
     },
     "execution_count": 38,
     "metadata": {},
     "output_type": "execute_result"
    }
   ],
   "source": [
    "type(test)"
   ]
  },
  {
   "cell_type": "code",
   "execution_count": 39,
   "id": "f8034d13",
   "metadata": {},
   "outputs": [
    {
     "data": {
      "text/plain": [
       "12942"
      ]
     },
     "execution_count": 39,
     "metadata": {},
     "output_type": "execute_result"
    }
   ],
   "source": [
    "len(test)"
   ]
  },
  {
   "cell_type": "code",
   "execution_count": 40,
   "id": "503476c9",
   "metadata": {},
   "outputs": [
    {
     "data": {
      "text/plain": [
       "12942"
      ]
     },
     "execution_count": 40,
     "metadata": {},
     "output_type": "execute_result"
    }
   ],
   "source": [
    "len(x_hold_out)"
   ]
  },
  {
   "cell_type": "code",
   "execution_count": 41,
   "id": "aeda49f2",
   "metadata": {},
   "outputs": [
    {
     "data": {
      "text/plain": [
       "12942"
      ]
     },
     "execution_count": 41,
     "metadata": {},
     "output_type": "execute_result"
    }
   ],
   "source": [
    "len(y_hold_out)"
   ]
  },
  {
   "cell_type": "code",
   "execution_count": 42,
   "id": "3dc21696",
   "metadata": {},
   "outputs": [],
   "source": [
    "Xf_train, Xf_test, y_train, y_test = train_test_split(X,y, test_size = 0.3, stratify=y['thirty_day_churn'])"
   ]
  },
  {
   "cell_type": "code",
   "execution_count": 43,
   "id": "2f60c4e7",
   "metadata": {},
   "outputs": [
    {
     "data": {
      "text/plain": [
       "Index(['lines', 'previous_tech_support_call', 'account_tenure',\n",
       "       'past_yr_claim_count', 'num_decline', 'exp', 'product_type', 'pmake',\n",
       "       'claritas_hh_count', 'technodoption_class', 'hh_income', 'age_class',\n",
       "       'hh_education', 'hh_composition', 'hh_tenure', 'urbanicity',\n",
       "       'median_income', 'total_population', 'perc_female', 'perc_under18',\n",
       "       'perc_over65', 'perc_white', 'perc_black', 'population_density',\n",
       "       'day_of_week', 'time_of_day', 'zipcode_accepted_prop',\n",
       "       'zipcode_rejected_offers', 'zipcode_accepted_offers',\n",
       "       'zipcode_total_offers', 'sentiment'],\n",
       "      dtype='object')"
      ]
     },
     "execution_count": 43,
     "metadata": {},
     "output_type": "execute_result"
    }
   ],
   "source": [
    "Xf_train.columns"
   ]
  },
  {
   "cell_type": "code",
   "execution_count": 44,
   "id": "4886f307",
   "metadata": {},
   "outputs": [
    {
     "data": {
      "text/plain": [
       "Index(['lines', 'previous_tech_support_call', 'account_tenure',\n",
       "       'past_yr_claim_count', 'num_decline', 'exp', 'product_type', 'pmake',\n",
       "       'claritas_hh_count', 'technodoption_class', 'hh_income', 'age_class',\n",
       "       'hh_education', 'hh_composition', 'hh_tenure', 'urbanicity',\n",
       "       'median_income', 'total_population', 'perc_female', 'perc_under18',\n",
       "       'perc_over65', 'perc_white', 'perc_black', 'population_density',\n",
       "       'day_of_week', 'time_of_day', 'zipcode_accepted_prop',\n",
       "       'zipcode_rejected_offers', 'zipcode_accepted_offers',\n",
       "       'zipcode_total_offers', 'sentiment'],\n",
       "      dtype='object')"
      ]
     },
     "execution_count": 44,
     "metadata": {},
     "output_type": "execute_result"
    }
   ],
   "source": [
    "Xf_test.columns"
   ]
  },
  {
   "cell_type": "code",
   "execution_count": 45,
   "id": "cabaa1e2",
   "metadata": {},
   "outputs": [
    {
     "data": {
      "text/plain": [
       "5.329094608341811"
      ]
     },
     "execution_count": 45,
     "metadata": {},
     "output_type": "execute_result"
    }
   ],
   "source": [
    "spw = (y_train['thirty_day_churn'] == 0.00).sum()/(y_train['thirty_day_churn'] == 1.00).sum()\n",
    "spw"
   ]
  },
  {
   "cell_type": "code",
   "execution_count": 46,
   "id": "d5b972fc",
   "metadata": {},
   "outputs": [],
   "source": [
    "train_census_dataset = cb.Pool(Xf_train,y_train, \n",
    "                        cat_features=np.where(Xf_train.dtypes != np.int)[0])                                                      \n",
    "test_census_dataset = cb.Pool(Xf_test, y_test,           \n",
    "                       cat_features=np.where(Xf_test.dtypes != np.int)[0])"
   ]
  },
  {
   "cell_type": "code",
   "execution_count": 47,
   "id": "71b1286b",
   "metadata": {},
   "outputs": [],
   "source": [
    "holdout_census_dataset = cb.Pool(x_hold_out, y_hold_out,           \n",
    "                       cat_features=np.where(x_hold_out.dtypes != np.int)[0])"
   ]
  },
  {
   "cell_type": "code",
   "execution_count": 48,
   "id": "cc9c0048",
   "metadata": {},
   "outputs": [],
   "source": [
    "from catboost import CatBoostClassifier"
   ]
  },
  {
   "cell_type": "code",
   "execution_count": null,
   "id": "5abea923",
   "metadata": {},
   "outputs": [
    {
     "data": {
      "application/vnd.jupyter.widget-view+json": {
       "model_id": "d7fce264c76245d2a5385848ff307272",
       "version_major": 2,
       "version_minor": 0
      },
      "text/plain": [
       "MetricVisualizer(layout=Layout(align_self='stretch', height='500px'))"
      ]
     },
     "metadata": {},
     "output_type": "display_data"
    }
   ],
   "source": [
    "#initiate model\n",
    "cat_model_census = CatBoostClassifier(\n",
    "    cat_features = np.where(Xf_train.dtypes != np.int)[0],\n",
    "    scale_pos_weight=spw,\n",
    "    max_depth = 5,\n",
    "    learning_rate = 0.05\n",
    ")\n",
    "#train\n",
    "cat_model_census.fit(train_census_dataset, \n",
    "       eval_set=test_census_dataset,\n",
    "      plot=True, silent= True)"
   ]
  },
  {
   "cell_type": "code",
   "execution_count": null,
   "id": "3a7c3081",
   "metadata": {},
   "outputs": [],
   "source": [
    "pred_census = cat_model_census.predict_proba(holdout_census_dataset)\n",
    "threshold=0.5\n",
    "predicted_cat_census = (pred_census[:,1] >= threshold).astype('int')\n",
    "tn, fp, fn, tp = confusion_matrix(y_hold_out, predicted_cat_census).ravel()\n",
    "print(\"catboost_holdoutset\",'\\n',\n",
    "    \"recall:\",recall_score(y_hold_out, predicted_cat_census),'\\n',\n",
    "     'precision',precision_score(y_hold_out, predicted_cat_census),'\\n',\n",
    "     confusion_matrix(y_hold_out, predicted_cat_census),'\\n',\n",
    "     'f1 score:',f1_score(y_hold_out, predicted_cat_census),'\\n',\n",
    "     'tn:{}, fp:{}, fn:{}, tp:{}'.format(tn, fp, fn, tp),'\\n')"
   ]
  },
  {
   "cell_type": "code",
   "execution_count": null,
   "id": "27d103c4",
   "metadata": {},
   "outputs": [],
   "source": [
    "pred_census = cat_model_census.predict_proba(test_census_dataset)\n",
    "threshold=0.5\n",
    "predicted_cat_census = (pred_census[:,1] >= threshold).astype('int')\n",
    "tn, fp, fn, tp = confusion_matrix(y_test, predicted_cat_census).ravel()\n",
    "print(\"catboost_testset\",'\\n',\n",
    "    \"recall:\",recall_score(y_test, predicted_cat_census),'\\n',\n",
    "     'precision',precision_score(y_test, predicted_cat_census),'\\n',\n",
    "     confusion_matrix(y_test, predicted_cat_census),'\\n',\n",
    "     'f1 score:',f1_score(y_test, predicted_cat_census),'\\n',\n",
    "     'tn:{}, fp:{}, fn:{}, tp:{}'.format(tn, fp, fn, tp),'\\n')"
   ]
  },
  {
   "cell_type": "code",
   "execution_count": null,
   "id": "8205e9c0",
   "metadata": {},
   "outputs": [],
   "source": [
    "vip = cat_model_census.feature_importances_\n",
    "\n",
    "#create df with vip info\n",
    "feature_importances_info = pd.DataFrame({'feat_names':Xf_train.columns, 'vip': vip})\n",
    "\n",
    "#get sign and magnitude information\n",
    "feature_importances_info = feature_importances_info.assign(feature_importances_mag = abs(feature_importances_info['vip']),\n",
    "                             feature_importances_sign = np.sign(feature_importances_info['vip']))\n",
    "feature_importances_info = feature_importances_info.set_index('feat_names').sort_values(by='feature_importances_mag', ascending=False)\n",
    "feature_importances_info.head(15)"
   ]
  },
  {
   "cell_type": "code",
   "execution_count": null,
   "id": "a95e063d",
   "metadata": {},
   "outputs": [],
   "source": [
    "!pip install seaborn"
   ]
  },
  {
   "cell_type": "code",
   "execution_count": null,
   "id": "11434a5d",
   "metadata": {},
   "outputs": [],
   "source": [
    "import seaborn as sns\n",
    "sns.barplot(y=feature_importances_info.index[:10], x='feature_importances_mag', hue='feature_importances_sign', \n",
    "            data=feature_importances_info[:10], orient='h', dodge=False);"
   ]
  },
  {
   "cell_type": "code",
   "execution_count": null,
   "id": "be179b33",
   "metadata": {},
   "outputs": [],
   "source": [
    "plt.figure(figsize = (16,8))\n",
    "cor = train.corr()\n",
    "sns.heatmap(cor, annot = True, cmap = \"viridis\")\n",
    "plt.show()"
   ]
  },
  {
   "cell_type": "code",
   "execution_count": null,
   "id": "a57b454b",
   "metadata": {},
   "outputs": [],
   "source": []
  },
  {
   "cell_type": "code",
   "execution_count": null,
   "id": "a9f8eaa9",
   "metadata": {},
   "outputs": [],
   "source": []
  }
 ],
 "metadata": {
  "kernelspec": {
   "display_name": "Python 3 (ipykernel)",
   "language": "python",
   "name": "python3"
  },
  "language_info": {
   "codemirror_mode": {
    "name": "ipython",
    "version": 3
   },
   "file_extension": ".py",
   "mimetype": "text/x-python",
   "name": "python",
   "nbconvert_exporter": "python",
   "pygments_lexer": "ipython3",
   "version": "3.8.13"
  }
 },
 "nbformat": 4,
 "nbformat_minor": 5
}
