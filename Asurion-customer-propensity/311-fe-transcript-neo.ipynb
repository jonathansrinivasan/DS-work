{
 "cells": [
  {
   "cell_type": "markdown",
   "id": "f4c819f8",
   "metadata": {},
   "source": [
    "# Transcript data feature engineering"
   ]
  },
  {
   "cell_type": "markdown",
   "id": "dbe1a2ea",
   "metadata": {},
   "source": [
    "### Loading Packages"
   ]
  },
  {
   "cell_type": "code",
   "execution_count": 1,
   "id": "1e75abf4",
   "metadata": {},
   "outputs": [
    {
     "name": "stdout",
     "output_type": "stream",
     "text": [
      "Looking in indexes: https://pypi.org/simple, https://pypi.ngc.nvidia.com\n",
      "Requirement already satisfied: transformers in /opt/conda/lib/python3.8/site-packages (4.23.1)\n",
      "Requirement already satisfied: requests in /opt/conda/lib/python3.8/site-packages (from transformers) (2.27.1)\n",
      "Requirement already satisfied: filelock in /opt/conda/lib/python3.8/site-packages (from transformers) (3.7.1)\n",
      "Requirement already satisfied: tqdm>=4.27 in /opt/conda/lib/python3.8/site-packages (from transformers) (4.64.0)\n",
      "Requirement already satisfied: regex!=2019.12.17 in /opt/conda/lib/python3.8/site-packages (from transformers) (2022.6.2)\n",
      "Requirement already satisfied: packaging>=20.0 in /opt/conda/lib/python3.8/site-packages (from transformers) (21.3)\n",
      "Requirement already satisfied: pyyaml>=5.1 in /opt/conda/lib/python3.8/site-packages (from transformers) (6.0)\n",
      "Requirement already satisfied: tokenizers!=0.11.3,<0.14,>=0.11.1 in /opt/conda/lib/python3.8/site-packages (from transformers) (0.13.1)\n",
      "Requirement already satisfied: numpy>=1.17 in /opt/conda/lib/python3.8/site-packages (from transformers) (1.22.4)\n",
      "Requirement already satisfied: huggingface-hub<1.0,>=0.10.0 in /opt/conda/lib/python3.8/site-packages (from transformers) (0.10.1)\n",
      "Requirement already satisfied: typing-extensions>=3.7.4.3 in /opt/conda/lib/python3.8/site-packages (from huggingface-hub<1.0,>=0.10.0->transformers) (4.2.0)\n",
      "Requirement already satisfied: pyparsing!=3.0.5,>=2.0.2 in /opt/conda/lib/python3.8/site-packages (from packaging>=20.0->transformers) (3.0.9)\n",
      "Requirement already satisfied: certifi>=2017.4.17 in /opt/conda/lib/python3.8/site-packages (from requests->transformers) (2022.5.18.1)\n",
      "Requirement already satisfied: urllib3<1.27,>=1.21.1 in /opt/conda/lib/python3.8/site-packages (from requests->transformers) (1.26.9)\n",
      "Requirement already satisfied: charset-normalizer~=2.0.0 in /opt/conda/lib/python3.8/site-packages (from requests->transformers) (2.0.12)\n",
      "Requirement already satisfied: idna<4,>=2.5 in /opt/conda/lib/python3.8/site-packages (from requests->transformers) (3.3)\n",
      "\u001b[33mWARNING: Running pip as the 'root' user can result in broken permissions and conflicting behaviour with the system package manager. It is recommended to use a virtual environment instead: https://pip.pypa.io/warnings/venv\u001b[0m\n"
     ]
    }
   ],
   "source": [
    "!pip install transformers"
   ]
  },
  {
   "cell_type": "code",
   "execution_count": 2,
   "id": "dad1c829",
   "metadata": {},
   "outputs": [
    {
     "name": "stdout",
     "output_type": "stream",
     "text": [
      "Looking in indexes: https://pypi.org/simple, https://pypi.ngc.nvidia.com\n",
      "Requirement already satisfied: tensorflow-gpu in /opt/conda/lib/python3.8/site-packages (2.10.0)\n",
      "Requirement already satisfied: gast<=0.4.0,>=0.2.1 in /opt/conda/lib/python3.8/site-packages (from tensorflow-gpu) (0.4.0)\n",
      "Requirement already satisfied: opt-einsum>=2.3.2 in /opt/conda/lib/python3.8/site-packages (from tensorflow-gpu) (3.3.0)\n",
      "Requirement already satisfied: termcolor>=1.1.0 in /opt/conda/lib/python3.8/site-packages (from tensorflow-gpu) (2.0.1)\n",
      "Requirement already satisfied: tensorboard<2.11,>=2.10 in /opt/conda/lib/python3.8/site-packages (from tensorflow-gpu) (2.10.1)\n",
      "Requirement already satisfied: keras<2.11,>=2.10.0 in /opt/conda/lib/python3.8/site-packages (from tensorflow-gpu) (2.10.0)\n",
      "Requirement already satisfied: grpcio<2.0,>=1.24.3 in /opt/conda/lib/python3.8/site-packages (from tensorflow-gpu) (1.46.3)\n",
      "Requirement already satisfied: numpy>=1.20 in /opt/conda/lib/python3.8/site-packages (from tensorflow-gpu) (1.22.4)\n",
      "Requirement already satisfied: h5py>=2.9.0 in /opt/conda/lib/python3.8/site-packages (from tensorflow-gpu) (3.7.0)\n",
      "Requirement already satisfied: astunparse>=1.6.0 in /opt/conda/lib/python3.8/site-packages (from tensorflow-gpu) (1.6.3)\n",
      "Requirement already satisfied: flatbuffers>=2.0 in /opt/conda/lib/python3.8/site-packages (from tensorflow-gpu) (22.10.26)\n",
      "Requirement already satisfied: google-pasta>=0.1.1 in /opt/conda/lib/python3.8/site-packages (from tensorflow-gpu) (0.2.0)\n",
      "Requirement already satisfied: typing-extensions>=3.6.6 in /opt/conda/lib/python3.8/site-packages (from tensorflow-gpu) (4.2.0)\n",
      "Requirement already satisfied: absl-py>=1.0.0 in /opt/conda/lib/python3.8/site-packages (from tensorflow-gpu) (1.1.0)\n",
      "Requirement already satisfied: libclang>=13.0.0 in /opt/conda/lib/python3.8/site-packages (from tensorflow-gpu) (14.0.6)\n",
      "Requirement already satisfied: six>=1.12.0 in /opt/conda/lib/python3.8/site-packages (from tensorflow-gpu) (1.16.0)\n",
      "Requirement already satisfied: keras-preprocessing>=1.1.1 in /opt/conda/lib/python3.8/site-packages (from tensorflow-gpu) (1.1.2)\n",
      "Requirement already satisfied: packaging in /opt/conda/lib/python3.8/site-packages (from tensorflow-gpu) (21.3)\n",
      "Requirement already satisfied: tensorflow-io-gcs-filesystem>=0.23.1 in /opt/conda/lib/python3.8/site-packages (from tensorflow-gpu) (0.27.0)\n",
      "Requirement already satisfied: wrapt>=1.11.0 in /opt/conda/lib/python3.8/site-packages (from tensorflow-gpu) (1.14.1)\n",
      "Requirement already satisfied: setuptools in /opt/conda/lib/python3.8/site-packages (from tensorflow-gpu) (59.5.0)\n",
      "Requirement already satisfied: tensorflow-estimator<2.11,>=2.10.0 in /opt/conda/lib/python3.8/site-packages (from tensorflow-gpu) (2.10.0)\n",
      "Requirement already satisfied: protobuf<3.20,>=3.9.2 in /opt/conda/lib/python3.8/site-packages (from tensorflow-gpu) (3.19.4)\n",
      "Requirement already satisfied: wheel<1.0,>=0.23.0 in /opt/conda/lib/python3.8/site-packages (from astunparse>=1.6.0->tensorflow-gpu) (0.37.1)\n",
      "Requirement already satisfied: requests<3,>=2.21.0 in /opt/conda/lib/python3.8/site-packages (from tensorboard<2.11,>=2.10->tensorflow-gpu) (2.27.1)\n",
      "Requirement already satisfied: tensorboard-plugin-wit>=1.6.0 in /opt/conda/lib/python3.8/site-packages (from tensorboard<2.11,>=2.10->tensorflow-gpu) (1.8.1)\n",
      "Requirement already satisfied: google-auth-oauthlib<0.5,>=0.4.1 in /opt/conda/lib/python3.8/site-packages (from tensorboard<2.11,>=2.10->tensorflow-gpu) (0.4.6)\n",
      "Requirement already satisfied: werkzeug>=1.0.1 in /opt/conda/lib/python3.8/site-packages (from tensorboard<2.11,>=2.10->tensorflow-gpu) (2.1.2)\n",
      "Requirement already satisfied: google-auth<3,>=1.6.3 in /opt/conda/lib/python3.8/site-packages (from tensorboard<2.11,>=2.10->tensorflow-gpu) (2.7.0)\n",
      "Requirement already satisfied: tensorboard-data-server<0.7.0,>=0.6.0 in /opt/conda/lib/python3.8/site-packages (from tensorboard<2.11,>=2.10->tensorflow-gpu) (0.6.1)\n",
      "Requirement already satisfied: markdown>=2.6.8 in /opt/conda/lib/python3.8/site-packages (from tensorboard<2.11,>=2.10->tensorflow-gpu) (3.3.7)\n",
      "Requirement already satisfied: rsa<5,>=3.1.4 in /opt/conda/lib/python3.8/site-packages (from google-auth<3,>=1.6.3->tensorboard<2.11,>=2.10->tensorflow-gpu) (4.8)\n",
      "Requirement already satisfied: cachetools<6.0,>=2.0.0 in /opt/conda/lib/python3.8/site-packages (from google-auth<3,>=1.6.3->tensorboard<2.11,>=2.10->tensorflow-gpu) (5.2.0)\n",
      "Requirement already satisfied: pyasn1-modules>=0.2.1 in /opt/conda/lib/python3.8/site-packages (from google-auth<3,>=1.6.3->tensorboard<2.11,>=2.10->tensorflow-gpu) (0.2.8)\n",
      "Requirement already satisfied: requests-oauthlib>=0.7.0 in /opt/conda/lib/python3.8/site-packages (from google-auth-oauthlib<0.5,>=0.4.1->tensorboard<2.11,>=2.10->tensorflow-gpu) (1.3.1)\n",
      "Requirement already satisfied: importlib-metadata>=4.4 in /opt/conda/lib/python3.8/site-packages (from markdown>=2.6.8->tensorboard<2.11,>=2.10->tensorflow-gpu) (4.11.4)\n",
      "Requirement already satisfied: zipp>=0.5 in /opt/conda/lib/python3.8/site-packages (from importlib-metadata>=4.4->markdown>=2.6.8->tensorboard<2.11,>=2.10->tensorflow-gpu) (3.8.0)\n",
      "Requirement already satisfied: pyasn1<0.5.0,>=0.4.6 in /opt/conda/lib/python3.8/site-packages (from pyasn1-modules>=0.2.1->google-auth<3,>=1.6.3->tensorboard<2.11,>=2.10->tensorflow-gpu) (0.4.8)\n",
      "Requirement already satisfied: idna<4,>=2.5 in /opt/conda/lib/python3.8/site-packages (from requests<3,>=2.21.0->tensorboard<2.11,>=2.10->tensorflow-gpu) (3.3)\n",
      "Requirement already satisfied: charset-normalizer~=2.0.0 in /opt/conda/lib/python3.8/site-packages (from requests<3,>=2.21.0->tensorboard<2.11,>=2.10->tensorflow-gpu) (2.0.12)\n",
      "Requirement already satisfied: urllib3<1.27,>=1.21.1 in /opt/conda/lib/python3.8/site-packages (from requests<3,>=2.21.0->tensorboard<2.11,>=2.10->tensorflow-gpu) (1.26.9)\n",
      "Requirement already satisfied: certifi>=2017.4.17 in /opt/conda/lib/python3.8/site-packages (from requests<3,>=2.21.0->tensorboard<2.11,>=2.10->tensorflow-gpu) (2022.5.18.1)\n",
      "Requirement already satisfied: oauthlib>=3.0.0 in /opt/conda/lib/python3.8/site-packages (from requests-oauthlib>=0.7.0->google-auth-oauthlib<0.5,>=0.4.1->tensorboard<2.11,>=2.10->tensorflow-gpu) (3.2.0)\n",
      "Requirement already satisfied: pyparsing!=3.0.5,>=2.0.2 in /opt/conda/lib/python3.8/site-packages (from packaging->tensorflow-gpu) (3.0.9)\n",
      "\u001b[33mWARNING: Running pip as the 'root' user can result in broken permissions and conflicting behaviour with the system package manager. It is recommended to use a virtual environment instead: https://pip.pypa.io/warnings/venv\u001b[0m\n"
     ]
    }
   ],
   "source": [
    "!pip install tensorflow-gpu"
   ]
  },
  {
   "cell_type": "code",
   "execution_count": 3,
   "id": "ab1fe636",
   "metadata": {},
   "outputs": [
    {
     "name": "stderr",
     "output_type": "stream",
     "text": [
      "2022-10-27 02:06:54.651368: I tensorflow/core/platform/cpu_feature_guard.cc:193] This TensorFlow binary is optimized with oneAPI Deep Neural Network Library (oneDNN) to use the following CPU instructions in performance-critical operations:  AVX2 FMA\n",
      "To enable them in other operations, rebuild TensorFlow with the appropriate compiler flags.\n",
      "2022-10-27 02:06:54.789794: E tensorflow/stream_executor/cuda/cuda_blas.cc:2981] Unable to register cuBLAS factory: Attempting to register factory for plugin cuBLAS when one has already been registered\n",
      "2022-10-27 02:06:55.483455: W tensorflow/stream_executor/platform/default/dso_loader.cc:64] Could not load dynamic library 'libnvinfer.so.7'; dlerror: libnvinfer.so.7: cannot open shared object file: No such file or directory; LD_LIBRARY_PATH: /usr/local/cuda/compat/lib.real:/opt/conda/lib/python3.8/site-packages/torch/lib:/opt/conda/lib/python3.8/site-packages/torch_tensorrt/lib:/usr/local/cuda/compat/lib:/usr/local/nvidia/lib:/usr/local/nvidia/lib64\n",
      "2022-10-27 02:06:55.483540: W tensorflow/stream_executor/platform/default/dso_loader.cc:64] Could not load dynamic library 'libnvinfer_plugin.so.7'; dlerror: libnvinfer_plugin.so.7: cannot open shared object file: No such file or directory; LD_LIBRARY_PATH: /usr/local/cuda/compat/lib.real:/opt/conda/lib/python3.8/site-packages/torch/lib:/opt/conda/lib/python3.8/site-packages/torch_tensorrt/lib:/usr/local/cuda/compat/lib:/usr/local/nvidia/lib:/usr/local/nvidia/lib64\n",
      "2022-10-27 02:06:55.483545: W tensorflow/compiler/tf2tensorrt/utils/py_utils.cc:38] TF-TRT Warning: Cannot dlopen some TensorRT libraries. If you would like to use Nvidia GPU with TensorRT, please make sure the missing libraries mentioned above are installed properly.\n"
     ]
    },
    {
     "name": "stdout",
     "output_type": "stream",
     "text": [
      "['/device:CPU:0', '/device:GPU:0', '/device:GPU:1', '/device:GPU:2', '/device:GPU:3', '/device:GPU:4', '/device:GPU:5', '/device:GPU:6', '/device:GPU:7']\n"
     ]
    },
    {
     "name": "stderr",
     "output_type": "stream",
     "text": [
      "2022-10-27 02:06:56.429443: I tensorflow/core/platform/cpu_feature_guard.cc:193] This TensorFlow binary is optimized with oneAPI Deep Neural Network Library (oneDNN) to use the following CPU instructions in performance-critical operations:  AVX2 FMA\n",
      "To enable them in other operations, rebuild TensorFlow with the appropriate compiler flags.\n",
      "2022-10-27 02:07:01.063416: I tensorflow/core/common_runtime/gpu/gpu_device.cc:1616] Created device /device:GPU:0 with 38407 MB memory:  -> device: 0, name: A100-SXM4-40GB, pci bus id: 0000:07:00.0, compute capability: 8.0\n",
      "2022-10-27 02:07:01.065425: I tensorflow/core/common_runtime/gpu/gpu_device.cc:1616] Created device /device:GPU:1 with 38407 MB memory:  -> device: 1, name: A100-SXM4-40GB, pci bus id: 0000:0f:00.0, compute capability: 8.0\n",
      "2022-10-27 02:07:01.067135: I tensorflow/core/common_runtime/gpu/gpu_device.cc:1616] Created device /device:GPU:2 with 38407 MB memory:  -> device: 2, name: A100-SXM4-40GB, pci bus id: 0000:47:00.0, compute capability: 8.0\n",
      "2022-10-27 02:07:01.068806: I tensorflow/core/common_runtime/gpu/gpu_device.cc:1616] Created device /device:GPU:3 with 38407 MB memory:  -> device: 3, name: A100-SXM4-40GB, pci bus id: 0000:4e:00.0, compute capability: 8.0\n",
      "2022-10-27 02:07:01.070470: I tensorflow/core/common_runtime/gpu/gpu_device.cc:1616] Created device /device:GPU:4 with 38407 MB memory:  -> device: 4, name: A100-SXM4-40GB, pci bus id: 0000:87:00.0, compute capability: 8.0\n",
      "2022-10-27 02:07:01.072121: I tensorflow/core/common_runtime/gpu/gpu_device.cc:1616] Created device /device:GPU:5 with 38407 MB memory:  -> device: 5, name: A100-SXM4-40GB, pci bus id: 0000:90:00.0, compute capability: 8.0\n",
      "2022-10-27 02:07:01.073771: I tensorflow/core/common_runtime/gpu/gpu_device.cc:1616] Created device /device:GPU:6 with 38407 MB memory:  -> device: 6, name: A100-SXM4-40GB, pci bus id: 0000:b7:00.0, compute capability: 8.0\n",
      "2022-10-27 02:07:01.075471: I tensorflow/core/common_runtime/gpu/gpu_device.cc:1616] Created device /device:GPU:7 with 38407 MB memory:  -> device: 7, name: A100-SXM4-40GB, pci bus id: 0000:bd:00.0, compute capability: 8.0\n"
     ]
    }
   ],
   "source": [
    "from tensorflow.python.client import device_lib\n",
    "\n",
    "def get_available_devices():\n",
    "    local_device_protos = device_lib.list_local_devices()\n",
    "    return [x.name for x in local_device_protos]\n",
    "\n",
    "print(get_available_devices())"
   ]
  },
  {
   "cell_type": "code",
   "execution_count": 4,
   "id": "7d9752a4",
   "metadata": {},
   "outputs": [],
   "source": [
    "#import os\n",
    "#os.environ['CUDA_VISIBLE_DEVICES']"
   ]
  },
  {
   "cell_type": "code",
   "execution_count": 5,
   "id": "d7208e61",
   "metadata": {},
   "outputs": [
    {
     "name": "stdout",
     "output_type": "stream",
     "text": [
      "Looking in indexes: https://pypi.org/simple, https://pypi.ngc.nvidia.com\n",
      "Requirement already satisfied: sentencepiece in /opt/conda/lib/python3.8/site-packages (0.1.97)\n",
      "\u001b[33mWARNING: Running pip as the 'root' user can result in broken permissions and conflicting behaviour with the system package manager. It is recommended to use a virtual environment instead: https://pip.pypa.io/warnings/venv\u001b[0m\n"
     ]
    }
   ],
   "source": [
    "!pip install sentencepiece"
   ]
  },
  {
   "cell_type": "code",
   "execution_count": 6,
   "id": "e73fdb9e",
   "metadata": {},
   "outputs": [
    {
     "name": "stdout",
     "output_type": "stream",
     "text": [
      "Looking in indexes: https://pypi.org/simple, https://pypi.ngc.nvidia.com\n",
      "Requirement already satisfied: seaborn in /opt/conda/lib/python3.8/site-packages (0.12.1)\n",
      "Requirement already satisfied: matplotlib!=3.6.1,>=3.1 in /opt/conda/lib/python3.8/site-packages (from seaborn) (3.5.2)\n",
      "Requirement already satisfied: pandas>=0.25 in /opt/conda/lib/python3.8/site-packages (from seaborn) (1.3.5)\n",
      "Requirement already satisfied: numpy>=1.17 in /opt/conda/lib/python3.8/site-packages (from seaborn) (1.22.4)\n",
      "Requirement already satisfied: pyparsing>=2.2.1 in /opt/conda/lib/python3.8/site-packages (from matplotlib!=3.6.1,>=3.1->seaborn) (3.0.9)\n",
      "Requirement already satisfied: pillow>=6.2.0 in /opt/conda/lib/python3.8/site-packages (from matplotlib!=3.6.1,>=3.1->seaborn) (9.0.1)\n",
      "Requirement already satisfied: python-dateutil>=2.7 in /opt/conda/lib/python3.8/site-packages (from matplotlib!=3.6.1,>=3.1->seaborn) (2.8.2)\n",
      "Requirement already satisfied: cycler>=0.10 in /opt/conda/lib/python3.8/site-packages (from matplotlib!=3.6.1,>=3.1->seaborn) (0.11.0)\n",
      "Requirement already satisfied: fonttools>=4.22.0 in /opt/conda/lib/python3.8/site-packages (from matplotlib!=3.6.1,>=3.1->seaborn) (4.33.3)\n",
      "Requirement already satisfied: packaging>=20.0 in /opt/conda/lib/python3.8/site-packages (from matplotlib!=3.6.1,>=3.1->seaborn) (21.3)\n",
      "Requirement already satisfied: kiwisolver>=1.0.1 in /opt/conda/lib/python3.8/site-packages (from matplotlib!=3.6.1,>=3.1->seaborn) (1.4.3)\n",
      "Requirement already satisfied: pytz>=2017.3 in /opt/conda/lib/python3.8/site-packages (from pandas>=0.25->seaborn) (2022.1)\n",
      "Requirement already satisfied: six>=1.5 in /opt/conda/lib/python3.8/site-packages (from python-dateutil>=2.7->matplotlib!=3.6.1,>=3.1->seaborn) (1.16.0)\n",
      "\u001b[33mWARNING: Running pip as the 'root' user can result in broken permissions and conflicting behaviour with the system package manager. It is recommended to use a virtual environment instead: https://pip.pypa.io/warnings/venv\u001b[0m\n"
     ]
    }
   ],
   "source": [
    "!pip install seaborn"
   ]
  },
  {
   "cell_type": "code",
   "execution_count": 7,
   "id": "a9aba88d",
   "metadata": {},
   "outputs": [
    {
     "name": "stdout",
     "output_type": "stream",
     "text": [
      "Looking in indexes: https://pypi.org/simple, https://pypi.ngc.nvidia.com\n",
      "Requirement already satisfied: tqdm in /opt/conda/lib/python3.8/site-packages (4.64.0)\n",
      "\u001b[33mWARNING: Running pip as the 'root' user can result in broken permissions and conflicting behaviour with the system package manager. It is recommended to use a virtual environment instead: https://pip.pypa.io/warnings/venv\u001b[0m\n"
     ]
    }
   ],
   "source": [
    "!pip install tqdm"
   ]
  },
  {
   "cell_type": "code",
   "execution_count": 8,
   "id": "c937e241",
   "metadata": {},
   "outputs": [
    {
     "name": "stderr",
     "output_type": "stream",
     "text": [
      "/opt/conda/lib/python3.8/site-packages/tqdm/auto.py:22: TqdmWarning: IProgress not found. Please update jupyter and ipywidgets. See https://ipywidgets.readthedocs.io/en/stable/user_install.html\n",
      "  from .autonotebook import tqdm as notebook_tqdm\n"
     ]
    }
   ],
   "source": [
    "import pandas as pd\n",
    "import numpy as np\n",
    "from transformers import pipeline\n",
    "from tqdm import tqdm\n",
    "from transformers import PegasusForConditionalGeneration, PegasusTokenizer\n",
    "import time\n",
    "from transformers import AdamW, AutoTokenizer, AutoModelForSequenceClassification\n",
    "from transformers import DataCollatorWithPadding\n",
    "from transformers import AutoTokenizer, AutoModelForSequenceClassification, TrainingArguments, Trainer"
   ]
  },
  {
   "cell_type": "markdown",
   "id": "ea58f7be",
   "metadata": {},
   "source": [
    "### Loading datasets"
   ]
  },
  {
   "cell_type": "code",
   "execution_count": 9,
   "id": "18c79469",
   "metadata": {},
   "outputs": [
    {
     "name": "stdout",
     "output_type": "stream",
     "text": [
      "/workspace/asurion_f22_muby\n"
     ]
    }
   ],
   "source": [
    "%cd .."
   ]
  },
  {
   "cell_type": "code",
   "execution_count": 10,
   "id": "2a3d4566",
   "metadata": {},
   "outputs": [
    {
     "name": "stdout",
     "output_type": "stream",
     "text": [
      "/workspace/asurion_f22_muby/fe_data_new\n"
     ]
    }
   ],
   "source": [
    "%cd fe_data_new"
   ]
  },
  {
   "cell_type": "code",
   "execution_count": 11,
   "id": "6ed76665",
   "metadata": {},
   "outputs": [
    {
     "name": "stdout",
     "output_type": "stream",
     "text": [
      "Untitled.ipynb                            total_collated_transcripts.csv\n",
      "accepted_upsale_collated_transcripts.csv  total_encoded_standardized.csv\n",
      "accepted_upsale_encoded_tabular.csv       total_encoded_tabular.csv\n",
      "accepted_upsale_merged_asurion.csv        total_merged_asurion.csv\n",
      "tabular_april_encoded.csv                 transcript_april_collated_encoded.csv\n",
      "tabular_july_encoded.csv                  transcript_july_collated_encoded.csv\n",
      "tabular_june_encoded.csv                  transcript_june_collated_encoded.csv\n",
      "tabular_march_encoded.csv                 transcript_march_collated_encoded.csv\n",
      "tabular_may_encoded.csv                   transcript_may_collated_encoded.csv\n"
     ]
    }
   ],
   "source": [
    "%ls"
   ]
  },
  {
   "cell_type": "code",
   "execution_count": 12,
   "id": "a7d441a9",
   "metadata": {},
   "outputs": [
    {
     "name": "stdout",
     "output_type": "stream",
     "text": [
      "/workspace/asurion_f22_muby\n"
     ]
    }
   ],
   "source": [
    "%cd .."
   ]
  },
  {
   "cell_type": "code",
   "execution_count": 13,
   "id": "c0046d4f",
   "metadata": {},
   "outputs": [],
   "source": [
    "transcript = pd.read_csv(\"fe_data_new/total_collated_transcripts.csv\")"
   ]
  },
  {
   "cell_type": "code",
   "execution_count": 14,
   "id": "1fab9414",
   "metadata": {},
   "outputs": [
    {
     "name": "stdout",
     "output_type": "stream",
     "text": [
      "<class 'pandas.core.frame.DataFrame'>\n",
      "RangeIndex: 1262644 entries, 0 to 1262643\n",
      "Data columns (total 5 columns):\n",
      " #   Column                            Non-Null Count    Dtype \n",
      "---  ------                            --------------    ----- \n",
      " 0   id                                1262644 non-null  object\n",
      " 1   sales_offer_date                  1262644 non-null  object\n",
      " 2   accepted_flg                      1262644 non-null  bool  \n",
      " 3   encrypted_collated_transcription  1258390 non-null  object\n",
      " 4   month                             1262644 non-null  object\n",
      "dtypes: bool(1), object(4)\n",
      "memory usage: 39.7+ MB\n"
     ]
    }
   ],
   "source": [
    "transcript.info()"
   ]
  },
  {
   "cell_type": "code",
   "execution_count": 15,
   "id": "71bc3d6c",
   "metadata": {},
   "outputs": [
    {
     "data": {
      "text/plain": [
       "june     283795\n",
       "may      266497\n",
       "march    250713\n",
       "april    243426\n",
       "july     218213\n",
       "Name: month, dtype: int64"
      ]
     },
     "execution_count": 15,
     "metadata": {},
     "output_type": "execute_result"
    }
   ],
   "source": [
    "transcript[\"month\"].value_counts()"
   ]
  },
  {
   "cell_type": "markdown",
   "id": "528e724e",
   "metadata": {},
   "source": [
    "### Splitting data into training set and hold-out set"
   ]
  },
  {
   "cell_type": "code",
   "execution_count": 16,
   "id": "22d68f2b",
   "metadata": {},
   "outputs": [],
   "source": [
    "transcript_train = transcript[transcript[\"month\"] != \"july\"]\n",
    "transcript_test = transcript[transcript[\"month\"] == \"july\"]"
   ]
  },
  {
   "cell_type": "code",
   "execution_count": 17,
   "id": "dc61fd5b",
   "metadata": {},
   "outputs": [],
   "source": [
    "#transcript_train.to_csv(\"fe_data_v2/transcript_data/transcript_train_data.csv\", index = False)"
   ]
  },
  {
   "cell_type": "code",
   "execution_count": 18,
   "id": "b3455f2e",
   "metadata": {},
   "outputs": [],
   "source": [
    "#transcript_test.to_csv(\"fe_data_v2/transcript_data/transcript_test_data.csv\", index = False)"
   ]
  },
  {
   "cell_type": "markdown",
   "id": "57b0cc5b",
   "metadata": {},
   "source": [
    "### Feature Engineering on training set"
   ]
  },
  {
   "cell_type": "code",
   "execution_count": 19,
   "id": "628ee57d",
   "metadata": {},
   "outputs": [
    {
     "data": {
      "text/html": [
       "<div>\n",
       "<style scoped>\n",
       "    .dataframe tbody tr th:only-of-type {\n",
       "        vertical-align: middle;\n",
       "    }\n",
       "\n",
       "    .dataframe tbody tr th {\n",
       "        vertical-align: top;\n",
       "    }\n",
       "\n",
       "    .dataframe thead th {\n",
       "        text-align: right;\n",
       "    }\n",
       "</style>\n",
       "<table border=\"1\" class=\"dataframe\">\n",
       "  <thead>\n",
       "    <tr style=\"text-align: right;\">\n",
       "      <th></th>\n",
       "      <th>id</th>\n",
       "      <th>sales_offer_date</th>\n",
       "      <th>accepted_flg</th>\n",
       "      <th>encrypted_collated_transcription</th>\n",
       "      <th>month</th>\n",
       "    </tr>\n",
       "  </thead>\n",
       "  <tbody>\n",
       "    <tr>\n",
       "      <th>0</th>\n",
       "      <td>e5e4ee3c3c0e9ac72561334e6eb23cc233b1bcd0a0063d...</td>\n",
       "      <td>2022-03-26</td>\n",
       "      <td>False</td>\n",
       "      <td>ok Thank for calling [CLIENT] Tech Hello? Hi. ...</td>\n",
       "      <td>march</td>\n",
       "    </tr>\n",
       "    <tr>\n",
       "      <th>1</th>\n",
       "      <td>ae6128d8d240d28edbcb7eb27256780cf662a2be1aec8c...</td>\n",
       "      <td>2022-03-02</td>\n",
       "      <td>False</td>\n",
       "      <td>on on Oh, My name is [NAME]. May I please have...</td>\n",
       "      <td>march</td>\n",
       "    </tr>\n",
       "    <tr>\n",
       "      <th>2</th>\n",
       "      <td>4899f9acdb70b0246b2d0ac2871dbcea8267e57b060154...</td>\n",
       "      <td>2022-03-12</td>\n",
       "      <td>False</td>\n",
       "      <td>Hello. We for calling [CLIENT] Tech Coach. My ...</td>\n",
       "      <td>march</td>\n",
       "    </tr>\n",
       "    <tr>\n",
       "      <th>3</th>\n",
       "      <td>0589751e11caac0eac815faf84f1a366d70b86b78324a2...</td>\n",
       "      <td>2022-03-20</td>\n",
       "      <td>False</td>\n",
       "      <td>Hello. Thank you so much for contacting [CLIEN...</td>\n",
       "      <td>march</td>\n",
       "    </tr>\n",
       "    <tr>\n",
       "      <th>4</th>\n",
       "      <td>6c4790cb02e4f556d73436f79268d5c99de50a9acec40e...</td>\n",
       "      <td>2022-03-15</td>\n",
       "      <td>False</td>\n",
       "      <td>Thank you very much Hello? can I can you hear ...</td>\n",
       "      <td>march</td>\n",
       "    </tr>\n",
       "  </tbody>\n",
       "</table>\n",
       "</div>"
      ],
      "text/plain": [
       "                                                  id sales_offer_date  \\\n",
       "0  e5e4ee3c3c0e9ac72561334e6eb23cc233b1bcd0a0063d...       2022-03-26   \n",
       "1  ae6128d8d240d28edbcb7eb27256780cf662a2be1aec8c...       2022-03-02   \n",
       "2  4899f9acdb70b0246b2d0ac2871dbcea8267e57b060154...       2022-03-12   \n",
       "3  0589751e11caac0eac815faf84f1a366d70b86b78324a2...       2022-03-20   \n",
       "4  6c4790cb02e4f556d73436f79268d5c99de50a9acec40e...       2022-03-15   \n",
       "\n",
       "   accepted_flg                   encrypted_collated_transcription  month  \n",
       "0         False  ok Thank for calling [CLIENT] Tech Hello? Hi. ...  march  \n",
       "1         False  on on Oh, My name is [NAME]. May I please have...  march  \n",
       "2         False  Hello. We for calling [CLIENT] Tech Coach. My ...  march  \n",
       "3         False  Hello. Thank you so much for contacting [CLIEN...  march  \n",
       "4         False  Thank you very much Hello? can I can you hear ...  march  "
      ]
     },
     "execution_count": 19,
     "metadata": {},
     "output_type": "execute_result"
    }
   ],
   "source": [
    "transcript_train.head()"
   ]
  },
  {
   "cell_type": "code",
   "execution_count": 20,
   "id": "a48f06fa",
   "metadata": {},
   "outputs": [],
   "source": [
    "from torch import nn\n",
    "import torch"
   ]
  },
  {
   "cell_type": "code",
   "execution_count": 21,
   "id": "88706bff",
   "metadata": {},
   "outputs": [
    {
     "name": "stderr",
     "output_type": "stream",
     "text": [
      "/tmp/ipykernel_3188/455747962.py:1: SettingWithCopyWarning: \n",
      "A value is trying to be set on a copy of a slice from a DataFrame.\n",
      "Try using .loc[row_indexer,col_indexer] = value instead\n",
      "\n",
      "See the caveats in the documentation: https://pandas.pydata.org/pandas-docs/stable/user_guide/indexing.html#returning-a-view-versus-a-copy\n",
      "  transcript_train[\"encrypted_collated_transcription\"] = transcript_train[\"encrypted_collated_transcription\"].astype(str)\n",
      "/tmp/ipykernel_3188/455747962.py:2: SettingWithCopyWarning: \n",
      "A value is trying to be set on a copy of a slice from a DataFrame.\n",
      "Try using .loc[row_indexer,col_indexer] = value instead\n",
      "\n",
      "See the caveats in the documentation: https://pandas.pydata.org/pandas-docs/stable/user_guide/indexing.html#returning-a-view-versus-a-copy\n",
      "  transcript_test[\"encrypted_collated_transcription\"] = transcript_test[\"encrypted_collated_transcription\"].astype(str)\n"
     ]
    }
   ],
   "source": [
    "transcript_train[\"encrypted_collated_transcription\"] = transcript_train[\"encrypted_collated_transcription\"].astype(str)\n",
    "transcript_test[\"encrypted_collated_transcription\"] = transcript_test[\"encrypted_collated_transcription\"].astype(str)"
   ]
  },
  {
   "cell_type": "code",
   "execution_count": 22,
   "id": "90bbd943",
   "metadata": {},
   "outputs": [],
   "source": [
    "import os\n",
    "os.environ['CUDA_VISIBLE_DEVICES'] = \"0,1,2,3,4,5,6,7\""
   ]
  },
  {
   "cell_type": "code",
   "execution_count": 23,
   "id": "1712cb36",
   "metadata": {},
   "outputs": [],
   "source": [
    "from transformers import pipeline\n",
    "pega = pipeline(\"summarization\", model=\"sshleifer/distilbart-xsum-12-6\")"
   ]
  },
  {
   "cell_type": "code",
   "execution_count": 24,
   "id": "c9f83848",
   "metadata": {},
   "outputs": [
    {
     "data": {
      "text/plain": [
       "83"
      ]
     },
     "execution_count": 24,
     "metadata": {},
     "output_type": "execute_result"
    }
   ],
   "source": [
    "pipe_out_pega = pega(transcript_train.iloc[8,3][:3000])\n",
    "summary = pipe_out_pega[0][\"summary_text\"].replace(\" .<n>\", \". \")\n",
    "len(summary)"
   ]
  },
  {
   "cell_type": "markdown",
   "id": "918d65fa",
   "metadata": {},
   "source": [
    "#### Partitioning convo function for training and testing set"
   ]
  },
  {
   "cell_type": "code",
   "execution_count": 25,
   "id": "f701f772",
   "metadata": {},
   "outputs": [
    {
     "data": {
      "text/plain": [
       "' Other'"
      ]
     },
     "execution_count": 25,
     "metadata": {},
     "output_type": "execute_result"
    }
   ],
   "source": [
    "convo = transcript_train.iloc[8,3]\n",
    "convo_rev = convo[::-1]\n",
    "index = convo_rev.find(\".\")\n",
    "convo_rev[:index][::-1]"
   ]
  },
  {
   "cell_type": "code",
   "execution_count": 34,
   "id": "ea6ff340",
   "metadata": {},
   "outputs": [],
   "source": [
    "def transform_sentence(sentence, k):\n",
    "    length_sentence = len(sentence)\n",
    "    sentences = \"\"\n",
    "    list_of_sentence = []\n",
    "    count = 0\n",
    "    m = 0\n",
    "    n = m + k\n",
    "    while count < length_sentence:\n",
    "        sentence_ext = sentence[m:n]\n",
    "        sentence_rev = sentence_ext[::-1]\n",
    "        rev_index = sentence_rev.find(\".\")\n",
    "        sentence_ext = sentence_rev[rev_index:][::-1]\n",
    "        list_of_sentence.append(sentence_ext)\n",
    "        sentences += sentence_ext\n",
    "        m = len(sentences)\n",
    "        if len(sentences) < length_sentence:\n",
    "            n = m + k\n",
    "        else:\n",
    "            n = length_sentence\n",
    "        \n",
    "        count += len(sentence_ext)\n",
    "    \n",
    "    #lengths = []\n",
    "    new_list = []\n",
    "    for sentence_run in list_of_sentence:\n",
    "        if len(sentence_run) > 1:\n",
    "            new_list.append(sentence_run)\n",
    "            #lengths.append(len(sentence))\n",
    "    \n",
    "    sentence_reversed = sentence[::-1]\n",
    "    reversed_index = sentence_reversed.find(\".\")\n",
    "    sentence_final = sentence_reversed[:reversed_index][::-1]\n",
    "    \n",
    "    if len(new_list) > 0:\n",
    "        new_list[-1] = new_list[-1] + sentence_final\n",
    "    \n",
    "    return new_list"
   ]
  },
  {
   "cell_type": "code",
   "execution_count": 35,
   "id": "d2511639",
   "metadata": {},
   "outputs": [
    {
     "data": {
      "text/plain": [
       "[\"Thank you for calling [CLIENT] Tech Coach. My name is [NAME]. May I have your first and last name, please? Ok. That's Felicia moore. Ok. Can I also have the phone number you're calling about? Yes. Five [NUMBER] [NUMBER]. Two [NUMBER] [NUMBER] [NUMBER] [NUMBER] [NUMBER] [NUMBER]. Thank you. How can I help you today? Yes. I'm calling because I am having complaints no phone calls coming through. my account keep dropping. I see. Thank you so much for giving us a call in for patiently waiting on the line to be assisted. Let me go ahead and pull up the account. So we'll be able to resolve this problem. what's your account, pin, Felicia? * Thank you. Let me just quickly pull the account up Since when did it start to happen, I'm sorry. I'm bleeding, uh, today, I guess. Ok. people are complaining that they've been calling me, I do. Ok. So people cannot And what I've tried to make a outgoing call. Yeah. When I try to make apple outgoing calls they're saying that reach. Mhmm. The calls are not going through their lines. to when I am I talking on the phone, the phone. Ok. phone calls are dropping. Necessarily? Mhmm. Ok. And also I want to ask what, like, the troubleshooting steps you've tried Um, uh when you start with experience the problem, Actually, you know what to be honest with you yesterday. I started having problems both to my phone. I continue to cut it on and cut it off because like, it wouldn't do anything kept getting that so like from there I thought it was better after I cut it on, cut it apple I was still having problems. it today it just got worse. Ok. Thank you for confirming. Alright, Welcome. Let me just go ahead and review. the account details here. Uh, by the way, in any case being may need to do some steps that would disconnect our call. Such as refreshing your network. So do you have another number there that I can call you? so we'll be able to troubleshoot and test your services. what's my wife plan go to five zero two. Two nine six.\",\n",
       " \" Two nine six That four about three? Nine four five three. I got here five zero two two nine six nine four five three. Correct. Ok. Thank you. Let me just review the account details and then we'll proceed on troubleshooting this problem. Ok ok. So, um, whenever someone calls you, are they being routed directly to your voicemail mail or is it just like ringing and you're not being notified about this call. Yeah. They're saying that they I mean, like, uh, numerous of people have been trying call today. they has to call my friends phone to tell me that they've been calling my phone and I haven't got not one missed call. From there? Ok. so Uh. Ok. Bye. alright. Alright. Ok. let me just double check And this would ok be for your iphone eleven, right? Correct. how many signal bars are you currently getting? right now. It is. Three. Ok. But on my phone wifi. Ok. Ok. Ok. let me just further review the information here. And whatever going on. I just spoke with you guys a couple of weeks go about the same problem and it just start happen i'll over again. Mhmm. Ok. So it has not been permanently Ok. solved does it happen in one location or everywhere? Everywhere. Ok. Thank you. Welcome. By the way, upper beside your mobile phones or mobile devices active on your account. Felicia, what are the other devices that you use at home, any other tech gadgets or equipment? Hello? So And do you have Wifi available? Yes. It's on Wifi right now. Ok. Ok. Right now on the top left of on your screen, does it a Wifi calling or [CLIENT] Wifi. No. Ok. Oh, by the way, the main reason why I actually asked for other devices that you may have within your home because I. I have noticed alicia that you have not yet maximize the security and protection you can get on all your devices. Ok and you're actually qualified for [CLIENT] Home device Protect that provides you and entitled you to a * dollars single claim maximum and * dollars to worth of reimbursement. on all your eligible devices.\",\n",
       " \" So that would also apply to other home equipment such just like smart Tvs laptop, any other accessories. you also connect to your phones Ok. So this would provide you an unlimited support and unlimited number of claims to whatever may happen to those devices. Ok. Gotcha. Alright. And then, um, actually, we can also work on activating that program. So you'll be able to have those devices protected as be as now. And, um, a great thing about this program because how full control over, they're won't be any upfront charges with it. So you'll be able to experience and enjoy it first hand. Ok. Alright. So, right now, let's also double check and make sure that we have set up correctly all this settings for calling on your phone. Let's go to your settings. and then go to cellular Ok. And then let's go to, let's make sure that the cellular data switches is on. Yes. It's on. And then let's go to, um, voice and data. Which one? Uh, hold on Which one is it? Uh voice and data. Under cellular data options. I'm sorry. Understandable the data option. thank um, Mhmm. I don't have the option. Ok. Uh, how about under just cellular once we tap on cellular, what are the options available on your end? Um, Ok. So saying data it's that's it then after cellular that, cellular data? It's personal hotspot. And then it has primary, used primary. and then have at cellular the plan. Ok. One moment. Let me just. and then other phone nine back has set uh, has current period. incorrect current helped me. Ok. Uh do you see their cellular data off Um, doesn't give me any cellular damage data option. Ok. Is cellular either data switch on or off? It's Ok. on. somebody data options is not available from your end. let's see the other Ok. stuck here. Yep not at all. Ok. say would data. Nope it's not Alrighty. So let me go ahead and work on refreshing. all, um, calling feature from the account. then I'll provide you a step which is called Reset Network settings.\",\n",
       " \" So it would reconnect your phone and refresh your network connectivity. Then I'll call you on the other line that you have. so we can test it real time. Ok? And then while I'm working on it, Felicia, I also wanna make sure that you're taking advantage of the protection in and the, like credit or reimbursements you can get with [CLIENT] Home device protect. I'll just quickly read through the warranty information. Ok? Ok. since that would be your benefit. Alright. So I'm just working on it now. Let me read through with the information about the warranty. So [CLIENT] note device protect is twenty five dollar and month option protection and service plan Added your your [CLIENT] Wireless monthly the bill. The service contract continues to renew each month and until canceled. you may cancel at any time and receive a prorated refund of the monthly fee by calling eight five five Seven three zero seven one six nine. Claims for eligible products cannot be filed in the first thirty days of enrollment. and free conditions aren't covered. A list of eligible products can be found in the terms conditions limitations and exclusions apply. Once you enroll you receive a copy of the terms conditions in an email. in approximately three business days. These can also be found the tech coach home. Yeah That should at. Uh the Is dot com. for slash terms conditions. There may be a service fee of ninety nine dollars when filing a claim. there's a * dollar single claim maximum. and a * dollars aggregate limit in a consecutive twelve months period for eligible product May, uh, may I complete your enrollment today? Say? May I complete your enrollment today so we can start up and and maximize your protection to all your eligible devices. and it would as mentioned, of course, and title told you What is this asking to the * dollar single claim Yeah. That's what I'm saying. I don't wanna do anything just cost any anymore. My plan. So no I I declined. I don't wanna do that. Ok.\",\n",
       " \" Well, um, not I just wanna fix the phone today. Of course. We are working on it. I just want to make sure that you also have the option to extend and maximize the protection. and you will not be charged up upfront for this. So you'll be able to experience the protection right a Felicia. Uh-huh. Alright. And can we go ahead and complete your Enrollment today. complete my enrollment to put me an enrollment for what Is it gonna be extra charge? on my bill this would be for a at any time. Uh-huh. This would be for the [CLIENT] Home device Protect. Yes. that expands your phone protection to all your device. do. Ok. I decline. Yeah. I don't wanna do that. Thank you, though. But i I don't wanna do it. Ok. Of course. You can always, um, if in any case you're interested in adding it you can always go back through [CLIENT] or give us a call. will be more than happy to assist you activating it. Now I'm just waiting for your calling feature to be refreshed. Then I'll call you on the other line. Ok? Yeah. Alright. Is it alright if I place it on a silent hold Solution while it work on your account. Yeah. Thank you. Stay with me on the line. i ok Yeah. mhmm Alright. Thank you so much for your. and so I've complete. They refreshed the account. Uh, let's go ahead and run the reset now quick settings. First, I'll call you on the other line so we won't be disconnected. Ok Ok. Stay with me on this line first, Solution. Ok. Ok. Hello? for training purposes call may be recorded. can I have your first again Uh, boarding. Ok. Other\"]"
      ]
     },
     "execution_count": 35,
     "metadata": {},
     "output_type": "execute_result"
    }
   ],
   "source": [
    "transform_sentence(convo, 2000)"
   ]
  },
  {
   "cell_type": "code",
   "execution_count": 28,
   "id": "21b85ca5",
   "metadata": {},
   "outputs": [],
   "source": [
    "import numpy as np"
   ]
  },
  {
   "cell_type": "code",
   "execution_count": 29,
   "id": "444f48ae",
   "metadata": {},
   "outputs": [
    {
     "data": {
      "text/html": [
       "<div>\n",
       "<style scoped>\n",
       "    .dataframe tbody tr th:only-of-type {\n",
       "        vertical-align: middle;\n",
       "    }\n",
       "\n",
       "    .dataframe tbody tr th {\n",
       "        vertical-align: top;\n",
       "    }\n",
       "\n",
       "    .dataframe thead th {\n",
       "        text-align: right;\n",
       "    }\n",
       "</style>\n",
       "<table border=\"1\" class=\"dataframe\">\n",
       "  <thead>\n",
       "    <tr style=\"text-align: right;\">\n",
       "      <th></th>\n",
       "      <th>id</th>\n",
       "      <th>sales_offer_date</th>\n",
       "      <th>accepted_flg</th>\n",
       "      <th>encrypted_collated_transcription</th>\n",
       "      <th>month</th>\n",
       "    </tr>\n",
       "  </thead>\n",
       "  <tbody>\n",
       "    <tr>\n",
       "      <th>0</th>\n",
       "      <td>e5e4ee3c3c0e9ac72561334e6eb23cc233b1bcd0a0063d...</td>\n",
       "      <td>2022-03-26</td>\n",
       "      <td>False</td>\n",
       "      <td>ok Thank for calling [CLIENT] Tech Hello? Hi. ...</td>\n",
       "      <td>march</td>\n",
       "    </tr>\n",
       "    <tr>\n",
       "      <th>1</th>\n",
       "      <td>ae6128d8d240d28edbcb7eb27256780cf662a2be1aec8c...</td>\n",
       "      <td>2022-03-02</td>\n",
       "      <td>False</td>\n",
       "      <td>on on Oh, My name is [NAME]. May I please have...</td>\n",
       "      <td>march</td>\n",
       "    </tr>\n",
       "    <tr>\n",
       "      <th>2</th>\n",
       "      <td>4899f9acdb70b0246b2d0ac2871dbcea8267e57b060154...</td>\n",
       "      <td>2022-03-12</td>\n",
       "      <td>False</td>\n",
       "      <td>Hello. We for calling [CLIENT] Tech Coach. My ...</td>\n",
       "      <td>march</td>\n",
       "    </tr>\n",
       "    <tr>\n",
       "      <th>3</th>\n",
       "      <td>0589751e11caac0eac815faf84f1a366d70b86b78324a2...</td>\n",
       "      <td>2022-03-20</td>\n",
       "      <td>False</td>\n",
       "      <td>Hello. Thank you so much for contacting [CLIEN...</td>\n",
       "      <td>march</td>\n",
       "    </tr>\n",
       "    <tr>\n",
       "      <th>4</th>\n",
       "      <td>6c4790cb02e4f556d73436f79268d5c99de50a9acec40e...</td>\n",
       "      <td>2022-03-15</td>\n",
       "      <td>False</td>\n",
       "      <td>Thank you very much Hello? can I can you hear ...</td>\n",
       "      <td>march</td>\n",
       "    </tr>\n",
       "  </tbody>\n",
       "</table>\n",
       "</div>"
      ],
      "text/plain": [
       "                                                  id sales_offer_date  \\\n",
       "0  e5e4ee3c3c0e9ac72561334e6eb23cc233b1bcd0a0063d...       2022-03-26   \n",
       "1  ae6128d8d240d28edbcb7eb27256780cf662a2be1aec8c...       2022-03-02   \n",
       "2  4899f9acdb70b0246b2d0ac2871dbcea8267e57b060154...       2022-03-12   \n",
       "3  0589751e11caac0eac815faf84f1a366d70b86b78324a2...       2022-03-20   \n",
       "4  6c4790cb02e4f556d73436f79268d5c99de50a9acec40e...       2022-03-15   \n",
       "\n",
       "   accepted_flg                   encrypted_collated_transcription  month  \n",
       "0         False  ok Thank for calling [CLIENT] Tech Hello? Hi. ...  march  \n",
       "1         False  on on Oh, My name is [NAME]. May I please have...  march  \n",
       "2         False  Hello. We for calling [CLIENT] Tech Coach. My ...  march  \n",
       "3         False  Hello. Thank you so much for contacting [CLIEN...  march  \n",
       "4         False  Thank you very much Hello? can I can you hear ...  march  "
      ]
     },
     "execution_count": 29,
     "metadata": {},
     "output_type": "execute_result"
    }
   ],
   "source": [
    "transcript_train.head()"
   ]
  },
  {
   "cell_type": "code",
   "execution_count": 30,
   "id": "da558608",
   "metadata": {},
   "outputs": [],
   "source": [
    "def partition(df):\n",
    "    df[\"length\"] = df.iloc[:,3].str.len()\n",
    "    lengths = list(df[\"length\"])\n",
    "    df[\"length_3rd\"] = df[\"length\"]//3\n",
    "    df[\"length_3rd\"] = df[\"length_3rd\"].astype(int)\n",
    "    len_3rd = list(df[\"length_3rd\"])\n",
    "    transcript_convo = list(df.iloc[:,3])\n",
    "    transcript_convo_first_3rd = []\n",
    "    transcript_convo_second_3rd = []\n",
    "    transcript_convo_third_3rd = []\n",
    "    transcript_convo_transform = []\n",
    "    for i in tqdm(range(len(transcript_convo))):\n",
    "        transcript_convo_first_3rd.append(transform)\n",
    "        transcript_convo_second_3rd.append(transcript_convo[i][len_3rd[i]:len_3rd[i]*2])\n",
    "        transcript_convo_third_3rd.append(transcript_convo[i][len_3rd[i]*2:])\n",
    "    df[\"first_3rd\"] = transcript_convo_first_3rd\n",
    "    df[\"second_3rd\"] = transcript_convo_second_3rd\n",
    "    df[\"third_3rd\"] = transcript_convo_third_3rd"
   ]
  },
  {
   "cell_type": "code",
   "execution_count": 31,
   "id": "850a86f9",
   "metadata": {},
   "outputs": [],
   "source": [
    "def new_partition(df):\n",
    "    df[\"length\"] = df.iloc[:,3].str.len()\n",
    "    #lengths = list(df[\"length\"])\n",
    "    #df[\"length_3rd\"] = df[\"length\"]//3\n",
    "    #df[\"length_3rd\"] = df[\"length_3rd\"].astype(int)\n",
    "    #len_3rd = list(df[\"length_3rd\"])\n",
    "    transcript_convo = list(df.iloc[:,3])\n",
    "    #transcript_convo_first_3rd = []\n",
    "    #transcript_convo_second_3rd = []\n",
    "    #transcript_convo_third_3rd = []\n",
    "    transcript_convo_transform = []\n",
    "    for i in tqdm(range(len(transcript_convo))):\n",
    "        transcript_convo_transform.append(transform_sentence(transcript_convo[i], 2000))\n",
    "    df[\"transcript_chunked\"] = transcript_convo_transform"
   ]
  },
  {
   "cell_type": "code",
   "execution_count": 36,
   "id": "b9e2d808",
   "metadata": {},
   "outputs": [
    {
     "name": "stderr",
     "output_type": "stream",
     "text": [
      "/tmp/ipykernel_3188/3442767910.py:2: SettingWithCopyWarning: \n",
      "A value is trying to be set on a copy of a slice from a DataFrame.\n",
      "Try using .loc[row_indexer,col_indexer] = value instead\n",
      "\n",
      "See the caveats in the documentation: https://pandas.pydata.org/pandas-docs/stable/user_guide/indexing.html#returning-a-view-versus-a-copy\n",
      "  df[\"length\"] = df.iloc[:,3].str.len()\n",
      "100%|██████████████████████████████████████████████████████████████████████| 1044431/1044431 [00:43<00:00, 24194.05it/s]\n",
      "/tmp/ipykernel_3188/3442767910.py:14: SettingWithCopyWarning: \n",
      "A value is trying to be set on a copy of a slice from a DataFrame.\n",
      "Try using .loc[row_indexer,col_indexer] = value instead\n",
      "\n",
      "See the caveats in the documentation: https://pandas.pydata.org/pandas-docs/stable/user_guide/indexing.html#returning-a-view-versus-a-copy\n",
      "  df[\"transcript_chunked\"] = transcript_convo_transform\n"
     ]
    }
   ],
   "source": [
    "new_partition(transcript_train)"
   ]
  },
  {
   "cell_type": "code",
   "execution_count": 37,
   "id": "148b0bac",
   "metadata": {},
   "outputs": [
    {
     "name": "stderr",
     "output_type": "stream",
     "text": [
      "/tmp/ipykernel_3188/3442767910.py:2: SettingWithCopyWarning: \n",
      "A value is trying to be set on a copy of a slice from a DataFrame.\n",
      "Try using .loc[row_indexer,col_indexer] = value instead\n",
      "\n",
      "See the caveats in the documentation: https://pandas.pydata.org/pandas-docs/stable/user_guide/indexing.html#returning-a-view-versus-a-copy\n",
      "  df[\"length\"] = df.iloc[:,3].str.len()\n",
      "100%|████████████████████████████████████████████████████████████████████████| 218213/218213 [00:09<00:00, 22876.10it/s]\n",
      "/tmp/ipykernel_3188/3442767910.py:14: SettingWithCopyWarning: \n",
      "A value is trying to be set on a copy of a slice from a DataFrame.\n",
      "Try using .loc[row_indexer,col_indexer] = value instead\n",
      "\n",
      "See the caveats in the documentation: https://pandas.pydata.org/pandas-docs/stable/user_guide/indexing.html#returning-a-view-versus-a-copy\n",
      "  df[\"transcript_chunked\"] = transcript_convo_transform\n"
     ]
    }
   ],
   "source": [
    "new_partition(transcript_test)"
   ]
  },
  {
   "cell_type": "code",
   "execution_count": 38,
   "id": "86c80be9",
   "metadata": {},
   "outputs": [
    {
     "data": {
      "text/html": [
       "<div>\n",
       "<style scoped>\n",
       "    .dataframe tbody tr th:only-of-type {\n",
       "        vertical-align: middle;\n",
       "    }\n",
       "\n",
       "    .dataframe tbody tr th {\n",
       "        vertical-align: top;\n",
       "    }\n",
       "\n",
       "    .dataframe thead th {\n",
       "        text-align: right;\n",
       "    }\n",
       "</style>\n",
       "<table border=\"1\" class=\"dataframe\">\n",
       "  <thead>\n",
       "    <tr style=\"text-align: right;\">\n",
       "      <th></th>\n",
       "      <th>id</th>\n",
       "      <th>sales_offer_date</th>\n",
       "      <th>accepted_flg</th>\n",
       "      <th>encrypted_collated_transcription</th>\n",
       "      <th>month</th>\n",
       "      <th>length</th>\n",
       "      <th>transcript_chunked</th>\n",
       "    </tr>\n",
       "  </thead>\n",
       "  <tbody>\n",
       "    <tr>\n",
       "      <th>0</th>\n",
       "      <td>e5e4ee3c3c0e9ac72561334e6eb23cc233b1bcd0a0063d...</td>\n",
       "      <td>2022-03-26</td>\n",
       "      <td>False</td>\n",
       "      <td>ok Thank for calling [CLIENT] Tech Hello? Hi. ...</td>\n",
       "      <td>march</td>\n",
       "      <td>7054</td>\n",
       "      <td>[ok Thank for calling [CLIENT] Tech Hello? Hi....</td>\n",
       "    </tr>\n",
       "    <tr>\n",
       "      <th>1</th>\n",
       "      <td>ae6128d8d240d28edbcb7eb27256780cf662a2be1aec8c...</td>\n",
       "      <td>2022-03-02</td>\n",
       "      <td>False</td>\n",
       "      <td>on on Oh, My name is [NAME]. May I please have...</td>\n",
       "      <td>march</td>\n",
       "      <td>7467</td>\n",
       "      <td>[on on Oh, My name is [NAME]. May I please hav...</td>\n",
       "    </tr>\n",
       "    <tr>\n",
       "      <th>2</th>\n",
       "      <td>4899f9acdb70b0246b2d0ac2871dbcea8267e57b060154...</td>\n",
       "      <td>2022-03-12</td>\n",
       "      <td>False</td>\n",
       "      <td>Hello. We for calling [CLIENT] Tech Coach. My ...</td>\n",
       "      <td>march</td>\n",
       "      <td>3953</td>\n",
       "      <td>[Hello. We for calling [CLIENT] Tech Coach. My...</td>\n",
       "    </tr>\n",
       "    <tr>\n",
       "      <th>3</th>\n",
       "      <td>0589751e11caac0eac815faf84f1a366d70b86b78324a2...</td>\n",
       "      <td>2022-03-20</td>\n",
       "      <td>False</td>\n",
       "      <td>Hello. Thank you so much for contacting [CLIEN...</td>\n",
       "      <td>march</td>\n",
       "      <td>6998</td>\n",
       "      <td>[Hello. Thank you so much for contacting [CLIE...</td>\n",
       "    </tr>\n",
       "    <tr>\n",
       "      <th>4</th>\n",
       "      <td>6c4790cb02e4f556d73436f79268d5c99de50a9acec40e...</td>\n",
       "      <td>2022-03-15</td>\n",
       "      <td>False</td>\n",
       "      <td>Thank you very much Hello? can I can you hear ...</td>\n",
       "      <td>march</td>\n",
       "      <td>7550</td>\n",
       "      <td>[Thank you very much Hello? can I can you hear...</td>\n",
       "    </tr>\n",
       "  </tbody>\n",
       "</table>\n",
       "</div>"
      ],
      "text/plain": [
       "                                                  id sales_offer_date  \\\n",
       "0  e5e4ee3c3c0e9ac72561334e6eb23cc233b1bcd0a0063d...       2022-03-26   \n",
       "1  ae6128d8d240d28edbcb7eb27256780cf662a2be1aec8c...       2022-03-02   \n",
       "2  4899f9acdb70b0246b2d0ac2871dbcea8267e57b060154...       2022-03-12   \n",
       "3  0589751e11caac0eac815faf84f1a366d70b86b78324a2...       2022-03-20   \n",
       "4  6c4790cb02e4f556d73436f79268d5c99de50a9acec40e...       2022-03-15   \n",
       "\n",
       "   accepted_flg                   encrypted_collated_transcription  month  \\\n",
       "0         False  ok Thank for calling [CLIENT] Tech Hello? Hi. ...  march   \n",
       "1         False  on on Oh, My name is [NAME]. May I please have...  march   \n",
       "2         False  Hello. We for calling [CLIENT] Tech Coach. My ...  march   \n",
       "3         False  Hello. Thank you so much for contacting [CLIEN...  march   \n",
       "4         False  Thank you very much Hello? can I can you hear ...  march   \n",
       "\n",
       "   length                                 transcript_chunked  \n",
       "0    7054  [ok Thank for calling [CLIENT] Tech Hello? Hi....  \n",
       "1    7467  [on on Oh, My name is [NAME]. May I please hav...  \n",
       "2    3953  [Hello. We for calling [CLIENT] Tech Coach. My...  \n",
       "3    6998  [Hello. Thank you so much for contacting [CLIE...  \n",
       "4    7550  [Thank you very much Hello? can I can you hear...  "
      ]
     },
     "execution_count": 38,
     "metadata": {},
     "output_type": "execute_result"
    }
   ],
   "source": [
    "transcript_train.head()"
   ]
  },
  {
   "cell_type": "code",
   "execution_count": 39,
   "id": "be3851f3",
   "metadata": {},
   "outputs": [
    {
     "data": {
      "text/html": [
       "<div>\n",
       "<style scoped>\n",
       "    .dataframe tbody tr th:only-of-type {\n",
       "        vertical-align: middle;\n",
       "    }\n",
       "\n",
       "    .dataframe tbody tr th {\n",
       "        vertical-align: top;\n",
       "    }\n",
       "\n",
       "    .dataframe thead th {\n",
       "        text-align: right;\n",
       "    }\n",
       "</style>\n",
       "<table border=\"1\" class=\"dataframe\">\n",
       "  <thead>\n",
       "    <tr style=\"text-align: right;\">\n",
       "      <th></th>\n",
       "      <th>id</th>\n",
       "      <th>sales_offer_date</th>\n",
       "      <th>accepted_flg</th>\n",
       "      <th>encrypted_collated_transcription</th>\n",
       "      <th>month</th>\n",
       "      <th>length</th>\n",
       "      <th>transcript_chunked</th>\n",
       "    </tr>\n",
       "  </thead>\n",
       "  <tbody>\n",
       "    <tr>\n",
       "      <th>1044431</th>\n",
       "      <td>4ea0f36550494fca16e9cde513b6981a0b276dc09b8dd9...</td>\n",
       "      <td>2022-07-15</td>\n",
       "      <td>False</td>\n",
       "      <td>hi Thank for calling [CLIENT] coach [CLIENT]. ...</td>\n",
       "      <td>july</td>\n",
       "      <td>19202</td>\n",
       "      <td>[hi Thank for calling [CLIENT] coach [CLIENT]....</td>\n",
       "    </tr>\n",
       "    <tr>\n",
       "      <th>1044432</th>\n",
       "      <td>281a94c5a1b46b125f590644613579e36304ae9cbaf75a...</td>\n",
       "      <td>2022-07-04</td>\n",
       "      <td>False</td>\n",
       "      <td>Thank you for calling [CLIENT] Tech Coach. My ...</td>\n",
       "      <td>july</td>\n",
       "      <td>8179</td>\n",
       "      <td>[Thank you for calling [CLIENT] Tech Coach. My...</td>\n",
       "    </tr>\n",
       "    <tr>\n",
       "      <th>1044433</th>\n",
       "      <td>a44023139d02e9c8670acbfeeee97d4e158196771d09f7...</td>\n",
       "      <td>2022-07-30</td>\n",
       "      <td>False</td>\n",
       "      <td>Hi. Thank you for calling [CLIENT] Tech Coach....</td>\n",
       "      <td>july</td>\n",
       "      <td>3655</td>\n",
       "      <td>[Hi. Thank you for calling [CLIENT] Tech Coach...</td>\n",
       "    </tr>\n",
       "    <tr>\n",
       "      <th>1044434</th>\n",
       "      <td>1336eca614e19d8e1540b8120062504a9d3f728609dcc1...</td>\n",
       "      <td>2022-07-21</td>\n",
       "      <td>False</td>\n",
       "      <td>Good afternoon. Thank you for calling [CLIENT]...</td>\n",
       "      <td>july</td>\n",
       "      <td>9055</td>\n",
       "      <td>[Good afternoon. Thank you for calling [CLIENT...</td>\n",
       "    </tr>\n",
       "    <tr>\n",
       "      <th>1044435</th>\n",
       "      <td>5188a2fd5ca86d4e9a40ea308ea7f938fce1bf06484dfa...</td>\n",
       "      <td>2022-07-06</td>\n",
       "      <td>False</td>\n",
       "      <td>Good for your amount of [CLIENT]. tech coach y...</td>\n",
       "      <td>july</td>\n",
       "      <td>2318</td>\n",
       "      <td>[Good for your amount of [CLIENT]. tech coach ...</td>\n",
       "    </tr>\n",
       "  </tbody>\n",
       "</table>\n",
       "</div>"
      ],
      "text/plain": [
       "                                                        id sales_offer_date  \\\n",
       "1044431  4ea0f36550494fca16e9cde513b6981a0b276dc09b8dd9...       2022-07-15   \n",
       "1044432  281a94c5a1b46b125f590644613579e36304ae9cbaf75a...       2022-07-04   \n",
       "1044433  a44023139d02e9c8670acbfeeee97d4e158196771d09f7...       2022-07-30   \n",
       "1044434  1336eca614e19d8e1540b8120062504a9d3f728609dcc1...       2022-07-21   \n",
       "1044435  5188a2fd5ca86d4e9a40ea308ea7f938fce1bf06484dfa...       2022-07-06   \n",
       "\n",
       "         accepted_flg                   encrypted_collated_transcription  \\\n",
       "1044431         False  hi Thank for calling [CLIENT] coach [CLIENT]. ...   \n",
       "1044432         False  Thank you for calling [CLIENT] Tech Coach. My ...   \n",
       "1044433         False  Hi. Thank you for calling [CLIENT] Tech Coach....   \n",
       "1044434         False  Good afternoon. Thank you for calling [CLIENT]...   \n",
       "1044435         False  Good for your amount of [CLIENT]. tech coach y...   \n",
       "\n",
       "        month  length                                 transcript_chunked  \n",
       "1044431  july   19202  [hi Thank for calling [CLIENT] coach [CLIENT]....  \n",
       "1044432  july    8179  [Thank you for calling [CLIENT] Tech Coach. My...  \n",
       "1044433  july    3655  [Hi. Thank you for calling [CLIENT] Tech Coach...  \n",
       "1044434  july    9055  [Good afternoon. Thank you for calling [CLIENT...  \n",
       "1044435  july    2318  [Good for your amount of [CLIENT]. tech coach ...  "
      ]
     },
     "execution_count": 39,
     "metadata": {},
     "output_type": "execute_result"
    }
   ],
   "source": [
    "transcript_test.head()"
   ]
  },
  {
   "cell_type": "code",
   "execution_count": 40,
   "id": "2416eb58",
   "metadata": {},
   "outputs": [],
   "source": [
    "transcript_train.to_csv(\"fe_data_v2/transcript_data/transcript_train_data_neo.csv\", index = False)"
   ]
  },
  {
   "cell_type": "code",
   "execution_count": 41,
   "id": "22362369",
   "metadata": {},
   "outputs": [],
   "source": [
    "transcript_test.to_csv(\"fe_data_v2/transcript_data/transcript_test_data_neo.csv\", index = False)"
   ]
  },
  {
   "cell_type": "code",
   "execution_count": 42,
   "id": "08bf00ba",
   "metadata": {},
   "outputs": [],
   "source": [
    "mega_sentence = transcript_train[transcript_train[\"length\"] == max(transcript_train[\"length\"])][\"encrypted_collated_transcription\"]"
   ]
  },
  {
   "cell_type": "code",
   "execution_count": 43,
   "id": "dcc88bfc",
   "metadata": {},
   "outputs": [
    {
     "data": {
      "text/plain": [
       "40"
      ]
     },
     "execution_count": 43,
     "metadata": {},
     "output_type": "execute_result"
    }
   ],
   "source": [
    "mega_list = transform_sentence(transcript_train.iloc[464188, 3], 2000)\n",
    "len(mega_list)"
   ]
  },
  {
   "cell_type": "markdown",
   "id": "003b6d31",
   "metadata": {},
   "source": [
    "#### Concatenation function "
   ]
  },
  {
   "cell_type": "markdown",
   "id": "770eb4a8",
   "metadata": {},
   "source": [
    "##### This is a potential solution for concatenating your summarized data"
   ]
  },
  {
   "cell_type": "code",
   "execution_count": 44,
   "id": "e547584f",
   "metadata": {},
   "outputs": [
    {
     "data": {
      "text/plain": [
       "4"
      ]
     },
     "execution_count": 44,
     "metadata": {},
     "output_type": "execute_result"
    }
   ],
   "source": [
    "list_of_list = list(transcript_train[\"transcript_chunked\"])\n",
    "len(list_of_list[0])"
   ]
  },
  {
   "cell_type": "code",
   "execution_count": 45,
   "id": "c9d95b5e",
   "metadata": {},
   "outputs": [],
   "source": [
    "def concatenate_sentence(chunked_list):\n",
    "    summary = \"\"\n",
    "    for i in range(len(chunked_list)):\n",
    "        summary += chunked_list[i]\n",
    "    return summary"
   ]
  },
  {
   "cell_type": "code",
   "execution_count": 46,
   "id": "0df117db",
   "metadata": {},
   "outputs": [
    {
     "name": "stderr",
     "output_type": "stream",
     "text": [
      "100%|█████████████████████████████████████████████████████████████████████| 1044431/1044431 [00:05<00:00, 185289.21it/s]\n"
     ]
    }
   ],
   "source": [
    "summary_lists = []\n",
    "for i in tqdm(range(len(list_of_list))):\n",
    "    summary_lists.append(concatenate_sentence(list_of_list[i]))"
   ]
  },
  {
   "cell_type": "code",
   "execution_count": 47,
   "id": "9f27a375",
   "metadata": {},
   "outputs": [
    {
     "data": {
      "text/plain": [
       "7054"
      ]
     },
     "execution_count": 47,
     "metadata": {},
     "output_type": "execute_result"
    }
   ],
   "source": [
    "len(summary_lists[0])"
   ]
  },
  {
   "cell_type": "code",
   "execution_count": null,
   "id": "0990f920",
   "metadata": {},
   "outputs": [],
   "source": []
  }
 ],
 "metadata": {
  "kernelspec": {
   "display_name": "Python 3 (ipykernel)",
   "language": "python",
   "name": "python3"
  },
  "language_info": {
   "codemirror_mode": {
    "name": "ipython",
    "version": 3
   },
   "file_extension": ".py",
   "mimetype": "text/x-python",
   "name": "python",
   "nbconvert_exporter": "python",
   "pygments_lexer": "ipython3",
   "version": "3.8.13"
  }
 },
 "nbformat": 4,
 "nbformat_minor": 5
}
