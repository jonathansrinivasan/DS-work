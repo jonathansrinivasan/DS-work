{
 "cells": [
  {
   "cell_type": "code",
   "execution_count": 1,
   "id": "25357ca9",
   "metadata": {},
   "outputs": [],
   "source": [
    "import pandas as pd"
   ]
  },
  {
   "cell_type": "code",
   "execution_count": 2,
   "id": "a9a5175d",
   "metadata": {},
   "outputs": [
    {
     "name": "stdout",
     "output_type": "stream",
     "text": [
      "/workspace/asurion_f22_muby/parallel_sentiment_data\n"
     ]
    }
   ],
   "source": [
    "%cd parallel_sentiment_data/"
   ]
  },
  {
   "cell_type": "code",
   "execution_count": 3,
   "id": "913470fd",
   "metadata": {},
   "outputs": [],
   "source": [
    "df_total = pd.DataFrame()"
   ]
  },
  {
   "cell_type": "code",
   "execution_count": 4,
   "id": "f30169f2",
   "metadata": {},
   "outputs": [],
   "source": [
    "import os\n",
    "data_list = os.listdir()\n",
    "for data in data_list:\n",
    "    if \".csv\" in data:\n",
    "        df = pd.read_csv(data)\n",
    "        df_total = pd.concat([df_total,df], axis = 0)"
   ]
  },
  {
   "cell_type": "code",
   "execution_count": 5,
   "id": "0921162c",
   "metadata": {},
   "outputs": [
    {
     "data": {
      "text/html": [
       "<div>\n",
       "<style scoped>\n",
       "    .dataframe tbody tr th:only-of-type {\n",
       "        vertical-align: middle;\n",
       "    }\n",
       "\n",
       "    .dataframe tbody tr th {\n",
       "        vertical-align: top;\n",
       "    }\n",
       "\n",
       "    .dataframe thead th {\n",
       "        text-align: right;\n",
       "    }\n",
       "</style>\n",
       "<table border=\"1\" class=\"dataframe\">\n",
       "  <thead>\n",
       "    <tr style=\"text-align: right;\">\n",
       "      <th></th>\n",
       "      <th>id</th>\n",
       "      <th>sentiment</th>\n",
       "    </tr>\n",
       "  </thead>\n",
       "  <tbody>\n",
       "    <tr>\n",
       "      <th>0</th>\n",
       "      <td>2cdda4788e56e290ecad94d45a25ccdadf050019bb0ce5...</td>\n",
       "      <td>positive</td>\n",
       "    </tr>\n",
       "    <tr>\n",
       "      <th>1</th>\n",
       "      <td>a686f772137d009456160c254b69d605ef32c5417a96dc...</td>\n",
       "      <td>negative</td>\n",
       "    </tr>\n",
       "    <tr>\n",
       "      <th>2</th>\n",
       "      <td>a7ce4564ada61221840ba874aa8a6b14b5aa9b05ed8129...</td>\n",
       "      <td>negative</td>\n",
       "    </tr>\n",
       "    <tr>\n",
       "      <th>3</th>\n",
       "      <td>5ad3f9f18a450b1518d93f7af4af48228e8e1384bd4718...</td>\n",
       "      <td>positive</td>\n",
       "    </tr>\n",
       "    <tr>\n",
       "      <th>4</th>\n",
       "      <td>a5124084349acd6e77a8c4c0df0e0bb10a92821930fc87...</td>\n",
       "      <td>positive</td>\n",
       "    </tr>\n",
       "  </tbody>\n",
       "</table>\n",
       "</div>"
      ],
      "text/plain": [
       "                                                  id sentiment\n",
       "0  2cdda4788e56e290ecad94d45a25ccdadf050019bb0ce5...  positive\n",
       "1  a686f772137d009456160c254b69d605ef32c5417a96dc...  negative\n",
       "2  a7ce4564ada61221840ba874aa8a6b14b5aa9b05ed8129...  negative\n",
       "3  5ad3f9f18a450b1518d93f7af4af48228e8e1384bd4718...  positive\n",
       "4  a5124084349acd6e77a8c4c0df0e0bb10a92821930fc87...  positive"
      ]
     },
     "execution_count": 5,
     "metadata": {},
     "output_type": "execute_result"
    }
   ],
   "source": [
    "df_total.head()"
   ]
  },
  {
   "cell_type": "code",
   "execution_count": 6,
   "id": "ce926bad",
   "metadata": {},
   "outputs": [
    {
     "data": {
      "text/plain": [
       "1262643"
      ]
     },
     "execution_count": 6,
     "metadata": {},
     "output_type": "execute_result"
    }
   ],
   "source": [
    "len(df_total)"
   ]
  },
  {
   "cell_type": "code",
   "execution_count": 7,
   "id": "3f43f6bf",
   "metadata": {},
   "outputs": [
    {
     "name": "stdout",
     "output_type": "stream",
     "text": [
      "/workspace/asurion_f22_muby\n"
     ]
    }
   ],
   "source": [
    "%cd .."
   ]
  },
  {
   "cell_type": "code",
   "execution_count": 8,
   "id": "7271072a",
   "metadata": {},
   "outputs": [],
   "source": [
    "df_transcript_summary = pd.read_csv(\"fe_data_v2/transcript_data_use/transcript_summary.csv\")"
   ]
  },
  {
   "cell_type": "code",
   "execution_count": 9,
   "id": "2206da43",
   "metadata": {},
   "outputs": [],
   "source": [
    "df_summary_train = df_transcript_summary[df_transcript_summary[\"month\"] != \"july\"]\n",
    "df_summary_test = df_transcript_summary[df_transcript_summary[\"month\"] == \"july\"]"
   ]
  },
  {
   "cell_type": "code",
   "execution_count": 10,
   "id": "13fadd4e",
   "metadata": {},
   "outputs": [],
   "source": [
    "df_train = df_total.merge(df_summary_train, on = \"id\", how = \"inner\")"
   ]
  },
  {
   "cell_type": "code",
   "execution_count": 11,
   "id": "c5dd5a5a",
   "metadata": {},
   "outputs": [],
   "source": [
    "df_test = df_total.merge(df_summary_test, on = \"id\", how = \"inner\")"
   ]
  },
  {
   "cell_type": "code",
   "execution_count": 12,
   "id": "ca09ff01",
   "metadata": {},
   "outputs": [
    {
     "data": {
      "text/plain": [
       "1044430"
      ]
     },
     "execution_count": 12,
     "metadata": {},
     "output_type": "execute_result"
    }
   ],
   "source": [
    "len(df_train)"
   ]
  },
  {
   "cell_type": "code",
   "execution_count": 13,
   "id": "32c175b2",
   "metadata": {},
   "outputs": [
    {
     "data": {
      "text/plain": [
       "218213"
      ]
     },
     "execution_count": 13,
     "metadata": {},
     "output_type": "execute_result"
    }
   ],
   "source": [
    "len(df_test)"
   ]
  },
  {
   "cell_type": "code",
   "execution_count": 14,
   "id": "2b7a56c6",
   "metadata": {},
   "outputs": [],
   "source": [
    "df_train = df_train[[\"id\",\"sentiment\"]]\n",
    "df_test = df_test[[\"id\",\"sentiment\"]]"
   ]
  },
  {
   "cell_type": "code",
   "execution_count": 15,
   "id": "cb7138a5",
   "metadata": {},
   "outputs": [],
   "source": [
    "df_train.to_csv(\"fe_data_v2/sentiment_data/sentiment_train.csv\", index = False)\n",
    "df_test.to_csv(\"fe_data_v2/sentiment_data/sentiment_test.csv\", index = False)"
   ]
  },
  {
   "cell_type": "code",
   "execution_count": null,
   "id": "83f55364",
   "metadata": {},
   "outputs": [],
   "source": []
  }
 ],
 "metadata": {
  "kernelspec": {
   "display_name": "Python 3 (ipykernel)",
   "language": "python",
   "name": "python3"
  },
  "language_info": {
   "codemirror_mode": {
    "name": "ipython",
    "version": 3
   },
   "file_extension": ".py",
   "mimetype": "text/x-python",
   "name": "python",
   "nbconvert_exporter": "python",
   "pygments_lexer": "ipython3",
   "version": "3.8.13"
  }
 },
 "nbformat": 4,
 "nbformat_minor": 5
}
