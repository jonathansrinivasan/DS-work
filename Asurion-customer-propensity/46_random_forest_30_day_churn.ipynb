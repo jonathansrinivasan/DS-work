{
 "cells": [
  {
   "cell_type": "code",
   "execution_count": 57,
   "id": "c1c6274e",
   "metadata": {},
   "outputs": [
    {
     "data": {
      "text/plain": [
       "'/workspace/asurion_f22_wut/fe_data_v3/30_day_churn_data'"
      ]
     },
     "execution_count": 57,
     "metadata": {},
     "output_type": "execute_result"
    }
   ],
   "source": [
    "%pwd"
   ]
  },
  {
   "cell_type": "code",
   "execution_count": 8,
   "id": "dbb7098f",
   "metadata": {},
   "outputs": [
    {
     "name": "stdout",
     "output_type": "stream",
     "text": [
      "/workspace/asurion_f22_wut\n"
     ]
    }
   ],
   "source": [
    "%cd .."
   ]
  },
  {
   "cell_type": "code",
   "execution_count": 9,
   "id": "1be2ea54",
   "metadata": {},
   "outputs": [
    {
     "name": "stdout",
     "output_type": "stream",
     "text": [
      "/workspace/asurion_f22_wut/fe_data_v3\n"
     ]
    }
   ],
   "source": [
    "%cd fe_data_v3"
   ]
  },
  {
   "cell_type": "code",
   "execution_count": 10,
   "id": "5a588cf1",
   "metadata": {},
   "outputs": [
    {
     "name": "stdout",
     "output_type": "stream",
     "text": [
      "\u001b[0m\u001b[01;34m30_day_churn_data\u001b[0m/  \u001b[01;34m90_day_churn_data\u001b[0m/  \u001b[01;34mtotal_sale_data\u001b[0m/\n",
      "\u001b[01;34m7_day_churn_data\u001b[0m/   \u001b[01;34msale_data\u001b[0m/          \u001b[01;34mtranscript_data\u001b[0m/\n"
     ]
    }
   ],
   "source": [
    "%ls"
   ]
  },
  {
   "cell_type": "code",
   "execution_count": 11,
   "id": "ef69b408",
   "metadata": {},
   "outputs": [
    {
     "name": "stdout",
     "output_type": "stream",
     "text": [
      "/workspace/asurion_f22_wut/fe_data_v3/30_day_churn_data\n"
     ]
    }
   ],
   "source": [
    "%cd 30_day_churn_data"
   ]
  },
  {
   "cell_type": "code",
   "execution_count": 58,
   "id": "7dfe0f6e",
   "metadata": {},
   "outputs": [
    {
     "name": "stdout",
     "output_type": "stream",
     "text": [
      "feature_importances_thirty_day_churn_rf.csv  test_30d_encoded.csv\n",
      "rf_thirty_day_churn.pkl                      train_30d_encoded.csv\n"
     ]
    }
   ],
   "source": [
    "%ls"
   ]
  },
  {
   "cell_type": "code",
   "execution_count": 59,
   "id": "cea06b8e",
   "metadata": {},
   "outputs": [],
   "source": [
    "import pandas as pd\n",
    "import numpy as np\n",
    "# import seaborn\n",
    "import matplotlib.pyplot as plt\n",
    "%matplotlib inline\n",
    "\n",
    "import pickle\n",
    "import joblib\n",
    "import time\n",
    "\n",
    "\n",
    "from sklearn.model_selection import train_test_split, GridSearchCV\n",
    "from sklearn.ensemble import RandomForestClassifier\n",
    "from sklearn import config_context\n",
    "from sklearn.metrics import classification_report, confusion_matrix, ConfusionMatrixDisplay\n",
    "from sklearn.metrics import accuracy_score, mean_squared_error\n",
    "from sklearn.preprocessing import MinMaxScaler\n",
    "from sklearn.pipeline import Pipeline\n",
    "from sklearn.compose import ColumnTransformer\n",
    "from sklearn.preprocessing import OneHotEncoder\n",
    "from sklearn.model_selection import train_test_split \n",
    "from sklearn.model_selection import cross_val_predict \n",
    "from sklearn.model_selection import cross_val_score \n",
    "from sklearn.feature_selection import RFECV\n",
    "from sklearn.metrics import precision_score, f1_score, recall_score, confusion_matrix, accuracy_score, roc_auc_score\n",
    "\n",
    "pd.set_option('display.max_columns', None)\n",
    "pd.set_option('display.max_rows', 500)\n",
    "pd.set_option('display.float_format', '{:.2f}'.format)\n",
    "\n",
    "import warnings\n",
    "warnings.filterwarnings('ignore')"
   ]
  },
  {
   "cell_type": "code",
   "execution_count": 66,
   "id": "14abe06a",
   "metadata": {},
   "outputs": [],
   "source": [
    "train_df = pd.read_csv('train_30d_encoded.csv', index_col='id')"
   ]
  },
  {
   "cell_type": "code",
   "execution_count": 67,
   "id": "dfb861fa",
   "metadata": {},
   "outputs": [],
   "source": [
    "test_df = pd.read_csv('test_30d_encoded.csv', index_col='id')"
   ]
  },
  {
   "cell_type": "code",
   "execution_count": 68,
   "id": "6e444926",
   "metadata": {},
   "outputs": [],
   "source": [
    "cols = ['clndr_dt_cst', 'start_dt', 'zipcode', 'county', 'state', \n",
    "         'state_code', 'latitude', 'longitude', 'hh_income_code', 'month','quality_sale']"
   ]
  },
  {
   "cell_type": "code",
   "execution_count": 69,
   "id": "ad4e09bf",
   "metadata": {},
   "outputs": [],
   "source": [
    "test_df.drop(columns = cols, inplace = True)\n",
    "test_df = test_df[(test_df['zipcode_accepted_prop'].isnull()==False)& (test_df['zipcode_rejected_offers'].isnull()==False)& \n",
    "            (test_df['zipcode_accepted_offers'].isnull()==False)&(test_df['zipcode_total_offers'].isnull()==False)]"
   ]
  },
  {
   "cell_type": "code",
   "execution_count": 70,
   "id": "926025d4",
   "metadata": {},
   "outputs": [
    {
     "name": "stdout",
     "output_type": "stream",
     "text": [
      "<class 'pandas.core.frame.DataFrame'>\n",
      "Index: 18316 entries, 317874eac956ff7012276c7afd08c2730a125245715fd635a866b148 to bed85bfdbd02f078a984e37353307414d42baf40eb7a1b34569c1bd6\n",
      "Data columns (total 31 columns):\n",
      " #   Column                      Non-Null Count  Dtype  \n",
      "---  ------                      --------------  -----  \n",
      " 0   thirty_day_churn            18316 non-null  float64\n",
      " 1   lines                       18316 non-null  int64  \n",
      " 2   previous_tech_support_call  18316 non-null  int64  \n",
      " 3   account_tenure              18316 non-null  int64  \n",
      " 4   past_yr_claim_count         18316 non-null  int64  \n",
      " 5   num_decline                 18316 non-null  int64  \n",
      " 6   exp                         18316 non-null  int64  \n",
      " 7   product_type                18316 non-null  object \n",
      " 8   pmake                       18316 non-null  object \n",
      " 9   claritas_hh_count           18316 non-null  int64  \n",
      " 10  technodoption_class         18316 non-null  object \n",
      " 11  hh_income                   18316 non-null  object \n",
      " 12  age_class                   18316 non-null  object \n",
      " 13  hh_education                18316 non-null  object \n",
      " 14  hh_composition              18316 non-null  object \n",
      " 15  hh_tenure                   18316 non-null  object \n",
      " 16  urbanicity                  18316 non-null  object \n",
      " 17  median_income               18316 non-null  int64  \n",
      " 18  total_population            18316 non-null  int64  \n",
      " 19  perc_female                 18316 non-null  int64  \n",
      " 20  perc_under18                18316 non-null  int64  \n",
      " 21  perc_over65                 18316 non-null  int64  \n",
      " 22  perc_white                  18316 non-null  int64  \n",
      " 23  perc_black                  18316 non-null  int64  \n",
      " 24  population_density          18316 non-null  int64  \n",
      " 25  day_of_week                 18316 non-null  object \n",
      " 26  time_of_day                 18316 non-null  int64  \n",
      " 27  zipcode_accepted_prop       18316 non-null  float64\n",
      " 28  zipcode_rejected_offers     18316 non-null  float64\n",
      " 29  zipcode_accepted_offers     18316 non-null  float64\n",
      " 30  zipcode_total_offers        18316 non-null  float64\n",
      "dtypes: float64(5), int64(16), object(10)\n",
      "memory usage: 4.5+ MB\n"
     ]
    }
   ],
   "source": [
    "test_df.info()"
   ]
  },
  {
   "cell_type": "code",
   "execution_count": 71,
   "id": "73965132",
   "metadata": {},
   "outputs": [
    {
     "data": {
      "text/plain": [
       "(array([0., 1.]), array([15257,  3059]))"
      ]
     },
     "execution_count": 71,
     "metadata": {},
     "output_type": "execute_result"
    }
   ],
   "source": [
    "np.unique(test_df['thirty_day_churn'], return_counts = True)"
   ]
  },
  {
   "cell_type": "code",
   "execution_count": 72,
   "id": "def79d4b",
   "metadata": {},
   "outputs": [],
   "source": [
    "train_df.drop(columns = cols, inplace = True)\n",
    "train_df = train_df[(train_df['zipcode_accepted_prop'].isnull()==False)& (train_df['zipcode_rejected_offers'].isnull()==False)& \n",
    "            (train_df['zipcode_accepted_offers'].isnull()==False)&(train_df['zipcode_total_offers'].isnull()==False)]"
   ]
  },
  {
   "cell_type": "code",
   "execution_count": 73,
   "id": "6f0dae97",
   "metadata": {},
   "outputs": [
    {
     "name": "stdout",
     "output_type": "stream",
     "text": [
      "<class 'pandas.core.frame.DataFrame'>\n",
      "Index: 84339 entries, 68943556bf63277816d843ffb129e23ffe60bc5b982603ec9519659a to 4644f9d78e15ade04ac732eedd8944c2e918e81b288f0cadd481abbd\n",
      "Data columns (total 31 columns):\n",
      " #   Column                      Non-Null Count  Dtype  \n",
      "---  ------                      --------------  -----  \n",
      " 0   thirty_day_churn            84339 non-null  float64\n",
      " 1   lines                       84339 non-null  int64  \n",
      " 2   previous_tech_support_call  84339 non-null  int64  \n",
      " 3   account_tenure              84339 non-null  int64  \n",
      " 4   past_yr_claim_count         84339 non-null  int64  \n",
      " 5   num_decline                 84339 non-null  int64  \n",
      " 6   exp                         84339 non-null  int64  \n",
      " 7   product_type                84339 non-null  object \n",
      " 8   pmake                       84339 non-null  object \n",
      " 9   claritas_hh_count           84339 non-null  int64  \n",
      " 10  technodoption_class         84339 non-null  object \n",
      " 11  hh_income                   84339 non-null  object \n",
      " 12  age_class                   84339 non-null  object \n",
      " 13  hh_education                84339 non-null  object \n",
      " 14  hh_composition              84339 non-null  object \n",
      " 15  hh_tenure                   84339 non-null  object \n",
      " 16  urbanicity                  84339 non-null  object \n",
      " 17  median_income               84339 non-null  int64  \n",
      " 18  total_population            84339 non-null  int64  \n",
      " 19  perc_female                 84339 non-null  int64  \n",
      " 20  perc_under18                84339 non-null  int64  \n",
      " 21  perc_over65                 84339 non-null  int64  \n",
      " 22  perc_white                  84339 non-null  int64  \n",
      " 23  perc_black                  84339 non-null  int64  \n",
      " 24  population_density          84339 non-null  int64  \n",
      " 25  day_of_week                 84339 non-null  object \n",
      " 26  time_of_day                 84339 non-null  int64  \n",
      " 27  zipcode_accepted_prop       84339 non-null  float64\n",
      " 28  zipcode_rejected_offers     84339 non-null  float64\n",
      " 29  zipcode_accepted_offers     84339 non-null  float64\n",
      " 30  zipcode_total_offers        84339 non-null  float64\n",
      "dtypes: float64(5), int64(16), object(10)\n",
      "memory usage: 20.6+ MB\n"
     ]
    }
   ],
   "source": [
    "train_df.info()"
   ]
  },
  {
   "cell_type": "code",
   "execution_count": 74,
   "id": "fc34797b",
   "metadata": {},
   "outputs": [
    {
     "data": {
      "text/plain": [
       "(array([0., 1.]), array([71076, 13263]))"
      ]
     },
     "execution_count": 74,
     "metadata": {},
     "output_type": "execute_result"
    }
   ],
   "source": [
    "np.unique(train_df['thirty_day_churn'], return_counts = True)"
   ]
  },
  {
   "cell_type": "code",
   "execution_count": 75,
   "id": "3f49492e",
   "metadata": {},
   "outputs": [
    {
     "data": {
      "text/plain": [
       "30"
      ]
     },
     "execution_count": 75,
     "metadata": {},
     "output_type": "execute_result"
    }
   ],
   "source": [
    "num_list = ['lines', 'previous_tech_support_call', 'account_tenure', 'past_yr_claim_count', 'num_decline', \n",
    "            'claritas_hh_count', 'median_income', 'total_population', 'perc_female', 'perc_under18',\n",
    "            'perc_over65', 'perc_white', 'perc_black', 'population_density',\n",
    "            'zipcode_accepted_prop', 'zipcode_rejected_offers', 'zipcode_accepted_offers', 'zipcode_total_offers']\n",
    "cat_list = ['exp', 'product_type', 'pmake', 'technodoption_class', 'hh_income', 'age_class', 'hh_education', \n",
    "            'hh_composition', 'hh_tenure', 'urbanicity', 'day_of_week', 'time_of_day']\n",
    "len(num_list+cat_list)"
   ]
  },
  {
   "cell_type": "code",
   "execution_count": 76,
   "id": "77f348e9",
   "metadata": {},
   "outputs": [],
   "source": [
    "class_column = 'thirty_day_churn'\n",
    "random_seed = 20\n",
    "data = train_df.copy()\n",
    "X_train, X_test, y_train, y_test = train_test_split(data.drop(columns=class_column), data[class_column],\n",
    "                                                   test_size=0.25, random_state=random_seed, stratify=data[class_column]\n",
    "                                                   )"
   ]
  },
  {
   "cell_type": "code",
   "execution_count": 77,
   "id": "8e1da875",
   "metadata": {},
   "outputs": [],
   "source": [
    "onehot = OneHotEncoder(handle_unknown='ignore')\n",
    "minmax = MinMaxScaler()\n",
    "ct = ColumnTransformer([(\"onehot\", onehot, cat_list),(\"minmax\", minmax, num_list)])\n",
    "pipeline = Pipeline([(\"col\", ct), (\"mdl\", RandomForestClassifier(class_weight='balanced'))])"
   ]
  },
  {
   "cell_type": "code",
   "execution_count": 78,
   "id": "ef4d6a1a",
   "metadata": {},
   "outputs": [
    {
     "name": "stdout",
     "output_type": "stream",
     "text": [
      "Fitting 5 folds for each of 256 candidates, totalling 1280 fits\n",
      "best score for grid search: 0.5096003395560003\n"
     ]
    },
    {
     "data": {
      "text/plain": [
       "{'mdl__max_depth': 3,\n",
       " 'mdl__min_samples_leaf': 1,\n",
       " 'mdl__min_samples_split': 8,\n",
       " 'mdl__n_estimators': 30}"
      ]
     },
     "metadata": {},
     "output_type": "display_data"
    },
    {
     "name": "stdout",
     "output_type": "stream",
     "text": [
      "Timer: 139.44022798538208 seconds\n"
     ]
    }
   ],
   "source": [
    "tuning_grid = {'mdl__n_estimators' : [10,20,30,40],\n",
    "               'mdl__max_depth' : [2,3,4,5],\n",
    "               'mdl__min_samples_split': [5,8,11,13],\n",
    "               'mdl__min_samples_leaf': [1,3,5,7]\n",
    "               \n",
    "                }\n",
    "grid_search = GridSearchCV(pipeline, param_grid = tuning_grid, cv = 5, return_train_score=True,  verbose = 1, \n",
    "                      n_jobs = -1, scoring = 'recall')\n",
    "start=time.time()\n",
    "grid_search.fit(X_train, y_train)\n",
    "print('best score for grid search:', grid_search.best_score_)\n",
    "\n",
    "display(grid_search.best_params_)\n",
    "print('Timer:', time.time()-start, 'seconds')\n",
    "random_forest_classifier = grid_search.best_estimator_"
   ]
  },
  {
   "cell_type": "code",
   "execution_count": 79,
   "id": "aed5c805",
   "metadata": {},
   "outputs": [],
   "source": [
    "preds = random_forest_classifier.predict_proba(X_test)"
   ]
  },
  {
   "cell_type": "code",
   "execution_count": 80,
   "id": "64c5e4a6",
   "metadata": {},
   "outputs": [
    {
     "name": "stdout",
     "output_type": "stream",
     "text": [
      "[[0.53570651 0.46429349]\n",
      " [0.5126186  0.4873814 ]\n",
      " [0.53141087 0.46858913]\n",
      " ...\n",
      " [0.54723273 0.45276727]\n",
      " [0.54356727 0.45643273]\n",
      " [0.53034888 0.46965112]]\n"
     ]
    }
   ],
   "source": [
    "print(preds)"
   ]
  },
  {
   "cell_type": "code",
   "execution_count": 81,
   "id": "5768f29b",
   "metadata": {},
   "outputs": [
    {
     "name": "stdout",
     "output_type": "stream",
     "text": [
      "random_forest \n",
      " recall: 0.49728588661037393 \n",
      " precision: 0.19765072515881577 \n",
      " f1score: 0.2828716013380221 \n",
      " tn:11075, fp:6694, fn:1667, tp:1649 \n",
      "\n"
     ]
    }
   ],
   "source": [
    "threshold=0.5\n",
    "predictions = (preds[:,1] >= threshold).astype('int')\n",
    "#print(np.unique(predictions, return_counts = True))\n",
    "#print(np.unique(y_pred, return_counts = True))\n",
    "#print(y_test)\n",
    "tn, fp, fn, tp = confusion_matrix(y_test, predictions).ravel()\n",
    "print(\"random_forest\",'\\n',\n",
    "      \"recall:\",recall_score(y_test, predictions),'\\n',\n",
    "      \"precision:\",precision_score(y_test, predictions),'\\n',\n",
    "      \"f1score:\",f1_score(y_test, predictions),'\\n',\n",
    "      'tn:{}, fp:{}, fn:{}, tp:{}'.format(tn, fp, fn, tp),'\\n')"
   ]
  },
  {
   "cell_type": "code",
   "execution_count": 82,
   "id": "8b7e3698",
   "metadata": {},
   "outputs": [
    {
     "data": {
      "text/plain": [
       "['rf_thirty_day_churn.pkl']"
      ]
     },
     "execution_count": 82,
     "metadata": {},
     "output_type": "execute_result"
    }
   ],
   "source": [
    "joblib.dump(random_forest_classifier, 'rf_thirty_day_churn.pkl')"
   ]
  },
  {
   "cell_type": "code",
   "execution_count": 83,
   "id": "fb2b34d4",
   "metadata": {},
   "outputs": [],
   "source": [
    "x = test_df.drop(columns=class_column)\n",
    "y = test_df[class_column]"
   ]
  },
  {
   "cell_type": "code",
   "execution_count": 84,
   "id": "3aab8f07",
   "metadata": {},
   "outputs": [],
   "source": [
    "rf_model = joblib.load('rf_thirty_day_churn.pkl')"
   ]
  },
  {
   "cell_type": "code",
   "execution_count": 85,
   "id": "a148906b",
   "metadata": {},
   "outputs": [],
   "source": [
    "preds = rf_model.predict_proba(x)"
   ]
  },
  {
   "cell_type": "code",
   "execution_count": 86,
   "id": "77a07b01",
   "metadata": {},
   "outputs": [
    {
     "name": "stdout",
     "output_type": "stream",
     "text": [
      "random_forest_test_july \n",
      " recall: 0.4619156587119974 \n",
      " precision: 0.1943069306930693 \n",
      " f1score: 0.27354563933791504 \n",
      " tn:9398, fp:5859, fn:1646, tp:1413 \n",
      "\n"
     ]
    }
   ],
   "source": [
    "threshold=0.5\n",
    "predictions = (preds[:,1] >= threshold).astype('int')\n",
    "tn, fp, fn, tp = confusion_matrix(y, predictions).ravel()\n",
    "print(\"random_forest_test_july\",'\\n',\n",
    "      \"recall:\",recall_score(y, predictions),'\\n',\n",
    "      \"precision:\",precision_score(y, predictions),'\\n',\n",
    "      \"f1score:\",f1_score(y, predictions),'\\n',\n",
    "      'tn:{}, fp:{}, fn:{}, tp:{}'.format(tn, fp, fn, tp),'\\n')"
   ]
  },
  {
   "cell_type": "code",
   "execution_count": 87,
   "id": "e7fe0b2e",
   "metadata": {},
   "outputs": [
    {
     "name": "stdout",
     "output_type": "stream",
     "text": [
      "random_forest_test_july \n",
      " recall: 0.11474338018960445 \n",
      " precision: 0.2038327526132404 \n",
      " f1score: 0.14683120686048945 \n",
      " tn:13886, fp:1371, fn:2708, tp:351 \n",
      "\n"
     ]
    }
   ],
   "source": [
    "threshold=0.55\n",
    "predictions = (preds[:,1] >= threshold).astype('int')\n",
    "tn, fp, fn, tp = confusion_matrix(y, predictions).ravel()\n",
    "print(\"random_forest_test_july\",'\\n',\n",
    "      \"recall:\",recall_score(y, predictions),'\\n',\n",
    "      \"precision:\",precision_score(y, predictions),'\\n',\n",
    "      \"f1score:\",f1_score(y, predictions),'\\n',\n",
    "      'tn:{}, fp:{}, fn:{}, tp:{}'.format(tn, fp, fn, tp),'\\n')"
   ]
  },
  {
   "cell_type": "code",
   "execution_count": 88,
   "id": "a5c53b11",
   "metadata": {},
   "outputs": [
    {
     "name": "stdout",
     "output_type": "stream",
     "text": [
      "random_forest_test_july \n",
      " recall: 0.09316770186335403 \n",
      " precision: 0.1860313315926893 \n",
      " f1score: 0.12415595730777608 \n",
      " tn:14010, fp:1247, fn:2774, tp:285 \n",
      "\n"
     ]
    }
   ],
   "source": [
    "threshold=0.60\n",
    "predictions = (preds[:,1] >= threshold).astype('int')\n",
    "tn, fp, fn, tp = confusion_matrix(y, predictions).ravel()\n",
    "print(\"random_forest_test_july\",'\\n',\n",
    "      \"recall:\",recall_score(y, predictions),'\\n',\n",
    "      \"precision:\",precision_score(y, predictions),'\\n',\n",
    "      \"f1score:\",f1_score(y, predictions),'\\n',\n",
    "      'tn:{}, fp:{}, fn:{}, tp:{}'.format(tn, fp, fn, tp),'\\n')"
   ]
  },
  {
   "cell_type": "code",
   "execution_count": 89,
   "id": "704aeeec",
   "metadata": {},
   "outputs": [
    {
     "name": "stdout",
     "output_type": "stream",
     "text": [
      "random_forest_test_july \n",
      " recall: 0.6583850931677019 \n",
      " precision: 0.18312420440080016 \n",
      " f1score: 0.28654762751653984 \n",
      " tn:6273, fp:8984, fn:1045, tp:2014 \n",
      "\n"
     ]
    }
   ],
   "source": [
    "threshold=0.48\n",
    "predictions = (preds[:,1] >= threshold).astype('int')\n",
    "tn, fp, fn, tp = confusion_matrix(y, predictions).ravel()\n",
    "print(\"random_forest_test_july\",'\\n',\n",
    "      \"recall:\",recall_score(y, predictions),'\\n',\n",
    "      \"precision:\",precision_score(y, predictions),'\\n',\n",
    "      \"f1score:\",f1_score(y, predictions),'\\n',\n",
    "      'tn:{}, fp:{}, fn:{}, tp:{}'.format(tn, fp, fn, tp),'\\n')"
   ]
  },
  {
   "cell_type": "code",
   "execution_count": 90,
   "id": "fe3f2063",
   "metadata": {},
   "outputs": [
    {
     "name": "stdout",
     "output_type": "stream",
     "text": [
      "random_forest_test_july \n",
      " recall: 0.9931350114416476 \n",
      " precision: 0.16706995160580732 \n",
      " f1score: 0.2860236313138446 \n",
      " tn:111, fp:15146, fn:21, tp:3038 \n",
      "\n"
     ]
    }
   ],
   "source": [
    "threshold=0.45\n",
    "predictions = (preds[:,1] >= threshold).astype('int')\n",
    "tn, fp, fn, tp = confusion_matrix(y, predictions).ravel()\n",
    "print(\"random_forest_test_july\",'\\n',\n",
    "      \"recall:\",recall_score(y, predictions),'\\n',\n",
    "      \"precision:\",precision_score(y, predictions),'\\n',\n",
    "      \"f1score:\",f1_score(y, predictions),'\\n',\n",
    "      'tn:{}, fp:{}, fn:{}, tp:{}'.format(tn, fp, fn, tp),'\\n')"
   ]
  },
  {
   "cell_type": "code",
   "execution_count": 91,
   "id": "a42cd10e",
   "metadata": {},
   "outputs": [
    {
     "name": "stdout",
     "output_type": "stream",
     "text": [
      "random_forest_test_july \n",
      " recall: 1.0 \n",
      " precision: 0.16701244813278007 \n",
      " f1score: 0.2862222222222222 \n",
      " tn:0, fp:15257, fn:0, tp:3059 \n",
      "\n"
     ]
    }
   ],
   "source": [
    "threshold=0.40\n",
    "predictions = (preds[:,1] >= threshold).astype('int')\n",
    "tn, fp, fn, tp = confusion_matrix(y, predictions).ravel()\n",
    "print(\"random_forest_test_july\",'\\n',\n",
    "      \"recall:\",recall_score(y, predictions),'\\n',\n",
    "      \"precision:\",precision_score(y, predictions),'\\n',\n",
    "      \"f1score:\",f1_score(y, predictions),'\\n',\n",
    "      'tn:{}, fp:{}, fn:{}, tp:{}'.format(tn, fp, fn, tp),'\\n')"
   ]
  },
  {
   "cell_type": "code",
   "execution_count": 92,
   "id": "82857639",
   "metadata": {},
   "outputs": [
    {
     "data": {
      "text/html": [
       "<div>\n",
       "<style scoped>\n",
       "    .dataframe tbody tr th:only-of-type {\n",
       "        vertical-align: middle;\n",
       "    }\n",
       "\n",
       "    .dataframe tbody tr th {\n",
       "        vertical-align: top;\n",
       "    }\n",
       "\n",
       "    .dataframe thead th {\n",
       "        text-align: right;\n",
       "    }\n",
       "</style>\n",
       "<table border=\"1\" class=\"dataframe\">\n",
       "  <thead>\n",
       "    <tr style=\"text-align: right;\">\n",
       "      <th></th>\n",
       "      <th>vip</th>\n",
       "      <th>feature_importances_mag</th>\n",
       "      <th>feature_importances_sign</th>\n",
       "    </tr>\n",
       "    <tr>\n",
       "      <th>feat_names</th>\n",
       "      <th></th>\n",
       "      <th></th>\n",
       "      <th></th>\n",
       "    </tr>\n",
       "  </thead>\n",
       "  <tbody>\n",
       "    <tr>\n",
       "      <th>zipcode_accepted_prop</th>\n",
       "      <td>0.24</td>\n",
       "      <td>0.24</td>\n",
       "      <td>1.00</td>\n",
       "    </tr>\n",
       "    <tr>\n",
       "      <th>zipcode_accepted_offers</th>\n",
       "      <td>0.20</td>\n",
       "      <td>0.20</td>\n",
       "      <td>1.00</td>\n",
       "    </tr>\n",
       "    <tr>\n",
       "      <th>lines</th>\n",
       "      <td>0.13</td>\n",
       "      <td>0.13</td>\n",
       "      <td>1.00</td>\n",
       "    </tr>\n",
       "    <tr>\n",
       "      <th>x1_MD</th>\n",
       "      <td>0.10</td>\n",
       "      <td>0.10</td>\n",
       "      <td>1.00</td>\n",
       "    </tr>\n",
       "    <tr>\n",
       "      <th>account_tenure</th>\n",
       "      <td>0.05</td>\n",
       "      <td>0.05</td>\n",
       "      <td>1.00</td>\n",
       "    </tr>\n",
       "    <tr>\n",
       "      <th>x1_SD</th>\n",
       "      <td>0.05</td>\n",
       "      <td>0.05</td>\n",
       "      <td>1.00</td>\n",
       "    </tr>\n",
       "    <tr>\n",
       "      <th>previous_tech_support_call</th>\n",
       "      <td>0.04</td>\n",
       "      <td>0.04</td>\n",
       "      <td>1.00</td>\n",
       "    </tr>\n",
       "    <tr>\n",
       "      <th>x2_other</th>\n",
       "      <td>0.04</td>\n",
       "      <td>0.04</td>\n",
       "      <td>1.00</td>\n",
       "    </tr>\n",
       "    <tr>\n",
       "      <th>x2_android</th>\n",
       "      <td>0.02</td>\n",
       "      <td>0.02</td>\n",
       "      <td>1.00</td>\n",
       "    </tr>\n",
       "    <tr>\n",
       "      <th>num_decline</th>\n",
       "      <td>0.02</td>\n",
       "      <td>0.02</td>\n",
       "      <td>1.00</td>\n",
       "    </tr>\n",
       "  </tbody>\n",
       "</table>\n",
       "</div>"
      ],
      "text/plain": [
       "                            vip  feature_importances_mag  \\\n",
       "feat_names                                                 \n",
       "zipcode_accepted_prop      0.24                     0.24   \n",
       "zipcode_accepted_offers    0.20                     0.20   \n",
       "lines                      0.13                     0.13   \n",
       "x1_MD                      0.10                     0.10   \n",
       "account_tenure             0.05                     0.05   \n",
       "x1_SD                      0.05                     0.05   \n",
       "previous_tech_support_call 0.04                     0.04   \n",
       "x2_other                   0.04                     0.04   \n",
       "x2_android                 0.02                     0.02   \n",
       "num_decline                0.02                     0.02   \n",
       "\n",
       "                            feature_importances_sign  \n",
       "feat_names                                            \n",
       "zipcode_accepted_prop                           1.00  \n",
       "zipcode_accepted_offers                         1.00  \n",
       "lines                                           1.00  \n",
       "x1_MD                                           1.00  \n",
       "account_tenure                                  1.00  \n",
       "x1_SD                                           1.00  \n",
       "previous_tech_support_call                      1.00  \n",
       "x2_other                                        1.00  \n",
       "x2_android                                      1.00  \n",
       "num_decline                                     1.00  "
      ]
     },
     "execution_count": 92,
     "metadata": {},
     "output_type": "execute_result"
    }
   ],
   "source": [
    "#get vip info\n",
    "vip = random_forest_classifier.steps[1][1].feature_importances_\n",
    "\n",
    "#create df with vip info\n",
    "feature_importances_info = pd.DataFrame({'feat_names':list(random_forest_classifier.steps[0][1].transformers_[0][1].get_feature_names())+num_list, 'vip': vip})\n",
    "\n",
    "#get sign and magnitude information\n",
    "feature_importances_info = feature_importances_info.assign(feature_importances_mag = abs(feature_importances_info['vip']),\n",
    "                             feature_importances_sign = np.sign(feature_importances_info['vip']))\n",
    "feature_importances_info = feature_importances_info.set_index('feat_names').sort_values(by='feature_importances_mag', ascending=False)\n",
    "feature_importances_info.head(10)"
   ]
  },
  {
   "cell_type": "code",
   "execution_count": 93,
   "id": "9e50e4cc",
   "metadata": {},
   "outputs": [],
   "source": [
    "feature_importances_info.to_csv('feature_importances_thirty_day_churn_rf.csv')"
   ]
  },
  {
   "cell_type": "code",
   "execution_count": 94,
   "id": "afb496ea",
   "metadata": {},
   "outputs": [
    {
     "name": "stdout",
     "output_type": "stream",
     "text": [
      "Looking in indexes: https://pypi.org/simple, https://pypi.ngc.nvidia.com\n",
      "Requirement already satisfied: seaborn in /opt/conda/lib/python3.8/site-packages (0.12.1)\n",
      "Requirement already satisfied: numpy>=1.17 in /opt/conda/lib/python3.8/site-packages (from seaborn) (1.22.4)\n",
      "Requirement already satisfied: matplotlib!=3.6.1,>=3.1 in /opt/conda/lib/python3.8/site-packages (from seaborn) (3.5.2)\n",
      "Requirement already satisfied: pandas>=0.25 in /opt/conda/lib/python3.8/site-packages (from seaborn) (1.3.5)\n",
      "Requirement already satisfied: fonttools>=4.22.0 in /opt/conda/lib/python3.8/site-packages (from matplotlib!=3.6.1,>=3.1->seaborn) (4.33.3)\n",
      "Requirement already satisfied: pyparsing>=2.2.1 in /opt/conda/lib/python3.8/site-packages (from matplotlib!=3.6.1,>=3.1->seaborn) (3.0.9)\n",
      "Requirement already satisfied: python-dateutil>=2.7 in /opt/conda/lib/python3.8/site-packages (from matplotlib!=3.6.1,>=3.1->seaborn) (2.8.2)\n",
      "Requirement already satisfied: packaging>=20.0 in /opt/conda/lib/python3.8/site-packages (from matplotlib!=3.6.1,>=3.1->seaborn) (21.3)\n",
      "Requirement already satisfied: cycler>=0.10 in /opt/conda/lib/python3.8/site-packages (from matplotlib!=3.6.1,>=3.1->seaborn) (0.11.0)\n",
      "Requirement already satisfied: kiwisolver>=1.0.1 in /opt/conda/lib/python3.8/site-packages (from matplotlib!=3.6.1,>=3.1->seaborn) (1.4.3)\n",
      "Requirement already satisfied: pillow>=6.2.0 in /opt/conda/lib/python3.8/site-packages (from matplotlib!=3.6.1,>=3.1->seaborn) (9.0.1)\n",
      "Requirement already satisfied: pytz>=2017.3 in /opt/conda/lib/python3.8/site-packages (from pandas>=0.25->seaborn) (2022.1)\n",
      "Requirement already satisfied: six>=1.5 in /opt/conda/lib/python3.8/site-packages (from python-dateutil>=2.7->matplotlib!=3.6.1,>=3.1->seaborn) (1.16.0)\n",
      "\u001b[33mWARNING: Running pip as the 'root' user can result in broken permissions and conflicting behaviour with the system package manager. It is recommended to use a virtual environment instead: https://pip.pypa.io/warnings/venv\u001b[0m\n"
     ]
    }
   ],
   "source": [
    "!pip install seaborn"
   ]
  },
  {
   "cell_type": "code",
   "execution_count": 95,
   "id": "309cf8be",
   "metadata": {},
   "outputs": [
    {
     "data": {
      "image/png": "[encoded data removed]",
      "text/plain": [
       "<Figure size 432x288 with 1 Axes>"
      ]
     },
     "metadata": {
      "needs_background": "light"
     },
     "output_type": "display_data"
    }
   ],
   "source": [
    "import seaborn as sns\n",
    "sns.barplot(y=feature_importances_info.index[:10], x='feature_importances_mag', hue='feature_importances_sign', \n",
    "            data=feature_importances_info[:10], orient='h', dodge=False);"
   ]
  },
  {
   "cell_type": "code",
   "execution_count": 96,
   "id": "9d46d6ae",
   "metadata": {},
   "outputs": [
    {
     "data": {
      "image/png": "[encoded data removed]",
      "text/plain": [
       "<Figure size 1152x576 with 2 Axes>"
      ]
     },
     "metadata": {
      "needs_background": "light"
     },
     "output_type": "display_data"
    }
   ],
   "source": [
    "plt.figure(figsize = (16,8))\n",
    "matrix = train_df.corr().round(2)\n",
    "mask = np.triu(np.ones_like(matrix, dtype=bool))\n",
    "sns.heatmap(matrix, annot=True, vmax=1, vmin=-1, center=0, cmap='vlag', mask=mask)\n",
    "plt.show()"
   ]
  },
  {
   "cell_type": "code",
   "execution_count": null,
   "id": "c87818c9",
   "metadata": {},
   "outputs": [],
   "source": []
  },
  {
   "cell_type": "code",
   "execution_count": null,
   "id": "c686506c",
   "metadata": {},
   "outputs": [],
   "source": []
  },
  {
   "cell_type": "code",
   "execution_count": null,
   "id": "173b577a",
   "metadata": {},
   "outputs": [],
   "source": []
  },
  {
   "cell_type": "code",
   "execution_count": null,
   "id": "06cd80a9",
   "metadata": {},
   "outputs": [],
   "source": []
  }
 ],
 "metadata": {
  "kernelspec": {
   "display_name": "Python 3 (ipykernel)",
   "language": "python",
   "name": "python3"
  },
  "language_info": {
   "codemirror_mode": {
    "name": "ipython",
    "version": 3
   },
   "file_extension": ".py",
   "mimetype": "text/x-python",
   "name": "python",
   "nbconvert_exporter": "python",
   "pygments_lexer": "ipython3",
   "version": "3.8.13"
  }
 },
 "nbformat": 4,
 "nbformat_minor": 5
}
