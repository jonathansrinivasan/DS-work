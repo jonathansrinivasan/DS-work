{
 "cells": [
  {
   "cell_type": "code",
   "execution_count": 1,
   "id": "20e7b4d2",
   "metadata": {},
   "outputs": [],
   "source": [
    "import pandas as pd"
   ]
  },
  {
   "cell_type": "code",
   "execution_count": 2,
   "id": "11f75937",
   "metadata": {},
   "outputs": [
    {
     "name": "stdout",
     "output_type": "stream",
     "text": [
      "/workspace/asurion_f22_muby\n"
     ]
    }
   ],
   "source": [
    "%cd .."
   ]
  },
  {
   "cell_type": "code",
   "execution_count": 3,
   "id": "9a93c388",
   "metadata": {},
   "outputs": [],
   "source": [
    "sentiment = pd.read_csv(\"fe_data_v2/sentiment_data/sentiment_train.csv\")"
   ]
  },
  {
   "cell_type": "code",
   "execution_count": 4,
   "id": "e8342243",
   "metadata": {},
   "outputs": [],
   "source": [
    "transcript = pd.read_csv(\"fe_data_v2/transcript_data_use/transcript_summary.csv\")"
   ]
  },
  {
   "cell_type": "code",
   "execution_count": 5,
   "id": "9a487d10",
   "metadata": {},
   "outputs": [],
   "source": [
    "actual_transcript = pd.read_csv(\"fe_data_v2/transcript_data/transcript_train_data.csv\")"
   ]
  },
  {
   "cell_type": "code",
   "execution_count": 6,
   "id": "ddaa5263",
   "metadata": {},
   "outputs": [],
   "source": [
    "data_for_use = transcript.merge(sentiment, on = \"id\", how = \"inner\")"
   ]
  },
  {
   "cell_type": "code",
   "execution_count": 7,
   "id": "322c15d1",
   "metadata": {},
   "outputs": [
    {
     "name": "stdout",
     "output_type": "stream",
     "text": [
      "<class 'pandas.core.frame.DataFrame'>\n",
      "Int64Index: 1044430 entries, 0 to 1044429\n",
      "Data columns (total 4 columns):\n",
      " #   Column     Non-Null Count    Dtype \n",
      "---  ------     --------------    ----- \n",
      " 0   id         1044430 non-null  object\n",
      " 1   month      1044430 non-null  object\n",
      " 2   summary    1036697 non-null  object\n",
      " 3   sentiment  1044430 non-null  object\n",
      "dtypes: object(4)\n",
      "memory usage: 39.8+ MB\n"
     ]
    }
   ],
   "source": [
    "data_for_use.info()"
   ]
  },
  {
   "cell_type": "code",
   "execution_count": 8,
   "id": "f3b7c870",
   "metadata": {},
   "outputs": [
    {
     "data": {
      "text/plain": [
       "negative    517751\n",
       "positive    420902\n",
       "neutral     105777\n",
       "Name: sentiment, dtype: int64"
      ]
     },
     "execution_count": 8,
     "metadata": {},
     "output_type": "execute_result"
    }
   ],
   "source": [
    "data_for_use[\"sentiment\"].value_counts()"
   ]
  },
  {
   "cell_type": "code",
   "execution_count": 9,
   "id": "7dedfcf4",
   "metadata": {},
   "outputs": [],
   "source": [
    "negative_id = list(data_for_use[data_for_use[\"sentiment\"] == \"negative\"][\"id\"])[20]"
   ]
  },
  {
   "cell_type": "code",
   "execution_count": 10,
   "id": "b45eda2d",
   "metadata": {},
   "outputs": [
    {
     "name": "stdout",
     "output_type": "stream",
     "text": [
      "Tech Coach: I'm sorry this has happening to you. But let's go ahead and get this fixed. We're gonna take a look on your phone to see what's going on. I will ask you if you could allow me to do every mobile your device in order for me to be able to check some information in your phone.Let's see. because I wanna make sure probably there is something set up on your phone, like, you know, call for when. So when someone called you, And you don't pick probably call goes to another number, but let's go ahead and take a look at it. So let's see here that we need to double check that the call when it it's not on.\n"
     ]
    }
   ],
   "source": [
    "print(list(data_for_use[data_for_use[\"id\"] == negative_id][\"summary\"])[0])"
   ]
  },
  {
   "cell_type": "code",
   "execution_count": 11,
   "id": "7e619902",
   "metadata": {},
   "outputs": [],
   "source": [
    "positive_id = list(data_for_use[data_for_use[\"sentiment\"] == \"positive\"][\"id\"])[10]"
   ]
  },
  {
   "cell_type": "code",
   "execution_count": 12,
   "id": "64ce5a57",
   "metadata": {},
   "outputs": [
    {
     "data": {
      "text/plain": [
       "'7a9864595b1afa6cbf18d87b41e2b260a0e47134d31112016f9c49ef'"
      ]
     },
     "execution_count": 12,
     "metadata": {},
     "output_type": "execute_result"
    }
   ],
   "source": [
    "positive_id"
   ]
  },
  {
   "cell_type": "code",
   "execution_count": 13,
   "id": "e8b006c5",
   "metadata": {},
   "outputs": [
    {
     "name": "stdout",
     "output_type": "stream",
     "text": [
      "A woman calls Samsung to try and activate her new phone. The phone is not working and she is being billed for the phone. A representative tries to help her out but she is unable to activate the phone on her end. The number she is trying to activate is the wrong one.This. i m e i e sims and im e i Just the Imei sir. Ok Alright. How about the e, sir? Say the East. Thirty five seventy seven. Forty seven thirteen fifteen twenty one. Two sixty seven. Ok. Awesome.The call was made by a customer who was unable to activate their phone's sim card. The call was answered by a Tech Coach. The customer was able to get back on the line with the company. The conversation was recorded for quality assurance and security. The number for this call is 8 zero zero nine two two.\n"
     ]
    }
   ],
   "source": [
    "print(list(data_for_use[data_for_use[\"id\"] == positive_id][\"summary\"])[0])"
   ]
  },
  {
   "cell_type": "code",
   "execution_count": 14,
   "id": "7a2f903b",
   "metadata": {},
   "outputs": [],
   "source": [
    "neutral_id = list(data_for_use[data_for_use[\"sentiment\"] == \"neutral\"][\"id\"])[349]"
   ]
  },
  {
   "cell_type": "code",
   "execution_count": 15,
   "id": "b1d0a422",
   "metadata": {},
   "outputs": [
    {
     "name": "stdout",
     "output_type": "stream",
     "text": [
      "Neil calls off for his wife's phone because his phone won't let him dial a hundred numbers. Neil is a tech coach who helps people with problems with the Internet. Neil calls off because his wife is using a different phone in calling him. Neil tries to fix the problem by going through the phone's settings.We are not gonna delete anything here. So what we're going to do is select reset your connection. And then we'll gonna reconnect you back then we're gonna test your service. So after you open we reset, click on reset network settings. just the number. reset settings and then reset Hit the reset settings button.\n"
     ]
    }
   ],
   "source": [
    "print(list(data_for_use[data_for_use[\"id\"] == neutral_id][\"summary\"])[0])"
   ]
  },
  {
   "cell_type": "code",
   "execution_count": 16,
   "id": "0663a437",
   "metadata": {},
   "outputs": [],
   "source": [
    "data_for_all = actual_transcript.merge(sentiment, on = \"id\", how = \"inner\")"
   ]
  },
  {
   "cell_type": "code",
   "execution_count": 17,
   "id": "e7998a4a",
   "metadata": {},
   "outputs": [
    {
     "name": "stdout",
     "output_type": "stream",
     "text": [
      "<class 'pandas.core.frame.DataFrame'>\n",
      "Int64Index: 1044430 entries, 0 to 1044429\n",
      "Data columns (total 11 columns):\n",
      " #   Column                            Non-Null Count    Dtype \n",
      "---  ------                            --------------    ----- \n",
      " 0   id                                1044430 non-null  object\n",
      " 1   sales_offer_date                  1044430 non-null  object\n",
      " 2   accepted_flg                      1044430 non-null  bool  \n",
      " 3   encrypted_collated_transcription  1042330 non-null  object\n",
      " 4   month                             1044430 non-null  object\n",
      " 5   length                            1044430 non-null  int64 \n",
      " 6   length_3rd                        1044430 non-null  int64 \n",
      " 7   first_3rd                         1044326 non-null  object\n",
      " 8   second_3rd                        1044326 non-null  object\n",
      " 9   third_3rd                         1044430 non-null  object\n",
      " 10  sentiment                         1044430 non-null  object\n",
      "dtypes: bool(1), int64(2), object(8)\n",
      "memory usage: 88.6+ MB\n"
     ]
    }
   ],
   "source": [
    "data_for_all.info()"
   ]
  },
  {
   "cell_type": "code",
   "execution_count": 18,
   "id": "e1266de2",
   "metadata": {},
   "outputs": [
    {
     "name": "stdout",
     "output_type": "stream",
     "text": [
      "/workspace/asurion_f22_muby/Asurion-customer-propensity\n"
     ]
    }
   ],
   "source": [
    "%cd Asurion-customer-propensity/"
   ]
  },
  {
   "cell_type": "code",
   "execution_count": 19,
   "id": "e2536f54",
   "metadata": {},
   "outputs": [],
   "source": [
    "negative = list(data_for_all[data_for_all[\"id\"] == negative_id][\"encrypted_collated_transcription\"])[0]"
   ]
  },
  {
   "cell_type": "code",
   "execution_count": 20,
   "id": "4e5cc87a",
   "metadata": {},
   "outputs": [],
   "source": [
    "file1 = open(\"negative.txt\",\"w\")\n",
    "file1.write(negative)\n",
    "file1.close()"
   ]
  },
  {
   "cell_type": "code",
   "execution_count": 21,
   "id": "b1205dda",
   "metadata": {},
   "outputs": [],
   "source": [
    "positive = list(data_for_all[data_for_all[\"id\"] == positive_id][\"encrypted_collated_transcription\"])[0]"
   ]
  },
  {
   "cell_type": "code",
   "execution_count": 22,
   "id": "b045745c",
   "metadata": {},
   "outputs": [],
   "source": [
    "file2 = open(\"positive.txt\",\"w\")\n",
    "file2.write(positive)\n",
    "file2.close()"
   ]
  },
  {
   "cell_type": "code",
   "execution_count": 23,
   "id": "1bb29e93",
   "metadata": {},
   "outputs": [],
   "source": [
    "neutral = list(data_for_all[data_for_all[\"id\"] == neutral_id][\"encrypted_collated_transcription\"])[0]"
   ]
  },
  {
   "cell_type": "code",
   "execution_count": 24,
   "id": "a589c719",
   "metadata": {},
   "outputs": [],
   "source": [
    "file3 = open(\"neutral.txt\",\"w\")\n",
    "file3.write(neutral)\n",
    "file3.close()"
   ]
  },
  {
   "cell_type": "code",
   "execution_count": null,
   "id": "e7a37d78",
   "metadata": {},
   "outputs": [],
   "source": []
  }
 ],
 "metadata": {
  "kernelspec": {
   "display_name": "Python 3 (ipykernel)",
   "language": "python",
   "name": "python3"
  },
  "language_info": {
   "codemirror_mode": {
    "name": "ipython",
    "version": 3
   },
   "file_extension": ".py",
   "mimetype": "text/x-python",
   "name": "python",
   "nbconvert_exporter": "python",
   "pygments_lexer": "ipython3",
   "version": "3.8.13"
  }
 },
 "nbformat": 4,
 "nbformat_minor": 5
}
