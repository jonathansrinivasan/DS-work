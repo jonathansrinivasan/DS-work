{
 "cells": [
  {
   "cell_type": "markdown",
   "id": "cdf23363",
   "metadata": {},
   "source": [
    "# 36-filtering"
   ]
  },
  {
   "cell_type": "markdown",
   "id": "4bb99462",
   "metadata": {},
   "source": [
    "Filter out only call transcripts of customers who accepted the upsale offer"
   ]
  },
  {
   "cell_type": "code",
   "execution_count": 1,
   "id": "08b92af5",
   "metadata": {},
   "outputs": [
    {
     "name": "stdout",
     "output_type": "stream",
     "text": [
      "/workspace/asurion_f22_jw\n"
     ]
    }
   ],
   "source": [
    "%cd .."
   ]
  },
  {
   "cell_type": "code",
   "execution_count": 2,
   "id": "5cd910c3",
   "metadata": {},
   "outputs": [],
   "source": [
    "import pandas as pd"
   ]
  },
  {
   "cell_type": "code",
   "execution_count": 3,
   "id": "bc270fdc",
   "metadata": {},
   "outputs": [
    {
     "data": {
      "text/html": [
       "<div>\n",
       "<style scoped>\n",
       "    .dataframe tbody tr th:only-of-type {\n",
       "        vertical-align: middle;\n",
       "    }\n",
       "\n",
       "    .dataframe tbody tr th {\n",
       "        vertical-align: top;\n",
       "    }\n",
       "\n",
       "    .dataframe thead th {\n",
       "        text-align: right;\n",
       "    }\n",
       "</style>\n",
       "<table border=\"1\" class=\"dataframe\">\n",
       "  <thead>\n",
       "    <tr style=\"text-align: right;\">\n",
       "      <th></th>\n",
       "      <th>id</th>\n",
       "      <th>quality_sale</th>\n",
       "      <th>accepted_flg_x</th>\n",
       "      <th>seven_day_churn</th>\n",
       "      <th>thirty_day_churn</th>\n",
       "      <th>ninety_day_churn</th>\n",
       "      <th>clndr_dt_cst</th>\n",
       "      <th>start_dt</th>\n",
       "      <th>lines</th>\n",
       "      <th>previous_tech_support_call</th>\n",
       "      <th>...</th>\n",
       "      <th>month_x</th>\n",
       "      <th>hh_income_code</th>\n",
       "      <th>day_of_week</th>\n",
       "      <th>time_of_day</th>\n",
       "      <th>zipcode_accepted_prop</th>\n",
       "      <th>zipcode_rejected_offers</th>\n",
       "      <th>zipcode_accepted_offers</th>\n",
       "      <th>zipcode_total_offers</th>\n",
       "      <th>sales_offer_date</th>\n",
       "      <th>encrypted_collated_transcription</th>\n",
       "    </tr>\n",
       "  </thead>\n",
       "  <tbody>\n",
       "    <tr>\n",
       "      <th>0</th>\n",
       "      <td>91aa94d54079b20e2a18b09c070d0304b3df9c7272e9fc...</td>\n",
       "      <td>0</td>\n",
       "      <td>0</td>\n",
       "      <td>NaN</td>\n",
       "      <td>NaN</td>\n",
       "      <td>NaN</td>\n",
       "      <td>2022-03-03 00:00:00.000</td>\n",
       "      <td>2022-03-03 21:16:27.713</td>\n",
       "      <td>1</td>\n",
       "      <td>10</td>\n",
       "      <td>...</td>\n",
       "      <td>march</td>\n",
       "      <td>3</td>\n",
       "      <td>Thursday</td>\n",
       "      <td>21</td>\n",
       "      <td>0.105590</td>\n",
       "      <td>144.0</td>\n",
       "      <td>17.0</td>\n",
       "      <td>161.0</td>\n",
       "      <td>2022-03-03</td>\n",
       "      <td>I I So much for calling [CLIENT] Tech coach. M...</td>\n",
       "    </tr>\n",
       "    <tr>\n",
       "      <th>1</th>\n",
       "      <td>eb269842f94437bfd7e3a5a1f30d7b9a84a842afd8a153...</td>\n",
       "      <td>0</td>\n",
       "      <td>0</td>\n",
       "      <td>NaN</td>\n",
       "      <td>NaN</td>\n",
       "      <td>NaN</td>\n",
       "      <td>2022-03-16 00:00:00.000</td>\n",
       "      <td>2022-03-16 13:59:15.707</td>\n",
       "      <td>5</td>\n",
       "      <td>30</td>\n",
       "      <td>...</td>\n",
       "      <td>march</td>\n",
       "      <td>1</td>\n",
       "      <td>Wednesday</td>\n",
       "      <td>13</td>\n",
       "      <td>0.058824</td>\n",
       "      <td>112.0</td>\n",
       "      <td>7.0</td>\n",
       "      <td>119.0</td>\n",
       "      <td>2022-03-16</td>\n",
       "      <td>b k i r b as in boy y. ok, Thank you. May I ha...</td>\n",
       "    </tr>\n",
       "    <tr>\n",
       "      <th>2</th>\n",
       "      <td>fc05f45119a8a4b830a3463bfc8a7113b2807c88e7d2da...</td>\n",
       "      <td>0</td>\n",
       "      <td>0</td>\n",
       "      <td>NaN</td>\n",
       "      <td>NaN</td>\n",
       "      <td>NaN</td>\n",
       "      <td>2022-03-01 00:00:00.000</td>\n",
       "      <td>2022-03-01 12:33:55.917</td>\n",
       "      <td>5</td>\n",
       "      <td>1</td>\n",
       "      <td>...</td>\n",
       "      <td>march</td>\n",
       "      <td>1</td>\n",
       "      <td>Tuesday</td>\n",
       "      <td>12</td>\n",
       "      <td>0.084034</td>\n",
       "      <td>109.0</td>\n",
       "      <td>10.0</td>\n",
       "      <td>119.0</td>\n",
       "      <td>2022-03-01</td>\n",
       "      <td>Hi. Thank you for calling Hi. Thank you for ca...</td>\n",
       "    </tr>\n",
       "    <tr>\n",
       "      <th>3</th>\n",
       "      <td>68943556bf63277816d843ffb129e23ffe60bc5b982603...</td>\n",
       "      <td>1</td>\n",
       "      <td>1</td>\n",
       "      <td>0.0</td>\n",
       "      <td>0.0</td>\n",
       "      <td>0.0</td>\n",
       "      <td>2022-03-01 00:00:00.000</td>\n",
       "      <td>2022-03-01 12:22:15.780</td>\n",
       "      <td>2</td>\n",
       "      <td>4</td>\n",
       "      <td>...</td>\n",
       "      <td>march</td>\n",
       "      <td>4</td>\n",
       "      <td>Tuesday</td>\n",
       "      <td>12</td>\n",
       "      <td>0.151163</td>\n",
       "      <td>73.0</td>\n",
       "      <td>13.0</td>\n",
       "      <td>86.0</td>\n",
       "      <td>2022-03-01</td>\n",
       "      <td>Thank for for calling [CLIENT] Thank for for c...</td>\n",
       "    </tr>\n",
       "    <tr>\n",
       "      <th>4</th>\n",
       "      <td>39c82cad0898573f533685749238d7ecf6374eab67f5f0...</td>\n",
       "      <td>0</td>\n",
       "      <td>0</td>\n",
       "      <td>NaN</td>\n",
       "      <td>NaN</td>\n",
       "      <td>NaN</td>\n",
       "      <td>2022-03-14 00:00:00.000</td>\n",
       "      <td>2022-03-14 16:57:48.696</td>\n",
       "      <td>5</td>\n",
       "      <td>2</td>\n",
       "      <td>...</td>\n",
       "      <td>march</td>\n",
       "      <td>3</td>\n",
       "      <td>Monday</td>\n",
       "      <td>16</td>\n",
       "      <td>0.068063</td>\n",
       "      <td>178.0</td>\n",
       "      <td>13.0</td>\n",
       "      <td>191.0</td>\n",
       "      <td>2022-03-14</td>\n",
       "      <td>Hi. Thank you for calling [CLIENT] Tech Coach....</td>\n",
       "    </tr>\n",
       "  </tbody>\n",
       "</table>\n",
       "<p>5 rows × 48 columns</p>\n",
       "</div>"
      ],
      "text/plain": [
       "                                                  id  quality_sale  \\\n",
       "0  91aa94d54079b20e2a18b09c070d0304b3df9c7272e9fc...             0   \n",
       "1  eb269842f94437bfd7e3a5a1f30d7b9a84a842afd8a153...             0   \n",
       "2  fc05f45119a8a4b830a3463bfc8a7113b2807c88e7d2da...             0   \n",
       "3  68943556bf63277816d843ffb129e23ffe60bc5b982603...             1   \n",
       "4  39c82cad0898573f533685749238d7ecf6374eab67f5f0...             0   \n",
       "\n",
       "   accepted_flg_x  seven_day_churn  thirty_day_churn  ninety_day_churn  \\\n",
       "0               0              NaN               NaN               NaN   \n",
       "1               0              NaN               NaN               NaN   \n",
       "2               0              NaN               NaN               NaN   \n",
       "3               1              0.0               0.0               0.0   \n",
       "4               0              NaN               NaN               NaN   \n",
       "\n",
       "              clndr_dt_cst                 start_dt  lines  \\\n",
       "0  2022-03-03 00:00:00.000  2022-03-03 21:16:27.713      1   \n",
       "1  2022-03-16 00:00:00.000  2022-03-16 13:59:15.707      5   \n",
       "2  2022-03-01 00:00:00.000  2022-03-01 12:33:55.917      5   \n",
       "3  2022-03-01 00:00:00.000  2022-03-01 12:22:15.780      2   \n",
       "4  2022-03-14 00:00:00.000  2022-03-14 16:57:48.696      5   \n",
       "\n",
       "   previous_tech_support_call  ...  month_x  hh_income_code  day_of_week  \\\n",
       "0                          10  ...    march               3     Thursday   \n",
       "1                          30  ...    march               1    Wednesday   \n",
       "2                           1  ...    march               1      Tuesday   \n",
       "3                           4  ...    march               4      Tuesday   \n",
       "4                           2  ...    march               3       Monday   \n",
       "\n",
       "   time_of_day zipcode_accepted_prop zipcode_rejected_offers  \\\n",
       "0           21              0.105590                   144.0   \n",
       "1           13              0.058824                   112.0   \n",
       "2           12              0.084034                   109.0   \n",
       "3           12              0.151163                    73.0   \n",
       "4           16              0.068063                   178.0   \n",
       "\n",
       "   zipcode_accepted_offers zipcode_total_offers sales_offer_date  \\\n",
       "0                     17.0                161.0       2022-03-03   \n",
       "1                      7.0                119.0       2022-03-16   \n",
       "2                     10.0                119.0       2022-03-01   \n",
       "3                     13.0                 86.0       2022-03-01   \n",
       "4                     13.0                191.0       2022-03-14   \n",
       "\n",
       "                    encrypted_collated_transcription  \n",
       "0  I I So much for calling [CLIENT] Tech coach. M...  \n",
       "1  b k i r b as in boy y. ok, Thank you. May I ha...  \n",
       "2  Hi. Thank you for calling Hi. Thank you for ca...  \n",
       "3  Thank for for calling [CLIENT] Thank for for c...  \n",
       "4  Hi. Thank you for calling [CLIENT] Tech Coach....  \n",
       "\n",
       "[5 rows x 48 columns]"
      ]
     },
     "execution_count": 3,
     "metadata": {},
     "output_type": "execute_result"
    }
   ],
   "source": [
    "df = pd.read_csv('fe_data/total_merged_asurion.csv')\n",
    "df.head()"
   ]
  },
  {
   "cell_type": "code",
   "execution_count": 4,
   "id": "c802ff12",
   "metadata": {},
   "outputs": [
    {
     "data": {
      "text/plain": [
       "Index(['id', 'quality_sale', 'accepted_flg_x', 'seven_day_churn',\n",
       "       'thirty_day_churn', 'ninety_day_churn', 'clndr_dt_cst', 'start_dt',\n",
       "       'lines', 'previous_tech_support_call', 'account_tenure',\n",
       "       'past_yr_claim_count', 'num_decline', 'exp', 'product_type', 'pmake',\n",
       "       'claritas_hh_count', 'technodoption_class', 'hh_income', 'age_class',\n",
       "       'hh_education', 'hh_composition', 'hh_tenure', 'urbanicity',\n",
       "       'median_income', 'total_population', 'perc_female', 'perc_under18',\n",
       "       'perc_over65', 'perc_white', 'perc_black', 'population_density',\n",
       "       'zipcode', 'county', 'state', 'state_code', 'latitude', 'longitude',\n",
       "       'month_x', 'hh_income_code', 'day_of_week', 'time_of_day',\n",
       "       'zipcode_accepted_prop', 'zipcode_rejected_offers',\n",
       "       'zipcode_accepted_offers', 'zipcode_total_offers', 'sales_offer_date',\n",
       "       'encrypted_collated_transcription'],\n",
       "      dtype='object')"
      ]
     },
     "execution_count": 4,
     "metadata": {},
     "output_type": "execute_result"
    }
   ],
   "source": [
    "df.columns"
   ]
  },
  {
   "cell_type": "code",
   "execution_count": 5,
   "id": "35f7069e",
   "metadata": {},
   "outputs": [],
   "source": [
    "df = df.rename(columns={'accepted_flg_x':'accepted_flg', 'month_x':'month'})"
   ]
  },
  {
   "cell_type": "code",
   "execution_count": 6,
   "id": "8214096f",
   "metadata": {},
   "outputs": [
    {
     "name": "stdout",
     "output_type": "stream",
     "text": [
      "<class 'pandas.core.frame.DataFrame'>\n",
      "RangeIndex: 950469 entries, 0 to 950468\n",
      "Data columns (total 48 columns):\n",
      " #   Column                            Non-Null Count   Dtype  \n",
      "---  ------                            --------------   -----  \n",
      " 0   id                                950469 non-null  object \n",
      " 1   quality_sale                      950469 non-null  int64  \n",
      " 2   accepted_flg                      950469 non-null  int64  \n",
      " 3   seven_day_churn                   86143 non-null   float64\n",
      " 4   thirty_day_churn                  86143 non-null   float64\n",
      " 5   ninety_day_churn                  86143 non-null   float64\n",
      " 6   clndr_dt_cst                      950469 non-null  object \n",
      " 7   start_dt                          950469 non-null  object \n",
      " 8   lines                             950469 non-null  int64  \n",
      " 9   previous_tech_support_call        950469 non-null  int64  \n",
      " 10  account_tenure                    950469 non-null  int64  \n",
      " 11  past_yr_claim_count               950469 non-null  int64  \n",
      " 12  num_decline                       950469 non-null  int64  \n",
      " 13  exp                               950469 non-null  int64  \n",
      " 14  product_type                      950469 non-null  object \n",
      " 15  pmake                             950469 non-null  object \n",
      " 16  claritas_hh_count                 950469 non-null  int64  \n",
      " 17  technodoption_class               950469 non-null  object \n",
      " 18  hh_income                         950469 non-null  object \n",
      " 19  age_class                         950469 non-null  object \n",
      " 20  hh_education                      950469 non-null  object \n",
      " 21  hh_composition                    950469 non-null  object \n",
      " 22  hh_tenure                         950469 non-null  object \n",
      " 23  urbanicity                        950469 non-null  object \n",
      " 24  median_income                     950469 non-null  int64  \n",
      " 25  total_population                  950469 non-null  int64  \n",
      " 26  perc_female                       950469 non-null  int64  \n",
      " 27  perc_under18                      950469 non-null  int64  \n",
      " 28  perc_over65                       950469 non-null  int64  \n",
      " 29  perc_white                        950469 non-null  int64  \n",
      " 30  perc_black                        950469 non-null  int64  \n",
      " 31  population_density                950469 non-null  int64  \n",
      " 32  zipcode                           853625 non-null  float64\n",
      " 33  county                            853528 non-null  object \n",
      " 34  state                             853492 non-null  object \n",
      " 35  state_code                        853492 non-null  object \n",
      " 36  latitude                          853528 non-null  float64\n",
      " 37  longitude                         853528 non-null  float64\n",
      " 38  month                             950469 non-null  object \n",
      " 39  hh_income_code                    950469 non-null  int64  \n",
      " 40  day_of_week                       950469 non-null  object \n",
      " 41  time_of_day                       950469 non-null  int64  \n",
      " 42  zipcode_accepted_prop             853625 non-null  float64\n",
      " 43  zipcode_rejected_offers           853625 non-null  float64\n",
      " 44  zipcode_accepted_offers           853625 non-null  float64\n",
      " 45  zipcode_total_offers              853625 non-null  float64\n",
      " 46  sales_offer_date                  950469 non-null  object \n",
      " 47  encrypted_collated_transcription  947767 non-null  object \n",
      "dtypes: float64(10), int64(19), object(19)\n",
      "memory usage: 348.1+ MB\n"
     ]
    }
   ],
   "source": [
    "df.info()"
   ]
  },
  {
   "cell_type": "code",
   "execution_count": 8,
   "id": "b99a086e",
   "metadata": {},
   "outputs": [],
   "source": [
    "aqs = df[(df['quality_sale'] == 1) & (df['accepted_flg'] == 1)]\n",
    "aqs.drop_duplicates().to_csv('fe_data/accepted_upsale_merged_asurion.csv', index=0)"
   ]
  },
  {
   "cell_type": "code",
   "execution_count": 9,
   "id": "af4f8fc8",
   "metadata": {},
   "outputs": [
    {
     "data": {
      "text/plain": [
       "Index(['id', 'quality_sale', 'accepted_flg', 'seven_day_churn',\n",
       "       'thirty_day_churn', 'ninety_day_churn', 'clndr_dt_cst', 'start_dt',\n",
       "       'lines', 'previous_tech_support_call', 'account_tenure',\n",
       "       'past_yr_claim_count', 'num_decline', 'exp', 'product_type', 'pmake',\n",
       "       'claritas_hh_count', 'technodoption_class', 'hh_income', 'age_class',\n",
       "       'hh_education', 'hh_composition', 'hh_tenure', 'urbanicity',\n",
       "       'median_income', 'total_population', 'perc_female', 'perc_under18',\n",
       "       'perc_over65', 'perc_white', 'perc_black', 'population_density',\n",
       "       'zipcode', 'county', 'state', 'state_code', 'latitude', 'longitude',\n",
       "       'month', 'hh_income_code', 'day_of_week', 'time_of_day',\n",
       "       'zipcode_accepted_prop', 'zipcode_rejected_offers',\n",
       "       'zipcode_accepted_offers', 'zipcode_total_offers', 'sales_offer_date',\n",
       "       'encrypted_collated_transcription'],\n",
       "      dtype='object')"
      ]
     },
     "execution_count": 9,
     "metadata": {},
     "output_type": "execute_result"
    }
   ],
   "source": [
    "aqs.columns"
   ]
  },
  {
   "cell_type": "code",
   "execution_count": 10,
   "id": "9af678a4",
   "metadata": {},
   "outputs": [],
   "source": [
    "atrans = aqs[['id', 'sales_offer_date', 'accepted_flg',\n",
    "       'encrypted_collated_transcription', 'month']]\n",
    "atrans.drop_duplicates().to_csv('fe_data/accepted_upsale_collated_transcripts.csv', index=0)"
   ]
  },
  {
   "cell_type": "code",
   "execution_count": 11,
   "id": "73948a53",
   "metadata": {},
   "outputs": [
    {
     "data": {
      "text/plain": [
       "Index(['id', 'sales_offer_date', 'accepted_flg',\n",
       "       'encrypted_collated_transcription', 'month'],\n",
       "      dtype='object')"
      ]
     },
     "execution_count": 11,
     "metadata": {},
     "output_type": "execute_result"
    }
   ],
   "source": [
    "atrans.columns"
   ]
  },
  {
   "cell_type": "code",
   "execution_count": 12,
   "id": "ee63287c",
   "metadata": {},
   "outputs": [],
   "source": [
    "atabular = aqs[['id', 'quality_sale', 'accepted_flg', 'seven_day_churn',\n",
    "       'thirty_day_churn', 'ninety_day_churn', 'clndr_dt_cst', 'start_dt',\n",
    "       'lines', 'previous_tech_support_call', 'account_tenure',\n",
    "       'past_yr_claim_count', 'num_decline', 'exp', 'product_type', 'pmake',\n",
    "       'claritas_hh_count', 'technodoption_class', 'hh_income', 'age_class',\n",
    "       'hh_education', 'hh_composition', 'hh_tenure', 'urbanicity',\n",
    "       'median_income', 'total_population', 'perc_female', 'perc_under18',\n",
    "       'perc_over65', 'perc_white', 'perc_black', 'population_density',\n",
    "       'zipcode', 'county', 'state', 'state_code', 'latitude', 'longitude',\n",
    "       'month', 'hh_income_code', 'day_of_week', 'time_of_day',\n",
    "       'zipcode_accepted_prop', 'zipcode_rejected_offers',\n",
    "       'zipcode_accepted_offers', 'zipcode_total_offers']]\n",
    "atabular.drop_duplicates().to_csv('fe_data/accepted_upsale_encoded_tabular.csv', index=0)"
   ]
  },
  {
   "cell_type": "code",
   "execution_count": 13,
   "id": "6aa89490",
   "metadata": {},
   "outputs": [
    {
     "data": {
      "text/plain": [
       "Index(['id', 'quality_sale', 'accepted_flg', 'seven_day_churn',\n",
       "       'thirty_day_churn', 'ninety_day_churn', 'clndr_dt_cst', 'start_dt',\n",
       "       'lines', 'previous_tech_support_call', 'account_tenure',\n",
       "       'past_yr_claim_count', 'num_decline', 'exp', 'product_type', 'pmake',\n",
       "       'claritas_hh_count', 'technodoption_class', 'hh_income', 'age_class',\n",
       "       'hh_education', 'hh_composition', 'hh_tenure', 'urbanicity',\n",
       "       'median_income', 'total_population', 'perc_female', 'perc_under18',\n",
       "       'perc_over65', 'perc_white', 'perc_black', 'population_density',\n",
       "       'zipcode', 'county', 'state', 'state_code', 'latitude', 'longitude',\n",
       "       'month', 'hh_income_code', 'day_of_week', 'time_of_day',\n",
       "       'zipcode_accepted_prop', 'zipcode_rejected_offers',\n",
       "       'zipcode_accepted_offers', 'zipcode_total_offers'],\n",
       "      dtype='object')"
      ]
     },
     "execution_count": 13,
     "metadata": {},
     "output_type": "execute_result"
    }
   ],
   "source": [
    "atabular.columns"
   ]
  },
  {
   "cell_type": "code",
   "execution_count": null,
   "id": "c4951a37",
   "metadata": {},
   "outputs": [],
   "source": []
  }
 ],
 "metadata": {
  "kernelspec": {
   "display_name": "Python 3 (ipykernel)",
   "language": "python",
   "name": "python3"
  },
  "language_info": {
   "codemirror_mode": {
    "name": "ipython",
    "version": 3
   },
   "file_extension": ".py",
   "mimetype": "text/x-python",
   "name": "python",
   "nbconvert_exporter": "python",
   "pygments_lexer": "ipython3",
   "version": "3.8.13"
  }
 },
 "nbformat": 4,
 "nbformat_minor": 5
}
