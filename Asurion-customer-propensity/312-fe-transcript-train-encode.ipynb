{
 "cells": [
  {
   "cell_type": "markdown",
   "id": "ec94cc62",
   "metadata": {},
   "source": [
    "# Transcript data feature engineering"
   ]
  },
  {
   "cell_type": "markdown",
   "id": "0b34f5e0",
   "metadata": {},
   "source": [
    "### Loading Packages"
   ]
  },
  {
   "cell_type": "code",
   "execution_count": 1,
   "id": "5583c702",
   "metadata": {},
   "outputs": [
    {
     "name": "stdout",
     "output_type": "stream",
     "text": [
      "Looking in indexes: https://pypi.org/simple, https://pypi.ngc.nvidia.com\n",
      "Requirement already satisfied: transformers in /opt/conda/lib/python3.8/site-packages (4.23.1)\n",
      "Requirement already satisfied: tokenizers!=0.11.3,<0.14,>=0.11.1 in /opt/conda/lib/python3.8/site-packages (from transformers) (0.13.1)\n",
      "Requirement already satisfied: tqdm>=4.27 in /opt/conda/lib/python3.8/site-packages (from transformers) (4.64.0)\n",
      "Requirement already satisfied: pyyaml>=5.1 in /opt/conda/lib/python3.8/site-packages (from transformers) (6.0)\n",
      "Requirement already satisfied: numpy>=1.17 in /opt/conda/lib/python3.8/site-packages (from transformers) (1.22.4)\n",
      "Requirement already satisfied: regex!=2019.12.17 in /opt/conda/lib/python3.8/site-packages (from transformers) (2022.6.2)\n",
      "Requirement already satisfied: huggingface-hub<1.0,>=0.10.0 in /opt/conda/lib/python3.8/site-packages (from transformers) (0.10.1)\n",
      "Requirement already satisfied: filelock in /opt/conda/lib/python3.8/site-packages (from transformers) (3.7.1)\n",
      "Requirement already satisfied: packaging>=20.0 in /opt/conda/lib/python3.8/site-packages (from transformers) (21.3)\n",
      "Requirement already satisfied: requests in /opt/conda/lib/python3.8/site-packages (from transformers) (2.27.1)\n",
      "Requirement already satisfied: typing-extensions>=3.7.4.3 in /opt/conda/lib/python3.8/site-packages (from huggingface-hub<1.0,>=0.10.0->transformers) (4.2.0)\n",
      "Requirement already satisfied: pyparsing!=3.0.5,>=2.0.2 in /opt/conda/lib/python3.8/site-packages (from packaging>=20.0->transformers) (3.0.9)\n",
      "Requirement already satisfied: certifi>=2017.4.17 in /opt/conda/lib/python3.8/site-packages (from requests->transformers) (2022.5.18.1)\n",
      "Requirement already satisfied: charset-normalizer~=2.0.0 in /opt/conda/lib/python3.8/site-packages (from requests->transformers) (2.0.12)\n",
      "Requirement already satisfied: idna<4,>=2.5 in /opt/conda/lib/python3.8/site-packages (from requests->transformers) (3.3)\n",
      "Requirement already satisfied: urllib3<1.27,>=1.21.1 in /opt/conda/lib/python3.8/site-packages (from requests->transformers) (1.26.9)\n",
      "\u001b[33mWARNING: Running pip as the 'root' user can result in broken permissions and conflicting behaviour with the system package manager. It is recommended to use a virtual environment instead: https://pip.pypa.io/warnings/venv\u001b[0m\n"
     ]
    }
   ],
   "source": [
    "!pip install transformers"
   ]
  },
  {
   "cell_type": "code",
   "execution_count": 2,
   "id": "a6a57b94",
   "metadata": {},
   "outputs": [
    {
     "name": "stdout",
     "output_type": "stream",
     "text": [
      "Looking in indexes: https://pypi.org/simple, https://pypi.ngc.nvidia.com\n",
      "Requirement already satisfied: tensorflow-gpu in /opt/conda/lib/python3.8/site-packages (2.10.0)\n",
      "Requirement already satisfied: h5py>=2.9.0 in /opt/conda/lib/python3.8/site-packages (from tensorflow-gpu) (3.7.0)\n",
      "Requirement already satisfied: tensorflow-io-gcs-filesystem>=0.23.1 in /opt/conda/lib/python3.8/site-packages (from tensorflow-gpu) (0.27.0)\n",
      "Requirement already satisfied: flatbuffers>=2.0 in /opt/conda/lib/python3.8/site-packages (from tensorflow-gpu) (22.9.24)\n",
      "Requirement already satisfied: six>=1.12.0 in /opt/conda/lib/python3.8/site-packages (from tensorflow-gpu) (1.16.0)\n",
      "Requirement already satisfied: typing-extensions>=3.6.6 in /opt/conda/lib/python3.8/site-packages (from tensorflow-gpu) (4.2.0)\n",
      "Requirement already satisfied: keras<2.11,>=2.10.0 in /opt/conda/lib/python3.8/site-packages (from tensorflow-gpu) (2.10.0)\n",
      "Requirement already satisfied: packaging in /opt/conda/lib/python3.8/site-packages (from tensorflow-gpu) (21.3)\n",
      "Requirement already satisfied: libclang>=13.0.0 in /opt/conda/lib/python3.8/site-packages (from tensorflow-gpu) (14.0.6)\n",
      "Requirement already satisfied: wrapt>=1.11.0 in /opt/conda/lib/python3.8/site-packages (from tensorflow-gpu) (1.14.1)\n",
      "Requirement already satisfied: protobuf<3.20,>=3.9.2 in /opt/conda/lib/python3.8/site-packages (from tensorflow-gpu) (3.19.4)\n",
      "Requirement already satisfied: google-pasta>=0.1.1 in /opt/conda/lib/python3.8/site-packages (from tensorflow-gpu) (0.2.0)\n",
      "Requirement already satisfied: absl-py>=1.0.0 in /opt/conda/lib/python3.8/site-packages (from tensorflow-gpu) (1.1.0)\n",
      "Requirement already satisfied: tensorflow-estimator<2.11,>=2.10.0 in /opt/conda/lib/python3.8/site-packages (from tensorflow-gpu) (2.10.0)\n",
      "Requirement already satisfied: grpcio<2.0,>=1.24.3 in /opt/conda/lib/python3.8/site-packages (from tensorflow-gpu) (1.46.3)\n",
      "Requirement already satisfied: termcolor>=1.1.0 in /opt/conda/lib/python3.8/site-packages (from tensorflow-gpu) (2.0.1)\n",
      "Requirement already satisfied: opt-einsum>=2.3.2 in /opt/conda/lib/python3.8/site-packages (from tensorflow-gpu) (3.3.0)\n",
      "Requirement already satisfied: setuptools in /opt/conda/lib/python3.8/site-packages (from tensorflow-gpu) (59.5.0)\n",
      "Requirement already satisfied: numpy>=1.20 in /opt/conda/lib/python3.8/site-packages (from tensorflow-gpu) (1.22.4)\n",
      "Requirement already satisfied: keras-preprocessing>=1.1.1 in /opt/conda/lib/python3.8/site-packages (from tensorflow-gpu) (1.1.2)\n",
      "Requirement already satisfied: astunparse>=1.6.0 in /opt/conda/lib/python3.8/site-packages (from tensorflow-gpu) (1.6.3)\n",
      "Requirement already satisfied: tensorboard<2.11,>=2.10 in /opt/conda/lib/python3.8/site-packages (from tensorflow-gpu) (2.10.1)\n",
      "Requirement already satisfied: gast<=0.4.0,>=0.2.1 in /opt/conda/lib/python3.8/site-packages (from tensorflow-gpu) (0.4.0)\n",
      "Requirement already satisfied: wheel<1.0,>=0.23.0 in /opt/conda/lib/python3.8/site-packages (from astunparse>=1.6.0->tensorflow-gpu) (0.37.1)\n",
      "Requirement already satisfied: google-auth<3,>=1.6.3 in /opt/conda/lib/python3.8/site-packages (from tensorboard<2.11,>=2.10->tensorflow-gpu) (2.7.0)\n",
      "Requirement already satisfied: tensorboard-plugin-wit>=1.6.0 in /opt/conda/lib/python3.8/site-packages (from tensorboard<2.11,>=2.10->tensorflow-gpu) (1.8.1)\n",
      "Requirement already satisfied: requests<3,>=2.21.0 in /opt/conda/lib/python3.8/site-packages (from tensorboard<2.11,>=2.10->tensorflow-gpu) (2.27.1)\n",
      "Requirement already satisfied: google-auth-oauthlib<0.5,>=0.4.1 in /opt/conda/lib/python3.8/site-packages (from tensorboard<2.11,>=2.10->tensorflow-gpu) (0.4.6)\n",
      "Requirement already satisfied: tensorboard-data-server<0.7.0,>=0.6.0 in /opt/conda/lib/python3.8/site-packages (from tensorboard<2.11,>=2.10->tensorflow-gpu) (0.6.1)\n",
      "Requirement already satisfied: werkzeug>=1.0.1 in /opt/conda/lib/python3.8/site-packages (from tensorboard<2.11,>=2.10->tensorflow-gpu) (2.1.2)\n",
      "Requirement already satisfied: markdown>=2.6.8 in /opt/conda/lib/python3.8/site-packages (from tensorboard<2.11,>=2.10->tensorflow-gpu) (3.3.7)\n",
      "Requirement already satisfied: cachetools<6.0,>=2.0.0 in /opt/conda/lib/python3.8/site-packages (from google-auth<3,>=1.6.3->tensorboard<2.11,>=2.10->tensorflow-gpu) (5.2.0)\n",
      "Requirement already satisfied: rsa<5,>=3.1.4 in /opt/conda/lib/python3.8/site-packages (from google-auth<3,>=1.6.3->tensorboard<2.11,>=2.10->tensorflow-gpu) (4.8)\n",
      "Requirement already satisfied: pyasn1-modules>=0.2.1 in /opt/conda/lib/python3.8/site-packages (from google-auth<3,>=1.6.3->tensorboard<2.11,>=2.10->tensorflow-gpu) (0.2.8)\n",
      "Requirement already satisfied: requests-oauthlib>=0.7.0 in /opt/conda/lib/python3.8/site-packages (from google-auth-oauthlib<0.5,>=0.4.1->tensorboard<2.11,>=2.10->tensorflow-gpu) (1.3.1)\n",
      "Requirement already satisfied: importlib-metadata>=4.4 in /opt/conda/lib/python3.8/site-packages (from markdown>=2.6.8->tensorboard<2.11,>=2.10->tensorflow-gpu) (4.11.4)\n",
      "Requirement already satisfied: zipp>=0.5 in /opt/conda/lib/python3.8/site-packages (from importlib-metadata>=4.4->markdown>=2.6.8->tensorboard<2.11,>=2.10->tensorflow-gpu) (3.8.0)\n",
      "Requirement already satisfied: pyasn1<0.5.0,>=0.4.6 in /opt/conda/lib/python3.8/site-packages (from pyasn1-modules>=0.2.1->google-auth<3,>=1.6.3->tensorboard<2.11,>=2.10->tensorflow-gpu) (0.4.8)\n",
      "Requirement already satisfied: certifi>=2017.4.17 in /opt/conda/lib/python3.8/site-packages (from requests<3,>=2.21.0->tensorboard<2.11,>=2.10->tensorflow-gpu) (2022.5.18.1)\n",
      "Requirement already satisfied: urllib3<1.27,>=1.21.1 in /opt/conda/lib/python3.8/site-packages (from requests<3,>=2.21.0->tensorboard<2.11,>=2.10->tensorflow-gpu) (1.26.9)\n",
      "Requirement already satisfied: idna<4,>=2.5 in /opt/conda/lib/python3.8/site-packages (from requests<3,>=2.21.0->tensorboard<2.11,>=2.10->tensorflow-gpu) (3.3)\n",
      "Requirement already satisfied: charset-normalizer~=2.0.0 in /opt/conda/lib/python3.8/site-packages (from requests<3,>=2.21.0->tensorboard<2.11,>=2.10->tensorflow-gpu) (2.0.12)\n",
      "Requirement already satisfied: oauthlib>=3.0.0 in /opt/conda/lib/python3.8/site-packages (from requests-oauthlib>=0.7.0->google-auth-oauthlib<0.5,>=0.4.1->tensorboard<2.11,>=2.10->tensorflow-gpu) (3.2.0)\n",
      "Requirement already satisfied: pyparsing!=3.0.5,>=2.0.2 in /opt/conda/lib/python3.8/site-packages (from packaging->tensorflow-gpu) (3.0.9)\n",
      "\u001b[33mWARNING: Running pip as the 'root' user can result in broken permissions and conflicting behaviour with the system package manager. It is recommended to use a virtual environment instead: https://pip.pypa.io/warnings/venv\u001b[0m\n"
     ]
    }
   ],
   "source": [
    "!pip install tensorflow-gpu"
   ]
  },
  {
   "cell_type": "code",
   "execution_count": 3,
   "id": "d81a7927",
   "metadata": {},
   "outputs": [
    {
     "name": "stderr",
     "output_type": "stream",
     "text": [
      "2022-10-23 18:13:13.685015: I tensorflow/core/platform/cpu_feature_guard.cc:193] This TensorFlow binary is optimized with oneAPI Deep Neural Network Library (oneDNN) to use the following CPU instructions in performance-critical operations:  AVX2 FMA\n",
      "To enable them in other operations, rebuild TensorFlow with the appropriate compiler flags.\n",
      "2022-10-23 18:13:13.815642: E tensorflow/stream_executor/cuda/cuda_blas.cc:2981] Unable to register cuBLAS factory: Attempting to register factory for plugin cuBLAS when one has already been registered\n",
      "2022-10-23 18:13:14.412310: W tensorflow/stream_executor/platform/default/dso_loader.cc:64] Could not load dynamic library 'libnvinfer.so.7'; dlerror: libnvinfer.so.7: cannot open shared object file: No such file or directory; LD_LIBRARY_PATH: /usr/local/cuda/compat/lib.real:/opt/conda/lib/python3.8/site-packages/torch/lib:/opt/conda/lib/python3.8/site-packages/torch_tensorrt/lib:/usr/local/cuda/compat/lib:/usr/local/nvidia/lib:/usr/local/nvidia/lib64\n",
      "2022-10-23 18:13:14.412387: W tensorflow/stream_executor/platform/default/dso_loader.cc:64] Could not load dynamic library 'libnvinfer_plugin.so.7'; dlerror: libnvinfer_plugin.so.7: cannot open shared object file: No such file or directory; LD_LIBRARY_PATH: /usr/local/cuda/compat/lib.real:/opt/conda/lib/python3.8/site-packages/torch/lib:/opt/conda/lib/python3.8/site-packages/torch_tensorrt/lib:/usr/local/cuda/compat/lib:/usr/local/nvidia/lib:/usr/local/nvidia/lib64\n",
      "2022-10-23 18:13:14.412392: W tensorflow/compiler/tf2tensorrt/utils/py_utils.cc:38] TF-TRT Warning: Cannot dlopen some TensorRT libraries. If you would like to use Nvidia GPU with TensorRT, please make sure the missing libraries mentioned above are installed properly.\n"
     ]
    },
    {
     "name": "stdout",
     "output_type": "stream",
     "text": [
      "['/device:CPU:0', '/device:GPU:0', '/device:GPU:1', '/device:GPU:2', '/device:GPU:3', '/device:GPU:4', '/device:GPU:5', '/device:GPU:6', '/device:GPU:7']\n"
     ]
    },
    {
     "name": "stderr",
     "output_type": "stream",
     "text": [
      "2022-10-23 18:13:15.338011: I tensorflow/core/platform/cpu_feature_guard.cc:193] This TensorFlow binary is optimized with oneAPI Deep Neural Network Library (oneDNN) to use the following CPU instructions in performance-critical operations:  AVX2 FMA\n",
      "To enable them in other operations, rebuild TensorFlow with the appropriate compiler flags.\n",
      "2022-10-23 18:13:19.187860: I tensorflow/core/common_runtime/gpu/gpu_device.cc:1616] Created device /device:GPU:0 with 34652 MB memory:  -> device: 0, name: A100-SXM4-40GB, pci bus id: 0000:07:00.0, compute capability: 8.0\n",
      "2022-10-23 18:13:19.189752: I tensorflow/core/common_runtime/gpu/gpu_device.cc:1616] Created device /device:GPU:1 with 30828 MB memory:  -> device: 1, name: A100-SXM4-40GB, pci bus id: 0000:0f:00.0, compute capability: 8.0\n",
      "2022-10-23 18:13:19.191493: I tensorflow/core/common_runtime/gpu/gpu_device.cc:1616] Created device /device:GPU:2 with 37221 MB memory:  -> device: 2, name: A100-SXM4-40GB, pci bus id: 0000:47:00.0, compute capability: 8.0\n",
      "2022-10-23 18:13:19.193159: I tensorflow/core/common_runtime/gpu/gpu_device.cc:1616] Created device /device:GPU:3 with 37221 MB memory:  -> device: 3, name: A100-SXM4-40GB, pci bus id: 0000:4e:00.0, compute capability: 8.0\n",
      "2022-10-23 18:13:19.194811: I tensorflow/core/common_runtime/gpu/gpu_device.cc:1616] Created device /device:GPU:4 with 37221 MB memory:  -> device: 4, name: A100-SXM4-40GB, pci bus id: 0000:87:00.0, compute capability: 8.0\n",
      "2022-10-23 18:13:19.196479: I tensorflow/core/common_runtime/gpu/gpu_device.cc:1616] Created device /device:GPU:5 with 37221 MB memory:  -> device: 5, name: A100-SXM4-40GB, pci bus id: 0000:90:00.0, compute capability: 8.0\n",
      "2022-10-23 18:13:19.198185: I tensorflow/core/common_runtime/gpu/gpu_device.cc:1616] Created device /device:GPU:6 with 37221 MB memory:  -> device: 6, name: A100-SXM4-40GB, pci bus id: 0000:b7:00.0, compute capability: 8.0\n",
      "2022-10-23 18:13:19.200333: I tensorflow/core/common_runtime/gpu/gpu_device.cc:1616] Created device /device:GPU:7 with 36837 MB memory:  -> device: 7, name: A100-SXM4-40GB, pci bus id: 0000:bd:00.0, compute capability: 8.0\n"
     ]
    }
   ],
   "source": [
    "from tensorflow.python.client import device_lib\n",
    "\n",
    "def get_available_devices():\n",
    "    local_device_protos = device_lib.list_local_devices()\n",
    "    return [x.name for x in local_device_protos]\n",
    "\n",
    "print(get_available_devices())"
   ]
  },
  {
   "cell_type": "code",
   "execution_count": 4,
   "id": "e65acc7f",
   "metadata": {},
   "outputs": [],
   "source": [
    "#import os\n",
    "#os.environ['CUDA_VISIBLE_DEVICES']"
   ]
  },
  {
   "cell_type": "code",
   "execution_count": 5,
   "id": "a49ea595",
   "metadata": {},
   "outputs": [
    {
     "name": "stdout",
     "output_type": "stream",
     "text": [
      "Looking in indexes: https://pypi.org/simple, https://pypi.ngc.nvidia.com\n",
      "Requirement already satisfied: sentencepiece in /opt/conda/lib/python3.8/site-packages (0.1.97)\n",
      "\u001b[33mWARNING: Running pip as the 'root' user can result in broken permissions and conflicting behaviour with the system package manager. It is recommended to use a virtual environment instead: https://pip.pypa.io/warnings/venv\u001b[0m\n"
     ]
    }
   ],
   "source": [
    "!pip install sentencepiece"
   ]
  },
  {
   "cell_type": "code",
   "execution_count": 6,
   "id": "4b05cadb",
   "metadata": {},
   "outputs": [
    {
     "name": "stdout",
     "output_type": "stream",
     "text": [
      "Looking in indexes: https://pypi.org/simple, https://pypi.ngc.nvidia.com\n",
      "Requirement already satisfied: seaborn in /opt/conda/lib/python3.8/site-packages (0.12.1)\n",
      "Requirement already satisfied: numpy>=1.17 in /opt/conda/lib/python3.8/site-packages (from seaborn) (1.22.4)\n",
      "Requirement already satisfied: matplotlib!=3.6.1,>=3.1 in /opt/conda/lib/python3.8/site-packages (from seaborn) (3.5.2)\n",
      "Requirement already satisfied: pandas>=0.25 in /opt/conda/lib/python3.8/site-packages (from seaborn) (1.3.5)\n",
      "Requirement already satisfied: python-dateutil>=2.7 in /opt/conda/lib/python3.8/site-packages (from matplotlib!=3.6.1,>=3.1->seaborn) (2.8.2)\n",
      "Requirement already satisfied: pyparsing>=2.2.1 in /opt/conda/lib/python3.8/site-packages (from matplotlib!=3.6.1,>=3.1->seaborn) (3.0.9)\n",
      "Requirement already satisfied: packaging>=20.0 in /opt/conda/lib/python3.8/site-packages (from matplotlib!=3.6.1,>=3.1->seaborn) (21.3)\n",
      "Requirement already satisfied: fonttools>=4.22.0 in /opt/conda/lib/python3.8/site-packages (from matplotlib!=3.6.1,>=3.1->seaborn) (4.33.3)\n",
      "Requirement already satisfied: pillow>=6.2.0 in /opt/conda/lib/python3.8/site-packages (from matplotlib!=3.6.1,>=3.1->seaborn) (9.0.1)\n",
      "Requirement already satisfied: kiwisolver>=1.0.1 in /opt/conda/lib/python3.8/site-packages (from matplotlib!=3.6.1,>=3.1->seaborn) (1.4.3)\n",
      "Requirement already satisfied: cycler>=0.10 in /opt/conda/lib/python3.8/site-packages (from matplotlib!=3.6.1,>=3.1->seaborn) (0.11.0)\n",
      "Requirement already satisfied: pytz>=2017.3 in /opt/conda/lib/python3.8/site-packages (from pandas>=0.25->seaborn) (2022.1)\n",
      "Requirement already satisfied: six>=1.5 in /opt/conda/lib/python3.8/site-packages (from python-dateutil>=2.7->matplotlib!=3.6.1,>=3.1->seaborn) (1.16.0)\n",
      "\u001b[33mWARNING: Running pip as the 'root' user can result in broken permissions and conflicting behaviour with the system package manager. It is recommended to use a virtual environment instead: https://pip.pypa.io/warnings/venv\u001b[0m\n"
     ]
    }
   ],
   "source": [
    "!pip install seaborn"
   ]
  },
  {
   "cell_type": "code",
   "execution_count": 7,
   "id": "0a486dac",
   "metadata": {},
   "outputs": [
    {
     "name": "stdout",
     "output_type": "stream",
     "text": [
      "Looking in indexes: https://pypi.org/simple, https://pypi.ngc.nvidia.com\n",
      "Requirement already satisfied: tqdm in /opt/conda/lib/python3.8/site-packages (4.64.0)\n",
      "\u001b[33mWARNING: Running pip as the 'root' user can result in broken permissions and conflicting behaviour with the system package manager. It is recommended to use a virtual environment instead: https://pip.pypa.io/warnings/venv\u001b[0m\n"
     ]
    }
   ],
   "source": [
    "!pip install tqdm"
   ]
  },
  {
   "cell_type": "code",
   "execution_count": 8,
   "id": "ed82770d",
   "metadata": {},
   "outputs": [
    {
     "name": "stderr",
     "output_type": "stream",
     "text": [
      "/opt/conda/lib/python3.8/site-packages/tqdm/auto.py:22: TqdmWarning: IProgress not found. Please update jupyter and ipywidgets. See https://ipywidgets.readthedocs.io/en/stable/user_install.html\n",
      "  from .autonotebook import tqdm as notebook_tqdm\n"
     ]
    }
   ],
   "source": [
    "import pandas as pd\n",
    "import numpy as np\n",
    "from transformers import pipeline\n",
    "from tqdm import tqdm\n",
    "from transformers import PegasusForConditionalGeneration, PegasusTokenizer\n",
    "import time\n",
    "from transformers import AdamW, AutoTokenizer, AutoModelForSequenceClassification\n",
    "from transformers import DataCollatorWithPadding\n",
    "from transformers import AutoTokenizer, AutoModelForSequenceClassification, TrainingArguments, Trainer"
   ]
  },
  {
   "cell_type": "markdown",
   "id": "e0937e02",
   "metadata": {},
   "source": [
    "### Loading datasets"
   ]
  },
  {
   "cell_type": "code",
   "execution_count": 9,
   "id": "6ee1d463",
   "metadata": {},
   "outputs": [
    {
     "name": "stdout",
     "output_type": "stream",
     "text": [
      "/workspace/asurion_f22_muby\n"
     ]
    }
   ],
   "source": [
    "%cd .."
   ]
  },
  {
   "cell_type": "code",
   "execution_count": 10,
   "id": "e9d730d8",
   "metadata": {},
   "outputs": [],
   "source": [
    "transcript_train = pd.read_csv(\"fe_data_v2/transcript_data/transcript_train_data.csv\")"
   ]
  },
  {
   "cell_type": "code",
   "execution_count": 68,
   "id": "9b978247",
   "metadata": {},
   "outputs": [
    {
     "name": "stderr",
     "output_type": "stream",
     "text": [
      "/tmp/ipykernel_23934/455747962.py:1: SettingWithCopyWarning: \n",
      "A value is trying to be set on a copy of a slice from a DataFrame.\n",
      "Try using .loc[row_indexer,col_indexer] = value instead\n",
      "\n",
      "See the caveats in the documentation: https://pandas.pydata.org/pandas-docs/stable/user_guide/indexing.html#returning-a-view-versus-a-copy\n",
      "  transcript_train[\"encrypted_collated_transcription\"] = transcript_train[\"encrypted_collated_transcription\"].astype(str)\n",
      "/tmp/ipykernel_23934/455747962.py:2: SettingWithCopyWarning: \n",
      "A value is trying to be set on a copy of a slice from a DataFrame.\n",
      "Try using .loc[row_indexer,col_indexer] = value instead\n",
      "\n",
      "See the caveats in the documentation: https://pandas.pydata.org/pandas-docs/stable/user_guide/indexing.html#returning-a-view-versus-a-copy\n",
      "  transcript_test[\"encrypted_collated_transcription\"] = transcript_test[\"encrypted_collated_transcription\"].astype(str)\n"
     ]
    }
   ],
   "source": [
    "transcript_train[\"encrypted_collated_transcription\"] = transcript_train[\"encrypted_collated_transcription\"].astype(str)"
   ]
  },
  {
   "cell_type": "code",
   "execution_count": 11,
   "id": "423c5ee6",
   "metadata": {},
   "outputs": [
    {
     "data": {
      "text/html": [
       "<div>\n",
       "<style scoped>\n",
       "    .dataframe tbody tr th:only-of-type {\n",
       "        vertical-align: middle;\n",
       "    }\n",
       "\n",
       "    .dataframe tbody tr th {\n",
       "        vertical-align: top;\n",
       "    }\n",
       "\n",
       "    .dataframe thead th {\n",
       "        text-align: right;\n",
       "    }\n",
       "</style>\n",
       "<table border=\"1\" class=\"dataframe\">\n",
       "  <thead>\n",
       "    <tr style=\"text-align: right;\">\n",
       "      <th></th>\n",
       "      <th>id</th>\n",
       "      <th>sales_offer_date</th>\n",
       "      <th>accepted_flg</th>\n",
       "      <th>encrypted_collated_transcription</th>\n",
       "      <th>month</th>\n",
       "      <th>length</th>\n",
       "      <th>length_3rd</th>\n",
       "      <th>first_3rd</th>\n",
       "      <th>second_3rd</th>\n",
       "      <th>third_3rd</th>\n",
       "    </tr>\n",
       "  </thead>\n",
       "  <tbody>\n",
       "    <tr>\n",
       "      <th>0</th>\n",
       "      <td>e5e4ee3c3c0e9ac72561334e6eb23cc233b1bcd0a0063d...</td>\n",
       "      <td>2022-03-26</td>\n",
       "      <td>False</td>\n",
       "      <td>ok Thank for calling [CLIENT] Tech Hello? Hi. ...</td>\n",
       "      <td>march</td>\n",
       "      <td>7054</td>\n",
       "      <td>2351</td>\n",
       "      <td>ok Thank for calling [CLIENT] Tech Hello? Hi. ...</td>\n",
       "      <td>et you know what I could be able to see here. ...</td>\n",
       "      <td>see is that the, uh, places is still under th...</td>\n",
       "    </tr>\n",
       "    <tr>\n",
       "      <th>1</th>\n",
       "      <td>ae6128d8d240d28edbcb7eb27256780cf662a2be1aec8c...</td>\n",
       "      <td>2022-03-02</td>\n",
       "      <td>False</td>\n",
       "      <td>on on Oh, My name is [NAME]. May I please have...</td>\n",
       "      <td>march</td>\n",
       "      <td>7467</td>\n",
       "      <td>2489</td>\n",
       "      <td>on on Oh, My name is [NAME]. May I please have...</td>\n",
       "      <td>y got all of that Well, their account for hack...</td>\n",
       "      <td>I they're setting up their Myverizon account, ...</td>\n",
       "    </tr>\n",
       "    <tr>\n",
       "      <th>2</th>\n",
       "      <td>4899f9acdb70b0246b2d0ac2871dbcea8267e57b060154...</td>\n",
       "      <td>2022-03-12</td>\n",
       "      <td>False</td>\n",
       "      <td>Hello. We for calling [CLIENT] Tech Coach. My ...</td>\n",
       "      <td>march</td>\n",
       "      <td>3953</td>\n",
       "      <td>1317</td>\n",
       "      <td>Hello. We for calling [CLIENT] Tech Coach. My ...</td>\n",
       "      <td>know, do I hit. get through the put me throug...</td>\n",
       "      <td>t to Oh, I can I just another phone sir maybe,...</td>\n",
       "    </tr>\n",
       "    <tr>\n",
       "      <th>3</th>\n",
       "      <td>0589751e11caac0eac815faf84f1a366d70b86b78324a2...</td>\n",
       "      <td>2022-03-20</td>\n",
       "      <td>False</td>\n",
       "      <td>Hello. Thank you so much for contacting [CLIEN...</td>\n",
       "      <td>march</td>\n",
       "      <td>6998</td>\n",
       "      <td>2332</td>\n",
       "      <td>Hello. Thank you so much for contacting [CLIEN...</td>\n",
       "      <td>et it many times. Good there is what we call a...</td>\n",
       "      <td>ing issues being able to send text messages, t...</td>\n",
       "    </tr>\n",
       "    <tr>\n",
       "      <th>4</th>\n",
       "      <td>6c4790cb02e4f556d73436f79268d5c99de50a9acec40e...</td>\n",
       "      <td>2022-03-15</td>\n",
       "      <td>False</td>\n",
       "      <td>Thank you very much Hello? can I can you hear ...</td>\n",
       "      <td>march</td>\n",
       "      <td>7550</td>\n",
       "      <td>2516</td>\n",
       "      <td>Thank you very much Hello? can I can you hear ...</td>\n",
       "      <td>something happened with the features. I had to...</td>\n",
       "      <td>hold. uh ok. rode um. Man. um. woo Well? thank...</td>\n",
       "    </tr>\n",
       "  </tbody>\n",
       "</table>\n",
       "</div>"
      ],
      "text/plain": [
       "                                                  id sales_offer_date  \\\n",
       "0  e5e4ee3c3c0e9ac72561334e6eb23cc233b1bcd0a0063d...       2022-03-26   \n",
       "1  ae6128d8d240d28edbcb7eb27256780cf662a2be1aec8c...       2022-03-02   \n",
       "2  4899f9acdb70b0246b2d0ac2871dbcea8267e57b060154...       2022-03-12   \n",
       "3  0589751e11caac0eac815faf84f1a366d70b86b78324a2...       2022-03-20   \n",
       "4  6c4790cb02e4f556d73436f79268d5c99de50a9acec40e...       2022-03-15   \n",
       "\n",
       "   accepted_flg                   encrypted_collated_transcription  month  \\\n",
       "0         False  ok Thank for calling [CLIENT] Tech Hello? Hi. ...  march   \n",
       "1         False  on on Oh, My name is [NAME]. May I please have...  march   \n",
       "2         False  Hello. We for calling [CLIENT] Tech Coach. My ...  march   \n",
       "3         False  Hello. Thank you so much for contacting [CLIEN...  march   \n",
       "4         False  Thank you very much Hello? can I can you hear ...  march   \n",
       "\n",
       "   length  length_3rd                                          first_3rd  \\\n",
       "0    7054        2351  ok Thank for calling [CLIENT] Tech Hello? Hi. ...   \n",
       "1    7467        2489  on on Oh, My name is [NAME]. May I please have...   \n",
       "2    3953        1317  Hello. We for calling [CLIENT] Tech Coach. My ...   \n",
       "3    6998        2332  Hello. Thank you so much for contacting [CLIEN...   \n",
       "4    7550        2516  Thank you very much Hello? can I can you hear ...   \n",
       "\n",
       "                                          second_3rd  \\\n",
       "0  et you know what I could be able to see here. ...   \n",
       "1  y got all of that Well, their account for hack...   \n",
       "2   know, do I hit. get through the put me throug...   \n",
       "3  et it many times. Good there is what we call a...   \n",
       "4  something happened with the features. I had to...   \n",
       "\n",
       "                                           third_3rd  \n",
       "0   see is that the, uh, places is still under th...  \n",
       "1  I they're setting up their Myverizon account, ...  \n",
       "2  t to Oh, I can I just another phone sir maybe,...  \n",
       "3  ing issues being able to send text messages, t...  \n",
       "4  hold. uh ok. rode um. Man. um. woo Well? thank...  "
      ]
     },
     "execution_count": 11,
     "metadata": {},
     "output_type": "execute_result"
    }
   ],
   "source": [
    "transcript_train.head()"
   ]
  },
  {
   "cell_type": "markdown",
   "id": "5b29aea3",
   "metadata": {},
   "source": [
    "#### Creating Summarization Function"
   ]
  },
  {
   "cell_type": "code",
   "execution_count": 13,
   "id": "6a9bc15c",
   "metadata": {},
   "outputs": [],
   "source": [
    "from transformers import pipeline"
   ]
  },
  {
   "cell_type": "code",
   "execution_count": 14,
   "id": "90a598a4",
   "metadata": {},
   "outputs": [],
   "source": [
    "pega = pipeline(\"summarization\", model=\"google/pegasus-cnn_dailymail\")"
   ]
  },
  {
   "cell_type": "code",
   "execution_count": 15,
   "id": "f826fb8f",
   "metadata": {},
   "outputs": [
    {
     "data": {
      "text/plain": [
       "\"ok Thank for calling [CLIENT] Tech Hello? Hi. It's Christie Ferguson. Speaking. May I have your first and last name, please? Hi there, Christie. What's the phone number calling about? I'm calling about mobile, um, data use constantly anymore. Ok. Well, sorry here they have the issues with regards your Mobile data about, Christie. What's the phone number you're calling about? Seven [NUMBER] [NUMBER] [NUMBER] [NUMBER] [NUMBER] [NUMBER] [NUMBER] [NUMBER] seven Thank you so much. Ok. Let me just pull up your account here, Chris. so Could be able to run a network test and then uh later on let's make sure that all of the security pictures activated onto your account. So if could be able to maximize the uh, functionality see every phone. About the way Christie, uh, you mentioned and that you're having troubles when it comes to your cellular data Can you tell me since when it started happening? been going on and off for probably a couple weeks, but if it's not Probably. know, one thing it's another yeah it's been, the past month Um. Probably and I'm on four at all times and Mhmm. used to always be m [DIGIT]g and, uh, the service is just worse all the time so I'm I'm ready to Drop by T-mobile and switch companies today, but I thought i call one last time and ask it what the problem is cause you're sure not dropping your rates. Mhmm. you know, bad service. I don't know what happened, but it's it's definitely bad. And i've Yeah. had your service for years in this exact same area I'm a realtor, not acceptable. Yeah. We really appreciate your back when it comes to uh, the services that you're getting, but, yeah. Well, when it comes to the, options of getting you like, a different plan we'll, uh we can talk about, uh, I'm not after a different claim. I'm asked good uh, that later on with Bye bye. Yep. service I don't need a different plan. Right? I mean, I have the best of the best. I just need good service and I don't have it right now. Alrighty. Yeah Let me take a look what seems to be like the problem so that At least I could be able to explain to you. By the way, Chris, can you provide me your uh four digit account and so I could be able * Mhmm. pull up your account Ok. Thank you. Alright. There we go. It's that great figure here. It's so what I'm gonna do. I'm just gonna go ahead and run a network test and then we'll let you know what I could be able to see here. Alright? Does you've mentioned that has been kept Excuse. couple weeks already that you're having this issue. So, ok me take a look what seems to be like the problem. I just did this with somebody probably two weeks ago, but here I am again. So Mhmm. Mm. Um, back then, by the way, when the uh troubleshoot your issue you, um, Does it somehow at least improve the bit for it still the same? after you have talked to the technical support guy. seemed to be better you there at least I wasn't getting in intermittent. service all the time. Ok. And you are using this Correct. galaxy notes then Right? Ok. Hold on. I'm also Mm. Ok. getting ready to? upgrade my phone but that shouldn't be anything to do with what this is. I'm guessing that Pin? Yeah. Um cause, um, actually, I'm trying to run network test here in my end and then it appears should be I can see the indicator that your area is under network for management. So normally, during this time, um, there's a network upgrade supposedly around the area. that's affecting like the current connection they you have that's why you're having uh issues\""
      ]
     },
     "execution_count": 15,
     "metadata": {},
     "output_type": "execute_result"
    }
   ],
   "source": [
    "transcript_train.iloc[0,3][:3500]"
   ]
  },
  {
   "cell_type": "code",
   "execution_count": 16,
   "id": "31ff7cfa",
   "metadata": {},
   "outputs": [
    {
     "data": {
      "text/plain": [
       "'When calling [CLIENT] Tech Coach, the operator will try to connect you to a different number. If this happens, the operator will try to reset your phone number. When this happens, the operator will try to connect you to a different number. If this happens again, the operator will try to reset your phone number .'"
      ]
     },
     "execution_count": 16,
     "metadata": {},
     "output_type": "execute_result"
    }
   ],
   "source": [
    "pipe_out_pega = pega(transcript_train.iloc[2,3][:3000])\n",
    "summary = pipe_out_pega[0][\"summary_text\"].replace(\" .<n>\", \". \")\n",
    "summary"
   ]
  },
  {
   "cell_type": "code",
   "execution_count": 17,
   "id": "15f275a3",
   "metadata": {},
   "outputs": [
    {
     "data": {
      "text/plain": [
       "\"Learn how to reset your phone so it doesn't freeze when you try to use it. Turn on your TV so it doesn't freeze when you try to use it. Use the weekly Newsquiz to test your knowledge of stories you saw on CNN.com .\""
      ]
     },
     "execution_count": 17,
     "metadata": {},
     "output_type": "execute_result"
    }
   ],
   "source": [
    "pipe_out_pega = pega(transcript_train.iloc[16,3][:3000])\n",
    "summary = pipe_out_pega[0][\"summary_text\"].replace(\" .<n>\", \". \")\n",
    "summary"
   ]
  },
  {
   "cell_type": "code",
   "execution_count": 18,
   "id": "fcd3c460",
   "metadata": {},
   "outputs": [],
   "source": [
    "#for i in range(len(transcript_train)):\n",
    "#    pipe_out_pega = pega(transcript_train.iloc[i,3][:3500])\n",
    "#    transcript_train.loc[i,\"summary\"] = pipe_out_pega[0][\"summary_text\"].replace(\" .<n>\", \". \")"
   ]
  },
  {
   "cell_type": "markdown",
   "id": "6da28ba0",
   "metadata": {},
   "source": [
    "The summarization function has a lot of limitations with regards to usage. Some of its issues are highlighted below:\n",
    "- Limitation of input text length: One observance made was that the summarization models could not process text that were beyond a certain number of words/characters/tokens. Hence, the text going into summarization models had to be truncated.\n",
    "- Wrong Output Provision: Due to the fact that the different summarization models have been pre-trained on certain data, they might end up providing output that has nothing to do with the context of the conversation between the client and the Asurion rep. This might stem from the fact that some conversations were literally pointless and had no direction. With the summarization models being coerced into saying something, they are likely to bring up some random summary they had to do in the past"
   ]
  },
  {
   "cell_type": "markdown",
   "id": "cb58a29b",
   "metadata": {},
   "source": [
    "### Sentiment Analysis"
   ]
  },
  {
   "cell_type": "markdown",
   "id": "7b58d582",
   "metadata": {},
   "source": [
    "#### 1st approach"
   ]
  },
  {
   "cell_type": "code",
   "execution_count": null,
   "id": "6d1b594f",
   "metadata": {},
   "outputs": [],
   "source": [
    "#max_memory_mapping = {0: \"40GB\"}\n",
    "#model = AutoModelForSequenceClassification.from_pretrained(\"facebook/bart-large-mnli\") # device_map = \"auto\",load_in_8bit=True, max_memory=max_memory_mapping)\n",
    "#tokenizer = AutoTokenizer.from_pretrained(\"facebook/bart-large-mnli\")\n",
    "#classifier = pipeline(\"zero-shot-classification\",\n",
    "#                      model=model, tokenizer = tokenizer, device = 0,framework = \"pt\")"
   ]
  },
  {
   "cell_type": "code",
   "execution_count": 19,
   "id": "21c6abfb",
   "metadata": {},
   "outputs": [
    {
     "name": "stderr",
     "output_type": "stream",
     "text": [
      "/opt/conda/lib/python3.8/site-packages/transformers/convert_slow_tokenizer.py:446: UserWarning: The sentencepiece tokenizer that you are converting to a fast tokenizer uses the byte fallback option which is not implemented in the fast tokenizers. In practice this means that the fast version of the tokenizer can produce unknown tokens whereas the sentencepiece version would have converted these unknown tokens into a sequence of byte tokens matching the original piece of text.\n",
      "  warnings.warn(\n"
     ]
    }
   ],
   "source": [
    "classifier = pipeline(\"zero-shot-classification\", model = \"MoritzLaurer/mDeBERTa-v3-base-mnli-xnli\",device = 0,framework = \"pt\", num_workers = 1)"
   ]
  },
  {
   "cell_type": "code",
   "execution_count": 20,
   "id": "66d343b6",
   "metadata": {},
   "outputs": [
    {
     "name": "stderr",
     "output_type": "stream",
     "text": [
      "/opt/conda/lib/python3.8/site-packages/transformers/models/deberta_v2/modeling_deberta_v2.py:745: UserWarning: To copy construct from a tensor, it is recommended to use sourceTensor.clone().detach() or sourceTensor.clone().detach().requires_grad_(True), rather than torch.tensor(sourceTensor).\n",
      "  attention_scores = torch.bmm(query_layer, key_layer.transpose(-1, -2)) / torch.tensor(\n",
      "/opt/conda/lib/python3.8/site-packages/transformers/models/deberta_v2/modeling_deberta_v2.py:829: UserWarning: To copy construct from a tensor, it is recommended to use sourceTensor.clone().detach() or sourceTensor.clone().detach().requires_grad_(True), rather than torch.tensor(sourceTensor).\n",
      "  score += c2p_att / torch.tensor(scale, dtype=c2p_att.dtype)\n",
      "/opt/conda/lib/python3.8/site-packages/transformers/models/deberta_v2/modeling_deberta_v2.py:852: UserWarning: To copy construct from a tensor, it is recommended to use sourceTensor.clone().detach() or sourceTensor.clone().detach().requires_grad_(True), rather than torch.tensor(sourceTensor).\n",
      "  score += p2c_att / torch.tensor(scale, dtype=p2c_att.dtype)\n"
     ]
    },
    {
     "data": {
      "text/plain": [
       "{'sequence': \"ok Thank for calling [CLIENT] Tech Hello? Hi. It's Christie Ferguson. Speaking. May I have your first and last name, please? Hi there, Christie. What's the phone number calling about? I'm calling about mobile, um, data use constantly anymore. Ok. Well, sorry here they have the issues with regards your Mobile data about, Christie. What's the phone number you're calling about? Seven [NUMBER] [NUMBER] [NUMBER] [NUMBER] [NUMBER] [NUMBER] [NUMBER] [NUMBER] seven Thank you so much. Ok. Let me just pull up your account here, Chris. so Could be able to run a network test and then uh later on let's make sure that all of the security pictures activated onto your account. So if could be able to maximize the uh, functionality see every phone. About the way Christie, uh, you mentioned and that you're having troubles when it comes to your cellular data Can you tell me since when it started happening? been going on and off for probably a couple weeks, but if it's not Probably. know, one thing it's another yeah it's been, the past month Um. Probably and I'm on four at all times and Mhmm. used to always be m [DIGIT]g and, uh, the service is just worse all the time so I'm I'm ready to Drop by T-mobile and switch companies today, but I thought i call one last time and ask it what the problem is cause you're sure not dropping your rates. Mhmm. you know, bad service. I don't know what happened, but it's it's definitely bad. And i've Yeah. had your service for years in this exact same area I'm a realtor, not acceptable. Yeah. We really appreciate your back when it comes to uh, the services that you're getting, but, yeah. Well, when it comes to the, options of getting you like, a different plan we'll, uh we can talk about, uh, I'm not after a different claim. I'm asked good uh, that later on with Bye bye. Yep. service I don't need a different plan. Right? I mean, I have the best of the best. I just need good service and I don't have it right now. Alrighty. Yeah Let me take a look what seems to be like the problem so that At least I could be able to explain to you. By the way, Chris, can you provide me your uh four digit account and so I could be able * Mhmm. pull up your account Ok. Thank you. Alright. There we go. It's that great figure here. It's so what I'm gonna do. I'm just gonna go ahead and run a network test and then we'll let you know what I could be able to see here. Alright? Does you've mentioned that has been kept Excuse. couple weeks already that you're having this issue. So, ok me take a look what seems to be like the problem. I just did this with somebody probably two weeks ago, but here I am again. So Mhmm. Mm. Um, back then, by the way, when the uh troubleshoot your issue you, um, Does it somehow at least improve the bit for it still the same? after you have talked to the technical support guy. seemed to be better you there at least I wasn't getting in intermittent. service all the time. Ok. And you are using this Correct. galaxy notes then Right? Ok. Hold on. I'm also Mm. Ok. getting ready to? upgrade my phone but that shouldn't be anything to do with what this is. I'm guessing that Pin? Yeah. Um cause, um, actually, I'm trying to run network test here in my end and then it appears should be I can see the indicator that your area is under network for management. So normally, during this time, um, there's a network upgrade supposedly around the area. that's affecting like the current connection they you have that's why you're having uh issues where the comes to cellular our data So most of the time your network management, uh, data might be temporarily slow but you mentioned that has been a couple of weeks already since, uh, has been happening right Right. Mkay. Let me take a look hold on. Alright. I'm gonna try to you to the network and then we're gonna retry it again. Are you calling from the phone right now that you're having issues with? Yes. It's seeing what phone I have. Hold on. I'll try to resend you to the network after the network test. that. I'm doing here will be done and then we're gonna access your network again. Alright? Ok. What about your phone calls and then your text messages Are you also having issues I have trouble the text today. It just kept saying failed, but that was Mm-mm. you know, one period of time right around the time the internet was not so great and Hmm. sent mini text since before and not a problem. Uh how's the all your quality of your phone call if you don't mind me asking? Fine. find as all. So sometimes text just fell as well. Thank you for giving me those information. I'm gonna document those onto the account I could be button and call on a ticket. is right now based on what i could see is that the, uh, places is still under their network management, and doesn't tell me like what will be like the estimated task from up until when this will be his, um, this is actually the affecting like the mobile data out your area. So let me just take a look because regardless how and it times to troubleshoot your phone, say, for example, we, uh, the network reset from your phone stuff from the settings as long as the arrow done they never manage but it is Happened considered like, uh, a bit uh, of a network upgraded around the area. Once the, uh, never stable around the area. being caused better network management well, then it will relieve like like, uh, some of your service system and mainly has something to do with regards or uh, mobile data. That's why your intent is seems to be slow. But, uh, what about this time, uh, let's try to hold on. Like one second here. I'll give me like two to three minutes and then we're gonna reach out to, uh, access the internet. Let's see if this time it will be like a little bit better. other than your phone, by the way, are you also using like, a different? or uh do you have like, other devices will that use at home? No. Ok. I see here you have been, uh, No. I'm not at home. offer about [CLIENT] home device protect last quick any particular reason you said no to this? Could that what? Uh, can see that you have been offered [CLIENT] of device protect last week. this one actually allows it to get the premium security. features they have onto your phone, which you currently have onto to your uh, protection plan. which is that the digital of Secure having [CLIENT] home device Uh, activated onto your account allows it's send lack like the premium feature which is identity theft And then, um, a Wifi protection plus you could be able to send level twenty four seven tech support extended to your other, uh home eligible devices such as your other, uh portable electronics. Did they mention anything about [CLIENT] Home device protect before to you last week when you called No. But I don't wanna do with that today. I'm just one thing at a time it's circulating to deal with any of it, so. Mhmm. I understand. But yeah. Well, this actual like, uh want feature you're available onto your account, which approves your security But, uh since that you're not ready for this one yet. Well\",\n",
       " 'labels': ['confusion', 'sadness', 'neutral', 'happiness', 'anger'],\n",
       " 'scores': [0.6305127739906311,\n",
       "  0.4748117923736572,\n",
       "  0.24524416029453278,\n",
       "  0.21647782623767853,\n",
       "  0.15706920623779297]}"
      ]
     },
     "execution_count": 20,
     "metadata": {},
     "output_type": "execute_result"
    }
   ],
   "source": [
    "classifier(transcript_train.iloc[0,3], [\"anger\", \"happiness\", \"neutral\",\"confusion\",\"sadness\"], multi_label = True)"
   ]
  },
  {
   "cell_type": "code",
   "execution_count": 21,
   "id": "19c50e49",
   "metadata": {},
   "outputs": [],
   "source": [
    "#import time\n",
    "#import torch\n",
    "#from torch.multiprocessing import Pool\n",
    "#torch.multiprocessing.set_start_method('spawn', force=True)"
   ]
  },
  {
   "cell_type": "code",
   "execution_count": 22,
   "id": "b9a6c7de",
   "metadata": {},
   "outputs": [],
   "source": [
    "import os\n",
    "os.environ['CUDA_VISIBLE_DEVICES'] = \"0,1,2,4,5,6,7\""
   ]
  },
  {
   "cell_type": "code",
   "execution_count": 23,
   "id": "268187cd",
   "metadata": {},
   "outputs": [
    {
     "name": "stderr",
     "output_type": "stream",
     "text": [
      "  9%|███████▍                                                                           | 9/100 [00:01<00:10,  8.49it/s]/opt/conda/lib/python3.8/site-packages/transformers/pipelines/base.py:1043: UserWarning: You seem to be using the pipelines sequentially on GPU. In order to maximize efficiency please use a dataset\n",
      "  warnings.warn(\n",
      "100%|█████████████████████████████████████████████████████████████████████████████████| 100/100 [00:10<00:00,  9.47it/s]\n"
     ]
    }
   ],
   "source": [
    "for i in tqdm(range((100))):\n",
    "    result = classifier(transcript_train.iloc[i,3], ['negative', 'neutral', 'positive'])\n",
    "    labels = result[\"labels\"]\n",
    "    scores = result[\"scores\"]\n",
    "    for j in range(len(labels)):\n",
    "        transcript_train.loc[i,labels[j]] = scores[j]"
   ]
  },
  {
   "cell_type": "code",
   "execution_count": 24,
   "id": "a0e1e8ee",
   "metadata": {},
   "outputs": [
    {
     "data": {
      "text/html": [
       "<div>\n",
       "<style scoped>\n",
       "    .dataframe tbody tr th:only-of-type {\n",
       "        vertical-align: middle;\n",
       "    }\n",
       "\n",
       "    .dataframe tbody tr th {\n",
       "        vertical-align: top;\n",
       "    }\n",
       "\n",
       "    .dataframe thead th {\n",
       "        text-align: right;\n",
       "    }\n",
       "</style>\n",
       "<table border=\"1\" class=\"dataframe\">\n",
       "  <thead>\n",
       "    <tr style=\"text-align: right;\">\n",
       "      <th></th>\n",
       "      <th>id</th>\n",
       "      <th>sales_offer_date</th>\n",
       "      <th>accepted_flg</th>\n",
       "      <th>encrypted_collated_transcription</th>\n",
       "      <th>month</th>\n",
       "      <th>length</th>\n",
       "      <th>length_3rd</th>\n",
       "      <th>first_3rd</th>\n",
       "      <th>second_3rd</th>\n",
       "      <th>third_3rd</th>\n",
       "      <th>negative</th>\n",
       "      <th>neutral</th>\n",
       "      <th>positive</th>\n",
       "    </tr>\n",
       "  </thead>\n",
       "  <tbody>\n",
       "    <tr>\n",
       "      <th>0</th>\n",
       "      <td>e5e4ee3c3c0e9ac72561334e6eb23cc233b1bcd0a0063d...</td>\n",
       "      <td>2022-03-26</td>\n",
       "      <td>False</td>\n",
       "      <td>ok Thank for calling [CLIENT] Tech Hello? Hi. ...</td>\n",
       "      <td>march</td>\n",
       "      <td>7054</td>\n",
       "      <td>2351</td>\n",
       "      <td>ok Thank for calling [CLIENT] Tech Hello? Hi. ...</td>\n",
       "      <td>et you know what I could be able to see here. ...</td>\n",
       "      <td>see is that the, uh, places is still under th...</td>\n",
       "      <td>0.700241</td>\n",
       "      <td>0.215107</td>\n",
       "      <td>0.084652</td>\n",
       "    </tr>\n",
       "    <tr>\n",
       "      <th>1</th>\n",
       "      <td>ae6128d8d240d28edbcb7eb27256780cf662a2be1aec8c...</td>\n",
       "      <td>2022-03-02</td>\n",
       "      <td>False</td>\n",
       "      <td>on on Oh, My name is [NAME]. May I please have...</td>\n",
       "      <td>march</td>\n",
       "      <td>7467</td>\n",
       "      <td>2489</td>\n",
       "      <td>on on Oh, My name is [NAME]. May I please have...</td>\n",
       "      <td>y got all of that Well, their account for hack...</td>\n",
       "      <td>I they're setting up their Myverizon account, ...</td>\n",
       "      <td>0.376522</td>\n",
       "      <td>0.284553</td>\n",
       "      <td>0.338926</td>\n",
       "    </tr>\n",
       "    <tr>\n",
       "      <th>2</th>\n",
       "      <td>4899f9acdb70b0246b2d0ac2871dbcea8267e57b060154...</td>\n",
       "      <td>2022-03-12</td>\n",
       "      <td>False</td>\n",
       "      <td>Hello. We for calling [CLIENT] Tech Coach. My ...</td>\n",
       "      <td>march</td>\n",
       "      <td>3953</td>\n",
       "      <td>1317</td>\n",
       "      <td>Hello. We for calling [CLIENT] Tech Coach. My ...</td>\n",
       "      <td>know, do I hit. get through the put me throug...</td>\n",
       "      <td>t to Oh, I can I just another phone sir maybe,...</td>\n",
       "      <td>0.497945</td>\n",
       "      <td>0.367543</td>\n",
       "      <td>0.134512</td>\n",
       "    </tr>\n",
       "    <tr>\n",
       "      <th>3</th>\n",
       "      <td>0589751e11caac0eac815faf84f1a366d70b86b78324a2...</td>\n",
       "      <td>2022-03-20</td>\n",
       "      <td>False</td>\n",
       "      <td>Hello. Thank you so much for contacting [CLIEN...</td>\n",
       "      <td>march</td>\n",
       "      <td>6998</td>\n",
       "      <td>2332</td>\n",
       "      <td>Hello. Thank you so much for contacting [CLIEN...</td>\n",
       "      <td>et it many times. Good there is what we call a...</td>\n",
       "      <td>ing issues being able to send text messages, t...</td>\n",
       "      <td>0.294379</td>\n",
       "      <td>0.249605</td>\n",
       "      <td>0.456016</td>\n",
       "    </tr>\n",
       "    <tr>\n",
       "      <th>4</th>\n",
       "      <td>6c4790cb02e4f556d73436f79268d5c99de50a9acec40e...</td>\n",
       "      <td>2022-03-15</td>\n",
       "      <td>False</td>\n",
       "      <td>Thank you very much Hello? can I can you hear ...</td>\n",
       "      <td>march</td>\n",
       "      <td>7550</td>\n",
       "      <td>2516</td>\n",
       "      <td>Thank you very much Hello? can I can you hear ...</td>\n",
       "      <td>something happened with the features. I had to...</td>\n",
       "      <td>hold. uh ok. rode um. Man. um. woo Well? thank...</td>\n",
       "      <td>0.340227</td>\n",
       "      <td>0.422270</td>\n",
       "      <td>0.237504</td>\n",
       "    </tr>\n",
       "    <tr>\n",
       "      <th>...</th>\n",
       "      <td>...</td>\n",
       "      <td>...</td>\n",
       "      <td>...</td>\n",
       "      <td>...</td>\n",
       "      <td>...</td>\n",
       "      <td>...</td>\n",
       "      <td>...</td>\n",
       "      <td>...</td>\n",
       "      <td>...</td>\n",
       "      <td>...</td>\n",
       "      <td>...</td>\n",
       "      <td>...</td>\n",
       "      <td>...</td>\n",
       "    </tr>\n",
       "    <tr>\n",
       "      <th>95</th>\n",
       "      <td>62e8b9b20b5d50cd13e5d6c3ee8deb2f8dc219c7bffeaf...</td>\n",
       "      <td>2022-03-03</td>\n",
       "      <td>False</td>\n",
       "      <td>Hi. Thank you for calling [CLIENT] Hi. Thank y...</td>\n",
       "      <td>march</td>\n",
       "      <td>33338</td>\n",
       "      <td>11112</td>\n",
       "      <td>Hi. Thank you for calling [CLIENT] Hi. Thank y...</td>\n",
       "      <td>messenger. Ok. My files. That's like the folde...</td>\n",
       "      <td>s just in case, you know, you damaged through ...</td>\n",
       "      <td>0.420673</td>\n",
       "      <td>0.223538</td>\n",
       "      <td>0.355789</td>\n",
       "    </tr>\n",
       "    <tr>\n",
       "      <th>96</th>\n",
       "      <td>8702e4863398b306ad47570a8a012bb1925f94e922f051...</td>\n",
       "      <td>2022-03-01</td>\n",
       "      <td>False</td>\n",
       "      <td>Hello. Thank you for calling [CLIENT] Tech Coa...</td>\n",
       "      <td>march</td>\n",
       "      <td>7537</td>\n",
       "      <td>2512</td>\n",
       "      <td>Hello. Thank you for calling [CLIENT] Tech Coa...</td>\n",
       "      <td>nly thing I'm having problems about what do I ...</td>\n",
       "      <td>e you can also file a claim. So can you imagin...</td>\n",
       "      <td>0.051676</td>\n",
       "      <td>0.137461</td>\n",
       "      <td>0.810864</td>\n",
       "    </tr>\n",
       "    <tr>\n",
       "      <th>97</th>\n",
       "      <td>e683dc35c156bb2c1d05bb2541ac1d6d1dd9dca259ac5d...</td>\n",
       "      <td>2022-03-20</td>\n",
       "      <td>False</td>\n",
       "      <td>[NUMBER] Alright. Thank you for calling [CLIEN...</td>\n",
       "      <td>march</td>\n",
       "      <td>8034</td>\n",
       "      <td>2678</td>\n",
       "      <td>[NUMBER] Alright. Thank you for calling [CLIEN...</td>\n",
       "      <td>should account. slash find. Ok. what we went ...</td>\n",
       "      <td>tried to do it a couple of times. This only m...</td>\n",
       "      <td>0.271412</td>\n",
       "      <td>0.304093</td>\n",
       "      <td>0.424494</td>\n",
       "    </tr>\n",
       "    <tr>\n",
       "      <th>98</th>\n",
       "      <td>982893bda8254e71d6d8a82194f1bdd7efbe4833a7ad81...</td>\n",
       "      <td>2022-03-27</td>\n",
       "      <td>False</td>\n",
       "      <td>Hello. Thank you for calling E. Hello? Coach, ...</td>\n",
       "      <td>march</td>\n",
       "      <td>36437</td>\n",
       "      <td>12145</td>\n",
       "      <td>Hello. Thank you for calling E. Hello? Coach, ...</td>\n",
       "      <td>not not this Gp. Not the Wifi. Alright. You're...</td>\n",
       "      <td>doing it too long. I'm not what you have to d...</td>\n",
       "      <td>0.155648</td>\n",
       "      <td>0.288768</td>\n",
       "      <td>0.555584</td>\n",
       "    </tr>\n",
       "    <tr>\n",
       "      <th>99</th>\n",
       "      <td>cb7195b64635f363cbe831c619a7029d23eccc3ce2c6aa...</td>\n",
       "      <td>2022-03-10</td>\n",
       "      <td>False</td>\n",
       "      <td>Ok And Thank you for calling [CLIENT] Tech Coa...</td>\n",
       "      <td>march</td>\n",
       "      <td>2764</td>\n",
       "      <td>921</td>\n",
       "      <td>Ok And Thank you for calling [CLIENT] Tech Coa...</td>\n",
       "      <td>is the shipping option for us. Ok. said, uh, i...</td>\n",
       "      <td>ices if I can pick it up, I wanna do it Mail. ...</td>\n",
       "      <td>0.509883</td>\n",
       "      <td>0.405057</td>\n",
       "      <td>0.085059</td>\n",
       "    </tr>\n",
       "  </tbody>\n",
       "</table>\n",
       "<p>100 rows × 13 columns</p>\n",
       "</div>"
      ],
      "text/plain": [
       "                                                   id sales_offer_date  \\\n",
       "0   e5e4ee3c3c0e9ac72561334e6eb23cc233b1bcd0a0063d...       2022-03-26   \n",
       "1   ae6128d8d240d28edbcb7eb27256780cf662a2be1aec8c...       2022-03-02   \n",
       "2   4899f9acdb70b0246b2d0ac2871dbcea8267e57b060154...       2022-03-12   \n",
       "3   0589751e11caac0eac815faf84f1a366d70b86b78324a2...       2022-03-20   \n",
       "4   6c4790cb02e4f556d73436f79268d5c99de50a9acec40e...       2022-03-15   \n",
       "..                                                ...              ...   \n",
       "95  62e8b9b20b5d50cd13e5d6c3ee8deb2f8dc219c7bffeaf...       2022-03-03   \n",
       "96  8702e4863398b306ad47570a8a012bb1925f94e922f051...       2022-03-01   \n",
       "97  e683dc35c156bb2c1d05bb2541ac1d6d1dd9dca259ac5d...       2022-03-20   \n",
       "98  982893bda8254e71d6d8a82194f1bdd7efbe4833a7ad81...       2022-03-27   \n",
       "99  cb7195b64635f363cbe831c619a7029d23eccc3ce2c6aa...       2022-03-10   \n",
       "\n",
       "    accepted_flg                   encrypted_collated_transcription  month  \\\n",
       "0          False  ok Thank for calling [CLIENT] Tech Hello? Hi. ...  march   \n",
       "1          False  on on Oh, My name is [NAME]. May I please have...  march   \n",
       "2          False  Hello. We for calling [CLIENT] Tech Coach. My ...  march   \n",
       "3          False  Hello. Thank you so much for contacting [CLIEN...  march   \n",
       "4          False  Thank you very much Hello? can I can you hear ...  march   \n",
       "..           ...                                                ...    ...   \n",
       "95         False  Hi. Thank you for calling [CLIENT] Hi. Thank y...  march   \n",
       "96         False  Hello. Thank you for calling [CLIENT] Tech Coa...  march   \n",
       "97         False  [NUMBER] Alright. Thank you for calling [CLIEN...  march   \n",
       "98         False  Hello. Thank you for calling E. Hello? Coach, ...  march   \n",
       "99         False  Ok And Thank you for calling [CLIENT] Tech Coa...  march   \n",
       "\n",
       "    length  length_3rd                                          first_3rd  \\\n",
       "0     7054        2351  ok Thank for calling [CLIENT] Tech Hello? Hi. ...   \n",
       "1     7467        2489  on on Oh, My name is [NAME]. May I please have...   \n",
       "2     3953        1317  Hello. We for calling [CLIENT] Tech Coach. My ...   \n",
       "3     6998        2332  Hello. Thank you so much for contacting [CLIEN...   \n",
       "4     7550        2516  Thank you very much Hello? can I can you hear ...   \n",
       "..     ...         ...                                                ...   \n",
       "95   33338       11112  Hi. Thank you for calling [CLIENT] Hi. Thank y...   \n",
       "96    7537        2512  Hello. Thank you for calling [CLIENT] Tech Coa...   \n",
       "97    8034        2678  [NUMBER] Alright. Thank you for calling [CLIEN...   \n",
       "98   36437       12145  Hello. Thank you for calling E. Hello? Coach, ...   \n",
       "99    2764         921  Ok And Thank you for calling [CLIENT] Tech Coa...   \n",
       "\n",
       "                                           second_3rd  \\\n",
       "0   et you know what I could be able to see here. ...   \n",
       "1   y got all of that Well, their account for hack...   \n",
       "2    know, do I hit. get through the put me throug...   \n",
       "3   et it many times. Good there is what we call a...   \n",
       "4   something happened with the features. I had to...   \n",
       "..                                                ...   \n",
       "95  messenger. Ok. My files. That's like the folde...   \n",
       "96  nly thing I'm having problems about what do I ...   \n",
       "97   should account. slash find. Ok. what we went ...   \n",
       "98  not not this Gp. Not the Wifi. Alright. You're...   \n",
       "99  is the shipping option for us. Ok. said, uh, i...   \n",
       "\n",
       "                                            third_3rd  negative   neutral  \\\n",
       "0    see is that the, uh, places is still under th...  0.700241  0.215107   \n",
       "1   I they're setting up their Myverizon account, ...  0.376522  0.284553   \n",
       "2   t to Oh, I can I just another phone sir maybe,...  0.497945  0.367543   \n",
       "3   ing issues being able to send text messages, t...  0.294379  0.249605   \n",
       "4   hold. uh ok. rode um. Man. um. woo Well? thank...  0.340227  0.422270   \n",
       "..                                                ...       ...       ...   \n",
       "95  s just in case, you know, you damaged through ...  0.420673  0.223538   \n",
       "96  e you can also file a claim. So can you imagin...  0.051676  0.137461   \n",
       "97   tried to do it a couple of times. This only m...  0.271412  0.304093   \n",
       "98   doing it too long. I'm not what you have to d...  0.155648  0.288768   \n",
       "99  ices if I can pick it up, I wanna do it Mail. ...  0.509883  0.405057   \n",
       "\n",
       "    positive  \n",
       "0   0.084652  \n",
       "1   0.338926  \n",
       "2   0.134512  \n",
       "3   0.456016  \n",
       "4   0.237504  \n",
       "..       ...  \n",
       "95  0.355789  \n",
       "96  0.810864  \n",
       "97  0.424494  \n",
       "98  0.555584  \n",
       "99  0.085059  \n",
       "\n",
       "[100 rows x 13 columns]"
      ]
     },
     "execution_count": 24,
     "metadata": {},
     "output_type": "execute_result"
    }
   ],
   "source": [
    "transcript_train.head(100)"
   ]
  },
  {
   "cell_type": "code",
   "execution_count": 25,
   "id": "4b3849aa",
   "metadata": {},
   "outputs": [
    {
     "data": {
      "text/plain": [
       "array([], dtype=int64)"
      ]
     },
     "execution_count": 25,
     "metadata": {},
     "output_type": "execute_result"
    }
   ],
   "source": [
    "np.arange(len(transcript_train), 8)"
   ]
  },
  {
   "cell_type": "code",
   "execution_count": 26,
   "id": "1e3dc7c9",
   "metadata": {},
   "outputs": [
    {
     "data": {
      "text/plain": [
       "130553.875"
      ]
     },
     "execution_count": 26,
     "metadata": {},
     "output_type": "execute_result"
    }
   ],
   "source": [
    "len(transcript_train)/8"
   ]
  },
  {
   "cell_type": "code",
   "execution_count": 27,
   "id": "6085ba43",
   "metadata": {},
   "outputs": [
    {
     "data": {
      "text/plain": [
       "array([     0, 130554, 261108, 391662, 522216, 652770, 783324, 913878])"
      ]
     },
     "execution_count": 27,
     "metadata": {},
     "output_type": "execute_result"
    }
   ],
   "source": [
    "130554*np.arange(8)"
   ]
  },
  {
   "cell_type": "markdown",
   "id": "c66dcfc3",
   "metadata": {},
   "source": [
    "#### 2nd approach"
   ]
  },
  {
   "cell_type": "code",
   "execution_count": 28,
   "id": "850bb865",
   "metadata": {},
   "outputs": [
    {
     "name": "stderr",
     "output_type": "stream",
     "text": [
      "/opt/conda/lib/python3.8/site-packages/transformers/convert_slow_tokenizer.py:446: UserWarning: The sentencepiece tokenizer that you are converting to a fast tokenizer uses the byte fallback option which is not implemented in the fast tokenizers. In practice this means that the fast version of the tokenizer can produce unknown tokens whereas the sentencepiece version would have converted these unknown tokens into a sequence of byte tokens matching the original piece of text.\n",
      "  warnings.warn(\n"
     ]
    }
   ],
   "source": [
    "max_memory_mapping = {0: \"8GB\", 1: \"8GB\", 2: \"8GB\", 3: \"8GB\", 4: \"8GB\", 5: \"8GB\", 6: \"8GB\", 7: \"8GB\"}\n",
    "model = AutoModelForSequenceClassification.from_pretrained(\"MoritzLaurer/mDeBERTa-v3-base-mnli-xnli\") # device_map = \"auto\",load_in_8bit=True, max_memory=max_memory_mapping)\n",
    "tokenizer = AutoTokenizer.from_pretrained(\"MoritzLaurer/mDeBERTa-v3-base-mnli-xnli\")\n",
    "classifier = pipeline(\"zero-shot-classification\",\n",
    "                      model=\"MoritzLaurer/mDeBERTa-v3-base-mnli-xnli\", device = 3,framework = \"pt\", num_workers = 1)"
   ]
  },
  {
   "cell_type": "code",
   "execution_count": 32,
   "id": "6cc8a2f7",
   "metadata": {},
   "outputs": [],
   "source": [
    "classifier = pipeline(\"zero-shot-classification\", model = \"MoritzLaurer/mDeBERTa-v3-base-mnli-xnli\",device = 0,framework = \"pt\", num_workers = 1)"
   ]
  },
  {
   "cell_type": "code",
   "execution_count": 33,
   "id": "ec8dd581",
   "metadata": {},
   "outputs": [
    {
     "name": "stderr",
     "output_type": "stream",
     "text": [
      "/opt/conda/lib/python3.8/site-packages/transformers/models/deberta_v2/modeling_deberta_v2.py:745: UserWarning: To copy construct from a tensor, it is recommended to use sourceTensor.clone().detach() or sourceTensor.clone().detach().requires_grad_(True), rather than torch.tensor(sourceTensor).\n",
      "  attention_scores = torch.bmm(query_layer, key_layer.transpose(-1, -2)) / torch.tensor(\n",
      "/opt/conda/lib/python3.8/site-packages/transformers/models/deberta_v2/modeling_deberta_v2.py:829: UserWarning: To copy construct from a tensor, it is recommended to use sourceTensor.clone().detach() or sourceTensor.clone().detach().requires_grad_(True), rather than torch.tensor(sourceTensor).\n",
      "  score += c2p_att / torch.tensor(scale, dtype=c2p_att.dtype)\n",
      "/opt/conda/lib/python3.8/site-packages/transformers/models/deberta_v2/modeling_deberta_v2.py:852: UserWarning: To copy construct from a tensor, it is recommended to use sourceTensor.clone().detach() or sourceTensor.clone().detach().requires_grad_(True), rather than torch.tensor(sourceTensor).\n",
      "  score += p2c_att / torch.tensor(scale, dtype=p2c_att.dtype)\n"
     ]
    },
    {
     "name": "stdout",
     "output_type": "stream",
     "text": [
      "sadness 0.3752005696296692\n",
      "happiness 0.37023481726646423\n",
      "neutral 0.4168095588684082\n"
     ]
    }
   ],
   "source": [
    "first_3rd = transcript_train.loc[1000,\"first_3rd\"]\n",
    "second_3rd = transcript_train.loc[1000,\"second_3rd\"]\n",
    "third_3rd = transcript_train.loc[1000,\"third_3rd\"]\n",
    "result1 = classifier(first_3rd, [\"anger\", \"happiness\", \"neutral\",\"sadness\"])\n",
    "print(result1[\"labels\"][0], result1[\"scores\"][0])\n",
    "result2 = classifier(second_3rd, [\"anger\", \"happiness\", \"neutral\",\"sadness\"])\n",
    "print(result2[\"labels\"][0], result2[\"scores\"][0])\n",
    "result3 = classifier(third_3rd, [\"anger\", \"happiness\", \"neutral\",\"sadness\"])\n",
    "print(result3[\"labels\"][0], result3[\"scores\"][0])"
   ]
  },
  {
   "cell_type": "code",
   "execution_count": 34,
   "id": "1d91f8b5",
   "metadata": {},
   "outputs": [],
   "source": [
    "from tqdm import tqdm_notebook"
   ]
  },
  {
   "cell_type": "code",
   "execution_count": 39,
   "id": "c8d0d545",
   "metadata": {},
   "outputs": [
    {
     "name": "stderr",
     "output_type": "stream",
     "text": [
      "  0%|                                                                                           | 0/100 [00:00<?, ?it/s]/opt/conda/lib/python3.8/site-packages/transformers/pipelines/base.py:1043: UserWarning: You seem to be using the pipelines sequentially on GPU. In order to maximize efficiency please use a dataset\n",
      "  warnings.warn(\n",
      "/opt/conda/lib/python3.8/site-packages/transformers/models/deberta_v2/modeling_deberta_v2.py:745: UserWarning: To copy construct from a tensor, it is recommended to use sourceTensor.clone().detach() or sourceTensor.clone().detach().requires_grad_(True), rather than torch.tensor(sourceTensor).\n",
      "  attention_scores = torch.bmm(query_layer, key_layer.transpose(-1, -2)) / torch.tensor(\n",
      "/opt/conda/lib/python3.8/site-packages/transformers/models/deberta_v2/modeling_deberta_v2.py:829: UserWarning: To copy construct from a tensor, it is recommended to use sourceTensor.clone().detach() or sourceTensor.clone().detach().requires_grad_(True), rather than torch.tensor(sourceTensor).\n",
      "  score += c2p_att / torch.tensor(scale, dtype=c2p_att.dtype)\n",
      "/opt/conda/lib/python3.8/site-packages/transformers/models/deberta_v2/modeling_deberta_v2.py:852: UserWarning: To copy construct from a tensor, it is recommended to use sourceTensor.clone().detach() or sourceTensor.clone().detach().requires_grad_(True), rather than torch.tensor(sourceTensor).\n",
      "  score += p2c_att / torch.tensor(scale, dtype=p2c_att.dtype)\n",
      "100%|█████████████████████████████████████████████████████████████████████████████████| 100/100 [00:10<00:00,  9.50it/s]\n"
     ]
    }
   ],
   "source": [
    "for i in tqdm(range((100))):\n",
    "    conversation = transcript_train.loc[i,\"first_3rd\"]\n",
    "    result_1st = classifier(conversation, [\"anger\", \"happiness\", \"neutral\",\"sadness\"])\n",
    "    transcript_train.loc[i, \"emotion_1st\"] = result_1st[\"labels\"][0]"
   ]
  },
  {
   "cell_type": "code",
   "execution_count": 40,
   "id": "3a831764",
   "metadata": {},
   "outputs": [
    {
     "data": {
      "text/plain": [
       "neutral      47\n",
       "sadness      29\n",
       "happiness    13\n",
       "anger        11\n",
       "Name: emotion_1st, dtype: int64"
      ]
     },
     "execution_count": 40,
     "metadata": {},
     "output_type": "execute_result"
    }
   ],
   "source": [
    "transcript_train[\"emotion_1st\"].head(100).value_counts()"
   ]
  },
  {
   "cell_type": "code",
   "execution_count": null,
   "id": "7d4e501a",
   "metadata": {},
   "outputs": [],
   "source": []
  }
 ],
 "metadata": {
  "kernelspec": {
   "display_name": "Python 3 (ipykernel)",
   "language": "python",
   "name": "python3"
  },
  "language_info": {
   "codemirror_mode": {
    "name": "ipython",
    "version": 3
   },
   "file_extension": ".py",
   "mimetype": "text/x-python",
   "name": "python",
   "nbconvert_exporter": "python",
   "pygments_lexer": "ipython3",
   "version": "3.8.13"
  }
 },
 "nbformat": 4,
 "nbformat_minor": 5
}
