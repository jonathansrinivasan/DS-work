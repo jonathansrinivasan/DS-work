{
 "cells": [
  {
   "cell_type": "code",
   "execution_count": 1,
   "id": "1199c47e",
   "metadata": {},
   "outputs": [],
   "source": [
    "import pandas as pd\n",
    "from sklearn.ensemble import VotingClassifier\n",
    "from sklearn.metrics import confusion_matrix, classification_report, precision_score, recall_score, accuracy_score\n",
    "from sklearn.metrics import roc_auc_score, roc_curve\n",
    "from sklearn.model_selection import train_test_split\n",
    "import seaborn as sns; sns.set_style(\"dark\")"
   ]
  },
  {
   "cell_type": "code",
   "execution_count": 2,
   "id": "96afc03a",
   "metadata": {},
   "outputs": [],
   "source": [
    "import joblib"
   ]
  },
  {
   "cell_type": "code",
   "execution_count": 3,
   "id": "986498c9",
   "metadata": {},
   "outputs": [
    {
     "name": "stdout",
     "output_type": "stream",
     "text": [
      "/workspace/asurion_f22_muby\n"
     ]
    }
   ],
   "source": [
    "%cd .."
   ]
  },
  {
   "cell_type": "markdown",
   "id": "83a29ec4",
   "metadata": {},
   "source": [
    "### Loading Models"
   ]
  },
  {
   "cell_type": "code",
   "execution_count": 4,
   "id": "e830a657",
   "metadata": {},
   "outputs": [],
   "source": [
    "xgboost = joblib.load('models/xgb_cls.pkl')"
   ]
  },
  {
   "cell_type": "code",
   "execution_count": 5,
   "id": "da549f03",
   "metadata": {},
   "outputs": [],
   "source": [
    "rnd_forest = joblib.load('models/random_forest_classifier_final.pkl')"
   ]
  },
  {
   "cell_type": "code",
   "execution_count": 6,
   "id": "7c527cbe",
   "metadata": {},
   "outputs": [],
   "source": [
    "cat_boost = joblib.load('models/catboost.pkl')"
   ]
  },
  {
   "cell_type": "markdown",
   "id": "e48672ce",
   "metadata": {},
   "source": [
    "### Hard Voting Ensemble"
   ]
  },
  {
   "cell_type": "code",
   "execution_count": 7,
   "id": "69cb6f2d",
   "metadata": {},
   "outputs": [],
   "source": [
    "### Building ensemble model\n",
    "hard_ensemble = VotingClassifier(estimators = [('xgb', xgboost), ('rnd', rnd_forest),('cat',cat_boost)], voting = 'hard')"
   ]
  },
  {
   "cell_type": "markdown",
   "id": "da55f0a6",
   "metadata": {},
   "source": [
    "#### Model fitting"
   ]
  },
  {
   "cell_type": "code",
   "execution_count": 8,
   "id": "38d706f6",
   "metadata": {},
   "outputs": [],
   "source": [
    "train = pd.read_csv(\"fe_data_v2/sale_data/train_sale_encoded.csv\")"
   ]
  },
  {
   "cell_type": "code",
   "execution_count": 9,
   "id": "c5a4a974",
   "metadata": {},
   "outputs": [],
   "source": [
    "train = train[(train['zipcode_accepted_prop'].isnull()==False)& (train['zipcode_rejected_offers'].isnull()==False)& \n",
    "            (train['zipcode_accepted_offers'].isnull()==False)&(train['zipcode_total_offers'].isnull()==False)]"
   ]
  },
  {
   "cell_type": "code",
   "execution_count": 10,
   "id": "357638e5",
   "metadata": {},
   "outputs": [],
   "source": [
    "class_column = \"quality_sale\""
   ]
  },
  {
   "cell_type": "code",
   "execution_count": 11,
   "id": "503d7863",
   "metadata": {},
   "outputs": [],
   "source": [
    "train = train[['quality_sale', 'lines', 'previous_tech_support_call', 'account_tenure',\n",
    "               'past_yr_claim_count', 'num_decline', 'exp', 'product_type', 'pmake',\n",
    "               'claritas_hh_count', 'technodoption_class', 'hh_income', 'age_class',\n",
    "               'hh_education', 'hh_composition', 'hh_tenure', 'urbanicity',\n",
    "               'median_income', 'total_population', 'perc_female', 'perc_under18',\n",
    "               'perc_over65', 'perc_white', 'perc_black', 'population_density',\n",
    "               'day_of_week', 'time_of_day', 'zipcode_accepted_prop',\n",
    "               'zipcode_rejected_offers', 'zipcode_accepted_offers','zipcode_total_offers']]"
   ]
  },
  {
   "cell_type": "code",
   "execution_count": 12,
   "id": "bcb7ac85",
   "metadata": {},
   "outputs": [],
   "source": [
    "X_train, X_test, y_train, y_test = train_test_split(train.drop(columns=class_column), train[class_column],\n",
    "                                                   test_size=0.3, random_state=42, stratify=train[class_column])"
   ]
  },
  {
   "cell_type": "code",
   "execution_count": 13,
   "id": "75ecc481",
   "metadata": {},
   "outputs": [
    {
     "name": "stderr",
     "output_type": "stream",
     "text": [
      "/opt/conda/lib/python3.8/site-packages/xgboost/sklearn.py:1224: UserWarning: The use of label encoder in XGBClassifier is deprecated and will be removed in a future release. To remove this warning, do the following: 1) Pass option use_label_encoder=False when constructing XGBClassifier object; and 2) Encode your labels (y) as integers starting with 0, i.e. 0, 1, 2, ..., [num_class - 1].\n",
      "  warnings.warn(label_encoder_deprecation_msg, UserWarning)\n"
     ]
    },
    {
     "name": "stdout",
     "output_type": "stream",
     "text": [
      "0:\tlearn: 0.6733358\ttotal: 174ms\tremaining: 1.57s\n",
      "1:\tlearn: 0.6567073\ttotal: 284ms\tremaining: 1.14s\n",
      "2:\tlearn: 0.6452571\ttotal: 388ms\tremaining: 905ms\n",
      "3:\tlearn: 0.6349407\ttotal: 491ms\tremaining: 736ms\n",
      "4:\tlearn: 0.6280260\ttotal: 594ms\tremaining: 594ms\n",
      "5:\tlearn: 0.6222837\ttotal: 698ms\tremaining: 465ms\n",
      "6:\tlearn: 0.6182256\ttotal: 797ms\tremaining: 342ms\n",
      "7:\tlearn: 0.6150229\ttotal: 896ms\tremaining: 224ms\n",
      "8:\tlearn: 0.6096642\ttotal: 1000ms\tremaining: 111ms\n",
      "9:\tlearn: 0.6071320\ttotal: 1.1s\tremaining: 0us\n"
     ]
    },
    {
     "data": {
      "text/plain": [
       "VotingClassifier(estimators=[('xgb',\n",
       "                              Pipeline(steps=[('col',\n",
       "                                               ColumnTransformer(transformers=[('onehot',\n",
       "                                                                                OneHotEncoder(handle_unknown='ignore'),\n",
       "                                                                                ['exp',\n",
       "                                                                                 'product_type',\n",
       "                                                                                 'pmake',\n",
       "                                                                                 'technodoption_class',\n",
       "                                                                                 'hh_income',\n",
       "                                                                                 'age_class',\n",
       "                                                                                 'hh_education',\n",
       "                                                                                 'hh_composition',\n",
       "                                                                                 'hh_tenure',\n",
       "                                                                                 'urbanicity',\n",
       "                                                                                 'day_of_week',\n",
       "                                                                                 'time_of_day']),\n",
       "                                                                               ('minmax',\n",
       "                                                                                MinMaxScaler(),\n",
       "                                                                                ['lines',\n",
       "                                                                                 'previous_tec...\n",
       "                                                                                 'past_yr_claim_count',\n",
       "                                                                                 'num_decline',\n",
       "                                                                                 'claritas_hh_count',\n",
       "                                                                                 'median_income',\n",
       "                                                                                 'total_population',\n",
       "                                                                                 'perc_female',\n",
       "                                                                                 'perc_under18',\n",
       "                                                                                 'perc_over65',\n",
       "                                                                                 'perc_white',\n",
       "                                                                                 'perc_black',\n",
       "                                                                                 'population_density',\n",
       "                                                                                 'zipcode_accepted_prop',\n",
       "                                                                                 'zipcode_rejected_offers',\n",
       "                                                                                 'zipcode_accepted_offers',\n",
       "                                                                                 'zipcode_total_offers'])])),\n",
       "                                              ('mdl',\n",
       "                                               <catboost.core.CatBoostClassifier object at 0x7fa02cd4a9a0>)]))])"
      ]
     },
     "execution_count": 13,
     "metadata": {},
     "output_type": "execute_result"
    }
   ],
   "source": [
    "hard_ensemble.fit(X_train, y_train)"
   ]
  },
  {
   "cell_type": "code",
   "execution_count": 14,
   "id": "d0a9e416",
   "metadata": {},
   "outputs": [],
   "source": [
    "pred = hard_ensemble.predict(X_test)"
   ]
  },
  {
   "cell_type": "code",
   "execution_count": 15,
   "id": "4e3e96b9",
   "metadata": {},
   "outputs": [
    {
     "name": "stdout",
     "output_type": "stream",
     "text": [
      "              precision    recall  f1-score   support\n",
      "\n",
      "           0       0.96      0.56      0.70    234864\n",
      "           1       0.15      0.75      0.25     24188\n",
      "\n",
      "    accuracy                           0.58    259052\n",
      "   macro avg       0.55      0.65      0.48    259052\n",
      "weighted avg       0.88      0.58      0.66    259052\n",
      "\n"
     ]
    }
   ],
   "source": [
    "print(classification_report(y_test, pred))"
   ]
  },
  {
   "cell_type": "code",
   "execution_count": 16,
   "id": "30e89a44",
   "metadata": {},
   "outputs": [
    {
     "data": {
      "text/plain": [
       "<AxesSubplot:>"
      ]
     },
     "execution_count": 16,
     "metadata": {},
     "output_type": "execute_result"
    },
    {
     "data": {
      "image/png": "[encoded data removed]",
      "text/plain": [
       "<Figure size 432x288 with 2 Axes>"
      ]
     },
     "metadata": {
      "needs_background": "light"
     },
     "output_type": "display_data"
    }
   ],
   "source": [
    "conf = confusion_matrix(y_test, pred)\n",
    "sns.heatmap(conf, annot = True, cmap = \"RdBu\")"
   ]
  },
  {
   "cell_type": "code",
   "execution_count": 17,
   "id": "611b0332",
   "metadata": {},
   "outputs": [
    {
     "name": "stdout",
     "output_type": "stream",
     "text": [
      "Accuracy Score: 0.5751239133455831\n"
     ]
    }
   ],
   "source": [
    "tn, fp, fn, tp = confusion_matrix(y_test, pred).ravel()\n",
    "acc = (tp+tn)/(tp +fp +tn +fn)\n",
    "print(\"Accuracy Score:\", acc)"
   ]
  },
  {
   "cell_type": "markdown",
   "id": "5546c14d",
   "metadata": {},
   "source": [
    "#### Evaluation on Hold-out data"
   ]
  },
  {
   "cell_type": "code",
   "execution_count": 18,
   "id": "6ce3fc28",
   "metadata": {},
   "outputs": [],
   "source": [
    "test = pd.read_csv(\"fe_data_v2/sale_data/test_sale_encoded.csv\")"
   ]
  },
  {
   "cell_type": "code",
   "execution_count": 19,
   "id": "11f970b3",
   "metadata": {},
   "outputs": [],
   "source": [
    "test = test[(test['zipcode_accepted_prop'].isnull()==False)& (test['zipcode_rejected_offers'].isnull()==False)& \n",
    "            (test['zipcode_accepted_offers'].isnull()==False)&(test['zipcode_total_offers'].isnull()==False)]"
   ]
  },
  {
   "cell_type": "code",
   "execution_count": 20,
   "id": "c254ad0e",
   "metadata": {},
   "outputs": [],
   "source": [
    "test = test[['quality_sale', 'lines', 'previous_tech_support_call', 'account_tenure',\n",
    "               'past_yr_claim_count', 'num_decline', 'exp', 'product_type', 'pmake',\n",
    "               'claritas_hh_count', 'technodoption_class', 'hh_income', 'age_class',\n",
    "               'hh_education', 'hh_composition', 'hh_tenure', 'urbanicity',\n",
    "               'median_income', 'total_population', 'perc_female', 'perc_under18',\n",
    "               'perc_over65', 'perc_white', 'perc_black', 'population_density',\n",
    "               'day_of_week', 'time_of_day', 'zipcode_accepted_prop',\n",
    "               'zipcode_rejected_offers', 'zipcode_accepted_offers','zipcode_total_offers']]"
   ]
  },
  {
   "cell_type": "code",
   "execution_count": 21,
   "id": "ad0431f6",
   "metadata": {},
   "outputs": [],
   "source": [
    "X_hold_out = test.drop(columns=class_column)\n",
    "y_hold_out = test[class_column]"
   ]
  },
  {
   "cell_type": "code",
   "execution_count": 22,
   "id": "c8c12dfd",
   "metadata": {},
   "outputs": [],
   "source": [
    "pred_hold_out = hard_ensemble.predict(X_hold_out)"
   ]
  },
  {
   "cell_type": "code",
   "execution_count": 23,
   "id": "9f65e507",
   "metadata": {},
   "outputs": [
    {
     "name": "stdout",
     "output_type": "stream",
     "text": [
      "              precision    recall  f1-score   support\n",
      "\n",
      "           0       0.94      0.55      0.70    205780\n",
      "           1       0.10      0.58      0.17     17365\n",
      "\n",
      "    accuracy                           0.55    223145\n",
      "   macro avg       0.52      0.56      0.43    223145\n",
      "weighted avg       0.87      0.55      0.65    223145\n",
      "\n"
     ]
    }
   ],
   "source": [
    "print(classification_report(y_hold_out, pred_hold_out))"
   ]
  },
  {
   "cell_type": "code",
   "execution_count": 24,
   "id": "bdcee82a",
   "metadata": {},
   "outputs": [
    {
     "data": {
      "text/plain": [
       "<AxesSubplot:>"
      ]
     },
     "execution_count": 24,
     "metadata": {},
     "output_type": "execute_result"
    },
    {
     "data": {
      "image/png": "[encoded data removed]",
      "text/plain": [
       "<Figure size 432x288 with 2 Axes>"
      ]
     },
     "metadata": {
      "needs_background": "light"
     },
     "output_type": "display_data"
    }
   ],
   "source": [
    "conf = confusion_matrix(y_hold_out, pred_hold_out)\n",
    "sns.heatmap(conf, annot = True, cmap = \"RdBu\")"
   ]
  },
  {
   "cell_type": "code",
   "execution_count": 25,
   "id": "f267b4a5",
   "metadata": {},
   "outputs": [
    {
     "name": "stdout",
     "output_type": "stream",
     "text": [
      "Accuracy Score: 0.5537386004615833\n"
     ]
    }
   ],
   "source": [
    "tn, fp, fn, tp = confusion_matrix(y_hold_out, pred_hold_out).ravel()\n",
    "acc = (tp+tn)/(tp +fp +tn +fn)\n",
    "print(\"Accuracy Score:\", acc)"
   ]
  },
  {
   "cell_type": "markdown",
   "id": "01e1d256",
   "metadata": {},
   "source": [
    "### Soft Voting Ensemble "
   ]
  },
  {
   "cell_type": "code",
   "execution_count": 26,
   "id": "e6a88c0a",
   "metadata": {},
   "outputs": [],
   "source": [
    "## Building ensemble model\n",
    "soft_ensemble = VotingClassifier(estimators = [('xgb', xgboost), ('rnd', rnd_forest),(\"cat\", cat_boost)], voting = 'soft')"
   ]
  },
  {
   "cell_type": "markdown",
   "id": "13bbbd4f",
   "metadata": {},
   "source": [
    "#### Model Fitting"
   ]
  },
  {
   "cell_type": "code",
   "execution_count": 27,
   "id": "1f7d5ab8",
   "metadata": {},
   "outputs": [
    {
     "name": "stderr",
     "output_type": "stream",
     "text": [
      "/opt/conda/lib/python3.8/site-packages/xgboost/sklearn.py:1224: UserWarning: The use of label encoder in XGBClassifier is deprecated and will be removed in a future release. To remove this warning, do the following: 1) Pass option use_label_encoder=False when constructing XGBClassifier object; and 2) Encode your labels (y) as integers starting with 0, i.e. 0, 1, 2, ..., [num_class - 1].\n",
      "  warnings.warn(label_encoder_deprecation_msg, UserWarning)\n"
     ]
    },
    {
     "name": "stdout",
     "output_type": "stream",
     "text": [
      "0:\tlearn: 0.6733358\ttotal: 168ms\tremaining: 1.51s\n",
      "1:\tlearn: 0.6567073\ttotal: 309ms\tremaining: 1.24s\n",
      "2:\tlearn: 0.6452571\ttotal: 460ms\tremaining: 1.07s\n",
      "3:\tlearn: 0.6349407\ttotal: 601ms\tremaining: 902ms\n",
      "4:\tlearn: 0.6280260\ttotal: 722ms\tremaining: 722ms\n",
      "5:\tlearn: 0.6222837\ttotal: 846ms\tremaining: 564ms\n",
      "6:\tlearn: 0.6182256\ttotal: 980ms\tremaining: 420ms\n",
      "7:\tlearn: 0.6150229\ttotal: 1.11s\tremaining: 278ms\n",
      "8:\tlearn: 0.6096642\ttotal: 1.27s\tremaining: 141ms\n",
      "9:\tlearn: 0.6071320\ttotal: 1.38s\tremaining: 0us\n"
     ]
    },
    {
     "data": {
      "text/plain": [
       "VotingClassifier(estimators=[('xgb',\n",
       "                              Pipeline(steps=[('col',\n",
       "                                               ColumnTransformer(transformers=[('onehot',\n",
       "                                                                                OneHotEncoder(handle_unknown='ignore'),\n",
       "                                                                                ['exp',\n",
       "                                                                                 'product_type',\n",
       "                                                                                 'pmake',\n",
       "                                                                                 'technodoption_class',\n",
       "                                                                                 'hh_income',\n",
       "                                                                                 'age_class',\n",
       "                                                                                 'hh_education',\n",
       "                                                                                 'hh_composition',\n",
       "                                                                                 'hh_tenure',\n",
       "                                                                                 'urbanicity',\n",
       "                                                                                 'day_of_week',\n",
       "                                                                                 'time_of_day']),\n",
       "                                                                               ('minmax',\n",
       "                                                                                MinMaxScaler(),\n",
       "                                                                                ['lines',\n",
       "                                                                                 'previous_tec...\n",
       "                                                                                 'past_yr_claim_count',\n",
       "                                                                                 'num_decline',\n",
       "                                                                                 'claritas_hh_count',\n",
       "                                                                                 'median_income',\n",
       "                                                                                 'total_population',\n",
       "                                                                                 'perc_female',\n",
       "                                                                                 'perc_under18',\n",
       "                                                                                 'perc_over65',\n",
       "                                                                                 'perc_white',\n",
       "                                                                                 'perc_black',\n",
       "                                                                                 'population_density',\n",
       "                                                                                 'zipcode_accepted_prop',\n",
       "                                                                                 'zipcode_rejected_offers',\n",
       "                                                                                 'zipcode_accepted_offers',\n",
       "                                                                                 'zipcode_total_offers'])])),\n",
       "                                              ('mdl',\n",
       "                                               <catboost.core.CatBoostClassifier object at 0x7fa02cd4a9a0>)]))],\n",
       "                 voting='soft')"
      ]
     },
     "execution_count": 27,
     "metadata": {},
     "output_type": "execute_result"
    }
   ],
   "source": [
    "soft_ensemble.fit(X_train, y_train)"
   ]
  },
  {
   "cell_type": "code",
   "execution_count": 28,
   "id": "c02889a5",
   "metadata": {},
   "outputs": [],
   "source": [
    "pred = soft_ensemble.predict(X_test)"
   ]
  },
  {
   "cell_type": "code",
   "execution_count": 29,
   "id": "3674da2e",
   "metadata": {},
   "outputs": [
    {
     "name": "stdout",
     "output_type": "stream",
     "text": [
      "              precision    recall  f1-score   support\n",
      "\n",
      "           0       0.96      0.58      0.72    234864\n",
      "           1       0.15      0.74      0.25     24188\n",
      "\n",
      "    accuracy                           0.59    259052\n",
      "   macro avg       0.55      0.66      0.49    259052\n",
      "weighted avg       0.88      0.59      0.68    259052\n",
      "\n"
     ]
    }
   ],
   "source": [
    "print(classification_report(y_test, pred))"
   ]
  },
  {
   "cell_type": "code",
   "execution_count": 30,
   "id": "9e955659",
   "metadata": {},
   "outputs": [
    {
     "data": {
      "text/plain": [
       "<AxesSubplot:>"
      ]
     },
     "execution_count": 30,
     "metadata": {},
     "output_type": "execute_result"
    },
    {
     "data": {
      "image/png": "[encoded data removed]",
      "text/plain": [
       "<Figure size 432x288 with 2 Axes>"
      ]
     },
     "metadata": {
      "needs_background": "light"
     },
     "output_type": "display_data"
    }
   ],
   "source": [
    "conf = confusion_matrix(y_test, pred)\n",
    "sns.heatmap(conf, annot = True, cmap = \"RdBu\")"
   ]
  },
  {
   "cell_type": "code",
   "execution_count": 31,
   "id": "6f60361d",
   "metadata": {},
   "outputs": [
    {
     "name": "stdout",
     "output_type": "stream",
     "text": [
      "Accuracy Score: 0.5943903154579003\n"
     ]
    }
   ],
   "source": [
    "tn, fp, fn, tp = confusion_matrix(y_test, pred).ravel()\n",
    "acc = (tp+tn)/(tp +fp +tn +fn)\n",
    "print(\"Accuracy Score:\", acc)"
   ]
  },
  {
   "cell_type": "markdown",
   "id": "a8eb3e59",
   "metadata": {},
   "source": [
    "#### Evaluation on Hold-out data"
   ]
  },
  {
   "cell_type": "code",
   "execution_count": 32,
   "id": "0f2ee456",
   "metadata": {},
   "outputs": [],
   "source": [
    "pred_hold_out = soft_ensemble.predict(X_hold_out)"
   ]
  },
  {
   "cell_type": "code",
   "execution_count": 33,
   "id": "e9eca53f",
   "metadata": {},
   "outputs": [
    {
     "name": "stdout",
     "output_type": "stream",
     "text": [
      "              precision    recall  f1-score   support\n",
      "\n",
      "           0       0.94      0.57      0.71    205780\n",
      "           1       0.10      0.57      0.17     17365\n",
      "\n",
      "    accuracy                           0.57    223145\n",
      "   macro avg       0.52      0.57      0.44    223145\n",
      "weighted avg       0.88      0.57      0.67    223145\n",
      "\n"
     ]
    }
   ],
   "source": [
    "print(classification_report(y_hold_out, pred_hold_out))"
   ]
  },
  {
   "cell_type": "code",
   "execution_count": 34,
   "id": "f766f0b6",
   "metadata": {},
   "outputs": [
    {
     "data": {
      "text/plain": [
       "<AxesSubplot:>"
      ]
     },
     "execution_count": 34,
     "metadata": {},
     "output_type": "execute_result"
    },
    {
     "data": {
      "image/png": "[encoded data removed]",
      "text/plain": [
       "<Figure size 432x288 with 2 Axes>"
      ]
     },
     "metadata": {
      "needs_background": "light"
     },
     "output_type": "display_data"
    }
   ],
   "source": [
    "conf = confusion_matrix(y_hold_out, pred_hold_out)\n",
    "sns.heatmap(conf, annot = True, cmap = \"RdBu\")"
   ]
  },
  {
   "cell_type": "code",
   "execution_count": 35,
   "id": "53de6fd2",
   "metadata": {},
   "outputs": [
    {
     "name": "stdout",
     "output_type": "stream",
     "text": [
      "Accuracy Score: 0.5743619619529902\n"
     ]
    }
   ],
   "source": [
    "tn, fp, fn, tp = confusion_matrix(y_hold_out, pred_hold_out).ravel()\n",
    "acc = (tp+tn)/(tp +fp +tn +fn)\n",
    "print(\"Accuracy Score:\", acc)"
   ]
  },
  {
   "cell_type": "code",
   "execution_count": null,
   "id": "54eb4f77",
   "metadata": {},
   "outputs": [],
   "source": []
  }
 ],
 "metadata": {
  "kernelspec": {
   "display_name": "Python 3 (ipykernel)",
   "language": "python",
   "name": "python3"
  },
  "language_info": {
   "codemirror_mode": {
    "name": "ipython",
    "version": 3
   },
   "file_extension": ".py",
   "mimetype": "text/x-python",
   "name": "python",
   "nbconvert_exporter": "python",
   "pygments_lexer": "ipython3",
   "version": "3.8.13"
  }
 },
 "nbformat": 4,
 "nbformat_minor": 5
}
