{
 "cells": [
  {
   "cell_type": "code",
   "execution_count": 307,
   "metadata": {
    "collapsed": true
   },
   "outputs": [],
   "source": [
    "import pandas as pd\n",
    "import numpy as np\n",
    "import random"
   ]
  },
  {
   "cell_type": "code",
   "execution_count": 308,
   "metadata": {
    "collapsed": true
   },
   "outputs": [],
   "source": [
    "pd.set_option('display.max_columns', None)\n",
    "pd.set_option('display.max_rows', None)"
   ]
  },
  {
   "cell_type": "markdown",
   "metadata": {},
   "source": [
    "## Taking a random sample from the dataset"
   ]
  },
  {
   "cell_type": "code",
   "execution_count": 372,
   "metadata": {},
   "outputs": [],
   "source": [
    "# the random sample is skipping 999 rows and taking 1 row on average \n",
    "dy = pd.read_csv(\n",
    "         '../../../JanOct18_trimmed.csv')#, skiprows = lambda i: i>0 and random.random() > 0.1)\n",
    "\n",
    "# dy16 = pd.read_csv(\n",
    "#          '../../../JanOct16_trimmed.csv', skiprows = lambda i: i>0 and random.random() > 0.001)\n",
    "\n",
    "# dy17 = pd.read_csv(\n",
    "#          '../../../JanOct17_trimmed.csv', skiprows = lambda i: i>0 and random.random() > 0.001)\n",
    "\n",
    "# dy18 = pd.read_csv(\n",
    "#          '../../../JanOct18_trimmed.csv', skiprows = lambda i: i>0 and random.random() > 0.001)\n"
   ]
  },
  {
   "cell_type": "code",
   "execution_count": 310,
   "metadata": {
    "collapsed": true
   },
   "outputs": [],
   "source": [
    "dn = pd.read_csv(\n",
    "         '../../../Nov17_trimmed.csv')\n",
    "#,         skiprows=lambda i: i>0 and random.random() > 0.1)"
   ]
  },
  {
   "cell_type": "code",
   "execution_count": 373,
   "metadata": {
    "collapsed": true
   },
   "outputs": [],
   "source": [
    "vehicles = dy.drop_duplicates(subset = 'VEHICLE_ID',keep='first')"
   ]
  },
  {
   "cell_type": "code",
   "execution_count": 312,
   "metadata": {
    "collapsed": true
   },
   "outputs": [],
   "source": [
    "targets = dn[dn['PROD_GROUP_CODE'] == 5]['INDIV_ID'].unique()\n"
   ]
  },
  {
   "cell_type": "code",
   "execution_count": 374,
   "metadata": {
    "collapsed": true
   },
   "outputs": [],
   "source": [
    "year_indivs = pd.DataFrame({'indiv':dy['INDIV_ID'].unique()})"
   ]
  },
  {
   "cell_type": "code",
   "execution_count": 314,
   "metadata": {
    "collapsed": true
   },
   "outputs": [],
   "source": [
    "year_indivs['label'] = np.where(year_indivs['indiv'].isin(targets), 1, 0) "
   ]
  },
  {
   "cell_type": "code",
   "execution_count": 376,
   "metadata": {
    "collapsed": true
   },
   "outputs": [],
   "source": [
    "year_indivs['cust_in_top_10_sales'] = np.where(year_indivs['indiv'].isin(dy.INDIV_ID.value_counts().nlargest(int(len(year_indivs)/10))),1,0)"
   ]
  },
  {
   "cell_type": "code",
   "execution_count": 377,
   "metadata": {},
   "outputs": [
    {
     "ename": "AttributeError",
     "evalue": "'DataFrame' object has no attribute 'label'",
     "output_type": "error",
     "traceback": [
      "\u001b[0;31m---------------------------------------------------------------------------\u001b[0m",
      "\u001b[0;31mAttributeError\u001b[0m                            Traceback (most recent call last)",
      "\u001b[0;32m<ipython-input-377-22388b10d272>\u001b[0m in \u001b[0;36m<module>\u001b[0;34m()\u001b[0m\n\u001b[0;32m----> 1\u001b[0;31m \u001b[0myear_indivs\u001b[0m\u001b[0;34m.\u001b[0m\u001b[0mlabel\u001b[0m\u001b[0;34m.\u001b[0m\u001b[0mvalue_counts\u001b[0m\u001b[0;34m(\u001b[0m\u001b[0;34m)\u001b[0m\u001b[0;34m\u001b[0m\u001b[0m\n\u001b[0m",
      "\u001b[0;32m/accre/arch/easybuild/software/BinDist/Anaconda3/5.0.1/lib/python3.6/site-packages/pandas/core/generic.py\u001b[0m in \u001b[0;36m__getattr__\u001b[0;34m(self, name)\u001b[0m\n\u001b[1;32m   3079\u001b[0m             \u001b[0;32mif\u001b[0m \u001b[0mname\u001b[0m \u001b[0;32min\u001b[0m \u001b[0mself\u001b[0m\u001b[0;34m.\u001b[0m\u001b[0m_info_axis\u001b[0m\u001b[0;34m:\u001b[0m\u001b[0;34m\u001b[0m\u001b[0m\n\u001b[1;32m   3080\u001b[0m                 \u001b[0;32mreturn\u001b[0m \u001b[0mself\u001b[0m\u001b[0;34m[\u001b[0m\u001b[0mname\u001b[0m\u001b[0;34m]\u001b[0m\u001b[0;34m\u001b[0m\u001b[0m\n\u001b[0;32m-> 3081\u001b[0;31m             \u001b[0;32mreturn\u001b[0m \u001b[0mobject\u001b[0m\u001b[0;34m.\u001b[0m\u001b[0m__getattribute__\u001b[0m\u001b[0;34m(\u001b[0m\u001b[0mself\u001b[0m\u001b[0;34m,\u001b[0m \u001b[0mname\u001b[0m\u001b[0;34m)\u001b[0m\u001b[0;34m\u001b[0m\u001b[0m\n\u001b[0m\u001b[1;32m   3082\u001b[0m \u001b[0;34m\u001b[0m\u001b[0m\n\u001b[1;32m   3083\u001b[0m     \u001b[0;32mdef\u001b[0m \u001b[0m__setattr__\u001b[0m\u001b[0;34m(\u001b[0m\u001b[0mself\u001b[0m\u001b[0;34m,\u001b[0m \u001b[0mname\u001b[0m\u001b[0;34m,\u001b[0m \u001b[0mvalue\u001b[0m\u001b[0;34m)\u001b[0m\u001b[0;34m:\u001b[0m\u001b[0;34m\u001b[0m\u001b[0m\n",
      "\u001b[0;31mAttributeError\u001b[0m: 'DataFrame' object has no attribute 'label'"
     ]
    }
   ],
   "source": [
    "year_indivs.label.value_counts()"
   ]
  },
  {
   "cell_type": "code",
   "execution_count": 378,
   "metadata": {},
   "outputs": [
    {
     "data": {
      "text/plain": [
       "2624108"
      ]
     },
     "execution_count": 378,
     "metadata": {},
     "output_type": "execute_result"
    }
   ],
   "source": [
    "len(year_indivs)"
   ]
  },
  {
   "cell_type": "code",
   "execution_count": null,
   "metadata": {
    "collapsed": true
   },
   "outputs": [],
   "source": [
    "# def label_training__data(year_file_name, nov_file_name):\n",
    "#     year_dat = pd.read_csv(year_file_name)\n",
    "#     nov_dat = nov_file_name"
   ]
  },
  {
   "cell_type": "markdown",
   "metadata": {},
   "source": [
    "### Feature : is the store among the top performers regarding total number of transactions in general?"
   ]
  },
  {
   "cell_type": "code",
   "execution_count": 379,
   "metadata": {
    "collapsed": true
   },
   "outputs": [],
   "source": [
    "top_stores_trans_list = dy.STORE_ID.value_counts().nlargest(int(len(dy)/100)).index"
   ]
  },
  {
   "cell_type": "code",
   "execution_count": 380,
   "metadata": {},
   "outputs": [
    {
     "data": {
      "text/plain": [
       "2243"
      ]
     },
     "execution_count": 380,
     "metadata": {},
     "output_type": "execute_result"
    }
   ],
   "source": [
    "len(top_stores_trans_list)"
   ]
  },
  {
   "cell_type": "markdown",
   "metadata": {},
   "source": [
    "get individuals visiting those stores"
   ]
  },
  {
   "cell_type": "code",
   "execution_count": 381,
   "metadata": {
    "collapsed": true
   },
   "outputs": [],
   "source": [
    "indiv_store_list = dy[dy['STORE_ID'].isin(top_stores_trans_list)]['INDIV_ID']"
   ]
  },
  {
   "cell_type": "code",
   "execution_count": 382,
   "metadata": {
    "collapsed": true
   },
   "outputs": [],
   "source": [
    "year_indivs['store_top_tran'] = np.where(year_indivs.indiv.isin(indiv_store_list), 1, 0)"
   ]
  },
  {
   "cell_type": "code",
   "execution_count": 383,
   "metadata": {},
   "outputs": [
    {
     "data": {
      "text/plain": [
       "1    2624108\n",
       "Name: store_top_tran, dtype: int64"
      ]
     },
     "execution_count": 383,
     "metadata": {},
     "output_type": "execute_result"
    }
   ],
   "source": [
    "# sanity check\n",
    "year_indivs['store_top_tran'].value_counts()"
   ]
  },
  {
   "cell_type": "markdown",
   "metadata": {},
   "source": [
    "### Feature : is the store among the top performers regarding total number of TIRES transactions ?"
   ]
  },
  {
   "cell_type": "code",
   "execution_count": 384,
   "metadata": {
    "collapsed": true
   },
   "outputs": [],
   "source": [
    "tires = dy.query('PROD_GROUP_CODE == 5')"
   ]
  },
  {
   "cell_type": "code",
   "execution_count": 385,
   "metadata": {
    "collapsed": true
   },
   "outputs": [],
   "source": [
    "top_stores_tires_list = tires.STORE_ID.value_counts().nlargest(int(len(dy)/100)).index"
   ]
  },
  {
   "cell_type": "code",
   "execution_count": 386,
   "metadata": {},
   "outputs": [
    {
     "data": {
      "text/plain": [
       "Int64Index([237119, 240187, 517909, 326506, 517895, 517658, 323022, 517585,\n",
       "            517720,  27871,\n",
       "            ...\n",
       "            793846, 793855, 794381, 793848, 793849, 793850, 793863, 793845,\n",
       "            793847, 793853],\n",
       "           dtype='int64', length=2240)"
      ]
     },
     "execution_count": 386,
     "metadata": {},
     "output_type": "execute_result"
    }
   ],
   "source": [
    "top_stores_tires_list"
   ]
  },
  {
   "cell_type": "markdown",
   "metadata": {},
   "source": [
    "get individuals visiting those stores"
   ]
  },
  {
   "cell_type": "code",
   "execution_count": 387,
   "metadata": {
    "collapsed": true
   },
   "outputs": [],
   "source": [
    "indiv_store_tires_list = dy[dy['STORE_ID'].isin(top_stores_tires_list)]['INDIV_ID']"
   ]
  },
  {
   "cell_type": "code",
   "execution_count": 388,
   "metadata": {
    "collapsed": true
   },
   "outputs": [],
   "source": [
    "year_indivs['store_top_tires_tran'] = np.where(year_indivs.indiv.isin(indiv_store_tires_list), 1, 0)"
   ]
  },
  {
   "cell_type": "code",
   "execution_count": 389,
   "metadata": {},
   "outputs": [
    {
     "data": {
      "text/plain": [
       "1    2624106\n",
       "0          2\n",
       "Name: store_top_tires_tran, dtype: int64"
      ]
     },
     "execution_count": 389,
     "metadata": {},
     "output_type": "execute_result"
    }
   ],
   "source": [
    "# sanity check\n",
    "year_indivs['store_top_tires_tran'].value_counts()"
   ]
  },
  {
   "cell_type": "code",
   "execution_count": 390,
   "metadata": {},
   "outputs": [
    {
     "data": {
      "text/html": [
       "<div>\n",
       "<style>\n",
       "    .dataframe thead tr:only-child th {\n",
       "        text-align: right;\n",
       "    }\n",
       "\n",
       "    .dataframe thead th {\n",
       "        text-align: left;\n",
       "    }\n",
       "\n",
       "    .dataframe tbody tr th {\n",
       "        vertical-align: top;\n",
       "    }\n",
       "</style>\n",
       "<table border=\"1\" class=\"dataframe\">\n",
       "  <thead>\n",
       "    <tr style=\"text-align: right;\">\n",
       "      <th></th>\n",
       "      <th>indiv</th>\n",
       "      <th>cust_in_top_10_sales</th>\n",
       "      <th>store_top_tran</th>\n",
       "      <th>store_top_tires_tran</th>\n",
       "    </tr>\n",
       "  </thead>\n",
       "  <tbody>\n",
       "    <tr>\n",
       "      <th>0</th>\n",
       "      <td>587295308.0</td>\n",
       "      <td>0</td>\n",
       "      <td>1</td>\n",
       "      <td>1</td>\n",
       "    </tr>\n",
       "    <tr>\n",
       "      <th>1</th>\n",
       "      <td>289068522.0</td>\n",
       "      <td>0</td>\n",
       "      <td>1</td>\n",
       "      <td>1</td>\n",
       "    </tr>\n",
       "    <tr>\n",
       "      <th>2</th>\n",
       "      <td>267651496.0</td>\n",
       "      <td>0</td>\n",
       "      <td>1</td>\n",
       "      <td>1</td>\n",
       "    </tr>\n",
       "    <tr>\n",
       "      <th>3</th>\n",
       "      <td>272771622.0</td>\n",
       "      <td>0</td>\n",
       "      <td>1</td>\n",
       "      <td>1</td>\n",
       "    </tr>\n",
       "    <tr>\n",
       "      <th>4</th>\n",
       "      <td>286864796.0</td>\n",
       "      <td>0</td>\n",
       "      <td>1</td>\n",
       "      <td>1</td>\n",
       "    </tr>\n",
       "  </tbody>\n",
       "</table>\n",
       "</div>"
      ],
      "text/plain": [
       "         indiv  cust_in_top_10_sales  store_top_tran  store_top_tires_tran\n",
       "0  587295308.0                     0               1                     1\n",
       "1  289068522.0                     0               1                     1\n",
       "2  267651496.0                     0               1                     1\n",
       "3  272771622.0                     0               1                     1\n",
       "4  286864796.0                     0               1                     1"
      ]
     },
     "execution_count": 390,
     "metadata": {},
     "output_type": "execute_result"
    }
   ],
   "source": [
    "year_indivs.head()"
   ]
  },
  {
   "cell_type": "code",
   "execution_count": 391,
   "metadata": {
    "collapsed": true
   },
   "outputs": [],
   "source": [
    "indiv_store_tires_list = dy[dy['STORE_ID'].isin(top_stores_tires_list)]['INDIV_ID']"
   ]
  },
  {
   "cell_type": "code",
   "execution_count": 392,
   "metadata": {
    "collapsed": true
   },
   "outputs": [],
   "source": [
    "year_indivs['store_top_tires_tran'] = np.where(year_indivs.indiv.isin(indiv_store_tires_list), 1, 0)"
   ]
  },
  {
   "cell_type": "code",
   "execution_count": 393,
   "metadata": {},
   "outputs": [
    {
     "data": {
      "text/plain": [
       "1    2624106\n",
       "0          2\n",
       "Name: store_top_tires_tran, dtype: int64"
      ]
     },
     "execution_count": 393,
     "metadata": {},
     "output_type": "execute_result"
    }
   ],
   "source": [
    "# sanity check\n",
    "year_indivs['store_top_tires_tran'].value_counts()"
   ]
  },
  {
   "cell_type": "markdown",
   "metadata": {
    "collapsed": true
   },
   "source": [
    "## Feature: has this vehicle recently had a tire service? "
   ]
  },
  {
   "cell_type": "markdown",
   "metadata": {},
   "source": [
    "consider adding a certain time limit "
   ]
  },
  {
   "cell_type": "markdown",
   "metadata": {},
   "source": [
    "### list of vehicles with recent tires' services "
   ]
  },
  {
   "cell_type": "code",
   "execution_count": 394,
   "metadata": {
    "collapsed": true
   },
   "outputs": [],
   "source": [
    "vhc_tire_svc_array = dy.query('CATEGORY_DESC == \"Tire Services\"')['VEHICLE_ID'].unique()"
   ]
  },
  {
   "cell_type": "code",
   "execution_count": 395,
   "metadata": {
    "collapsed": true
   },
   "outputs": [],
   "source": [
    "indiv_vhc_svc_list = dy[dy['VEHICLE_ID'].isin(vhc_tire_svc_array)]['INDIV_ID']"
   ]
  },
  {
   "cell_type": "code",
   "execution_count": 396,
   "metadata": {
    "collapsed": true
   },
   "outputs": [],
   "source": [
    "year_indivs['vehicle_tire_svc'] = np.where(year_indivs.indiv.isin(indiv_vhc_svc_list), 1, 0)"
   ]
  },
  {
   "cell_type": "code",
   "execution_count": 397,
   "metadata": {},
   "outputs": [
    {
     "data": {
      "text/plain": [
       "1    1814868\n",
       "0     809240\n",
       "Name: vehicle_tire_svc, dtype: int64"
      ]
     },
     "execution_count": 397,
     "metadata": {},
     "output_type": "execute_result"
    }
   ],
   "source": [
    "# sanity check\n",
    "year_indivs['vehicle_tire_svc'].value_counts()"
   ]
  },
  {
   "cell_type": "markdown",
   "metadata": {},
   "source": [
    "## Feature: has anyone purchased a tire for this vehicle before?"
   ]
  },
  {
   "cell_type": "markdown",
   "metadata": {},
   "source": [
    "we need to settle on the definition of tire purchase, is it 5 only or after removing others as well?"
   ]
  },
  {
   "cell_type": "code",
   "execution_count": 398,
   "metadata": {
    "collapsed": true
   },
   "outputs": [],
   "source": [
    "vhc_tire_pur_array = dy.query('PROD_GROUP_DESC == \"Tires\" & SEGMENT_DESC != \"Others\"')['VEHICLE_ID'].unique()"
   ]
  },
  {
   "cell_type": "code",
   "execution_count": 399,
   "metadata": {},
   "outputs": [
    {
     "data": {
      "text/plain": [
       "array([913599587, 934945887, 954343100, ..., 978160104, 971530430,\n",
       "       971130506])"
      ]
     },
     "execution_count": 399,
     "metadata": {},
     "output_type": "execute_result"
    }
   ],
   "source": [
    "vhc_tire_pur_array"
   ]
  },
  {
   "cell_type": "code",
   "execution_count": 400,
   "metadata": {
    "collapsed": true
   },
   "outputs": [],
   "source": [
    "indiv_vhc_pur_list = dy[dy['VEHICLE_ID'].isin(vhc_tire_pur_array)]['INDIV_ID']"
   ]
  },
  {
   "cell_type": "code",
   "execution_count": 401,
   "metadata": {
    "collapsed": true
   },
   "outputs": [],
   "source": [
    "year_indivs['vhc_tire_purchase'] = np.where(year_indivs.indiv.isin(indiv_vhc_pur_list), 1, 0)"
   ]
  },
  {
   "cell_type": "code",
   "execution_count": 402,
   "metadata": {},
   "outputs": [
    {
     "data": {
      "text/plain": [
       "0    1569505\n",
       "1    1054603\n",
       "Name: vhc_tire_purchase, dtype: int64"
      ]
     },
     "execution_count": 402,
     "metadata": {},
     "output_type": "execute_result"
    }
   ],
   "source": [
    "# sanity check\n",
    "year_indivs['vhc_tire_purchase'].value_counts()"
   ]
  },
  {
   "cell_type": "markdown",
   "metadata": {},
   "source": [
    "## Feature : when was the last time this vehicle bought a new tire? [last year - 2 years - 3 years]"
   ]
  },
  {
   "cell_type": "code",
   "execution_count": 403,
   "metadata": {
    "collapsed": true
   },
   "outputs": [],
   "source": [
    "dy['DATE'] = pd.to_datetime(dy['DATE'])"
   ]
  },
  {
   "cell_type": "code",
   "execution_count": 404,
   "metadata": {
    "collapsed": true
   },
   "outputs": [],
   "source": [
    "dy['year'] = pd.DatetimeIndex(dy['DATE']).year\n",
    "dy['month'] = pd.DatetimeIndex(dy['DATE']).month"
   ]
  },
  {
   "cell_type": "code",
   "execution_count": 405,
   "metadata": {
    "collapsed": true
   },
   "outputs": [],
   "source": [
    "dy_vhc_tire_purch = dy.query('PROD_GROUP_DESC == \"Tires\" & SEGMENT_DESC != \"Others\"')"
   ]
  },
  {
   "cell_type": "code",
   "execution_count": 406,
   "metadata": {
    "collapsed": true
   },
   "outputs": [],
   "source": [
    "month_look = dy_vhc_tire_purch.groupby('VEHICLE_ID').agg({'month':['max'] })"
   ]
  },
  {
   "cell_type": "markdown",
   "metadata": {},
   "source": [
    "Max is the latest month the tire was purchased. If the last month to purchase a tire was before 6, the vehicle may need to replace tires. \n",
    "Of course, this needs a change, but after we combine datasets of different years. "
   ]
  },
  {
   "cell_type": "code",
   "execution_count": 407,
   "metadata": {
    "collapsed": true
   },
   "outputs": [],
   "source": [
    "month_look.columns = ['last_mo_tire_purch']"
   ]
  },
  {
   "cell_type": "code",
   "execution_count": 408,
   "metadata": {
    "collapsed": true
   },
   "outputs": [],
   "source": [
    "vhc_early_purch_tires = month_look.reset_index().query('last_mo_tire_purch < 6')['VEHICLE_ID']"
   ]
  },
  {
   "cell_type": "code",
   "execution_count": 409,
   "metadata": {
    "collapsed": true
   },
   "outputs": [],
   "source": [
    "indiv_vhc_early_pur_list = dy[dy['VEHICLE_ID'].isin(vhc_early_purch_tires)]['INDIV_ID']"
   ]
  },
  {
   "cell_type": "code",
   "execution_count": 410,
   "metadata": {
    "collapsed": true
   },
   "outputs": [],
   "source": [
    "year_indivs['vhc_early_tire_purchase'] = np.where(year_indivs.indiv.isin(indiv_vhc_early_pur_list), 1, 0)"
   ]
  },
  {
   "cell_type": "code",
   "execution_count": 411,
   "metadata": {},
   "outputs": [
    {
     "data": {
      "text/plain": [
       "0    2142703\n",
       "1     481405\n",
       "Name: vhc_early_tire_purchase, dtype: int64"
      ]
     },
     "execution_count": 411,
     "metadata": {},
     "output_type": "execute_result"
    }
   ],
   "source": [
    "# sanity check\n",
    "year_indivs['vhc_early_tire_purchase'].value_counts()"
   ]
  },
  {
   "cell_type": "markdown",
   "metadata": {},
   "source": [
    "# Alert "
   ]
  },
  {
   "cell_type": "markdown",
   "metadata": {},
   "source": [
    "too many vehicles with ID =1 "
   ]
  },
  {
   "cell_type": "markdown",
   "metadata": {},
   "source": [
    "### Here I need to understand what to do with units "
   ]
  },
  {
   "cell_type": "markdown",
   "metadata": {},
   "source": [
    "## Feature: top customers regarding overall transactions  "
   ]
  },
  {
   "cell_type": "code",
   "execution_count": 412,
   "metadata": {
    "collapsed": true
   },
   "outputs": [],
   "source": [
    "top_cust_overall_list = dy.INDIV_ID.value_counts().nlargest(int(len(dy)/10))"
   ]
  },
  {
   "cell_type": "code",
   "execution_count": 413,
   "metadata": {
    "collapsed": true
   },
   "outputs": [],
   "source": [
    "year_indivs['top_cust_overall'] = np.where(year_indivs['indiv'].isin(top_cust_overall_list), 1, 0)"
   ]
  },
  {
   "cell_type": "markdown",
   "metadata": {},
   "source": [
    "## Feature: top customers regarding tires' purchase "
   ]
  },
  {
   "cell_type": "code",
   "execution_count": 414,
   "metadata": {
    "collapsed": true
   },
   "outputs": [],
   "source": [
    "top_cust_tire_purch_array = dy_vhc_tire_purch.INDIV_ID.value_counts().nlargest(int(len(dy_vhc_tire_purch)/10)).index"
   ]
  },
  {
   "cell_type": "code",
   "execution_count": 415,
   "metadata": {
    "collapsed": true
   },
   "outputs": [],
   "source": [
    "year_indivs['top_cust_tire_purch'] = np.where(year_indivs['indiv'].isin(top_cust_tire_purch_array), 1, 0)"
   ]
  },
  {
   "cell_type": "code",
   "execution_count": 416,
   "metadata": {},
   "outputs": [
    {
     "data": {
      "text/plain": [
       "0    2251724\n",
       "1     372384\n",
       "Name: top_cust_tire_purch, dtype: int64"
      ]
     },
     "execution_count": 416,
     "metadata": {},
     "output_type": "execute_result"
    }
   ],
   "source": [
    "year_indivs['top_cust_tire_purch'].value_counts()"
   ]
  },
  {
   "cell_type": "code",
   "execution_count": 417,
   "metadata": {},
   "outputs": [
    {
     "data": {
      "text/html": [
       "<div>\n",
       "<style>\n",
       "    .dataframe thead tr:only-child th {\n",
       "        text-align: right;\n",
       "    }\n",
       "\n",
       "    .dataframe thead th {\n",
       "        text-align: left;\n",
       "    }\n",
       "\n",
       "    .dataframe tbody tr th {\n",
       "        vertical-align: top;\n",
       "    }\n",
       "</style>\n",
       "<table border=\"1\" class=\"dataframe\">\n",
       "  <thead>\n",
       "    <tr style=\"text-align: right;\">\n",
       "      <th></th>\n",
       "      <th>indiv</th>\n",
       "      <th>cust_in_top_10_sales</th>\n",
       "      <th>store_top_tran</th>\n",
       "      <th>store_top_tires_tran</th>\n",
       "      <th>vehicle_tire_svc</th>\n",
       "      <th>vhc_tire_purchase</th>\n",
       "      <th>vhc_early_tire_purchase</th>\n",
       "      <th>top_cust_overall</th>\n",
       "      <th>top_cust_tire_purch</th>\n",
       "    </tr>\n",
       "  </thead>\n",
       "  <tbody>\n",
       "    <tr>\n",
       "      <th>0</th>\n",
       "      <td>587295308.0</td>\n",
       "      <td>0</td>\n",
       "      <td>1</td>\n",
       "      <td>1</td>\n",
       "      <td>0</td>\n",
       "      <td>0</td>\n",
       "      <td>0</td>\n",
       "      <td>0</td>\n",
       "      <td>0</td>\n",
       "    </tr>\n",
       "    <tr>\n",
       "      <th>1</th>\n",
       "      <td>289068522.0</td>\n",
       "      <td>0</td>\n",
       "      <td>1</td>\n",
       "      <td>1</td>\n",
       "      <td>1</td>\n",
       "      <td>0</td>\n",
       "      <td>0</td>\n",
       "      <td>0</td>\n",
       "      <td>0</td>\n",
       "    </tr>\n",
       "    <tr>\n",
       "      <th>2</th>\n",
       "      <td>267651496.0</td>\n",
       "      <td>0</td>\n",
       "      <td>1</td>\n",
       "      <td>1</td>\n",
       "      <td>1</td>\n",
       "      <td>1</td>\n",
       "      <td>1</td>\n",
       "      <td>0</td>\n",
       "      <td>0</td>\n",
       "    </tr>\n",
       "    <tr>\n",
       "      <th>3</th>\n",
       "      <td>272771622.0</td>\n",
       "      <td>0</td>\n",
       "      <td>1</td>\n",
       "      <td>1</td>\n",
       "      <td>1</td>\n",
       "      <td>1</td>\n",
       "      <td>1</td>\n",
       "      <td>0</td>\n",
       "      <td>1</td>\n",
       "    </tr>\n",
       "    <tr>\n",
       "      <th>4</th>\n",
       "      <td>286864796.0</td>\n",
       "      <td>0</td>\n",
       "      <td>1</td>\n",
       "      <td>1</td>\n",
       "      <td>1</td>\n",
       "      <td>1</td>\n",
       "      <td>0</td>\n",
       "      <td>0</td>\n",
       "      <td>0</td>\n",
       "    </tr>\n",
       "    <tr>\n",
       "      <th>5</th>\n",
       "      <td>612149572.0</td>\n",
       "      <td>0</td>\n",
       "      <td>1</td>\n",
       "      <td>1</td>\n",
       "      <td>1</td>\n",
       "      <td>0</td>\n",
       "      <td>0</td>\n",
       "      <td>0</td>\n",
       "      <td>0</td>\n",
       "    </tr>\n",
       "    <tr>\n",
       "      <th>6</th>\n",
       "      <td>289878575.0</td>\n",
       "      <td>0</td>\n",
       "      <td>1</td>\n",
       "      <td>1</td>\n",
       "      <td>1</td>\n",
       "      <td>1</td>\n",
       "      <td>0</td>\n",
       "      <td>0</td>\n",
       "      <td>1</td>\n",
       "    </tr>\n",
       "    <tr>\n",
       "      <th>7</th>\n",
       "      <td>316506474.0</td>\n",
       "      <td>0</td>\n",
       "      <td>1</td>\n",
       "      <td>1</td>\n",
       "      <td>1</td>\n",
       "      <td>1</td>\n",
       "      <td>1</td>\n",
       "      <td>0</td>\n",
       "      <td>1</td>\n",
       "    </tr>\n",
       "    <tr>\n",
       "      <th>8</th>\n",
       "      <td>292361182.0</td>\n",
       "      <td>0</td>\n",
       "      <td>1</td>\n",
       "      <td>1</td>\n",
       "      <td>1</td>\n",
       "      <td>1</td>\n",
       "      <td>0</td>\n",
       "      <td>0</td>\n",
       "      <td>1</td>\n",
       "    </tr>\n",
       "    <tr>\n",
       "      <th>9</th>\n",
       "      <td>289502694.0</td>\n",
       "      <td>0</td>\n",
       "      <td>1</td>\n",
       "      <td>1</td>\n",
       "      <td>1</td>\n",
       "      <td>1</td>\n",
       "      <td>1</td>\n",
       "      <td>0</td>\n",
       "      <td>1</td>\n",
       "    </tr>\n",
       "  </tbody>\n",
       "</table>\n",
       "</div>"
      ],
      "text/plain": [
       "         indiv  cust_in_top_10_sales  store_top_tran  store_top_tires_tran  \\\n",
       "0  587295308.0                     0               1                     1   \n",
       "1  289068522.0                     0               1                     1   \n",
       "2  267651496.0                     0               1                     1   \n",
       "3  272771622.0                     0               1                     1   \n",
       "4  286864796.0                     0               1                     1   \n",
       "5  612149572.0                     0               1                     1   \n",
       "6  289878575.0                     0               1                     1   \n",
       "7  316506474.0                     0               1                     1   \n",
       "8  292361182.0                     0               1                     1   \n",
       "9  289502694.0                     0               1                     1   \n",
       "\n",
       "   vehicle_tire_svc  vhc_tire_purchase  vhc_early_tire_purchase  \\\n",
       "0                 0                  0                        0   \n",
       "1                 1                  0                        0   \n",
       "2                 1                  1                        1   \n",
       "3                 1                  1                        1   \n",
       "4                 1                  1                        0   \n",
       "5                 1                  0                        0   \n",
       "6                 1                  1                        0   \n",
       "7                 1                  1                        1   \n",
       "8                 1                  1                        0   \n",
       "9                 1                  1                        1   \n",
       "\n",
       "   top_cust_overall  top_cust_tire_purch  \n",
       "0                 0                    0  \n",
       "1                 0                    0  \n",
       "2                 0                    0  \n",
       "3                 0                    1  \n",
       "4                 0                    0  \n",
       "5                 0                    0  \n",
       "6                 0                    1  \n",
       "7                 0                    1  \n",
       "8                 0                    1  \n",
       "9                 0                    1  "
      ]
     },
     "execution_count": 417,
     "metadata": {},
     "output_type": "execute_result"
    }
   ],
   "source": [
    "year_indivs.head(10)"
   ]
  },
  {
   "cell_type": "code",
   "execution_count": 418,
   "metadata": {},
   "outputs": [
    {
     "data": {
      "text/html": [
       "<div>\n",
       "<style>\n",
       "    .dataframe thead tr:only-child th {\n",
       "        text-align: right;\n",
       "    }\n",
       "\n",
       "    .dataframe thead th {\n",
       "        text-align: left;\n",
       "    }\n",
       "\n",
       "    .dataframe tbody tr th {\n",
       "        vertical-align: top;\n",
       "    }\n",
       "</style>\n",
       "<table border=\"1\" class=\"dataframe\">\n",
       "  <thead>\n",
       "    <tr style=\"text-align: right;\">\n",
       "      <th></th>\n",
       "      <th>Unnamed: 0</th>\n",
       "      <th>Unnamed: 0.1</th>\n",
       "      <th>STORE_ID</th>\n",
       "      <th>TRAN_ID</th>\n",
       "      <th>DATE</th>\n",
       "      <th>ARTICLE_ID</th>\n",
       "      <th>INDIV_ID</th>\n",
       "      <th>VEHICLE_ID</th>\n",
       "      <th>UNITS</th>\n",
       "      <th>SALES</th>\n",
       "      <th>STATE_CODE</th>\n",
       "      <th>ZIP_CODE</th>\n",
       "      <th>MSA</th>\n",
       "      <th>MAKE</th>\n",
       "      <th>MODEL</th>\n",
       "      <th>SUB_MODEL</th>\n",
       "      <th>MODEL_YEAR</th>\n",
       "      <th>PROD_GROUP_CODE</th>\n",
       "      <th>PROD_GROUP_DESC</th>\n",
       "      <th>CATEGORY_CODE</th>\n",
       "      <th>CATEGORY_DESC</th>\n",
       "      <th>SEGMENT_CODE</th>\n",
       "      <th>SEGMENT_DESC</th>\n",
       "      <th>CLASS_CODE</th>\n",
       "      <th>CLASS_DESC</th>\n",
       "      <th>DISCOUNT_FLAG</th>\n",
       "      <th>CROSS_SECTION</th>\n",
       "      <th>ASPECT_RATIO</th>\n",
       "      <th>RIM_SIZE</th>\n",
       "      <th>EMAIL_OPTIN_IND</th>\n",
       "      <th>AH1_RES_BUS_INDC</th>\n",
       "      <th>SUPP1_BUS_PANDER</th>\n",
       "      <th>year</th>\n",
       "      <th>month</th>\n",
       "    </tr>\n",
       "  </thead>\n",
       "  <tbody>\n",
       "    <tr>\n",
       "      <th>0</th>\n",
       "      <td>10</td>\n",
       "      <td>10</td>\n",
       "      <td>27081</td>\n",
       "      <td>992088410</td>\n",
       "      <td>2018-01-25</td>\n",
       "      <td>7005180</td>\n",
       "      <td>587295308.0</td>\n",
       "      <td>964475905</td>\n",
       "      <td>0.0</td>\n",
       "      <td>-30.00</td>\n",
       "      <td>NY</td>\n",
       "      <td>13039</td>\n",
       "      <td>SYRACUSE,N</td>\n",
       "      <td>CHEVROLET</td>\n",
       "      <td>MALIBU LTZ</td>\n",
       "      <td>LTZ 1LTZ Pkg.</td>\n",
       "      <td>2013.0</td>\n",
       "      <td>4.0</td>\n",
       "      <td>Services</td>\n",
       "      <td>83.0</td>\n",
       "      <td>Steering/Suspension/Drivetrain</td>\n",
       "      <td>96.0</td>\n",
       "      <td>Alignments</td>\n",
       "      <td>190.0</td>\n",
       "      <td>Lifetime Alignment</td>\n",
       "      <td>Y</td>\n",
       "      <td>NaN</td>\n",
       "      <td>NaN</td>\n",
       "      <td>NaN</td>\n",
       "      <td>Y</td>\n",
       "      <td>R</td>\n",
       "      <td>N</td>\n",
       "      <td>2018</td>\n",
       "      <td>1</td>\n",
       "    </tr>\n",
       "    <tr>\n",
       "      <th>1</th>\n",
       "      <td>11</td>\n",
       "      <td>11</td>\n",
       "      <td>27081</td>\n",
       "      <td>992088410</td>\n",
       "      <td>2018-01-25</td>\n",
       "      <td>7005229</td>\n",
       "      <td>587295308.0</td>\n",
       "      <td>964475905</td>\n",
       "      <td>0.0</td>\n",
       "      <td>199.99</td>\n",
       "      <td>NY</td>\n",
       "      <td>13039</td>\n",
       "      <td>SYRACUSE,N</td>\n",
       "      <td>CHEVROLET</td>\n",
       "      <td>MALIBU LTZ</td>\n",
       "      <td>LTZ 1LTZ Pkg.</td>\n",
       "      <td>2013.0</td>\n",
       "      <td>4.0</td>\n",
       "      <td>Services</td>\n",
       "      <td>83.0</td>\n",
       "      <td>Steering/Suspension/Drivetrain</td>\n",
       "      <td>96.0</td>\n",
       "      <td>Alignments</td>\n",
       "      <td>190.0</td>\n",
       "      <td>Lifetime Alignment</td>\n",
       "      <td>N</td>\n",
       "      <td>NaN</td>\n",
       "      <td>NaN</td>\n",
       "      <td>NaN</td>\n",
       "      <td>Y</td>\n",
       "      <td>R</td>\n",
       "      <td>N</td>\n",
       "      <td>2018</td>\n",
       "      <td>1</td>\n",
       "    </tr>\n",
       "    <tr>\n",
       "      <th>2</th>\n",
       "      <td>12</td>\n",
       "      <td>12</td>\n",
       "      <td>27081</td>\n",
       "      <td>992088410</td>\n",
       "      <td>2018-01-25</td>\n",
       "      <td>7005219</td>\n",
       "      <td>587295308.0</td>\n",
       "      <td>964475905</td>\n",
       "      <td>0.0</td>\n",
       "      <td>0.00</td>\n",
       "      <td>NY</td>\n",
       "      <td>13039</td>\n",
       "      <td>SYRACUSE,N</td>\n",
       "      <td>CHEVROLET</td>\n",
       "      <td>MALIBU LTZ</td>\n",
       "      <td>LTZ 1LTZ Pkg.</td>\n",
       "      <td>2013.0</td>\n",
       "      <td>4.0</td>\n",
       "      <td>Services</td>\n",
       "      <td>83.0</td>\n",
       "      <td>Steering/Suspension/Drivetrain</td>\n",
       "      <td>96.0</td>\n",
       "      <td>Alignments</td>\n",
       "      <td>190.0</td>\n",
       "      <td>Lifetime Alignment</td>\n",
       "      <td>Y</td>\n",
       "      <td>NaN</td>\n",
       "      <td>NaN</td>\n",
       "      <td>NaN</td>\n",
       "      <td>Y</td>\n",
       "      <td>R</td>\n",
       "      <td>N</td>\n",
       "      <td>2018</td>\n",
       "      <td>1</td>\n",
       "    </tr>\n",
       "    <tr>\n",
       "      <th>3</th>\n",
       "      <td>27</td>\n",
       "      <td>27</td>\n",
       "      <td>18929</td>\n",
       "      <td>992021540</td>\n",
       "      <td>2018-01-02</td>\n",
       "      <td>7028789</td>\n",
       "      <td>289068522.0</td>\n",
       "      <td>964961935</td>\n",
       "      <td>0.0</td>\n",
       "      <td>21.99</td>\n",
       "      <td>AL</td>\n",
       "      <td>35805</td>\n",
       "      <td>HUNTSVILLE</td>\n",
       "      <td>JEEP</td>\n",
       "      <td>PATRIOT SPORT</td>\n",
       "      <td>Sport</td>\n",
       "      <td>2013.0</td>\n",
       "      <td>4.0</td>\n",
       "      <td>Services</td>\n",
       "      <td>81.0</td>\n",
       "      <td>Miscellaneous Services</td>\n",
       "      <td>109.0</td>\n",
       "      <td>Inspection Services</td>\n",
       "      <td>475.0</td>\n",
       "      <td>Complete Vehicle Inspection</td>\n",
       "      <td>N</td>\n",
       "      <td>NaN</td>\n",
       "      <td>NaN</td>\n",
       "      <td>NaN</td>\n",
       "      <td>Y</td>\n",
       "      <td>R</td>\n",
       "      <td>N</td>\n",
       "      <td>2018</td>\n",
       "      <td>1</td>\n",
       "    </tr>\n",
       "    <tr>\n",
       "      <th>4</th>\n",
       "      <td>30</td>\n",
       "      <td>30</td>\n",
       "      <td>817</td>\n",
       "      <td>992441300</td>\n",
       "      <td>2018-01-08</td>\n",
       "      <td>7015016</td>\n",
       "      <td>267651496.0</td>\n",
       "      <td>913599587</td>\n",
       "      <td>0.0</td>\n",
       "      <td>0.00</td>\n",
       "      <td>MA</td>\n",
       "      <td>1420</td>\n",
       "      <td>WORCESTER,</td>\n",
       "      <td>HYUNDAI</td>\n",
       "      <td>SONATA SE</td>\n",
       "      <td>SE V6</td>\n",
       "      <td>2009.0</td>\n",
       "      <td>4.0</td>\n",
       "      <td>Services</td>\n",
       "      <td>62.0</td>\n",
       "      <td>Tire Services</td>\n",
       "      <td>91.0</td>\n",
       "      <td>Tire Services</td>\n",
       "      <td>139.0</td>\n",
       "      <td>Tire Mounting</td>\n",
       "      <td>N</td>\n",
       "      <td>NaN</td>\n",
       "      <td>NaN</td>\n",
       "      <td>NaN</td>\n",
       "      <td>Y</td>\n",
       "      <td>R</td>\n",
       "      <td>N</td>\n",
       "      <td>2018</td>\n",
       "      <td>1</td>\n",
       "    </tr>\n",
       "    <tr>\n",
       "      <th>5</th>\n",
       "      <td>31</td>\n",
       "      <td>31</td>\n",
       "      <td>817</td>\n",
       "      <td>992441300</td>\n",
       "      <td>2018-01-08</td>\n",
       "      <td>7013632</td>\n",
       "      <td>267651496.0</td>\n",
       "      <td>913599587</td>\n",
       "      <td>0.0</td>\n",
       "      <td>12.99</td>\n",
       "      <td>MA</td>\n",
       "      <td>1420</td>\n",
       "      <td>WORCESTER,</td>\n",
       "      <td>HYUNDAI</td>\n",
       "      <td>SONATA SE</td>\n",
       "      <td>SE V6</td>\n",
       "      <td>2009.0</td>\n",
       "      <td>4.0</td>\n",
       "      <td>Services</td>\n",
       "      <td>62.0</td>\n",
       "      <td>Tire Services</td>\n",
       "      <td>91.0</td>\n",
       "      <td>Tire Services</td>\n",
       "      <td>147.0</td>\n",
       "      <td>Balance</td>\n",
       "      <td>N</td>\n",
       "      <td>NaN</td>\n",
       "      <td>NaN</td>\n",
       "      <td>NaN</td>\n",
       "      <td>Y</td>\n",
       "      <td>R</td>\n",
       "      <td>N</td>\n",
       "      <td>2018</td>\n",
       "      <td>1</td>\n",
       "    </tr>\n",
       "    <tr>\n",
       "      <th>6</th>\n",
       "      <td>32</td>\n",
       "      <td>32</td>\n",
       "      <td>817</td>\n",
       "      <td>992441300</td>\n",
       "      <td>2018-01-08</td>\n",
       "      <td>3438</td>\n",
       "      <td>267651496.0</td>\n",
       "      <td>913599587</td>\n",
       "      <td>1.0</td>\n",
       "      <td>60.99</td>\n",
       "      <td>MA</td>\n",
       "      <td>1420</td>\n",
       "      <td>WORCESTER,</td>\n",
       "      <td>HYUNDAI</td>\n",
       "      <td>SONATA SE</td>\n",
       "      <td>SE V6</td>\n",
       "      <td>2009.0</td>\n",
       "      <td>5.0</td>\n",
       "      <td>Tires</td>\n",
       "      <td>26.0</td>\n",
       "      <td>Passenger Tires</td>\n",
       "      <td>27.0</td>\n",
       "      <td>Touring</td>\n",
       "      <td>33.0</td>\n",
       "      <td>Mass Market Tires</td>\n",
       "      <td>N</td>\n",
       "      <td>215</td>\n",
       "      <td>55</td>\n",
       "      <td>17</td>\n",
       "      <td>Y</td>\n",
       "      <td>R</td>\n",
       "      <td>N</td>\n",
       "      <td>2018</td>\n",
       "      <td>1</td>\n",
       "    </tr>\n",
       "    <tr>\n",
       "      <th>7</th>\n",
       "      <td>33</td>\n",
       "      <td>33</td>\n",
       "      <td>817</td>\n",
       "      <td>992441300</td>\n",
       "      <td>2018-01-08</td>\n",
       "      <td>7097782</td>\n",
       "      <td>267651496.0</td>\n",
       "      <td>913599587</td>\n",
       "      <td>0.0</td>\n",
       "      <td>8.84</td>\n",
       "      <td>MA</td>\n",
       "      <td>1420</td>\n",
       "      <td>WORCESTER,</td>\n",
       "      <td>HYUNDAI</td>\n",
       "      <td>SONATA SE</td>\n",
       "      <td>SE V6</td>\n",
       "      <td>2009.0</td>\n",
       "      <td>5.0</td>\n",
       "      <td>Tires</td>\n",
       "      <td>20158.0</td>\n",
       "      <td>Road Hazard</td>\n",
       "      <td>20159.0</td>\n",
       "      <td>Road Hazard</td>\n",
       "      <td>20160.0</td>\n",
       "      <td>Road Hazard</td>\n",
       "      <td>N</td>\n",
       "      <td>NONE</td>\n",
       "      <td>NONE</td>\n",
       "      <td>NONE</td>\n",
       "      <td>Y</td>\n",
       "      <td>R</td>\n",
       "      <td>N</td>\n",
       "      <td>2018</td>\n",
       "      <td>1</td>\n",
       "    </tr>\n",
       "    <tr>\n",
       "      <th>8</th>\n",
       "      <td>58</td>\n",
       "      <td>58</td>\n",
       "      <td>781219</td>\n",
       "      <td>990091660</td>\n",
       "      <td>2018-01-04</td>\n",
       "      <td>7001123</td>\n",
       "      <td>272771622.0</td>\n",
       "      <td>934945887</td>\n",
       "      <td>0.0</td>\n",
       "      <td>0.00</td>\n",
       "      <td>FL</td>\n",
       "      <td>34233</td>\n",
       "      <td>SARASOTA,F</td>\n",
       "      <td>HYUNDAI</td>\n",
       "      <td>SONATA GLS</td>\n",
       "      <td>GLS</td>\n",
       "      <td>2014.0</td>\n",
       "      <td>4.0</td>\n",
       "      <td>Services</td>\n",
       "      <td>62.0</td>\n",
       "      <td>Tire Services</td>\n",
       "      <td>91.0</td>\n",
       "      <td>Tire Services</td>\n",
       "      <td>155.0</td>\n",
       "      <td>Misc. Tire Service</td>\n",
       "      <td>N</td>\n",
       "      <td>NaN</td>\n",
       "      <td>NaN</td>\n",
       "      <td>NaN</td>\n",
       "      <td>Y</td>\n",
       "      <td>R</td>\n",
       "      <td>N</td>\n",
       "      <td>2018</td>\n",
       "      <td>1</td>\n",
       "    </tr>\n",
       "    <tr>\n",
       "      <th>9</th>\n",
       "      <td>59</td>\n",
       "      <td>59</td>\n",
       "      <td>781219</td>\n",
       "      <td>990091660</td>\n",
       "      <td>2018-01-04</td>\n",
       "      <td>7008190</td>\n",
       "      <td>272771622.0</td>\n",
       "      <td>934945887</td>\n",
       "      <td>0.0</td>\n",
       "      <td>2.99</td>\n",
       "      <td>FL</td>\n",
       "      <td>34233</td>\n",
       "      <td>SARASOTA,F</td>\n",
       "      <td>HYUNDAI</td>\n",
       "      <td>SONATA GLS</td>\n",
       "      <td>GLS</td>\n",
       "      <td>2014.0</td>\n",
       "      <td>4.0</td>\n",
       "      <td>Services</td>\n",
       "      <td>62.0</td>\n",
       "      <td>Tire Services</td>\n",
       "      <td>91.0</td>\n",
       "      <td>Tire Services</td>\n",
       "      <td>62150.0</td>\n",
       "      <td>Tire Pressure Monitoring Systems</td>\n",
       "      <td>N</td>\n",
       "      <td>NaN</td>\n",
       "      <td>NaN</td>\n",
       "      <td>NaN</td>\n",
       "      <td>Y</td>\n",
       "      <td>R</td>\n",
       "      <td>N</td>\n",
       "      <td>2018</td>\n",
       "      <td>1</td>\n",
       "    </tr>\n",
       "  </tbody>\n",
       "</table>\n",
       "</div>"
      ],
      "text/plain": [
       "   Unnamed: 0  Unnamed: 0.1  STORE_ID    TRAN_ID       DATE  ARTICLE_ID  \\\n",
       "0          10            10     27081  992088410 2018-01-25     7005180   \n",
       "1          11            11     27081  992088410 2018-01-25     7005229   \n",
       "2          12            12     27081  992088410 2018-01-25     7005219   \n",
       "3          27            27     18929  992021540 2018-01-02     7028789   \n",
       "4          30            30       817  992441300 2018-01-08     7015016   \n",
       "5          31            31       817  992441300 2018-01-08     7013632   \n",
       "6          32            32       817  992441300 2018-01-08        3438   \n",
       "7          33            33       817  992441300 2018-01-08     7097782   \n",
       "8          58            58    781219  990091660 2018-01-04     7001123   \n",
       "9          59            59    781219  990091660 2018-01-04     7008190   \n",
       "\n",
       "      INDIV_ID  VEHICLE_ID  UNITS   SALES STATE_CODE  ZIP_CODE         MSA  \\\n",
       "0  587295308.0   964475905    0.0  -30.00         NY     13039  SYRACUSE,N   \n",
       "1  587295308.0   964475905    0.0  199.99         NY     13039  SYRACUSE,N   \n",
       "2  587295308.0   964475905    0.0    0.00         NY     13039  SYRACUSE,N   \n",
       "3  289068522.0   964961935    0.0   21.99         AL     35805  HUNTSVILLE   \n",
       "4  267651496.0   913599587    0.0    0.00         MA      1420  WORCESTER,   \n",
       "5  267651496.0   913599587    0.0   12.99         MA      1420  WORCESTER,   \n",
       "6  267651496.0   913599587    1.0   60.99         MA      1420  WORCESTER,   \n",
       "7  267651496.0   913599587    0.0    8.84         MA      1420  WORCESTER,   \n",
       "8  272771622.0   934945887    0.0    0.00         FL     34233  SARASOTA,F   \n",
       "9  272771622.0   934945887    0.0    2.99         FL     34233  SARASOTA,F   \n",
       "\n",
       "        MAKE          MODEL      SUB_MODEL  MODEL_YEAR  PROD_GROUP_CODE  \\\n",
       "0  CHEVROLET     MALIBU LTZ  LTZ 1LTZ Pkg.      2013.0              4.0   \n",
       "1  CHEVROLET     MALIBU LTZ  LTZ 1LTZ Pkg.      2013.0              4.0   \n",
       "2  CHEVROLET     MALIBU LTZ  LTZ 1LTZ Pkg.      2013.0              4.0   \n",
       "3       JEEP  PATRIOT SPORT          Sport      2013.0              4.0   \n",
       "4    HYUNDAI      SONATA SE          SE V6      2009.0              4.0   \n",
       "5    HYUNDAI      SONATA SE          SE V6      2009.0              4.0   \n",
       "6    HYUNDAI      SONATA SE          SE V6      2009.0              5.0   \n",
       "7    HYUNDAI      SONATA SE          SE V6      2009.0              5.0   \n",
       "8    HYUNDAI     SONATA GLS            GLS      2014.0              4.0   \n",
       "9    HYUNDAI     SONATA GLS            GLS      2014.0              4.0   \n",
       "\n",
       "  PROD_GROUP_DESC  CATEGORY_CODE                   CATEGORY_DESC  \\\n",
       "0        Services           83.0  Steering/Suspension/Drivetrain   \n",
       "1        Services           83.0  Steering/Suspension/Drivetrain   \n",
       "2        Services           83.0  Steering/Suspension/Drivetrain   \n",
       "3        Services           81.0          Miscellaneous Services   \n",
       "4        Services           62.0                   Tire Services   \n",
       "5        Services           62.0                   Tire Services   \n",
       "6           Tires           26.0                 Passenger Tires   \n",
       "7           Tires        20158.0                     Road Hazard   \n",
       "8        Services           62.0                   Tire Services   \n",
       "9        Services           62.0                   Tire Services   \n",
       "\n",
       "   SEGMENT_CODE         SEGMENT_DESC  CLASS_CODE  \\\n",
       "0          96.0           Alignments       190.0   \n",
       "1          96.0           Alignments       190.0   \n",
       "2          96.0           Alignments       190.0   \n",
       "3         109.0  Inspection Services       475.0   \n",
       "4          91.0        Tire Services       139.0   \n",
       "5          91.0        Tire Services       147.0   \n",
       "6          27.0              Touring        33.0   \n",
       "7       20159.0          Road Hazard     20160.0   \n",
       "8          91.0        Tire Services       155.0   \n",
       "9          91.0        Tire Services     62150.0   \n",
       "\n",
       "                         CLASS_DESC DISCOUNT_FLAG CROSS_SECTION ASPECT_RATIO  \\\n",
       "0                Lifetime Alignment             Y           NaN          NaN   \n",
       "1                Lifetime Alignment             N           NaN          NaN   \n",
       "2                Lifetime Alignment             Y           NaN          NaN   \n",
       "3       Complete Vehicle Inspection             N           NaN          NaN   \n",
       "4                     Tire Mounting             N           NaN          NaN   \n",
       "5                           Balance             N           NaN          NaN   \n",
       "6                 Mass Market Tires             N           215           55   \n",
       "7                       Road Hazard             N          NONE         NONE   \n",
       "8                Misc. Tire Service             N           NaN          NaN   \n",
       "9  Tire Pressure Monitoring Systems             N           NaN          NaN   \n",
       "\n",
       "  RIM_SIZE EMAIL_OPTIN_IND AH1_RES_BUS_INDC SUPP1_BUS_PANDER  year  month  \n",
       "0      NaN               Y                R                N  2018      1  \n",
       "1      NaN               Y                R                N  2018      1  \n",
       "2      NaN               Y                R                N  2018      1  \n",
       "3      NaN               Y                R                N  2018      1  \n",
       "4      NaN               Y                R                N  2018      1  \n",
       "5      NaN               Y                R                N  2018      1  \n",
       "6       17               Y                R                N  2018      1  \n",
       "7     NONE               Y                R                N  2018      1  \n",
       "8      NaN               Y                R                N  2018      1  \n",
       "9      NaN               Y                R                N  2018      1  "
      ]
     },
     "execution_count": 418,
     "metadata": {},
     "output_type": "execute_result"
    }
   ],
   "source": [
    "dy.head(10)"
   ]
  },
  {
   "cell_type": "markdown",
   "metadata": {},
   "source": [
    "Test"
   ]
  },
  {
   "cell_type": "code",
   "execution_count": 419,
   "metadata": {
    "collapsed": true
   },
   "outputs": [],
   "source": [
    "top_make_tire_purch_array = dy_vhc_tire_purch.MAKE.value_counts().nlargest(int(len(dy_vhc_tire_purch)/20)).index.tolist()[0:10]"
   ]
  },
  {
   "cell_type": "code",
   "execution_count": 420,
   "metadata": {},
   "outputs": [
    {
     "data": {
      "text/plain": [
       "['TOYOTA',\n",
       " 'FORD',\n",
       " 'HONDA',\n",
       " 'CHEVROLET',\n",
       " 'NISSAN',\n",
       " 'HYUNDAI',\n",
       " 'DODGE',\n",
       " 'KIA',\n",
       " 'JEEP',\n",
       " 'CHRYSLER']"
      ]
     },
     "execution_count": 420,
     "metadata": {},
     "output_type": "execute_result"
    }
   ],
   "source": [
    "top_make_tire_purch_array"
   ]
  },
  {
   "cell_type": "code",
   "execution_count": 421,
   "metadata": {
    "collapsed": true
   },
   "outputs": [],
   "source": [
    "dy['MAKE'] = dy['MAKE'].astype('str')"
   ]
  },
  {
   "cell_type": "code",
   "execution_count": 422,
   "metadata": {},
   "outputs": [],
   "source": [
    "indiv_make_tire_purch = dy[dy['MAKE'].isin(top_make_tire_purch_array)]['INDIV_ID']"
   ]
  },
  {
   "cell_type": "code",
   "execution_count": 423,
   "metadata": {
    "collapsed": true
   },
   "outputs": [],
   "source": [
    "year_indivs['indiv_make_tire_pch'] = np.where(year_indivs.indiv.isin(indiv_make_tire_purch), 1, 0)"
   ]
  },
  {
   "cell_type": "code",
   "execution_count": 424,
   "metadata": {},
   "outputs": [
    {
     "data": {
      "text/plain": [
       "1    2007178\n",
       "0     616930\n",
       "Name: indiv_make_tire_pch, dtype: int64"
      ]
     },
     "execution_count": 424,
     "metadata": {},
     "output_type": "execute_result"
    }
   ],
   "source": [
    "year_indivs['indiv_make_tire_pch'].value_counts()"
   ]
  },
  {
   "cell_type": "code",
   "execution_count": 425,
   "metadata": {},
   "outputs": [
    {
     "data": {
      "text/html": [
       "<div>\n",
       "<style>\n",
       "    .dataframe thead tr:only-child th {\n",
       "        text-align: right;\n",
       "    }\n",
       "\n",
       "    .dataframe thead th {\n",
       "        text-align: left;\n",
       "    }\n",
       "\n",
       "    .dataframe tbody tr th {\n",
       "        vertical-align: top;\n",
       "    }\n",
       "</style>\n",
       "<table border=\"1\" class=\"dataframe\">\n",
       "  <thead>\n",
       "    <tr style=\"text-align: right;\">\n",
       "      <th></th>\n",
       "      <th>indiv</th>\n",
       "      <th>cust_in_top_10_sales</th>\n",
       "      <th>store_top_tran</th>\n",
       "      <th>store_top_tires_tran</th>\n",
       "      <th>vehicle_tire_svc</th>\n",
       "      <th>vhc_tire_purchase</th>\n",
       "      <th>vhc_early_tire_purchase</th>\n",
       "      <th>top_cust_overall</th>\n",
       "      <th>top_cust_tire_purch</th>\n",
       "      <th>indiv_make_tire_pch</th>\n",
       "    </tr>\n",
       "  </thead>\n",
       "  <tbody>\n",
       "    <tr>\n",
       "      <th>0</th>\n",
       "      <td>587295308.0</td>\n",
       "      <td>0</td>\n",
       "      <td>1</td>\n",
       "      <td>1</td>\n",
       "      <td>0</td>\n",
       "      <td>0</td>\n",
       "      <td>0</td>\n",
       "      <td>0</td>\n",
       "      <td>0</td>\n",
       "      <td>1</td>\n",
       "    </tr>\n",
       "    <tr>\n",
       "      <th>1</th>\n",
       "      <td>289068522.0</td>\n",
       "      <td>0</td>\n",
       "      <td>1</td>\n",
       "      <td>1</td>\n",
       "      <td>1</td>\n",
       "      <td>0</td>\n",
       "      <td>0</td>\n",
       "      <td>0</td>\n",
       "      <td>0</td>\n",
       "      <td>1</td>\n",
       "    </tr>\n",
       "    <tr>\n",
       "      <th>2</th>\n",
       "      <td>267651496.0</td>\n",
       "      <td>0</td>\n",
       "      <td>1</td>\n",
       "      <td>1</td>\n",
       "      <td>1</td>\n",
       "      <td>1</td>\n",
       "      <td>1</td>\n",
       "      <td>0</td>\n",
       "      <td>0</td>\n",
       "      <td>1</td>\n",
       "    </tr>\n",
       "    <tr>\n",
       "      <th>3</th>\n",
       "      <td>272771622.0</td>\n",
       "      <td>0</td>\n",
       "      <td>1</td>\n",
       "      <td>1</td>\n",
       "      <td>1</td>\n",
       "      <td>1</td>\n",
       "      <td>1</td>\n",
       "      <td>0</td>\n",
       "      <td>1</td>\n",
       "      <td>1</td>\n",
       "    </tr>\n",
       "    <tr>\n",
       "      <th>4</th>\n",
       "      <td>286864796.0</td>\n",
       "      <td>0</td>\n",
       "      <td>1</td>\n",
       "      <td>1</td>\n",
       "      <td>1</td>\n",
       "      <td>1</td>\n",
       "      <td>0</td>\n",
       "      <td>0</td>\n",
       "      <td>0</td>\n",
       "      <td>0</td>\n",
       "    </tr>\n",
       "    <tr>\n",
       "      <th>5</th>\n",
       "      <td>612149572.0</td>\n",
       "      <td>0</td>\n",
       "      <td>1</td>\n",
       "      <td>1</td>\n",
       "      <td>1</td>\n",
       "      <td>0</td>\n",
       "      <td>0</td>\n",
       "      <td>0</td>\n",
       "      <td>0</td>\n",
       "      <td>1</td>\n",
       "    </tr>\n",
       "    <tr>\n",
       "      <th>6</th>\n",
       "      <td>289878575.0</td>\n",
       "      <td>0</td>\n",
       "      <td>1</td>\n",
       "      <td>1</td>\n",
       "      <td>1</td>\n",
       "      <td>1</td>\n",
       "      <td>0</td>\n",
       "      <td>0</td>\n",
       "      <td>1</td>\n",
       "      <td>1</td>\n",
       "    </tr>\n",
       "    <tr>\n",
       "      <th>7</th>\n",
       "      <td>316506474.0</td>\n",
       "      <td>0</td>\n",
       "      <td>1</td>\n",
       "      <td>1</td>\n",
       "      <td>1</td>\n",
       "      <td>1</td>\n",
       "      <td>1</td>\n",
       "      <td>0</td>\n",
       "      <td>1</td>\n",
       "      <td>1</td>\n",
       "    </tr>\n",
       "    <tr>\n",
       "      <th>8</th>\n",
       "      <td>292361182.0</td>\n",
       "      <td>0</td>\n",
       "      <td>1</td>\n",
       "      <td>1</td>\n",
       "      <td>1</td>\n",
       "      <td>1</td>\n",
       "      <td>0</td>\n",
       "      <td>0</td>\n",
       "      <td>1</td>\n",
       "      <td>0</td>\n",
       "    </tr>\n",
       "    <tr>\n",
       "      <th>9</th>\n",
       "      <td>289502694.0</td>\n",
       "      <td>0</td>\n",
       "      <td>1</td>\n",
       "      <td>1</td>\n",
       "      <td>1</td>\n",
       "      <td>1</td>\n",
       "      <td>1</td>\n",
       "      <td>0</td>\n",
       "      <td>1</td>\n",
       "      <td>1</td>\n",
       "    </tr>\n",
       "  </tbody>\n",
       "</table>\n",
       "</div>"
      ],
      "text/plain": [
       "         indiv  cust_in_top_10_sales  store_top_tran  store_top_tires_tran  \\\n",
       "0  587295308.0                     0               1                     1   \n",
       "1  289068522.0                     0               1                     1   \n",
       "2  267651496.0                     0               1                     1   \n",
       "3  272771622.0                     0               1                     1   \n",
       "4  286864796.0                     0               1                     1   \n",
       "5  612149572.0                     0               1                     1   \n",
       "6  289878575.0                     0               1                     1   \n",
       "7  316506474.0                     0               1                     1   \n",
       "8  292361182.0                     0               1                     1   \n",
       "9  289502694.0                     0               1                     1   \n",
       "\n",
       "   vehicle_tire_svc  vhc_tire_purchase  vhc_early_tire_purchase  \\\n",
       "0                 0                  0                        0   \n",
       "1                 1                  0                        0   \n",
       "2                 1                  1                        1   \n",
       "3                 1                  1                        1   \n",
       "4                 1                  1                        0   \n",
       "5                 1                  0                        0   \n",
       "6                 1                  1                        0   \n",
       "7                 1                  1                        1   \n",
       "8                 1                  1                        0   \n",
       "9                 1                  1                        1   \n",
       "\n",
       "   top_cust_overall  top_cust_tire_purch  indiv_make_tire_pch  \n",
       "0                 0                    0                    1  \n",
       "1                 0                    0                    1  \n",
       "2                 0                    0                    1  \n",
       "3                 0                    1                    1  \n",
       "4                 0                    0                    0  \n",
       "5                 0                    0                    1  \n",
       "6                 0                    1                    1  \n",
       "7                 0                    1                    1  \n",
       "8                 0                    1                    0  \n",
       "9                 0                    1                    1  "
      ]
     },
     "execution_count": 425,
     "metadata": {},
     "output_type": "execute_result"
    }
   ],
   "source": [
    "year_indivs.head(10)"
   ]
  },
  {
   "cell_type": "code",
   "execution_count": 426,
   "metadata": {},
   "outputs": [
    {
     "data": {
      "text/plain": [
       "0    2622630\n",
       "1       1478\n",
       "Name: make_prop_tire, dtype: int64"
      ]
     },
     "execution_count": 426,
     "metadata": {},
     "output_type": "execute_result"
    }
   ],
   "source": [
    "dy['tire_purchase'] = np.where((dy['PROD_GROUP_DESC'] == \"Tires\") & (dy['SEGMENT_DESC'] != \"Others\"), 1, 0)\n",
    "\n",
    "df2 = dy.groupby(['MAKE', 'tire_purchase']).agg({'tire_purchase': 'count'})\n",
    "df3 = df2.groupby(level=0).apply(lambda x:100 * x / float(x.sum()))\n",
    "df3.columns = ['total'] # I need to rename the column to handle multiindex caused by groupby \n",
    "\n",
    "top_make_tires_purch_prop_array = df3.reset_index().query('tire_purchase == 1').sort_values(by = 'total', ascending = False).nlargest(int(len(df3)/10),'total')['MAKE'].tolist()[0:1000]\n",
    "                                                                                                                                      \n",
    "indiv_make_tire_purch_prop = dy[dy['MAKE'].isin(top_make_tires_purch_prop_array)]['INDIV_ID']\n",
    "\n",
    "year_indivs['make_prop_tire'] = np.where(year_indivs.indiv.isin(indiv_make_tire_purch_prop), 1, 0)\n",
    "\n",
    "year_indivs['make_prop_tire'].value_counts()"
   ]
  },
  {
   "cell_type": "code",
   "execution_count": 427,
   "metadata": {},
   "outputs": [
    {
     "data": {
      "text/plain": [
       "0    2616701\n",
       "1       7407\n",
       "Name: MODEL_prop_tire, dtype: int64"
      ]
     },
     "execution_count": 427,
     "metadata": {},
     "output_type": "execute_result"
    }
   ],
   "source": [
    "df2 = dy.groupby(['MODEL', 'tire_purchase']).agg({'tire_purchase': 'count'})\n",
    "df3 = df2.groupby(level=0).apply(lambda x:100 * x / float(x.sum()))\n",
    "df3.columns = ['total'] # I need to rename the column to handle multiindex caused by groupby \n",
    "\n",
    "dy['MODEL'] = dy['MODEL'].astype('str')\n",
    "\n",
    "top_MODEL_tires_purch_prop_array = df3.reset_index().query('tire_purchase == 1').sort_values(by = 'total', ascending = False).nlargest(int(len(df3)/10),'total')['MODEL'].tolist()[0:1000]\n",
    "\n",
    "indiv_MODEL_tire_purch_prop = dy[dy['MODEL'].isin(top_MODEL_tires_purch_prop_array)]['INDIV_ID']\n",
    "                                                                                                                                       \n",
    "year_indivs['MODEL_prop_tire'] = np.where(year_indivs.indiv.isin(indiv_MODEL_tire_purch_prop), 1, 0)\n",
    "                                                                                                                                       \n",
    "year_indivs['MODEL_prop_tire'].value_counts()                                                                                                                                    "
   ]
  },
  {
   "cell_type": "code",
   "execution_count": 428,
   "metadata": {},
   "outputs": [
    {
     "data": {
      "text/plain": [
       "0    2605490\n",
       "1      18618\n",
       "Name: SUB_MODEL_prop_tire, dtype: int64"
      ]
     },
     "execution_count": 428,
     "metadata": {},
     "output_type": "execute_result"
    }
   ],
   "source": [
    "df2 = dy.groupby(['SUB_MODEL', 'tire_purchase']).agg({'tire_purchase': 'count'})\n",
    "df3 = df2.groupby(level=0).apply(lambda x:100 * x / float(x.sum()))\n",
    "df3.columns = ['total'] # I need to rename the column to handle multiindex caused by groupby\n",
    "\n",
    "dy['SUB_MODEL'] = dy['SUB_MODEL'].astype('str')\n",
    "\n",
    "top_SUB_MODEL_tires_purch_prop_array = df3.reset_index().query('tire_purchase == 1').sort_values(by = 'total', ascending = False).nlargest(int(len(df3)/10), 'total')['SUB_MODEL'].tolist()[0:1000]            \n",
    "\n",
    "indiv_SUB_MODEL_tire_purch_prop = dy[dy['SUB_MODEL'].isin(top_SUB_MODEL_tires_purch_prop_array)]['INDIV_ID']\n",
    "                                                                                                                                               \n",
    "year_indivs['SUB_MODEL_prop_tire'] = np.where(year_indivs.indiv.isin(indiv_SUB_MODEL_tire_purch_prop), 1, 0)\n",
    "                                                                                                                                               \n",
    "year_indivs['SUB_MODEL_prop_tire'].value_counts()"
   ]
  },
  {
   "cell_type": "code",
   "execution_count": null,
   "metadata": {
    "collapsed": true
   },
   "outputs": [],
   "source": []
  },
  {
   "cell_type": "code",
   "execution_count": null,
   "metadata": {},
   "outputs": [
    {
     "data": {
      "text/html": [
       "<div>\n",
       "<style>\n",
       "    .dataframe thead tr:only-child th {\n",
       "        text-align: right;\n",
       "    }\n",
       "\n",
       "    .dataframe thead th {\n",
       "        text-align: left;\n",
       "    }\n",
       "\n",
       "    .dataframe tbody tr th {\n",
       "        vertical-align: top;\n",
       "    }\n",
       "</style>\n",
       "<table border=\"1\" class=\"dataframe\">\n",
       "  <thead>\n",
       "    <tr style=\"text-align: right;\">\n",
       "      <th></th>\n",
       "      <th>indiv</th>\n",
       "      <th>cust_in_top_10_sales</th>\n",
       "      <th>store_top_tran</th>\n",
       "      <th>store_top_tires_tran</th>\n",
       "      <th>vehicle_tire_svc</th>\n",
       "      <th>vhc_tire_purchase</th>\n",
       "      <th>vhc_early_tire_purchase</th>\n",
       "      <th>top_cust_overall</th>\n",
       "      <th>top_cust_tire_purch</th>\n",
       "      <th>indiv_make_tire_pch</th>\n",
       "      <th>make_prop_tire</th>\n",
       "      <th>MODEL_prop_tire</th>\n",
       "      <th>SUB_MODEL_prop_tire</th>\n",
       "    </tr>\n",
       "  </thead>\n",
       "  <tbody>\n",
       "    <tr>\n",
       "      <th>0</th>\n",
       "      <td>587295308.0</td>\n",
       "      <td>0</td>\n",
       "      <td>1</td>\n",
       "      <td>1</td>\n",
       "      <td>0</td>\n",
       "      <td>0</td>\n",
       "      <td>0</td>\n",
       "      <td>0</td>\n",
       "      <td>0</td>\n",
       "      <td>1</td>\n",
       "      <td>0</td>\n",
       "      <td>0</td>\n",
       "      <td>0</td>\n",
       "    </tr>\n",
       "    <tr>\n",
       "      <th>1</th>\n",
       "      <td>289068522.0</td>\n",
       "      <td>0</td>\n",
       "      <td>1</td>\n",
       "      <td>1</td>\n",
       "      <td>1</td>\n",
       "      <td>0</td>\n",
       "      <td>0</td>\n",
       "      <td>0</td>\n",
       "      <td>0</td>\n",
       "      <td>1</td>\n",
       "      <td>0</td>\n",
       "      <td>0</td>\n",
       "      <td>0</td>\n",
       "    </tr>\n",
       "    <tr>\n",
       "      <th>2</th>\n",
       "      <td>267651496.0</td>\n",
       "      <td>0</td>\n",
       "      <td>1</td>\n",
       "      <td>1</td>\n",
       "      <td>1</td>\n",
       "      <td>1</td>\n",
       "      <td>1</td>\n",
       "      <td>0</td>\n",
       "      <td>0</td>\n",
       "      <td>1</td>\n",
       "      <td>0</td>\n",
       "      <td>0</td>\n",
       "      <td>0</td>\n",
       "    </tr>\n",
       "    <tr>\n",
       "      <th>3</th>\n",
       "      <td>272771622.0</td>\n",
       "      <td>0</td>\n",
       "      <td>1</td>\n",
       "      <td>1</td>\n",
       "      <td>1</td>\n",
       "      <td>1</td>\n",
       "      <td>1</td>\n",
       "      <td>0</td>\n",
       "      <td>1</td>\n",
       "      <td>1</td>\n",
       "      <td>0</td>\n",
       "      <td>0</td>\n",
       "      <td>0</td>\n",
       "    </tr>\n",
       "    <tr>\n",
       "      <th>4</th>\n",
       "      <td>286864796.0</td>\n",
       "      <td>0</td>\n",
       "      <td>1</td>\n",
       "      <td>1</td>\n",
       "      <td>1</td>\n",
       "      <td>1</td>\n",
       "      <td>0</td>\n",
       "      <td>0</td>\n",
       "      <td>0</td>\n",
       "      <td>0</td>\n",
       "      <td>0</td>\n",
       "      <td>0</td>\n",
       "      <td>0</td>\n",
       "    </tr>\n",
       "    <tr>\n",
       "      <th>5</th>\n",
       "      <td>612149572.0</td>\n",
       "      <td>0</td>\n",
       "      <td>1</td>\n",
       "      <td>1</td>\n",
       "      <td>1</td>\n",
       "      <td>0</td>\n",
       "      <td>0</td>\n",
       "      <td>0</td>\n",
       "      <td>0</td>\n",
       "      <td>1</td>\n",
       "      <td>0</td>\n",
       "      <td>0</td>\n",
       "      <td>0</td>\n",
       "    </tr>\n",
       "    <tr>\n",
       "      <th>6</th>\n",
       "      <td>289878575.0</td>\n",
       "      <td>0</td>\n",
       "      <td>1</td>\n",
       "      <td>1</td>\n",
       "      <td>1</td>\n",
       "      <td>1</td>\n",
       "      <td>0</td>\n",
       "      <td>0</td>\n",
       "      <td>1</td>\n",
       "      <td>1</td>\n",
       "      <td>0</td>\n",
       "      <td>0</td>\n",
       "      <td>0</td>\n",
       "    </tr>\n",
       "    <tr>\n",
       "      <th>7</th>\n",
       "      <td>316506474.0</td>\n",
       "      <td>0</td>\n",
       "      <td>1</td>\n",
       "      <td>1</td>\n",
       "      <td>1</td>\n",
       "      <td>1</td>\n",
       "      <td>1</td>\n",
       "      <td>0</td>\n",
       "      <td>1</td>\n",
       "      <td>1</td>\n",
       "      <td>0</td>\n",
       "      <td>0</td>\n",
       "      <td>0</td>\n",
       "    </tr>\n",
       "    <tr>\n",
       "      <th>8</th>\n",
       "      <td>292361182.0</td>\n",
       "      <td>0</td>\n",
       "      <td>1</td>\n",
       "      <td>1</td>\n",
       "      <td>1</td>\n",
       "      <td>1</td>\n",
       "      <td>0</td>\n",
       "      <td>0</td>\n",
       "      <td>1</td>\n",
       "      <td>0</td>\n",
       "      <td>0</td>\n",
       "      <td>0</td>\n",
       "      <td>0</td>\n",
       "    </tr>\n",
       "    <tr>\n",
       "      <th>9</th>\n",
       "      <td>289502694.0</td>\n",
       "      <td>0</td>\n",
       "      <td>1</td>\n",
       "      <td>1</td>\n",
       "      <td>1</td>\n",
       "      <td>1</td>\n",
       "      <td>1</td>\n",
       "      <td>0</td>\n",
       "      <td>1</td>\n",
       "      <td>1</td>\n",
       "      <td>0</td>\n",
       "      <td>0</td>\n",
       "      <td>0</td>\n",
       "    </tr>\n",
       "  </tbody>\n",
       "</table>\n",
       "</div>"
      ],
      "text/plain": [
       "         indiv  cust_in_top_10_sales  store_top_tran  store_top_tires_tran  \\\n",
       "0  587295308.0                     0               1                     1   \n",
       "1  289068522.0                     0               1                     1   \n",
       "2  267651496.0                     0               1                     1   \n",
       "3  272771622.0                     0               1                     1   \n",
       "4  286864796.0                     0               1                     1   \n",
       "5  612149572.0                     0               1                     1   \n",
       "6  289878575.0                     0               1                     1   \n",
       "7  316506474.0                     0               1                     1   \n",
       "8  292361182.0                     0               1                     1   \n",
       "9  289502694.0                     0               1                     1   \n",
       "\n",
       "   vehicle_tire_svc  vhc_tire_purchase  vhc_early_tire_purchase  \\\n",
       "0                 0                  0                        0   \n",
       "1                 1                  0                        0   \n",
       "2                 1                  1                        1   \n",
       "3                 1                  1                        1   \n",
       "4                 1                  1                        0   \n",
       "5                 1                  0                        0   \n",
       "6                 1                  1                        0   \n",
       "7                 1                  1                        1   \n",
       "8                 1                  1                        0   \n",
       "9                 1                  1                        1   \n",
       "\n",
       "   top_cust_overall  top_cust_tire_purch  indiv_make_tire_pch  make_prop_tire  \\\n",
       "0                 0                    0                    1               0   \n",
       "1                 0                    0                    1               0   \n",
       "2                 0                    0                    1               0   \n",
       "3                 0                    1                    1               0   \n",
       "4                 0                    0                    0               0   \n",
       "5                 0                    0                    1               0   \n",
       "6                 0                    1                    1               0   \n",
       "7                 0                    1                    1               0   \n",
       "8                 0                    1                    0               0   \n",
       "9                 0                    1                    1               0   \n",
       "\n",
       "   MODEL_prop_tire  SUB_MODEL_prop_tire  \n",
       "0                0                    0  \n",
       "1                0                    0  \n",
       "2                0                    0  \n",
       "3                0                    0  \n",
       "4                0                    0  \n",
       "5                0                    0  \n",
       "6                0                    0  \n",
       "7                0                    0  \n",
       "8                0                    0  \n",
       "9                0                    0  "
      ]
     },
     "execution_count": 429,
     "metadata": {},
     "output_type": "execute_result"
    }
   ],
   "source": [
    "year_indivs.head(10)"
   ]
  },
  {
   "cell_type": "code",
   "execution_count": null,
   "metadata": {
    "collapsed": true
   },
   "outputs": [],
   "source": []
  },
  {
   "cell_type": "code",
   "execution_count": null,
   "metadata": {
    "collapsed": true
   },
   "outputs": [],
   "source": []
  },
  {
   "cell_type": "code",
   "execution_count": null,
   "metadata": {
    "collapsed": true
   },
   "outputs": [],
   "source": []
  },
  {
   "cell_type": "code",
   "execution_count": null,
   "metadata": {
    "collapsed": true
   },
   "outputs": [],
   "source": [
    "year_indivs.to_csv('individuals18.csv')"
   ]
  },
  {
   "cell_type": "markdown",
   "metadata": {},
   "source": []
  },
  {
   "cell_type": "code",
   "execution_count": null,
   "metadata": {
    "collapsed": true
   },
   "outputs": [],
   "source": [
    "# "
   ]
  },
  {
   "cell_type": "code",
   "execution_count": null,
   "metadata": {
    "collapsed": true
   },
   "outputs": [],
   "source": []
  }
 ],
 "metadata": {
  "kernelspec": {
   "display_name": "Python 3",
   "language": "python",
   "name": "python3"
  },
  "language_info": {
   "codemirror_mode": {
    "name": "ipython",
    "version": 3
   },
   "file_extension": ".py",
   "mimetype": "text/x-python",
   "name": "python",
   "nbconvert_exporter": "python",
   "pygments_lexer": "ipython3",
   "version": "3.7.4"
  }
 },
 "nbformat": 4,
 "nbformat_minor": 2
}
