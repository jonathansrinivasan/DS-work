{
 "cells": [
  {
   "cell_type": "code",
   "execution_count": 1,
   "id": "9f592822",
   "metadata": {},
   "outputs": [],
   "source": [
    "import pandas as pd"
   ]
  },
  {
   "cell_type": "code",
   "execution_count": 2,
   "id": "96332d34",
   "metadata": {},
   "outputs": [],
   "source": [
    "#load a sample set\n",
    "df = pd.read_csv('test_Feb_2016-Mar_2018.csv')"
   ]
  },
  {
   "cell_type": "code",
   "execution_count": 3,
   "id": "f819d3a8",
   "metadata": {},
   "outputs": [],
   "source": [
    "def Date_filter(df, startYear, startMonth, endYear, endMonth):\n",
    "    df['Year'] = df['DATE'].str.split('-', expand=True)[0]\n",
    "    df['Month'] = df['DATE'].str.split('-', expand=True)[1]\n",
    "    if startYear == endYear:\n",
    "        df_mod = df[(df['Month'].astype(int) >= startMonth) & \n",
    "                (df['Month'].astype(int) <= endMonth) & \n",
    "                (df['Year'].astype(int) == startYear)]\n",
    "        #df_mod.to_csv(file_name)\n",
    "        return(df_mod)\n",
    "    elif startYear <= endYear:\n",
    "        df1 = df[(df['Year'].astype(int) >= startYear+1) & \n",
    "                 (df['Year'].astype(int) <= endYear-1)]\n",
    "        df2 = df[(df['Month'].astype(int) >= startMonth) & \n",
    "                (df['Month'].astype(int) <= 12) & \n",
    "                (df['Year'].astype(int) == startYear)]\n",
    "        df3 = df[(df['Month'].astype(int) >= 1) & \n",
    "                (df['Month'].astype(int) <= endMonth) & \n",
    "                (df['Year'].astype(int) == endYear)]\n",
    "        df_mod = pd.concat([df1, df2, df3])\n",
    "        return(df_mod)"
   ]
  },
  {
   "cell_type": "code",
   "execution_count": 4,
   "id": "4932f92f",
   "metadata": {},
   "outputs": [],
   "source": [
    "AprOct_2016 = Date_filter(df,2016,4,2016,10)"
   ]
  },
  {
   "cell_type": "code",
   "execution_count": 5,
   "id": "b5ee049e",
   "metadata": {},
   "outputs": [],
   "source": [
    "Nov_2016 = Date_filter(df,2016,11,2016,11)"
   ]
  },
  {
   "cell_type": "code",
   "execution_count": 6,
   "id": "e11d064b",
   "metadata": {},
   "outputs": [],
   "source": [
    "AprOct_2016 = AprOct_2016[AprOct_2016['AH1_RES_BUS_INDC'] == 'R']\n",
    "AprOct_2016 = AprOct_2016[AprOct_2016['SUPP1_BUS_PANDER'] == 'N']\n",
    "AprOct_2016_mod = AprOct_2016[AprOct_2016['EMAIL_OPTIN_IND'] == 'Y']"
   ]
  },
  {
   "cell_type": "code",
   "execution_count": 7,
   "id": "7dadfe5a",
   "metadata": {},
   "outputs": [],
   "source": [
    "Nov_2016 = Nov_2016[Nov_2016['AH1_RES_BUS_INDC'] == 'R']\n",
    "Nov_2016 = Nov_2016[Nov_2016['SUPP1_BUS_PANDER'] == 'N']\n",
    "Nov_2016_mod = Nov_2016[Nov_2016['EMAIL_OPTIN_IND'] == 'Y']"
   ]
  },
  {
   "cell_type": "markdown",
   "id": "c54a691f",
   "metadata": {},
   "source": [
    "# Label Function will start here:"
   ]
  },
  {
   "cell_type": "code",
   "execution_count": 8,
   "id": "be8ea8fa",
   "metadata": {},
   "outputs": [],
   "source": [
    "def label_indiv(AprOct_file,Nov_file):\n",
    "    tire_purchased = Nov_file[Nov_file['PROD_GROUP_CODE'] == 5]\n",
    "    tire_purchased_id = tire_purchased['INDIV_ID'].drop_duplicates()\n",
    "    target = pd.merge(AprOct_file,tire_purchased_id,'right',['INDIV_ID', 'INDIV_ID'])\n",
    "    non_target = AprOct_file.append(target).drop_duplicates(keep = False)\n",
    "    target['label'] = 1\n",
    "    non_target['label'] = 0\n",
    "    AprOct_labeled = pd.concat([target,non_target])\n",
    "    #AprOct_labeled.to_csv(file_name,index=False)\n",
    "    return(AprOct_labeled)"
   ]
  },
  {
   "cell_type": "markdown",
   "id": "bf548bb7",
   "metadata": {},
   "source": [
    "# Another Label Function will start here:"
   ]
  },
  {
   "cell_type": "markdown",
   "id": "a666e3cf",
   "metadata": {},
   "source": [
    "#### Due to the first one may remove some existed duplicates, the second one would run lower, but nothing would be deleted."
   ]
  },
  {
   "cell_type": "code",
   "execution_count": 9,
   "id": "9df26f35",
   "metadata": {},
   "outputs": [],
   "source": [
    "def label_act(AprOct_file,Nov_file):\n",
    "    tire_purchased = Nov_file[Nov_file['PROD_GROUP_CODE'] == 5]\n",
    "    id_list = tire_purchased['INDIV_ID'].drop_duplicates().tolist()\n",
    "    label_list = []\n",
    "    for i in range(len(AprOct_file)):\n",
    "        if AprOct_file.iloc[i]['INDIV_ID'] in id_list:\n",
    "            label_list.append(1)\n",
    "        else:\n",
    "            label_list.append(0)\n",
    "    AprOct_file['label'] = label_list\n",
    "    AprOct_labeled = AprOct_file\n",
    "    #AprOct_labeled.to_csv('testabc.csv',index=False)\n",
    "    return(AprOct_labeled)"
   ]
  },
  {
   "cell_type": "code",
   "execution_count": null,
   "id": "c9211765",
   "metadata": {},
   "outputs": [],
   "source": []
  }
 ],
 "metadata": {
  "kernelspec": {
   "display_name": "Python 3",
   "language": "python",
   "name": "python3"
  },
  "language_info": {
   "codemirror_mode": {
    "name": "ipython",
    "version": 3
   },
   "file_extension": ".py",
   "mimetype": "text/x-python",
   "name": "python",
   "nbconvert_exporter": "python",
   "pygments_lexer": "ipython3",
   "version": "3.8.8"
  }
 },
 "nbformat": 4,
 "nbformat_minor": 5
}
