{
 "cells": [
  {
   "cell_type": "code",
   "execution_count": 1,
   "id": "ecb1fb12",
   "metadata": {},
   "outputs": [],
   "source": [
    "import pandas as pd\n",
    "import numpy as np\n",
    "import seaborn as sns\n",
    "import matplotlib.pyplot as plt\n",
    "import datetime"
   ]
  },
  {
   "cell_type": "code",
   "execution_count": 26,
   "id": "9cd6a824",
   "metadata": {},
   "outputs": [],
   "source": [
    "sns.set_palette(sns.color_palette('Set1'))"
   ]
  },
  {
   "cell_type": "code",
   "execution_count": 2,
   "id": "00a97904",
   "metadata": {},
   "outputs": [],
   "source": [
    "#load a sample set\n",
    "df = pd.read_csv('test_Feb_2016-Mar_2018.csv')"
   ]
  },
  {
   "cell_type": "code",
   "execution_count": 3,
   "id": "c5db4d56",
   "metadata": {},
   "outputs": [],
   "source": [
    "def Date_filter(df, startYear, startMonth, endYear, endMonth):\n",
    "    df['Year'] = df['DATE'].str.split('-', expand=True)[0]\n",
    "    df['Month'] = df['DATE'].str.split('-', expand=True)[1]\n",
    "    if startYear == endYear:\n",
    "        df_mod = df[(df['Month'].astype(int) >= startMonth) & \n",
    "                (df['Month'].astype(int) <= endMonth) & \n",
    "                (df['Year'].astype(int) == startYear)]\n",
    "        #df_mod.to_csv(file_name)\n",
    "        return(df_mod)\n",
    "    elif startYear <= endYear:\n",
    "        df1 = df[(df['Year'].astype(int) >= startYear+1) & \n",
    "                 (df['Year'].astype(int) <= endYear-1)]\n",
    "        df2 = df[(df['Month'].astype(int) >= startMonth) & \n",
    "                (df['Month'].astype(int) <= 12) & \n",
    "                (df['Year'].astype(int) == startYear)]\n",
    "        df3 = df[(df['Month'].astype(int) >= 1) & \n",
    "                (df['Month'].astype(int) <= endMonth) & \n",
    "                (df['Year'].astype(int) == endYear)]\n",
    "        df_mod = pd.concat([df1, df2, df3])\n",
    "        return(df_mod)"
   ]
  },
  {
   "cell_type": "code",
   "execution_count": 4,
   "id": "c87f97bd",
   "metadata": {},
   "outputs": [],
   "source": [
    "JanOct_2016 = Date_filter(df,2016,1,2016,10)\n",
    "Nov_2016 = Date_filter(df,2016,11,2016,11)"
   ]
  },
  {
   "cell_type": "code",
   "execution_count": 44,
   "id": "7813d0ae",
   "metadata": {},
   "outputs": [],
   "source": [
    "JanOct_2016 = JanOct_2016[JanOct_2016['AH1_RES_BUS_INDC'] == 'R']\n",
    "JanOct_2016 = JanOct_2016[JanOct_2016['SUPP1_BUS_PANDER'] == 'N']\n",
    "JanOct_2016_mod = JanOct_2016[JanOct_2016['EMAIL_OPTIN_IND'] == 'Y']\n",
    "Nov_2016 = Nov_2016[Nov_2016['AH1_RES_BUS_INDC'] == 'R']\n",
    "Nov_2016 = Nov_2016[Nov_2016['SUPP1_BUS_PANDER'] == 'N']\n",
    "Nov_2016_mod = Nov_2016[Nov_2016['EMAIL_OPTIN_IND'] == 'Y']"
   ]
  },
  {
   "cell_type": "markdown",
   "id": "23af522f",
   "metadata": {},
   "source": [
    "### Model Year"
   ]
  },
  {
   "cell_type": "code",
   "execution_count": 23,
   "id": "19b20eb1",
   "metadata": {},
   "outputs": [
    {
     "name": "stdout",
     "output_type": "stream",
     "text": [
      "<class 'pandas.core.frame.DataFrame'>\n",
      "Int64Index: 525060 entries, 5 to 1441431\n",
      "Data columns (total 32 columns):\n",
      " #   Column            Non-Null Count   Dtype  \n",
      "---  ------            --------------   -----  \n",
      " 0   STORE_ID          525060 non-null  int64  \n",
      " 1   TRAN_ID           525060 non-null  int64  \n",
      " 2   DATE              525060 non-null  object \n",
      " 3   ARTICLE_ID        525060 non-null  int64  \n",
      " 4   INDIV_ID          525060 non-null  float64\n",
      " 5   VEHICLE_ID        525060 non-null  int64  \n",
      " 6   UNITS             525060 non-null  float64\n",
      " 7   SALES             525060 non-null  float64\n",
      " 8   STATE_CODE        525060 non-null  object \n",
      " 9   ZIP_CODE          525060 non-null  int64  \n",
      " 10  MSA               437909 non-null  object \n",
      " 11  MAKE              2058 non-null    object \n",
      " 12  MODEL             2058 non-null    object \n",
      " 13  SUB_MODEL         1754 non-null    object \n",
      " 14  MODEL_YEAR        2058 non-null    float64\n",
      " 15  PROD_GROUP_CODE   525060 non-null  float64\n",
      " 16  PROD_GROUP_DESC   525060 non-null  object \n",
      " 17  CATEGORY_CODE     525060 non-null  float64\n",
      " 18  CATEGORY_DESC     525060 non-null  object \n",
      " 19  SEGMENT_CODE      525060 non-null  float64\n",
      " 20  SEGMENT_DESC      525060 non-null  object \n",
      " 21  CLASS_CODE        525060 non-null  float64\n",
      " 22  CLASS_DESC        525060 non-null  object \n",
      " 23  DISCOUNT_FLAG     525060 non-null  object \n",
      " 24  CROSS_SECTION     33119 non-null   object \n",
      " 25  ASPECT_RATIO      33119 non-null   object \n",
      " 26  RIM_SIZE          32483 non-null   object \n",
      " 27  EMAIL_OPTIN_IND   525060 non-null  object \n",
      " 28  AH1_RES_BUS_INDC  525060 non-null  object \n",
      " 29  SUPP1_BUS_PANDER  525060 non-null  object \n",
      " 30  Year              525060 non-null  object \n",
      " 31  Month             525060 non-null  object \n",
      "dtypes: float64(8), int64(5), object(19)\n",
      "memory usage: 132.2+ MB\n"
     ]
    }
   ],
   "source": [
    "JanOct_2016_mod.info()"
   ]
  },
  {
   "cell_type": "code",
   "execution_count": 33,
   "id": "3478abbf",
   "metadata": {},
   "outputs": [
    {
     "data": {
      "text/plain": [
       "<AxesSubplot:>"
      ]
     },
     "execution_count": 33,
     "metadata": {},
     "output_type": "execute_result"
    },
    {
     "data": {
      "image/png": "[encoded data removed]",
      "text/plain": [
       "<Figure size 432x288 with 2 Axes>"
      ]
     },
     "metadata": {
      "needs_background": "light"
     },
     "output_type": "display_data"
    }
   ],
   "source": [
    "sns.heatmap(JanOct_2016_mod[['SALES','MODEL_YEAR']].corr(),cmap ='coolwarm',vmin=-1,vmax=1)"
   ]
  },
  {
   "cell_type": "code",
   "execution_count": 34,
   "id": "bc0baa28",
   "metadata": {},
   "outputs": [],
   "source": [
    "JanOct_2016_mod['MODEL_AGE'] = pd.to_datetime(JanOct_2016_mod['DATE'].min()).year - JanOct_2016_mod['MODEL_YEAR']"
   ]
  },
  {
   "cell_type": "code",
   "execution_count": 41,
   "id": "ed9c5efd",
   "metadata": {},
   "outputs": [
    {
     "data": {
      "image/png": "[encoded data removed]",
      "text/plain": [
       "<Figure size 432x288 with 1 Axes>"
      ]
     },
     "metadata": {
      "needs_background": "light"
     },
     "output_type": "display_data"
    }
   ],
   "source": [
    "sns.lineplot(data=JanOct_2016_mod, x='MODEL_AGE', y = 'SALES')\n",
    "plt.title('Model age and sales')\n",
    "plt.show()"
   ]
  },
  {
   "cell_type": "markdown",
   "id": "7b67181d",
   "metadata": {},
   "source": [
    "#### Model age < 15"
   ]
  },
  {
   "cell_type": "markdown",
   "id": "0e7df887",
   "metadata": {},
   "source": [
    "### Coding for Feature Engineering on Accre"
   ]
  },
  {
   "cell_type": "code",
   "execution_count": 56,
   "id": "1c9b4956",
   "metadata": {},
   "outputs": [],
   "source": [
    "dy = JanOct_2016_mod\n",
    "dn = Nov_2016_mod"
   ]
  },
  {
   "cell_type": "code",
   "execution_count": 156,
   "id": "ebefb670",
   "metadata": {},
   "outputs": [],
   "source": [
    "targets = dn[dn['PROD_GROUP_CODE'] == 5]['INDIV_ID'].unique()\n",
    "year_indivs = pd.DataFrame({'indiv':dy['INDIV_ID'].unique()})\n",
    "year_indivs['label'] = np.where(year_indivs['indiv'].isin(targets), 1, 0) "
   ]
  },
  {
   "cell_type": "code",
   "execution_count": 157,
   "id": "9676924e",
   "metadata": {},
   "outputs": [
    {
     "data": {
      "text/html": [
       "<div>\n",
       "<style scoped>\n",
       "    .dataframe tbody tr th:only-of-type {\n",
       "        vertical-align: middle;\n",
       "    }\n",
       "\n",
       "    .dataframe tbody tr th {\n",
       "        vertical-align: top;\n",
       "    }\n",
       "\n",
       "    .dataframe thead th {\n",
       "        text-align: right;\n",
       "    }\n",
       "</style>\n",
       "<table border=\"1\" class=\"dataframe\">\n",
       "  <thead>\n",
       "    <tr style=\"text-align: right;\">\n",
       "      <th></th>\n",
       "      <th>indiv</th>\n",
       "      <th>label</th>\n",
       "    </tr>\n",
       "  </thead>\n",
       "  <tbody>\n",
       "    <tr>\n",
       "      <th>0</th>\n",
       "      <td>321490116.0</td>\n",
       "      <td>0</td>\n",
       "    </tr>\n",
       "    <tr>\n",
       "      <th>1</th>\n",
       "      <td>280953722.0</td>\n",
       "      <td>0</td>\n",
       "    </tr>\n",
       "    <tr>\n",
       "      <th>2</th>\n",
       "      <td>281559848.0</td>\n",
       "      <td>0</td>\n",
       "    </tr>\n",
       "    <tr>\n",
       "      <th>3</th>\n",
       "      <td>264266149.0</td>\n",
       "      <td>0</td>\n",
       "    </tr>\n",
       "    <tr>\n",
       "      <th>4</th>\n",
       "      <td>255458702.0</td>\n",
       "      <td>0</td>\n",
       "    </tr>\n",
       "    <tr>\n",
       "      <th>...</th>\n",
       "      <td>...</td>\n",
       "      <td>...</td>\n",
       "    </tr>\n",
       "    <tr>\n",
       "      <th>39477</th>\n",
       "      <td>285607739.0</td>\n",
       "      <td>0</td>\n",
       "    </tr>\n",
       "    <tr>\n",
       "      <th>39478</th>\n",
       "      <td>258529649.0</td>\n",
       "      <td>0</td>\n",
       "    </tr>\n",
       "    <tr>\n",
       "      <th>39479</th>\n",
       "      <td>260373206.0</td>\n",
       "      <td>0</td>\n",
       "    </tr>\n",
       "    <tr>\n",
       "      <th>39480</th>\n",
       "      <td>259933700.0</td>\n",
       "      <td>0</td>\n",
       "    </tr>\n",
       "    <tr>\n",
       "      <th>39481</th>\n",
       "      <td>321511633.0</td>\n",
       "      <td>0</td>\n",
       "    </tr>\n",
       "  </tbody>\n",
       "</table>\n",
       "<p>39482 rows × 2 columns</p>\n",
       "</div>"
      ],
      "text/plain": [
       "             indiv  label\n",
       "0      321490116.0      0\n",
       "1      280953722.0      0\n",
       "2      281559848.0      0\n",
       "3      264266149.0      0\n",
       "4      255458702.0      0\n",
       "...            ...    ...\n",
       "39477  285607739.0      0\n",
       "39478  258529649.0      0\n",
       "39479  260373206.0      0\n",
       "39480  259933700.0      0\n",
       "39481  321511633.0      0\n",
       "\n",
       "[39482 rows x 2 columns]"
      ]
     },
     "execution_count": 157,
     "metadata": {},
     "output_type": "execute_result"
    }
   ],
   "source": [
    "year_indivs"
   ]
  },
  {
   "cell_type": "markdown",
   "id": "8f5fffbc",
   "metadata": {},
   "source": [
    "#### Above is to imitate the process that has been implemented on accre"
   ]
  },
  {
   "cell_type": "code",
   "execution_count": 158,
   "id": "3fbb4030",
   "metadata": {},
   "outputs": [],
   "source": [
    "dy['MODEL_AGE'] = pd.to_datetime(dy['DATE'].min()).year - dy['MODEL_YEAR']"
   ]
  },
  {
   "cell_type": "code",
   "execution_count": 159,
   "id": "c1255fca",
   "metadata": {},
   "outputs": [],
   "source": [
    "#Model age could be EDITED \n",
    "less_than_15_modelage = dy.query('MODEL_AGE < 15')['VEHICLE_ID']"
   ]
  },
  {
   "cell_type": "code",
   "execution_count": 160,
   "id": "36e85a3d",
   "metadata": {},
   "outputs": [],
   "source": [
    "indiv_less_than_15_modelage = dy[dy['VEHICLE_ID'].isin(less_than_15_modelage)]['INDIV_ID']"
   ]
  },
  {
   "cell_type": "code",
   "execution_count": 161,
   "id": "cbb65695",
   "metadata": {},
   "outputs": [],
   "source": [
    "year_indivs['indiv_less_than_15_modelage'] = np.where(year_indivs.indiv.isin(indiv_less_than_15_modelage), 1, 0)"
   ]
  },
  {
   "cell_type": "code",
   "execution_count": 162,
   "id": "3093dc71",
   "metadata": {},
   "outputs": [
    {
     "data": {
      "text/plain": [
       "0    39325\n",
       "1      157\n",
       "Name: indiv_less_than_15_modelage, dtype: int64"
      ]
     },
     "execution_count": 162,
     "metadata": {},
     "output_type": "execute_result"
    }
   ],
   "source": [
    "year_indivs['indiv_less_than_15_modelage'].value_counts()"
   ]
  },
  {
   "cell_type": "markdown",
   "id": "a83186ce",
   "metadata": {},
   "source": [
    "### MAKE/MODEL/SUBMODEL"
   ]
  },
  {
   "cell_type": "code",
   "execution_count": 163,
   "id": "a61489d0",
   "metadata": {},
   "outputs": [
    {
     "name": "stdout",
     "output_type": "stream",
     "text": [
      "MAKE Data Miss Rate 0.9962199432991495\n",
      "MODEL Data Miss Rate 0.9962199432991495\n",
      "SUB_MODEL Data Miss Rate 0.9968616195909605\n"
     ]
    }
   ],
   "source": [
    "cat = ['MAKE', 'MODEL', 'SUB_MODEL']\n",
    "for i in cat:\n",
    "    dq = dy[i].groupby([dy['TRAN_ID'], dy['DATE']]).count().to_frame()\n",
    "    print(i,  'Data Miss Rate', len(dq[dq[i]==0]) / len(dq[i]))"
   ]
  },
  {
   "cell_type": "markdown",
   "id": "3a4da2d6",
   "metadata": {},
   "source": [
    "#### Using this step on Accre to check the miss rate of MAKE/MODEL/SUB_MODEL"
   ]
  },
  {
   "cell_type": "markdown",
   "id": "7ae07ff8",
   "metadata": {},
   "source": [
    "#### Top 5"
   ]
  },
  {
   "cell_type": "code",
   "execution_count": 164,
   "id": "bc42bd8b",
   "metadata": {},
   "outputs": [
    {
     "name": "stdout",
     "output_type": "stream",
     "text": [
      "MAKE top 5 share in transactions: 0.4845679012345679\n",
      "MODEL top 5 share in transactions: 0.11419753086419752\n",
      "SUB_MODEL top 5 share in transactions: 0.3643122676579926\n"
     ]
    }
   ],
   "source": [
    "for i in cat:\n",
    "    T = dy[i].groupby([dy['TRAN_ID'], dy['DATE']]).value_counts().to_frame().rename(columns = {i:'count'})\n",
    "    T.reset_index(inplace =True)\n",
    "    T.drop('count', axis = 1, inplace = True)\n",
    "    T = T.groupby(i).count()\n",
    "    T.reset_index(inplace = True)\n",
    "    T.drop('DATE', axis = 1, inplace = True)\n",
    "    T.rename(columns = {'TRAN_ID':'total_trans'}, inplace = True)\n",
    "    print(i, 'top 5 share in transactions:', T.sort_values('total_trans', ascending = False)[:5].sum()[1]/T['total_trans'].sum())"
   ]
  },
  {
   "cell_type": "markdown",
   "id": "284605bc",
   "metadata": {},
   "source": [
    "#### Top 10"
   ]
  },
  {
   "cell_type": "code",
   "execution_count": 165,
   "id": "b6bea8b3",
   "metadata": {},
   "outputs": [
    {
     "name": "stdout",
     "output_type": "stream",
     "text": [
      "MAKE top 10 share in transactions: 0.7253086419753086\n",
      "MODEL top 10 share in transactions: 0.19135802469135801\n",
      "SUB_MODEL top 10 share in transactions: 0.5390334572490706\n"
     ]
    }
   ],
   "source": [
    "for i in cat:\n",
    "    T = dy[i].groupby([dy['TRAN_ID'], dy['DATE']]).value_counts().to_frame().rename(columns = {i:'count'})\n",
    "    T.reset_index(inplace =True)\n",
    "    T.drop('count', axis = 1, inplace = True)\n",
    "    T = T.groupby(i).count()\n",
    "    T.reset_index(inplace = True)\n",
    "    T.drop('DATE', axis = 1, inplace = True)\n",
    "    T.rename(columns = {'TRAN_ID':'total_trans'}, inplace = True)\n",
    "    print(i, 'top 10 share in transactions:', T.sort_values('total_trans', ascending = False)[:10].sum()[1]/T['total_trans'].sum())"
   ]
  },
  {
   "cell_type": "code",
   "execution_count": 166,
   "id": "8776099d",
   "metadata": {},
   "outputs": [
    {
     "data": {
      "image/png": "[encoded data removed]",
      "text/plain": [
       "<Figure size 432x288 with 1 Axes>"
      ]
     },
     "metadata": {
      "needs_background": "light"
     },
     "output_type": "display_data"
    }
   ],
   "source": [
    "T = dy['MAKE'].groupby([dy['TRAN_ID'], dy['DATE']]).value_counts().to_frame().rename(columns = {'MAKE':'count'})\n",
    "T.reset_index(inplace =True)\n",
    "T.drop('count', axis = 1, inplace = True)\n",
    "T = T.groupby('MAKE').count()\n",
    "T.drop('DATE', axis = 1, inplace = True)\n",
    "T.rename(columns = {'TRAN_ID':'total transactions'}, inplace = True)\n",
    "T.sort_values('total transactions', ascending = False)[:10].plot.barh()\n",
    "plt.title('MAKE: Top 10 Number of Transactions')\n",
    "plt.show()"
   ]
  },
  {
   "cell_type": "markdown",
   "id": "1df17df5",
   "metadata": {},
   "source": [
    "#### so that using top 10 MAKE"
   ]
  },
  {
   "cell_type": "code",
   "execution_count": 167,
   "id": "1b4fd8d5",
   "metadata": {},
   "outputs": [],
   "source": [
    "top_10_make = T.sort_values('total transactions', ascending = False)[:10]"
   ]
  },
  {
   "cell_type": "code",
   "execution_count": 168,
   "id": "3b41e18f",
   "metadata": {},
   "outputs": [],
   "source": [
    "top_10_make.reset_index(inplace =True)\n",
    "top_10_make = top_10_make['MAKE']"
   ]
  },
  {
   "cell_type": "code",
   "execution_count": 169,
   "id": "880e3e4e",
   "metadata": {},
   "outputs": [],
   "source": [
    "indiv_top_10_make = dy[dy['MAKE'].isin(top_10_make)]['INDIV_ID']"
   ]
  },
  {
   "cell_type": "code",
   "execution_count": 170,
   "id": "f7560cc9",
   "metadata": {},
   "outputs": [],
   "source": [
    "year_indivs['indiv_top_10_make'] = np.where(year_indivs.indiv.isin(indiv_top_10_make), 1, 0)"
   ]
  },
  {
   "cell_type": "code",
   "execution_count": 171,
   "id": "df9bdfd2",
   "metadata": {},
   "outputs": [
    {
     "data": {
      "text/plain": [
       "0    39350\n",
       "1      132\n",
       "Name: indiv_top_10_make, dtype: int64"
      ]
     },
     "execution_count": 171,
     "metadata": {},
     "output_type": "execute_result"
    }
   ],
   "source": [
    "year_indivs['indiv_top_10_make'].value_counts()"
   ]
  },
  {
   "cell_type": "markdown",
   "id": "c663e178",
   "metadata": {},
   "source": [
    "#### Same, if we have to use model and sub_model, just edit the column name"
   ]
  },
  {
   "cell_type": "markdown",
   "id": "e7ffabf7",
   "metadata": {},
   "source": [
    "### Proportion"
   ]
  },
  {
   "cell_type": "code",
   "execution_count": 172,
   "id": "d56a558e",
   "metadata": {},
   "outputs": [],
   "source": [
    "sales_vehicle_id = dy.groupby(['VEHICLE_ID'])['SALES'].sum().to_frame()"
   ]
  },
  {
   "cell_type": "code",
   "execution_count": 173,
   "id": "4e140891",
   "metadata": {},
   "outputs": [],
   "source": [
    "sales_vehicle_id.reset_index(inplace =True)"
   ]
  },
  {
   "cell_type": "code",
   "execution_count": 174,
   "id": "9bc91c7c",
   "metadata": {},
   "outputs": [],
   "source": [
    "tire_sales_vehicle_id = dy[dy['PROD_GROUP_CODE']==5].groupby(['VEHICLE_ID'])['SALES'].sum().to_frame()"
   ]
  },
  {
   "cell_type": "code",
   "execution_count": 175,
   "id": "c376d6ea",
   "metadata": {},
   "outputs": [],
   "source": [
    "tire_sales_vehicle_id.reset_index(inplace =True)\n",
    "tire_sales_vehicle_id.rename(columns = {'SALES': 'TIRE_SALES'},inplace = True)"
   ]
  },
  {
   "cell_type": "code",
   "execution_count": 176,
   "id": "dc147212",
   "metadata": {},
   "outputs": [],
   "source": [
    "prop_sales_vehicle_id = pd.merge(sales_vehicle_id, tire_sales_vehicle_id, on = 'VEHICLE_ID', how= 'left')"
   ]
  },
  {
   "cell_type": "code",
   "execution_count": 177,
   "id": "7fc9fc43",
   "metadata": {},
   "outputs": [
    {
     "data": {
      "text/html": [
       "<div>\n",
       "<style scoped>\n",
       "    .dataframe tbody tr th:only-of-type {\n",
       "        vertical-align: middle;\n",
       "    }\n",
       "\n",
       "    .dataframe tbody tr th {\n",
       "        vertical-align: top;\n",
       "    }\n",
       "\n",
       "    .dataframe thead th {\n",
       "        text-align: right;\n",
       "    }\n",
       "</style>\n",
       "<table border=\"1\" class=\"dataframe\">\n",
       "  <thead>\n",
       "    <tr style=\"text-align: right;\">\n",
       "      <th></th>\n",
       "      <th>VEHICLE_ID</th>\n",
       "      <th>SALES</th>\n",
       "      <th>TIRE_SALES</th>\n",
       "    </tr>\n",
       "  </thead>\n",
       "  <tbody>\n",
       "    <tr>\n",
       "      <th>0</th>\n",
       "      <td>1</td>\n",
       "      <td>101856.85</td>\n",
       "      <td>89723.63</td>\n",
       "    </tr>\n",
       "    <tr>\n",
       "      <th>1</th>\n",
       "      <td>409421</td>\n",
       "      <td>131.76</td>\n",
       "      <td>NaN</td>\n",
       "    </tr>\n",
       "    <tr>\n",
       "      <th>2</th>\n",
       "      <td>1302297</td>\n",
       "      <td>623.05</td>\n",
       "      <td>NaN</td>\n",
       "    </tr>\n",
       "    <tr>\n",
       "      <th>3</th>\n",
       "      <td>5132467</td>\n",
       "      <td>25.00</td>\n",
       "      <td>NaN</td>\n",
       "    </tr>\n",
       "    <tr>\n",
       "      <th>4</th>\n",
       "      <td>5145643</td>\n",
       "      <td>1792.96</td>\n",
       "      <td>1792.96</td>\n",
       "    </tr>\n",
       "    <tr>\n",
       "      <th>...</th>\n",
       "      <td>...</td>\n",
       "      <td>...</td>\n",
       "      <td>...</td>\n",
       "    </tr>\n",
       "    <tr>\n",
       "      <th>50875</th>\n",
       "      <td>998850457</td>\n",
       "      <td>96.46</td>\n",
       "      <td>NaN</td>\n",
       "    </tr>\n",
       "    <tr>\n",
       "      <th>50876</th>\n",
       "      <td>1001654250</td>\n",
       "      <td>-14.40</td>\n",
       "      <td>NaN</td>\n",
       "    </tr>\n",
       "    <tr>\n",
       "      <th>50877</th>\n",
       "      <td>1001742837</td>\n",
       "      <td>97.94</td>\n",
       "      <td>NaN</td>\n",
       "    </tr>\n",
       "    <tr>\n",
       "      <th>50878</th>\n",
       "      <td>1005758642</td>\n",
       "      <td>476.78</td>\n",
       "      <td>NaN</td>\n",
       "    </tr>\n",
       "    <tr>\n",
       "      <th>50879</th>\n",
       "      <td>1005837794</td>\n",
       "      <td>51.21</td>\n",
       "      <td>NaN</td>\n",
       "    </tr>\n",
       "  </tbody>\n",
       "</table>\n",
       "<p>50880 rows × 3 columns</p>\n",
       "</div>"
      ],
      "text/plain": [
       "       VEHICLE_ID      SALES  TIRE_SALES\n",
       "0               1  101856.85    89723.63\n",
       "1          409421     131.76         NaN\n",
       "2         1302297     623.05         NaN\n",
       "3         5132467      25.00         NaN\n",
       "4         5145643    1792.96     1792.96\n",
       "...           ...        ...         ...\n",
       "50875   998850457      96.46         NaN\n",
       "50876  1001654250     -14.40         NaN\n",
       "50877  1001742837      97.94         NaN\n",
       "50878  1005758642     476.78         NaN\n",
       "50879  1005837794      51.21         NaN\n",
       "\n",
       "[50880 rows x 3 columns]"
      ]
     },
     "execution_count": 177,
     "metadata": {},
     "output_type": "execute_result"
    }
   ],
   "source": [
    "prop_sales_vehicle_id"
   ]
  },
  {
   "cell_type": "code",
   "execution_count": 178,
   "id": "4789bc6f",
   "metadata": {},
   "outputs": [],
   "source": [
    "prop_sales_vehicle_id['TIRE_SALES'].fillna(0,inplace = True)"
   ]
  },
  {
   "cell_type": "code",
   "execution_count": 179,
   "id": "afcc1f9e",
   "metadata": {},
   "outputs": [],
   "source": [
    "prop_sales_vehicle_id['PROP'] =  prop_sales_vehicle_id['TIRE_SALES']/prop_sales_vehicle_id['SALES']"
   ]
  },
  {
   "cell_type": "code",
   "execution_count": 180,
   "id": "a07d8ceb",
   "metadata": {},
   "outputs": [
    {
     "data": {
      "text/html": [
       "<div>\n",
       "<style scoped>\n",
       "    .dataframe tbody tr th:only-of-type {\n",
       "        vertical-align: middle;\n",
       "    }\n",
       "\n",
       "    .dataframe tbody tr th {\n",
       "        vertical-align: top;\n",
       "    }\n",
       "\n",
       "    .dataframe thead th {\n",
       "        text-align: right;\n",
       "    }\n",
       "</style>\n",
       "<table border=\"1\" class=\"dataframe\">\n",
       "  <thead>\n",
       "    <tr style=\"text-align: right;\">\n",
       "      <th></th>\n",
       "      <th>VEHICLE_ID</th>\n",
       "      <th>SALES</th>\n",
       "      <th>TIRE_SALES</th>\n",
       "      <th>PROP</th>\n",
       "    </tr>\n",
       "  </thead>\n",
       "  <tbody>\n",
       "    <tr>\n",
       "      <th>0</th>\n",
       "      <td>1</td>\n",
       "      <td>101856.85</td>\n",
       "      <td>89723.63</td>\n",
       "      <td>0.88088</td>\n",
       "    </tr>\n",
       "    <tr>\n",
       "      <th>1</th>\n",
       "      <td>409421</td>\n",
       "      <td>131.76</td>\n",
       "      <td>0.00</td>\n",
       "      <td>0.00000</td>\n",
       "    </tr>\n",
       "    <tr>\n",
       "      <th>2</th>\n",
       "      <td>1302297</td>\n",
       "      <td>623.05</td>\n",
       "      <td>0.00</td>\n",
       "      <td>0.00000</td>\n",
       "    </tr>\n",
       "    <tr>\n",
       "      <th>3</th>\n",
       "      <td>5132467</td>\n",
       "      <td>25.00</td>\n",
       "      <td>0.00</td>\n",
       "      <td>0.00000</td>\n",
       "    </tr>\n",
       "    <tr>\n",
       "      <th>4</th>\n",
       "      <td>5145643</td>\n",
       "      <td>1792.96</td>\n",
       "      <td>1792.96</td>\n",
       "      <td>1.00000</td>\n",
       "    </tr>\n",
       "    <tr>\n",
       "      <th>...</th>\n",
       "      <td>...</td>\n",
       "      <td>...</td>\n",
       "      <td>...</td>\n",
       "      <td>...</td>\n",
       "    </tr>\n",
       "    <tr>\n",
       "      <th>50875</th>\n",
       "      <td>998850457</td>\n",
       "      <td>96.46</td>\n",
       "      <td>0.00</td>\n",
       "      <td>0.00000</td>\n",
       "    </tr>\n",
       "    <tr>\n",
       "      <th>50876</th>\n",
       "      <td>1001654250</td>\n",
       "      <td>-14.40</td>\n",
       "      <td>0.00</td>\n",
       "      <td>-0.00000</td>\n",
       "    </tr>\n",
       "    <tr>\n",
       "      <th>50877</th>\n",
       "      <td>1001742837</td>\n",
       "      <td>97.94</td>\n",
       "      <td>0.00</td>\n",
       "      <td>0.00000</td>\n",
       "    </tr>\n",
       "    <tr>\n",
       "      <th>50878</th>\n",
       "      <td>1005758642</td>\n",
       "      <td>476.78</td>\n",
       "      <td>0.00</td>\n",
       "      <td>0.00000</td>\n",
       "    </tr>\n",
       "    <tr>\n",
       "      <th>50879</th>\n",
       "      <td>1005837794</td>\n",
       "      <td>51.21</td>\n",
       "      <td>0.00</td>\n",
       "      <td>0.00000</td>\n",
       "    </tr>\n",
       "  </tbody>\n",
       "</table>\n",
       "<p>50880 rows × 4 columns</p>\n",
       "</div>"
      ],
      "text/plain": [
       "       VEHICLE_ID      SALES  TIRE_SALES     PROP\n",
       "0               1  101856.85    89723.63  0.88088\n",
       "1          409421     131.76        0.00  0.00000\n",
       "2         1302297     623.05        0.00  0.00000\n",
       "3         5132467      25.00        0.00  0.00000\n",
       "4         5145643    1792.96     1792.96  1.00000\n",
       "...           ...        ...         ...      ...\n",
       "50875   998850457      96.46        0.00  0.00000\n",
       "50876  1001654250     -14.40        0.00 -0.00000\n",
       "50877  1001742837      97.94        0.00  0.00000\n",
       "50878  1005758642     476.78        0.00  0.00000\n",
       "50879  1005837794      51.21        0.00  0.00000\n",
       "\n",
       "[50880 rows x 4 columns]"
      ]
     },
     "execution_count": 180,
     "metadata": {},
     "output_type": "execute_result"
    }
   ],
   "source": [
    "prop_sales_vehicle_id"
   ]
  },
  {
   "cell_type": "markdown",
   "id": "5dd87adb",
   "metadata": {},
   "source": [
    "#### Notice row 50876: if the value equals to -0, what should I do for it?"
   ]
  },
  {
   "cell_type": "code",
   "execution_count": null,
   "id": "4f4ea817",
   "metadata": {},
   "outputs": [],
   "source": []
  }
 ],
 "metadata": {
  "kernelspec": {
   "display_name": "Python 3.9.7 ('teams1_env')",
   "language": "python",
   "name": "python397jvsc74a57bd03b8ebc189473e27eb24120a0782e6fa6e1dca6a6d2be4566a80839218e5d1717"
  },
  "language_info": {
   "codemirror_mode": {
    "name": "ipython",
    "version": 3
   },
   "file_extension": ".py",
   "mimetype": "text/x-python",
   "name": "python",
   "nbconvert_exporter": "python",
   "pygments_lexer": "ipython3",
   "version": "3.9.7"
  }
 },
 "nbformat": 4,
 "nbformat_minor": 5
}
