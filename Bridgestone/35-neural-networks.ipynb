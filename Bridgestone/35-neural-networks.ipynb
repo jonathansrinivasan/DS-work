{
 "cells": [
  {
   "cell_type": "markdown",
   "id": "8232c449",
   "metadata": {},
   "source": [
    "This notebooks aims to try neural networks with different balancing methods to improve performance on valid dataset"
   ]
  },
  {
   "cell_type": "code",
   "execution_count": 54,
   "id": "0af9ad0c",
   "metadata": {},
   "outputs": [],
   "source": [
    "import pandas as pd \n",
    "import imblearn\n",
    "import numpy as np\n",
    "from matplotlib import pyplot as plt\n",
    "import matplotlib as mpl\n",
    "%matplotlib inline"
   ]
  },
  {
   "cell_type": "code",
   "execution_count": 2,
   "id": "91f3f634",
   "metadata": {},
   "outputs": [],
   "source": [
    "# neural networks import \n",
    "\n",
    "from tensorflow_addons import losses\n",
    "import tensorflow as tf\n",
    "from tensorflow import keras"
   ]
  },
  {
   "cell_type": "code",
   "execution_count": 55,
   "id": "504bd5b4",
   "metadata": {},
   "outputs": [],
   "source": [
    "mpl.rcParams['figure.figsize'] = (12, 10)\n",
    "colors = plt.rcParams['axes.prop_cycle'].by_key()['color']"
   ]
  },
  {
   "cell_type": "code",
   "execution_count": 3,
   "id": "5f5b639d",
   "metadata": {},
   "outputs": [],
   "source": [
    "pd.set_option('display.max_rows', None)\n",
    "pd.set_option('display.max_columns', None)"
   ]
  },
  {
   "cell_type": "markdown",
   "id": "76ceeeb8",
   "metadata": {},
   "source": [
    "Since it is recommended by author of SMOTE that both oversampling and undersampling are undertaken in the sampe \n",
    "experiment, that's the methodology we are following here"
   ]
  },
  {
   "cell_type": "code",
   "execution_count": 4,
   "id": "f775177a",
   "metadata": {},
   "outputs": [],
   "source": [
    "# Oversample with SMOTE and random undersample for imbalanced dataset\n",
    "from collections import Counter # instead of value counts\n",
    "from imblearn.over_sampling import SMOTE\n",
    "from imblearn.under_sampling import RandomUnderSampler\n",
    "from imblearn.pipeline import Pipeline\n",
    "from matplotlib import pyplot\n",
    "from numpy import where\n",
    "from sklearn.tree import DecisionTreeClassifier\n",
    "from sklearn.model_selection import cross_val_score\n",
    "from sklearn.ensemble import RandomForestClassifier\n",
    "from sklearn.model_selection import RepeatedStratifiedKFold\n",
    "from sklearn.model_selection import train_test_split\n",
    "import lightgbm as lgb\n",
    "from sklearn.metrics import plot_confusion_matrix\n",
    "from sklearn.metrics import classification_report"
   ]
  },
  {
   "cell_type": "code",
   "execution_count": 72,
   "id": "779affef",
   "metadata": {},
   "outputs": [],
   "source": [
    "data = pd.read_csv('../../trial/DS-Teams-Project-2/individuals16.csv', index_col = 0)"
   ]
  },
  {
   "cell_type": "code",
   "execution_count": 66,
   "id": "02afae3f",
   "metadata": {},
   "outputs": [],
   "source": [
    "X = data.drop(['label', 'indiv'], axis = 1)\n",
    "y = data.label"
   ]
  },
  {
   "cell_type": "code",
   "execution_count": 67,
   "id": "75b47c1f",
   "metadata": {},
   "outputs": [],
   "source": [
    "X_train, X_test, y_train, y_test = train_test_split(X, y, test_size=0.2, random_state=42, stratify = y)"
   ]
  },
  {
   "cell_type": "code",
   "execution_count": 68,
   "id": "41782bbd",
   "metadata": {},
   "outputs": [
    {
     "data": {
      "text/html": [
       "<div>\n",
       "<style scoped>\n",
       "    .dataframe tbody tr th:only-of-type {\n",
       "        vertical-align: middle;\n",
       "    }\n",
       "\n",
       "    .dataframe tbody tr th {\n",
       "        vertical-align: top;\n",
       "    }\n",
       "\n",
       "    .dataframe thead th {\n",
       "        text-align: right;\n",
       "    }\n",
       "</style>\n",
       "<table border=\"1\" class=\"dataframe\">\n",
       "  <thead>\n",
       "    <tr style=\"text-align: right;\">\n",
       "      <th></th>\n",
       "      <th>cust_in_top_10_sales</th>\n",
       "      <th>store_top_tran</th>\n",
       "      <th>store_top_tires_tran</th>\n",
       "      <th>vehicle_tire_svc</th>\n",
       "      <th>vhc_tire_purchase</th>\n",
       "      <th>vhc_early_tire_purchase</th>\n",
       "      <th>top_cust_overall</th>\n",
       "      <th>top_cust_tire_purch</th>\n",
       "      <th>indiv_make_tire_pch</th>\n",
       "      <th>make_prop_tire</th>\n",
       "      <th>MODEL_prop_tire</th>\n",
       "      <th>SUB_MODEL_prop_tire</th>\n",
       "    </tr>\n",
       "  </thead>\n",
       "  <tbody>\n",
       "    <tr>\n",
       "      <th>230244</th>\n",
       "      <td>0</td>\n",
       "      <td>1</td>\n",
       "      <td>1</td>\n",
       "      <td>1</td>\n",
       "      <td>1</td>\n",
       "      <td>0</td>\n",
       "      <td>0</td>\n",
       "      <td>1</td>\n",
       "      <td>1</td>\n",
       "      <td>0</td>\n",
       "      <td>0</td>\n",
       "      <td>0</td>\n",
       "    </tr>\n",
       "    <tr>\n",
       "      <th>2812530</th>\n",
       "      <td>0</td>\n",
       "      <td>1</td>\n",
       "      <td>1</td>\n",
       "      <td>0</td>\n",
       "      <td>0</td>\n",
       "      <td>0</td>\n",
       "      <td>0</td>\n",
       "      <td>0</td>\n",
       "      <td>0</td>\n",
       "      <td>0</td>\n",
       "      <td>0</td>\n",
       "      <td>0</td>\n",
       "    </tr>\n",
       "    <tr>\n",
       "      <th>2907175</th>\n",
       "      <td>0</td>\n",
       "      <td>1</td>\n",
       "      <td>1</td>\n",
       "      <td>0</td>\n",
       "      <td>0</td>\n",
       "      <td>0</td>\n",
       "      <td>0</td>\n",
       "      <td>0</td>\n",
       "      <td>1</td>\n",
       "      <td>0</td>\n",
       "      <td>0</td>\n",
       "      <td>0</td>\n",
       "    </tr>\n",
       "    <tr>\n",
       "      <th>482217</th>\n",
       "      <td>0</td>\n",
       "      <td>1</td>\n",
       "      <td>1</td>\n",
       "      <td>1</td>\n",
       "      <td>1</td>\n",
       "      <td>1</td>\n",
       "      <td>0</td>\n",
       "      <td>1</td>\n",
       "      <td>1</td>\n",
       "      <td>0</td>\n",
       "      <td>0</td>\n",
       "      <td>0</td>\n",
       "    </tr>\n",
       "    <tr>\n",
       "      <th>959433</th>\n",
       "      <td>0</td>\n",
       "      <td>1</td>\n",
       "      <td>1</td>\n",
       "      <td>1</td>\n",
       "      <td>0</td>\n",
       "      <td>0</td>\n",
       "      <td>0</td>\n",
       "      <td>0</td>\n",
       "      <td>1</td>\n",
       "      <td>0</td>\n",
       "      <td>0</td>\n",
       "      <td>0</td>\n",
       "    </tr>\n",
       "  </tbody>\n",
       "</table>\n",
       "</div>"
      ],
      "text/plain": [
       "         cust_in_top_10_sales  store_top_tran  store_top_tires_tran  \\\n",
       "230244                      0               1                     1   \n",
       "2812530                     0               1                     1   \n",
       "2907175                     0               1                     1   \n",
       "482217                      0               1                     1   \n",
       "959433                      0               1                     1   \n",
       "\n",
       "         vehicle_tire_svc  vhc_tire_purchase  vhc_early_tire_purchase  \\\n",
       "230244                  1                  1                        0   \n",
       "2812530                 0                  0                        0   \n",
       "2907175                 0                  0                        0   \n",
       "482217                  1                  1                        1   \n",
       "959433                  1                  0                        0   \n",
       "\n",
       "         top_cust_overall  top_cust_tire_purch  indiv_make_tire_pch  \\\n",
       "230244                  0                    1                    1   \n",
       "2812530                 0                    0                    0   \n",
       "2907175                 0                    0                    1   \n",
       "482217                  0                    1                    1   \n",
       "959433                  0                    0                    1   \n",
       "\n",
       "         make_prop_tire  MODEL_prop_tire  SUB_MODEL_prop_tire  \n",
       "230244                0                0                    0  \n",
       "2812530               0                0                    0  \n",
       "2907175               0                0                    0  \n",
       "482217                0                0                    0  \n",
       "959433                0                0                    0  "
      ]
     },
     "execution_count": 68,
     "metadata": {},
     "output_type": "execute_result"
    }
   ],
   "source": [
    "X_train.head()"
   ]
  },
  {
   "cell_type": "markdown",
   "id": "6966de46",
   "metadata": {},
   "source": [
    "### summarize class distribution"
   ]
  },
  {
   "cell_type": "code",
   "execution_count": 69,
   "id": "dbfba09c",
   "metadata": {},
   "outputs": [
    {
     "name": "stdout",
     "output_type": "stream",
     "text": [
      "Counter({0: 2324289, 1: 77063})\n"
     ]
    }
   ],
   "source": [
    "counter = Counter(y_train)\n",
    "print(counter)"
   ]
  },
  {
   "cell_type": "markdown",
   "id": "6a205d7e",
   "metadata": {},
   "source": [
    "### define pipeline"
   ]
  },
  {
   "cell_type": "code",
   "execution_count": 10,
   "id": "6a24f972",
   "metadata": {},
   "outputs": [],
   "source": [
    "over = SMOTE(sampling_strategy=0.1)\n",
    "under = RandomUnderSampler(sampling_strategy=0.5)\n",
    "steps = [('o', over), ('u', under)]\n",
    "pipeline = Pipeline(steps=steps)\n",
    "# transform the dataset\n",
    "X_train, y_train = pipeline.fit_resample(X_train, y_train)"
   ]
  },
  {
   "cell_type": "code",
   "execution_count": 70,
   "id": "55a11245",
   "metadata": {},
   "outputs": [],
   "source": [
    "# over = SMOTE(sampling_strategy=0.1)\n",
    "under = RandomUnderSampler(sampling_strategy=1)\n",
    "steps = [('u', under)]\n",
    "pipeline = Pipeline(steps=steps)\n",
    "# transform the dataset\n",
    "X_train, y_train = pipeline.fit_resample(X_train, y_train)"
   ]
  },
  {
   "cell_type": "markdown",
   "id": "f432ef89",
   "metadata": {},
   "source": [
    "### summarize the new class distribution"
   ]
  },
  {
   "cell_type": "code",
   "execution_count": 71,
   "id": "6dc0ee44",
   "metadata": {},
   "outputs": [
    {
     "name": "stdout",
     "output_type": "stream",
     "text": [
      "Counter({0: 77063, 1: 77063})\n"
     ]
    }
   ],
   "source": [
    "counter = Counter(y_train)\n",
    "print(counter)"
   ]
  },
  {
   "cell_type": "markdown",
   "id": "14e70b78",
   "metadata": {},
   "source": [
    "## Define the model and metrics"
   ]
  },
  {
   "cell_type": "markdown",
   "id": "74cde5c6",
   "metadata": {},
   "source": [
    "Define a function that creates a simple neural network with a densly connected hidden layer, a dropout layer to reduce overfitting, and an output sigmoid layer that returns the probability of an individual purchasing in November"
   ]
  },
  {
   "cell_type": "code",
   "execution_count": 30,
   "id": "9098d6cf",
   "metadata": {},
   "outputs": [],
   "source": [
    "METRICS = [\n",
    "      keras.metrics.TruePositives(name='tp'),\n",
    "      keras.metrics.FalsePositives(name='fp'),\n",
    "      keras.metrics.TrueNegatives(name='tn'),\n",
    "      keras.metrics.FalseNegatives(name='fn'), \n",
    "      keras.metrics.BinaryAccuracy(name='accuracy'),\n",
    "      keras.metrics.Precision(name='precision'),\n",
    "      keras.metrics.Recall(name='recall'),\n",
    "      keras.metrics.AUC(name='auc'),\n",
    "      keras.metrics.AUC(name='prc', curve='PR'), # precision-recall curve\n",
    "]\n",
    "\n",
    "def make_model(metrics=METRICS, output_bias=None):\n",
    "  if output_bias is not None:\n",
    "    output_bias = tf.keras.initializers.Constant(output_bias)\n",
    "  model = keras.Sequential([\n",
    "      keras.layers.Dense(\n",
    "          16, activation='relu',\n",
    "          input_shape=(12,)),\n",
    "      keras.layers.Dropout(0.5),\n",
    "      keras.layers.Dense(1, activation='sigmoid',\n",
    "                         bias_initializer=output_bias),\n",
    "  ])\n",
    "\n",
    "  model.compile(\n",
    "      optimizer=keras.optimizers.Adam(learning_rate=1e-3),\n",
    "      loss=keras.losses.BinaryCrossentropy(),\n",
    "      metrics=metrics)\n",
    "\n",
    "  return model"
   ]
  },
  {
   "cell_type": "code",
   "execution_count": 31,
   "id": "d6b6035c",
   "metadata": {},
   "outputs": [],
   "source": [
    "EPOCHS = 100\n",
    "BATCH_SIZE = 2048\n",
    "\n",
    "early_stopping = tf.keras.callbacks.EarlyStopping(\n",
    "    monitor='val_prc', \n",
    "    verbose=1,\n",
    "    patience=10,\n",
    "    mode='max',\n",
    "    restore_best_weights=True)"
   ]
  },
  {
   "cell_type": "code",
   "execution_count": 32,
   "id": "e1567fe3",
   "metadata": {},
   "outputs": [
    {
     "name": "stdout",
     "output_type": "stream",
     "text": [
      "Model: \"sequential_5\"\n",
      "_________________________________________________________________\n",
      " Layer (type)                Output Shape              Param #   \n",
      "=================================================================\n",
      " dense_15 (Dense)            (None, 16)                208       \n",
      "                                                                 \n",
      " dropout (Dropout)           (None, 16)                0         \n",
      "                                                                 \n",
      " dense_16 (Dense)            (None, 1)                 17        \n",
      "                                                                 \n",
      "=================================================================\n",
      "Total params: 225\n",
      "Trainable params: 225\n",
      "Non-trainable params: 0\n",
      "_________________________________________________________________\n"
     ]
    }
   ],
   "source": [
    "model = make_model()\n",
    "model.summary()"
   ]
  },
  {
   "cell_type": "code",
   "execution_count": 33,
   "id": "86f80a2a",
   "metadata": {},
   "outputs": [
    {
     "data": {
      "text/plain": [
       "array([[0.41350043],\n",
       "       [0.4133214 ],\n",
       "       [0.4155759 ],\n",
       "       ...,\n",
       "       [0.4133214 ],\n",
       "       [0.4133214 ],\n",
       "       [0.4133214 ]], dtype=float32)"
      ]
     },
     "execution_count": 33,
     "metadata": {},
     "output_type": "execute_result"
    }
   ],
   "source": [
    "model.predict(X_train)"
   ]
  },
  {
   "cell_type": "code",
   "execution_count": 36,
   "id": "6a31f33f",
   "metadata": {},
   "outputs": [
    {
     "name": "stdout",
     "output_type": "stream",
     "text": [
      "Loss: 0.7182\n"
     ]
    }
   ],
   "source": [
    "results = model.evaluate(X_train, y_train, batch_size=BATCH_SIZE, verbose=0)\n",
    "print(\"Loss: {:0.4f}\".format(results[0]))"
   ]
  },
  {
   "cell_type": "code",
   "execution_count": 37,
   "id": "ebe566d9",
   "metadata": {},
   "outputs": [
    {
     "data": {
      "text/plain": [
       "array([-0.69314718])"
      ]
     },
     "execution_count": 37,
     "metadata": {},
     "output_type": "execute_result"
    }
   ],
   "source": [
    "initial_bias = np.log([1/2])\n",
    "initial_bias"
   ]
  },
  {
   "cell_type": "code",
   "execution_count": 39,
   "id": "59971acb",
   "metadata": {},
   "outputs": [
    {
     "data": {
      "text/plain": [
       "array([[0.19599819],\n",
       "       [0.15388465],\n",
       "       [0.10430256],\n",
       "       [0.10874048],\n",
       "       [0.10430256],\n",
       "       [0.15545857],\n",
       "       [0.11570534],\n",
       "       [0.11882457],\n",
       "       [0.19599819],\n",
       "       [0.15388465]], dtype=float32)"
      ]
     },
     "execution_count": 39,
     "metadata": {},
     "output_type": "execute_result"
    }
   ],
   "source": [
    "model = make_model(output_bias=initial_bias)\n",
    "model.predict(X_train[:10])"
   ]
  },
  {
   "cell_type": "code",
   "execution_count": 40,
   "id": "20bd63a4",
   "metadata": {},
   "outputs": [
    {
     "name": "stdout",
     "output_type": "stream",
     "text": [
      "Loss: 0.7884\n"
     ]
    }
   ],
   "source": [
    "results = model.evaluate(X_train, y_train, batch_size=BATCH_SIZE, verbose=0)\n",
    "print(\"Loss: {:0.4f}\".format(results[0]))"
   ]
  },
  {
   "cell_type": "code",
   "execution_count": 45,
   "id": "5720f10d",
   "metadata": {},
   "outputs": [],
   "source": [
    "import os, tempfile"
   ]
  },
  {
   "cell_type": "code",
   "execution_count": 47,
   "id": "f7040c85",
   "metadata": {},
   "outputs": [],
   "source": [
    "initial_weights = os.path.join(tempfile.mkdtemp(), 'initial_weights')\n",
    "model.save_weights(initial_weights)"
   ]
  },
  {
   "cell_type": "code",
   "execution_count": 49,
   "id": "91fe8cd6",
   "metadata": {},
   "outputs": [],
   "source": [
    "model = make_model()\n",
    "model.load_weights(initial_weights)\n",
    "model.layers[-1].bias.assign([0.0])\n",
    "zero_bias_history = model.fit(\n",
    "    X_train,\n",
    "    y_train,\n",
    "    batch_size=BATCH_SIZE,\n",
    "    epochs=20,\n",
    "    validation_data=(X_test, y_test), \n",
    "    verbose=0)"
   ]
  },
  {
   "cell_type": "code",
   "execution_count": 50,
   "id": "61131b9e",
   "metadata": {},
   "outputs": [],
   "source": [
    "model = make_model()\n",
    "model.load_weights(initial_weights)\n",
    "careful_bias_history = model.fit(\n",
    "    X_train,\n",
    "    y_train,\n",
    "    batch_size=BATCH_SIZE,\n",
    "    epochs=20,\n",
    "    validation_data=(X_test, y_test), \n",
    "    verbose=0)"
   ]
  },
  {
   "cell_type": "code",
   "execution_count": 56,
   "id": "b52c9881",
   "metadata": {},
   "outputs": [],
   "source": [
    "def plot_loss(history, label, n):\n",
    "  # Use a log scale on y-axis to show the wide range of values.\n",
    "  plt.semilogy(history.epoch, history.history['loss'],\n",
    "               color=colors[n], label='Train ' + label)\n",
    "  plt.semilogy(history.epoch, history.history['val_loss'],\n",
    "               color=colors[n], label='Val ' + label,\n",
    "               linestyle=\"--\")\n",
    "  plt.xlabel('Epoch')\n",
    "  plt.ylabel('Loss')"
   ]
  },
  {
   "cell_type": "code",
   "execution_count": 59,
   "id": "354bd329",
   "metadata": {},
   "outputs": [
    {
     "data": {
      "image/png": "[encoded data removed]",
      "text/plain": [
       "<Figure size 864x720 with 1 Axes>"
      ]
     },
     "metadata": {
      "needs_background": "light"
     },
     "output_type": "display_data"
    }
   ],
   "source": [
    "plot_loss(zero_bias_history, \"Zero Bias\", 0)\n",
    "plot_loss(careful_bias_history, \"Careful Bias\", 1)"
   ]
  },
  {
   "cell_type": "code",
   "execution_count": 62,
   "id": "1a479730",
   "metadata": {},
   "outputs": [
    {
     "name": "stdout",
     "output_type": "stream",
     "text": [
      "Epoch 1/100\n",
      "113/113 [==============================] - 27s 226ms/step - loss: 0.6454 - tp: 1139.0000 - fp: 7964.0000 - tn: 727234.0000 - fn: 95190.0000 - accuracy: 0.8759 - precision: 0.1251 - recall: 0.0118 - auc: 0.4939 - prc: 0.1181 - val_loss: 0.3936 - val_tp: 0.0000e+00 - val_fp: 0.0000e+00 - val_tn: 581072.0000 - val_fn: 19266.0000 - val_accuracy: 0.9679 - val_precision: 0.0000e+00 - val_recall: 0.0000e+00 - val_auc: 0.5929 - val_prc: 0.0421\n",
      "Epoch 2/100\n",
      "113/113 [==============================] - 1s 11ms/step - loss: 0.6306 - tp: 2011.0000 - fp: 2502.0000 - tn: 151624.0000 - fn: 75052.0000 - accuracy: 0.6645 - precision: 0.4456 - recall: 0.0261 - auc: 0.5760 - prc: 0.3858 - val_loss: 0.3926 - val_tp: 0.0000e+00 - val_fp: 0.0000e+00 - val_tn: 581072.0000 - val_fn: 19266.0000 - val_accuracy: 0.9679 - val_precision: 0.0000e+00 - val_recall: 0.0000e+00 - val_auc: 0.6073 - val_prc: 0.0444\n",
      "Epoch 3/100\n",
      "113/113 [==============================] - 1s 11ms/step - loss: 0.6268 - tp: 2436.0000 - fp: 2812.0000 - tn: 151314.0000 - fn: 74627.0000 - accuracy: 0.6650 - precision: 0.4642 - recall: 0.0316 - auc: 0.5882 - prc: 0.3975 - val_loss: 0.3974 - val_tp: 0.0000e+00 - val_fp: 3.0000 - val_tn: 581069.0000 - val_fn: 19266.0000 - val_accuracy: 0.9679 - val_precision: 0.0000e+00 - val_recall: 0.0000e+00 - val_auc: 0.6112 - val_prc: 0.0480\n",
      "Epoch 4/100\n",
      "113/113 [==============================] - 1s 11ms/step - loss: 0.6250 - tp: 2979.0000 - fp: 3307.0000 - tn: 150819.0000 - fn: 74084.0000 - accuracy: 0.6652 - precision: 0.4739 - recall: 0.0387 - auc: 0.5934 - prc: 0.4046 - val_loss: 0.4019 - val_tp: 11.0000 - val_fp: 86.0000 - val_tn: 580986.0000 - val_fn: 19255.0000 - val_accuracy: 0.9678 - val_precision: 0.1134 - val_recall: 5.7095e-04 - val_auc: 0.6117 - val_prc: 0.0483\n",
      "Epoch 5/100\n",
      "113/113 [==============================] - 1s 11ms/step - loss: 0.6237 - tp: 3279.0000 - fp: 3431.0000 - tn: 150695.0000 - fn: 73784.0000 - accuracy: 0.6660 - precision: 0.4887 - recall: 0.0425 - auc: 0.5970 - prc: 0.4095 - val_loss: 0.4034 - val_tp: 19.0000 - val_fp: 141.0000 - val_tn: 580931.0000 - val_fn: 19247.0000 - val_accuracy: 0.9677 - val_precision: 0.1187 - val_recall: 9.8619e-04 - val_auc: 0.6117 - val_prc: 0.0485\n",
      "Epoch 6/100\n",
      "113/113 [==============================] - 1s 12ms/step - loss: 0.6231 - tp: 3304.0000 - fp: 3349.0000 - tn: 150777.0000 - fn: 73759.0000 - accuracy: 0.6665 - precision: 0.4966 - recall: 0.0429 - auc: 0.5986 - prc: 0.4120 - val_loss: 0.4052 - val_tp: 22.0000 - val_fp: 163.0000 - val_tn: 580909.0000 - val_fn: 19244.0000 - val_accuracy: 0.9677 - val_precision: 0.1189 - val_recall: 0.0011 - val_auc: 0.6120 - val_prc: 0.0488\n",
      "Epoch 7/100\n",
      "113/113 [==============================] - 1s 11ms/step - loss: 0.6221 - tp: 3531.0000 - fp: 3489.0000 - tn: 150637.0000 - fn: 73532.0000 - accuracy: 0.6668 - precision: 0.5030 - recall: 0.0458 - auc: 0.6021 - prc: 0.4156 - val_loss: 0.4062 - val_tp: 29.0000 - val_fp: 180.0000 - val_tn: 580892.0000 - val_fn: 19237.0000 - val_accuracy: 0.9677 - val_precision: 0.1388 - val_recall: 0.0015 - val_auc: 0.6119 - val_prc: 0.0491\n",
      "Epoch 8/100\n",
      "113/113 [==============================] - 1s 11ms/step - loss: 0.6222 - tp: 3540.0000 - fp: 3425.0000 - tn: 150701.0000 - fn: 73523.0000 - accuracy: 0.6672 - precision: 0.5083 - recall: 0.0459 - auc: 0.6023 - prc: 0.4156 - val_loss: 0.4086 - val_tp: 29.0000 - val_fp: 191.0000 - val_tn: 580881.0000 - val_fn: 19237.0000 - val_accuracy: 0.9676 - val_precision: 0.1318 - val_recall: 0.0015 - val_auc: 0.6121 - val_prc: 0.0492\n",
      "Epoch 9/100\n",
      "113/113 [==============================] - 1s 11ms/step - loss: 0.6218 - tp: 3488.0000 - fp: 3356.0000 - tn: 150770.0000 - fn: 73575.0000 - accuracy: 0.6672 - precision: 0.5096 - recall: 0.0453 - auc: 0.6030 - prc: 0.4179 - val_loss: 0.4119 - val_tp: 469.0000 - val_fp: 4185.0000 - val_tn: 576887.0000 - val_fn: 18797.0000 - val_accuracy: 0.9617 - val_precision: 0.1008 - val_recall: 0.0243 - val_auc: 0.6122 - val_prc: 0.0493\n",
      "Epoch 10/100\n",
      "113/113 [==============================] - 1s 12ms/step - loss: 0.6217 - tp: 3867.0000 - fp: 3642.0000 - tn: 150484.0000 - fn: 73196.0000 - accuracy: 0.6676 - precision: 0.5150 - recall: 0.0502 - auc: 0.6036 - prc: 0.4196 - val_loss: 0.4138 - val_tp: 487.0000 - val_fp: 4419.0000 - val_tn: 576653.0000 - val_fn: 18779.0000 - val_accuracy: 0.9614 - val_precision: 0.0993 - val_recall: 0.0253 - val_auc: 0.6122 - val_prc: 0.0493\n",
      "Epoch 11/100\n",
      "113/113 [==============================] - 1s 11ms/step - loss: 0.6214 - tp: 4281.0000 - fp: 3933.0000 - tn: 150193.0000 - fn: 72782.0000 - accuracy: 0.6682 - precision: 0.5212 - recall: 0.0556 - auc: 0.6047 - prc: 0.4213 - val_loss: 0.4124 - val_tp: 497.0000 - val_fp: 4685.0000 - val_tn: 576387.0000 - val_fn: 18769.0000 - val_accuracy: 0.9609 - val_precision: 0.0959 - val_recall: 0.0258 - val_auc: 0.6122 - val_prc: 0.0493\n",
      "Epoch 12/100\n",
      "113/113 [==============================] - 1s 11ms/step - loss: 0.6214 - tp: 4060.0000 - fp: 3811.0000 - tn: 150315.0000 - fn: 73003.0000 - accuracy: 0.6677 - precision: 0.5158 - recall: 0.0527 - auc: 0.6055 - prc: 0.4215 - val_loss: 0.4167 - val_tp: 785.0000 - val_fp: 7605.0000 - val_tn: 573467.0000 - val_fn: 18481.0000 - val_accuracy: 0.9565 - val_precision: 0.0936 - val_recall: 0.0407 - val_auc: 0.6127 - val_prc: 0.0494\n",
      "Epoch 13/100\n",
      "113/113 [==============================] - 1s 12ms/step - loss: 0.6216 - tp: 3984.0000 - fp: 3831.0000 - tn: 150295.0000 - fn: 73079.0000 - accuracy: 0.6673 - precision: 0.5098 - recall: 0.0517 - auc: 0.6050 - prc: 0.4206 - val_loss: 0.4172 - val_tp: 785.0000 - val_fp: 7605.0000 - val_tn: 573467.0000 - val_fn: 18481.0000 - val_accuracy: 0.9565 - val_precision: 0.0936 - val_recall: 0.0407 - val_auc: 0.6123 - val_prc: 0.0494\n",
      "Epoch 14/100\n",
      "113/113 [==============================] - 1s 11ms/step - loss: 0.6210 - tp: 4461.0000 - fp: 4199.0000 - tn: 149927.0000 - fn: 72602.0000 - accuracy: 0.6678 - precision: 0.5151 - recall: 0.0579 - auc: 0.6068 - prc: 0.4233 - val_loss: 0.4137 - val_tp: 785.0000 - val_fp: 7605.0000 - val_tn: 573467.0000 - val_fn: 18481.0000 - val_accuracy: 0.9565 - val_precision: 0.0936 - val_recall: 0.0407 - val_auc: 0.6123 - val_prc: 0.0495\n",
      "Epoch 15/100\n",
      "113/113 [==============================] - 1s 11ms/step - loss: 0.6213 - tp: 4240.0000 - fp: 3927.0000 - tn: 150199.0000 - fn: 72823.0000 - accuracy: 0.6680 - precision: 0.5192 - recall: 0.0550 - auc: 0.6056 - prc: 0.4220 - val_loss: 0.4145 - val_tp: 741.0000 - val_fp: 7092.0000 - val_tn: 573980.0000 - val_fn: 18525.0000 - val_accuracy: 0.9573 - val_precision: 0.0946 - val_recall: 0.0385 - val_auc: 0.6129 - val_prc: 0.0496\n",
      "Epoch 16/100\n",
      "113/113 [==============================] - 1s 11ms/step - loss: 0.6212 - tp: 4298.0000 - fp: 3986.0000 - tn: 150140.0000 - fn: 72765.0000 - accuracy: 0.6680 - precision: 0.5188 - recall: 0.0558 - auc: 0.6066 - prc: 0.4230 - val_loss: 0.4112 - val_tp: 741.0000 - val_fp: 7092.0000 - val_tn: 573980.0000 - val_fn: 18525.0000 - val_accuracy: 0.9573 - val_precision: 0.0946 - val_recall: 0.0385 - val_auc: 0.6121 - val_prc: 0.0495\n",
      "Epoch 17/100\n",
      "113/113 [==============================] - 1s 12ms/step - loss: 0.6209 - tp: 4236.0000 - fp: 3921.0000 - tn: 150205.0000 - fn: 72827.0000 - accuracy: 0.6680 - precision: 0.5193 - recall: 0.0550 - auc: 0.6075 - prc: 0.4242 - val_loss: 0.4141 - val_tp: 760.0000 - val_fp: 7269.0000 - val_tn: 573803.0000 - val_fn: 18506.0000 - val_accuracy: 0.9571 - val_precision: 0.0947 - val_recall: 0.0394 - val_auc: 0.6125 - val_prc: 0.0495\n",
      "Epoch 18/100\n",
      "113/113 [==============================] - 1s 11ms/step - loss: 0.6208 - tp: 4307.0000 - fp: 4172.0000 - tn: 149954.0000 - fn: 72756.0000 - accuracy: 0.6673 - precision: 0.5080 - recall: 0.0559 - auc: 0.6083 - prc: 0.4238 - val_loss: 0.4165 - val_tp: 760.0000 - val_fp: 7270.0000 - val_tn: 573802.0000 - val_fn: 18506.0000 - val_accuracy: 0.9571 - val_precision: 0.0946 - val_recall: 0.0394 - val_auc: 0.6128 - val_prc: 0.0495\n",
      "Epoch 19/100\n",
      "113/113 [==============================] - 1s 11ms/step - loss: 0.6207 - tp: 4565.0000 - fp: 4201.0000 - tn: 149925.0000 - fn: 72498.0000 - accuracy: 0.6682 - precision: 0.5208 - recall: 0.0592 - auc: 0.6077 - prc: 0.4254 - val_loss: 0.4182 - val_tp: 760.0000 - val_fp: 7270.0000 - val_tn: 573802.0000 - val_fn: 18506.0000 - val_accuracy: 0.9571 - val_precision: 0.0946 - val_recall: 0.0394 - val_auc: 0.6129 - val_prc: 0.0495\n"
     ]
    },
    {
     "name": "stdout",
     "output_type": "stream",
     "text": [
      "Epoch 20/100\n",
      "113/113 [==============================] - 1s 11ms/step - loss: 0.6205 - tp: 4941.0000 - fp: 4567.0000 - tn: 149559.0000 - fn: 72122.0000 - accuracy: 0.6683 - precision: 0.5197 - recall: 0.0641 - auc: 0.6081 - prc: 0.4254 - val_loss: 0.4157 - val_tp: 760.0000 - val_fp: 7270.0000 - val_tn: 573802.0000 - val_fn: 18506.0000 - val_accuracy: 0.9571 - val_precision: 0.0946 - val_recall: 0.0394 - val_auc: 0.6129 - val_prc: 0.0495\n",
      "Epoch 21/100\n",
      "113/113 [==============================] - 1s 12ms/step - loss: 0.6209 - tp: 4296.0000 - fp: 3925.0000 - tn: 150201.0000 - fn: 72767.0000 - accuracy: 0.6683 - precision: 0.5226 - recall: 0.0557 - auc: 0.6082 - prc: 0.4244 - val_loss: 0.4172 - val_tp: 760.0000 - val_fp: 7270.0000 - val_tn: 573802.0000 - val_fn: 18506.0000 - val_accuracy: 0.9571 - val_precision: 0.0946 - val_recall: 0.0394 - val_auc: 0.6128 - val_prc: 0.0495\n",
      "Epoch 22/100\n",
      "113/113 [==============================] - 1s 11ms/step - loss: 0.6208 - tp: 4643.0000 - fp: 4271.0000 - tn: 149855.0000 - fn: 72420.0000 - accuracy: 0.6683 - precision: 0.5209 - recall: 0.0602 - auc: 0.6078 - prc: 0.4255 - val_loss: 0.4154 - val_tp: 760.0000 - val_fp: 7270.0000 - val_tn: 573802.0000 - val_fn: 18506.0000 - val_accuracy: 0.9571 - val_precision: 0.0946 - val_recall: 0.0394 - val_auc: 0.6128 - val_prc: 0.0495\n",
      "Epoch 23/100\n",
      "113/113 [==============================] - 1s 11ms/step - loss: 0.6209 - tp: 4435.0000 - fp: 4083.0000 - tn: 150043.0000 - fn: 72628.0000 - accuracy: 0.6682 - precision: 0.5207 - recall: 0.0576 - auc: 0.6074 - prc: 0.4249 - val_loss: 0.4141 - val_tp: 760.0000 - val_fp: 7270.0000 - val_tn: 573802.0000 - val_fn: 18506.0000 - val_accuracy: 0.9571 - val_precision: 0.0946 - val_recall: 0.0394 - val_auc: 0.6129 - val_prc: 0.0495\n",
      "Epoch 24/100\n",
      "113/113 [==============================] - 1s 11ms/step - loss: 0.6208 - tp: 3961.0000 - fp: 3553.0000 - tn: 150573.0000 - fn: 73102.0000 - accuracy: 0.6684 - precision: 0.5271 - recall: 0.0514 - auc: 0.6077 - prc: 0.4251 - val_loss: 0.4167 - val_tp: 760.0000 - val_fp: 7270.0000 - val_tn: 573802.0000 - val_fn: 18506.0000 - val_accuracy: 0.9571 - val_precision: 0.0946 - val_recall: 0.0394 - val_auc: 0.6129 - val_prc: 0.0495\n",
      "Epoch 25/100\n",
      "105/113 [==========================>...] - ETA: 0s - loss: 0.6209 - tp: 4079.0000 - fp: 3838.0000 - tn: 139539.0000 - fn: 67584.0000 - accuracy: 0.6679 - precision: 0.5152 - recall: 0.0569 - auc: 0.6085 - prc: 0.4250Restoring model weights from the end of the best epoch: 15.\n",
      "113/113 [==============================] - 1s 11ms/step - loss: 0.6209 - tp: 4428.0000 - fp: 4188.0000 - tn: 149938.0000 - fn: 72635.0000 - accuracy: 0.6677 - precision: 0.5139 - recall: 0.0575 - auc: 0.6083 - prc: 0.4250 - val_loss: 0.4186 - val_tp: 760.0000 - val_fp: 7270.0000 - val_tn: 573802.0000 - val_fn: 18506.0000 - val_accuracy: 0.9571 - val_precision: 0.0946 - val_recall: 0.0394 - val_auc: 0.6129 - val_prc: 0.0494\n",
      "Epoch 25: early stopping\n"
     ]
    }
   ],
   "source": [
    "model = make_model()\n",
    "model.load_weights(initial_weights)\n",
    "baseline_history = model.fit(\n",
    "    X_train,\n",
    "    y_train,\n",
    "    batch_size=BATCH_SIZE,\n",
    "    epochs=EPOCHS,\n",
    "    callbacks=[early_stopping],\n",
    "    validation_data=(X_test, y_test))"
   ]
  },
  {
   "cell_type": "code",
   "execution_count": null,
   "id": "157fe2fb",
   "metadata": {},
   "outputs": [],
   "source": []
  },
  {
   "cell_type": "markdown",
   "id": "94f2a4bc",
   "metadata": {},
   "source": [
    "## I will try this tutorial   \n",
    "\n",
    "# https://www.tensorflow.org/tutorials/structured_data/preprocessing_layers"
   ]
  },
  {
   "cell_type": "code",
   "execution_count": 74,
   "id": "ce739a18",
   "metadata": {},
   "outputs": [],
   "source": [
    "train, val, test = np.split(data.sample(frac=1), [int(0.8*len(data)), int(0.9*len(data))])"
   ]
  },
  {
   "cell_type": "code",
   "execution_count": 75,
   "id": "89bb90de",
   "metadata": {},
   "outputs": [
    {
     "name": "stdout",
     "output_type": "stream",
     "text": [
      "2401352 training examples\n",
      "300169 validation examples\n",
      "300169 test examples\n"
     ]
    }
   ],
   "source": [
    "print(len(train), 'training examples')\n",
    "print(len(val), 'validation examples')\n",
    "print(len(test), 'test examples')"
   ]
  },
  {
   "cell_type": "code",
   "execution_count": 83,
   "id": "6e97e5e4",
   "metadata": {},
   "outputs": [],
   "source": [
    "def df_to_dataset(data, shuffle=True, batch_size=32):\n",
    "  df = data.copy()\n",
    "  labels = df.pop('label')\n",
    "  df = {key: value[:,tf.newaxis] for key, value in data.items()}\n",
    "  ds = tf.data.Dataset.from_tensor_slices((dict(df), labels))\n",
    "  if shuffle:\n",
    "    ds = ds.shuffle(buffer_size=len(data))\n",
    "  ds = ds.batch(batch_size)\n",
    "  ds = ds.prefetch(batch_size)\n",
    "  return ds"
   ]
  },
  {
   "cell_type": "code",
   "execution_count": 98,
   "id": "42b44e88",
   "metadata": {},
   "outputs": [
    {
     "name": "stderr",
     "output_type": "stream",
     "text": [
      "/data/p_dsi/envs/neuro501/lib/python3.7/site-packages/ipykernel_launcher.py:4: FutureWarning: Support for multi-dimensional indexing (e.g. `obj[:, None]`) is deprecated and will be removed in a future version.  Convert to a numpy array before indexing instead.\n",
      "  after removing the cwd from sys.path.\n"
     ]
    }
   ],
   "source": [
    "batch_size = 5\n",
    "train_ds = df_to_dataset(train, batch_size=batch_size)\n"
   ]
  },
  {
   "cell_type": "code",
   "execution_count": 99,
   "id": "6b70e038",
   "metadata": {},
   "outputs": [
    {
     "name": "stderr",
     "output_type": "stream",
     "text": [
      "/data/p_dsi/envs/neuro501/lib/python3.7/site-packages/ipykernel_launcher.py:4: FutureWarning: Support for multi-dimensional indexing (e.g. `obj[:, None]`) is deprecated and will be removed in a future version.  Convert to a numpy array before indexing instead.\n",
      "  after removing the cwd from sys.path.\n"
     ]
    }
   ],
   "source": [
    "val_ds = df_to_dataset(val, batch_size=batch_size)"
   ]
  },
  {
   "cell_type": "code",
   "execution_count": 100,
   "id": "87c43389",
   "metadata": {},
   "outputs": [
    {
     "name": "stdout",
     "output_type": "stream",
     "text": [
      "Every feature: ['indiv', 'label', 'cust_in_top_10_sales', 'store_top_tran', 'store_top_tires_tran', 'vehicle_tire_svc', 'vhc_tire_purchase', 'vhc_early_tire_purchase', 'top_cust_overall', 'top_cust_tire_purch', 'indiv_make_tire_pch', 'make_prop_tire', 'MODEL_prop_tire', 'SUB_MODEL_prop_tire']\n",
      "A batch of targets: tf.Tensor([0 0 0 0 0], shape=(5,), dtype=int64)\n"
     ]
    }
   ],
   "source": [
    "[(train_features, label_batch)] = train_ds.take(1)\n",
    "print('Every feature:', list(train_features.keys()))\n",
    "# print('A batch of ages:', train_features['Age'])\n",
    "print('A batch of targets:', label_batch )"
   ]
  },
  {
   "cell_type": "code",
   "execution_count": 101,
   "id": "dd95bc52",
   "metadata": {},
   "outputs": [],
   "source": [
    "model = keras.Sequential([\n",
    "      keras.layers.Dense(\n",
    "          32, activation='relu',\n",
    "          input_shape=(12,)),\n",
    "      keras.layers.Dropout(0.5),\n",
    "      keras.layers.Dense(1, activation='sigmoid'),\n",
    "  ])\n",
    "\n",
    "model.compile(\n",
    "      optimizer=keras.optimizers.Adam(learning_rate=1e-3),\n",
    "      loss=keras.losses.BinaryCrossentropy(),\n",
    "      metrics='precision')\n"
   ]
  },
  {
   "cell_type": "code",
   "execution_count": 106,
   "id": "8b02660d",
   "metadata": {},
   "outputs": [
    {
     "name": "stdout",
     "output_type": "stream",
     "text": [
      "Collecting tensorflow-gpu\n",
      "  Downloading tensorflow_gpu-2.8.0-cp37-cp37m-manylinux2010_x86_64.whl (497.5 MB)\n",
      "\u001b[K     |████████████████████████████████| 497.5 MB 5.5 kB/s  eta 0:00:01     |████████████▌                   | 194.7 MB 23.6 MB/s eta 0:00:13     |██████████████████▉             | 292.0 MB 29.3 MB/s eta 0:00:08     |███████████████████▋            | 304.6 MB 23.2 MB/s eta 0:00:09     |█████████████████████▎          | 331.5 MB 23.2 MB/s eta 0:00:08     |████████████████████████▍       | 380.0 MB 21.8 MB/s eta 0:00:06     |███████████████████████████▊    | 431.2 MB 28.2 MB/s eta 0:00:03     |█████████████████████████████▍  | 457.3 MB 18.5 MB/s eta 0:00:03     |████████████████████████████████| 496.1 MB 15.8 MB/s eta 0:00:01\n",
      "\u001b[?25hRequirement already satisfied: keras-preprocessing>=1.1.1 in /gpfs52/data/p_dsi/envs/neuro501/lib/python3.7/site-packages (from tensorflow-gpu) (1.1.2)\n",
      "Requirement already satisfied: tensorboard<2.9,>=2.8 in /gpfs52/data/p_dsi/envs/neuro501/lib/python3.7/site-packages (from tensorflow-gpu) (2.8.0)\n",
      "Requirement already satisfied: termcolor>=1.1.0 in /gpfs52/data/p_dsi/envs/neuro501/lib/python3.7/site-packages (from tensorflow-gpu) (1.1.0)\n",
      "Requirement already satisfied: flatbuffers>=1.12 in /gpfs52/data/p_dsi/envs/neuro501/lib/python3.7/site-packages (from tensorflow-gpu) (2.0)\n",
      "Requirement already satisfied: gast>=0.2.1 in /gpfs52/data/p_dsi/envs/neuro501/lib/python3.7/site-packages (from tensorflow-gpu) (0.5.3)\n",
      "Requirement already satisfied: grpcio<2.0,>=1.24.3 in /gpfs52/data/p_dsi/envs/neuro501/lib/python3.7/site-packages (from tensorflow-gpu) (1.42.0)\n",
      "Requirement already satisfied: h5py>=2.9.0 in /gpfs52/data/p_dsi/envs/neuro501/lib/python3.7/site-packages (from tensorflow-gpu) (3.6.0)\n",
      "Requirement already satisfied: tf-estimator-nightly==2.8.0.dev2021122109 in /gpfs52/data/p_dsi/envs/neuro501/lib/python3.7/site-packages (from tensorflow-gpu) (2.8.0.dev2021122109)\n",
      "Requirement already satisfied: astunparse>=1.6.0 in /gpfs52/data/p_dsi/envs/neuro501/lib/python3.7/site-packages (from tensorflow-gpu) (1.6.3)\n",
      "Requirement already satisfied: keras<2.9,>=2.8.0rc0 in /gpfs52/data/p_dsi/envs/neuro501/lib/python3.7/site-packages (from tensorflow-gpu) (2.8.0)\n",
      "Requirement already satisfied: opt-einsum>=2.3.2 in /gpfs52/data/p_dsi/envs/neuro501/lib/python3.7/site-packages (from tensorflow-gpu) (3.3.0)\n",
      "Requirement already satisfied: setuptools in /gpfs52/data/p_dsi/envs/neuro501/lib/python3.7/site-packages (from tensorflow-gpu) (52.0.0.post20210125)\n",
      "Requirement already satisfied: typing-extensions>=3.6.6 in /gpfs52/data/p_dsi/envs/neuro501/lib/python3.7/site-packages (from tensorflow-gpu) (3.7.4.3)\n",
      "Requirement already satisfied: google-pasta>=0.1.1 in /gpfs52/data/p_dsi/envs/neuro501/lib/python3.7/site-packages (from tensorflow-gpu) (0.2.0)\n",
      "Requirement already satisfied: numpy>=1.20 in /gpfs52/data/p_dsi/envs/neuro501/lib/python3.7/site-packages (from tensorflow-gpu) (1.21.6)\n",
      "Requirement already satisfied: wrapt>=1.11.0 in /gpfs52/data/p_dsi/envs/neuro501/lib/python3.7/site-packages (from tensorflow-gpu) (1.12.1)\n",
      "Requirement already satisfied: libclang>=9.0.1 in /gpfs52/data/p_dsi/envs/neuro501/lib/python3.7/site-packages (from tensorflow-gpu) (14.0.1)\n",
      "Requirement already satisfied: absl-py>=0.4.0 in /gpfs52/data/p_dsi/envs/neuro501/lib/python3.7/site-packages (from tensorflow-gpu) (1.0.0)\n",
      "Requirement already satisfied: six>=1.12.0 in /gpfs52/data/p_dsi/envs/neuro501/lib/python3.7/site-packages (from tensorflow-gpu) (1.15.0)\n",
      "Requirement already satisfied: tensorflow-io-gcs-filesystem>=0.23.1 in /gpfs52/data/p_dsi/envs/neuro501/lib/python3.7/site-packages (from tensorflow-gpu) (0.25.0)\n",
      "Requirement already satisfied: protobuf>=3.9.2 in /gpfs52/data/p_dsi/envs/neuro501/lib/python3.7/site-packages (from tensorflow-gpu) (3.14.0)\n",
      "Requirement already satisfied: wheel<1.0,>=0.23.0 in /gpfs52/data/p_dsi/envs/neuro501/lib/python3.7/site-packages (from astunparse>=1.6.0->tensorflow-gpu) (0.36.2)\n",
      "Requirement already satisfied: cached-property in /gpfs52/data/p_dsi/envs/neuro501/lib/python3.7/site-packages (from h5py>=2.9.0->tensorflow-gpu) (1.5.2)\n",
      "Requirement already satisfied: werkzeug>=0.11.15 in /gpfs52/data/p_dsi/envs/neuro501/lib/python3.7/site-packages (from tensorboard<2.9,>=2.8->tensorflow-gpu) (2.0.2)\n",
      "Requirement already satisfied: google-auth<3,>=1.6.3 in /gpfs52/data/p_dsi/envs/neuro501/lib/python3.7/site-packages (from tensorboard<2.9,>=2.8->tensorflow-gpu) (2.3.3)\n",
      "Requirement already satisfied: markdown>=2.6.8 in /gpfs52/data/p_dsi/envs/neuro501/lib/python3.7/site-packages (from tensorboard<2.9,>=2.8->tensorflow-gpu) (3.3.6)\n",
      "Requirement already satisfied: tensorboard-plugin-wit>=1.6.0 in /gpfs52/data/p_dsi/envs/neuro501/lib/python3.7/site-packages (from tensorboard<2.9,>=2.8->tensorflow-gpu) (1.8.0)\n",
      "Requirement already satisfied: google-auth-oauthlib<0.5,>=0.4.1 in /gpfs52/data/p_dsi/envs/neuro501/lib/python3.7/site-packages (from tensorboard<2.9,>=2.8->tensorflow-gpu) (0.4.6)\n",
      "Requirement already satisfied: requests<3,>=2.21.0 in /gpfs52/data/p_dsi/envs/neuro501/lib/python3.7/site-packages (from tensorboard<2.9,>=2.8->tensorflow-gpu) (2.25.1)\n",
      "Requirement already satisfied: tensorboard-data-server<0.7.0,>=0.6.0 in /gpfs52/data/p_dsi/envs/neuro501/lib/python3.7/site-packages (from tensorboard<2.9,>=2.8->tensorflow-gpu) (0.6.1)\n",
      "Requirement already satisfied: cachetools<5.0,>=2.0.0 in /gpfs52/data/p_dsi/envs/neuro501/lib/python3.7/site-packages (from google-auth<3,>=1.6.3->tensorboard<2.9,>=2.8->tensorflow-gpu) (4.2.4)\n",
      "Requirement already satisfied: pyasn1-modules>=0.2.1 in /gpfs52/data/p_dsi/envs/neuro501/lib/python3.7/site-packages (from google-auth<3,>=1.6.3->tensorboard<2.9,>=2.8->tensorflow-gpu) (0.2.8)\n",
      "Requirement already satisfied: rsa<5,>=3.1.4 in /gpfs52/data/p_dsi/envs/neuro501/lib/python3.7/site-packages (from google-auth<3,>=1.6.3->tensorboard<2.9,>=2.8->tensorflow-gpu) (4.8)\n",
      "Requirement already satisfied: requests-oauthlib>=0.7.0 in /gpfs52/data/p_dsi/envs/neuro501/lib/python3.7/site-packages (from google-auth-oauthlib<0.5,>=0.4.1->tensorboard<2.9,>=2.8->tensorflow-gpu) (1.3.0)\n",
      "Requirement already satisfied: importlib-metadata>=4.4 in /gpfs52/data/p_dsi/envs/neuro501/lib/python3.7/site-packages (from markdown>=2.6.8->tensorboard<2.9,>=2.8->tensorflow-gpu) (4.8.2)\n",
      "Requirement already satisfied: zipp>=0.5 in /gpfs52/data/p_dsi/envs/neuro501/lib/python3.7/site-packages (from importlib-metadata>=4.4->markdown>=2.6.8->tensorboard<2.9,>=2.8->tensorflow-gpu) (3.4.1)\n",
      "Requirement already satisfied: pyasn1<0.5.0,>=0.4.6 in /gpfs52/data/p_dsi/envs/neuro501/lib/python3.7/site-packages (from pyasn1-modules>=0.2.1->google-auth<3,>=1.6.3->tensorboard<2.9,>=2.8->tensorflow-gpu) (0.4.8)\n",
      "Requirement already satisfied: urllib3<1.27,>=1.21.1 in /gpfs52/data/p_dsi/envs/neuro501/lib/python3.7/site-packages (from requests<3,>=2.21.0->tensorboard<2.9,>=2.8->tensorflow-gpu) (1.26.4)\n",
      "Requirement already satisfied: certifi>=2017.4.17 in /gpfs52/data/p_dsi/envs/neuro501/lib/python3.7/site-packages (from requests<3,>=2.21.0->tensorboard<2.9,>=2.8->tensorflow-gpu) (2020.12.5)\n",
      "Requirement already satisfied: idna<3,>=2.5 in /gpfs52/data/p_dsi/envs/neuro501/lib/python3.7/site-packages (from requests<3,>=2.21.0->tensorboard<2.9,>=2.8->tensorflow-gpu) (2.10)\n",
      "Requirement already satisfied: chardet<5,>=3.0.2 in /gpfs52/data/p_dsi/envs/neuro501/lib/python3.7/site-packages (from requests<3,>=2.21.0->tensorboard<2.9,>=2.8->tensorflow-gpu) (4.0.0)\n",
      "Requirement already satisfied: oauthlib>=3.0.0 in /gpfs52/data/p_dsi/envs/neuro501/lib/python3.7/site-packages (from requests-oauthlib>=0.7.0->google-auth-oauthlib<0.5,>=0.4.1->tensorboard<2.9,>=2.8->tensorflow-gpu) (3.1.1)\n",
      "Installing collected packages: tensorflow-gpu\n",
      "Successfully installed tensorflow-gpu-2.8.0\n"
     ]
    }
   ],
   "source": [
    "!pip install tensorflow-gpu"
   ]
  },
  {
   "cell_type": "code",
   "execution_count": 105,
   "id": "7115f64c",
   "metadata": {},
   "outputs": [
    {
     "ename": "ValueError",
     "evalue": "in user code:\n\n    File \"/data/p_dsi/envs/neuro501/lib/python3.7/site-packages/keras/engine/training.py\", line 1021, in train_function  *\n        return step_function(self, iterator)\n    File \"/data/p_dsi/envs/neuro501/lib/python3.7/site-packages/keras/engine/training.py\", line 1010, in step_function  **\n        outputs = model.distribute_strategy.run(run_step, args=(data,))\n    File \"/data/p_dsi/envs/neuro501/lib/python3.7/site-packages/keras/engine/training.py\", line 1000, in run_step  **\n        outputs = model.train_step(data)\n    File \"/data/p_dsi/envs/neuro501/lib/python3.7/site-packages/keras/engine/training.py\", line 859, in train_step\n        y_pred = self(x, training=True)\n    File \"/data/p_dsi/envs/neuro501/lib/python3.7/site-packages/keras/utils/traceback_utils.py\", line 67, in error_handler\n        raise e.with_traceback(filtered_tb) from None\n    File \"/data/p_dsi/envs/neuro501/lib/python3.7/site-packages/keras/engine/input_spec.py\", line 183, in assert_input_compatibility\n        raise ValueError(f'Missing data for input \"{name}\". '\n\n    ValueError: Missing data for input \"dense_46_input\". You passed a data dictionary with keys ['MODEL_prop_tire', 'SUB_MODEL_prop_tire', 'cust_in_top_10_sales', 'indiv', 'indiv_make_tire_pch', 'label', 'make_prop_tire', 'store_top_tires_tran', 'store_top_tran', 'top_cust_overall', 'top_cust_tire_purch', 'vehicle_tire_svc', 'vhc_early_tire_purchase', 'vhc_tire_purchase']. Expected the following keys: ['dense_46_input']\n",
     "output_type": "error",
     "traceback": [
      "\u001b[0;31m---------------------------------------------------------------------------\u001b[0m",
      "\u001b[0;31mValueError\u001b[0m                                Traceback (most recent call last)",
      "\u001b[0;32m<ipython-input-105-cd89f071ccb3>\u001b[0m in \u001b[0;36m<module>\u001b[0;34m\u001b[0m\n\u001b[1;32m      6\u001b[0m     \u001b[0mepochs\u001b[0m \u001b[0;34m=\u001b[0m \u001b[0;36m1\u001b[0m\u001b[0;34m,\u001b[0m\u001b[0;34m\u001b[0m\u001b[0;34m\u001b[0m\u001b[0m\n\u001b[1;32m      7\u001b[0m     \u001b[0mvalidation_data\u001b[0m\u001b[0;34m=\u001b[0m\u001b[0mval_ds\u001b[0m\u001b[0;34m,\u001b[0m\u001b[0;34m\u001b[0m\u001b[0;34m\u001b[0m\u001b[0m\n\u001b[0;32m----> 8\u001b[0;31m     verbose=0)\n\u001b[0m",
      "\u001b[0;32m/data/p_dsi/envs/neuro501/lib/python3.7/site-packages/keras/utils/traceback_utils.py\u001b[0m in \u001b[0;36merror_handler\u001b[0;34m(*args, **kwargs)\u001b[0m\n\u001b[1;32m     65\u001b[0m     \u001b[0;32mexcept\u001b[0m \u001b[0mException\u001b[0m \u001b[0;32mas\u001b[0m \u001b[0me\u001b[0m\u001b[0;34m:\u001b[0m  \u001b[0;31m# pylint: disable=broad-except\u001b[0m\u001b[0;34m\u001b[0m\u001b[0;34m\u001b[0m\u001b[0m\n\u001b[1;32m     66\u001b[0m       \u001b[0mfiltered_tb\u001b[0m \u001b[0;34m=\u001b[0m \u001b[0m_process_traceback_frames\u001b[0m\u001b[0;34m(\u001b[0m\u001b[0me\u001b[0m\u001b[0;34m.\u001b[0m\u001b[0m__traceback__\u001b[0m\u001b[0;34m)\u001b[0m\u001b[0;34m\u001b[0m\u001b[0;34m\u001b[0m\u001b[0m\n\u001b[0;32m---> 67\u001b[0;31m       \u001b[0;32mraise\u001b[0m \u001b[0me\u001b[0m\u001b[0;34m.\u001b[0m\u001b[0mwith_traceback\u001b[0m\u001b[0;34m(\u001b[0m\u001b[0mfiltered_tb\u001b[0m\u001b[0;34m)\u001b[0m \u001b[0;32mfrom\u001b[0m \u001b[0;32mNone\u001b[0m\u001b[0;34m\u001b[0m\u001b[0;34m\u001b[0m\u001b[0m\n\u001b[0m\u001b[1;32m     68\u001b[0m     \u001b[0;32mfinally\u001b[0m\u001b[0;34m:\u001b[0m\u001b[0;34m\u001b[0m\u001b[0;34m\u001b[0m\u001b[0m\n\u001b[1;32m     69\u001b[0m       \u001b[0;32mdel\u001b[0m \u001b[0mfiltered_tb\u001b[0m\u001b[0;34m\u001b[0m\u001b[0;34m\u001b[0m\u001b[0m\n",
      "\u001b[0;32m/data/p_dsi/envs/neuro501/lib/python3.7/site-packages/tensorflow/python/framework/func_graph.py\u001b[0m in \u001b[0;36mautograph_handler\u001b[0;34m(*args, **kwargs)\u001b[0m\n\u001b[1;32m   1145\u001b[0m           \u001b[0;32mexcept\u001b[0m \u001b[0mException\u001b[0m \u001b[0;32mas\u001b[0m \u001b[0me\u001b[0m\u001b[0;34m:\u001b[0m  \u001b[0;31m# pylint:disable=broad-except\u001b[0m\u001b[0;34m\u001b[0m\u001b[0;34m\u001b[0m\u001b[0m\n\u001b[1;32m   1146\u001b[0m             \u001b[0;32mif\u001b[0m \u001b[0mhasattr\u001b[0m\u001b[0;34m(\u001b[0m\u001b[0me\u001b[0m\u001b[0;34m,\u001b[0m \u001b[0;34m\"ag_error_metadata\"\u001b[0m\u001b[0;34m)\u001b[0m\u001b[0;34m:\u001b[0m\u001b[0;34m\u001b[0m\u001b[0;34m\u001b[0m\u001b[0m\n\u001b[0;32m-> 1147\u001b[0;31m               \u001b[0;32mraise\u001b[0m \u001b[0me\u001b[0m\u001b[0;34m.\u001b[0m\u001b[0mag_error_metadata\u001b[0m\u001b[0;34m.\u001b[0m\u001b[0mto_exception\u001b[0m\u001b[0;34m(\u001b[0m\u001b[0me\u001b[0m\u001b[0;34m)\u001b[0m\u001b[0;34m\u001b[0m\u001b[0;34m\u001b[0m\u001b[0m\n\u001b[0m\u001b[1;32m   1148\u001b[0m             \u001b[0;32melse\u001b[0m\u001b[0;34m:\u001b[0m\u001b[0;34m\u001b[0m\u001b[0;34m\u001b[0m\u001b[0m\n\u001b[1;32m   1149\u001b[0m               \u001b[0;32mraise\u001b[0m\u001b[0;34m\u001b[0m\u001b[0;34m\u001b[0m\u001b[0m\n",
      "\u001b[0;31mValueError\u001b[0m: in user code:\n\n    File \"/data/p_dsi/envs/neuro501/lib/python3.7/site-packages/keras/engine/training.py\", line 1021, in train_function  *\n        return step_function(self, iterator)\n    File \"/data/p_dsi/envs/neuro501/lib/python3.7/site-packages/keras/engine/training.py\", line 1010, in step_function  **\n        outputs = model.distribute_strategy.run(run_step, args=(data,))\n    File \"/data/p_dsi/envs/neuro501/lib/python3.7/site-packages/keras/engine/training.py\", line 1000, in run_step  **\n        outputs = model.train_step(data)\n    File \"/data/p_dsi/envs/neuro501/lib/python3.7/site-packages/keras/engine/training.py\", line 859, in train_step\n        y_pred = self(x, training=True)\n    File \"/data/p_dsi/envs/neuro501/lib/python3.7/site-packages/keras/utils/traceback_utils.py\", line 67, in error_handler\n        raise e.with_traceback(filtered_tb) from None\n    File \"/data/p_dsi/envs/neuro501/lib/python3.7/site-packages/keras/engine/input_spec.py\", line 183, in assert_input_compatibility\n        raise ValueError(f'Missing data for input \"{name}\". '\n\n    ValueError: Missing data for input \"dense_46_input\". You passed a data dictionary with keys ['MODEL_prop_tire', 'SUB_MODEL_prop_tire', 'cust_in_top_10_sales', 'indiv', 'indiv_make_tire_pch', 'label', 'make_prop_tire', 'store_top_tires_tran', 'store_top_tran', 'top_cust_overall', 'top_cust_tire_purch', 'vehicle_tire_svc', 'vhc_early_tire_purchase', 'vhc_tire_purchase']. Expected the following keys: ['dense_46_input']\n"
     ]
    }
   ],
   "source": [
    "\n",
    "# model.fit(train_ds, epochs=1, validation_data=val_ds)\n",
    "\n",
    "fits = model.fit(\n",
    "    train_ds,\n",
    "    epochs = 1,\n",
    "    validation_data=val_ds,\n",
    "    verbose=0)"
   ]
  },
  {
   "cell_type": "code",
   "execution_count": null,
   "id": "a04cc9a3",
   "metadata": {},
   "outputs": [],
   "source": []
  },
  {
   "cell_type": "code",
   "execution_count": null,
   "id": "517ee68f",
   "metadata": {},
   "outputs": [],
   "source": []
  },
  {
   "cell_type": "code",
   "execution_count": null,
   "id": "a81dbcfb",
   "metadata": {},
   "outputs": [],
   "source": []
  },
  {
   "cell_type": "code",
   "execution_count": null,
   "id": "65627620",
   "metadata": {},
   "outputs": [],
   "source": []
  },
  {
   "cell_type": "code",
   "execution_count": null,
   "id": "3d90ae98",
   "metadata": {},
   "outputs": [],
   "source": []
  },
  {
   "cell_type": "code",
   "execution_count": null,
   "id": "38b41674",
   "metadata": {},
   "outputs": [],
   "source": []
  },
  {
   "cell_type": "code",
   "execution_count": null,
   "id": "7825f546",
   "metadata": {},
   "outputs": [],
   "source": []
  },
  {
   "cell_type": "code",
   "execution_count": null,
   "id": "d129f0cb",
   "metadata": {},
   "outputs": [],
   "source": []
  },
  {
   "cell_type": "code",
   "execution_count": null,
   "id": "e04c5554",
   "metadata": {},
   "outputs": [],
   "source": []
  },
  {
   "cell_type": "code",
   "execution_count": 28,
   "id": "22d5f394",
   "metadata": {},
   "outputs": [],
   "source": [
    "def ANN(X_train, y_train, X_test, y_test, loss, weights):\n",
    "    model = keras.Sequential([\n",
    "        keras.layers.Dense(12, input_dim=12, activation='relu'),\n",
    "        keras.layers.Dense(15, activation='relu'),\n",
    "        keras.layers.Dense(1, activation='sigmoid')\n",
    "    ])\n",
    "\n",
    "    model.compile(optimizer='adam', loss=loss, metrics=['accuracy'])\n",
    "    \n",
    "    if weights == -1:\n",
    "        model.fit(X_train, y_train, epochs=1)\n",
    "    else:\n",
    "        model.fit(X_train, y_train, epochs=1, class_weight = [1, 0.01])\n",
    "    \n",
    "    print(model.evaluate(X_test, y_test))\n",
    "    \n",
    "    y_preds = model.predict(X_test)\n",
    "    y_preds = np.round(y_preds)\n",
    "    \n",
    "    print(\"Classification Report: \\n\", classification_report(y_test, y_preds))\n",
    "    \n",
    "    return y_preds"
   ]
  },
  {
   "cell_type": "code",
   "execution_count": 29,
   "id": "5e566558",
   "metadata": {},
   "outputs": [
    {
     "name": "stdout",
     "output_type": "stream",
     "text": [
      "7225/7225 [==============================] - 17s 2ms/step - loss: 0.6175 - accuracy: 0.6709\n",
      "18761/18761 [==============================] - 29s 2ms/step - loss: 0.4428 - accuracy: 0.8887\n",
      "[0.44283953309059143, 0.8887393474578857]\n",
      "Classification Report: \n",
      "               precision    recall  f1-score   support\n",
      "\n",
      "           0       0.97      0.91      0.94    581072\n",
      "           1       0.06      0.17      0.09     19266\n",
      "\n",
      "    accuracy                           0.89    600338\n",
      "   macro avg       0.52      0.54      0.51    600338\n",
      "weighted avg       0.94      0.89      0.91    600338\n",
      "\n"
     ]
    }
   ],
   "source": [
    "y_preds = ANN(X_train, y_train, X_test, y_test, 'binary_crossentropy', -1)"
   ]
  },
  {
   "cell_type": "markdown",
   "id": "bd396836",
   "metadata": {},
   "source": [
    "## Mitigating Skewdness of Data\n",
    "reference: https://www.kaggle.com/rafjaa/resampling-strategies-for-imbalanced-datasets"
   ]
  },
  {
   "cell_type": "markdown",
   "id": "6dc05f0e",
   "metadata": {},
   "source": [
    "### Method1: Undersampling"
   ]
  },
  {
   "cell_type": "code",
   "execution_count": 16,
   "id": "54c629d0",
   "metadata": {},
   "outputs": [
    {
     "data": {
      "text/plain": [
       "(389318, 194659)"
      ]
     },
     "execution_count": 16,
     "metadata": {},
     "output_type": "execute_result"
    }
   ],
   "source": [
    "# Class count\n",
    "count_class_0, count_class_1 = y_train.value_counts()\n",
    "\n",
    "# Divide by class\n",
    "# df_class_0 = df2[df2['Churn'] == 0]\n",
    "# df_class_1 = df2[df2['Churn'] == 1]"
   ]
  },
  {
   "cell_type": "code",
   "execution_count": 221,
   "id": "fe9e7979",
   "metadata": {},
   "outputs": [
    {
     "name": "stdout",
     "output_type": "stream",
     "text": [
      "Random under-sampling:\n",
      "1    1869\n",
      "0    1869\n",
      "Name: Churn, dtype: int64\n"
     ]
    }
   ],
   "source": [
    "# Undersample 0-class and concat the DataFrames of both class\n",
    "df_class_0_under = df_class_0.sample(count_class_1)\n",
    "df_test_under = pd.concat([df_class_0_under, df_class_1], axis=0)\n",
    "\n",
    "print('Random under-sampling:')\n",
    "print(df_test_under.Churn.value_counts())"
   ]
  },
  {
   "cell_type": "code",
   "execution_count": 222,
   "id": "7496b2e4",
   "metadata": {},
   "outputs": [],
   "source": [
    "X = df_test_under.drop('Churn',axis='columns')\n",
    "y = df_test_under['Churn']\n",
    "\n",
    "from sklearn.model_selection import train_test_split\n",
    "X_train, X_test, y_train, y_test = train_test_split(X, y, test_size=0.2, random_state=15, stratify=y)"
   ]
  },
  {
   "cell_type": "code",
   "execution_count": 223,
   "id": "2ad02639",
   "metadata": {
    "scrolled": true
   },
   "outputs": [
    {
     "data": {
      "text/plain": [
       "1    1495\n",
       "0    1495\n",
       "Name: Churn, dtype: int64"
      ]
     },
     "execution_count": 223,
     "metadata": {},
     "output_type": "execute_result"
    }
   ],
   "source": [
    "# Number of classes in training Data\n",
    "y_train.value_counts()"
   ]
  },
  {
   "cell_type": "markdown",
   "id": "cdeeeb2d",
   "metadata": {},
   "source": [
    "#### Applying Logistic Regression"
   ]
  },
  {
   "cell_type": "code",
   "execution_count": 224,
   "id": "b6d84515",
   "metadata": {
    "scrolled": true
   },
   "outputs": [
    {
     "name": "stdout",
     "output_type": "stream",
     "text": [
      "Accuracy 0.7513368983957219 \n",
      "\n",
      "preds [0 1 0 1 0] \n",
      "\n",
      "              precision    recall  f1-score   support\n",
      "\n",
      "           0       0.76      0.74      0.75       374\n",
      "           1       0.74      0.77      0.76       374\n",
      "\n",
      "    accuracy                           0.75       748\n",
      "   macro avg       0.75      0.75      0.75       748\n",
      "weighted avg       0.75      0.75      0.75       748\n",
      "\n"
     ]
    }
   ],
   "source": [
    "weights = -1 # pass -1 to use Logistics Regression without weights\n",
    "log_reg(X_train, y_train, X_test, y_test, weights)"
   ]
  },
  {
   "cell_type": "markdown",
   "id": "db782e4f",
   "metadata": {},
   "source": [
    "<h4 style='color:blue'>With undersampling: f1 score for minority class 1 improved to be 0.75 from 0.59</h4>"
   ]
  },
  {
   "cell_type": "markdown",
   "id": "2314f9e7",
   "metadata": {},
   "source": [
    "### Method2: Oversampling"
   ]
  },
  {
   "cell_type": "code",
   "execution_count": 225,
   "id": "0ba947cb",
   "metadata": {},
   "outputs": [
    {
     "name": "stdout",
     "output_type": "stream",
     "text": [
      "Random over-sampling:\n",
      "1    5163\n",
      "0    5163\n",
      "Name: Churn, dtype: int64\n"
     ]
    }
   ],
   "source": [
    "# Oversample 1-class and concat the DataFrames of both classes\n",
    "df_class_1_over = df_class_1.sample(count_class_0, replace=True)\n",
    "df_test_over = pd.concat([df_class_0, df_class_1_over], axis=0)\n",
    "\n",
    "print('Random over-sampling:')\n",
    "print(df_test_over.Churn.value_counts())"
   ]
  },
  {
   "cell_type": "code",
   "execution_count": 226,
   "id": "619f45a9",
   "metadata": {},
   "outputs": [],
   "source": [
    "X = df_test_over.drop('Churn',axis='columns')\n",
    "y = df_test_over['Churn']\n",
    "\n",
    "from sklearn.model_selection import train_test_split\n",
    "X_train, X_test, y_train, y_test = train_test_split(X, y, test_size=0.2, random_state=15, stratify=y)"
   ]
  },
  {
   "cell_type": "code",
   "execution_count": 227,
   "id": "b6b990ea",
   "metadata": {},
   "outputs": [
    {
     "data": {
      "text/plain": [
       "1    4130\n",
       "0    4130\n",
       "Name: Churn, dtype: int64"
      ]
     },
     "execution_count": 227,
     "metadata": {},
     "output_type": "execute_result"
    }
   ],
   "source": [
    "# Number of classes in training Data\n",
    "y_train.value_counts()"
   ]
  },
  {
   "cell_type": "markdown",
   "id": "5bb09054",
   "metadata": {},
   "source": [
    "#### Logistic Regression"
   ]
  },
  {
   "cell_type": "code",
   "execution_count": 228,
   "id": "2e5a79da",
   "metadata": {
    "scrolled": true
   },
   "outputs": [
    {
     "name": "stdout",
     "output_type": "stream",
     "text": [
      "Accuracy 0.7783155856727977 \n",
      "\n",
      "preds [1 0 1 1 0] \n",
      "\n",
      "              precision    recall  f1-score   support\n",
      "\n",
      "           0       0.81      0.72      0.76      1033\n",
      "           1       0.75      0.84      0.79      1033\n",
      "\n",
      "    accuracy                           0.78      2066\n",
      "   macro avg       0.78      0.78      0.78      2066\n",
      "weighted avg       0.78      0.78      0.78      2066\n",
      "\n"
     ]
    }
   ],
   "source": [
    "weights = -1 # pass -1 to use Logistics Regression without weights\n",
    "log_reg(X_train, y_train, X_test, y_test, weights)"
   ]
  },
  {
   "cell_type": "markdown",
   "id": "228efdfc",
   "metadata": {},
   "source": [
    "<h4 style='color:blue'>With oversampling: f1 score for minority class 1 improved to be 0.76 from 0.59</h4>"
   ]
  },
  {
   "cell_type": "markdown",
   "id": "79b06690",
   "metadata": {},
   "source": [
    "### Method3: SMOTE"
   ]
  },
  {
   "cell_type": "markdown",
   "id": "07ed5ceb",
   "metadata": {},
   "source": [
    "To install imbalanced-learn library use \"pip install imbalanced-learn\" command"
   ]
  },
  {
   "cell_type": "code",
   "execution_count": 229,
   "id": "34baacea",
   "metadata": {},
   "outputs": [],
   "source": [
    "X = df2.drop('Churn',axis='columns')\n",
    "y = df2['Churn']"
   ]
  },
  {
   "cell_type": "code",
   "execution_count": 230,
   "id": "b8661c01",
   "metadata": {},
   "outputs": [
    {
     "data": {
      "text/plain": [
       "1    5163\n",
       "0    5163\n",
       "Name: Churn, dtype: int64"
      ]
     },
     "execution_count": 230,
     "metadata": {},
     "output_type": "execute_result"
    }
   ],
   "source": [
    "from imblearn.over_sampling import SMOTE\n",
    "\n",
    "smote = SMOTE(sampling_strategy='minority')\n",
    "X_sm, y_sm = smote.fit_sample(X, y)\n",
    "\n",
    "y_sm.value_counts()"
   ]
  },
  {
   "cell_type": "code",
   "execution_count": 231,
   "id": "c586d8fa",
   "metadata": {},
   "outputs": [],
   "source": [
    "from sklearn.model_selection import train_test_split\n",
    "X_train, X_test, y_train, y_test = train_test_split(X_sm, y_sm, test_size=0.2, random_state=15, stratify=y_sm)"
   ]
  },
  {
   "cell_type": "code",
   "execution_count": 232,
   "id": "b42ce778",
   "metadata": {},
   "outputs": [
    {
     "data": {
      "text/plain": [
       "1    4130\n",
       "0    4130\n",
       "Name: Churn, dtype: int64"
      ]
     },
     "execution_count": 232,
     "metadata": {},
     "output_type": "execute_result"
    }
   ],
   "source": [
    "# Number of classes in training Data\n",
    "y_train.value_counts()"
   ]
  },
  {
   "cell_type": "markdown",
   "id": "83f127f0",
   "metadata": {},
   "source": [
    "#### Logistic Regression"
   ]
  },
  {
   "cell_type": "code",
   "execution_count": 233,
   "id": "4845e9a9",
   "metadata": {},
   "outputs": [
    {
     "name": "stdout",
     "output_type": "stream",
     "text": [
      "Accuracy 0.8000968054211036 \n",
      "\n",
      "preds [1 0 1 1 0] \n",
      "\n",
      "              precision    recall  f1-score   support\n",
      "\n",
      "           0       0.82      0.77      0.79      1033\n",
      "           1       0.78      0.83      0.81      1033\n",
      "\n",
      "    accuracy                           0.80      2066\n",
      "   macro avg       0.80      0.80      0.80      2066\n",
      "weighted avg       0.80      0.80      0.80      2066\n",
      "\n"
     ]
    }
   ],
   "source": [
    "weights = -1 # pass -1 to use Logistics Regression without weights\n",
    "log_reg(X_train, y_train, X_test, y_test, weights)"
   ]
  },
  {
   "cell_type": "markdown",
   "id": "984345c4",
   "metadata": {},
   "source": [
    "<h4 style='color:blue'>With SMOTE oversampling: f1 score for minority class 1 improved to be 0.81 from 0.59</h4>"
   ]
  },
  {
   "cell_type": "markdown",
   "id": "c8106885",
   "metadata": {},
   "source": [
    "### Method4: Use of Ensemble with undersampling"
   ]
  },
  {
   "cell_type": "code",
   "execution_count": 234,
   "id": "95c7ece1",
   "metadata": {},
   "outputs": [
    {
     "data": {
      "text/plain": [
       "0    5163\n",
       "1    1869\n",
       "Name: Churn, dtype: int64"
      ]
     },
     "execution_count": 234,
     "metadata": {},
     "output_type": "execute_result"
    }
   ],
   "source": [
    "df2.Churn.value_counts()"
   ]
  },
  {
   "cell_type": "code",
   "execution_count": 235,
   "id": "de670aea",
   "metadata": {},
   "outputs": [],
   "source": [
    "# Regain Original features and labels\n",
    "X = df2.drop('Churn',axis='columns')\n",
    "y = df2['Churn']"
   ]
  },
  {
   "cell_type": "code",
   "execution_count": 236,
   "id": "382a2282",
   "metadata": {},
   "outputs": [],
   "source": [
    "from sklearn.model_selection import train_test_split\n",
    "X_train, X_test, y_train, y_test = train_test_split(X, y, test_size=0.2, random_state=15, stratify=y)"
   ]
  },
  {
   "cell_type": "code",
   "execution_count": 237,
   "id": "d26abf59",
   "metadata": {},
   "outputs": [
    {
     "data": {
      "text/plain": [
       "0    4130\n",
       "1    1495\n",
       "Name: Churn, dtype: int64"
      ]
     },
     "execution_count": 237,
     "metadata": {},
     "output_type": "execute_result"
    }
   ],
   "source": [
    "y_train.value_counts()"
   ]
  },
  {
   "cell_type": "markdown",
   "id": "42eee635",
   "metadata": {},
   "source": [
    "model1 --> class1(1495) + class0(0, 1495)\n",
    "\n",
    "model2 --> class1(1495) + class0(1496, 2990)\n",
    "\n",
    "model3 --> class1(1495) + class0(2990, 4130)"
   ]
  },
  {
   "cell_type": "code",
   "execution_count": 238,
   "id": "bda4a926",
   "metadata": {},
   "outputs": [],
   "source": [
    "model = LogisticRegression()\n",
    "\n",
    "df3 = X_train.copy()\n",
    "df3['Churn'] = y_train"
   ]
  },
  {
   "cell_type": "code",
   "execution_count": 239,
   "id": "c9fe8fba",
   "metadata": {},
   "outputs": [
    {
     "data": {
      "text/html": [
       "<div>\n",
       "<style scoped>\n",
       "    .dataframe tbody tr th:only-of-type {\n",
       "        vertical-align: middle;\n",
       "    }\n",
       "\n",
       "    .dataframe tbody tr th {\n",
       "        vertical-align: top;\n",
       "    }\n",
       "\n",
       "    .dataframe thead th {\n",
       "        text-align: right;\n",
       "    }\n",
       "</style>\n",
       "<table border=\"1\" class=\"dataframe\">\n",
       "  <thead>\n",
       "    <tr style=\"text-align: right;\">\n",
       "      <th></th>\n",
       "      <th>gender</th>\n",
       "      <th>SeniorCitizen</th>\n",
       "      <th>Partner</th>\n",
       "      <th>Dependents</th>\n",
       "      <th>tenure</th>\n",
       "      <th>PhoneService</th>\n",
       "      <th>MultipleLines</th>\n",
       "      <th>OnlineSecurity</th>\n",
       "      <th>OnlineBackup</th>\n",
       "      <th>DeviceProtection</th>\n",
       "      <th>...</th>\n",
       "      <th>InternetService_Fiber optic</th>\n",
       "      <th>InternetService_No</th>\n",
       "      <th>Contract_Month-to-month</th>\n",
       "      <th>Contract_One year</th>\n",
       "      <th>Contract_Two year</th>\n",
       "      <th>PaymentMethod_Bank transfer (automatic)</th>\n",
       "      <th>PaymentMethod_Credit card (automatic)</th>\n",
       "      <th>PaymentMethod_Electronic check</th>\n",
       "      <th>PaymentMethod_Mailed check</th>\n",
       "      <th>Churn</th>\n",
       "    </tr>\n",
       "  </thead>\n",
       "  <tbody>\n",
       "    <tr>\n",
       "      <th>684</th>\n",
       "      <td>1</td>\n",
       "      <td>0</td>\n",
       "      <td>0</td>\n",
       "      <td>0</td>\n",
       "      <td>0.000000</td>\n",
       "      <td>1</td>\n",
       "      <td>0</td>\n",
       "      <td>0</td>\n",
       "      <td>0</td>\n",
       "      <td>0</td>\n",
       "      <td>...</td>\n",
       "      <td>1</td>\n",
       "      <td>0</td>\n",
       "      <td>1</td>\n",
       "      <td>0</td>\n",
       "      <td>0</td>\n",
       "      <td>0</td>\n",
       "      <td>0</td>\n",
       "      <td>0</td>\n",
       "      <td>1</td>\n",
       "      <td>0</td>\n",
       "    </tr>\n",
       "    <tr>\n",
       "      <th>2446</th>\n",
       "      <td>1</td>\n",
       "      <td>0</td>\n",
       "      <td>0</td>\n",
       "      <td>0</td>\n",
       "      <td>0.239437</td>\n",
       "      <td>1</td>\n",
       "      <td>1</td>\n",
       "      <td>0</td>\n",
       "      <td>1</td>\n",
       "      <td>0</td>\n",
       "      <td>...</td>\n",
       "      <td>1</td>\n",
       "      <td>0</td>\n",
       "      <td>1</td>\n",
       "      <td>0</td>\n",
       "      <td>0</td>\n",
       "      <td>0</td>\n",
       "      <td>1</td>\n",
       "      <td>0</td>\n",
       "      <td>0</td>\n",
       "      <td>1</td>\n",
       "    </tr>\n",
       "    <tr>\n",
       "      <th>1680</th>\n",
       "      <td>0</td>\n",
       "      <td>0</td>\n",
       "      <td>1</td>\n",
       "      <td>1</td>\n",
       "      <td>0.774648</td>\n",
       "      <td>1</td>\n",
       "      <td>1</td>\n",
       "      <td>0</td>\n",
       "      <td>0</td>\n",
       "      <td>0</td>\n",
       "      <td>...</td>\n",
       "      <td>0</td>\n",
       "      <td>1</td>\n",
       "      <td>0</td>\n",
       "      <td>1</td>\n",
       "      <td>0</td>\n",
       "      <td>0</td>\n",
       "      <td>0</td>\n",
       "      <td>0</td>\n",
       "      <td>1</td>\n",
       "      <td>0</td>\n",
       "    </tr>\n",
       "    <tr>\n",
       "      <th>2220</th>\n",
       "      <td>0</td>\n",
       "      <td>0</td>\n",
       "      <td>1</td>\n",
       "      <td>0</td>\n",
       "      <td>1.000000</td>\n",
       "      <td>1</td>\n",
       "      <td>0</td>\n",
       "      <td>1</td>\n",
       "      <td>1</td>\n",
       "      <td>0</td>\n",
       "      <td>...</td>\n",
       "      <td>0</td>\n",
       "      <td>0</td>\n",
       "      <td>0</td>\n",
       "      <td>0</td>\n",
       "      <td>1</td>\n",
       "      <td>1</td>\n",
       "      <td>0</td>\n",
       "      <td>0</td>\n",
       "      <td>0</td>\n",
       "      <td>0</td>\n",
       "    </tr>\n",
       "    <tr>\n",
       "      <th>2842</th>\n",
       "      <td>1</td>\n",
       "      <td>0</td>\n",
       "      <td>0</td>\n",
       "      <td>0</td>\n",
       "      <td>0.042254</td>\n",
       "      <td>0</td>\n",
       "      <td>0</td>\n",
       "      <td>1</td>\n",
       "      <td>0</td>\n",
       "      <td>1</td>\n",
       "      <td>...</td>\n",
       "      <td>0</td>\n",
       "      <td>0</td>\n",
       "      <td>1</td>\n",
       "      <td>0</td>\n",
       "      <td>0</td>\n",
       "      <td>0</td>\n",
       "      <td>0</td>\n",
       "      <td>0</td>\n",
       "      <td>1</td>\n",
       "      <td>0</td>\n",
       "    </tr>\n",
       "  </tbody>\n",
       "</table>\n",
       "<p>5 rows × 27 columns</p>\n",
       "</div>"
      ],
      "text/plain": [
       "      gender  SeniorCitizen  Partner  Dependents    tenure  PhoneService  \\\n",
       "684        1              0        0           0  0.000000             1   \n",
       "2446       1              0        0           0  0.239437             1   \n",
       "1680       0              0        1           1  0.774648             1   \n",
       "2220       0              0        1           0  1.000000             1   \n",
       "2842       1              0        0           0  0.042254             0   \n",
       "\n",
       "      MultipleLines  OnlineSecurity  OnlineBackup  DeviceProtection  ...  \\\n",
       "684               0               0             0                 0  ...   \n",
       "2446              1               0             1                 0  ...   \n",
       "1680              1               0             0                 0  ...   \n",
       "2220              0               1             1                 0  ...   \n",
       "2842              0               1             0                 1  ...   \n",
       "\n",
       "      InternetService_Fiber optic  InternetService_No  \\\n",
       "684                             1                   0   \n",
       "2446                            1                   0   \n",
       "1680                            0                   1   \n",
       "2220                            0                   0   \n",
       "2842                            0                   0   \n",
       "\n",
       "      Contract_Month-to-month  Contract_One year  Contract_Two year  \\\n",
       "684                         1                  0                  0   \n",
       "2446                        1                  0                  0   \n",
       "1680                        0                  1                  0   \n",
       "2220                        0                  0                  1   \n",
       "2842                        1                  0                  0   \n",
       "\n",
       "      PaymentMethod_Bank transfer (automatic)  \\\n",
       "684                                         0   \n",
       "2446                                        0   \n",
       "1680                                        0   \n",
       "2220                                        1   \n",
       "2842                                        0   \n",
       "\n",
       "      PaymentMethod_Credit card (automatic)  PaymentMethod_Electronic check  \\\n",
       "684                                       0                               0   \n",
       "2446                                      1                               0   \n",
       "1680                                      0                               0   \n",
       "2220                                      0                               0   \n",
       "2842                                      0                               0   \n",
       "\n",
       "      PaymentMethod_Mailed check  Churn  \n",
       "684                            1      0  \n",
       "2446                           0      1  \n",
       "1680                           1      0  \n",
       "2220                           0      0  \n",
       "2842                           1      0  \n",
       "\n",
       "[5 rows x 27 columns]"
      ]
     },
     "execution_count": 239,
     "metadata": {},
     "output_type": "execute_result"
    }
   ],
   "source": [
    "df3.head()"
   ]
  },
  {
   "cell_type": "code",
   "execution_count": 240,
   "id": "53020d66",
   "metadata": {},
   "outputs": [],
   "source": [
    "df3_class0 = df3[df3.Churn==0]\n",
    "df3_class1 = df3[df3.Churn==1]"
   ]
  },
  {
   "cell_type": "code",
   "execution_count": 241,
   "id": "4a68329d",
   "metadata": {},
   "outputs": [],
   "source": [
    "def get_train_batch(df_majority, df_minority, start, end):\n",
    "    df_train = pd.concat([df_majority[start:end], df_minority], axis=0)\n",
    "    X_train = df_train.drop('Churn', axis='columns')\n",
    "    y_train = df_train.Churn\n",
    "    return X_train, y_train    "
   ]
  },
  {
   "cell_type": "code",
   "execution_count": 242,
   "id": "7bff0a81",
   "metadata": {},
   "outputs": [],
   "source": [
    "X_train, y_train = get_train_batch(df3_class0, df3_class1, 0, 1495)\n",
    "\n",
    "model1 = LogisticRegression()\n",
    "model1.fit(X_train, y_train)\n",
    "y_pred1 = model1.predict(X_test)"
   ]
  },
  {
   "cell_type": "code",
   "execution_count": 243,
   "id": "998af6ea",
   "metadata": {},
   "outputs": [],
   "source": [
    "X_train, y_train = get_train_batch(df3_class0, df3_class1, 1495, 2990)\n",
    "\n",
    "model2 = LogisticRegression()\n",
    "model2.fit(X_train, y_train)\n",
    "y_pred2 = model2.predict(X_test)"
   ]
  },
  {
   "cell_type": "code",
   "execution_count": 244,
   "id": "e18101c8",
   "metadata": {},
   "outputs": [],
   "source": [
    "X_train, y_train = get_train_batch(df3_class0, df3_class1, 2990, 4130)\n",
    "\n",
    "model3 = LogisticRegression()\n",
    "model3.fit(X_train, y_train)\n",
    "y_pred3 = model3.predict(X_test)"
   ]
  },
  {
   "cell_type": "code",
   "execution_count": 245,
   "id": "514d5566",
   "metadata": {},
   "outputs": [
    {
     "data": {
      "text/plain": [
       "1407"
      ]
     },
     "execution_count": 245,
     "metadata": {},
     "output_type": "execute_result"
    }
   ],
   "source": [
    "len(y_pred1)"
   ]
  },
  {
   "cell_type": "code",
   "execution_count": 246,
   "id": "cca92ef6",
   "metadata": {},
   "outputs": [],
   "source": [
    "y_pred_final = y_pred1.copy()\n",
    "for i in range(len(y_pred1)):\n",
    "    n_ones = y_pred1[i] + y_pred2[i] + y_pred3[i]\n",
    "    if n_ones>1:\n",
    "        y_pred_final[i] = 1\n",
    "    else:\n",
    "        y_pred_final[i] = 0"
   ]
  },
  {
   "cell_type": "code",
   "execution_count": 247,
   "id": "115e0775",
   "metadata": {
    "scrolled": true
   },
   "outputs": [
    {
     "name": "stdout",
     "output_type": "stream",
     "text": [
      "              precision    recall  f1-score   support\n",
      "\n",
      "           0       0.91      0.71      0.80      1033\n",
      "           1       0.50      0.80      0.62       374\n",
      "\n",
      "    accuracy                           0.73      1407\n",
      "   macro avg       0.70      0.76      0.71      1407\n",
      "weighted avg       0.80      0.73      0.75      1407\n",
      "\n"
     ]
    }
   ],
   "source": [
    "cl_rep = classification_report(y_test, y_pred_final)\n",
    "print(cl_rep)"
   ]
  },
  {
   "cell_type": "markdown",
   "id": "7bc98d26",
   "metadata": {},
   "source": [
    "f1-score for minority class 1 improved to 0.62 from 0.57. The score for majority class 0 is suffering and reduced to 0.80 from 0.85 but at least there is some balance in terms of prediction accuracy across two classes"
   ]
  },
  {
   "cell_type": "code",
   "execution_count": null,
   "id": "906c4cdb",
   "metadata": {},
   "outputs": [],
   "source": []
  }
 ],
 "metadata": {
  "kernelspec": {
   "display_name": "Python 3",
   "language": "python",
   "name": "python3"
  },
  "language_info": {
   "codemirror_mode": {
    "name": "ipython",
    "version": 3
   },
   "file_extension": ".py",
   "mimetype": "text/x-python",
   "name": "python",
   "nbconvert_exporter": "python",
   "pygments_lexer": "ipython3",
   "version": "3.7.9"
  }
 },
 "nbformat": 4,
 "nbformat_minor": 5
}
