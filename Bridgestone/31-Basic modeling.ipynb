{
 "cells": [
  {
   "cell_type": "markdown",
   "id": "e2733c22",
   "metadata": {},
   "source": [
    "# Basic Modeling"
   ]
  },
  {
   "cell_type": "markdown",
   "id": "93cf48aa",
   "metadata": {},
   "source": [
    "- This notebook aims to try a basic model based on data after feature engineering"
   ]
  },
  {
   "cell_type": "markdown",
   "id": "ee041e56",
   "metadata": {},
   "source": [
    "- A True End-to-End ML Example: Lead Scoring | by Adam Barnhard | Towards Data Science\n",
    "https://towardsdatascience.com/a-true-end-to-end-ml-example-lead-scoring-f5b52e9a3c80"
   ]
  },
  {
   "cell_type": "code",
   "execution_count": 43,
   "id": "b1764798",
   "metadata": {},
   "outputs": [],
   "source": [
    "import pandas as pd \n",
    "import numpy as np\n",
    "from sklearn.preprocessing import StandardScaler\n",
    "from sklearn.ensemble import RandomForestClassifier\n",
    "from sklearn.metrics import accuracy_score\n",
    "from sklearn.metrics import recall_score\n",
    "from sklearn.metrics import precision_score\n",
    "from sklearn.metrics import roc_auc_score"
   ]
  },
  {
   "cell_type": "code",
   "execution_count": 23,
   "id": "86ed608c",
   "metadata": {},
   "outputs": [],
   "source": [
    "data = pd.read_csv('../../../JanOct16_trimmed.csv', index_col = 0, nrows = 100000)\n",
    "indiv = pd.read_csv('individuals.csv', index_col = 0)\n",
    "indiv_valid = pd.read_csv('individuals_test.csv', index_col = 0)"
   ]
  },
  {
   "cell_type": "code",
   "execution_count": 24,
   "id": "787612da",
   "metadata": {},
   "outputs": [],
   "source": [
    "pd.set_option('display.max_columns', 500)"
   ]
  },
  {
   "cell_type": "code",
   "execution_count": 25,
   "id": "077c6c72",
   "metadata": {},
   "outputs": [
    {
     "data": {
      "text/html": [
       "<div>\n",
       "<style scoped>\n",
       "    .dataframe tbody tr th:only-of-type {\n",
       "        vertical-align: middle;\n",
       "    }\n",
       "\n",
       "    .dataframe tbody tr th {\n",
       "        vertical-align: top;\n",
       "    }\n",
       "\n",
       "    .dataframe thead th {\n",
       "        text-align: right;\n",
       "    }\n",
       "</style>\n",
       "<table border=\"1\" class=\"dataframe\">\n",
       "  <thead>\n",
       "    <tr style=\"text-align: right;\">\n",
       "      <th></th>\n",
       "      <th>Unnamed: 0.1</th>\n",
       "      <th>STORE_ID</th>\n",
       "      <th>TRAN_ID</th>\n",
       "      <th>DATE</th>\n",
       "      <th>ARTICLE_ID</th>\n",
       "      <th>INDIV_ID</th>\n",
       "      <th>VEHICLE_ID</th>\n",
       "      <th>UNITS</th>\n",
       "      <th>SALES</th>\n",
       "      <th>STATE_CODE</th>\n",
       "      <th>ZIP_CODE</th>\n",
       "      <th>MSA</th>\n",
       "      <th>MAKE</th>\n",
       "      <th>MODEL</th>\n",
       "      <th>SUB_MODEL</th>\n",
       "      <th>MODEL_YEAR</th>\n",
       "      <th>PROD_GROUP_CODE</th>\n",
       "      <th>PROD_GROUP_DESC</th>\n",
       "      <th>CATEGORY_CODE</th>\n",
       "      <th>CATEGORY_DESC</th>\n",
       "      <th>SEGMENT_CODE</th>\n",
       "      <th>SEGMENT_DESC</th>\n",
       "      <th>CLASS_CODE</th>\n",
       "      <th>CLASS_DESC</th>\n",
       "      <th>DISCOUNT_FLAG</th>\n",
       "      <th>CROSS_SECTION</th>\n",
       "      <th>ASPECT_RATIO</th>\n",
       "      <th>RIM_SIZE</th>\n",
       "      <th>EMAIL_OPTIN_IND</th>\n",
       "      <th>AH1_RES_BUS_INDC</th>\n",
       "      <th>SUPP1_BUS_PANDER</th>\n",
       "    </tr>\n",
       "  </thead>\n",
       "  <tbody>\n",
       "    <tr>\n",
       "      <th>0</th>\n",
       "      <td>0</td>\n",
       "      <td>20869</td>\n",
       "      <td>991975080</td>\n",
       "      <td>2016-01-17</td>\n",
       "      <td>7013632</td>\n",
       "      <td>277902102.0</td>\n",
       "      <td>945291489</td>\n",
       "      <td>0.0</td>\n",
       "      <td>51.96</td>\n",
       "      <td>TN</td>\n",
       "      <td>37221</td>\n",
       "      <td>NASHVILLE,</td>\n",
       "      <td>GMC</td>\n",
       "      <td>K1500 SUBURBAN SLE</td>\n",
       "      <td>SLE</td>\n",
       "      <td>1997.0</td>\n",
       "      <td>4.0</td>\n",
       "      <td>Services</td>\n",
       "      <td>62.0</td>\n",
       "      <td>Tire Services</td>\n",
       "      <td>91.0</td>\n",
       "      <td>Tire Services</td>\n",
       "      <td>147.0</td>\n",
       "      <td>Balance</td>\n",
       "      <td>N</td>\n",
       "      <td>NaN</td>\n",
       "      <td>NaN</td>\n",
       "      <td>NaN</td>\n",
       "      <td>Y</td>\n",
       "      <td>R</td>\n",
       "      <td>N</td>\n",
       "    </tr>\n",
       "    <tr>\n",
       "      <th>1</th>\n",
       "      <td>1</td>\n",
       "      <td>20869</td>\n",
       "      <td>991975080</td>\n",
       "      <td>2016-01-17</td>\n",
       "      <td>7015016</td>\n",
       "      <td>277902102.0</td>\n",
       "      <td>945291489</td>\n",
       "      <td>0.0</td>\n",
       "      <td>0.00</td>\n",
       "      <td>TN</td>\n",
       "      <td>37221</td>\n",
       "      <td>NASHVILLE,</td>\n",
       "      <td>GMC</td>\n",
       "      <td>K1500 SUBURBAN SLE</td>\n",
       "      <td>SLE</td>\n",
       "      <td>1997.0</td>\n",
       "      <td>4.0</td>\n",
       "      <td>Services</td>\n",
       "      <td>62.0</td>\n",
       "      <td>Tire Services</td>\n",
       "      <td>91.0</td>\n",
       "      <td>Tire Services</td>\n",
       "      <td>139.0</td>\n",
       "      <td>Tire Mounting</td>\n",
       "      <td>N</td>\n",
       "      <td>NaN</td>\n",
       "      <td>NaN</td>\n",
       "      <td>NaN</td>\n",
       "      <td>Y</td>\n",
       "      <td>R</td>\n",
       "      <td>N</td>\n",
       "    </tr>\n",
       "    <tr>\n",
       "      <th>2</th>\n",
       "      <td>2</td>\n",
       "      <td>20869</td>\n",
       "      <td>991975080</td>\n",
       "      <td>2016-01-17</td>\n",
       "      <td>7097782</td>\n",
       "      <td>277902102.0</td>\n",
       "      <td>945291489</td>\n",
       "      <td>0.0</td>\n",
       "      <td>63.80</td>\n",
       "      <td>TN</td>\n",
       "      <td>37221</td>\n",
       "      <td>NASHVILLE,</td>\n",
       "      <td>GMC</td>\n",
       "      <td>K1500 SUBURBAN SLE</td>\n",
       "      <td>SLE</td>\n",
       "      <td>1997.0</td>\n",
       "      <td>5.0</td>\n",
       "      <td>Tires</td>\n",
       "      <td>20158.0</td>\n",
       "      <td>Road Hazard</td>\n",
       "      <td>20159.0</td>\n",
       "      <td>Road Hazard</td>\n",
       "      <td>20160.0</td>\n",
       "      <td>Road Hazard</td>\n",
       "      <td>N</td>\n",
       "      <td>NONE</td>\n",
       "      <td>NONE</td>\n",
       "      <td>NONE</td>\n",
       "      <td>Y</td>\n",
       "      <td>R</td>\n",
       "      <td>N</td>\n",
       "    </tr>\n",
       "    <tr>\n",
       "      <th>3</th>\n",
       "      <td>3</td>\n",
       "      <td>20869</td>\n",
       "      <td>991975080</td>\n",
       "      <td>2016-01-17</td>\n",
       "      <td>7004578</td>\n",
       "      <td>277902102.0</td>\n",
       "      <td>945291489</td>\n",
       "      <td>0.0</td>\n",
       "      <td>84.99</td>\n",
       "      <td>TN</td>\n",
       "      <td>37221</td>\n",
       "      <td>NASHVILLE,</td>\n",
       "      <td>GMC</td>\n",
       "      <td>K1500 SUBURBAN SLE</td>\n",
       "      <td>SLE</td>\n",
       "      <td>1997.0</td>\n",
       "      <td>4.0</td>\n",
       "      <td>Services</td>\n",
       "      <td>83.0</td>\n",
       "      <td>Steering/Suspension/Drivetrain</td>\n",
       "      <td>96.0</td>\n",
       "      <td>Alignments</td>\n",
       "      <td>49083.0</td>\n",
       "      <td>Alignment Service</td>\n",
       "      <td>N</td>\n",
       "      <td>NaN</td>\n",
       "      <td>NaN</td>\n",
       "      <td>NaN</td>\n",
       "      <td>Y</td>\n",
       "      <td>R</td>\n",
       "      <td>N</td>\n",
       "    </tr>\n",
       "    <tr>\n",
       "      <th>4</th>\n",
       "      <td>4</td>\n",
       "      <td>20869</td>\n",
       "      <td>991975080</td>\n",
       "      <td>2016-01-17</td>\n",
       "      <td>2809</td>\n",
       "      <td>277902102.0</td>\n",
       "      <td>945291489</td>\n",
       "      <td>4.0</td>\n",
       "      <td>373.96</td>\n",
       "      <td>TN</td>\n",
       "      <td>37221</td>\n",
       "      <td>NASHVILLE,</td>\n",
       "      <td>GMC</td>\n",
       "      <td>K1500 SUBURBAN SLE</td>\n",
       "      <td>SLE</td>\n",
       "      <td>1997.0</td>\n",
       "      <td>5.0</td>\n",
       "      <td>Tires</td>\n",
       "      <td>26.0</td>\n",
       "      <td>Passenger Tires</td>\n",
       "      <td>30.0</td>\n",
       "      <td>P Metric Light Truck Tires</td>\n",
       "      <td>42.0</td>\n",
       "      <td>All Terrain Tires</td>\n",
       "      <td>N</td>\n",
       "      <td>265</td>\n",
       "      <td>70</td>\n",
       "      <td>16</td>\n",
       "      <td>Y</td>\n",
       "      <td>R</td>\n",
       "      <td>N</td>\n",
       "    </tr>\n",
       "  </tbody>\n",
       "</table>\n",
       "</div>"
      ],
      "text/plain": [
       "   Unnamed: 0.1  STORE_ID    TRAN_ID        DATE  ARTICLE_ID     INDIV_ID  \\\n",
       "0             0     20869  991975080  2016-01-17     7013632  277902102.0   \n",
       "1             1     20869  991975080  2016-01-17     7015016  277902102.0   \n",
       "2             2     20869  991975080  2016-01-17     7097782  277902102.0   \n",
       "3             3     20869  991975080  2016-01-17     7004578  277902102.0   \n",
       "4             4     20869  991975080  2016-01-17        2809  277902102.0   \n",
       "\n",
       "   VEHICLE_ID  UNITS   SALES STATE_CODE  ZIP_CODE         MSA MAKE  \\\n",
       "0   945291489    0.0   51.96         TN     37221  NASHVILLE,  GMC   \n",
       "1   945291489    0.0    0.00         TN     37221  NASHVILLE,  GMC   \n",
       "2   945291489    0.0   63.80         TN     37221  NASHVILLE,  GMC   \n",
       "3   945291489    0.0   84.99         TN     37221  NASHVILLE,  GMC   \n",
       "4   945291489    4.0  373.96         TN     37221  NASHVILLE,  GMC   \n",
       "\n",
       "                MODEL SUB_MODEL  MODEL_YEAR  PROD_GROUP_CODE PROD_GROUP_DESC  \\\n",
       "0  K1500 SUBURBAN SLE       SLE      1997.0              4.0        Services   \n",
       "1  K1500 SUBURBAN SLE       SLE      1997.0              4.0        Services   \n",
       "2  K1500 SUBURBAN SLE       SLE      1997.0              5.0           Tires   \n",
       "3  K1500 SUBURBAN SLE       SLE      1997.0              4.0        Services   \n",
       "4  K1500 SUBURBAN SLE       SLE      1997.0              5.0           Tires   \n",
       "\n",
       "   CATEGORY_CODE                   CATEGORY_DESC  SEGMENT_CODE  \\\n",
       "0           62.0                   Tire Services          91.0   \n",
       "1           62.0                   Tire Services          91.0   \n",
       "2        20158.0                     Road Hazard       20159.0   \n",
       "3           83.0  Steering/Suspension/Drivetrain          96.0   \n",
       "4           26.0                 Passenger Tires          30.0   \n",
       "\n",
       "                 SEGMENT_DESC  CLASS_CODE         CLASS_DESC DISCOUNT_FLAG  \\\n",
       "0               Tire Services       147.0            Balance             N   \n",
       "1               Tire Services       139.0      Tire Mounting             N   \n",
       "2                 Road Hazard     20160.0        Road Hazard             N   \n",
       "3                  Alignments     49083.0  Alignment Service             N   \n",
       "4  P Metric Light Truck Tires        42.0  All Terrain Tires             N   \n",
       "\n",
       "  CROSS_SECTION ASPECT_RATIO RIM_SIZE EMAIL_OPTIN_IND AH1_RES_BUS_INDC  \\\n",
       "0           NaN          NaN      NaN               Y                R   \n",
       "1           NaN          NaN      NaN               Y                R   \n",
       "2          NONE         NONE     NONE               Y                R   \n",
       "3           NaN          NaN      NaN               Y                R   \n",
       "4           265           70       16               Y                R   \n",
       "\n",
       "  SUPP1_BUS_PANDER  \n",
       "0                N  \n",
       "1                N  \n",
       "2                N  \n",
       "3                N  \n",
       "4                N  "
      ]
     },
     "execution_count": 25,
     "metadata": {},
     "output_type": "execute_result"
    }
   ],
   "source": [
    "data.head()"
   ]
  },
  {
   "cell_type": "code",
   "execution_count": 26,
   "id": "332e0ed2",
   "metadata": {},
   "outputs": [
    {
     "data": {
      "text/plain": [
       "((49402, 14), (6650, 14))"
      ]
     },
     "execution_count": 26,
     "metadata": {},
     "output_type": "execute_result"
    }
   ],
   "source": [
    "indiv.shape, indiv_valid.shape"
   ]
  },
  {
   "cell_type": "markdown",
   "id": "7cd1df7b",
   "metadata": {},
   "source": [
    "## For the original dataframe \n",
    "\n",
    "~ we will divide features into numeric, categorical and response variables"
   ]
  },
  {
   "cell_type": "code",
   "execution_count": 27,
   "id": "df34877b",
   "metadata": {},
   "outputs": [],
   "source": [
    "# leads_categorical_columns = ['cust_in_top_10_sales', 'store_top_tran',\n",
    "#        'store_top_tires_tran', 'vehicle_tire_svc', 'vhc_tire_purchase',\n",
    "#        'vhc_early_tire_purchase', 'top_cust_overall', 'top_cust_tire_purch',\n",
    "#        'indiv_make_tire_pch', 'make_prop_tire', 'MODEL_prop_tire',\n",
    "#        'SUB_MODEL_prop_tire']\n",
    "\n",
    "# consider adding those columns to the indiv dataset \n",
    "# leads_numeric_columns = ['SALES',\n",
    "#                          'UNITS',\n",
    "#                          'MODEL_YEAR']\n",
    "\n",
    "\n",
    "leads_response_columns = ['label']"
   ]
  },
  {
   "cell_type": "code",
   "execution_count": 28,
   "id": "a12ed9ba",
   "metadata": {},
   "outputs": [],
   "source": [
    "# df = pd.concat([data[leads_numeric_columns], data[leads_categorical_columns], data[leads_response_columns]], axis = 1)"
   ]
  },
  {
   "cell_type": "markdown",
   "id": "edff661b",
   "metadata": {},
   "source": [
    "## Splitting outcome and features"
   ]
  },
  {
   "cell_type": "code",
   "execution_count": 29,
   "id": "0719a808",
   "metadata": {},
   "outputs": [],
   "source": [
    "leads_x_train = indiv.drop(leads_response_columns, axis=1)\n",
    "\n",
    "leads_y_train = indiv[leads_response_columns]\n",
    "\n",
    "leads_x_valid = indiv_valid.drop(leads_response_columns, axis=1)\n",
    "\n",
    "leads_y_valid = indiv_valid[leads_response_columns]"
   ]
  },
  {
   "cell_type": "markdown",
   "id": "ff849f4a",
   "metadata": {},
   "source": [
    "## scaling numerical columns"
   ]
  },
  {
   "cell_type": "markdown",
   "id": "361ee564",
   "metadata": {},
   "source": [
    "##### consider this after adding the numerical columns"
   ]
  },
  {
   "cell_type": "code",
   "execution_count": 30,
   "id": "9f13789e",
   "metadata": {},
   "outputs": [],
   "source": [
    "# scaler = StandardScaler()\n",
    "# scaler = scaler.fit(leads_x_train[leads_numeric_columns])"
   ]
  },
  {
   "cell_type": "markdown",
   "id": "fe6ce0e3",
   "metadata": {},
   "source": [
    "## pre modeling adjustments "
   ]
  },
  {
   "cell_type": "markdown",
   "id": "42431d01",
   "metadata": {},
   "source": [
    "- create df with selected columns\n",
    "- Use the fitted scaler to center and scale the numeric columns   -- TO BE DONE!\n",
    "- Turn categorical variables into one-hot encoded variables\n",
    "- Ensure that all columns from the training dataset are also in the outputted, processed dataset (This is important so that all levels of dummy variables are created, even if the dataset we import doesn’t have each individual level.)"
   ]
  },
  {
   "cell_type": "code",
   "execution_count": 31,
   "id": "71bc269f",
   "metadata": {},
   "outputs": [],
   "source": [
    "# for later use \n",
    "\n",
    "# def pre_process_leads_data(df,\n",
    "#                            numeric_columns,\n",
    "#                            categorical_columns,\n",
    "#                            fitted_scaler,\n",
    "#                            train_df_columns = None):\n",
    "#     ## create new df with selected columns\n",
    "# #     df.columns = map(str.lower, df.columns)\n",
    "#     _df = df[set(numeric_columns + categorical_columns)].copy()\n",
    "    \n",
    "#     ## scale the numeric columns with the pre-built scaler\n",
    "#     _df[numeric_columns] = fitted_scaler.transform(_df[numeric_columns])\n",
    "         \n",
    "#     # First, make categorical text lowercase\n",
    "#     _df[categorical_columns] = _df[categorical_columns].apply(lambda x: x.str.lower())\n",
    "#     # Next, create one-hot-encoded variables, add to dataframe, drop old columns\n",
    "#     _df_dummies = pd.get_dummies(_df[categorical_columns], drop_first=True)\n",
    "#     _df = pd.concat([_df, _df_dummies], axis=1)\n",
    "#     _df.drop(categorical_columns, axis=1, inplace = True)\n",
    "\n",
    "#     if train_df_columns:\n",
    "#         _df = _df.reindex(columns=train_df_columns, fill_value=0)\n",
    "\n",
    "#     return _df"
   ]
  },
  {
   "cell_type": "code",
   "execution_count": 32,
   "id": "a2342753",
   "metadata": {},
   "outputs": [],
   "source": [
    "# leads_x_train_clean = pre_process_leads_data(df = leads_x_train,\n",
    "# #                                              fitted_scaler = scaler\n",
    "# #                                             numeric_columns = leads_numeric_columns,\n",
    "#                                             categorical_columns = leads_categorical_columns\n",
    "#                                             )\n",
    "\n",
    "# leads_x_test_clean = pre_process_leads_data(df = leads_x_test,\n",
    "#                                            numeric_columns = leads_numeric_columns,\n",
    "#                                            categorical_columns = leads_categorical_columns,\n",
    "#                                            fitted_scaler = scaler,\n",
    "#                                            train_df_columns = leads_x_train_clean.columns.tolist())\n"
   ]
  },
  {
   "cell_type": "markdown",
   "id": "06735639",
   "metadata": {},
   "source": [
    "## Model training "
   ]
  },
  {
   "cell_type": "code",
   "execution_count": 33,
   "id": "52857db6",
   "metadata": {},
   "outputs": [
    {
     "data": {
      "text/plain": [
       "RandomForestClassifier(min_samples_split=4, n_estimators=5)"
      ]
     },
     "execution_count": 33,
     "metadata": {},
     "output_type": "execute_result"
    }
   ],
   "source": [
    "## Train the random forest model\n",
    "num_estimators = 5\n",
    "min_samples = 4\n",
    "\n",
    "rf = RandomForestClassifier(n_estimators=num_estimators,\n",
    "                            min_samples_split=min_samples)\n",
    "rf.fit(leads_x_train.iloc[:, 1:], leads_y_train.values.ravel())"
   ]
  },
  {
   "cell_type": "markdown",
   "id": "d1c18f6a",
   "metadata": {},
   "source": [
    "## Testing the model"
   ]
  },
  {
   "cell_type": "markdown",
   "id": "62890777",
   "metadata": {},
   "source": [
    "will use it once I get my test data "
   ]
  },
  {
   "cell_type": "code",
   "execution_count": 49,
   "id": "9cc1bf0b",
   "metadata": {},
   "outputs": [
    {
     "name": "stdout",
     "output_type": "stream",
     "text": [
      "0.9264661654135339 0.0\n"
     ]
    }
   ],
   "source": [
    "leads_y_valid_predicted = rf.predict(leads_x_valid.iloc[:, 1:])\n",
    "\n",
    "accuracy = accuracy_score(leads_y_valid, leads_y_valid_predicted)\n",
    "# auc_score = metrics.roc_auc_score(leads_y_test, leads_y_test_predicted)\n",
    "recall = recall_score(leads_y_valid, leads_y_valid_predicted)\n",
    "# precision = precision_score(leads_y_valid, leads_y_valid_predicted)\n",
    "\n",
    "print(accuracy, recall)\n",
    "\n",
    "# print(auc_score)"
   ]
  },
  {
   "cell_type": "markdown",
   "id": "209a6d96",
   "metadata": {},
   "source": [
    "# we have to balance the dataset"
   ]
  }
 ],
 "metadata": {
  "kernelspec": {
   "display_name": "Python 3",
   "language": "python",
   "name": "python3"
  },
  "language_info": {
   "codemirror_mode": {
    "name": "ipython",
    "version": 3
   },
   "file_extension": ".py",
   "mimetype": "text/x-python",
   "name": "python",
   "nbconvert_exporter": "python",
   "pygments_lexer": "ipython3",
   "version": "3.7.9"
  }
 },
 "nbformat": 4,
 "nbformat_minor": 5
}
