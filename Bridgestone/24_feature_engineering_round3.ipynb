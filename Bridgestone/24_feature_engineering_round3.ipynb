{
 "cells": [
  {
   "cell_type": "code",
   "execution_count": 2,
   "metadata": {},
   "outputs": [],
   "source": [
    "import pandas as pd\n",
    "import numpy as np\n",
    "import random"
   ]
  },
  {
   "cell_type": "code",
   "execution_count": 3,
   "metadata": {},
   "outputs": [],
   "source": [
    "pd.set_option('display.max_columns', None)\n",
    "pd.set_option('display.max_rows', None)"
   ]
  },
  {
   "cell_type": "code",
   "execution_count": 4,
   "metadata": {},
   "outputs": [],
   "source": [
    "dy = pd.read_csv(\n",
    "         '../../../AprOct15_trimmed.csv')"
   ]
  },
  {
   "cell_type": "code",
   "execution_count": 5,
   "metadata": {},
   "outputs": [],
   "source": [
    "dn = pd.read_csv(\n",
    "         '../../../Nov15_trimmed.csv')"
   ]
  },
  {
   "cell_type": "code",
   "execution_count": 6,
   "metadata": {},
   "outputs": [],
   "source": [
    "targets = dn[dn['PROD_GROUP_CODE'] == 5]['INDIV_ID'].unique()\n",
    "year_indivs = pd.DataFrame({'indiv':dy['INDIV_ID'].unique()})\n",
    "year_indivs['label'] = np.where(year_indivs['indiv'].isin(targets), 1, 0) "
   ]
  },
  {
   "cell_type": "markdown",
   "metadata": {},
   "source": [
    "## Segment\n",
    "### Example of 2015 trimmed"
   ]
  },
  {
   "cell_type": "code",
   "execution_count": 7,
   "metadata": {},
   "outputs": [],
   "source": [
    "segment_tire_sales = dy[dy['PROD_GROUP_CODE']==5].groupby(['SEGMENT_DESC'])['SALES'].count().to_frame()"
   ]
  },
  {
   "cell_type": "code",
   "execution_count": 8,
   "metadata": {},
   "outputs": [],
   "source": [
    "segment_tire_sales.rename(columns = {'SALES': 'NUMBER_OF_TIRE_SALES'},inplace = True)"
   ]
  },
  {
   "cell_type": "code",
   "execution_count": 9,
   "metadata": {},
   "outputs": [],
   "source": [
    "top_5_segment_tire_sales = segment_tire_sales.sort_values('NUMBER_OF_TIRE_SALES', ascending = False)[:5]"
   ]
  },
  {
   "cell_type": "code",
   "execution_count": 10,
   "metadata": {},
   "outputs": [],
   "source": [
    "top_10_segment_tire_sales = segment_tire_sales.sort_values('NUMBER_OF_TIRE_SALES', ascending = False)[:10]"
   ]
  },
  {
   "cell_type": "markdown",
   "metadata": {},
   "source": [
    "#### Top 5"
   ]
  },
  {
   "cell_type": "code",
   "execution_count": 11,
   "metadata": {},
   "outputs": [
    {
     "data": {
      "text/html": [
       "<div>\n",
       "<table border=\"1\" class=\"dataframe\">\n",
       "  <thead>\n",
       "    <tr style=\"text-align: right;\">\n",
       "      <th></th>\n",
       "      <th>NUMBER_OF_TIRE_SALES</th>\n",
       "    </tr>\n",
       "    <tr>\n",
       "      <th>SEGMENT_DESC</th>\n",
       "      <th></th>\n",
       "    </tr>\n",
       "  </thead>\n",
       "  <tbody>\n",
       "    <tr>\n",
       "      <th>Road Hazard</th>\n",
       "      <td>1046817</td>\n",
       "    </tr>\n",
       "    <tr>\n",
       "      <th>Touring</th>\n",
       "      <td>758644</td>\n",
       "    </tr>\n",
       "    <tr>\n",
       "      <th>Performance Tires</th>\n",
       "      <td>474114</td>\n",
       "    </tr>\n",
       "    <tr>\n",
       "      <th>P Metric Light Truck Tires</th>\n",
       "      <td>282265</td>\n",
       "    </tr>\n",
       "    <tr>\n",
       "      <th>P-Metric CUV/SUV</th>\n",
       "      <td>218444</td>\n",
       "    </tr>\n",
       "  </tbody>\n",
       "</table>\n",
       "</div>"
      ],
      "text/plain": [
       "                            NUMBER_OF_TIRE_SALES\n",
       "SEGMENT_DESC                                    \n",
       "Road Hazard                              1046817\n",
       "Touring                                   758644\n",
       "Performance Tires                         474114\n",
       "P Metric Light Truck Tires                282265\n",
       "P-Metric CUV/SUV                          218444"
      ]
     },
     "execution_count": 11,
     "metadata": {},
     "output_type": "execute_result"
    }
   ],
   "source": [
    "top_5_segment_tire_sales"
   ]
  },
  {
   "cell_type": "code",
   "execution_count": 12,
   "metadata": {},
   "outputs": [],
   "source": [
    "top_5_segment_tire_sales.reset_index(inplace = True)\n",
    "top_5_segment_tire_sales = top_5_segment_tire_sales['SEGMENT_DESC']"
   ]
  },
  {
   "cell_type": "code",
   "execution_count": 13,
   "metadata": {},
   "outputs": [],
   "source": [
    "indiv_top_5_segment_tire_sales = dy[dy['SEGMENT_DESC'].isin(top_5_segment_tire_sales)]['INDIV_ID']"
   ]
  },
  {
   "cell_type": "code",
   "execution_count": 14,
   "metadata": {},
   "outputs": [],
   "source": [
    "year_indivs['top_5_segment'] = np.where(year_indivs.indiv.isin(indiv_top_5_segment_tire_sales), 1, 0)"
   ]
  },
  {
   "cell_type": "code",
   "execution_count": 15,
   "metadata": {},
   "outputs": [
    {
     "data": {
      "text/plain": [
       "0    1696941\n",
       "1     868624\n",
       "Name: top_5_segment, dtype: int64"
      ]
     },
     "execution_count": 15,
     "metadata": {},
     "output_type": "execute_result"
    }
   ],
   "source": [
    "year_indivs['top_5_segment'].value_counts()"
   ]
  },
  {
   "cell_type": "markdown",
   "metadata": {},
   "source": [
    "#### Top 10"
   ]
  },
  {
   "cell_type": "code",
   "execution_count": 16,
   "metadata": {},
   "outputs": [
    {
     "data": {
      "text/html": [
       "<div>\n",
       "<table border=\"1\" class=\"dataframe\">\n",
       "  <thead>\n",
       "    <tr style=\"text-align: right;\">\n",
       "      <th></th>\n",
       "      <th>NUMBER_OF_TIRE_SALES</th>\n",
       "    </tr>\n",
       "    <tr>\n",
       "      <th>SEGMENT_DESC</th>\n",
       "      <th></th>\n",
       "    </tr>\n",
       "  </thead>\n",
       "  <tbody>\n",
       "    <tr>\n",
       "      <th>Road Hazard</th>\n",
       "      <td>1046817</td>\n",
       "    </tr>\n",
       "    <tr>\n",
       "      <th>Touring</th>\n",
       "      <td>758644</td>\n",
       "    </tr>\n",
       "    <tr>\n",
       "      <th>Performance Tires</th>\n",
       "      <td>474114</td>\n",
       "    </tr>\n",
       "    <tr>\n",
       "      <th>P Metric Light Truck Tires</th>\n",
       "      <td>282265</td>\n",
       "    </tr>\n",
       "    <tr>\n",
       "      <th>P-Metric CUV/SUV</th>\n",
       "      <td>218444</td>\n",
       "    </tr>\n",
       "    <tr>\n",
       "      <th>Miscellaneous Tire Related Items</th>\n",
       "      <td>146646</td>\n",
       "    </tr>\n",
       "    <tr>\n",
       "      <th>Other Passenger Tires</th>\n",
       "      <td>58313</td>\n",
       "    </tr>\n",
       "    <tr>\n",
       "      <th>Recreational Tires</th>\n",
       "      <td>41896</td>\n",
       "    </tr>\n",
       "    <tr>\n",
       "      <th>Commercial Tires</th>\n",
       "      <td>27348</td>\n",
       "    </tr>\n",
       "    <tr>\n",
       "      <th>Snow Tires-PS</th>\n",
       "      <td>5456</td>\n",
       "    </tr>\n",
       "  </tbody>\n",
       "</table>\n",
       "</div>"
      ],
      "text/plain": [
       "                                  NUMBER_OF_TIRE_SALES\n",
       "SEGMENT_DESC                                          \n",
       "Road Hazard                                    1046817\n",
       "Touring                                         758644\n",
       "Performance Tires                               474114\n",
       "P Metric Light Truck Tires                      282265\n",
       "P-Metric CUV/SUV                                218444\n",
       "Miscellaneous Tire Related Items                146646\n",
       "Other Passenger Tires                            58313\n",
       "Recreational Tires                               41896\n",
       "Commercial Tires                                 27348\n",
       "Snow Tires-PS                                     5456"
      ]
     },
     "execution_count": 16,
     "metadata": {},
     "output_type": "execute_result"
    }
   ],
   "source": [
    "top_10_segment_tire_sales"
   ]
  },
  {
   "cell_type": "code",
   "execution_count": 17,
   "metadata": {},
   "outputs": [],
   "source": [
    "top_10_segment_tire_sales.reset_index(inplace = True)\n",
    "top_10_segment_tire_sales = top_10_segment_tire_sales['SEGMENT_DESC']"
   ]
  },
  {
   "cell_type": "code",
   "execution_count": 18,
   "metadata": {},
   "outputs": [
    {
     "data": {
      "text/plain": [
       "0                         Road Hazard\n",
       "1                             Touring\n",
       "2                   Performance Tires\n",
       "3          P Metric Light Truck Tires\n",
       "4                    P-Metric CUV/SUV\n",
       "5    Miscellaneous Tire Related Items\n",
       "6               Other Passenger Tires\n",
       "7                  Recreational Tires\n",
       "8                    Commercial Tires\n",
       "9                       Snow Tires-PS\n",
       "Name: SEGMENT_DESC, dtype: object"
      ]
     },
     "execution_count": 18,
     "metadata": {},
     "output_type": "execute_result"
    }
   ],
   "source": [
    "top_10_segment_tire_sales"
   ]
  },
  {
   "cell_type": "code",
   "execution_count": 19,
   "metadata": {},
   "outputs": [],
   "source": [
    "indiv_top_10_segment_tire_sales = dy[dy['SEGMENT_DESC'].isin(top_10_segment_tire_sales)]['INDIV_ID']"
   ]
  },
  {
   "cell_type": "code",
   "execution_count": 20,
   "metadata": {},
   "outputs": [],
   "source": [
    "year_indivs['top_10_segment'] = np.where(year_indivs.indiv.isin(indiv_top_10_segment_tire_sales), 1, 0)"
   ]
  },
  {
   "cell_type": "code",
   "execution_count": 21,
   "metadata": {},
   "outputs": [
    {
     "data": {
      "text/plain": [
       "0    1652914\n",
       "1     912651\n",
       "Name: top_10_segment, dtype: int64"
      ]
     },
     "execution_count": 21,
     "metadata": {},
     "output_type": "execute_result"
    }
   ],
   "source": [
    "year_indivs['top_10_segment'].value_counts()"
   ]
  },
  {
   "cell_type": "code",
   "execution_count": null,
   "metadata": {},
   "outputs": [],
   "source": []
  }
 ],
 "metadata": {
  "kernelspec": {
   "display_name": "Python 3",
   "language": "python",
   "name": "python3"
  },
  "language_info": {
   "codemirror_mode": {
    "name": "ipython",
    "version": 3
   },
   "file_extension": ".py",
   "mimetype": "text/x-python",
   "name": "python",
   "nbconvert_exporter": "python",
   "pygments_lexer": "ipython3",
   "version": "3.6.1"
  }
 },
 "nbformat": 4,
 "nbformat_minor": 2
}
