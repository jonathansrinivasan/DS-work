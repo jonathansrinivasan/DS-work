{
 "cells": [
  {
   "cell_type": "markdown",
   "id": "dd9cf574",
   "metadata": {},
   "source": [
    "### Exploratory data analysis\n",
    "\n",
    "- In this dataset, we aim at having a look at the data and figuring out what features can be used for modeling"
   ]
  },
  {
   "cell_type": "code",
   "execution_count": null,
   "id": "8603ed03",
   "metadata": {},
   "outputs": [],
   "source": [
    "# https://towardsdatascience.com/consistently-beautiful-visualizations-with-altair-themes-c7f9f889602 "
   ]
  },
  {
   "cell_type": "code",
   "execution_count": 61,
   "id": "1ed18245",
   "metadata": {},
   "outputs": [],
   "source": [
    "import pandas as pd \n",
    "import altair as alt\n",
    "import numpy as np\n",
    "from collections import Counter as cnt\n",
    "import random \n",
    "import seaborn as sns \n",
    "import matplotlib.pyplot as plt\n",
    "# import urban_theme"
   ]
  },
  {
   "cell_type": "code",
   "execution_count": 39,
   "id": "9c9f34f5",
   "metadata": {},
   "outputs": [],
   "source": [
    "# alt.themes.register(\"my_custom_theme\", urban_theme)  # this is to make use of altair theme (urban theme) that I have downloaded\n",
    "# alt.themes.enable(\"my_custom_theme\")"
   ]
  },
  {
   "cell_type": "code",
   "execution_count": 5,
   "id": "6f656a79",
   "metadata": {},
   "outputs": [],
   "source": [
    "# data = pd.read_csv('../../../AprOct15_trimmed.csv')"
   ]
  },
  {
   "cell_type": "code",
   "execution_count": 3,
   "id": "9b9c578b",
   "metadata": {},
   "outputs": [
    {
     "ename": "NameError",
     "evalue": "name 'data' is not defined",
     "output_type": "error",
     "traceback": [
      "\u001b[0;31m---------------------------------------------------------------------------\u001b[0m",
      "\u001b[0;31mNameError\u001b[0m                                 Traceback (most recent call last)",
      "\u001b[0;32m<ipython-input-3-047ed65ff157>\u001b[0m in \u001b[0;36m<module>\u001b[0;34m\u001b[0m\n\u001b[0;32m----> 1\u001b[0;31m \u001b[0mdata\u001b[0m\u001b[0;34m.\u001b[0m\u001b[0mshape\u001b[0m\u001b[0;34m\u001b[0m\u001b[0;34m\u001b[0m\u001b[0m\n\u001b[0m",
      "\u001b[0;31mNameError\u001b[0m: name 'data' is not defined"
     ]
    }
   ],
   "source": [
    "# data.shape"
   ]
  },
  {
   "cell_type": "code",
   "execution_count": 4,
   "id": "bad2b42b",
   "metadata": {},
   "outputs": [],
   "source": [
    "data15 = pd.read_csv('../../../AprOct15_trimmed.csv', index_col = 0, skiprows = lambda i: i>0 and random.random() > 0.0001)\n",
    "data16 = pd.read_csv('../../../JanOct16_trimmed.csv', index_col = 0, skiprows = lambda i: i>0 and random.random() > 0.0001)\n",
    "data17 = pd.read_csv('../../../JanOct17_trimmed.csv', index_col = 0, skiprows = lambda i: i>0 and random.random() > 0.0001)\n",
    "data18 = pd.read_csv('../../../JanOct18_trimmed.csv', index_col = 0, skiprows = lambda i: i>0 and random.random() > 0.0001)"
   ]
  },
  {
   "cell_type": "code",
   "execution_count": 38,
   "id": "35d6882b",
   "metadata": {},
   "outputs": [],
   "source": [
    "# data15 = pd.read_csv('../../../AprOct15_trimmed.csv')"
   ]
  },
  {
   "cell_type": "code",
   "execution_count": 39,
   "id": "58092bd3",
   "metadata": {},
   "outputs": [],
   "source": [
    "# data16 = pd.read_csv('../../../JanOct16_trimmed.csv')"
   ]
  },
  {
   "cell_type": "code",
   "execution_count": 40,
   "id": "3eb1ed7b",
   "metadata": {},
   "outputs": [],
   "source": [
    "# data17 = pd.read_csv('../../../JanOct17_trimmed.csv')"
   ]
  },
  {
   "cell_type": "code",
   "execution_count": null,
   "id": "747b008d",
   "metadata": {},
   "outputs": [],
   "source": [
    "# data18 = pd.read_csv('../../../JanOct18_trimmed.csv')"
   ]
  },
  {
   "cell_type": "code",
   "execution_count": 6,
   "id": "26c50e99",
   "metadata": {},
   "outputs": [],
   "source": [
    "data = pd.concat([data15, data16, data17, data18])"
   ]
  },
  {
   "cell_type": "code",
   "execution_count": 8,
   "id": "f7d35da3",
   "metadata": {},
   "outputs": [
    {
     "data": {
      "text/plain": [
       "(23830, 31)"
      ]
     },
     "execution_count": 8,
     "metadata": {},
     "output_type": "execute_result"
    }
   ],
   "source": [
    "data.shape"
   ]
  },
  {
   "cell_type": "code",
   "execution_count": 9,
   "id": "9cea78d1",
   "metadata": {},
   "outputs": [],
   "source": [
    "pd.set_option('display.max_columns', None)\n",
    "pd.set_option('display.max_rows', None)"
   ]
  },
  {
   "cell_type": "code",
   "execution_count": 10,
   "id": "080c1299",
   "metadata": {},
   "outputs": [],
   "source": [
    "data = data.iloc[:,1:]"
   ]
  },
  {
   "cell_type": "code",
   "execution_count": 11,
   "id": "5ebe7a25",
   "metadata": {},
   "outputs": [
    {
     "data": {
      "text/html": [
       "<div>\n",
       "<style scoped>\n",
       "    .dataframe tbody tr th:only-of-type {\n",
       "        vertical-align: middle;\n",
       "    }\n",
       "\n",
       "    .dataframe tbody tr th {\n",
       "        vertical-align: top;\n",
       "    }\n",
       "\n",
       "    .dataframe thead th {\n",
       "        text-align: right;\n",
       "    }\n",
       "</style>\n",
       "<table border=\"1\" class=\"dataframe\">\n",
       "  <thead>\n",
       "    <tr style=\"text-align: right;\">\n",
       "      <th></th>\n",
       "      <th>STORE_ID</th>\n",
       "      <th>TRAN_ID</th>\n",
       "      <th>DATE</th>\n",
       "      <th>ARTICLE_ID</th>\n",
       "      <th>INDIV_ID</th>\n",
       "      <th>VEHICLE_ID</th>\n",
       "      <th>UNITS</th>\n",
       "      <th>SALES</th>\n",
       "      <th>STATE_CODE</th>\n",
       "      <th>ZIP_CODE</th>\n",
       "      <th>MSA</th>\n",
       "      <th>MAKE</th>\n",
       "      <th>MODEL</th>\n",
       "      <th>SUB_MODEL</th>\n",
       "      <th>MODEL_YEAR</th>\n",
       "      <th>PROD_GROUP_CODE</th>\n",
       "      <th>PROD_GROUP_DESC</th>\n",
       "      <th>CATEGORY_CODE</th>\n",
       "      <th>CATEGORY_DESC</th>\n",
       "      <th>SEGMENT_CODE</th>\n",
       "      <th>SEGMENT_DESC</th>\n",
       "      <th>CLASS_CODE</th>\n",
       "      <th>CLASS_DESC</th>\n",
       "      <th>DISCOUNT_FLAG</th>\n",
       "      <th>CROSS_SECTION</th>\n",
       "      <th>ASPECT_RATIO</th>\n",
       "      <th>RIM_SIZE</th>\n",
       "      <th>EMAIL_OPTIN_IND</th>\n",
       "      <th>AH1_RES_BUS_INDC</th>\n",
       "      <th>SUPP1_BUS_PANDER</th>\n",
       "    </tr>\n",
       "  </thead>\n",
       "  <tbody>\n",
       "    <tr>\n",
       "      <th>12028</th>\n",
       "      <td>227600</td>\n",
       "      <td>991055650</td>\n",
       "      <td>2015-04-15</td>\n",
       "      <td>7006016</td>\n",
       "      <td>258724282.0</td>\n",
       "      <td>938410713</td>\n",
       "      <td>0.0</td>\n",
       "      <td>-7.50</td>\n",
       "      <td>IN</td>\n",
       "      <td>47374</td>\n",
       "      <td>NaN</td>\n",
       "      <td>FORD</td>\n",
       "      <td>ESCORT SE</td>\n",
       "      <td>SE</td>\n",
       "      <td>1998.0</td>\n",
       "      <td>4.0</td>\n",
       "      <td>Services</td>\n",
       "      <td>62.0</td>\n",
       "      <td>Tire Services</td>\n",
       "      <td>91.0</td>\n",
       "      <td>Tire Services</td>\n",
       "      <td>147.0</td>\n",
       "      <td>Balance</td>\n",
       "      <td>Y</td>\n",
       "      <td>NaN</td>\n",
       "      <td>NaN</td>\n",
       "      <td>NaN</td>\n",
       "      <td>Y</td>\n",
       "      <td>R</td>\n",
       "      <td>N</td>\n",
       "    </tr>\n",
       "    <tr>\n",
       "      <th>27213</th>\n",
       "      <td>15601</td>\n",
       "      <td>992338170</td>\n",
       "      <td>2015-04-04</td>\n",
       "      <td>7001674</td>\n",
       "      <td>303471739.0</td>\n",
       "      <td>938166247</td>\n",
       "      <td>0.0</td>\n",
       "      <td>-0.66</td>\n",
       "      <td>IL</td>\n",
       "      <td>60173</td>\n",
       "      <td>CHICAGO,IL</td>\n",
       "      <td>KIA</td>\n",
       "      <td>OPTIMA EX</td>\n",
       "      <td>NaN</td>\n",
       "      <td>2015.0</td>\n",
       "      <td>4.0</td>\n",
       "      <td>Services</td>\n",
       "      <td>74.0</td>\n",
       "      <td>Engine Systems</td>\n",
       "      <td>106.0</td>\n",
       "      <td>Lubrication Services</td>\n",
       "      <td>389.0</td>\n",
       "      <td>Oil Change</td>\n",
       "      <td>Y</td>\n",
       "      <td>NaN</td>\n",
       "      <td>NaN</td>\n",
       "      <td>NaN</td>\n",
       "      <td>Y</td>\n",
       "      <td>R</td>\n",
       "      <td>N</td>\n",
       "    </tr>\n",
       "    <tr>\n",
       "      <th>86144</th>\n",
       "      <td>328309</td>\n",
       "      <td>990765470</td>\n",
       "      <td>2015-04-27</td>\n",
       "      <td>7046930</td>\n",
       "      <td>543569204.0</td>\n",
       "      <td>923086001</td>\n",
       "      <td>0.0</td>\n",
       "      <td>0.00</td>\n",
       "      <td>OK</td>\n",
       "      <td>73503</td>\n",
       "      <td>LAWTON,OK</td>\n",
       "      <td>FORD</td>\n",
       "      <td>FLEX LIMITED</td>\n",
       "      <td>Limited</td>\n",
       "      <td>2009.0</td>\n",
       "      <td>4.0</td>\n",
       "      <td>Services</td>\n",
       "      <td>81.0</td>\n",
       "      <td>Miscellaneous Services</td>\n",
       "      <td>109.0</td>\n",
       "      <td>Inspection Services</td>\n",
       "      <td>473.0</td>\n",
       "      <td>Courtesy Check</td>\n",
       "      <td>N</td>\n",
       "      <td>NaN</td>\n",
       "      <td>NaN</td>\n",
       "      <td>NaN</td>\n",
       "      <td>Y</td>\n",
       "      <td>R</td>\n",
       "      <td>N</td>\n",
       "    </tr>\n",
       "    <tr>\n",
       "      <th>94601</th>\n",
       "      <td>328315</td>\n",
       "      <td>990771980</td>\n",
       "      <td>2015-04-02</td>\n",
       "      <td>7046930</td>\n",
       "      <td>500833541.0</td>\n",
       "      <td>933373111</td>\n",
       "      <td>0.0</td>\n",
       "      <td>0.00</td>\n",
       "      <td>UT</td>\n",
       "      <td>84056</td>\n",
       "      <td>OGDEN, UT</td>\n",
       "      <td>BMW</td>\n",
       "      <td>330I BASE</td>\n",
       "      <td>w/Sport Pkg.</td>\n",
       "      <td>2006.0</td>\n",
       "      <td>4.0</td>\n",
       "      <td>Services</td>\n",
       "      <td>81.0</td>\n",
       "      <td>Miscellaneous Services</td>\n",
       "      <td>109.0</td>\n",
       "      <td>Inspection Services</td>\n",
       "      <td>473.0</td>\n",
       "      <td>Courtesy Check</td>\n",
       "      <td>N</td>\n",
       "      <td>NaN</td>\n",
       "      <td>NaN</td>\n",
       "      <td>NaN</td>\n",
       "      <td>Y</td>\n",
       "      <td>R</td>\n",
       "      <td>N</td>\n",
       "    </tr>\n",
       "    <tr>\n",
       "      <th>98365</th>\n",
       "      <td>7056</td>\n",
       "      <td>991583160</td>\n",
       "      <td>2015-04-11</td>\n",
       "      <td>7001708</td>\n",
       "      <td>543114638.0</td>\n",
       "      <td>909695656</td>\n",
       "      <td>0.0</td>\n",
       "      <td>0.00</td>\n",
       "      <td>MD</td>\n",
       "      <td>20737</td>\n",
       "      <td>WASHINGTON</td>\n",
       "      <td>MAZDA</td>\n",
       "      <td>CX-9 GRAND TOURING</td>\n",
       "      <td>Grand Touring</td>\n",
       "      <td>2010.0</td>\n",
       "      <td>4.0</td>\n",
       "      <td>Services</td>\n",
       "      <td>73.0</td>\n",
       "      <td>Brake Systems</td>\n",
       "      <td>102.0</td>\n",
       "      <td>Brake Service</td>\n",
       "      <td>521.0</td>\n",
       "      <td>Basic Brake Job Labor</td>\n",
       "      <td>Y</td>\n",
       "      <td>NaN</td>\n",
       "      <td>NaN</td>\n",
       "      <td>NaN</td>\n",
       "      <td>Y</td>\n",
       "      <td>R</td>\n",
       "      <td>N</td>\n",
       "    </tr>\n",
       "  </tbody>\n",
       "</table>\n",
       "</div>"
      ],
      "text/plain": [
       "       STORE_ID    TRAN_ID        DATE  ARTICLE_ID     INDIV_ID  VEHICLE_ID  \\\n",
       "12028    227600  991055650  2015-04-15     7006016  258724282.0   938410713   \n",
       "27213     15601  992338170  2015-04-04     7001674  303471739.0   938166247   \n",
       "86144    328309  990765470  2015-04-27     7046930  543569204.0   923086001   \n",
       "94601    328315  990771980  2015-04-02     7046930  500833541.0   933373111   \n",
       "98365      7056  991583160  2015-04-11     7001708  543114638.0   909695656   \n",
       "\n",
       "       UNITS  SALES STATE_CODE  ZIP_CODE         MSA   MAKE  \\\n",
       "12028    0.0  -7.50         IN     47374         NaN   FORD   \n",
       "27213    0.0  -0.66         IL     60173  CHICAGO,IL    KIA   \n",
       "86144    0.0   0.00         OK     73503   LAWTON,OK   FORD   \n",
       "94601    0.0   0.00         UT     84056   OGDEN, UT    BMW   \n",
       "98365    0.0   0.00         MD     20737  WASHINGTON  MAZDA   \n",
       "\n",
       "                    MODEL      SUB_MODEL  MODEL_YEAR  PROD_GROUP_CODE  \\\n",
       "12028           ESCORT SE             SE      1998.0              4.0   \n",
       "27213           OPTIMA EX            NaN      2015.0              4.0   \n",
       "86144        FLEX LIMITED        Limited      2009.0              4.0   \n",
       "94601           330I BASE   w/Sport Pkg.      2006.0              4.0   \n",
       "98365  CX-9 GRAND TOURING  Grand Touring      2010.0              4.0   \n",
       "\n",
       "      PROD_GROUP_DESC  CATEGORY_CODE           CATEGORY_DESC  SEGMENT_CODE  \\\n",
       "12028        Services           62.0           Tire Services          91.0   \n",
       "27213        Services           74.0          Engine Systems         106.0   \n",
       "86144        Services           81.0  Miscellaneous Services         109.0   \n",
       "94601        Services           81.0  Miscellaneous Services         109.0   \n",
       "98365        Services           73.0           Brake Systems         102.0   \n",
       "\n",
       "               SEGMENT_DESC  CLASS_CODE             CLASS_DESC DISCOUNT_FLAG  \\\n",
       "12028         Tire Services       147.0                Balance             Y   \n",
       "27213  Lubrication Services       389.0             Oil Change             Y   \n",
       "86144   Inspection Services       473.0         Courtesy Check             N   \n",
       "94601   Inspection Services       473.0         Courtesy Check             N   \n",
       "98365         Brake Service       521.0  Basic Brake Job Labor             Y   \n",
       "\n",
       "      CROSS_SECTION ASPECT_RATIO RIM_SIZE EMAIL_OPTIN_IND AH1_RES_BUS_INDC  \\\n",
       "12028           NaN          NaN      NaN               Y                R   \n",
       "27213           NaN          NaN      NaN               Y                R   \n",
       "86144           NaN          NaN      NaN               Y                R   \n",
       "94601           NaN          NaN      NaN               Y                R   \n",
       "98365           NaN          NaN      NaN               Y                R   \n",
       "\n",
       "      SUPP1_BUS_PANDER  \n",
       "12028                N  \n",
       "27213                N  \n",
       "86144                N  \n",
       "94601                N  \n",
       "98365                N  "
      ]
     },
     "execution_count": 11,
     "metadata": {},
     "output_type": "execute_result"
    }
   ],
   "source": [
    "data.head()"
   ]
  },
  {
   "cell_type": "code",
   "execution_count": 12,
   "id": "c0f7e58f",
   "metadata": {},
   "outputs": [],
   "source": [
    "data['label'] = np.where(data['PROD_GROUP_CODE'] == 5, 1, 0)"
   ]
  },
  {
   "cell_type": "code",
   "execution_count": 13,
   "id": "376a86eb",
   "metadata": {},
   "outputs": [
    {
     "data": {
      "text/plain": [
       "Counter({0: 22321, 1: 1509})"
      ]
     },
     "execution_count": 13,
     "metadata": {},
     "output_type": "execute_result"
    }
   ],
   "source": [
    "cnt(data.label)"
   ]
  },
  {
   "cell_type": "markdown",
   "id": "9ce177f5",
   "metadata": {},
   "source": [
    "## Group by year and see trends for sales"
   ]
  },
  {
   "cell_type": "code",
   "execution_count": 14,
   "id": "d08434f8",
   "metadata": {},
   "outputs": [],
   "source": [
    "data['DATE'] = pd.to_datetime(data['DATE'])"
   ]
  },
  {
   "cell_type": "code",
   "execution_count": 15,
   "id": "fb0e1c6e",
   "metadata": {},
   "outputs": [],
   "source": [
    "data['year'] = pd.DatetimeIndex(data['DATE']).year\n",
    "data['month'] = pd.DatetimeIndex(data['DATE']).month"
   ]
  },
  {
   "cell_type": "code",
   "execution_count": 123,
   "id": "9524d063",
   "metadata": {},
   "outputs": [],
   "source": [
    "year_sales = data.groupby('year').agg({'SALES' : 'mean'}).reset_index()"
   ]
  },
  {
   "cell_type": "code",
   "execution_count": 124,
   "id": "c9077029",
   "metadata": {},
   "outputs": [
    {
     "data": {
      "text/html": [
       "<div>\n",
       "<style scoped>\n",
       "    .dataframe tbody tr th:only-of-type {\n",
       "        vertical-align: middle;\n",
       "    }\n",
       "\n",
       "    .dataframe tbody tr th {\n",
       "        vertical-align: top;\n",
       "    }\n",
       "\n",
       "    .dataframe thead th {\n",
       "        text-align: right;\n",
       "    }\n",
       "</style>\n",
       "<table border=\"1\" class=\"dataframe\">\n",
       "  <thead>\n",
       "    <tr style=\"text-align: right;\">\n",
       "      <th></th>\n",
       "      <th>year</th>\n",
       "      <th>SALES</th>\n",
       "    </tr>\n",
       "  </thead>\n",
       "  <tbody>\n",
       "    <tr>\n",
       "      <th>0</th>\n",
       "      <td>2015</td>\n",
       "      <td>17.839470</td>\n",
       "    </tr>\n",
       "    <tr>\n",
       "      <th>1</th>\n",
       "      <td>2016</td>\n",
       "      <td>19.164286</td>\n",
       "    </tr>\n",
       "    <tr>\n",
       "      <th>2</th>\n",
       "      <td>2017</td>\n",
       "      <td>19.858851</td>\n",
       "    </tr>\n",
       "    <tr>\n",
       "      <th>3</th>\n",
       "      <td>2018</td>\n",
       "      <td>20.316027</td>\n",
       "    </tr>\n",
       "  </tbody>\n",
       "</table>\n",
       "</div>"
      ],
      "text/plain": [
       "   year      SALES\n",
       "0  2015  17.839470\n",
       "1  2016  19.164286\n",
       "2  2017  19.858851\n",
       "3  2018  20.316027"
      ]
     },
     "execution_count": 124,
     "metadata": {},
     "output_type": "execute_result"
    }
   ],
   "source": [
    "year_sales"
   ]
  },
  {
   "cell_type": "code",
   "execution_count": 131,
   "id": "4110e0c1",
   "metadata": {},
   "outputs": [
    {
     "data": {
      "text/plain": [
       "0    2015\n",
       "1    2016\n",
       "2    2017\n",
       "3    2018\n",
       "Name: year, dtype: int64"
      ]
     },
     "execution_count": 131,
     "metadata": {},
     "output_type": "execute_result"
    }
   ],
   "source": [
    "year_sales['year']"
   ]
  },
  {
   "cell_type": "markdown",
   "id": "63ee4902",
   "metadata": {},
   "source": [
    "## Customizing seaborn style"
   ]
  },
  {
   "cell_type": "code",
   "execution_count": 142,
   "id": "193ff9c0",
   "metadata": {},
   "outputs": [],
   "source": [
    "sns.set(style='darkgrid', context='talk', palette='rainbow')\n",
    "plt.rcParams[\"figure.figsize\"] = (10, 8)"
   ]
  },
  {
   "cell_type": "code",
   "execution_count": 144,
   "id": "ef2cf093",
   "metadata": {},
   "outputs": [
    {
     "data": {
      "image/png": "[encoded data removed]",
      "text/plain": [
       "<Figure size 720x576 with 1 Axes>"
      ]
     },
     "metadata": {},
     "output_type": "display_data"
    }
   ],
   "source": [
    "# alt.Chart(year_sales).mark_line().encode(\n",
    "#     x='year:N',\n",
    "#     y='SALES:Q', \n",
    "#     tooltip = ['year:N', 'SALES:Q']\n",
    "# ).properties(\n",
    "#     width=800,\n",
    "#     height=200\n",
    "# ).interactive()\n",
    "year_sales['SALES'] = year_sales['SALES'].astype('float')\n",
    "sns.lineplot(data = year_sales, x = 'year', y = 'SALES');\n",
    "# plt.yaxis.set_major_locator(MaxNLocator(integer=True))\n",
    "# from matplotlib.ticker import MaxNLocator\n",
    "\n",
    "# ax = fig.gca()\n",
    "# ax.yaxis.set_major_locator(MaxNLocator(integer=True))"
   ]
  },
  {
   "cell_type": "markdown",
   "id": "d34153d1",
   "metadata": {},
   "source": [
    "## Group by month and see trends for sales"
   ]
  },
  {
   "cell_type": "code",
   "execution_count": 169,
   "id": "f421035a",
   "metadata": {},
   "outputs": [],
   "source": [
    "month_sales = data.query('PROD_GROUP_CODE == 5').groupby('month').agg({'SALES' : 'mean'}).reset_index()"
   ]
  },
  {
   "cell_type": "code",
   "execution_count": 170,
   "id": "7e9d39d5",
   "metadata": {},
   "outputs": [
    {
     "data": {
      "text/html": [
       "<div>\n",
       "<style scoped>\n",
       "    .dataframe tbody tr th:only-of-type {\n",
       "        vertical-align: middle;\n",
       "    }\n",
       "\n",
       "    .dataframe tbody tr th {\n",
       "        vertical-align: top;\n",
       "    }\n",
       "\n",
       "    .dataframe thead th {\n",
       "        text-align: right;\n",
       "    }\n",
       "</style>\n",
       "<table border=\"1\" class=\"dataframe\">\n",
       "  <thead>\n",
       "    <tr style=\"text-align: right;\">\n",
       "      <th></th>\n",
       "      <th>month</th>\n",
       "      <th>SALES</th>\n",
       "    </tr>\n",
       "  </thead>\n",
       "  <tbody>\n",
       "    <tr>\n",
       "      <th>0</th>\n",
       "      <td>1</td>\n",
       "      <td>67.210088</td>\n",
       "    </tr>\n",
       "    <tr>\n",
       "      <th>1</th>\n",
       "      <td>2</td>\n",
       "      <td>99.439444</td>\n",
       "    </tr>\n",
       "    <tr>\n",
       "      <th>2</th>\n",
       "      <td>3</td>\n",
       "      <td>97.556441</td>\n",
       "    </tr>\n",
       "    <tr>\n",
       "      <th>3</th>\n",
       "      <td>4</td>\n",
       "      <td>97.815263</td>\n",
       "    </tr>\n",
       "    <tr>\n",
       "      <th>4</th>\n",
       "      <td>5</td>\n",
       "      <td>113.432747</td>\n",
       "    </tr>\n",
       "    <tr>\n",
       "      <th>5</th>\n",
       "      <td>6</td>\n",
       "      <td>90.655870</td>\n",
       "    </tr>\n",
       "    <tr>\n",
       "      <th>6</th>\n",
       "      <td>7</td>\n",
       "      <td>100.819645</td>\n",
       "    </tr>\n",
       "    <tr>\n",
       "      <th>7</th>\n",
       "      <td>8</td>\n",
       "      <td>85.158480</td>\n",
       "    </tr>\n",
       "    <tr>\n",
       "      <th>8</th>\n",
       "      <td>9</td>\n",
       "      <td>96.553436</td>\n",
       "    </tr>\n",
       "    <tr>\n",
       "      <th>9</th>\n",
       "      <td>10</td>\n",
       "      <td>97.624684</td>\n",
       "    </tr>\n",
       "  </tbody>\n",
       "</table>\n",
       "</div>"
      ],
      "text/plain": [
       "   month       SALES\n",
       "0      1   67.210088\n",
       "1      2   99.439444\n",
       "2      3   97.556441\n",
       "3      4   97.815263\n",
       "4      5  113.432747\n",
       "5      6   90.655870\n",
       "6      7  100.819645\n",
       "7      8   85.158480\n",
       "8      9   96.553436\n",
       "9     10   97.624684"
      ]
     },
     "execution_count": 170,
     "metadata": {},
     "output_type": "execute_result"
    }
   ],
   "source": [
    "month_sales"
   ]
  },
  {
   "cell_type": "code",
   "execution_count": 176,
   "id": "719344cc",
   "metadata": {},
   "outputs": [
    {
     "data": {
      "image/png": "[encoded data removed]",
      "text/plain": [
       "<Figure size 720x576 with 1 Axes>"
      ]
     },
     "metadata": {},
     "output_type": "display_data"
    }
   ],
   "source": [
    "# alt.Chart(month_sales).mark_line().encode(\n",
    "#     x='month:O',\n",
    "#     y='SALES:Q'\n",
    "# ).properties(\n",
    "#     width=800,\n",
    "#     height=200\n",
    "# ).interactive()\n",
    "sns.lineplot(data = month_sales, x = 'month', y = 'SALES');\n",
    "plt.title('Tires sales per month')\n",
    "plt.ylabel('Average sales ($)');"
   ]
  },
  {
   "cell_type": "code",
   "execution_count": 175,
   "id": "4b84029d",
   "metadata": {},
   "outputs": [
    {
     "data": {
      "image/png": "[encoded data removed]",
      "text/plain": [
       "<Figure size 720x576 with 1 Axes>"
      ]
     },
     "metadata": {},
     "output_type": "display_data"
    }
   ],
   "source": [
    "# sns.countplot(data = data, x = 'label')\n",
    "# plt.xlabel('Tire purcahse');\n",
    "\n",
    "ax = sns.barplot(x=\"label\", y=\"label\", data=data, estimator=lambda x: len(x) / len(data) * 100)\n",
    "ax.set(ylabel=\"Percent\")\n",
    "plt.title('Tire purchases')\n",
    "plt.xlabel('');"
   ]
  },
  {
   "cell_type": "markdown",
   "id": "f87ce8b3",
   "metadata": {},
   "source": [
    "## Does the car model affect tire purchase"
   ]
  },
  {
   "cell_type": "code",
   "execution_count": 181,
   "id": "5b903ac4",
   "metadata": {},
   "outputs": [
    {
     "data": {
      "image/png": "[encoded data removed]",
      "text/plain": [
       "<Figure size 720x576 with 1 Axes>"
      ]
     },
     "metadata": {},
     "output_type": "display_data"
    }
   ],
   "source": [
    "# alt.Chart(data).mark_line().encode(\n",
    "#     x='MODEL_YEAR:O',\n",
    "#     y='label:N'\n",
    "# )\n",
    "model_tire_purch = data.groupby('MODEL_YEAR').agg({'label': 'sum'}).reset_index().query('label > 4')\n",
    "model_tire_purch['MODEL_YEAR'] = model_tire_purch['MODEL_YEAR'].astype('int')\n",
    "sns.barplot(data = model_tire_purch, x = 'MODEL_YEAR', y = 'label', color = 'blue')\n",
    "plt.xlabel(\"Model year\")\n",
    "plt.xticks(rotation=90)\n",
    "plt.ylabel('Number of tire purchases')\n",
    "plt.title('Do older models purchase tires more often?');"
   ]
  },
  {
   "cell_type": "markdown",
   "id": "6160eede",
   "metadata": {},
   "source": [
    "## FEATURE: top make according to proportion that purchase a tire"
   ]
  },
  {
   "cell_type": "markdown",
   "id": "f6c9247b",
   "metadata": {},
   "source": [
    "first I am creating a column of all transactions that included purchasing a tire in the past"
   ]
  },
  {
   "cell_type": "code",
   "execution_count": 153,
   "id": "16d9a659",
   "metadata": {},
   "outputs": [],
   "source": [
    "data['tire_purchase'] = np.where((data['PROD_GROUP_DESC'] == \"Tires\") & (data['SEGMENT_DESC'] != \"Others\"), 1, 0)"
   ]
  },
  {
   "cell_type": "code",
   "execution_count": 154,
   "id": "b0b2fa0e",
   "metadata": {},
   "outputs": [],
   "source": [
    "df2 = data.groupby(['MAKE', 'tire_purchase']).agg({'tire_purchase': 'count'})\n",
    "df3 = df2.groupby(level=0).apply(lambda x:100 * x / float(x.sum()))\n",
    "df3.columns = ['total'] # I need to rename the column to handle multiindex caused by groupby "
   ]
  },
  {
   "cell_type": "code",
   "execution_count": 155,
   "id": "65294e49",
   "metadata": {},
   "outputs": [],
   "source": [
    "top_make_tires_purch_prop = df3.reset_index().query('tire_purchase == 1').sort_values(by = 'total', ascending = False).nlargest(int(len(df3)/10), columns = 'total')"
   ]
  },
  {
   "cell_type": "code",
   "execution_count": 156,
   "id": "f83d77c2",
   "metadata": {},
   "outputs": [
    {
     "data": {
      "text/html": [
       "<div>\n",
       "<style scoped>\n",
       "    .dataframe tbody tr th:only-of-type {\n",
       "        vertical-align: middle;\n",
       "    }\n",
       "\n",
       "    .dataframe tbody tr th {\n",
       "        vertical-align: top;\n",
       "    }\n",
       "\n",
       "    .dataframe thead th {\n",
       "        text-align: right;\n",
       "    }\n",
       "</style>\n",
       "<table border=\"1\" class=\"dataframe\">\n",
       "  <thead>\n",
       "    <tr style=\"text-align: right;\">\n",
       "      <th></th>\n",
       "      <th>MAKE</th>\n",
       "      <th>tire_purchase</th>\n",
       "      <th>total</th>\n",
       "    </tr>\n",
       "  </thead>\n",
       "  <tbody>\n",
       "    <tr>\n",
       "      <th>23</th>\n",
       "      <td>FREIGHTLINER</td>\n",
       "      <td>1</td>\n",
       "      <td>100.000000</td>\n",
       "    </tr>\n",
       "    <tr>\n",
       "      <th>35</th>\n",
       "      <td>Honda</td>\n",
       "      <td>1</td>\n",
       "      <td>50.000000</td>\n",
       "    </tr>\n",
       "    <tr>\n",
       "      <th>94</th>\n",
       "      <td>Volkswagen</td>\n",
       "      <td>1</td>\n",
       "      <td>33.333333</td>\n",
       "    </tr>\n",
       "    <tr>\n",
       "      <th>26</th>\n",
       "      <td>GEO</td>\n",
       "      <td>1</td>\n",
       "      <td>20.000000</td>\n",
       "    </tr>\n",
       "    <tr>\n",
       "      <th>55</th>\n",
       "      <td>MERCEDES-BENZ</td>\n",
       "      <td>1</td>\n",
       "      <td>17.592593</td>\n",
       "    </tr>\n",
       "    <tr>\n",
       "      <th>60</th>\n",
       "      <td>MINI</td>\n",
       "      <td>1</td>\n",
       "      <td>15.909091</td>\n",
       "    </tr>\n",
       "    <tr>\n",
       "      <th>5</th>\n",
       "      <td>BMW</td>\n",
       "      <td>1</td>\n",
       "      <td>14.159292</td>\n",
       "    </tr>\n",
       "    <tr>\n",
       "      <th>20</th>\n",
       "      <td>FIAT</td>\n",
       "      <td>1</td>\n",
       "      <td>13.333333</td>\n",
       "    </tr>\n",
       "    <tr>\n",
       "      <th>40</th>\n",
       "      <td>JAGUAR</td>\n",
       "      <td>1</td>\n",
       "      <td>10.000000</td>\n",
       "    </tr>\n",
       "  </tbody>\n",
       "</table>\n",
       "</div>"
      ],
      "text/plain": [
       "             MAKE  tire_purchase       total\n",
       "23   FREIGHTLINER              1  100.000000\n",
       "35          Honda              1   50.000000\n",
       "94     Volkswagen              1   33.333333\n",
       "26            GEO              1   20.000000\n",
       "55  MERCEDES-BENZ              1   17.592593\n",
       "60           MINI              1   15.909091\n",
       "5             BMW              1   14.159292\n",
       "20           FIAT              1   13.333333\n",
       "40         JAGUAR              1   10.000000"
      ]
     },
     "execution_count": 156,
     "metadata": {},
     "output_type": "execute_result"
    }
   ],
   "source": [
    "top_make_tires_purch_prop"
   ]
  },
  {
   "cell_type": "code",
   "execution_count": 188,
   "id": "7e36b041",
   "metadata": {},
   "outputs": [
    {
     "data": {
      "image/png": "[encoded data removed]",
      "text/plain": [
       "<Figure size 1440x576 with 1 Axes>"
      ]
     },
     "metadata": {},
     "output_type": "display_data"
    }
   ],
   "source": [
    "plt.figure(figsize = (20,8));\n",
    "sns.barplot(data = top_make_tires_purch_prop, x = 'MAKE', y = 'total', color = 'blue')\n",
    "plt.ylabel('Tire purchase proportion of transactions');\n",
    "plt.title(\"Which vehicle's make have a higher proportion of purchasing tires?\");"
   ]
  },
  {
   "cell_type": "markdown",
   "id": "2f3d50fb",
   "metadata": {},
   "source": [
    "## FEATURE: top model according to proportion that purchases a tire"
   ]
  },
  {
   "cell_type": "code",
   "execution_count": 158,
   "id": "2566dcf7",
   "metadata": {},
   "outputs": [],
   "source": [
    "df2 = data.groupby(['MODEL', 'tire_purchase']).agg({'tire_purchase': 'count'})\n",
    "df3 = df2.groupby(level=0).apply(lambda x:100 * x / float(x.sum()))\n",
    "df3.columns = ['total'] # I need to rename the column to handle multiindex caused by groupby "
   ]
  },
  {
   "cell_type": "code",
   "execution_count": 159,
   "id": "4937875d",
   "metadata": {},
   "outputs": [],
   "source": [
    "top_MODEL_tires_purch_prop = df3.reset_index().query('tire_purchase == 1').sort_values(by = 'total', ascending = False).nlargest(int(len(df3)/10), columns = 'total')"
   ]
  },
  {
   "cell_type": "code",
   "execution_count": 168,
   "id": "f2f92741",
   "metadata": {},
   "outputs": [],
   "source": [
    "# plt.figure(figsize = (20,8));\n",
    "# sns.barplot(data = top_MODEL_tires_purch_prop.head(10), x = 'MODEL', y = 'total', color = 'blue')\n",
    "# plt.ylabel('Tire purchase proportion of transactions');"
   ]
  },
  {
   "cell_type": "markdown",
   "id": "510a10e2",
   "metadata": {},
   "source": [
    "## FEATURE: top sub_model according to proportion that purchase a tire"
   ]
  },
  {
   "cell_type": "code",
   "execution_count": 164,
   "id": "bd381af8",
   "metadata": {},
   "outputs": [],
   "source": [
    "df2 = data.groupby(['SUB_MODEL', 'tire_purchase']).agg({'tire_purchase': 'count'})\n",
    "df3 = df2.groupby(level=0).apply(lambda x:100 * x / float(x.sum()))\n",
    "df3.columns = ['total'] # I need to rename the column to handle multiindex caused by groupby "
   ]
  },
  {
   "cell_type": "code",
   "execution_count": 165,
   "id": "06a4a20f",
   "metadata": {},
   "outputs": [],
   "source": [
    "top_SUB_MODEL_tires_purch_prop = df3.reset_index().query('tire_purchase == 1').sort_values(by = 'total', ascending = False).nlargest(int(len(df3)/10), columns = 'total')"
   ]
  },
  {
   "cell_type": "code",
   "execution_count": 167,
   "id": "56d6d42a",
   "metadata": {},
   "outputs": [],
   "source": [
    "# sns.barplot(data = top_SUB_MODEL_tires_purch_prop.head(10), x = 'SUB_MODEL', y = 'total', color = 'blue')\n",
    "# plt.ylabel('Tire purchase proportion of transactions');"
   ]
  },
  {
   "cell_type": "code",
   "execution_count": null,
   "id": "1fcddcf4",
   "metadata": {},
   "outputs": [],
   "source": []
  }
 ],
 "metadata": {
  "kernelspec": {
   "display_name": "Python 3",
   "language": "python",
   "name": "python3"
  },
  "language_info": {
   "codemirror_mode": {
    "name": "ipython",
    "version": 3
   },
   "file_extension": ".py",
   "mimetype": "text/x-python",
   "name": "python",
   "nbconvert_exporter": "python",
   "pygments_lexer": "ipython3",
   "version": "3.7.9"
  }
 },
 "nbformat": 4,
 "nbformat_minor": 5
}
