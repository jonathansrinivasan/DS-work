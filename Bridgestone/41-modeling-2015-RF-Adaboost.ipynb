{
 "cells": [
  {
   "cell_type": "markdown",
   "metadata": {},
   "source": [
    "## Pkg Loading "
   ]
  },
  {
   "cell_type": "code",
   "execution_count": 38,
   "metadata": {},
   "outputs": [],
   "source": [
    "import pandas as pd\n",
    "import numpy as np\n",
    "import random"
   ]
  },
  {
   "cell_type": "code",
   "execution_count": 15,
   "metadata": {},
   "outputs": [],
   "source": [
    "from sklearn.model_selection import train_test_split, GridSearchCV"
   ]
  },
  {
   "cell_type": "code",
   "execution_count": 39,
   "metadata": {},
   "outputs": [
    {
     "name": "stderr",
     "output_type": "stream",
     "text": [
      "/accre/arch/easybuild/software/MPI/GCC/6.4.0-2.28/OpenMPI/2.1.1/scikit-learn/0.19.1-Python-3.6.3/lib/python3.6/site-packages/sklearn/ensemble/weight_boosting.py:29: DeprecationWarning: numpy.core.umath_tests is an internal NumPy module and should not be imported. It will be removed in a future NumPy release.\n",
      "  from numpy.core.umath_tests import inner1d\n"
     ]
    }
   ],
   "source": [
    "from sklearn.preprocessing import StandardScaler\n",
    "from sklearn.ensemble import RandomForestClassifier\n",
    "from sklearn.metrics import accuracy_score\n",
    "from sklearn.metrics import recall_score\n",
    "from sklearn.metrics import precision_score\n",
    "from sklearn.metrics import roc_auc_score"
   ]
  },
  {
   "cell_type": "code",
   "execution_count": 44,
   "metadata": {},
   "outputs": [],
   "source": [
    "from sklearn.metrics import confusion_matrix"
   ]
  },
  {
   "cell_type": "code",
   "execution_count": 109,
   "metadata": {},
   "outputs": [],
   "source": [
    "from sklearn.ensemble import AdaBoostClassifier"
   ]
  },
  {
   "cell_type": "code",
   "execution_count": 2,
   "metadata": {},
   "outputs": [],
   "source": [
    "pd.set_option('display.max_columns', None)\n",
    "pd.set_option('display.max_rows', None)"
   ]
  },
  {
   "cell_type": "markdown",
   "metadata": {},
   "source": [
    "## Data Loading "
   ]
  },
  {
   "cell_type": "code",
   "execution_count": 4,
   "metadata": {},
   "outputs": [],
   "source": [
    "dy = pd.read_csv('../../AprOct15_trimmed.csv')"
   ]
  },
  {
   "cell_type": "code",
   "execution_count": 5,
   "metadata": {},
   "outputs": [],
   "source": [
    "dn = pd.read_csv('../../Nov15_trimmed.csv')"
   ]
  },
  {
   "cell_type": "code",
   "execution_count": 7,
   "metadata": {},
   "outputs": [
    {
     "data": {
      "text/html": [
       "<div>\n",
       "<table border=\"1\" class=\"dataframe\">\n",
       "  <thead>\n",
       "    <tr style=\"text-align: right;\">\n",
       "      <th></th>\n",
       "      <th>Unnamed: 0</th>\n",
       "      <th>Unnamed: 0.1</th>\n",
       "      <th>STORE_ID</th>\n",
       "      <th>TRAN_ID</th>\n",
       "      <th>DATE</th>\n",
       "      <th>ARTICLE_ID</th>\n",
       "      <th>INDIV_ID</th>\n",
       "      <th>VEHICLE_ID</th>\n",
       "      <th>UNITS</th>\n",
       "      <th>SALES</th>\n",
       "      <th>STATE_CODE</th>\n",
       "      <th>ZIP_CODE</th>\n",
       "      <th>MSA</th>\n",
       "      <th>MAKE</th>\n",
       "      <th>MODEL</th>\n",
       "      <th>SUB_MODEL</th>\n",
       "      <th>MODEL_YEAR</th>\n",
       "      <th>PROD_GROUP_CODE</th>\n",
       "      <th>PROD_GROUP_DESC</th>\n",
       "      <th>CATEGORY_CODE</th>\n",
       "      <th>CATEGORY_DESC</th>\n",
       "      <th>SEGMENT_CODE</th>\n",
       "      <th>SEGMENT_DESC</th>\n",
       "      <th>CLASS_CODE</th>\n",
       "      <th>CLASS_DESC</th>\n",
       "      <th>DISCOUNT_FLAG</th>\n",
       "      <th>CROSS_SECTION</th>\n",
       "      <th>ASPECT_RATIO</th>\n",
       "      <th>RIM_SIZE</th>\n",
       "      <th>EMAIL_OPTIN_IND</th>\n",
       "      <th>AH1_RES_BUS_INDC</th>\n",
       "      <th>SUPP1_BUS_PANDER</th>\n",
       "    </tr>\n",
       "  </thead>\n",
       "  <tbody>\n",
       "    <tr>\n",
       "      <th>0</th>\n",
       "      <td>10</td>\n",
       "      <td>10</td>\n",
       "      <td>26484</td>\n",
       "      <td>991478140</td>\n",
       "      <td>2015-04-06</td>\n",
       "      <td>7007580</td>\n",
       "      <td>295141827.0</td>\n",
       "      <td>935107107</td>\n",
       "      <td>1.0</td>\n",
       "      <td>6.99</td>\n",
       "      <td>IL</td>\n",
       "      <td>60169</td>\n",
       "      <td>CHICAGO,IL</td>\n",
       "      <td>TOYOTA</td>\n",
       "      <td>COROLLA LE</td>\n",
       "      <td>NaN</td>\n",
       "      <td>2012.0</td>\n",
       "      <td>4.0</td>\n",
       "      <td>Services</td>\n",
       "      <td>62.0</td>\n",
       "      <td>Tire Services</td>\n",
       "      <td>91.0</td>\n",
       "      <td>Tire Services</td>\n",
       "      <td>62150.0</td>\n",
       "      <td>Tire Pressure Monitoring Systems</td>\n",
       "      <td>N</td>\n",
       "      <td>NaN</td>\n",
       "      <td>NaN</td>\n",
       "      <td>NaN</td>\n",
       "      <td>Y</td>\n",
       "      <td>R</td>\n",
       "      <td>N</td>\n",
       "    </tr>\n",
       "    <tr>\n",
       "      <th>1</th>\n",
       "      <td>11</td>\n",
       "      <td>11</td>\n",
       "      <td>26484</td>\n",
       "      <td>991478140</td>\n",
       "      <td>2015-04-06</td>\n",
       "      <td>7046930</td>\n",
       "      <td>295141827.0</td>\n",
       "      <td>935107107</td>\n",
       "      <td>0.0</td>\n",
       "      <td>0.00</td>\n",
       "      <td>IL</td>\n",
       "      <td>60169</td>\n",
       "      <td>CHICAGO,IL</td>\n",
       "      <td>TOYOTA</td>\n",
       "      <td>COROLLA LE</td>\n",
       "      <td>NaN</td>\n",
       "      <td>2012.0</td>\n",
       "      <td>4.0</td>\n",
       "      <td>Services</td>\n",
       "      <td>81.0</td>\n",
       "      <td>Miscellaneous Services</td>\n",
       "      <td>109.0</td>\n",
       "      <td>Inspection Services</td>\n",
       "      <td>473.0</td>\n",
       "      <td>Courtesy Check</td>\n",
       "      <td>N</td>\n",
       "      <td>NaN</td>\n",
       "      <td>NaN</td>\n",
       "      <td>NaN</td>\n",
       "      <td>Y</td>\n",
       "      <td>R</td>\n",
       "      <td>N</td>\n",
       "    </tr>\n",
       "    <tr>\n",
       "      <th>2</th>\n",
       "      <td>12</td>\n",
       "      <td>12</td>\n",
       "      <td>26484</td>\n",
       "      <td>991478140</td>\n",
       "      <td>2015-04-06</td>\n",
       "      <td>7020060</td>\n",
       "      <td>295141827.0</td>\n",
       "      <td>935107107</td>\n",
       "      <td>0.0</td>\n",
       "      <td>1.99</td>\n",
       "      <td>IL</td>\n",
       "      <td>60169</td>\n",
       "      <td>CHICAGO,IL</td>\n",
       "      <td>TOYOTA</td>\n",
       "      <td>COROLLA LE</td>\n",
       "      <td>NaN</td>\n",
       "      <td>2012.0</td>\n",
       "      <td>4.0</td>\n",
       "      <td>Services</td>\n",
       "      <td>62.0</td>\n",
       "      <td>Tire Services</td>\n",
       "      <td>91.0</td>\n",
       "      <td>Tire Services</td>\n",
       "      <td>155.0</td>\n",
       "      <td>Misc. Tire Service</td>\n",
       "      <td>N</td>\n",
       "      <td>NaN</td>\n",
       "      <td>NaN</td>\n",
       "      <td>NaN</td>\n",
       "      <td>Y</td>\n",
       "      <td>R</td>\n",
       "      <td>N</td>\n",
       "    </tr>\n",
       "    <tr>\n",
       "      <th>3</th>\n",
       "      <td>13</td>\n",
       "      <td>13</td>\n",
       "      <td>26484</td>\n",
       "      <td>991478140</td>\n",
       "      <td>2015-04-06</td>\n",
       "      <td>7019488</td>\n",
       "      <td>295141827.0</td>\n",
       "      <td>935107107</td>\n",
       "      <td>0.0</td>\n",
       "      <td>10.00</td>\n",
       "      <td>IL</td>\n",
       "      <td>60169</td>\n",
       "      <td>CHICAGO,IL</td>\n",
       "      <td>TOYOTA</td>\n",
       "      <td>COROLLA LE</td>\n",
       "      <td>NaN</td>\n",
       "      <td>2012.0</td>\n",
       "      <td>4.0</td>\n",
       "      <td>Services</td>\n",
       "      <td>62.0</td>\n",
       "      <td>Tire Services</td>\n",
       "      <td>91.0</td>\n",
       "      <td>Tire Services</td>\n",
       "      <td>155.0</td>\n",
       "      <td>Misc. Tire Service</td>\n",
       "      <td>N</td>\n",
       "      <td>NaN</td>\n",
       "      <td>NaN</td>\n",
       "      <td>NaN</td>\n",
       "      <td>Y</td>\n",
       "      <td>R</td>\n",
       "      <td>N</td>\n",
       "    </tr>\n",
       "    <tr>\n",
       "      <th>4</th>\n",
       "      <td>14</td>\n",
       "      <td>14</td>\n",
       "      <td>26484</td>\n",
       "      <td>991478140</td>\n",
       "      <td>2015-04-06</td>\n",
       "      <td>7008190</td>\n",
       "      <td>295141827.0</td>\n",
       "      <td>935107107</td>\n",
       "      <td>0.0</td>\n",
       "      <td>2.00</td>\n",
       "      <td>IL</td>\n",
       "      <td>60169</td>\n",
       "      <td>CHICAGO,IL</td>\n",
       "      <td>TOYOTA</td>\n",
       "      <td>COROLLA LE</td>\n",
       "      <td>NaN</td>\n",
       "      <td>2012.0</td>\n",
       "      <td>4.0</td>\n",
       "      <td>Services</td>\n",
       "      <td>62.0</td>\n",
       "      <td>Tire Services</td>\n",
       "      <td>91.0</td>\n",
       "      <td>Tire Services</td>\n",
       "      <td>62150.0</td>\n",
       "      <td>Tire Pressure Monitoring Systems</td>\n",
       "      <td>N</td>\n",
       "      <td>NaN</td>\n",
       "      <td>NaN</td>\n",
       "      <td>NaN</td>\n",
       "      <td>Y</td>\n",
       "      <td>R</td>\n",
       "      <td>N</td>\n",
       "    </tr>\n",
       "  </tbody>\n",
       "</table>\n",
       "</div>"
      ],
      "text/plain": [
       "   Unnamed: 0  Unnamed: 0.1  STORE_ID    TRAN_ID        DATE  ARTICLE_ID  \\\n",
       "0          10            10     26484  991478140  2015-04-06     7007580   \n",
       "1          11            11     26484  991478140  2015-04-06     7046930   \n",
       "2          12            12     26484  991478140  2015-04-06     7020060   \n",
       "3          13            13     26484  991478140  2015-04-06     7019488   \n",
       "4          14            14     26484  991478140  2015-04-06     7008190   \n",
       "\n",
       "      INDIV_ID  VEHICLE_ID  UNITS  SALES STATE_CODE  ZIP_CODE         MSA  \\\n",
       "0  295141827.0   935107107    1.0   6.99         IL     60169  CHICAGO,IL   \n",
       "1  295141827.0   935107107    0.0   0.00         IL     60169  CHICAGO,IL   \n",
       "2  295141827.0   935107107    0.0   1.99         IL     60169  CHICAGO,IL   \n",
       "3  295141827.0   935107107    0.0  10.00         IL     60169  CHICAGO,IL   \n",
       "4  295141827.0   935107107    0.0   2.00         IL     60169  CHICAGO,IL   \n",
       "\n",
       "     MAKE       MODEL SUB_MODEL  MODEL_YEAR  PROD_GROUP_CODE PROD_GROUP_DESC  \\\n",
       "0  TOYOTA  COROLLA LE       NaN      2012.0              4.0        Services   \n",
       "1  TOYOTA  COROLLA LE       NaN      2012.0              4.0        Services   \n",
       "2  TOYOTA  COROLLA LE       NaN      2012.0              4.0        Services   \n",
       "3  TOYOTA  COROLLA LE       NaN      2012.0              4.0        Services   \n",
       "4  TOYOTA  COROLLA LE       NaN      2012.0              4.0        Services   \n",
       "\n",
       "   CATEGORY_CODE           CATEGORY_DESC  SEGMENT_CODE         SEGMENT_DESC  \\\n",
       "0           62.0           Tire Services          91.0        Tire Services   \n",
       "1           81.0  Miscellaneous Services         109.0  Inspection Services   \n",
       "2           62.0           Tire Services          91.0        Tire Services   \n",
       "3           62.0           Tire Services          91.0        Tire Services   \n",
       "4           62.0           Tire Services          91.0        Tire Services   \n",
       "\n",
       "   CLASS_CODE                        CLASS_DESC DISCOUNT_FLAG CROSS_SECTION  \\\n",
       "0     62150.0  Tire Pressure Monitoring Systems             N           NaN   \n",
       "1       473.0                    Courtesy Check             N           NaN   \n",
       "2       155.0                Misc. Tire Service             N           NaN   \n",
       "3       155.0                Misc. Tire Service             N           NaN   \n",
       "4     62150.0  Tire Pressure Monitoring Systems             N           NaN   \n",
       "\n",
       "  ASPECT_RATIO RIM_SIZE EMAIL_OPTIN_IND AH1_RES_BUS_INDC SUPP1_BUS_PANDER  \n",
       "0          NaN      NaN               Y                R                N  \n",
       "1          NaN      NaN               Y                R                N  \n",
       "2          NaN      NaN               Y                R                N  \n",
       "3          NaN      NaN               Y                R                N  \n",
       "4          NaN      NaN               Y                R                N  "
      ]
     },
     "execution_count": 7,
     "metadata": {},
     "output_type": "execute_result"
    }
   ],
   "source": [
    "dy.head()"
   ]
  },
  {
   "cell_type": "code",
   "execution_count": 8,
   "metadata": {},
   "outputs": [
    {
     "data": {
      "text/html": [
       "<div>\n",
       "<table border=\"1\" class=\"dataframe\">\n",
       "  <thead>\n",
       "    <tr style=\"text-align: right;\">\n",
       "      <th></th>\n",
       "      <th>Unnamed: 0</th>\n",
       "      <th>Unnamed: 0.1</th>\n",
       "      <th>STORE_ID</th>\n",
       "      <th>TRAN_ID</th>\n",
       "      <th>DATE</th>\n",
       "      <th>ARTICLE_ID</th>\n",
       "      <th>INDIV_ID</th>\n",
       "      <th>VEHICLE_ID</th>\n",
       "      <th>UNITS</th>\n",
       "      <th>SALES</th>\n",
       "      <th>STATE_CODE</th>\n",
       "      <th>ZIP_CODE</th>\n",
       "      <th>MSA</th>\n",
       "      <th>MAKE</th>\n",
       "      <th>MODEL</th>\n",
       "      <th>SUB_MODEL</th>\n",
       "      <th>MODEL_YEAR</th>\n",
       "      <th>PROD_GROUP_CODE</th>\n",
       "      <th>PROD_GROUP_DESC</th>\n",
       "      <th>CATEGORY_CODE</th>\n",
       "      <th>CATEGORY_DESC</th>\n",
       "      <th>SEGMENT_CODE</th>\n",
       "      <th>SEGMENT_DESC</th>\n",
       "      <th>CLASS_CODE</th>\n",
       "      <th>CLASS_DESC</th>\n",
       "      <th>DISCOUNT_FLAG</th>\n",
       "      <th>CROSS_SECTION</th>\n",
       "      <th>ASPECT_RATIO</th>\n",
       "      <th>RIM_SIZE</th>\n",
       "      <th>EMAIL_OPTIN_IND</th>\n",
       "      <th>AH1_RES_BUS_INDC</th>\n",
       "      <th>SUPP1_BUS_PANDER</th>\n",
       "    </tr>\n",
       "  </thead>\n",
       "  <tbody>\n",
       "    <tr>\n",
       "      <th>0</th>\n",
       "      <td>3</td>\n",
       "      <td>3</td>\n",
       "      <td>533521</td>\n",
       "      <td>992123290</td>\n",
       "      <td>2015-11-05</td>\n",
       "      <td>7005937</td>\n",
       "      <td>302230226.0</td>\n",
       "      <td>937607995</td>\n",
       "      <td>1.0</td>\n",
       "      <td>139.99</td>\n",
       "      <td>FL</td>\n",
       "      <td>33181</td>\n",
       "      <td>NaN</td>\n",
       "      <td>BUICK</td>\n",
       "      <td>LACROSSE BASE</td>\n",
       "      <td>Base</td>\n",
       "      <td>2013.0</td>\n",
       "      <td>4.0</td>\n",
       "      <td>Services</td>\n",
       "      <td>85.0</td>\n",
       "      <td>Starting/Charging Systems</td>\n",
       "      <td>103.0</td>\n",
       "      <td>Starting/Charging Systems</td>\n",
       "      <td>305.0</td>\n",
       "      <td>Batteries &amp; Battery Installation</td>\n",
       "      <td>N</td>\n",
       "      <td>NaN</td>\n",
       "      <td>NaN</td>\n",
       "      <td>NaN</td>\n",
       "      <td>Y</td>\n",
       "      <td>R</td>\n",
       "      <td>N</td>\n",
       "    </tr>\n",
       "    <tr>\n",
       "      <th>1</th>\n",
       "      <td>4</td>\n",
       "      <td>4</td>\n",
       "      <td>533521</td>\n",
       "      <td>992123290</td>\n",
       "      <td>2015-11-05</td>\n",
       "      <td>7028789</td>\n",
       "      <td>302230226.0</td>\n",
       "      <td>937607995</td>\n",
       "      <td>0.0</td>\n",
       "      <td>19.99</td>\n",
       "      <td>FL</td>\n",
       "      <td>33181</td>\n",
       "      <td>NaN</td>\n",
       "      <td>BUICK</td>\n",
       "      <td>LACROSSE BASE</td>\n",
       "      <td>Base</td>\n",
       "      <td>2013.0</td>\n",
       "      <td>4.0</td>\n",
       "      <td>Services</td>\n",
       "      <td>81.0</td>\n",
       "      <td>Miscellaneous Services</td>\n",
       "      <td>109.0</td>\n",
       "      <td>Inspection Services</td>\n",
       "      <td>475.0</td>\n",
       "      <td>Complete Vehicle Inspection</td>\n",
       "      <td>N</td>\n",
       "      <td>NaN</td>\n",
       "      <td>NaN</td>\n",
       "      <td>NaN</td>\n",
       "      <td>Y</td>\n",
       "      <td>R</td>\n",
       "      <td>N</td>\n",
       "    </tr>\n",
       "    <tr>\n",
       "      <th>2</th>\n",
       "      <td>5</td>\n",
       "      <td>5</td>\n",
       "      <td>533521</td>\n",
       "      <td>992123290</td>\n",
       "      <td>2015-11-05</td>\n",
       "      <td>7039969</td>\n",
       "      <td>302230226.0</td>\n",
       "      <td>937607995</td>\n",
       "      <td>0.0</td>\n",
       "      <td>-20.00</td>\n",
       "      <td>FL</td>\n",
       "      <td>33181</td>\n",
       "      <td>NaN</td>\n",
       "      <td>BUICK</td>\n",
       "      <td>LACROSSE BASE</td>\n",
       "      <td>Base</td>\n",
       "      <td>2013.0</td>\n",
       "      <td>4.0</td>\n",
       "      <td>Services</td>\n",
       "      <td>85.0</td>\n",
       "      <td>Starting/Charging Systems</td>\n",
       "      <td>103.0</td>\n",
       "      <td>Starting/Charging Systems</td>\n",
       "      <td>305.0</td>\n",
       "      <td>Batteries &amp; Battery Installation</td>\n",
       "      <td>Y</td>\n",
       "      <td>NaN</td>\n",
       "      <td>NaN</td>\n",
       "      <td>NaN</td>\n",
       "      <td>Y</td>\n",
       "      <td>R</td>\n",
       "      <td>N</td>\n",
       "    </tr>\n",
       "    <tr>\n",
       "      <th>3</th>\n",
       "      <td>6</td>\n",
       "      <td>6</td>\n",
       "      <td>533521</td>\n",
       "      <td>992123290</td>\n",
       "      <td>2015-11-05</td>\n",
       "      <td>7001119</td>\n",
       "      <td>302230226.0</td>\n",
       "      <td>937607995</td>\n",
       "      <td>0.0</td>\n",
       "      <td>0.00</td>\n",
       "      <td>FL</td>\n",
       "      <td>33181</td>\n",
       "      <td>NaN</td>\n",
       "      <td>BUICK</td>\n",
       "      <td>LACROSSE BASE</td>\n",
       "      <td>Base</td>\n",
       "      <td>2013.0</td>\n",
       "      <td>4.0</td>\n",
       "      <td>Services</td>\n",
       "      <td>62.0</td>\n",
       "      <td>Tire Services</td>\n",
       "      <td>91.0</td>\n",
       "      <td>Tire Services</td>\n",
       "      <td>145.0</td>\n",
       "      <td>Tire Rotation</td>\n",
       "      <td>N</td>\n",
       "      <td>NaN</td>\n",
       "      <td>NaN</td>\n",
       "      <td>NaN</td>\n",
       "      <td>Y</td>\n",
       "      <td>R</td>\n",
       "      <td>N</td>\n",
       "    </tr>\n",
       "    <tr>\n",
       "      <th>4</th>\n",
       "      <td>7</td>\n",
       "      <td>7</td>\n",
       "      <td>533521</td>\n",
       "      <td>992123290</td>\n",
       "      <td>2015-11-05</td>\n",
       "      <td>7002961</td>\n",
       "      <td>302230226.0</td>\n",
       "      <td>937607995</td>\n",
       "      <td>0.0</td>\n",
       "      <td>0.00</td>\n",
       "      <td>FL</td>\n",
       "      <td>33181</td>\n",
       "      <td>NaN</td>\n",
       "      <td>BUICK</td>\n",
       "      <td>LACROSSE BASE</td>\n",
       "      <td>Base</td>\n",
       "      <td>2013.0</td>\n",
       "      <td>4.0</td>\n",
       "      <td>Services</td>\n",
       "      <td>85.0</td>\n",
       "      <td>Starting/Charging Systems</td>\n",
       "      <td>103.0</td>\n",
       "      <td>Starting/Charging Systems</td>\n",
       "      <td>305.0</td>\n",
       "      <td>Batteries &amp; Battery Installation</td>\n",
       "      <td>Y</td>\n",
       "      <td>NaN</td>\n",
       "      <td>NaN</td>\n",
       "      <td>NaN</td>\n",
       "      <td>Y</td>\n",
       "      <td>R</td>\n",
       "      <td>N</td>\n",
       "    </tr>\n",
       "  </tbody>\n",
       "</table>\n",
       "</div>"
      ],
      "text/plain": [
       "   Unnamed: 0  Unnamed: 0.1  STORE_ID    TRAN_ID        DATE  ARTICLE_ID  \\\n",
       "0           3             3    533521  992123290  2015-11-05     7005937   \n",
       "1           4             4    533521  992123290  2015-11-05     7028789   \n",
       "2           5             5    533521  992123290  2015-11-05     7039969   \n",
       "3           6             6    533521  992123290  2015-11-05     7001119   \n",
       "4           7             7    533521  992123290  2015-11-05     7002961   \n",
       "\n",
       "      INDIV_ID  VEHICLE_ID  UNITS   SALES STATE_CODE  ZIP_CODE  MSA   MAKE  \\\n",
       "0  302230226.0   937607995    1.0  139.99         FL     33181  NaN  BUICK   \n",
       "1  302230226.0   937607995    0.0   19.99         FL     33181  NaN  BUICK   \n",
       "2  302230226.0   937607995    0.0  -20.00         FL     33181  NaN  BUICK   \n",
       "3  302230226.0   937607995    0.0    0.00         FL     33181  NaN  BUICK   \n",
       "4  302230226.0   937607995    0.0    0.00         FL     33181  NaN  BUICK   \n",
       "\n",
       "           MODEL SUB_MODEL  MODEL_YEAR  PROD_GROUP_CODE PROD_GROUP_DESC  \\\n",
       "0  LACROSSE BASE      Base      2013.0              4.0        Services   \n",
       "1  LACROSSE BASE      Base      2013.0              4.0        Services   \n",
       "2  LACROSSE BASE      Base      2013.0              4.0        Services   \n",
       "3  LACROSSE BASE      Base      2013.0              4.0        Services   \n",
       "4  LACROSSE BASE      Base      2013.0              4.0        Services   \n",
       "\n",
       "   CATEGORY_CODE              CATEGORY_DESC  SEGMENT_CODE  \\\n",
       "0           85.0  Starting/Charging Systems         103.0   \n",
       "1           81.0     Miscellaneous Services         109.0   \n",
       "2           85.0  Starting/Charging Systems         103.0   \n",
       "3           62.0              Tire Services          91.0   \n",
       "4           85.0  Starting/Charging Systems         103.0   \n",
       "\n",
       "                SEGMENT_DESC  CLASS_CODE                        CLASS_DESC  \\\n",
       "0  Starting/Charging Systems       305.0  Batteries & Battery Installation   \n",
       "1        Inspection Services       475.0       Complete Vehicle Inspection   \n",
       "2  Starting/Charging Systems       305.0  Batteries & Battery Installation   \n",
       "3              Tire Services       145.0                     Tire Rotation   \n",
       "4  Starting/Charging Systems       305.0  Batteries & Battery Installation   \n",
       "\n",
       "  DISCOUNT_FLAG CROSS_SECTION ASPECT_RATIO RIM_SIZE EMAIL_OPTIN_IND  \\\n",
       "0             N           NaN          NaN      NaN               Y   \n",
       "1             N           NaN          NaN      NaN               Y   \n",
       "2             Y           NaN          NaN      NaN               Y   \n",
       "3             N           NaN          NaN      NaN               Y   \n",
       "4             Y           NaN          NaN      NaN               Y   \n",
       "\n",
       "  AH1_RES_BUS_INDC SUPP1_BUS_PANDER  \n",
       "0                R                N  \n",
       "1                R                N  \n",
       "2                R                N  \n",
       "3                R                N  \n",
       "4                R                N  "
      ]
     },
     "execution_count": 8,
     "metadata": {},
     "output_type": "execute_result"
    }
   ],
   "source": [
    "dn.head()"
   ]
  },
  {
   "cell_type": "code",
   "execution_count": 9,
   "metadata": {},
   "outputs": [],
   "source": [
    "indiv = pd.read_csv('individuals15.csv', index_col = 0)"
   ]
  },
  {
   "cell_type": "code",
   "execution_count": 46,
   "metadata": {},
   "outputs": [],
   "source": [
    "indiv_test = pd.read_csv('individuals18.csv', index_col = 0)"
   ]
  },
  {
   "cell_type": "code",
   "execution_count": 47,
   "metadata": {},
   "outputs": [
    {
     "data": {
      "text/plain": [
       "(2624108, 13)"
      ]
     },
     "execution_count": 47,
     "metadata": {},
     "output_type": "execute_result"
    }
   ],
   "source": [
    "indiv_test.shape"
   ]
  },
  {
   "cell_type": "code",
   "execution_count": 49,
   "metadata": {},
   "outputs": [
    {
     "data": {
      "text/html": [
       "<div>\n",
       "<table border=\"1\" class=\"dataframe\">\n",
       "  <thead>\n",
       "    <tr style=\"text-align: right;\">\n",
       "      <th></th>\n",
       "      <th>indiv</th>\n",
       "      <th>cust_in_top_10_sales</th>\n",
       "      <th>store_top_tran</th>\n",
       "      <th>store_top_tires_tran</th>\n",
       "      <th>vehicle_tire_svc</th>\n",
       "      <th>vhc_tire_purchase</th>\n",
       "      <th>vhc_early_tire_purchase</th>\n",
       "      <th>top_cust_overall</th>\n",
       "      <th>top_cust_tire_purch</th>\n",
       "      <th>indiv_make_tire_pch</th>\n",
       "      <th>make_prop_tire</th>\n",
       "      <th>MODEL_prop_tire</th>\n",
       "      <th>SUB_MODEL_prop_tire</th>\n",
       "    </tr>\n",
       "  </thead>\n",
       "  <tbody>\n",
       "    <tr>\n",
       "      <th>0</th>\n",
       "      <td>587295308.0</td>\n",
       "      <td>0</td>\n",
       "      <td>1</td>\n",
       "      <td>1</td>\n",
       "      <td>0</td>\n",
       "      <td>0</td>\n",
       "      <td>0</td>\n",
       "      <td>0</td>\n",
       "      <td>0</td>\n",
       "      <td>1</td>\n",
       "      <td>0</td>\n",
       "      <td>0</td>\n",
       "      <td>0</td>\n",
       "    </tr>\n",
       "    <tr>\n",
       "      <th>1</th>\n",
       "      <td>289068522.0</td>\n",
       "      <td>0</td>\n",
       "      <td>1</td>\n",
       "      <td>1</td>\n",
       "      <td>1</td>\n",
       "      <td>0</td>\n",
       "      <td>0</td>\n",
       "      <td>0</td>\n",
       "      <td>0</td>\n",
       "      <td>1</td>\n",
       "      <td>0</td>\n",
       "      <td>0</td>\n",
       "      <td>0</td>\n",
       "    </tr>\n",
       "    <tr>\n",
       "      <th>2</th>\n",
       "      <td>267651496.0</td>\n",
       "      <td>0</td>\n",
       "      <td>1</td>\n",
       "      <td>1</td>\n",
       "      <td>1</td>\n",
       "      <td>1</td>\n",
       "      <td>1</td>\n",
       "      <td>0</td>\n",
       "      <td>0</td>\n",
       "      <td>1</td>\n",
       "      <td>0</td>\n",
       "      <td>0</td>\n",
       "      <td>0</td>\n",
       "    </tr>\n",
       "    <tr>\n",
       "      <th>3</th>\n",
       "      <td>272771622.0</td>\n",
       "      <td>0</td>\n",
       "      <td>1</td>\n",
       "      <td>1</td>\n",
       "      <td>1</td>\n",
       "      <td>1</td>\n",
       "      <td>1</td>\n",
       "      <td>0</td>\n",
       "      <td>1</td>\n",
       "      <td>1</td>\n",
       "      <td>0</td>\n",
       "      <td>0</td>\n",
       "      <td>0</td>\n",
       "    </tr>\n",
       "    <tr>\n",
       "      <th>4</th>\n",
       "      <td>286864796.0</td>\n",
       "      <td>0</td>\n",
       "      <td>1</td>\n",
       "      <td>1</td>\n",
       "      <td>1</td>\n",
       "      <td>1</td>\n",
       "      <td>0</td>\n",
       "      <td>0</td>\n",
       "      <td>0</td>\n",
       "      <td>0</td>\n",
       "      <td>0</td>\n",
       "      <td>0</td>\n",
       "      <td>0</td>\n",
       "    </tr>\n",
       "  </tbody>\n",
       "</table>\n",
       "</div>"
      ],
      "text/plain": [
       "         indiv  cust_in_top_10_sales  store_top_tran  store_top_tires_tran  \\\n",
       "0  587295308.0                     0               1                     1   \n",
       "1  289068522.0                     0               1                     1   \n",
       "2  267651496.0                     0               1                     1   \n",
       "3  272771622.0                     0               1                     1   \n",
       "4  286864796.0                     0               1                     1   \n",
       "\n",
       "   vehicle_tire_svc  vhc_tire_purchase  vhc_early_tire_purchase  \\\n",
       "0                 0                  0                        0   \n",
       "1                 1                  0                        0   \n",
       "2                 1                  1                        1   \n",
       "3                 1                  1                        1   \n",
       "4                 1                  1                        0   \n",
       "\n",
       "   top_cust_overall  top_cust_tire_purch  indiv_make_tire_pch  make_prop_tire  \\\n",
       "0                 0                    0                    1               0   \n",
       "1                 0                    0                    1               0   \n",
       "2                 0                    0                    1               0   \n",
       "3                 0                    1                    1               0   \n",
       "4                 0                    0                    0               0   \n",
       "\n",
       "   MODEL_prop_tire  SUB_MODEL_prop_tire  \n",
       "0                0                    0  \n",
       "1                0                    0  \n",
       "2                0                    0  \n",
       "3                0                    0  \n",
       "4                0                    0  "
      ]
     },
     "execution_count": 49,
     "metadata": {},
     "output_type": "execute_result"
    }
   ],
   "source": [
    "indiv_test.head()"
   ]
  },
  {
   "cell_type": "code",
   "execution_count": 14,
   "metadata": {},
   "outputs": [
    {
     "data": {
      "text/html": [
       "<div>\n",
       "<table border=\"1\" class=\"dataframe\">\n",
       "  <thead>\n",
       "    <tr style=\"text-align: right;\">\n",
       "      <th></th>\n",
       "      <th>indiv</th>\n",
       "      <th>label</th>\n",
       "      <th>cust_in_top_10_sales</th>\n",
       "      <th>store_top_tran</th>\n",
       "      <th>store_top_tires_tran</th>\n",
       "      <th>vehicle_tire_svc</th>\n",
       "      <th>vhc_tire_purchase</th>\n",
       "      <th>vhc_early_tire_purchase</th>\n",
       "      <th>top_cust_overall</th>\n",
       "      <th>top_cust_tire_purch</th>\n",
       "      <th>indiv_make_tire_pch</th>\n",
       "      <th>make_prop_tire</th>\n",
       "      <th>MODEL_prop_tire</th>\n",
       "      <th>SUB_MODEL_prop_tire</th>\n",
       "    </tr>\n",
       "  </thead>\n",
       "  <tbody>\n",
       "    <tr>\n",
       "      <th>0</th>\n",
       "      <td>295141827.0</td>\n",
       "      <td>0</td>\n",
       "      <td>0</td>\n",
       "      <td>1</td>\n",
       "      <td>1</td>\n",
       "      <td>1</td>\n",
       "      <td>0</td>\n",
       "      <td>0</td>\n",
       "      <td>0</td>\n",
       "      <td>0</td>\n",
       "      <td>1</td>\n",
       "      <td>0</td>\n",
       "      <td>0</td>\n",
       "      <td>0</td>\n",
       "    </tr>\n",
       "    <tr>\n",
       "      <th>1</th>\n",
       "      <td>303947384.0</td>\n",
       "      <td>0</td>\n",
       "      <td>0</td>\n",
       "      <td>1</td>\n",
       "      <td>1</td>\n",
       "      <td>0</td>\n",
       "      <td>0</td>\n",
       "      <td>0</td>\n",
       "      <td>0</td>\n",
       "      <td>0</td>\n",
       "      <td>1</td>\n",
       "      <td>0</td>\n",
       "      <td>0</td>\n",
       "      <td>0</td>\n",
       "    </tr>\n",
       "    <tr>\n",
       "      <th>2</th>\n",
       "      <td>486895284.0</td>\n",
       "      <td>0</td>\n",
       "      <td>0</td>\n",
       "      <td>1</td>\n",
       "      <td>1</td>\n",
       "      <td>1</td>\n",
       "      <td>0</td>\n",
       "      <td>0</td>\n",
       "      <td>0</td>\n",
       "      <td>0</td>\n",
       "      <td>1</td>\n",
       "      <td>0</td>\n",
       "      <td>0</td>\n",
       "      <td>0</td>\n",
       "    </tr>\n",
       "    <tr>\n",
       "      <th>3</th>\n",
       "      <td>303949519.0</td>\n",
       "      <td>0</td>\n",
       "      <td>0</td>\n",
       "      <td>1</td>\n",
       "      <td>1</td>\n",
       "      <td>1</td>\n",
       "      <td>1</td>\n",
       "      <td>1</td>\n",
       "      <td>0</td>\n",
       "      <td>0</td>\n",
       "      <td>1</td>\n",
       "      <td>0</td>\n",
       "      <td>0</td>\n",
       "      <td>0</td>\n",
       "    </tr>\n",
       "    <tr>\n",
       "      <th>4</th>\n",
       "      <td>301787904.0</td>\n",
       "      <td>0</td>\n",
       "      <td>0</td>\n",
       "      <td>1</td>\n",
       "      <td>1</td>\n",
       "      <td>1</td>\n",
       "      <td>0</td>\n",
       "      <td>0</td>\n",
       "      <td>0</td>\n",
       "      <td>0</td>\n",
       "      <td>1</td>\n",
       "      <td>0</td>\n",
       "      <td>0</td>\n",
       "      <td>0</td>\n",
       "    </tr>\n",
       "  </tbody>\n",
       "</table>\n",
       "</div>"
      ],
      "text/plain": [
       "         indiv  label  cust_in_top_10_sales  store_top_tran  \\\n",
       "0  295141827.0      0                     0               1   \n",
       "1  303947384.0      0                     0               1   \n",
       "2  486895284.0      0                     0               1   \n",
       "3  303949519.0      0                     0               1   \n",
       "4  301787904.0      0                     0               1   \n",
       "\n",
       "   store_top_tires_tran  vehicle_tire_svc  vhc_tire_purchase  \\\n",
       "0                     1                 1                  0   \n",
       "1                     1                 0                  0   \n",
       "2                     1                 1                  0   \n",
       "3                     1                 1                  1   \n",
       "4                     1                 1                  0   \n",
       "\n",
       "   vhc_early_tire_purchase  top_cust_overall  top_cust_tire_purch  \\\n",
       "0                        0                 0                    0   \n",
       "1                        0                 0                    0   \n",
       "2                        0                 0                    0   \n",
       "3                        1                 0                    0   \n",
       "4                        0                 0                    0   \n",
       "\n",
       "   indiv_make_tire_pch  make_prop_tire  MODEL_prop_tire  SUB_MODEL_prop_tire  \n",
       "0                    1               0                0                    0  \n",
       "1                    1               0                0                    0  \n",
       "2                    1               0                0                    0  \n",
       "3                    1               0                0                    0  \n",
       "4                    1               0                0                    0  "
      ]
     },
     "execution_count": 14,
     "metadata": {},
     "output_type": "execute_result"
    }
   ],
   "source": [
    "indiv.head()"
   ]
  },
  {
   "cell_type": "code",
   "execution_count": 12,
   "metadata": {},
   "outputs": [
    {
     "data": {
      "text/plain": [
       "(2565565, 14)"
      ]
     },
     "execution_count": 12,
     "metadata": {},
     "output_type": "execute_result"
    }
   ],
   "source": [
    "indiv.shape"
   ]
  },
  {
   "cell_type": "code",
   "execution_count": 16,
   "metadata": {},
   "outputs": [],
   "source": [
    "def split_dataset(data,train_size):\n",
    "    train_data, test_data = train_test_split(data, train_size = train_size, random_state = 123)\n",
    "    return train_data, test_data"
   ]
  },
  {
   "cell_type": "code",
   "execution_count": 17,
   "metadata": {},
   "outputs": [
    {
     "name": "stderr",
     "output_type": "stream",
     "text": [
      "/accre/arch/easybuild/software/MPI/GCC/6.4.0-2.28/OpenMPI/2.1.1/scikit-learn/0.19.1-Python-3.6.3/lib/python3.6/site-packages/sklearn/model_selection/_split.py:2026: FutureWarning: From version 0.21, test_size will always complement train_size unless both are specified.\n",
      "  FutureWarning)\n"
     ]
    }
   ],
   "source": [
    "training,testing = split_dataset(indiv,0.7)"
   ]
  },
  {
   "cell_type": "code",
   "execution_count": 19,
   "metadata": {},
   "outputs": [
    {
     "data": {
      "text/plain": [
       "(1795895, 14)"
      ]
     },
     "execution_count": 19,
     "metadata": {},
     "output_type": "execute_result"
    }
   ],
   "source": [
    "training.shape"
   ]
  },
  {
   "cell_type": "code",
   "execution_count": 20,
   "metadata": {},
   "outputs": [
    {
     "data": {
      "text/plain": [
       "(769670, 14)"
      ]
     },
     "execution_count": 20,
     "metadata": {},
     "output_type": "execute_result"
    }
   ],
   "source": [
    "testing.shape"
   ]
  },
  {
   "cell_type": "code",
   "execution_count": 33,
   "metadata": {
    "scrolled": true
   },
   "outputs": [],
   "source": [
    "X_train = training.drop(['indiv', 'label'], axis=1)\n",
    "y_train = training['label']\n",
    "X_valid = testing.drop(['indiv', 'label'], axis=1)\n",
    "y_valid = testing['label']"
   ]
  },
  {
   "cell_type": "code",
   "execution_count": 35,
   "metadata": {},
   "outputs": [
    {
     "data": {
      "text/plain": [
       "((1795895, 12), (1795895,), (769670, 12), (769670,))"
      ]
     },
     "execution_count": 35,
     "metadata": {},
     "output_type": "execute_result"
    }
   ],
   "source": [
    "X_train.shape, y_train.shape, X_valid.shape, y_valid.shape"
   ]
  },
  {
   "cell_type": "markdown",
   "metadata": {},
   "source": [
    "## Modeling-RF"
   ]
  },
  {
   "cell_type": "code",
   "execution_count": 40,
   "metadata": {
    "scrolled": true
   },
   "outputs": [
    {
     "data": {
      "text/plain": [
       "RandomForestClassifier(bootstrap=True, class_weight=None, criterion='gini',\n",
       "            max_depth=None, max_features='auto', max_leaf_nodes=None,\n",
       "            min_impurity_decrease=0.0, min_impurity_split=None,\n",
       "            min_samples_leaf=1, min_samples_split=2,\n",
       "            min_weight_fraction_leaf=0.0, n_estimators=10, n_jobs=1,\n",
       "            oob_score=False, random_state=None, verbose=0,\n",
       "            warm_start=False)"
      ]
     },
     "execution_count": 40,
     "metadata": {},
     "output_type": "execute_result"
    }
   ],
   "source": [
    "rf = RandomForestClassifier()\n",
    "rf.fit(X_train,y_train)"
   ]
  },
  {
   "cell_type": "code",
   "execution_count": 41,
   "metadata": {},
   "outputs": [],
   "source": [
    "rf_yhat = rf.predict(X_valid)"
   ]
  },
  {
   "cell_type": "code",
   "execution_count": 115,
   "metadata": {},
   "outputs": [
    {
     "name": "stdout",
     "output_type": "stream",
     "text": [
      "Training Score:  0.9647813485755014\n"
     ]
    }
   ],
   "source": [
    "print(\"Training Score: \", rf.score(X_train, y_train))"
   ]
  },
  {
   "cell_type": "code",
   "execution_count": 45,
   "metadata": {},
   "outputs": [
    {
     "name": "stdout",
     "output_type": "stream",
     "text": [
      "[[742864      1]\n",
      " [ 26805      0]]\n",
      "Accuracy Score:  0.9651720867384723\n",
      "Precision Score:  0.0\n"
     ]
    }
   ],
   "source": [
    "print(confusion_matrix(y_valid,rf_yhat))\n",
    "print(\"Accuracy Score: \", accuracy_score(y_valid, rf_yhat))\n",
    "print(\"Precision Score: \",precision_score(y_valid, rf_yhat))"
   ]
  },
  {
   "cell_type": "markdown",
   "metadata": {},
   "source": [
    "## Prediction for test set"
   ]
  },
  {
   "cell_type": "code",
   "execution_count": 59,
   "metadata": {},
   "outputs": [],
   "source": [
    "df = pd.DataFrame(rf.predict_proba(X_test))"
   ]
  },
  {
   "cell_type": "code",
   "execution_count": 74,
   "metadata": {},
   "outputs": [
    {
     "data": {
      "text/html": [
       "<div>\n",
       "<table border=\"1\" class=\"dataframe\">\n",
       "  <thead>\n",
       "    <tr style=\"text-align: right;\">\n",
       "      <th></th>\n",
       "      <th>0</th>\n",
       "      <th>1</th>\n",
       "    </tr>\n",
       "  </thead>\n",
       "  <tbody>\n",
       "    <tr>\n",
       "      <th>0</th>\n",
       "      <td>0.977038</td>\n",
       "      <td>0.022962</td>\n",
       "    </tr>\n",
       "    <tr>\n",
       "      <th>1</th>\n",
       "      <td>0.961872</td>\n",
       "      <td>0.038128</td>\n",
       "    </tr>\n",
       "    <tr>\n",
       "      <th>2</th>\n",
       "      <td>0.959513</td>\n",
       "      <td>0.040487</td>\n",
       "    </tr>\n",
       "    <tr>\n",
       "      <th>3</th>\n",
       "      <td>0.941481</td>\n",
       "      <td>0.058519</td>\n",
       "    </tr>\n",
       "    <tr>\n",
       "      <th>4</th>\n",
       "      <td>0.963956</td>\n",
       "      <td>0.036044</td>\n",
       "    </tr>\n",
       "  </tbody>\n",
       "</table>\n",
       "</div>"
      ],
      "text/plain": [
       "          0         1\n",
       "0  0.977038  0.022962\n",
       "1  0.961872  0.038128\n",
       "2  0.959513  0.040487\n",
       "3  0.941481  0.058519\n",
       "4  0.963956  0.036044"
      ]
     },
     "execution_count": 74,
     "metadata": {},
     "output_type": "execute_result"
    }
   ],
   "source": [
    "df.head()"
   ]
  },
  {
   "cell_type": "code",
   "execution_count": 75,
   "metadata": {},
   "outputs": [],
   "source": [
    "df_sort = df.sort_values(by = [1],axis = 0,ascending = False)"
   ]
  },
  {
   "cell_type": "code",
   "execution_count": 76,
   "metadata": {
    "scrolled": true
   },
   "outputs": [
    {
     "data": {
      "text/html": [
       "<div>\n",
       "<table border=\"1\" class=\"dataframe\">\n",
       "  <thead>\n",
       "    <tr style=\"text-align: right;\">\n",
       "      <th></th>\n",
       "      <th>0</th>\n",
       "      <th>1</th>\n",
       "    </tr>\n",
       "  </thead>\n",
       "  <tbody>\n",
       "    <tr>\n",
       "      <th>2259471</th>\n",
       "      <td>0.461579</td>\n",
       "      <td>0.538421</td>\n",
       "    </tr>\n",
       "    <tr>\n",
       "      <th>1840633</th>\n",
       "      <td>0.461579</td>\n",
       "      <td>0.538421</td>\n",
       "    </tr>\n",
       "    <tr>\n",
       "      <th>2304937</th>\n",
       "      <td>0.461579</td>\n",
       "      <td>0.538421</td>\n",
       "    </tr>\n",
       "    <tr>\n",
       "      <th>441198</th>\n",
       "      <td>0.659013</td>\n",
       "      <td>0.340987</td>\n",
       "    </tr>\n",
       "    <tr>\n",
       "      <th>479765</th>\n",
       "      <td>0.659013</td>\n",
       "      <td>0.340987</td>\n",
       "    </tr>\n",
       "  </tbody>\n",
       "</table>\n",
       "</div>"
      ],
      "text/plain": [
       "                0         1\n",
       "2259471  0.461579  0.538421\n",
       "1840633  0.461579  0.538421\n",
       "2304937  0.461579  0.538421\n",
       "441198   0.659013  0.340987\n",
       "479765   0.659013  0.340987"
      ]
     },
     "execution_count": 76,
     "metadata": {},
     "output_type": "execute_result"
    }
   ],
   "source": [
    "df_sort.head()"
   ]
  },
  {
   "cell_type": "code",
   "execution_count": 99,
   "metadata": {
    "scrolled": true
   },
   "outputs": [
    {
     "data": {
      "text/plain": [
       "(9248, 2)"
      ]
     },
     "execution_count": 99,
     "metadata": {},
     "output_type": "execute_result"
    }
   ],
   "source": [
    "df_sort[df_sort[1] > 0.0586].shape"
   ]
  },
  {
   "cell_type": "code",
   "execution_count": 98,
   "metadata": {},
   "outputs": [
    {
     "data": {
      "text/plain": [
       "(160442, 2)"
      ]
     },
     "execution_count": 98,
     "metadata": {},
     "output_type": "execute_result"
    }
   ],
   "source": [
    "df_sort[df_sort[1] > 0.0585].shape"
   ]
  },
  {
   "cell_type": "code",
   "execution_count": 108,
   "metadata": {},
   "outputs": [
    {
     "data": {
      "text/plain": [
       "(151194, 2)"
      ]
     },
     "execution_count": 108,
     "metadata": {},
     "output_type": "execute_result"
    }
   ],
   "source": [
    "df_sort[(df_sort[1] > 0.0585)&(df_sort[1] < 0.0586)].shape"
   ]
  },
  {
   "cell_type": "markdown",
   "metadata": {},
   "source": [
    "## Modeling-Adaboost"
   ]
  },
  {
   "cell_type": "code",
   "execution_count": 111,
   "metadata": {},
   "outputs": [
    {
     "data": {
      "text/plain": [
       "AdaBoostClassifier(algorithm='SAMME.R', base_estimator=None,\n",
       "          learning_rate=1.0, n_estimators=50, random_state=None)"
      ]
     },
     "execution_count": 111,
     "metadata": {},
     "output_type": "execute_result"
    }
   ],
   "source": [
    "adb = AdaBoostClassifier()\n",
    "adb.fit(X_train, y_train) "
   ]
  },
  {
   "cell_type": "code",
   "execution_count": 112,
   "metadata": {},
   "outputs": [],
   "source": [
    "adb_yhat = adb.predict(X_valid)"
   ]
  },
  {
   "cell_type": "code",
   "execution_count": 114,
   "metadata": {},
   "outputs": [
    {
     "name": "stdout",
     "output_type": "stream",
     "text": [
      "Training Score:  0.9647807917500745\n"
     ]
    }
   ],
   "source": [
    "print(\"Training Score: \", adb.score(X_train, y_train))"
   ]
  },
  {
   "cell_type": "code",
   "execution_count": 113,
   "metadata": {},
   "outputs": [
    {
     "name": "stdout",
     "output_type": "stream",
     "text": [
      "[[742865      0]\n",
      " [ 26805      0]]\n",
      "Accuracy Score:  0.965173385996596\n",
      "Precision Score:  0.0\n"
     ]
    },
    {
     "name": "stderr",
     "output_type": "stream",
     "text": [
      "/accre/arch/easybuild/software/MPI/GCC/6.4.0-2.28/OpenMPI/2.1.1/scikit-learn/0.19.1-Python-3.6.3/lib/python3.6/site-packages/sklearn/metrics/classification.py:1135: UndefinedMetricWarning: Precision is ill-defined and being set to 0.0 due to no predicted samples.\n",
      "  'precision', 'predicted', average, warn_for)\n"
     ]
    }
   ],
   "source": [
    "print(confusion_matrix(y_valid,adb_yhat))\n",
    "print(\"Accuracy Score: \", accuracy_score(y_valid, adb_yhat))\n",
    "print(\"Precision Score: \",precision_score(y_valid, adb_yhat))"
   ]
  },
  {
   "cell_type": "markdown",
   "metadata": {},
   "source": [
    "## Prediction for test set"
   ]
  },
  {
   "cell_type": "code",
   "execution_count": 116,
   "metadata": {},
   "outputs": [],
   "source": [
    "adb_df = pd.DataFrame(adb.predict_proba(X_test))"
   ]
  },
  {
   "cell_type": "code",
   "execution_count": 117,
   "metadata": {},
   "outputs": [],
   "source": [
    "adb_df_sort = adb_df.sort_values(by = [1],axis = 0,ascending = False)"
   ]
  },
  {
   "cell_type": "code",
   "execution_count": 118,
   "metadata": {},
   "outputs": [
    {
     "data": {
      "text/html": [
       "<div>\n",
       "<table border=\"1\" class=\"dataframe\">\n",
       "  <thead>\n",
       "    <tr style=\"text-align: right;\">\n",
       "      <th></th>\n",
       "      <th>0</th>\n",
       "      <th>1</th>\n",
       "    </tr>\n",
       "  </thead>\n",
       "  <tbody>\n",
       "    <tr>\n",
       "      <th>1195990</th>\n",
       "      <td>0.509548</td>\n",
       "      <td>0.490452</td>\n",
       "    </tr>\n",
       "    <tr>\n",
       "      <th>261825</th>\n",
       "      <td>0.509548</td>\n",
       "      <td>0.490452</td>\n",
       "    </tr>\n",
       "    <tr>\n",
       "      <th>718426</th>\n",
       "      <td>0.509548</td>\n",
       "      <td>0.490452</td>\n",
       "    </tr>\n",
       "    <tr>\n",
       "      <th>1588461</th>\n",
       "      <td>0.509548</td>\n",
       "      <td>0.490452</td>\n",
       "    </tr>\n",
       "    <tr>\n",
       "      <th>290001</th>\n",
       "      <td>0.509548</td>\n",
       "      <td>0.490452</td>\n",
       "    </tr>\n",
       "  </tbody>\n",
       "</table>\n",
       "</div>"
      ],
      "text/plain": [
       "                0         1\n",
       "1195990  0.509548  0.490452\n",
       "261825   0.509548  0.490452\n",
       "718426   0.509548  0.490452\n",
       "1588461  0.509548  0.490452\n",
       "290001   0.509548  0.490452"
      ]
     },
     "execution_count": 118,
     "metadata": {},
     "output_type": "execute_result"
    }
   ],
   "source": [
    "adb_df_sort.head()"
   ]
  },
  {
   "cell_type": "code",
   "execution_count": 146,
   "metadata": {},
   "outputs": [
    {
     "data": {
      "text/plain": [
       "(10232, 2)"
      ]
     },
     "execution_count": 146,
     "metadata": {},
     "output_type": "execute_result"
    }
   ],
   "source": [
    "adb_df_sort[adb_df_sort[1] > 0.48593].shape"
   ]
  },
  {
   "cell_type": "code",
   "execution_count": 147,
   "metadata": {},
   "outputs": [
    {
     "data": {
      "text/plain": [
       "(161426, 2)"
      ]
     },
     "execution_count": 147,
     "metadata": {},
     "output_type": "execute_result"
    }
   ],
   "source": [
    "adb_df_sort[adb_df_sort[1] > 0.48592].shape"
   ]
  },
  {
   "cell_type": "code",
   "execution_count": 149,
   "metadata": {},
   "outputs": [
    {
     "data": {
      "text/plain": [
       "(151194, 2)"
      ]
     },
     "execution_count": 149,
     "metadata": {},
     "output_type": "execute_result"
    }
   ],
   "source": [
    "adb_df_sort[(adb_df_sort[1] > 0.48592)&(adb_df_sort[1] < 0.48593)].shape"
   ]
  },
  {
   "cell_type": "code",
   "execution_count": null,
   "metadata": {},
   "outputs": [],
   "source": []
  }
 ],
 "metadata": {
  "kernelspec": {
   "display_name": "Python 3",
   "language": "python",
   "name": "python3"
  },
  "language_info": {
   "codemirror_mode": {
    "name": "ipython",
    "version": 3
   },
   "file_extension": ".py",
   "mimetype": "text/x-python",
   "name": "python",
   "nbconvert_exporter": "python",
   "pygments_lexer": "ipython3",
   "version": "3.6.3"
  }
 },
 "nbformat": 4,
 "nbformat_minor": 2
}
