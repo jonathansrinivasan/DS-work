{
 "cells": [
  {
   "cell_type": "code",
   "execution_count": 3,
   "metadata": {},
   "outputs": [
    {
     "data": {
      "text/html": [
       "<div>\n",
       "<style scoped>\n",
       "    .dataframe tbody tr th:only-of-type {\n",
       "        vertical-align: middle;\n",
       "    }\n",
       "\n",
       "    .dataframe tbody tr th {\n",
       "        vertical-align: top;\n",
       "    }\n",
       "\n",
       "    .dataframe thead th {\n",
       "        text-align: right;\n",
       "    }\n",
       "</style>\n",
       "<table border=\"1\" class=\"dataframe\">\n",
       "  <thead>\n",
       "    <tr style=\"text-align: right;\">\n",
       "      <th></th>\n",
       "      <th>Unnamed: 0</th>\n",
       "      <th>STORE_ID</th>\n",
       "      <th>TRAN_ID</th>\n",
       "      <th>DATE</th>\n",
       "      <th>ARTICLE_ID</th>\n",
       "      <th>INDIV_ID</th>\n",
       "      <th>VEHICLE_ID</th>\n",
       "      <th>UNITS</th>\n",
       "      <th>SALES</th>\n",
       "      <th>STATE_CODE</th>\n",
       "      <th>...</th>\n",
       "      <th>SEGMENT_DESC</th>\n",
       "      <th>CLASS_CODE</th>\n",
       "      <th>CLASS_DESC</th>\n",
       "      <th>DISCOUNT_FLAG</th>\n",
       "      <th>CROSS_SECTION</th>\n",
       "      <th>ASPECT_RATIO</th>\n",
       "      <th>RIM_SIZE</th>\n",
       "      <th>EMAIL_OPTIN_IND</th>\n",
       "      <th>AH1_RES_BUS_INDC</th>\n",
       "      <th>SUPP1_BUS_PANDER</th>\n",
       "    </tr>\n",
       "  </thead>\n",
       "  <tbody>\n",
       "    <tr>\n",
       "      <td>0</td>\n",
       "      <td>0</td>\n",
       "      <td>329316</td>\n",
       "      <td>990781090</td>\n",
       "      <td>2015-04-06</td>\n",
       "      <td>7001674</td>\n",
       "      <td>303538153.0</td>\n",
       "      <td>938227114</td>\n",
       "      <td>0.0</td>\n",
       "      <td>-0.25</td>\n",
       "      <td>CA</td>\n",
       "      <td>...</td>\n",
       "      <td>Lubrication Services</td>\n",
       "      <td>389.0</td>\n",
       "      <td>Oil Change</td>\n",
       "      <td>Y</td>\n",
       "      <td>NaN</td>\n",
       "      <td>NaN</td>\n",
       "      <td>NaN</td>\n",
       "      <td>Y</td>\n",
       "      <td>NaN</td>\n",
       "      <td>NaN</td>\n",
       "    </tr>\n",
       "    <tr>\n",
       "      <td>1</td>\n",
       "      <td>1</td>\n",
       "      <td>329316</td>\n",
       "      <td>990781090</td>\n",
       "      <td>2015-04-06</td>\n",
       "      <td>7004576</td>\n",
       "      <td>303538153.0</td>\n",
       "      <td>938227114</td>\n",
       "      <td>0.0</td>\n",
       "      <td>-3.60</td>\n",
       "      <td>CA</td>\n",
       "      <td>...</td>\n",
       "      <td>Lubrication Services</td>\n",
       "      <td>389.0</td>\n",
       "      <td>Oil Change</td>\n",
       "      <td>Y</td>\n",
       "      <td>NaN</td>\n",
       "      <td>NaN</td>\n",
       "      <td>NaN</td>\n",
       "      <td>Y</td>\n",
       "      <td>NaN</td>\n",
       "      <td>NaN</td>\n",
       "    </tr>\n",
       "    <tr>\n",
       "      <td>2</td>\n",
       "      <td>2</td>\n",
       "      <td>329316</td>\n",
       "      <td>990781090</td>\n",
       "      <td>2015-04-06</td>\n",
       "      <td>7003355</td>\n",
       "      <td>303538153.0</td>\n",
       "      <td>938227114</td>\n",
       "      <td>0.0</td>\n",
       "      <td>5.00</td>\n",
       "      <td>CA</td>\n",
       "      <td>...</td>\n",
       "      <td>Lubrication Services</td>\n",
       "      <td>389.0</td>\n",
       "      <td>Oil Change</td>\n",
       "      <td>N</td>\n",
       "      <td>NaN</td>\n",
       "      <td>NaN</td>\n",
       "      <td>NaN</td>\n",
       "      <td>Y</td>\n",
       "      <td>NaN</td>\n",
       "      <td>NaN</td>\n",
       "    </tr>\n",
       "    <tr>\n",
       "      <td>3</td>\n",
       "      <td>3</td>\n",
       "      <td>329316</td>\n",
       "      <td>990781090</td>\n",
       "      <td>2015-04-06</td>\n",
       "      <td>7001674</td>\n",
       "      <td>303538153.0</td>\n",
       "      <td>938227114</td>\n",
       "      <td>0.0</td>\n",
       "      <td>0.00</td>\n",
       "      <td>CA</td>\n",
       "      <td>...</td>\n",
       "      <td>Lubrication Services</td>\n",
       "      <td>389.0</td>\n",
       "      <td>Oil Change</td>\n",
       "      <td>Y</td>\n",
       "      <td>NaN</td>\n",
       "      <td>NaN</td>\n",
       "      <td>NaN</td>\n",
       "      <td>Y</td>\n",
       "      <td>NaN</td>\n",
       "      <td>NaN</td>\n",
       "    </tr>\n",
       "    <tr>\n",
       "      <td>4</td>\n",
       "      <td>4</td>\n",
       "      <td>329316</td>\n",
       "      <td>990781090</td>\n",
       "      <td>2015-04-06</td>\n",
       "      <td>7006125</td>\n",
       "      <td>303538153.0</td>\n",
       "      <td>938227114</td>\n",
       "      <td>1.0</td>\n",
       "      <td>60.00</td>\n",
       "      <td>CA</td>\n",
       "      <td>...</td>\n",
       "      <td>Lubrication Services</td>\n",
       "      <td>389.0</td>\n",
       "      <td>Oil Change</td>\n",
       "      <td>N</td>\n",
       "      <td>NaN</td>\n",
       "      <td>NaN</td>\n",
       "      <td>NaN</td>\n",
       "      <td>Y</td>\n",
       "      <td>NaN</td>\n",
       "      <td>NaN</td>\n",
       "    </tr>\n",
       "  </tbody>\n",
       "</table>\n",
       "<p>5 rows × 31 columns</p>\n",
       "</div>"
      ],
      "text/plain": [
       "   Unnamed: 0  STORE_ID    TRAN_ID        DATE  ARTICLE_ID     INDIV_ID  \\\n",
       "0           0    329316  990781090  2015-04-06     7001674  303538153.0   \n",
       "1           1    329316  990781090  2015-04-06     7004576  303538153.0   \n",
       "2           2    329316  990781090  2015-04-06     7003355  303538153.0   \n",
       "3           3    329316  990781090  2015-04-06     7001674  303538153.0   \n",
       "4           4    329316  990781090  2015-04-06     7006125  303538153.0   \n",
       "\n",
       "   VEHICLE_ID  UNITS  SALES STATE_CODE  ...          SEGMENT_DESC CLASS_CODE  \\\n",
       "0   938227114    0.0  -0.25         CA  ...  Lubrication Services      389.0   \n",
       "1   938227114    0.0  -3.60         CA  ...  Lubrication Services      389.0   \n",
       "2   938227114    0.0   5.00         CA  ...  Lubrication Services      389.0   \n",
       "3   938227114    0.0   0.00         CA  ...  Lubrication Services      389.0   \n",
       "4   938227114    1.0  60.00         CA  ...  Lubrication Services      389.0   \n",
       "\n",
       "   CLASS_DESC DISCOUNT_FLAG CROSS_SECTION  ASPECT_RATIO  RIM_SIZE  \\\n",
       "0  Oil Change             Y           NaN           NaN       NaN   \n",
       "1  Oil Change             Y           NaN           NaN       NaN   \n",
       "2  Oil Change             N           NaN           NaN       NaN   \n",
       "3  Oil Change             Y           NaN           NaN       NaN   \n",
       "4  Oil Change             N           NaN           NaN       NaN   \n",
       "\n",
       "  EMAIL_OPTIN_IND  AH1_RES_BUS_INDC SUPP1_BUS_PANDER  \n",
       "0               Y               NaN              NaN  \n",
       "1               Y               NaN              NaN  \n",
       "2               Y               NaN              NaN  \n",
       "3               Y               NaN              NaN  \n",
       "4               Y               NaN              NaN  \n",
       "\n",
       "[5 rows x 31 columns]"
      ]
     },
     "execution_count": 3,
     "metadata": {},
     "output_type": "execute_result"
    }
   ],
   "source": [
    "import pandas as pd\n",
    "df=pd.read_csv(\"AprOct15.csv\")\n",
    "df.head()"
   ]
  },
  {
   "cell_type": "code",
   "execution_count": 4,
   "metadata": {},
   "outputs": [
    {
     "name": "stdout",
     "output_type": "stream",
     "text": [
      "<class 'pandas.core.frame.DataFrame'>\n",
      "RangeIndex: 111256508 entries, 0 to 111256507\n",
      "Data columns (total 31 columns):\n",
      "Unnamed: 0          int64\n",
      "STORE_ID            int64\n",
      "TRAN_ID             int64\n",
      "DATE                object\n",
      "ARTICLE_ID          int64\n",
      "INDIV_ID            float64\n",
      "VEHICLE_ID          int64\n",
      "UNITS               float64\n",
      "SALES               float64\n",
      "STATE_CODE          object\n",
      "ZIP_CODE            int64\n",
      "MSA                 object\n",
      "MAKE                object\n",
      "MODEL               object\n",
      "SUB_MODEL           object\n",
      "MODEL_YEAR          float64\n",
      "PROD_GROUP_CODE     float64\n",
      "PROD_GROUP_DESC     object\n",
      "CATEGORY_CODE       float64\n",
      "CATEGORY_DESC       object\n",
      "SEGMENT_CODE        float64\n",
      "SEGMENT_DESC        object\n",
      "CLASS_CODE          float64\n",
      "CLASS_DESC          object\n",
      "DISCOUNT_FLAG       object\n",
      "CROSS_SECTION       object\n",
      "ASPECT_RATIO        object\n",
      "RIM_SIZE            object\n",
      "EMAIL_OPTIN_IND     object\n",
      "AH1_RES_BUS_INDC    object\n",
      "SUPP1_BUS_PANDER    object\n",
      "dtypes: float64(8), int64(6), object(17)\n",
      "memory usage: 25.7+ GB\n"
     ]
    }
   ],
   "source": [
    "df.info()"
   ]
  },
  {
   "cell_type": "code",
   "execution_count": 5,
   "metadata": {},
   "outputs": [],
   "source": [
    "df[\"MONTH\"]=[int(i[5:7]) for i in df[\"DATE\"]]"
   ]
  },
  {
   "cell_type": "code",
   "execution_count": 8,
   "metadata": {},
   "outputs": [
    {
     "data": {
      "image/png": "[encoded data removed]",
      "text/plain": [
       "<Figure size 720x576 with 1 Axes>"
      ]
     },
     "metadata": {
      "needs_background": "light"
     },
     "output_type": "display_data"
    }
   ],
   "source": [
    "import matplotlib.pyplot as plt\n",
    "import numpy as np\n",
    "df_pivot = pd.pivot_table(df,values=\"SALES\",index=\"MONTH\",aggfunc=np.sum)\n",
    "ax = df_pivot.plot(kind=\"bar\")\n",
    "fig = ax.get_figure()\n",
    "fig.set_size_inches(10, 8)\n",
    "ax.set_xlabel(\"Month\")\n",
    "ax.set_ylabel(\"Total Sales\")\n",
    "plt.show()"
   ]
  },
  {
   "cell_type": "code",
   "execution_count": 9,
   "metadata": {},
   "outputs": [
    {
     "data": {
      "image/png": "[encoded data removed]",
      "text/plain": [
       "<Figure size 720x576 with 1 Axes>"
      ]
     },
     "metadata": {
      "needs_background": "light"
     },
     "output_type": "display_data"
    }
   ],
   "source": [
    "import matplotlib.pyplot as plt\n",
    "import numpy as np\n",
    "df_pivot = pd.pivot_table(df,values=\"UNITS\",index=\"MONTH\",aggfunc=np.sum)\n",
    "ax = df_pivot.plot(kind=\"bar\")\n",
    "fig = ax.get_figure()\n",
    "fig.set_size_inches(10, 8)\n",
    "ax.set_xlabel(\"Month\")\n",
    "ax.set_ylabel(\"Units Sold\")\n",
    "plt.show()"
   ]
  },
  {
   "cell_type": "code",
   "execution_count": 10,
   "metadata": {},
   "outputs": [
    {
     "data": {
      "text/plain": [
       "array([nan, '16', '14', '17', 'NONE', '15', '18', '19', '20', '13', '22',\n",
       "       '1650', '1950', '21', '6', '1750', '12', '23', '2450', '24', '8',\n",
       "       '2250', '1450', '7', '10', '4', '9'], dtype=object)"
      ]
     },
     "execution_count": 10,
     "metadata": {},
     "output_type": "execute_result"
    }
   ],
   "source": [
    "df[\"RIM_SIZE\"].unique()"
   ]
  },
  {
   "cell_type": "code",
   "execution_count": 11,
   "metadata": {},
   "outputs": [
    {
     "data": {
      "text/plain": [
       "array(['0', '16', '14', '17', '15', '18', '19', '20', '13', '22', '1650',\n",
       "       '1950', '21', '6', '1750', '12', '23', '2450', '24', '8', '2250',\n",
       "       '1450', '7', '10', '4', '9'], dtype=object)"
      ]
     },
     "execution_count": 11,
     "metadata": {},
     "output_type": "execute_result"
    }
   ],
   "source": [
    "df[\"RIM_SIZE\"]=df[\"RIM_SIZE\"].fillna(\"0\")\n",
    "df[\"RIM_SIZE\"]=df[\"RIM_SIZE\"].replace(\"NONE\",\"0\")\n",
    "df[\"RIM_SIZE\"].unique()"
   ]
  },
  {
   "cell_type": "code",
   "execution_count": 13,
   "metadata": {},
   "outputs": [],
   "source": [
    "df[\"RIM_SIZE\"]=df[\"RIM_SIZE\"].astype(\"int64\")"
   ]
  },
  {
   "cell_type": "code",
   "execution_count": 14,
   "metadata": {},
   "outputs": [
    {
     "data": {
      "image/png": "[encoded data removed]",
      "text/plain": [
       "<Figure size 720x576 with 1 Axes>"
      ]
     },
     "metadata": {
      "needs_background": "light"
     },
     "output_type": "display_data"
    }
   ],
   "source": [
    "df_pivot = pd.pivot_table(df,values=\"RIM_SIZE\",index=\"MONTH\",aggfunc=np.mean)\n",
    "ax = df_pivot.plot(kind=\"bar\")\n",
    "fig = ax.get_figure()\n",
    "fig.set_size_inches(10, 8)\n",
    "ax.set_xlabel(\"Month\")\n",
    "ax.set_ylabel(\"Mean Rim Size\")\n",
    "plt.show()"
   ]
  },
  {
   "cell_type": "code",
   "execution_count": null,
   "metadata": {},
   "outputs": [],
   "source": []
  }
 ],
 "metadata": {
  "kernelspec": {
   "display_name": "Python 3",
   "language": "python",
   "name": "python3"
  },
  "language_info": {
   "codemirror_mode": {
    "name": "ipython",
    "version": 3
   },
   "file_extension": ".py",
   "mimetype": "text/x-python",
   "name": "python",
   "nbconvert_exporter": "python",
   "pygments_lexer": "ipython3",
   "version": "3.7.4"
  }
 },
 "nbformat": 4,
 "nbformat_minor": 2
}
