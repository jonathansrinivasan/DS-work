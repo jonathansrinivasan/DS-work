{
 "cells": [
  {
   "cell_type": "code",
   "execution_count": 27,
   "id": "8b7462fa",
   "metadata": {},
   "outputs": [],
   "source": [
    "import numpy as np\n",
    "import pandas as pd\n",
    "import sklearn"
   ]
  },
  {
   "cell_type": "code",
   "execution_count": 28,
   "id": "0e4ec2c9",
   "metadata": {},
   "outputs": [],
   "source": [
    "from sklearn.ensemble import RandomForestClassifier\n",
    "from sklearn.datasets import make_classification"
   ]
  },
  {
   "cell_type": "code",
   "execution_count": 29,
   "id": "ed796745",
   "metadata": {},
   "outputs": [],
   "source": [
    "dat15 = pd.read_csv('individuals15.csv')\n",
    "dat16 = pd.read_csv('individuals16.csv')\n",
    "dat17 = pd.read_csv('individuals17.csv')\n",
    "dat18 = pd.read_csv('individuals18.csv')"
   ]
  },
  {
   "cell_type": "code",
   "execution_count": 30,
   "id": "dab019c3",
   "metadata": {},
   "outputs": [
    {
     "name": "stderr",
     "output_type": "stream",
     "text": [
      "/var/folders/lr/hrpr063x28jd67wnc08d040w0000gn/T/ipykernel_17558/3664567194.py:1: FutureWarning: In a future version of pandas all arguments of DataFrame.drop except for the argument 'labels' will be keyword-only\n",
      "  dat15 = dat15.drop('Unnamed: 0',1)\n",
      "/var/folders/lr/hrpr063x28jd67wnc08d040w0000gn/T/ipykernel_17558/3664567194.py:2: FutureWarning: In a future version of pandas all arguments of DataFrame.drop except for the argument 'labels' will be keyword-only\n",
      "  dat16 = dat16.drop('Unnamed: 0',1)\n",
      "/var/folders/lr/hrpr063x28jd67wnc08d040w0000gn/T/ipykernel_17558/3664567194.py:3: FutureWarning: In a future version of pandas all arguments of DataFrame.drop except for the argument 'labels' will be keyword-only\n",
      "  dat17 = dat17.drop('Unnamed: 0',1)\n",
      "/var/folders/lr/hrpr063x28jd67wnc08d040w0000gn/T/ipykernel_17558/3664567194.py:4: FutureWarning: In a future version of pandas all arguments of DataFrame.drop except for the argument 'labels' will be keyword-only\n",
      "  dat18 = dat18.drop('Unnamed: 0',1)\n"
     ]
    }
   ],
   "source": [
    "dat15 = dat15.drop('Unnamed: 0',1)\n",
    "dat16 = dat16.drop('Unnamed: 0',1)\n",
    "dat17 = dat17.drop('Unnamed: 0',1)\n",
    "dat18 = dat18.drop('Unnamed: 0',1)"
   ]
  },
  {
   "cell_type": "code",
   "execution_count": 43,
   "id": "18bb3fa5",
   "metadata": {},
   "outputs": [],
   "source": [
    "dat_final = pd.concat([dat15,dat16,dat17])"
   ]
  },
  {
   "cell_type": "code",
   "execution_count": 44,
   "id": "8c2ed5e9",
   "metadata": {},
   "outputs": [],
   "source": [
    "final_model = RandomForestClassifier(max_depth = 10,n_estimators = 100,min_samples_split = 2,min_samples_leaf = 2)"
   ]
  },
  {
   "cell_type": "code",
   "execution_count": 46,
   "id": "dd60152a",
   "metadata": {},
   "outputs": [],
   "source": [
    "X_train = dat_final.drop(columns = ['indiv','label'])\n",
    "y_train = dat_final['label']\n",
    "X_test = dat18.drop(columns = ['indiv'])"
   ]
  },
  {
   "cell_type": "code",
   "execution_count": 48,
   "id": "b033403e",
   "metadata": {},
   "outputs": [],
   "source": [
    "indivs = dat18['indiv']\n",
    "preds = model.predict_proba(X_test)\n",
    "preds = pd.DataFrame(preds)\n",
    "preds = preds.join(indivs)\n",
    "pred100k = preds.sort_values(0).head(100000)['indiv']"
   ]
  },
  {
   "cell_type": "code",
   "execution_count": 49,
   "id": "7177d901",
   "metadata": {},
   "outputs": [],
   "source": [
    "pred100k.to_csv('final_list.csv')"
   ]
  }
 ],
 "metadata": {
  "kernelspec": {
   "display_name": "Python 3 (ipykernel)",
   "language": "python",
   "name": "python3"
  },
  "language_info": {
   "codemirror_mode": {
    "name": "ipython",
    "version": 3
   },
   "file_extension": ".py",
   "mimetype": "text/x-python",
   "name": "python",
   "nbconvert_exporter": "python",
   "pygments_lexer": "ipython3",
   "version": "3.9.7"
  }
 },
 "nbformat": 4,
 "nbformat_minor": 5
}
