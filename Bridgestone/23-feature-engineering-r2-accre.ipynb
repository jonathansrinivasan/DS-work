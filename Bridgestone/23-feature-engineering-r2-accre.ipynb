{
 "cells": [
  {
   "cell_type": "code",
   "execution_count": 1,
   "metadata": {},
   "outputs": [],
   "source": [
    "import pandas as pd\n",
    "import numpy as np\n",
    "import random"
   ]
  },
  {
   "cell_type": "code",
   "execution_count": 2,
   "metadata": {},
   "outputs": [],
   "source": [
    "pd.set_option('display.max_columns', None)\n",
    "pd.set_option('display.max_rows', None)"
   ]
  },
  {
   "cell_type": "code",
   "execution_count": 3,
   "metadata": {},
   "outputs": [],
   "source": [
    "dy = pd.read_csv(\n",
    "         '../../../AprOct15_trimmed.csv')"
   ]
  },
  {
   "cell_type": "code",
   "execution_count": 4,
   "metadata": {},
   "outputs": [],
   "source": [
    "dn = pd.read_csv(\n",
    "         '../../../Nov15_trimmed.csv')"
   ]
  },
  {
   "cell_type": "code",
   "execution_count": 5,
   "metadata": {},
   "outputs": [],
   "source": [
    "targets = dn[dn['PROD_GROUP_CODE'] == 5]['INDIV_ID'].unique()\n",
    "year_indivs = pd.DataFrame({'indiv':dy['INDIV_ID'].unique()})\n",
    "year_indivs['label'] = np.where(year_indivs['indiv'].isin(targets), 1, 0) "
   ]
  },
  {
   "cell_type": "markdown",
   "metadata": {},
   "source": [
    "## Model Age\n",
    "### Example of 2015 trimmed, Check the 0-1 proportion"
   ]
  },
  {
   "cell_type": "code",
   "execution_count": 6,
   "metadata": {},
   "outputs": [],
   "source": [
    "dy['MODEL_AGE'] = pd.to_datetime(dy['DATE'].min()).year - dy['MODEL_YEAR']"
   ]
  },
  {
   "cell_type": "code",
   "execution_count": 7,
   "metadata": {},
   "outputs": [],
   "source": [
    "less_than_15_modelage = dy.query('MODEL_AGE < 15')['VEHICLE_ID']"
   ]
  },
  {
   "cell_type": "code",
   "execution_count": 8,
   "metadata": {},
   "outputs": [],
   "source": [
    "indiv_less_than_15_modelage = dy[dy['VEHICLE_ID'].isin(less_than_15_modelage)]['INDIV_ID']"
   ]
  },
  {
   "cell_type": "code",
   "execution_count": 9,
   "metadata": {},
   "outputs": [],
   "source": [
    "year_indivs['indiv_less_than_15_modelage'] = np.where(year_indivs.indiv.isin(indiv_less_than_15_modelage), 1, 0)"
   ]
  },
  {
   "cell_type": "code",
   "execution_count": 10,
   "metadata": {},
   "outputs": [
    {
     "data": {
      "text/plain": [
       "1    2293525\n",
       "0     272040\n",
       "Name: indiv_less_than_15_modelage, dtype: int64"
      ]
     },
     "execution_count": 10,
     "metadata": {},
     "output_type": "execute_result"
    }
   ],
   "source": [
    "year_indivs['indiv_less_than_15_modelage'].value_counts()"
   ]
  },
  {
   "cell_type": "markdown",
   "metadata": {},
   "source": [
    "#### So, we can edit the model year to change the 0-1 proportion"
   ]
  },
  {
   "cell_type": "markdown",
   "metadata": {},
   "source": [
    "## MAKE\n",
    "### Example of 2015 trimmed, Check the 0-1 proportion"
   ]
  },
  {
   "cell_type": "code",
   "execution_count": 11,
   "metadata": {},
   "outputs": [
    {
     "name": "stdout",
     "output_type": "stream",
     "text": [
      "MAKE Data Miss Rate 0.029364163881582542\n",
      "MODEL Data Miss Rate 0.029364163881582542\n",
      "SUB_MODEL Data Miss Rate 0.17267235630775785\n"
     ]
    }
   ],
   "source": [
    "cat = ['MAKE', 'MODEL', 'SUB_MODEL']\n",
    "for i in cat:\n",
    "    dq = dy[i].groupby([dy['TRAN_ID'], dy['DATE']]).count().to_frame()\n",
    "    print(i,  'Data Miss Rate', len(dq[dq[i]==0]) / len(dq[i]))"
   ]
  },
  {
   "cell_type": "code",
   "execution_count": 12,
   "metadata": {},
   "outputs": [
    {
     "name": "stdout",
     "output_type": "stream",
     "text": [
      "MAKE top 10 share in transactions: 0.7266505603262451\n",
      "MODEL top 10 share in transactions: 0.11706154916957115\n",
      "SUB_MODEL top 10 share in transactions: 0.508766788625779\n"
     ]
    }
   ],
   "source": [
    "for i in cat:\n",
    "    T = dy[i].groupby([dy['TRAN_ID'], dy['DATE']]).value_counts().to_frame().rename(columns = {i:'count'})\n",
    "    T.reset_index(inplace =True)\n",
    "    T.drop('count', axis = 1, inplace = True)\n",
    "    T = T.groupby(i).count()\n",
    "    T.reset_index(inplace = True)\n",
    "    T.drop('DATE', axis = 1, inplace = True)\n",
    "    T.rename(columns = {'TRAN_ID':'total_trans'}, inplace = True)\n",
    "    print(i, 'top 10 share in transactions:', T.sort_values('total_trans', ascending = False)[:10].sum()[1]/T['total_trans'].sum())"
   ]
  },
  {
   "cell_type": "markdown",
   "metadata": {},
   "source": [
    "#### Using 2015 is good"
   ]
  },
  {
   "cell_type": "code",
   "execution_count": 13,
   "metadata": {},
   "outputs": [],
   "source": [
    "T = dy['MAKE'].groupby([dy['TRAN_ID'], dy['DATE']]).value_counts().to_frame().rename(columns = {'MAKE':'count'})\n",
    "T.reset_index(inplace =True)\n",
    "T.drop('count', axis = 1, inplace = True)\n",
    "T = T.groupby('MAKE').count()\n",
    "T.drop('DATE', axis = 1, inplace = True)\n",
    "T.rename(columns = {'TRAN_ID':'total transactions'}, inplace = True)"
   ]
  },
  {
   "cell_type": "code",
   "execution_count": 14,
   "metadata": {},
   "outputs": [],
   "source": [
    "top_10_make = T.sort_values('total transactions', ascending = False)[:10]"
   ]
  },
  {
   "cell_type": "code",
   "execution_count": 15,
   "metadata": {},
   "outputs": [],
   "source": [
    "top_10_make.reset_index(inplace =True)\n",
    "top_10_make = top_10_make['MAKE']"
   ]
  },
  {
   "cell_type": "code",
   "execution_count": 16,
   "metadata": {},
   "outputs": [],
   "source": [
    "indiv_top_10_make = dy[dy['MAKE'].isin(top_10_make)]['INDIV_ID']"
   ]
  },
  {
   "cell_type": "code",
   "execution_count": 17,
   "metadata": {},
   "outputs": [],
   "source": [
    "year_indivs['indiv_top_10_make'] = np.where(year_indivs.indiv.isin(indiv_top_10_make), 1, 0)"
   ]
  },
  {
   "cell_type": "code",
   "execution_count": 18,
   "metadata": {},
   "outputs": [
    {
     "data": {
      "text/plain": [
       "1    1927812\n",
       "0     637753\n",
       "Name: indiv_top_10_make, dtype: int64"
      ]
     },
     "execution_count": 18,
     "metadata": {},
     "output_type": "execute_result"
    }
   ],
   "source": [
    "year_indivs['indiv_top_10_make'].value_counts()"
   ]
  },
  {
   "cell_type": "markdown",
   "metadata": {},
   "source": [
    "#### Also, we can edit the model year to change the 0-1 proportion"
   ]
  },
  {
   "cell_type": "code",
   "execution_count": null,
   "metadata": {},
   "outputs": [],
   "source": []
  }
 ],
 "metadata": {
  "kernelspec": {
   "display_name": "Python 3",
   "language": "python",
   "name": "python3"
  },
  "language_info": {
   "codemirror_mode": {
    "name": "ipython",
    "version": 3
   },
   "file_extension": ".py",
   "mimetype": "text/x-python",
   "name": "python",
   "nbconvert_exporter": "python",
   "pygments_lexer": "ipython3",
   "version": "3.6.1"
  }
 },
 "nbformat": 4,
 "nbformat_minor": 2
}
